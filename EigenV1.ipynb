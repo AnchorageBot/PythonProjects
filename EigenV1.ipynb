{
  "nbformat": 4,
  "nbformat_minor": 0,
  "metadata": {
    "colab": {
      "provenance": [],
      "authorship_tag": "ABX9TyPT1o6dXcMFkx+LkMnGClj2"
    },
    "kernelspec": {
      "name": "python3",
      "display_name": "Python 3"
    },
    "language_info": {
      "name": "python"
    }
  },
  "cells": [
    {
      "cell_type": "markdown",
      "source": [
        "\n",
        "\n",
        "# Eigenvalues and Eigenvectors Simulation\n",
        "\n",
        "Ref:\n",
        "\n",
        "  > Eigenvalues & Eigenvectors : Data Science Basics - Ritvikmath"
      ],
      "metadata": {
        "id": "P_TosWdO5k58"
      }
    },
    {
      "cell_type": "markdown",
      "source": [
        "Greek Symbols\n",
        "\n",
        "> In order to display greek symbols in jupyter notebooks type a dollar symbol, followed by a back slash, then type out the name of the greek symbol next to the backslash, and then type a dollar symbol\n",
        "\n",
        "> Capitalizing or using all lower case will provide upper and lower case greek symbols such as lambda:\n",
        "\n",
        "\n",
        "*   $ \\Lambda $\n",
        "*   $ \\lambda $\n",
        "\n",
        "\n"
      ],
      "metadata": {
        "id": "WFswGSjZ8sEK"
      }
    },
    {
      "cell_type": "markdown",
      "source": [
        "We are going to work on defining and drafting functions & scripts that describe $ eigenvalues $ and $ eigenvectors $, which are concepts used in linear algebra in order to solve problems in engineering and other disciplines.\n",
        "\n",
        "* From wikipedia\n",
        "\n",
        "* In linear algebra, it is often important to know which vectors have their directions unchanged by a linear transformation. An $ eigenvector $ or characteristic vector is such a vector.\n",
        "\n",
        "* An $ eigenvector $ of a linear transformation is scaled by a constant factor when the linear transformation is applied to it.\n",
        "\n",
        "* The scaling (or multipling) factor is known as an $ eigenvalue $\n",
        "\n",
        "* We are assuming that we are in finite dimensional space and will use matricies\n",
        "\n",
        "* A is a matrix\n",
        "\n",
        "* x is a $ eigenvector $\n",
        "\n",
        "* $ \\lambda $ is an $ eigenvalue $\n",
        "\n",
        "* Ax = $ \\lambda $ x"
      ],
      "metadata": {
        "id": "y6RvUyuzPJI7"
      }
    },
    {
      "cell_type": "markdown",
      "source": [
        "Import the following library tools"
      ],
      "metadata": {
        "id": "NxQ1vPCN8CM4"
      }
    },
    {
      "cell_type": "code",
      "execution_count": null,
      "metadata": {
        "id": "LTu67__z5euP"
      },
      "outputs": [],
      "source": [
        "import numpy as np\n",
        "import matplotlib.pyplot as plt\n",
        "from time import time"
      ]
    }
  ]
}