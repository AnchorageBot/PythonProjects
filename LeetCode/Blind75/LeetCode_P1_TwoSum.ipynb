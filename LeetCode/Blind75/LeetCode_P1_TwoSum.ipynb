{
  "nbformat": 4,
  "nbformat_minor": 0,
  "metadata": {
    "colab": {
      "provenance": [],
      "authorship_tag": "ABX9TyP66QHG4sOVAihTNbcZbfHW"
    },
    "kernelspec": {
      "name": "python3",
      "display_name": "Python 3"
    },
    "language_info": {
      "name": "python"
    }
  },
  "cells": [
    {
      "cell_type": "markdown",
      "source": [
        "# Problem # 1 - Two Sum\n",
        "\n",
        "Our references:\n",
        "* [Blind75 - NeetCode - Youtube](https://youtube.com/playlist?list=PLot-Xpze53ldVwtstag2TL4HQhAnC8ATf&si=9iyyjzw_TOhxVSf0)\n",
        "* [Stackoverflow - Bruteforce](https://stackoverflow.com/questions/54016366/python-two-sum-brute-force-approach)\n",
        "* [Python](https://www.python.org/), version 3.12.2\n",
        "* [Python for Everybody - Dr Chuck](https://www.py4e.com/book)"
      ],
      "metadata": {
        "id": "21cZPm_CCIBB"
      }
    },
    {
      "cell_type": "markdown",
      "source": [
        "First try - Brute Force - Stackoverflow\n",
        "\n",
        "* Given:\n",
        "  * Array [2,1,5,3]\n",
        "* Find\n",
        "  * Return indicies such that they sum to a target of 4\n",
        "* Solution:"
      ],
      "metadata": {
        "id": "XLcQkS-qCnZ5"
      }
    },
    {
      "cell_type": "code",
      "source": [
        "class Solution:\n",
        "    def twoSum(self, nums, target):\n",
        "        for i, a in enumerate(nums, start=0):\n",
        "            for j, b in enumerate(nums[i+1:], start=0):\n",
        "                if a+b==target:\n",
        "                    return [i, j+i+1]\n",
        "\n",
        "test_case = Solution()\n",
        "array = [2, 1, 5, 3]\n",
        "print(test_case.twoSum(array, 4))\n",
        "\n",
        "#array = [2, 1, 5, 3]\n",
        "#print(test_case.twoSum(array, 3))\n",
        "\n",
        "#array = [2, 1, 5, 3]\n",
        "#print(test_case.twoSum(array, 8))"
      ],
      "metadata": {
        "colab": {
          "base_uri": "https://localhost:8080/"
        },
        "id": "0rgOQcC8LveU",
        "outputId": "5aff6942-ad8b-4610-9f36-ec690b040f3b"
      },
      "execution_count": 27,
      "outputs": [
        {
          "output_type": "stream",
          "name": "stdout",
          "text": [
            "[1, 3]\n"
          ]
        }
      ]
    },
    {
      "cell_type": "markdown",
      "source": [
        "Second Try - Colab AI\n",
        "* Q: given array[2,1,5,3], return indices such that they sum to a target of 4\n",
        "* R: This code works by iterating through the list and keeping track of the seen elements in a dictionary. For each element, it checks if its complement (the value that would sum to the target) is already present in the dictionary. If it is, then the indices of the current element and the complement are returned. Otherwise, the current element is added to the dictionary."
      ],
      "metadata": {
        "id": "8Kwyyr_EQHm_"
      }
    },
    {
      "cell_type": "code",
      "source": [
        "def find_indices(nums, target):\n",
        "  \"\"\"\n",
        "  Finds indices of two elements in a list that sum to a target value.\n",
        "\n",
        "  Args:\n",
        "      nums: A list of integers.\n",
        "      target: The target sum.\n",
        "\n",
        "  Returns:\n",
        "      A list of two indices, or None if no such indices exist.\n",
        "  \"\"\"\n",
        "  seen = {}\n",
        "  for i, num in enumerate(nums):\n",
        "    complement = target - num\n",
        "    if complement in seen:\n",
        "      return [seen[complement], i]\n",
        "    seen[num] = i\n",
        "  return None\n",
        "\n",
        "# Example usage\n",
        "nums = [2, 1, 5, 3]\n",
        "target = 4\n",
        "indices = find_indices(nums, target)\n",
        "if indices is not None:\n",
        "  print(f\"Indices {indices[0]} and {indices[1]} sum to {target}\")\n",
        "else:\n",
        "  print(f\"No indices found that sum to {target}\")"
      ],
      "metadata": {
        "colab": {
          "base_uri": "https://localhost:8080/"
        },
        "id": "jcQvm40VP1df",
        "outputId": "b2f5478d-d3da-4d48-b192-005204f86e02"
      },
      "execution_count": 24,
      "outputs": [
        {
          "output_type": "stream",
          "name": "stdout",
          "text": [
            "Indices 1 and 3 sum to 4\n"
          ]
        }
      ]
    },
    {
      "cell_type": "markdown",
      "source": [
        "Third Try - YouTube and Colab AI"
      ],
      "metadata": {
        "id": "XrsSpcx_UmGt"
      }
    },
    {
      "cell_type": "code",
      "source": [
        "from typing import List\n",
        "\n",
        "class Solution:\n",
        "    def twoSum(self, nums: List[int], target: int) -> List[int]:\n",
        "        prevMap = {} # val : index\n",
        "\n",
        "        for i, n in enumerate(nums):\n",
        "            diff = target - n\n",
        "            if diff in prevMap:\n",
        "              return [prevMap[diff], i]\n",
        "            prevMap[n] = i\n",
        "\n",
        "        return\n",
        "\n",
        "test_case = Solution()\n",
        "List = [2, 1, 5, 3]\n",
        "print(test_case.twoSum(List, 4))"
      ],
      "metadata": {
        "colab": {
          "base_uri": "https://localhost:8080/"
        },
        "id": "bZ-6GxPqUzQ3",
        "outputId": "e4b231af-1385-4fdd-ca68-5fe4f87187b9"
      },
      "execution_count": 35,
      "outputs": [
        {
          "output_type": "stream",
          "name": "stdout",
          "text": [
            "[1, 3]\n"
          ]
        }
      ]
    }
  ]
}
