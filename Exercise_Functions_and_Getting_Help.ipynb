{
  "metadata": {
    "kernelspec": {
      "language": "python",
      "display_name": "Python 3",
      "name": "python3"
    },
    "language_info": {
      "name": "python",
      "version": "3.10.14",
      "mimetype": "text/x-python",
      "codemirror_mode": {
        "name": "ipython",
        "version": 3
      },
      "pygments_lexer": "ipython3",
      "nbconvert_exporter": "python",
      "file_extension": ".py"
    },
    "kaggle": {
      "accelerator": "none",
      "dataSources": [],
      "isInternetEnabled": false,
      "language": "python",
      "sourceType": "notebook",
      "isGpuEnabled": false
    },
    "colab": {
      "name": "Exercise: Functions and Getting Help",
      "provenance": []
    }
  },
  "nbformat_minor": 0,
  "nbformat": 4,
  "cells": [
    {
      "cell_type": "markdown",
      "source": [
        "**This notebook is an exercise in the [Python](https://www.kaggle.com/learn/python) course.  You can reference the tutorial at [this link](https://www.kaggle.com/colinmorris/functions-and-getting-help).**\n",
        "\n",
        "---\n"
      ],
      "metadata": {
        "id": "mKyXnO6eSCcH"
      }
    },
    {
      "cell_type": "markdown",
      "source": [
        "Functions are powerful. Try writing some yourself.\n",
        "\n",
        "As before, don't forget to run the setup code below before jumping into question 1."
      ],
      "metadata": {
        "id": "4byWNoJQSCcK"
      }
    },
    {
      "cell_type": "code",
      "source": [
        "# SETUP. You don't need to worry for now about what this code does or how it works.\n",
        "from learntools.core import binder; binder.bind(globals())\n",
        "from learntools.python.ex2 import *\n",
        "print('Setup complete.')"
      ],
      "metadata": {
        "_kg_hide-input": true,
        "_kg_hide-output": true,
        "execution": {
          "iopub.status.busy": "2024-11-24T17:30:11.577923Z",
          "iopub.execute_input": "2024-11-24T17:30:11.578318Z",
          "iopub.status.idle": "2024-11-24T17:30:12.820606Z",
          "shell.execute_reply.started": "2024-11-24T17:30:11.578281Z",
          "shell.execute_reply": "2024-11-24T17:30:12.819574Z"
        },
        "trusted": true,
        "id": "2i6gpdZySCcK",
        "outputId": "7dc72b8c-63f9-482b-db92-14292cb9dbfd"
      },
      "outputs": [
        {
          "name": "stdout",
          "text": "Setup complete.\n",
          "output_type": "stream"
        }
      ],
      "execution_count": null
    },
    {
      "cell_type": "markdown",
      "source": [
        "# 1.\n",
        "\n",
        "Complete the body of the following function according to its docstring.\n",
        "\n",
        "HINT: Python has a built-in function `round`."
      ],
      "metadata": {
        "id": "A115n1pCSCcM"
      }
    },
    {
      "cell_type": "markdown",
      "source": [
        "def round_to_two_places(num):\n",
        "    \"\"\"Return the given number rounded to two decimal places.\n",
        "    \n",
        "    >>> round_to_two_places(3.14159)\n",
        "    3.14\n",
        "    \"\"\"\n",
        "    # Replace this body with your own code.\n",
        "    # (\"pass\" is a keyword that does literally nothing. We used it as a placeholder\n",
        "    # because after we begin a code block, Python requires at least one line of code)\n",
        "    \n",
        "    num = 3.14159\n",
        "    round_num = round(num,2)\n",
        "    print(round_num)\n",
        "    \n",
        "    return(round(num,2))\n",
        "\n",
        "# Check your answer\n",
        "q1.check()"
      ],
      "metadata": {
        "execution": {
          "iopub.status.busy": "2024-11-23T23:43:59.162496Z",
          "iopub.execute_input": "2024-11-23T23:43:59.162922Z",
          "iopub.status.idle": "2024-11-23T23:43:59.173023Z",
          "shell.execute_reply.started": "2024-11-23T23:43:59.162885Z",
          "shell.execute_reply": "2024-11-23T23:43:59.171819Z"
        },
        "id": "3lWbIeWrSCcM"
      }
    },
    {
      "cell_type": "code",
      "source": [
        "help(round)"
      ],
      "metadata": {
        "trusted": true,
        "execution": {
          "iopub.status.busy": "2024-11-23T23:24:27.178268Z",
          "iopub.execute_input": "2024-11-23T23:24:27.178744Z",
          "iopub.status.idle": "2024-11-23T23:24:27.185237Z",
          "shell.execute_reply.started": "2024-11-23T23:24:27.178707Z",
          "shell.execute_reply": "2024-11-23T23:24:27.184005Z"
        },
        "id": "fvzV6_mBSCcM",
        "outputId": "1b4651bc-d463-4fb9-d100-a1a13cc433db"
      },
      "outputs": [
        {
          "name": "stdout",
          "text": "Help on built-in function round in module builtins:\n\nround(number, ndigits=None)\n    Round a number to a given precision in decimal digits.\n    \n    The return value is an integer if ndigits is omitted or None.  Otherwise\n    the return value has the same type as the number.  ndigits may be negative.\n\n",
          "output_type": "stream"
        }
      ],
      "execution_count": null
    },
    {
      "cell_type": "code",
      "source": [
        "# Uncomment the following for a hint\n",
        "q1.hint()\n",
        "# Or uncomment the following to peek at the solution\n",
        "q1.solution()"
      ],
      "metadata": {
        "execution": {
          "iopub.status.busy": "2024-11-23T23:22:38.217243Z",
          "iopub.execute_input": "2024-11-23T23:22:38.217624Z",
          "iopub.status.idle": "2024-11-23T23:22:38.230784Z",
          "shell.execute_reply.started": "2024-11-23T23:22:38.217563Z",
          "shell.execute_reply": "2024-11-23T23:22:38.229665Z"
        },
        "trusted": true,
        "id": "yC6BDmqtSCcM",
        "outputId": "bc5d102b-b6c9-436d-a6d0-be985b6b430b"
      },
      "outputs": [
        {
          "output_type": "display_data",
          "data": {
            "text/plain": "<IPython.core.display.Javascript object>",
            "application/javascript": "parent.postMessage({\"jupyterEvent\": \"custom.exercise_interaction\", \"data\": {\"interactionType\": 2, \"questionType\": 2, \"questionId\": \"1_RoundFunctionProblem\", \"learnToolsVersion\": \"0.3.4\", \"valueTowardsCompletion\": 0.0, \"failureMessage\": \"\", \"exceptionClass\": \"\", \"trace\": \"\", \"outcomeType\": 4}}, \"*\")"
          },
          "metadata": {}
        },
        {
          "output_type": "display_data",
          "data": {
            "text/plain": "Hint: Run `help(round)` in the console (or in a code cell) to learn more about the round function. You'll need to use the function's optional second argument.",
            "text/markdown": "<span style=\"color:#3366cc\">Hint:</span> Run `help(round)` in the console (or in a code cell) to learn more about the round function. You'll need to use the function's optional second argument."
          },
          "metadata": {}
        },
        {
          "output_type": "display_data",
          "data": {
            "text/plain": "<IPython.core.display.Javascript object>",
            "application/javascript": "parent.postMessage({\"jupyterEvent\": \"custom.exercise_interaction\", \"data\": {\"interactionType\": 3, \"questionType\": 2, \"questionId\": \"1_RoundFunctionProblem\", \"learnToolsVersion\": \"0.3.4\", \"valueTowardsCompletion\": 0.0, \"failureMessage\": \"\", \"exceptionClass\": \"\", \"trace\": \"\", \"outcomeType\": 4}}, \"*\")"
          },
          "metadata": {}
        },
        {
          "output_type": "display_data",
          "data": {
            "text/plain": "Solution: \n```python\nreturn round(num, 2)\n```",
            "text/markdown": "<span style=\"color:#33cc99\">Solution:</span> \n```python\nreturn round(num, 2)\n```"
          },
          "metadata": {}
        }
      ],
      "execution_count": null
    },
    {
      "cell_type": "code",
      "source": [
        "def round_pi(pi):\n",
        "    \"\"\" Round a number to a given precision in decimal digits\"\"\"\n",
        "    round_x = round(pi,1)\n",
        "    return(round_x)\n",
        "\n",
        "pi = 3.14159\n",
        "round_pi(pi)"
      ],
      "metadata": {
        "trusted": true,
        "execution": {
          "iopub.status.busy": "2024-11-23T23:40:58.731347Z",
          "iopub.execute_input": "2024-11-23T23:40:58.731784Z",
          "iopub.status.idle": "2024-11-23T23:40:58.739379Z",
          "shell.execute_reply.started": "2024-11-23T23:40:58.731746Z",
          "shell.execute_reply": "2024-11-23T23:40:58.738205Z"
        },
        "id": "g78PItb0SCcN",
        "outputId": "ba696e6c-e592-4165-cba0-a15d90dff7bb"
      },
      "outputs": [
        {
          "execution_count": 16,
          "output_type": "execute_result",
          "data": {
            "text/plain": "3.1"
          },
          "metadata": {}
        }
      ],
      "execution_count": null
    },
    {
      "cell_type": "markdown",
      "source": [
        "# 2.\n",
        "The help for `round` says that `ndigits` (the second argument) may be negative.\n",
        "What do you think will happen when it is? Try some examples in the following cell."
      ],
      "metadata": {
        "id": "BJTCetDbSCcN"
      }
    },
    {
      "cell_type": "code",
      "source": [
        "# Put your test code here\n",
        "num = 3.14159\n",
        "round(num, -1)"
      ],
      "metadata": {
        "execution": {
          "iopub.status.busy": "2024-11-24T17:30:34.937798Z",
          "iopub.execute_input": "2024-11-24T17:30:34.938331Z",
          "iopub.status.idle": "2024-11-24T17:30:34.945006Z",
          "shell.execute_reply.started": "2024-11-24T17:30:34.93829Z",
          "shell.execute_reply": "2024-11-24T17:30:34.944047Z"
        },
        "trusted": true,
        "id": "h3LhTbm9SCcN",
        "outputId": "a23f728a-fb0d-4e7e-8b3f-3adc9b888617"
      },
      "outputs": [
        {
          "execution_count": 4,
          "output_type": "execute_result",
          "data": {
            "text/plain": "0.0"
          },
          "metadata": {}
        }
      ],
      "execution_count": null
    },
    {
      "cell_type": "markdown",
      "source": [
        "Can you think of a case where this would be useful?  Once you're ready, run the code cell below to see the answer and to receive credit for completing the problem."
      ],
      "metadata": {
        "id": "eaJyRLLVSCcN"
      }
    },
    {
      "cell_type": "code",
      "source": [
        "# Check your answer (Run this code cell to receive credit!)\n",
        "q2.solution()"
      ],
      "metadata": {
        "execution": {
          "iopub.status.busy": "2024-11-24T17:30:41.347727Z",
          "iopub.execute_input": "2024-11-24T17:30:41.348137Z",
          "iopub.status.idle": "2024-11-24T17:30:41.356698Z",
          "shell.execute_reply.started": "2024-11-24T17:30:41.3481Z",
          "shell.execute_reply": "2024-11-24T17:30:41.35556Z"
        },
        "trusted": true,
        "id": "OzIi333bSCcN",
        "outputId": "eb8d71d4-9a54-4d1b-e8fc-9747a3239741"
      },
      "outputs": [
        {
          "output_type": "display_data",
          "data": {
            "text/plain": "<IPython.core.display.Javascript object>",
            "application/javascript": "parent.postMessage({\"jupyterEvent\": \"custom.exercise_interaction\", \"data\": {\"interactionType\": 3, \"questionType\": 4, \"questionId\": \"2_RoundNdigitsProblem\", \"learnToolsVersion\": \"0.3.4\", \"valueTowardsCompletion\": 0.0, \"failureMessage\": \"\", \"exceptionClass\": \"\", \"trace\": \"\", \"outcomeType\": 4}}, \"*\")"
          },
          "metadata": {}
        },
        {
          "output_type": "display_data",
          "data": {
            "text/plain": "Solution: As you've seen, `ndigits=-1` rounds to the nearest 10, `ndigits=-2` rounds to the nearest 100 and so on. Where might this be useful? Suppose we're dealing with large numbers:\n\n> The area of Finland is 338,424 km²  \n> The area of Greenland is 2,166,086 km²\n\nWe probably don't care whether it's really 338,424, or 338,425, or 338,177. All those digits of accuracy are just distracting. We can chop them off by calling `round()` with `ndigits=-3`:\n\n> The area of Finland is 338,000 km²  \n> The area of Greenland is 2,166,000 km²\n\n(We'll talk about how we would get the commas later when we talk about string formatting :))",
            "text/markdown": "<span style=\"color:#33cc99\">Solution:</span> As you've seen, `ndigits=-1` rounds to the nearest 10, `ndigits=-2` rounds to the nearest 100 and so on. Where might this be useful? Suppose we're dealing with large numbers:\n\n> The area of Finland is 338,424 km²  \n> The area of Greenland is 2,166,086 km²\n\nWe probably don't care whether it's really 338,424, or 338,425, or 338,177. All those digits of accuracy are just distracting. We can chop them off by calling `round()` with `ndigits=-3`:\n\n> The area of Finland is 338,000 km²  \n> The area of Greenland is 2,166,000 km²\n\n(We'll talk about how we would get the commas later when we talk about string formatting :))\n"
          },
          "metadata": {}
        }
      ],
      "execution_count": null
    },
    {
      "cell_type": "code",
      "source": [
        "def round_area(country_name, country_area):\n",
        "    \"\"\"Rounds country area\"\"\"\n",
        "    print(f\"{country_name}'s rounded area, in square kilometers, is\")\n",
        "    return(round(country_area,-3))\n",
        "\n",
        "\n",
        "round_area(\"Finland\", 338424)"
      ],
      "metadata": {
        "trusted": true,
        "execution": {
          "iopub.status.busy": "2024-11-24T17:44:05.658196Z",
          "iopub.execute_input": "2024-11-24T17:44:05.658597Z",
          "iopub.status.idle": "2024-11-24T17:44:05.666164Z",
          "shell.execute_reply.started": "2024-11-24T17:44:05.65856Z",
          "shell.execute_reply": "2024-11-24T17:44:05.665138Z"
        },
        "id": "fAPuYce9SCcO",
        "outputId": "de703d75-bfb4-4f79-f1c1-a3110ae0efcc"
      },
      "outputs": [
        {
          "name": "stdout",
          "text": "Finland's rounded area, in square kilometers, is\n",
          "output_type": "stream"
        },
        {
          "execution_count": 11,
          "output_type": "execute_result",
          "data": {
            "text/plain": "338000"
          },
          "metadata": {}
        }
      ],
      "execution_count": null
    },
    {
      "cell_type": "code",
      "source": [
        "def round_area(country_name, country_area):\n",
        "    \"\"\"\n",
        "    Calculates and returns the rounded area of a country to the nearest thousand.\n",
        "\n",
        "    Args:\n",
        "        country_name (str): Name of the country\n",
        "        country_area (float): Area of the country in square kilometers\n",
        "\n",
        "    Returns:\n",
        "        float: Rounded area to the nearest thousand\n",
        "    \"\"\"\n",
        "    print(f\"{country_name}'s rounded area, in square kilometers, is\")\n",
        "    return round(country_area, -3)\n",
        "\n",
        "# Example usage\n",
        "result = round_area(\"Finland\", 338424)\n",
        "print(result)  # 338000"
      ],
      "metadata": {
        "trusted": true,
        "execution": {
          "iopub.status.busy": "2024-11-24T17:44:36.798351Z",
          "iopub.execute_input": "2024-11-24T17:44:36.798871Z",
          "iopub.status.idle": "2024-11-24T17:44:36.805017Z",
          "shell.execute_reply.started": "2024-11-24T17:44:36.798827Z",
          "shell.execute_reply": "2024-11-24T17:44:36.804008Z"
        },
        "id": "8VuyyZcPSCcO",
        "outputId": "13f82175-964d-4901-b325-658efc840d93"
      },
      "outputs": [
        {
          "name": "stdout",
          "text": "Finland's rounded area, in square kilometers, is\n338000\n",
          "output_type": "stream"
        }
      ],
      "execution_count": null
    },
    {
      "cell_type": "markdown",
      "source": [
        "# 3.\n",
        "\n",
        "In the previous exercise, the candy-sharing friends Alice, Bob and Carol tried to split candies evenly. For the sake of their friendship, any candies left over would be smashed. For example, if they collectively bring home 91 candies, they'll take 30 each and smash 1.\n",
        "\n",
        "Below is a simple function that will calculate the number of candies to smash for *any* number of total candies.\n",
        "\n",
        "Modify it so that it optionally takes a second argument representing the number of friends the candies are being split between. If no second argument is provided, it should assume 3 friends, as before.\n",
        "\n",
        "Update the docstring to reflect this new behaviour."
      ],
      "metadata": {
        "id": "FOUWaHX6SCcO"
      }
    },
    {
      "cell_type": "code",
      "source": [
        "def to_smash(total_candies=10, number_friends=3):\n",
        "    \"\"\"Return the number of leftover candies that must be smashed after distributing\n",
        "    the given number of candies evenly between the given number of friends.\n",
        "\n",
        "    >>> to_smash(10,3)\n",
        "    1\n",
        "    \"\"\"\n",
        "\n",
        "    return total_candies % number_friends\n",
        "\n",
        "# Check your answer\n",
        "q3.check()"
      ],
      "metadata": {
        "execution": {
          "iopub.status.busy": "2024-11-24T17:45:16.98803Z",
          "iopub.execute_input": "2024-11-24T17:45:16.988432Z",
          "iopub.status.idle": "2024-11-24T17:45:16.997568Z",
          "shell.execute_reply.started": "2024-11-24T17:45:16.988395Z",
          "shell.execute_reply": "2024-11-24T17:45:16.996534Z"
        },
        "trusted": true,
        "id": "vyJa1p31SCcO",
        "outputId": "d2ef7891-ffd3-4e61-ca83-97ed0638d470"
      },
      "outputs": [
        {
          "output_type": "display_data",
          "data": {
            "text/plain": "<IPython.core.display.Javascript object>",
            "application/javascript": "parent.postMessage({\"jupyterEvent\": \"custom.exercise_interaction\", \"data\": {\"outcomeType\": 1, \"valueTowardsCompletion\": 0.16666666666666666, \"interactionType\": 1, \"questionType\": 2, \"questionId\": \"3_CandySmashingFunctionProblem\", \"learnToolsVersion\": \"0.3.4\", \"failureMessage\": \"\", \"exceptionClass\": \"\", \"trace\": \"\"}}, \"*\")"
          },
          "metadata": {}
        },
        {
          "output_type": "display_data",
          "data": {
            "text/plain": "Correct",
            "text/markdown": "<span style=\"color:#33cc33\">Correct</span>"
          },
          "metadata": {}
        }
      ],
      "execution_count": null
    },
    {
      "cell_type": "code",
      "source": [
        "#q3.hint()"
      ],
      "metadata": {
        "id": "E1WceSdASCcO"
      },
      "outputs": [],
      "execution_count": null
    },
    {
      "cell_type": "code",
      "source": [
        "q3.solution()"
      ],
      "metadata": {
        "execution": {
          "iopub.status.busy": "2021-08-08T13:20:18.927486Z",
          "iopub.execute_input": "2021-08-08T13:20:18.927857Z",
          "iopub.status.idle": "2021-08-08T13:20:18.93658Z",
          "shell.execute_reply.started": "2021-08-08T13:20:18.927823Z",
          "shell.execute_reply": "2021-08-08T13:20:18.935602Z"
        },
        "trusted": true,
        "id": "CZgCpG_RSCcO"
      },
      "outputs": [],
      "execution_count": null
    },
    {
      "cell_type": "markdown",
      "source": [
        "# 4. (Optional)\n",
        "\n",
        "It may not be fun, but reading and understanding error messages will be an important part of your Python career.\n",
        "\n",
        "Each code cell below contains some commented buggy code. For each cell...\n",
        "\n",
        "1. Read the code and predict what you think will happen when it's run.\n",
        "2. Then uncomment the code and run it to see what happens. (**Tip**: In the kernel editor, you can highlight several lines and press `ctrl`+`/` to toggle commenting.)\n",
        "3. Fix the code (so that it accomplishes its intended purpose without throwing an exception)\n",
        "\n",
        "<!-- TODO: should this be autochecked? Delta is probably pretty small. -->"
      ],
      "metadata": {
        "id": "V9Azlf_SSCcP"
      }
    },
    {
      "cell_type": "code",
      "source": [
        "# ruound_to_two_places(9.9999)\n",
        "def round_two_places(num):\n",
        "    return(round(num,2))\n",
        "\n",
        "round_two_places(9.9999)"
      ],
      "metadata": {
        "execution": {
          "iopub.status.busy": "2021-08-08T13:37:42.552102Z",
          "iopub.execute_input": "2021-08-08T13:37:42.552635Z",
          "iopub.status.idle": "2021-08-08T13:37:42.561551Z",
          "shell.execute_reply.started": "2021-08-08T13:37:42.552595Z",
          "shell.execute_reply": "2021-08-08T13:37:42.560851Z"
        },
        "trusted": true,
        "id": "RTIif3Y5SCcP"
      },
      "outputs": [],
      "execution_count": null
    },
    {
      "cell_type": "code",
      "source": [],
      "metadata": {
        "id": "kLe_LwtJSCcP"
      },
      "outputs": [],
      "execution_count": null
    },
    {
      "cell_type": "markdown",
      "source": [],
      "metadata": {
        "id": "ftcCUZstSCcP"
      }
    },
    {
      "cell_type": "markdown",
      "source": [],
      "metadata": {
        "id": "-CDxlxxySCcP"
      }
    },
    {
      "cell_type": "code",
      "source": [
        "# x = -10\n",
        "# y = 5\n",
        "# # Which of the two variables above has the smallest absolute value?\n",
        "# smallest_abs = min(abs(x, y))\n",
        "\n",
        "def min_abs_value(x,y):\n",
        "    return(min(abs(x), abs(y)))\n",
        "\n",
        "min_abs_value(-10,25)"
      ],
      "metadata": {
        "execution": {
          "iopub.status.busy": "2021-08-08T14:01:54.020459Z",
          "iopub.execute_input": "2021-08-08T14:01:54.020795Z",
          "iopub.status.idle": "2021-08-08T14:01:54.027956Z",
          "shell.execute_reply.started": "2021-08-08T14:01:54.020766Z",
          "shell.execute_reply": "2021-08-08T14:01:54.026955Z"
        },
        "trusted": true,
        "id": "D1CpZS42SCcP"
      },
      "outputs": [],
      "execution_count": null
    },
    {
      "cell_type": "code",
      "source": [
        "# def f(x):\n",
        "#     y = abs(x)\n",
        "# return y\n",
        "\n",
        "# print(f(5))\n",
        "\n",
        "def function_of_x(x):\n",
        "    return(abs(x))\n",
        "\n",
        "function_of_x(-7)"
      ],
      "metadata": {
        "execution": {
          "iopub.status.busy": "2021-08-08T14:12:09.922245Z",
          "iopub.execute_input": "2021-08-08T14:12:09.922605Z",
          "iopub.status.idle": "2021-08-08T14:12:09.928926Z",
          "shell.execute_reply.started": "2021-08-08T14:12:09.922563Z",
          "shell.execute_reply": "2021-08-08T14:12:09.928235Z"
        },
        "trusted": true,
        "id": "6tTexLhESCcP"
      },
      "outputs": [],
      "execution_count": null
    },
    {
      "cell_type": "markdown",
      "source": [
        "# Keep Going\n",
        "\n",
        "Nice job with the code. Next up, you'll learn about *conditionals*, which you'll need to **[write interesting programs](https://www.kaggle.com/colinmorris/booleans-and-conditionals)**."
      ],
      "metadata": {
        "id": "ZL0RqcPjSCcP"
      }
    },
    {
      "cell_type": "markdown",
      "source": [
        "---\n",
        "\n",
        "\n",
        "\n",
        "\n",
        "*Have questions or comments? Visit the [Learn Discussion forum](https://www.kaggle.com/learn-forum/161283) to chat with other Learners.*"
      ],
      "metadata": {
        "id": "mEMPbvGUSCcP"
      }
    }
  ]
}