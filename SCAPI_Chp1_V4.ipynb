{
  "nbformat": 4,
  "nbformat_minor": 0,
  "metadata": {
    "colab": {
      "provenance": [],
      "authorship_tag": "ABX9TyM+wF343lJ5jfYquF+DEDk+"
    },
    "kernelspec": {
      "name": "python3",
      "display_name": "Python 3"
    },
    "language_info": {
      "name": "python"
    }
  },
  "cells": [
    {
      "cell_type": "markdown",
      "source": [
        "# Serious Cryptography\n",
        "\n",
        "This notebook will work through the Chapter 1 concept of the casear cipher - script comparison, part 2"
      ],
      "metadata": {
        "id": "n8idmd-oUAIA"
      }
    },
    {
      "cell_type": "markdown",
      "source": [
        "Our references:\n",
        "* [ChatGPT](https://chat.openai.com/auth/login)\n",
        "* [Google Colab](https://colab.research.google.com/)\n",
        "* [Google Colab AI](https://blog.google/technology/developers/google-colab-ai-coding-features/)\n",
        "* [Cracking Codes with Python: An Introduction to Building and Breaking Ciphers - Al Sweigart - No Starch Press](https://nostarch.com/crackingcodes)\n",
        "* [Serious Cryptography: A Practical Introduction to Modern Encryption -  Aumasson, Jean-Philippe - No Starch Press](https://nostarch.com/seriouscrypto)\n",
        "* [Python version 3.12.2](https://www.python.org/)"
      ],
      "metadata": {
        "id": "98_fI6bjUK1u"
      }
    },
    {
      "cell_type": "code",
      "execution_count": null,
      "metadata": {
        "colab": {
          "base_uri": "https://localhost:8080/"
        },
        "id": "YteUc-pST_ni",
        "outputId": "564f207f-2d0d-42c2-f141-31d99c9efad4"
      },
      "outputs": [
        {
          "output_type": "stream",
          "name": "stdout",
          "text": [
            "Nve Wbeqnaf\n"
          ]
        }
      ],
      "source": [
        "# Made by Google Colab AI\n",
        "# prompt: casear cipher\n",
        "\n",
        "def casear_cipher(text, shift):\n",
        "  \"\"\"\n",
        "  This function encrypts a given text using the Caesar cipher.\n",
        "\n",
        "  Args:\n",
        "    text: The string to encrypt.\n",
        "    shift: The number of positions to shift each character.\n",
        "\n",
        "  Returns:\n",
        "    The encrypted string.\n",
        "  \"\"\"\n",
        "  encrypted_text = \"\"\n",
        "  for char in text:\n",
        "    if char.isalpha():\n",
        "      # Get the ASCII value of the character.\n",
        "      ascii_value = ord(char)\n",
        "\n",
        "      # Shift the character by the specified number of positions.\n",
        "      if char.islower():\n",
        "        ascii_value += shift\n",
        "        if ascii_value > ord('z'):\n",
        "          ascii_value -= 26\n",
        "      else:\n",
        "        ascii_value += shift\n",
        "        if ascii_value > ord('Z'):\n",
        "          ascii_value -= 26\n",
        "\n",
        "      # Convert the ASCII value back to a character.\n",
        "      encrypted_char = chr(ascii_value)\n",
        "    else:\n",
        "      encrypted_char = char\n",
        "\n",
        "    # Add the encrypted character to the encrypted text.\n",
        "    encrypted_text += encrypted_char\n",
        "\n",
        "  return encrypted_text\n",
        "\n",
        "# Example usage\n",
        "text = 'Air Jordans'\n",
        "shift = 13\n",
        "encrypted_text = casear_cipher(text, shift)\n",
        "print(encrypted_text)\n"
      ]
    },
    {
      "cell_type": "code",
      "source": [
        "# Caesar Cipher\n",
        "# Made by Al Sweigart\n",
        "# https://www.nostarch.com/crackingcodes/ (BSD Licensed)\n",
        "\n",
        "# cross-platform Python module for copy and paste clipboard functions\n",
        "#import pyperclip\n",
        "\n",
        "# the string to be encrypted\n",
        "message = 'Air Jordans'\n",
        "\n",
        "# the encryption/decryption key\n",
        "key = 13\n",
        "\n",
        "# set this line to the string 'encrypt' or 'decrypt'\n",
        "mode = 'encrypt'\n",
        "\n",
        "# every possible symbol that can be encrypted\n",
        "SYMBOLS = 'ABCDEFGHIJKLMNOPQRSTUVWXYZabcdefghijklmnopqrstuvwxyz1234567890 !?.'\n",
        "\n",
        "# stores the encrypted/decrypted form of the message\n",
        "translated = ''\n",
        "\n",
        "# the guts of the script\n",
        "for symbol in message:\n",
        "\n",
        "  if symbol in SYMBOLS:\n",
        "    symbolIndex = SYMBOLS.find(symbol)\n",
        "\n",
        "    if mode == 'encrypt':\n",
        "      translatedIndex = symbolIndex + key\n",
        "    elif mode == 'decrypt':\n",
        "      translatedIndex = symbolIndex - key\n",
        "\n",
        "    if translatedIndex >= len(SYMBOLS):\n",
        "      translatedIndex = translatedIndex - len(SYMBOLS)\n",
        "    elif translatedIndex < 0:\n",
        "      translatedIndex = translatedIndex + len(SYMBOLS)\n",
        "\n",
        "    translated = translated + SYMBOLS[translatedIndex]\n",
        "\n",
        "  else:\n",
        "    translated = translated + symbol\n",
        "\n",
        "# once the for block does its thing the script advances to this line\n",
        "print(translated)"
      ],
      "metadata": {
        "colab": {
          "base_uri": "https://localhost:8080/"
        },
        "id": "1ZYQXMpZdcIE",
        "outputId": "bf3aac01-c832-480e-c777-b2703f5c0651"
      },
      "execution_count": null,
      "outputs": [
        {
          "output_type": "stream",
          "name": "stdout",
          "text": [
            "Nv5JW25qn16\n"
          ]
        }
      ]
    },
    {
      "cell_type": "code",
      "source": [
        "# Made by ChatGPT\n",
        "# prompt: please make a python script for the Caesar cipher\n",
        "\n",
        "def caesar_cipher(text, shift):\n",
        "    encrypted_text = \"\"\n",
        "    for char in text:\n",
        "        if char.isalpha():\n",
        "            shifted = ord(char) + shift\n",
        "            if char.islower():\n",
        "                if shifted > ord('z'):\n",
        "                    shifted -= 26\n",
        "                elif shifted < ord('a'):\n",
        "                    shifted += 26\n",
        "            elif char.isupper():\n",
        "                if shifted > ord('Z'):\n",
        "                    shifted -= 26\n",
        "                elif shifted < ord('A'):\n",
        "                    shifted += 26\n",
        "            encrypted_text += chr(shifted)\n",
        "        else:\n",
        "            encrypted_text += char\n",
        "    return encrypted_text\n",
        "\n",
        "def main():\n",
        "    text = input(\"Enter the text to encrypt: \")\n",
        "    shift = int(input(\"Enter the shift value: \"))\n",
        "    encrypted_text = caesar_cipher(text, shift)\n",
        "    print(\"Encrypted text:\", encrypted_text)\n",
        "\n",
        "if __name__ == \"__main__\":\n",
        "    main()\n"
      ],
      "metadata": {
        "colab": {
          "base_uri": "https://localhost:8080/"
        },
        "id": "e8Ldhsz1s3Ua",
        "outputId": "d0e05872-369c-4051-8f34-821b498f5817"
      },
      "execution_count": 1,
      "outputs": [
        {
          "output_type": "stream",
          "name": "stdout",
          "text": [
            "Enter the text to encrypt: Air Jordan\n",
            "Enter the shift value: 13\n",
            "Encrypted text: Nve Wbeqna\n"
          ]
        }
      ]
    },
    {
      "cell_type": "markdown",
      "source": [
        "Comparison of the three scripts\n",
        "* All scripts use encryption key 13\n",
        "* First script encryption results: Nve Wbeqnaf\n",
        "* Second script encryption results: Nv5JW25qn16\n",
        "* Third script encryption results: Nve Wbeqna\n",
        "* First script uses 26 upper and lower case characters\n",
        "* Second script uses 26 upper & lower case characters plus numerics, spaces, and symbols\n",
        "* Third script uses 26 upper and lower case characters"
      ],
      "metadata": {
        "id": "KRQk6hMneKVn"
      }
    }
  ]
}