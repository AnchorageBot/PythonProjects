{
  "nbformat": 4,
  "nbformat_minor": 0,
  "metadata": {
    "colab": {
      "provenance": [],
      "authorship_tag": "ABX9TyPrO+s89mKI0SUnZrwfCssa"
    },
    "kernelspec": {
      "name": "python3",
      "display_name": "Python 3"
    },
    "language_info": {
      "name": "python"
    }
  },
  "cells": [
    {
      "cell_type": "markdown",
      "source": [
        "## Get economic data from the OECD API via Python, and the Requests Library, and look at it via Pandas\n",
        "\n",
        "*   Economic data from 2009 - 2010 for Australia and the US\n",
        "\n",
        "References:\n",
        "\n",
        "*   Data Visualization with Python and JavaScript, 2nd Edition, by Kyran Dale\n",
        "*   https://www.oreilly.com/library/view/data-visualization-with/9781098111861/\n",
        "*   Requests Library Documentation\n",
        "*   https://requests.readthedocs.io/en/latest/user/quickstart/\n",
        "*   OECD Application Programming Interface (API) Documentation Page\n",
        "*   https://data.oecd.org/api/sdmx-json-documentation/\n",
        "*   API - Wikipedia \n",
        "*   https://en.wikipedia.org/wiki/API\n",
        "*   Pandas documentation for reading data files\n",
        "*   https://pandas.pydata.org/docs/user_guide/io.html\n",
        "\n",
        "<br>\n",
        "Made with/during:\n",
        "\n",
        "*   Google Colab \n",
        "*   April 2023\n",
        "\n",
        "\n"
      ],
      "metadata": {
        "id": "wiU_HZa02btj"
      }
    },
    {
      "cell_type": "markdown",
      "source": [
        "# 1.0 Construct a script to get data from the OECD API"
      ],
      "metadata": {
        "id": "Uj4ZMwkI-ybY"
      }
    },
    {
      "cell_type": "code",
      "execution_count": 14,
      "metadata": {
        "colab": {
          "base_uri": "https://localhost:8080/"
        },
        "id": "fxCFNY232ULh",
        "outputId": "91c06049-f2ab-4c9a-8ce4-febf6061b075"
      },
      "outputs": [
        {
          "output_type": "stream",
          "name": "stdout",
          "text": [
            "Request data from this URL: http://stats.oecd.org/sdmx-json/data/QNA/USA+AUS.GDP+B1_GE.CUR+VOBARSA.Q/all\n",
            "\n",
            "\n",
            "An abbreviated dictionary of HTTP status codes\n",
            "200 = OK \n",
            "400 = bad request\n",
            "401 = unauthorized\n",
            "403 = forbidden\n",
            "404 = not found\n",
            "500 = server error\n",
            "\n",
            "This script's HTTP status code = \n",
            "200\n",
            "\n",
            "\n",
            "The dictionary keys are:  dict_keys(['header', 'dataSets', 'structure'])\n"
          ]
        }
      ],
      "source": [
        "import requests\n",
        "\n",
        "OECD_ROOT_URL = 'http://stats.oecd.org/sdmx-json/data'\n",
        "\n",
        "def make_OECD_request(dsname, dimensions, params=None, root_dir=OECD_ROOT_URL):\n",
        "    \"\"\" This function makes a URL for the OECD API and returns a response \"\"\"\n",
        "\n",
        "    if not params: \n",
        "        params = {}\n",
        "\n",
        "    dim_args = ['+'.join(d) for d in dimensions] \n",
        "    dim_str = '.'.join(dim_args)\n",
        "\n",
        "    url = root_dir + '/' + dsname + '/' + dim_str + '/all'\n",
        "    print('Request data from this URL: ' + url)\n",
        "    return requests.get(url, params=params) \n",
        "\n",
        "response = make_OECD_request('QNA',\n",
        "    (('USA', 'AUS'),('GDP', 'B1_GE'),('CUR', 'VOBARSA'), ('Q')),\n",
        "    {'startTime':'2009-Q1', 'endTime':'2010-Q1'}) \n",
        "\n",
        "#print(\"Check URL: http://stats.oecd.org/sdmx-json/data/QNA/USA+AUS.GDP+B1_GE.CUR+VOBARSA.Q/all \\n\")\n",
        "\n",
        "print(\"\\n\")\n",
        "print(\"An abbreviated dictionary of HTTP status codes\")\n",
        "print(\"200 = OK \")\n",
        "print(\"400 = bad request\")\n",
        "print(\"401 = unauthorized\")\n",
        "print(\"403 = forbidden\")\n",
        "print(\"404 = not found\")\n",
        "print(\"500 = server error\\n\")\n",
        "print(\"This script's HTTP status code = \")\n",
        "print(response.status_code)\n",
        "\n",
        "if response.status_code == 200:\n",
        "   json = response.json()\n",
        "\n",
        "   print(\"\\n\")\n",
        "   print(\"The dictionary keys are: \", json.keys())\n"
      ]
    },
    {
      "cell_type": "markdown",
      "source": [
        "# 2.0 Importing data from Desktop to Google Colab and reading it via Pandas\n",
        "\n",
        "<br>\n",
        "<br>\n",
        "\n",
        "You will need to follow steps b - d each time you use the notebook.\n",
        "<br>\n",
        "<br>\n",
        "\n",
        "a. Go to the website and download/save the oecd data file as oecd.csv to your desktop<br>\n",
        "http://stats.oecd.org/sdmx-json/data/QNA/USA+AUS.GDP+B1_GE.CUR+VOBARSA.Q/all<br>\n",
        "b. Click on the file folder icon in Google Colab (center left of screen)<br>\n",
        "c. Drag the oecd.csv file from your desktop into Colab and drop it next to the sample drive folder.<br>\n",
        "d. Run the codeblock below in order to see the first five lines of the dataset<br>"
      ],
      "metadata": {
        "id": "BItQD7Ae9_yK"
      }
    },
    {
      "cell_type": "code",
      "source": [
        "import pandas as pd\n",
        "\n",
        "df0 = pd.read_csv('oecd.csv')\n",
        "df0.head()"
      ],
      "metadata": {
        "id": "xmRttLdp-hDx"
      },
      "execution_count": null,
      "outputs": []
    },
    {
      "cell_type": "markdown",
      "source": [
        "The data looks rough as a .csv  so let's look at as a .txt file (spoiler: it will also look rough as a .txt file)<br>\n",
        "<br>\n",
        "a. Go back to the website and download/save the oecd data file as oecd.txt to your desktop<br>\n",
        "http://stats.oecd.org/sdmx-json/data/QNA/USA+AUS.GDP+B1_GE.CUR+VOBARSA.Q/all<br>\n",
        "b. Click on the file folder icon in Google Colab (center left of screen)<br>\n",
        "c. Drag the oecd.txt file from your desktop into Colab and drop it next to the sample drive folder.<br>\n",
        "d. Run the codeblock below<br>\n"
      ],
      "metadata": {
        "id": "sNJE3_UXAczf"
      }
    },
    {
      "cell_type": "code",
      "source": [
        "#import pandas as pd\n",
        "\n",
        "df1 = pd.read_table('oecd.txt')\n",
        "df1.head()"
      ],
      "metadata": {
        "id": "FLOcTobwBGwN"
      },
      "execution_count": null,
      "outputs": []
    },
    {
      "cell_type": "markdown",
      "source": [
        "Will need to do more reading and then write a better script"
      ],
      "metadata": {
        "id": "MlNZZTAQIsSG"
      }
    }
  ]
}
