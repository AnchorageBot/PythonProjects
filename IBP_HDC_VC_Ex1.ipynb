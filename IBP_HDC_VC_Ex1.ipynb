{
  "nbformat": 4,
  "nbformat_minor": 0,
  "metadata": {
    "colab": {
      "provenance": [],
      "authorship_tag": "ABX9TyM53aIW5xKPqAJPYMkRpsxa"
    },
    "kernelspec": {
      "name": "python3",
      "display_name": "Python 3"
    },
    "language_info": {
      "name": "python"
    }
  },
  "cells": [
    {
      "cell_type": "markdown",
      "source": [
        "Bernoulli Percolation Notebook\n",
        "* Based upon Professor Hugo Duminil-Copin's notes\n",
        "* Introduction to Bernoulli Percolation dated November 2, 2022\n",
        "* [Universite' de Geneve, IHES](https://www.ihes.fr/~duminil/CV.html)"
      ],
      "metadata": {
        "id": "vZKxLBxp0U6G"
      }
    },
    {
      "cell_type": "markdown",
      "source": [
        "Tutors 🚀 :\n",
        "* Professor Hugo Duminil-Copin\n",
        "* Google's AI Gemini 2.0 Flash"
      ],
      "metadata": {
        "id": "uHaVx4Q80dx0"
      }
    },
    {
      "cell_type": "markdown",
      "source": [
        "##Glossary Table\n",
        "\n",
        "\n",
        "| Symbol/Term | Meaning | Concept |\n",
        "|---|---|---|\n",
        "| G = (V, E) | A graph with vertex set V and edge set E | Graph Theory |\n",
        "| ω (omega) | A percolation configuration; an element of {0, 1}^E, where ω_e = 1 means edge e is open, and ω_e = 0 means edge e is closed | Percolation Theory |\n",
        "| ω_e | State of edge e in configuration ω (1 for open, 0 for closed) | Percolation Theory |\n",
        "| ω' (omega prime) | Dual configuration of ω | Percolation Theory (Duality) |\n",
        "| e* | Edge in the dual graph corresponding to edge e in the original graph | Percolation Theory (Duality) |\n",
        "| (ℤ²)⁺ | Translation of ℤ² by the vector (1/2, 1/2) | Lattice Geometry |\n",
        "| Bernoulli Percolation |  Percolation model where each edge is independently open with probability p and closed with probability 1-p | Percolation Theory |\n",
        "| p | Probability that an edge is open in Bernoulli percolation | Percolation Theory |\n",
        "| ℙₚ | Probability measure for Bernoulli percolation with parameter p | Probability Theory |\n",
        "| θ(p) | Probability that the origin (or a specific vertex) belongs to an infinite cluster in Bernoulli percolation with parameter p | Percolation Theory |\n",
        "| p_c | Critical probability; the infimum of p such that θ(p) > 0 | Percolation Theory |\n",
        "| 0 ↔ ∞ |  Existence of an infinite path (or cluster) connecting the origin to infinity | Percolation Theory |\n",
        "| Zd | Set of elements in Rd with integer coordinates (also represents the lattice/vertex set) | Discrete Mathematics / Geometry |\n",
        "| infinite cluster | A connected component of open edges that is infinite | Percolation Theory |\n",
        "| self-avoiding path | A sequence of edges e₁, ..., eₙ where eᵢ ≠ eⱼ for i ≠ j, and adjacent edges share an endpoint | Graph Theory |\n",
        "| Ωₙ | Set of self-avoiding paths of length n starting from the origin | Graph Theory |\n",
        "| dual graph (ℤ²)∗ | Graph with vertices at the centers of the squares of ℤ², and edges connecting adjacent centers, representing the dual to the original lattice's edges | Percolation Theory (Duality) |\n",
        "| increasing event | An event A is increasing if ω ∈ A and ω ≤ ω' implies ω' ∈ A | Percolation Theory |\n",
        "| decreasing event | An event A is decreasing if its complement is increasing | Percolation Theory |\n",
        "| x ↔ y |  Sites x and y are connected in ω (there exists a path of open edges from x to y) | Percolation Theory |\n",
        "| A ↔ B | There exists a path connecting set of vertices A to set of vertices B | Percolation Theory |\n",
        "| x ∈ ∞ | The site x is in an infinite connected component | Percolation Theory |\n",
        "| |F| > k | The number of open edges in the set F exceeds k | Percolation Theory |\n",
        "| lattice animal | A finite connected subset of a graph | Graph Theory |\n",
        "| α(n, x) | The number of lattice animals of size n containing the vertex x | Graph Theory |\n",
        "| minimal blocking surface | A set of edges E such that every path of adjacent edges from the origin to infinity intersects E, and no proper subset of E has this property | Percolation Theory |\n",
        "| elementary loop | A loop of length 4 in the lattice | Graph Theory |\n",
        "| increasing coupling | A measure P on [0,1] x {0,1}^E x {0,1}^E with marginals P_p and P_p' such that P[(ω, ω'): ω ≤ ω'] = 1 | Probability Theory / Percolation Theory |\n",
        "\n",
        "\n",
        "\n",
        "\n",
        "\n"
      ],
      "metadata": {
        "id": "XPmfUgY60ieI"
      }
    },
    {
      "cell_type": "markdown",
      "source": [
        "Exercise 1\n",
        "- - - -\n",
        "Show that any measurable event can be approximated by events depending on finitely many edges, in\n",
        "the sense that for any A in the product σ-algebra, there exists a sequence (Bn) such that Bn is measurable in terms\n",
        "of the ωe for e in the box of size n, and Pp[A∆Bn] tends to 0 as n tends to infinity."
      ],
      "metadata": {
        "id": "RxJ_7lPe08hy"
      }
    },
    {
      "cell_type": "markdown",
      "source": [
        "\n",
        "**Exercise 1: Approximation of Measurable Events**\n",
        "\n",
        "- - - -\n",
        "\n",
        "**Given:**\n",
        "\n",
        "*   **(Ω, ℱ, Pₚ):** A probability space where:\n",
        "    *   Ω = {0, 1}ᴱ is the set of all possible percolation configurations ω.\n",
        "    *   ℱ is the product σ-algebra generated by the random variables {ωₑ} for e ∈ E.  This represents all measurable events related to the configuration of edges.\n",
        "    *   Pₚ is the Bernoulli percolation probability measure with parameter *p*.\n",
        "*   **A ∈ ℱ:**  An arbitrary event in the product σ-algebra ℱ.  This means *A* is an event related to the states of edges (open or closed).\n",
        "*   **Bₙ:** An event that is measurable with respect to the edges within a box (or a specific finite subset) of size *n*.  We'll define this box more precisely in the solution.\n",
        "*   **∆:** The symmetric difference between two sets.  A ∆ B = (A \\ B) ∪ (B \\ A).  This represents the set of outcomes that are in *A* or *B* but not both.\n",
        "\n",
        "**Find:**\n",
        "\n",
        "*   A sequence of events {Bₙ}ₙ∈ℕ, where each Bₙ depends only on the state of edges within a box of size *n* (or a specific finite subset of edges that grows with *n*), such that:\n",
        "\n",
        "    lim (n→∞) Pₚ[A ∆ Bₙ] = 0\n",
        "\n",
        "    In other words, we need to find a sequence of events Bₙ that are determined by looking at larger and larger boxes, and the probability that *A* and *Bₙ* differ goes to zero as the box size grows. This means Bₙ approximates A well for large n.\n",
        "\n",
        "**Solution (Outline):**\n",
        "\n",
        "1.  **Define the Box:** Formally define the \"box of size *n*\".  For example, in ℤᵈ, it could be the set of edges *e* connecting vertices *x* and *y* where all coordinates of *x* and *y* are between -n and n. Let Eₙ be the set of edges in this box.\n",
        "\n",
        "2.  **Construct Bₙ:** Define the event Bₙ using the information from A.  A natural approach is to consider the cylinder set (or \"rectangle\") generated by the configuration of edges in A restricted to Eₙ.  Formally:\n",
        "\n",
        "    Bₙ = {ω ∈ Ω : ωₑ = ω'ₑ for all e ∈ Eₙ, where ω' is some configuration in A}\n",
        "\n",
        "    In simpler terms, Bₙ is the event that the configuration within the box of size *n* is \"compatible\" with some configuration in A.  If A happens, and we look only at the edges in the box of size n, the configuration of edges in the box must match the configuration of some ω' in A.\n",
        "\n",
        "3.  **Show Convergence:** Prove that Pₚ[A ∆ Bₙ] → 0 as n → ∞.  This usually involves using properties of product σ-algebras and the fact that any event in a product σ-algebra can be approximated by events depending on finitely many coordinates (in this case, edges).  A common approach is to use the fact that the cylinder sets generate the product σ-algebra.\n",
        "\n",
        "\n",
        "\n"
      ],
      "metadata": {
        "id": "9nJfeBWK1BjK"
      }
    }
  ]
}