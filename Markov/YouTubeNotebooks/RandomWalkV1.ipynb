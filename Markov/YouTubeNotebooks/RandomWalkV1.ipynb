{
  "nbformat": 4,
  "nbformat_minor": 0,
  "metadata": {
    "colab": {
      "provenance": [],
      "authorship_tag": "ABX9TyOJCNI0I9O+FoogoL4hgHn8"
    },
    "kernelspec": {
      "name": "python3",
      "display_name": "Python 3"
    },
    "language_info": {
      "name": "python"
    }
  },
  "cells": [
    {
      "cell_type": "markdown",
      "source": [
        "#Random Walk Simulation\n",
        "\n",
        "Ref\n",
        "> Markov Chains: Simulation in Python | Stationary Distribution Computation | Part - 7 | Normalized Nerd"
      ],
      "metadata": {
        "id": "9s6RxdlT2IhA"
      }
    },
    {
      "cell_type": "markdown",
      "source": [
        "Import library tools"
      ],
      "metadata": {
        "id": "L4yYXl2-2ZiP"
      }
    },
    {
      "cell_type": "code",
      "execution_count": 1,
      "metadata": {
        "id": "HtGSVE5_2ELc"
      },
      "outputs": [],
      "source": [
        "import numpy as np"
      ]
    },
    {
      "cell_type": "markdown",
      "source": [
        "Define markov states via an array and via a dictionary"
      ],
      "metadata": {
        "id": "uyqQkUGl2hcu"
      }
    },
    {
      "cell_type": "code",
      "source": [
        "weather1 = ['sun', 'snow', 'rain']\n",
        "\n",
        "weather2 =  {\n",
        "    0 : \"Sun\",\n",
        "    1 : \"Snow\",\n",
        "    2 : \"Rain\"\n",
        "}\n",
        "\n",
        "print(weather1)\n",
        "weather2"
      ],
      "metadata": {
        "colab": {
          "base_uri": "https://localhost:8080/"
        },
        "id": "OAl-DycV2nqA",
        "outputId": "3310ef3e-e12c-4f7d-a203-b562c1a38ddc"
      },
      "execution_count": 4,
      "outputs": [
        {
          "output_type": "stream",
          "name": "stdout",
          "text": [
            "['sun', 'snow', 'rain']\n"
          ]
        },
        {
          "output_type": "execute_result",
          "data": {
            "text/plain": [
              "{0: 'Sun', 1: 'Snow', 2: 'Rain'}"
            ]
          },
          "metadata": {},
          "execution_count": 4
        }
      ]
    },
    {
      "cell_type": "markdown",
      "source": [
        "Create a transition matrix which defines the probability of moving from one state to another"
      ],
      "metadata": {
        "id": "as4zjhXS4EhK"
      }
    },
    {
      "cell_type": "code",
      "source": [
        "A = np.array([[0.2, 0.6, 0.2], [0.3, 0.0, 0.7], [0.5, 0.0, 0.5]])\n",
        "A"
      ],
      "metadata": {
        "colab": {
          "base_uri": "https://localhost:8080/"
        },
        "id": "5pQ9skw84RXi",
        "outputId": "8d1691a3-7704-49a8-9d0a-c22e126c1e23"
      },
      "execution_count": 5,
      "outputs": [
        {
          "output_type": "execute_result",
          "data": {
            "text/plain": [
              "array([[0.2, 0.6, 0.2],\n",
              "       [0.3, 0. , 0.7],\n",
              "       [0.5, 0. , 0.5]])"
            ]
          },
          "metadata": {},
          "execution_count": 5
        }
      ]
    },
    {
      "cell_type": "markdown",
      "source": [
        "Create a random walk from one state to another"
      ],
      "metadata": {
        "id": "T2Wt3aJK4i0I"
      }
    },
    {
      "cell_type": "code",
      "source": [
        "n = 10\n",
        "start_state = 0\n",
        "curr_state = start_state\n",
        "print(weather2[curr_state], \"--->\", end=\" \")\n",
        "\n",
        "while n-1:\n",
        "    curr_state = np.random.choice([0, 1, 2], p=A[curr_state])\n",
        "    print(weather2[curr_state], \"--->\", end=\" \")\n",
        "    n-=1\n",
        "print(\"stop random walk\")"
      ],
      "metadata": {
        "colab": {
          "base_uri": "https://localhost:8080/"
        },
        "id": "R8p5BLF54hpf",
        "outputId": "74f639f5-bcff-4dc1-abe4-a232bfc2eae2"
      },
      "execution_count": 8,
      "outputs": [
        {
          "output_type": "stream",
          "name": "stdout",
          "text": [
            "Sun ---> Snow ---> Sun ---> Sun ---> Snow ---> Rain ---> Sun ---> Snow ---> Rain ---> Sun ---> stop random walk\n"
          ]
        }
      ]
    }
  ]
}
