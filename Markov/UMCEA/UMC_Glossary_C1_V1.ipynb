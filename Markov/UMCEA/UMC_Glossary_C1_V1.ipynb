{
  "nbformat": 4,
  "nbformat_minor": 0,
  "metadata": {
    "colab": {
      "provenance": [],
      "authorship_tag": "ABX9TyOeG4Q+a56W+NHG+8amB8za"
    },
    "kernelspec": {
      "name": "python3",
      "display_name": "Python 3"
    },
    "language_info": {
      "name": "python"
    }
  },
  "cells": [
    {
      "cell_type": "markdown",
      "source": [
        "# Glossary - Chapter 1\n",
        "\n",
        "Refs:\n",
        "\n",
        "* Understanding Markov Chains: Examples and Applications - 2nd Edition\n",
        "> * Nicolas Privault\n",
        "> * https://link.springer.com/book/10.1007/978-981-13-0659-4\n",
        "\n",
        "* Mathematics in Markdown\n",
        "> * R Pruim\n",
        "> * https://rpruim.github.io/s341/S19/from-class/MathinRmd.html"
      ],
      "metadata": {
        "id": "57aISSVzRD_Z"
      }
    },
    {
      "cell_type": "markdown",
      "source": [
        "1.1 Probability Spaces and Events\n",
        "\n",
        "* Subset\n",
        "> * $A \\subset B$\n",
        "\n",
        "* Does not belong to the set\n",
        "> * A \\ B\n",
        "\n",
        "* Element of the set\n",
        "> *  $\\omega$ $\\in A$\n",
        "\n",
        "* Complement\n",
        "> * $A^c$ = $\\Omega$ \\ A\n",
        "\n",
        "* Finite set of n elements\n",
        "> * {$\\omega_1$...$\\omega_n$}\n",
        "\n",
        "* Probability space\n",
        "> * $\\Omega$\n",
        "> * Abstract set\n",
        "> * Contains the possible outcomes of a random experiment\n",
        "\n",
        "* Natural numbers\n",
        "> * $\\mathbb{N}$\n",
        "\n",
        "* Positive real numbers\n",
        "> * $\\mathbb{R}_+$\n",
        "\n",
        "* Finite number n of real-valued samples\n",
        "> * $\\Omega$ = $\\mathbb{R}^n$\n",
        "\n",
        "* Space of continuous functions on positive real numbers\n",
        "> * $\\Omega$ = $\\mathbb{C}$ ($\\mathbb{R}_+$)\n",
        "\n",
        "* Collections of events\n",
        "> * $\\mathbb{G}$\n",
        "\n",
        "* Collection of all events in $\\Omega$\n",
        "> * $\\mathbb{F}$\n",
        "\n",
        "* Comparing the amount of info between collections\n",
        "> * $\\mathbb{F}$ $\\subseteq$ $\\mathbb{G}$"
      ],
      "metadata": {
        "id": "Ijl83Sq0RzYW"
      }
    }
  ]
}
