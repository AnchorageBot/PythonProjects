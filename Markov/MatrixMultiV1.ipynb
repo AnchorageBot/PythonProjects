{
  "nbformat": 4,
  "nbformat_minor": 0,
  "metadata": {
    "colab": {
      "provenance": [],
      "authorship_tag": "ABX9TyPV2NUJ45sFdcWlCVqK0bzT"
    },
    "kernelspec": {
      "name": "python3",
      "display_name": "Python 3"
    },
    "language_info": {
      "name": "python"
    }
  },
  "cells": [
    {
      "cell_type": "markdown",
      "source": [
        "# Matrix Multiplication Simulation\n",
        "\n",
        "Ref:\n",
        "\n",
        "  * Markov Chains: Simulation in Python | Stationary Distribution Computation | Part - 7 | Normalized Nerd\n",
        "  * Monte Carlo Simulation with Card Games | Normalized Nerd\n",
        "  * The Central Limit Theorem Clearly Explained! | Normalized Nerd\n",
        "  * Law of large numbers | Probability and Statistics | Khan Academy"
      ],
      "metadata": {
        "id": "P_TosWdO5k58"
      }
    },
    {
      "cell_type": "markdown",
      "source": [
        "Import the following library tools"
      ],
      "metadata": {
        "id": "NxQ1vPCN8CM4"
      }
    },
    {
      "cell_type": "code",
      "execution_count": null,
      "metadata": {
        "id": "LTu67__z5euP"
      },
      "outputs": [],
      "source": [
        "import numpy as np"
      ]
    },
    {
      "cell_type": "markdown",
      "source": [
        "Create a transition matrix to show the probabilities of transitioning between the markov states"
      ],
      "metadata": {
        "id": "jG0AkzZkDDAx"
      }
    },
    {
      "cell_type": "code",
      "source": [
        "A = np.array([[0.2, 0.6, 0.2], [0.3, 0.0, 0.7], [0.5, 0.0, 0.5]])"
      ],
      "metadata": {
        "id": "vtCG3qdEDHL1"
      },
      "execution_count": null,
      "outputs": []
    },
    {
      "cell_type": "markdown",
      "source": [
        "Draft up a function for multiplying matricies multiple times in order to estimate the probability distribution of the three states (represented by the variable pi)"
      ],
      "metadata": {
        "id": "WFswGSjZ8sEK"
      }
    },
    {
      "cell_type": "markdown",
      "source": [
        "Show code in non-function format since juypter is truncating the function window when saving as pdf"
      ],
      "metadata": {
        "id": "vlUqIYBqgQe8"
      }
    },
    {
      "cell_type": "code",
      "source": [
        "steps = 10**3\n",
        "A_m = A\n",
        "\n",
        "i = 0\n",
        "while i < steps:\n",
        "  A_m = np.matmul(A_m, A)\n",
        "  i+= 1\n",
        "\n",
        "print(\"A^m = \\n\", A_m, \"\\n\")\n",
        "print(\"pi = \", A_m[0])"
      ],
      "metadata": {
        "colab": {
          "base_uri": "https://localhost:8080/"
        },
        "id": "LpZrLZL5oagM",
        "outputId": "1c21e038-7817-419b-b0c4-3055e3857047"
      },
      "execution_count": 6,
      "outputs": [
        {
          "output_type": "stream",
          "name": "stdout",
          "text": [
            "A^m = \n",
            " [[0.35211268 0.21126761 0.43661972]\n",
            " [0.35211268 0.21126761 0.43661972]\n",
            " [0.35211268 0.21126761 0.43661972]] \n",
            "\n",
            "pi =  [0.35211268 0.21126761 0.43661972]\n"
          ]
        }
      ]
    },
    {
      "cell_type": "markdown",
      "source": [
        "Numpy\n",
        "> https://numpy.org/doc/stable/"
      ],
      "metadata": {
        "id": "pTp3NqyKqvFV"
      }
    }
  ]
}
