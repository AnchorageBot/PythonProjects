{
  "nbformat": 4,
  "nbformat_minor": 0,
  "metadata": {
    "colab": {
      "provenance": [],
      "authorship_tag": "ABX9TyNXSetzPFmSTXtPmiqup9UM"
    },
    "kernelspec": {
      "name": "python3",
      "display_name": "Python 3"
    },
    "language_info": {
      "name": "python"
    }
  },
  "cells": [
    {
      "cell_type": "markdown",
      "source": [
        "# Monte Carlo Simulation\n",
        "\n",
        "Ref:\n",
        "\n",
        "  > Markov Chains: Simulation in Python | Stationary Distribution Computation | Part - 7 | Normalized Nerd"
      ],
      "metadata": {
        "id": "P_TosWdO5k58"
      }
    },
    {
      "cell_type": "markdown",
      "source": [
        "Import the following library tools"
      ],
      "metadata": {
        "id": "NxQ1vPCN8CM4"
      }
    },
    {
      "cell_type": "code",
      "execution_count": 1,
      "metadata": {
        "id": "LTu67__z5euP"
      },
      "outputs": [],
      "source": [
        "import numpy as np"
      ]
    },
    {
      "cell_type": "markdown",
      "source": [
        "Create a transition matrix to show the probabilities of transitioning between the markov states"
      ],
      "metadata": {
        "id": "jG0AkzZkDDAx"
      }
    },
    {
      "cell_type": "code",
      "source": [
        "A = np.array([[0.2, 0.6, 0.2], [0.3, 0.0, 0.7], [0.5, 0.0, 0.5]])"
      ],
      "metadata": {
        "id": "vtCG3qdEDHL1"
      },
      "execution_count": 2,
      "outputs": []
    },
    {
      "cell_type": "markdown",
      "source": [
        "Draft up a function for three markov states (0,1,2)"
      ],
      "metadata": {
        "id": "WFswGSjZ8sEK"
      }
    },
    {
      "cell_type": "code",
      "source": [
        "def monte_carlo():\n",
        "  sim_steps = 10^6\n",
        "  start_state = 0\n",
        "\n",
        "  pi = np.array([0,0,0])\n",
        "  pi[start_state] = 1\n",
        "  prev_state = start_state\n",
        "\n",
        "  i = 0\n",
        "  while i <sim_steps:\n",
        "    curr_state = np.random.choice([0,1,2], p = A[prev_state])\n",
        "    pi[curr_state] += 1\n",
        "    prev_state = curr_state\n",
        "    i += 1\n",
        "\n",
        "  print(\"pi\", pi/sim_steps)\n",
        "\n",
        "# placeholder so jupyter shows all of the code in github"
      ],
      "metadata": {
        "id": "o49XPrbf81_W"
      },
      "execution_count": 8,
      "outputs": []
    },
    {
      "cell_type": "markdown",
      "source": [
        "Print results"
      ],
      "metadata": {
        "id": "Mrg_kLyXNcuA"
      }
    },
    {
      "cell_type": "code",
      "source": [
        "print(monte_carlo())"
      ],
      "metadata": {
        "colab": {
          "base_uri": "https://localhost:8080/"
        },
        "id": "9xXxgQ4tNfY6",
        "outputId": "3da18504-02e3-4d0e-d7ef-cfe1f3d4f897"
      },
      "execution_count": 11,
      "outputs": [
        {
          "output_type": "stream",
          "name": "stdout",
          "text": [
            "pi [0.41666667 0.25       0.41666667]\n",
            "None\n"
          ]
        }
      ]
    },
    {
      "cell_type": "markdown",
      "source": [
        "Show code in non-function format since juypter is truncating the function window when saving as pdf"
      ],
      "metadata": {
        "id": "vlUqIYBqgQe8"
      }
    },
    {
      "cell_type": "code",
      "source": [
        "sim_steps = 10^6\n",
        "start_state = 0\n",
        "\n",
        "pi = np.array([0,0,0])\n",
        "pi[start_state] = 1\n",
        "prev_state = start_state\n",
        "\n",
        "i = 0\n",
        "while i < sim_steps:\n",
        "  curr_state = np.random.choice([0,1,2], p = A[prev_state])\n",
        "  i += 1\n",
        "\n",
        "print(\"pi\", pi/sim_steps)"
      ],
      "metadata": {
        "colab": {
          "base_uri": "https://localhost:8080/"
        },
        "id": "eF52xhtngn2L",
        "outputId": "575a707a-7373-4dbb-d057-bc32d61b26fa"
      },
      "execution_count": 14,
      "outputs": [
        {
          "output_type": "stream",
          "name": "stdout",
          "text": [
            "pi [0.08333333 0.         0.        ]\n"
          ]
        }
      ]
    }
  ]
}
