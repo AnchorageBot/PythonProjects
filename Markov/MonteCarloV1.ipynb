{
  "nbformat": 4,
  "nbformat_minor": 0,
  "metadata": {
    "colab": {
      "provenance": [],
      "authorship_tag": "ABX9TyN9iYWBpyCxJcMiWlz/b8WM"
    },
    "kernelspec": {
      "name": "python3",
      "display_name": "Python 3"
    },
    "language_info": {
      "name": "python"
    }
  },
  "cells": [
    {
      "cell_type": "markdown",
      "source": [
        "# Monte Carlo Simulation\n",
        "\n",
        "Ref:\n",
        "\n",
        "  > Markov Chains: Simulation in Python | Stationary Distribution Computation | Part - 7 | Normalized Nerd"
      ],
      "metadata": {
        "id": "P_TosWdO5k58"
      }
    },
    {
      "cell_type": "markdown",
      "source": [
        "Import the following library tools"
      ],
      "metadata": {
        "id": "NxQ1vPCN8CM4"
      }
    },
    {
      "cell_type": "code",
      "execution_count": 17,
      "metadata": {
        "id": "LTu67__z5euP"
      },
      "outputs": [],
      "source": [
        "import numpy as np"
      ]
    },
    {
      "cell_type": "markdown",
      "source": [
        "Create a transition matrix to show the probabilities of transitioning between the markov states"
      ],
      "metadata": {
        "id": "jG0AkzZkDDAx"
      }
    },
    {
      "cell_type": "code",
      "source": [
        "A = np.array([[0.2, 0.6, 0.2], [0.3, 0.0, 0.7], [0.5, 0.0, 0.5]])"
      ],
      "metadata": {
        "id": "vtCG3qdEDHL1"
      },
      "execution_count": 18,
      "outputs": []
    },
    {
      "cell_type": "markdown",
      "source": [
        "Draft up a function for three markov states (0,1,2) that calculates the associated stationary distribution using monte carlo methods"
      ],
      "metadata": {
        "id": "WFswGSjZ8sEK"
      }
    },
    {
      "cell_type": "markdown",
      "source": [
        "Show code in non-function format since juypter is truncating the function window when saving as pdf"
      ],
      "metadata": {
        "id": "vlUqIYBqgQe8"
      }
    },
    {
      "cell_type": "code",
      "source": [
        "sim_steps = 10**6\n",
        "start_state = 0\n",
        "curr_state = start_state\n",
        "\n",
        "pi = np.array([0,0,0])\n",
        "pi[start_state] = 1\n",
        "\n",
        "i = 0\n",
        "while i < sim_steps:\n",
        "  curr_state = np.random.choice([0,1,2], p = A[curr_state])\n",
        "  pi[curr_state] += 1\n",
        "  i += 1\n",
        "\n",
        "print(\"pi\", pi/sim_steps)"
      ],
      "metadata": {
        "colab": {
          "base_uri": "https://localhost:8080/"
        },
        "id": "eF52xhtngn2L",
        "outputId": "9203b00d-452d-447d-b26e-ef319f853023"
      },
      "execution_count": 24,
      "outputs": [
        {
          "output_type": "stream",
          "name": "stdout",
          "text": [
            "pi [0.35264  0.21149  0.435871]\n"
          ]
        }
      ]
    }
  ]
}
