{
  "nbformat": 4,
  "nbformat_minor": 0,
  "metadata": {
    "colab": {
      "provenance": [],
      "mount_file_id": "1_HPYvzfGBBUF2HsOi7YOmUFGZXn5aED-",
      "authorship_tag": "ABX9TyNZUn4NeZ5tS5NfrfDbZuw3"
    },
    "kernelspec": {
      "name": "python3",
      "display_name": "Python 3"
    },
    "language_info": {
      "name": "python"
    }
  },
  "cells": [
    {
      "cell_type": "markdown",
      "source": [
        "# Fit Data to a Distribution\n",
        "\n",
        "Ref:\n",
        "\n",
        "  > Fitting Data to a Distribution in Python in Just 60 Seconds! - RiskByNumbers"
      ],
      "metadata": {
        "id": "P_TosWdO5k58"
      }
    },
    {
      "cell_type": "markdown",
      "source": [
        "Import the following library tools"
      ],
      "metadata": {
        "id": "NxQ1vPCN8CM4"
      }
    },
    {
      "cell_type": "code",
      "execution_count": 22,
      "metadata": {
        "id": "LTu67__z5euP"
      },
      "outputs": [],
      "source": [
        "import pandas as pd\n",
        "import matplotlib.pyplot as plt\n",
        "import scipy.stats as ss"
      ]
    },
    {
      "cell_type": "markdown",
      "source": [
        "Grab some weather data from the National Weather Service\n",
        "* https://www.weather.gov/\n",
        "* Save the data as a csv file and save the file to the same google drive folder where this .pynb notebook is located\n",
        "* Drag the csv file from your desktop (google drive) and drop it into the folder icon on the left side of google colab (you will have to do this each time you want to run this notebook)"
      ],
      "metadata": {
        "id": "WFswGSjZ8sEK"
      }
    },
    {
      "cell_type": "code",
      "source": [
        "df = pd.read_csv('wx_data.csv')\n",
        "data = df['Temp']"
      ],
      "metadata": {
        "id": "n4meCHCE98PL"
      },
      "execution_count": 25,
      "outputs": []
    },
    {
      "cell_type": "markdown",
      "source": [
        "Plot the data\n",
        "\n"
      ],
      "metadata": {
        "id": "rjJE8qTRGIOr"
      }
    },
    {
      "cell_type": "code",
      "source": [
        "datasort = data.sort_values()\n",
        "plt.figure(figsize = (2,1.25))\n",
        "plt.hist(data,density = True)\n",
        "plt.plot(datasort, ss.norm.pdf(datasort,*normfit))\n",
        "plt.show()"
      ],
      "metadata": {
        "colab": {
          "base_uri": "https://localhost:8080/",
          "height": 156
        },
        "id": "45uQlBQQGNaP",
        "outputId": "a42e5c2c-ee4d-43a1-c359-fee080192e09"
      },
      "execution_count": 26,
      "outputs": [
        {
          "output_type": "display_data",
          "data": {
            "text/plain": [
              "<Figure size 200x125 with 1 Axes>"
            ],
            "image/png": "[encoded data removed]"
          },
          "metadata": {}
        }
      ]
    },
    {
      "cell_type": "markdown",
      "source": [
        "Fit the data to a distribution"
      ],
      "metadata": {
        "id": "cOk8prLcA_TC"
      }
    },
    {
      "cell_type": "code",
      "source": [
        "normfit = ss.norm.fit(data)\n",
        "print(\"avg, \", \"standard deviation\")\n",
        "print(normfit)"
      ],
      "metadata": {
        "id": "344r9oSrBllE",
        "colab": {
          "base_uri": "https://localhost:8080/"
        },
        "outputId": "dcbb6a4c-300e-42f2-aa1f-a6d99b520d1d"
      },
      "execution_count": 27,
      "outputs": [
        {
          "output_type": "stream",
          "name": "stdout",
          "text": [
            "avg,  standard deviation\n",
            "(33.833333333333336, 1.8633899812498247)\n"
          ]
        }
      ]
    }
  ]
}
