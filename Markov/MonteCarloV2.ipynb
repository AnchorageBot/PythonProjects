{
  "nbformat": 4,
  "nbformat_minor": 0,
  "metadata": {
    "colab": {
      "provenance": [],
      "authorship_tag": "ABX9TyOHcXyFYLCafG9OXRW4i2ut"
    },
    "kernelspec": {
      "name": "python3",
      "display_name": "Python 3"
    },
    "language_info": {
      "name": "python"
    }
  },
  "cells": [
    {
      "cell_type": "markdown",
      "source": [
        "# Monte Carlo Simulation\n",
        "\n",
        "Ref:\n",
        "\n",
        "  > Code With Me : Monte Carlo Method (My First Real-Time Coding Video!) - Ritvikmath"
      ],
      "metadata": {
        "id": "P_TosWdO5k58"
      }
    },
    {
      "cell_type": "markdown",
      "source": [
        "Import the following library tools"
      ],
      "metadata": {
        "id": "NxQ1vPCN8CM4"
      }
    },
    {
      "cell_type": "code",
      "execution_count": 19,
      "metadata": {
        "id": "LTu67__z5euP"
      },
      "outputs": [],
      "source": [
        "import numpy as np\n",
        "import matplotlib.pyplot as plt\n",
        "from time import time"
      ]
    },
    {
      "cell_type": "markdown",
      "source": [
        "Draft up a function for three probabilty distributions used to evalute expended calories, temperature, and tolerance in order to make a go-for-a-run/don't-run decision"
      ],
      "metadata": {
        "id": "WFswGSjZ8sEK"
      }
    },
    {
      "cell_type": "code",
      "source": [
        "def run_decision(min_temp, max_temp, avg_tol, sd_tol, avg_calories):\n",
        "  # eval temperature using uniform distribution\n",
        "  temp = np.random.normal(min_temp, max_temp)\n",
        "\n",
        "  # eval tolerance using normal distribution\n",
        "  tolerance = np.random.normal(avg_tol, sd_tol)\n",
        "\n",
        "  # if temp meets criteria, go-for-a-run & calc calories burned\n",
        "  # use exponential distribution\n",
        "  if temp > tolerance:\n",
        "    caloriesBurned = np.random.exponential(avg_calories)\n",
        "  else:\n",
        "    caloriesBurned = 0\n",
        "\n",
        "  return caloriesBurned\n"
      ],
      "metadata": {
        "id": "n4meCHCE98PL"
      },
      "execution_count": 20,
      "outputs": []
    },
    {
      "cell_type": "markdown",
      "source": [
        "Run the run_decision function"
      ],
      "metadata": {
        "id": "rjJE8qTRGIOr"
      }
    },
    {
      "cell_type": "code",
      "source": [
        "run_decision(40,60,55,5,200)"
      ],
      "metadata": {
        "colab": {
          "base_uri": "https://localhost:8080/"
        },
        "id": "45uQlBQQGNaP",
        "outputId": "bd454e42-d91b-4ba8-a4a1-2a506d198dfb"
      },
      "execution_count": 27,
      "outputs": [
        {
          "output_type": "execute_result",
          "data": {
            "text/plain": [
              "48.231051373687045"
            ]
          },
          "metadata": {},
          "execution_count": 27
        }
      ]
    },
    {
      "cell_type": "markdown",
      "source": [
        "Draft up a monte carlo function\n",
        "in order to evaluate the run decision function many times (still needs work)"
      ],
      "metadata": {
        "id": "cOk8prLcA_TC"
      }
    },
    {
      "cell_type": "code",
      "source": [
        "def monteCarlo():\n",
        "  run_days_evaluated = 10000\n",
        "  daily_calories_burned = []\n",
        "\n",
        "  eval_start = time()\n",
        "  for _  in range(run_days_evaluated):\n",
        "    calories = run_decision(40,60,55,5,200)\n",
        "    daily_calories_burned.append(calories)\n",
        "  eval_end = time()\n",
        "  print(\"function run time\", eval_end - eval_start)\n"
      ],
      "metadata": {
        "id": "344r9oSrBllE"
      },
      "execution_count": 9,
      "outputs": []
    },
    {
      "cell_type": "markdown",
      "source": [
        "Draft up a monte carlo script because the draft monte carlo function still needs work in order to run it"
      ],
      "metadata": {
        "id": "keMWEj7BKco6"
      }
    },
    {
      "cell_type": "code",
      "source": [
        "run_days_evaluated = 10000\n",
        "daily_calories_burned = []\n",
        "\n",
        "eval_start_time = time()\n",
        "for _ in range(run_days_evaluated):\n",
        "  calories = run_decision(40,60,55,5,200)\n",
        "  daily_calories_burned.append(calories)\n",
        "eval_end_time = time()\n",
        "print(\"script run time\", eval_end_time - eval_start_time)"
      ],
      "metadata": {
        "colab": {
          "base_uri": "https://localhost:8080/"
        },
        "id": "2h3aKoalKkkA",
        "outputId": "0cb39946-19cb-4da1-e3b2-b12a2f357649"
      },
      "execution_count": 28,
      "outputs": [
        {
          "output_type": "stream",
          "name": "stdout",
          "text": [
            "script run time 0.0532681941986084\n"
          ]
        }
      ]
    },
    {
      "cell_type": "markdown",
      "source": [
        "Plot a histogram of the resulting data"
      ],
      "metadata": {
        "id": "Ub_eepa_EGh-"
      }
    },
    {
      "cell_type": "code",
      "source": [
        "plt.hist(daily_calories_burned)\n",
        "plt.title('Histogram of calories burned')\n",
        "plt.xlabel('amount of calories')\n",
        "plt.ylabel('number of days')"
      ],
      "metadata": {
        "colab": {
          "base_uri": "https://localhost:8080/",
          "height": 490
        },
        "id": "7o_wiolrELc-",
        "outputId": "eff576a5-ebe7-4db6-aee4-75208238f95a"
      },
      "execution_count": 46,
      "outputs": [
        {
          "output_type": "execute_result",
          "data": {
            "text/plain": [
              "Text(0, 0.5, 'number of days')"
            ]
          },
          "metadata": {},
          "execution_count": 46
        },
        {
          "output_type": "display_data",
          "data": {
            "text/plain": [
              "<Figure size 640x480 with 1 Axes>"
            ],
            "image/png": "[encoded data removed]"
          },
          "metadata": {}
        }
      ]
    },
    {
      "cell_type": "markdown",
      "source": [
        "Calculate how many days were spent running"
      ],
      "metadata": {
        "id": "fhL49SnLE7UW"
      }
    },
    {
      "cell_type": "code",
      "source": [
        "print(len([i for i in daily_calories_burned if i == 0]), \"days spent running\")"
      ],
      "metadata": {
        "colab": {
          "base_uri": "https://localhost:8080/"
        },
        "id": "A_JCoBS9FDxe",
        "outputId": "72e07699-292b-4762-93d8-2772a94a2fc1"
      },
      "execution_count": 38,
      "outputs": [
        {
          "output_type": "stream",
          "name": "stdout",
          "text": [
            "5931 days spent running\n"
          ]
        }
      ]
    },
    {
      "cell_type": "markdown",
      "source": [
        "Calculate mean calories burned"
      ],
      "metadata": {
        "id": "MFoMR_zlQAZ_"
      }
    },
    {
      "cell_type": "code",
      "source": [
        "print(np.mean(daily_calories_burned), \"mean calories burned\")"
      ],
      "metadata": {
        "colab": {
          "base_uri": "https://localhost:8080/"
        },
        "id": "AWBv8ILTQIiK",
        "outputId": "f59ae571-fa75-433b-ecc7-4ec3698985fe"
      },
      "execution_count": 44,
      "outputs": [
        {
          "output_type": "stream",
          "name": "stdout",
          "text": [
            "81.80692421953484 mean calories burned\n"
          ]
        }
      ]
    }
  ]
}
