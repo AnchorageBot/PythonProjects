{
  "nbformat": 4,
  "nbformat_minor": 0,
  "metadata": {
    "colab": {
      "provenance": [],
      "authorship_tag": "ABX9TyNXtSkcFXC+5MT4IKk1ANOw"
    },
    "kernelspec": {
      "name": "python3",
      "display_name": "Python 3"
    },
    "language_info": {
      "name": "python"
    }
  },
  "cells": [
    {
      "cell_type": "markdown",
      "source": [
        "Kaggle - Python Class - Problem\n",
        "* Swap list items"
      ],
      "metadata": {
        "id": "r5i3UOHpFfoC"
      }
    },
    {
      "cell_type": "code",
      "source": [
        "racers = [\"Mario\", \"Bowser\", \"Luigi\"]\n",
        "\n",
        "temp = racers[0]\n",
        "print(temp, \"in pole position \\n\")\n",
        "\n",
        "racers[0] = racers[-1]\n",
        "print(racers[0], \"in updated pole position \\n\")\n",
        "\n",
        "racers[-1] = temp\n",
        "print(racers[-1], \"in updated trail position\\n\")"
      ],
      "metadata": {
        "colab": {
          "base_uri": "https://localhost:8080/"
        },
        "id": "isaExWwLKjNW",
        "outputId": "53129568-ac79-4a39-81c4-35e15300a998"
      },
      "execution_count": null,
      "outputs": [
        {
          "output_type": "stream",
          "name": "stdout",
          "text": [
            "Mario in pole position \n",
            "\n",
            "Luigi in updated pole position \n",
            "\n",
            "Mario in updated trail position\n",
            "\n"
          ]
        }
      ]
    },
    {
      "cell_type": "code",
      "source": [
        "# refactored by Anthropic's AI Claude\n",
        "\n",
        "racers = [\"Mario\", \"Bowser\", \"Luigi\"]\n",
        "\n",
        "# Store initial pole position racer\n",
        "temp = racers[0]\n",
        "print(f\"{temp} starts in pole position\\n\")\n",
        "\n",
        "# Swap last place racer to pole position\n",
        "racers[0] = racers[-1]\n",
        "print(f\"{racers[0]} moves to pole position from last place\\n\")\n",
        "\n",
        "# Move original pole position racer to last place\n",
        "racers[-1] = temp\n",
        "print(f\"{racers[-1]} moves to last position\\n\")"
      ],
      "metadata": {
        "colab": {
          "base_uri": "https://localhost:8080/"
        },
        "id": "aZusfkLzQt4R",
        "outputId": "65458966-c256-4ee0-f873-8c5ee666713a"
      },
      "execution_count": 21,
      "outputs": [
        {
          "output_type": "stream",
          "name": "stdout",
          "text": [
            "Mario starts in pole position\n",
            "\n",
            "Luigi moves to pole position from last place\n",
            "\n",
            "Mario moves to last position\n",
            "\n"
          ]
        }
      ]
    },
    {
      "cell_type": "code",
      "execution_count": null,
      "metadata": {
        "colab": {
          "base_uri": "https://localhost:8080/"
        },
        "id": "YHsgXvHHElyS",
        "outputId": "38f73d55-550f-4163-c59c-91fb260bca4e"
      },
      "outputs": [
        {
          "output_type": "stream",
          "name": "stdout",
          "text": [
            "['Mario', 'Bowser', 'Luigi'] \n",
            "\n"
          ]
        },
        {
          "output_type": "execute_result",
          "data": {
            "text/plain": [
              "['Luigi', 'Bowser', 'Mario']"
            ]
          },
          "metadata": {},
          "execution_count": 13
        }
      ],
      "source": [
        "def purple_shell(racers):\n",
        "    \"\"\"Given a list of racers, set the first place racer (at the front of the list) to last\n",
        "    place and vice versa.\n",
        "\n",
        "    >>> r = [\"Mario\", \"Bowser\", \"Luigi\"]\n",
        "    >>> purple_shell(r)\n",
        "\n",
        "    \"\"\"\n",
        "\n",
        "    temp = racers[0]\n",
        "    racers[0] = racers[-1]\n",
        "    racers[-1] = temp\n",
        "\n",
        "    return racers\n",
        "\n",
        "racers = [\"Mario\", \"Bowser\", \"Luigi\"]\n",
        "print(racers,\"\\n\")\n",
        "purple_shell(racers)"
      ]
    },
    {
      "cell_type": "code",
      "source": [
        "def purple_shell(racers):\n",
        "    \"\"\"Given a list of racers, set the first place racer (at the front of the list) to last\n",
        "    place and vice versa.\n",
        "\n",
        "    >>> r = [\"Mario\", \"Bowser\", \"Luigi\"]\n",
        "    >>> purple_shell(r)\n",
        "\n",
        "    \"\"\"\n",
        "\n",
        "    temp = racers[0]\n",
        "    racers[0] = racers[-1]\n",
        "    racers[-1] = temp\n",
        "\n",
        "racers = [\"Mario\", \"Bowser\", \"Luigi\"]\n",
        "print(racers,\"\\n\")\n",
        "purple_shell(racers)\n",
        "print(racers)"
      ],
      "metadata": {
        "colab": {
          "base_uri": "https://localhost:8080/"
        },
        "id": "LxUBUIYxH0JS",
        "outputId": "4794d2a8-0a50-47f2-d951-bd34ac6abed6"
      },
      "execution_count": null,
      "outputs": [
        {
          "output_type": "stream",
          "name": "stdout",
          "text": [
            "['Mario', 'Bowser', 'Luigi'] \n",
            "\n",
            "['Luigi', 'Bowser', 'Mario']\n"
          ]
        }
      ]
    }
  ]
}