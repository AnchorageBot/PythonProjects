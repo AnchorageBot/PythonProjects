{
  "nbformat": 4,
  "nbformat_minor": 0,
  "metadata": {
    "colab": {
      "provenance": [],
      "authorship_tag": "ABX9TyNLd/OiC9J0LeT7WFbPyOg+"
    },
    "kernelspec": {
      "name": "python3",
      "display_name": "Python 3"
    },
    "language_info": {
      "name": "python"
    }
  },
  "cells": [
    {
      "cell_type": "markdown",
      "source": [
        "# Cracking Codes with Python\n",
        "\n",
        "This notebook will walk through a Brute Force Hack of the Caesar Cipher - more code comments"
      ],
      "metadata": {
        "id": "93nrSWqhY3Mo"
      }
    },
    {
      "cell_type": "markdown",
      "source": [
        "Shannon’s maxim: “The enemy knows the system.”"
      ],
      "metadata": {
        "id": "6a1hSGYoeu78"
      }
    },
    {
      "cell_type": "markdown",
      "source": [
        "Our references are:\n",
        "* [Cracking Codes with Python\n",
        "An Introduction to Building and Breaking Ciphers\n",
        "by Al Sweigart](https://nostarch.com/crackingcodes)\n",
        "* [Al Sweigart - Github](https://github.com/asweigart/)\n",
        "* [Al Sweigart - Website](https://inventwithpython.com/)\n",
        "* [Al Sweigart - YouTube](www.youtube.com/@AutomateTheBoringStuff)\n",
        "* [Python version 3.12.2](https://www.python.org/)\n",
        "* [pyperclip version 1.8.2](https://pypi.org/project/pyperclip/)"
      ],
      "metadata": {
        "id": "8sBJ_GykZFTg"
      }
    },
    {
      "cell_type": "code",
      "execution_count": null,
      "metadata": {
        "colab": {
          "base_uri": "https://localhost:8080/"
        },
        "id": "E6xSeoY0Yy6Y",
        "outputId": "3b15cf0b-83d0-4272-e575-b9090919463c"
      },
      "outputs": [
        {
          "output_type": "stream",
          "name": "stdout",
          "text": [
            "Key #0: guv6Jv6Jz!J6rp5r7Jzr66ntrM\n",
            "Key #1: ftu5Iu5Iy I5qo4q6Iyq55msqL\n",
            "Key #2: est4Ht4Hx0H4pn3p5Hxp44lrpK\n",
            "Key #3: drs3Gs3Gw9G3om2o4Gwo33kqoJ\n",
            "Key #4: cqr2Fr2Fv8F2nl1n3Fvn22jpnI\n",
            "Key #5: bpq1Eq1Eu7E1mkzm2Eum11iomH\n",
            "Key #6: aopzDpzDt6Dzljyl1DtlzzhnlG\n",
            "Key #7: ZnoyCoyCs5CykixkzCskyygmkF\n",
            "Key #8: YmnxBnxBr4BxjhwjyBrjxxfljE\n",
            "Key #9: XlmwAmwAq3AwigvixAqiwwekiD\n",
            "Key #10: Wklv.lv.p2.vhfuhw.phvvdjhC\n",
            "Key #11: Vjku?ku?o1?ugetgv?oguucigB\n",
            "Key #12: Uijt!jt!nz!tfdsfu!nfttbhfA\n",
            "Key #13: This is my secret message.\n",
            "Key #14: Sghr0hr0lx0rdbqds0ldrrZfd?\n",
            "Key #15: Rfgq9gq9kw9qcapcr9kcqqYec!\n",
            "Key #16: Qefp8fp8jv8pbZobq8jbppXdb \n",
            "Key #17: Pdeo7eo7iu7oaYnap7iaooWca0\n",
            "Key #18: Ocdn6dn6ht6nZXmZo6hZnnVbZ9\n",
            "Key #19: Nbcm5cm5gs5mYWlYn5gYmmUaY8\n",
            "Key #20: Mabl4bl4fr4lXVkXm4fXllTZX7\n",
            "Key #21: LZak3ak3eq3kWUjWl3eWkkSYW6\n",
            "Key #22: KYZj2Zj2dp2jVTiVk2dVjjRXV5\n",
            "Key #23: JXYi1Yi1co1iUShUj1cUiiQWU4\n",
            "Key #24: IWXhzXhzbnzhTRgTizbThhPVT3\n",
            "Key #25: HVWgyWgyamygSQfShyaSggOUS2\n",
            "Key #26: GUVfxVfxZlxfRPeRgxZRffNTR1\n",
            "Key #27: FTUewUewYkweQOdQfwYQeeMSQz\n",
            "Key #28: ESTdvTdvXjvdPNcPevXPddLRPy\n",
            "Key #29: DRScuScuWiucOMbOduWOccKQOx\n",
            "Key #30: CQRbtRbtVhtbNLaNctVNbbJPNw\n",
            "Key #31: BPQasQasUgsaMKZMbsUMaaIOMv\n",
            "Key #32: AOPZrPZrTfrZLJYLarTLZZHNLu\n",
            "Key #33: .NOYqOYqSeqYKIXKZqSKYYGMKt\n",
            "Key #34: ?MNXpNXpRdpXJHWJYpRJXXFLJs\n",
            "Key #35: !LMWoMWoQcoWIGVIXoQIWWEKIr\n",
            "Key #36:  KLVnLVnPbnVHFUHWnPHVVDJHq\n",
            "Key #37: 0JKUmKUmOamUGETGVmOGUUCIGp\n",
            "Key #38: 9IJTlJTlNZlTFDSFUlNFTTBHFo\n",
            "Key #39: 8HISkISkMYkSECRETkMESSAGEn\n",
            "Key #40: 7GHRjHRjLXjRDBQDSjLDRR.FDm\n",
            "Key #41: 6FGQiGQiKWiQCAPCRiKCQQ?ECl\n",
            "Key #42: 5EFPhFPhJVhPB.OBQhJBPP!DBk\n",
            "Key #43: 4DEOgEOgIUgOA?NAPgIAOO CAj\n",
            "Key #44: 3CDNfDNfHTfN.!M.OfH.NN0B.i\n",
            "Key #45: 2BCMeCMeGSeM? L?NeG?MM9A?h\n",
            "Key #46: 1ABLdBLdFRdL!0K!MdF!LL8.!g\n",
            "Key #47: z.AKcAKcEQcK 9J LcE KK7? f\n",
            "Key #48: y?.Jb.JbDPbJ08I0KbD0JJ6!0e\n",
            "Key #49: x!?Ia?IaCOaI97H9JaC9II5 9d\n",
            "Key #50: w !HZ!HZBNZH86G8IZB8HH408c\n",
            "Key #51: v0 GY GYAMYG75F7HYA7GG397b\n",
            "Key #52: u90FX0FX.LXF64E6GX.6FF286a\n",
            "Key #53: t89EW9EW?KWE53D5FW?5EE175Z\n",
            "Key #54: s78DV8DV!JVD42C4EV!4DDz64Y\n",
            "Key #55: r67CU7CU IUC31B3DU 3CCy53X\n",
            "Key #56: q56BT6BT0HTB2zA2CT02BBx42W\n",
            "Key #57: p45AS5AS9GSA1y.1BS91AAw31V\n",
            "Key #58: o34.R4.R8FR.zx?zAR8z..v2zU\n",
            "Key #59: n23?Q3?Q7EQ?yw!y.Q7y??u1yT\n",
            "Key #60: m12!P2!P6DP!xv x?P6x!!tzxS\n",
            "Key #61: lz1 O1 O5CO wu0w!O5w  sywR\n",
            "Key #62: kyz0Nz0N4BN0vt9v N4v00rxvQ\n",
            "Key #63: jxy9My9M3AM9us8u0M3u99qwuP\n",
            "Key #64: iwx8Lx8L2.L8tr7t9L2t88pvtO\n",
            "Key #65: hvw7Kw7K1?K7sq6s8K1s77ousN\n"
          ]
        }
      ],
      "source": [
        "# Caesar Cipher\n",
        "# Made by Al Sweigart\n",
        "# https://www.nostarch.com/crackingcodes/ (BSD Licensed)\n",
        "\n",
        "\n",
        "message = 'guv6Jv6Jz!J6rp5r7Jzr66ntrM'\n",
        "SYMBOLS = 'ABCDEFGHIJKLMNOPQRSTUVWXYZabcdefghijklmnopqrstuvwxyz1234567890 !?.'\n",
        "\n",
        "# Loop through every possible key:\n",
        "for key in range(len(SYMBOLS)):\n",
        "     # It is important to set translated to the blank string so that the\n",
        "     # previous iteration's value for translated is cleared:\n",
        "     translated = ''\n",
        "\n",
        "     # The rest of the program is almost the same as the Caesar program:\n",
        "\n",
        "     # Loop through each symbol in message:\n",
        "     for symbol in message:\n",
        "         if symbol in SYMBOLS:\n",
        "             symbolIndex = SYMBOLS.find(symbol)\n",
        "             translatedIndex = symbolIndex - key\n",
        "\n",
        "             # Handle the wraparound:\n",
        "             if translatedIndex < 0:\n",
        "                 translatedIndex = translatedIndex + len(SYMBOLS)\n",
        "\n",
        "             # Append the decrypted symbol:\n",
        "             translated = translated + SYMBOLS[translatedIndex]\n",
        "\n",
        "         else:\n",
        "             # Append the symbol without encrypting/decrypting:\n",
        "             translated = translated + symbol\n",
        "\n",
        "     # Display every possible decryption:\n",
        "     print('Key #%s: %s' % (key, translated))\n"
      ]
    },
    {
      "cell_type": "markdown",
      "source": [
        "Review the script output and see that 'Key #13:' has hacked Caesar's Cipher"
      ],
      "metadata": {
        "id": "n0xyGbXygEz_"
      }
    },
    {
      "cell_type": "markdown",
      "source": [
        "Codeblock breakout - range\n",
        "* [class range(start, stop, step=1)](https://docs.python.org/3/library/functions.html#func-range)\n",
        "* [represents an immutable sequence of numbers and is commonly used for looping a specific number of times in for loops](https://docs.python.org/3/library/stdtypes.html#typesseq-range)"
      ],
      "metadata": {
        "id": "aboum8lE2Six"
      }
    },
    {
      "cell_type": "code",
      "source": [
        "list(range(20))"
      ],
      "metadata": {
        "colab": {
          "base_uri": "https://localhost:8080/"
        },
        "id": "LubUIdSq3G2-",
        "outputId": "ddb24bd0-4a2f-4bfe-c670-68e1ccab3607"
      },
      "execution_count": 5,
      "outputs": [
        {
          "output_type": "execute_result",
          "data": {
            "text/plain": [
              "[0, 1, 2, 3, 4, 5, 6, 7, 8, 9, 10, 11, 12, 13, 14, 15, 16, 17, 18, 19]"
            ]
          },
          "metadata": {},
          "execution_count": 5
        }
      ]
    },
    {
      "cell_type": "code",
      "source": [
        "list(range(0, 20, 5))"
      ],
      "metadata": {
        "colab": {
          "base_uri": "https://localhost:8080/"
        },
        "id": "6EjT-Izu28iT",
        "outputId": "0b00449f-64a5-49d2-e04f-3d913e67ed7c"
      },
      "execution_count": 4,
      "outputs": [
        {
          "output_type": "execute_result",
          "data": {
            "text/plain": [
              "[0, 5, 10, 15]"
            ]
          },
          "metadata": {},
          "execution_count": 4
        }
      ]
    }
  ]
}