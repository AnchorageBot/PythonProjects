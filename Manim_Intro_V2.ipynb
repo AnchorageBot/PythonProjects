{
  "nbformat": 4,
  "nbformat_minor": 0,
  "metadata": {
    "colab": {
      "provenance": [],
      "authorship_tag": "ABX9TyMYViqmcI3tlaL8OrOu/Rlx"
    },
    "kernelspec": {
      "name": "python3",
      "display_name": "Python 3"
    },
    "language_info": {
      "name": "python"
    }
  },
  "cells": [
    {
      "cell_type": "markdown",
      "source": [
        "Intro to Manim\n",
        "* Python library for creating mathematical animations\n",
        "* [Manim Homepage](https://www.manim.community/)"
      ],
      "metadata": {
        "id": "f2EiIXEyS2kC"
      }
    },
    {
      "cell_type": "code",
      "source": [
        "# An attempt to install manim that failed\n",
        "\n",
        "!pip install manim"
      ],
      "metadata": {
        "colab": {
          "base_uri": "https://localhost:8080/"
        },
        "id": "mI4TUM75UJ3g",
        "outputId": "e6bf10c5-58e6-483d-e253-0cba5d2a388d"
      },
      "execution_count": 8,
      "outputs": [
        {
          "output_type": "stream",
          "name": "stdout",
          "text": [
            "Collecting manim\n",
            "  Using cached manim-0.18.1-py3-none-any.whl.metadata (10 kB)\n",
            "Requirement already satisfied: Pillow>=9.1 in /usr/local/lib/python3.10/dist-packages (from manim) (10.4.0)\n",
            "Requirement already satisfied: Pygments>=2.0.0 in /usr/local/lib/python3.10/dist-packages (from manim) (2.18.0)\n",
            "Requirement already satisfied: click>=8.0 in /usr/local/lib/python3.10/dist-packages (from manim) (8.1.7)\n",
            "Collecting cloup>=2.0.0 (from manim)\n",
            "  Using cached cloup-3.0.5-py2.py3-none-any.whl.metadata (6.7 kB)\n",
            "Requirement already satisfied: decorator>=4.3.2 in /usr/local/lib/python3.10/dist-packages (from manim) (4.4.2)\n",
            "Collecting isosurfaces>=0.1.0 (from manim)\n",
            "  Using cached isosurfaces-0.1.2-py3-none-any.whl.metadata (3.3 kB)\n",
            "Collecting manimpango<1.0.0,>=0.5.0 (from manim)\n",
            "  Using cached manimpango-0.6.0.tar.gz (4.1 MB)\n",
            "  Installing build dependencies ... \u001b[?25l\u001b[?25hdone\n",
            "  \u001b[1;31merror\u001b[0m: \u001b[1msubprocess-exited-with-error\u001b[0m\n",
            "  \n",
            "  \u001b[31m×\u001b[0m \u001b[32mGetting requirements to build wheel\u001b[0m did not run successfully.\n",
            "  \u001b[31m│\u001b[0m exit code: \u001b[1;36m1\u001b[0m\n",
            "  \u001b[31m╰─>\u001b[0m See above for output.\n",
            "  \n",
            "  \u001b[1;35mnote\u001b[0m: This error originates from a subprocess, and is likely not a problem with pip.\n",
            "  Getting requirements to build wheel ... \u001b[?25l\u001b[?25herror\n",
            "\u001b[1;31merror\u001b[0m: \u001b[1msubprocess-exited-with-error\u001b[0m\n",
            "\n",
            "\u001b[31m×\u001b[0m \u001b[32mGetting requirements to build wheel\u001b[0m did not run successfully.\n",
            "\u001b[31m│\u001b[0m exit code: \u001b[1;36m1\u001b[0m\n",
            "\u001b[31m╰─>\u001b[0m See above for output.\n",
            "\n",
            "\u001b[1;35mnote\u001b[0m: This error originates from a subprocess, and is likely not a problem with pip.\n"
          ]
        }
      ]
    },
    {
      "cell_type": "code",
      "source": [
        "# Another attempt to install manim that failed\n",
        "\n",
        "#choco install manimce"
      ],
      "metadata": {
        "id": "yJwKPOS3X9nr"
      },
      "execution_count": null,
      "outputs": []
    },
    {
      "cell_type": "code",
      "source": [
        "# Another attempt to install manim that failed\n",
        "\n",
        "#scoop install python ffmpeg\n",
        "\n",
        "#python -m pip install manim"
      ],
      "metadata": {
        "id": "5M3-XkhNYjm7"
      },
      "execution_count": null,
      "outputs": []
    },
    {
      "cell_type": "code",
      "execution_count": null,
      "metadata": {
        "id": "IzKIliLLS11g"
      },
      "outputs": [],
      "source": [
        "# This script is an example visualization of a circle turning into a square\n",
        "\n",
        "# Import the manim library\n",
        "import manim\n",
        "\n",
        "#from manim import *\n",
        "#config.media_width = \"75%\"\n",
        "#config.verbosity = \"WARNING\"\n",
        "\n",
        "%%manim -qm CircleToSquare\n",
        "\n",
        "class CircleToSquare(Scene):\n",
        "    def construct(self):\n",
        "        blue_circle = Circle(color=BLUE, fill_opacity=0.5)\n",
        "        green_square = Square(color=GREEN, fill_opacity=0.8)\n",
        "        self.play(Create(blue_circle))\n",
        "        self.wait()\n",
        "\n",
        "        self.play(Transform(blue_circle, green_square))\n",
        "        self.wait()"
      ]
    }
  ]
}