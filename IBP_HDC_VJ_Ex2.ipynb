{
  "nbformat": 4,
  "nbformat_minor": 0,
  "metadata": {
    "colab": {
      "provenance": [],
      "authorship_tag": "ABX9TyO89CG7Oyj9pbxcfv4AVM8q"
    },
    "kernelspec": {
      "name": "python3",
      "display_name": "Python 3"
    },
    "language_info": {
      "name": "python"
    }
  },
  "cells": [
    {
      "cell_type": "markdown",
      "source": [
        "Bernoulli Percolation Notebook\n",
        "* Based upon Professor Hugo Duminil-Copin's notes\n",
        "* Introduction to Bernoulli Percolation dated November 2, 2022\n",
        "* [Universite' de Geneve, IHES](https://www.ihes.fr/~duminil/CV.html)"
      ],
      "metadata": {
        "id": "vZKxLBxp0U6G"
      }
    },
    {
      "cell_type": "markdown",
      "source": [
        "Tutors 🚀 :\n",
        "* Professor Hugo Duminil-Copin\n",
        "* Open AI's ChatGPT\n",
        "* Google's AI Gemini 2.0 Experimental Advanced"
      ],
      "metadata": {
        "id": "uHaVx4Q80dx0"
      }
    },
    {
      "cell_type": "markdown",
      "source": [
        "## Glossary Table\n",
        "\n",
        "| Symbol/Term                       | Meaning                                                                                                                                                                | Concept                                           | Notes                                                                                                                                                                                                                            |\n",
        "| :-------------------------------- | :------------------------------------------------------------------------------------------------------------------------------------------------------------------------- | :------------------------------------------------ | :------------------------------------------------------------------------------------------------------------------------------------------------------------------------------------------------------------------------------- |\n",
        "| `G = (V, E)`                      | A graph with vertex set `V` and edge set `E`                                                                                                                              | Graph Theory                                      |                                                                                                                                                                                                                              |\n",
        "| `ω` (omega)                       | A percolation configuration; an element of `{0, 1}ᴱ`, where `ωₑ = 1` means edge `e` is open, and `ωₑ = 0` means edge `e` is closed                                        | Percolation Theory                                |                                                                                                                                                                                                                              |\n",
        "| `ωₑ`                                | State of edge `e` in configuration `ω` (1 for open, 0 for closed)                                                                                                         | Percolation Theory                                |                                                                                                                                                                                                                              |\n",
        "| `ω'` (omega prime)                 | A percolation configuration, often used in the context of coupling or as a dual configuration                                                                            | Percolation Theory                                | Clarified the role of `ω'`                                                                                                                                                                                                     |\n",
        "| `e*`                               | Edge in the dual graph corresponding to edge `e` in the original graph                                                                                                     | Percolation Theory (Duality)                     |                                                                                                                                                                                                                              |\n",
        "| `(ℤ²)⁺`                             | Translation of `ℤ²` by the vector (1/2, 1/2); also denoted as the dual graph                                                                                                | Lattice Geometry, Percolation Theory (Duality)   | Added that it's also the dual graph.                                                                                                                                                                                      |\n",
        "| Bernoulli Percolation             | Percolation model where each edge is independently open with probability `p` and closed with probability `1-p`                                                              | Percolation Theory                                |                                                                                                                                                                                                                              |\n",
        "| `p`                               | Probability that an edge is open in Bernoulli percolation                                                                                                                   | Percolation Theory                                |                                                                                                                                                                                                                              |\n",
        "| `ℙₚ` or `P_p`                      | Probability measure for Bernoulli percolation with parameter `p`                                                                                                             | Probability Theory, Percolation Theory          | Added alternative notation `P_p`                                                                                                                                                                                               |\n",
        "| `θ(p)`                             | Probability that the origin (or a specific vertex) belongs to an infinite cluster in Bernoulli percolation with parameter `p`                                            | Percolation Theory                                |                                                                                                                                                                                                                              |\n",
        "| `p_c` or `p_c(d)`                 | Critical probability; the infimum of `p` such that `θ(p) > 0` (may be denoted with `d` if dimension is important)                                                             | Percolation Theory                                | Added `p_c(d)` to make it clear that it can depend on dimension.                                                                                                                                                              |\n",
        "| `0 ↔ ∞`                            | Existence of an infinite path (or cluster) connecting the origin to infinity                                                                                                 | Percolation Theory                                |                                                                                                                                                                                                                              |\n",
        "| `ℤᵈ`                               | Set of elements in `ℝᵈ` with integer coordinates (also represents the d-dimensional hypercubic lattice/vertex set)                                                          | Discrete Mathematics, Geometry, Percolation Theory | Emphasized that it's the d-dimensional hypercubic lattice.                                                                                                                                                         |\n",
        "| Infinite cluster                  | A connected component of open edges that is infinite                                                                                                                       | Percolation Theory                                |                                                                                                                                                                                                                              |\n",
        "| Self-avoiding path                | A sequence of edges `e₁, ..., eₙ` where `eᵢ ≠ eⱼ` for `i ≠ j`, and adjacent edges share an endpoint                                                                         | Graph Theory, Percolation Theory                  |                                                                                                                                                                                                                              |\n",
        "| `Ωₙ`                               | Set of self-avoiding paths of length `n` starting from the origin                                                                                                           | Graph Theory, Percolation Theory                  |                                                                                                                                                                                                                              |\n",
        "| Dual graph `(ℤ²)∗` or `(ℤ²)⁺`        | Graph with vertices at the centers of the squares of `ℤ²`, and edges connecting adjacent centers, representing the dual to the original lattice's edges                  | Percolation Theory (Duality)                     | Used both `(ℤ²)∗` and `(ℤ²)⁺`                                                                                                                                                                                            |\n",
        "| Increasing event                  | An event `A` is increasing if `ω ∈ A` and `ω ≤ ω'` implies `ω' ∈ A`                                                                                                        | Percolation Theory                                |                                                                                                                                                                                                                              |\n",
        "| Decreasing event                  | An event `A` is decreasing if its complement is increasing                                                                                                                 | Percolation Theory                                |                                                                                                                                                                                                                              |\n",
        "| `x ↔ y`                            | Sites `x` and `y` are connected in `ω` (there exists a path of open edges from `x` to `y`)                                                                                  | Percolation Theory                                |                                                                                                                                                                                                                              |\n",
        "| `A ↔ B`                            | There exists a path connecting set of vertices `A` to set of vertices `B`                                                                                                   | Percolation Theory                                |                                                                                                                                                                                                                              |\n",
        "| `x ↔ ∞`                            | The site `x` is in an infinite connected component (same as `x` belongs to an infinite cluster)                                                                           | Percolation Theory                                | Added \"same as `x` belongs to an infinite cluster\" for clarity.                                                                                                                                                        |\n",
        "| `|F| > k`                         | The number of open edges in the set `F` exceeds `k`                                                                                                                       | Percolation Theory                                |                                                                                                                                                                                                                              |\n",
        "| Lattice animal                    | A finite connected subset of a graph (specifically, a connected subgraph of the lattice)                                                                                  | Graph Theory, Combinatorics                        | Added \"connected subgraph of the lattice\" for specificity.                                                                                                                                                            |\n",
        "| `α(n, x)` or `a(n, x)`             | The number of lattice animals of size `n` containing the vertex `x`                                                                                                           | Graph Theory, Combinatorics                        | Added alternative notation `a(n,x)`                                                                                                                                                                                      |\n",
        "| Minimal blocking surface          | A set of edges `E` such that every path of adjacent edges from the origin to infinity intersects `E`, and no proper subset of `E` has this property                          | Percolation Theory                                |                                                                                                                                                                                                                              |\n",
        "| Elementary loop                  | A loop of length 4 in the lattice                                                                                                                                             | Graph Theory                                      |                                                                                                                                                                                                                              |\n",
        "| Increasing coupling               | A measure `P` on `{0,1}ᴱ × {0,1}ᴱ` with marginals `P_p` and `P_p'` (where `p < p'`) such that `P[(ω, ω'): ω ≤ ω'] = 1`                                                            | Probability Theory, Percolation Theory          | Specified `p < p'`                                                                                                                                                                                                        |\n",
        "| `Λₙ` (Lambda_n)                   | A finite subset of the lattice defined as `[-n, n]ᵈ` for any integer `n ≥ 1`.                                                                                                 | Lattice Geometry                                      | Added to the table as it's frequently used to refer to a box or finite region of the lattice                                                                                                                            |\n",
        "| Boundary of a subgraph (`∂G`)      | For a subgraph `G = (V, E)` of  `ℤᵈ`, its boundary `∂G` is the set of vertices in `G` that are connected to at least one vertex outside of `G`.                              | Graph Theory, Percolation Theory                  | Added as it's important for understanding how finite subgraphs relate to the infinite lattice and defines the edges of finite regions.                                                                                  |\n",
        "| `|Ωₙ|`                             | The number (cardinality) of self-avoiding paths of length `n` starting from the origin                                                                                           | Graph Theory, Combinatorics                        | Added for clarity regarding the use in the document.                                                                                                                                                                          |\n",
        "| `d` (in the context of `p_c(d)`) | The dimension of the hypercubic lattice (e.g., `d=2` for the square lattice)                                                                                                   | Percolation Theory                                | Added to clarify the use of `d` in the context of critical probability.                                                                                                                                                      |"
      ],
      "metadata": {
        "id": "Hg5daeEl9yjI"
      }
    },
    {
      "cell_type": "markdown",
      "source": [
        "## **Exercise 2: 1st Draft**\n",
        "\n",
        "### **Given:**\n",
        "We are working in the **Bernoulli percolation framework**, where:\n",
        "\n",
        "- **\\((\\Omega, \\mathcal{F}, \\mathbb{P}_p)\\)** represents a probability space:\n",
        "  - **\\(\\Omega = \\{0,1\\}^E\\)**: The set of all possible **percolation configurations** \\(\\omega\\), where \\(E\\) is the set of edges in a given lattice (e.g., \\(\\mathbb{Z}^d\\)).\n",
        "  - **\\(\\mathcal{F}\\)**: The **product \\(\\sigma\\)-algebra** generated by the random variables \\(\\{\\omega_e\\}\\) for \\(e \\in E\\), which defines all measurable events related to the configuration of edges.\n",
        "  - **\\(\\mathbb{P}_p\\)**: The **Bernoulli percolation probability measure** with parameter \\(p\\), where each edge is independently open with probability \\(p\\).\n",
        "\n",
        "- **\\(\\mathbb{Z}\\)**: The set of integers \\(\\{...,-3, -2, -1, 0, 1, 2, 3, ...\\}\\), representing a **one-dimensional lattice**.\n",
        "\n",
        "- **\\(p\\)**: The probability that a given edge is **open** in the Bernoulli percolation model.\n",
        "\n",
        "- **\\(\\theta(p)\\)**: The probability that the **origin (or a specific vertex)** belongs to an **infinite cluster** in Bernoulli percolation with parameter \\(p\\).\n",
        "\n",
        "- **\\(\\inf\\)**: The **infimum**, which is the greatest lower bound of a set. If the set has a smallest element, the infimum is that element.\n",
        "\n",
        "- **\\(p_c\\)**: The **critical probability**, defined as:\n",
        "  \\[\n",
        "  p_c := \\inf\\{p \\in [0,1] \\mid \\theta(p) > 0\\}\n",
        "  \\]\n",
        "  This represents the smallest probability at which an **infinite cluster appears**.\n",
        "\n",
        "- **\\(\\mathbb{Z}^d\\)**: The **\\(d\\)-dimensional hypercubic lattice**, which consists of all integer-coordinate points in \\(\\mathbb{R}^d\\).\n",
        "\n",
        "---\n",
        "\n",
        "### **Find:**\n",
        "We need to prove the following statements:\n",
        "\n",
        "1. **Show that \\( p_c(\\mathbb{Z}) = 1 \\).**  \n",
        "   - This means that in **one-dimensional percolation**, there is **no infinite cluster for any \\( p < 1 \\)**.\n",
        "  \n",
        "2. **Show that \\( p_c(\\mathbb{Z} \\times \\{0, ..., n\\}) = 1 \\).**  \n",
        "   - This extends the result to **(1+1)-dimensional percolation**, where we take the Cartesian product of \\(\\mathbb{Z}\\) with a finite set of \\( n+1 \\) elements.\n",
        "   - This implies that adding a finite width (strip-like structure) does not lower the percolation threshold.\n",
        "\n",
        "---\n",
        "\n",
        "### **Solution Approach**\n",
        "#### **Step 1: Proving \\( p_c(\\mathbb{Z}) = 1 \\)**\n",
        "- Consider percolation on the **one-dimensional lattice \\(\\mathbb{Z}\\)**.\n",
        "- Each **connected component (cluster)** consists of consecutive open edges.\n",
        "- If \\( p < 1 \\), then every **edge is independently open with probability \\( p \\) and closed with probability \\( 1 - p \\)**.\n",
        "- This implies that **gaps (closed edges) occur with probability \\( 1 - p \\)** and separate clusters.\n",
        "- The probability of finding an **infinite connected component** is **zero** unless **every edge is open (\\( p = 1 \\))**.\n",
        "- Thus, \\( \\theta(p) = 0 \\) for all \\( p < 1 \\), implying:\n",
        "  \\[\n",
        "  p_c(\\mathbb{Z}) = 1.\n",
        "  \\]\n",
        "\n",
        "---\n",
        "\n",
        "#### **Step 2: Proving \\( p_c(\\mathbb{Z} \\times \\{0, ..., n\\}) = 1 \\)**\n",
        "- Now, consider percolation on the **strip** \\( \\mathbb{Z} \\times \\{0, ..., n\\} \\), where each point has additional finite-width neighbors.\n",
        "- Even though each vertex has more connections, **the presence of closed edges still creates finite clusters**.\n",
        "- For any \\( p < 1 \\), **there is still a positive probability of a vertical \"cut\" disconnecting the system**.\n",
        "- Since the width \\( n+1 \\) is finite, the probability of percolation in this strip behaves **asymptotically like \\( \\mathbb{Z} \\)**.\n",
        "- By adapting arguments from **bond percolation in one dimension**, we conclude:\n",
        "  \\[\n",
        "  p_c(\\mathbb{Z} \\times \\{0, ..., n\\}) = 1.\n",
        "  \\]\n",
        "\n",
        "---\n",
        "\n",
        "### **Key Insights:**\n",
        "✅ In **one dimension**, percolation is impossible unless \\( p = 1 \\) because **closed edges act as barriers**.  \n",
        "✅ Adding **finite width** does not change this behavior, since vertical cuts still occur with probability \\( 1 - p \\).  \n",
        "✅ **Higher dimensions (\\( d \\geq 2 \\)) behave differently**—they may percolate for some \\( p < 1 \\), but **not in one dimension or in a finite-width strip**.  \n",
        "\n",
        "---\n",
        "\n",
        "### **Final Answer:**\n",
        "\\[\n",
        "p_c(\\mathbb{Z}) = 1, \\quad p_c(\\mathbb{Z} \\times \\{0, ..., n\\}) = 1.\n",
        "\\]\n",
        "\n",
        "This refined approach ensures clarity, precision, and alignment with percolation theory concepts."
      ],
      "metadata": {
        "id": "L2OKdQG5-XdT"
      }
    }
  ]
}