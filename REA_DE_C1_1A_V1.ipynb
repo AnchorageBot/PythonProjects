{
  "nbformat": 4,
  "nbformat_minor": 0,
  "metadata": {
    "colab": {
      "provenance": [],
      "authorship_tag": "ABX9TyOv/2CJSNlUc9XT9jjaceDt"
    },
    "kernelspec": {
      "name": "python3",
      "display_name": "Python 3"
    },
    "language_info": {
      "name": "python"
    }
  },
  "cells": [
    {
      "cell_type": "markdown",
      "source": [
        "REA Differential Equations Notebook\n",
        "\n",
        "* Page 1A\n",
        "\n",
        "Tutor:\n",
        "* Anthropic's AI, Claude"
      ],
      "metadata": {
        "id": "HOXviQDxyqUH"
      }
    },
    {
      "cell_type": "markdown",
      "source": [
        "# Classification of Differential Equations\n",
        "\n",
        "## General Properties of Equations\n",
        "Linear vs Non-linear Equations\n",
        "\n",
        "* Linear Equations satisfy:\n",
        "\n",
        "  $*f(x, y) = g(x)$\n",
        "\n",
        "  $*f(x, ay_1 + ay_2) = af(x,y_1) + bf(x,y_2)$\n",
        "\n",
        "* Non-linear Equations satisfy:\n",
        "\n",
        "  $*f(x, y) \\neq g(x)$\n",
        "\n",
        "  $*f(x, ay_1 + ay_2) \\neq af(x,y_1) + bf(x,y_2)$\n",
        "\n",
        "## Ordinary Differential Equations (ODEs)\n",
        "* Classification criteria:\n",
        "    * Contain one independent variable\n",
        "    * Order (highest derivative in the equation)\n",
        "    * Linearity or non-linearity\n",
        "* Examples:\n",
        "    * Linear ODE: $\\frac{dy}{dx} + ay = f(x)$\n",
        "    * Non-linear ODE: $\\frac{dy}{dx} = y^2$\n",
        "\n",
        "## Partial Differential Equations (PDEs)\n",
        "* Classification criteria:\n",
        "    * Contain two or more independent variables\n",
        "    * Order (highest partial derivative)\n",
        "    * Linearity or non-linearity\n",
        "* Examples:\n",
        "    * Linear PDE: $\\frac{\\partial^2 u}{\\partial x^2} + \\frac{\\partial^2 u}{\\partial y^2} = f(x,y)$ (Poisson's equation)\n",
        "    * Non-linear PDE: $\\frac{\\partial u}{\\partial t} + u\\frac{\\partial u}{\\partial x} = 0$ (Inviscid Burgers' equation)"
      ],
      "metadata": {
        "id": "oHlnSwRLvkrJ"
      }
    }
  ]
}