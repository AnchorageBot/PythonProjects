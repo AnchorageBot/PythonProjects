{
  "metadata": {
    "kernelspec": {
      "language": "python",
      "display_name": "Python 3",
      "name": "python3"
    },
    "language_info": {
      "name": "python",
      "version": "3.10.14",
      "mimetype": "text/x-python",
      "codemirror_mode": {
        "name": "ipython",
        "version": 3
      },
      "pygments_lexer": "ipython3",
      "nbconvert_exporter": "python",
      "file_extension": ".py"
    },
    "kaggle": {
      "accelerator": "none",
      "dataSources": [],
      "isInternetEnabled": false,
      "language": "python",
      "sourceType": "notebook",
      "isGpuEnabled": false
    },
    "colab": {
      "name": "Exercise: Syntax, Variables, and Numbers",
      "provenance": []
    }
  },
  "nbformat_minor": 0,
  "nbformat": 4,
  "cells": [
    {
      "cell_type": "markdown",
      "source": [
        "**This notebook is an exercise in the [Python](https://www.kaggle.com/learn/python) course.  You can reference the tutorial at [this link](https://www.kaggle.com/colinmorris/hello-python).**\n",
        "\n",
        "---\n"
      ],
      "metadata": {
        "id": "taZYJlgq9Axe"
      }
    },
    {
      "cell_type": "markdown",
      "source": [
        "Welcome to your first set of Python coding problems.  If this is your first time using Kaggle Notebooks, welcome!\n",
        "\n",
        "Notebooks are composed of blocks (called \"cells\") of text and code. Each of these is editable, though you'll mainly be editing the code cells to answer some questions.\n",
        "\n",
        "To get started, try running the code cell below (by pressing the ► button, or clicking on the cell and pressing ctrl+enter on your keyboard)."
      ],
      "metadata": {
        "id": "YP1mk1tj9Axg"
      }
    },
    {
      "cell_type": "code",
      "source": [
        "print(\"You've successfully run some Python code\")\n",
        "print(\"Congratulations!\")\n",
        "print(\"That was interesting\")"
      ],
      "metadata": {
        "execution": {
          "iopub.status.busy": "2024-11-19T14:45:32.942608Z",
          "iopub.execute_input": "2024-11-19T14:45:32.942948Z",
          "iopub.status.idle": "2024-11-19T14:45:32.973293Z",
          "shell.execute_reply.started": "2024-11-19T14:45:32.942918Z",
          "shell.execute_reply": "2024-11-19T14:45:32.972088Z"
        },
        "trusted": true,
        "id": "77Z5rzB49Axg",
        "outputId": "4078cd3e-5cd6-46d8-d1ef-6ea025b3df88"
      },
      "execution_count": null,
      "outputs": [
        {
          "name": "stdout",
          "text": "You've successfully run some Python code\nCongratulations!\nThat was interesting\n",
          "output_type": "stream"
        }
      ]
    },
    {
      "cell_type": "code",
      "source": [
        "print(\"Spam, spam, & eggs!\")"
      ],
      "metadata": {
        "execution": {
          "iopub.status.busy": "2024-11-19T14:45:54.370307Z",
          "iopub.execute_input": "2024-11-19T14:45:54.370694Z",
          "iopub.status.idle": "2024-11-19T14:45:54.375881Z",
          "shell.execute_reply.started": "2024-11-19T14:45:54.37066Z",
          "shell.execute_reply": "2024-11-19T14:45:54.37486Z"
        },
        "trusted": true,
        "id": "zeX4TRyf9Axh",
        "outputId": "598f3061-2f1b-4330-9972-a0e0bfa6d234"
      },
      "execution_count": null,
      "outputs": [
        {
          "name": "stdout",
          "text": "Spam, spam, & eggs!\n",
          "output_type": "stream"
        }
      ]
    },
    {
      "cell_type": "code",
      "source": [
        "print(\"New code cell made by clicking on existing code cell, hitting escape, and then hitting the 'a' key\")"
      ],
      "metadata": {
        "execution": {
          "iopub.status.busy": "2024-11-19T14:48:34.709537Z",
          "iopub.execute_input": "2024-11-19T14:48:34.709946Z",
          "iopub.status.idle": "2024-11-19T14:48:34.715634Z",
          "shell.execute_reply.started": "2024-11-19T14:48:34.70991Z",
          "shell.execute_reply": "2024-11-19T14:48:34.714547Z"
        },
        "trusted": true,
        "id": "XVSBmV7C9Axh",
        "outputId": "db9ee79e-87b4-45d7-fe02-16a7c3046a2c"
      },
      "execution_count": null,
      "outputs": [
        {
          "name": "stdout",
          "text": "New code cell made by clicking on existing code cell, hitting escape, and then hitting the 'a' key\n",
          "output_type": "stream"
        }
      ]
    },
    {
      "cell_type": "code",
      "source": [
        "print(\"Spam, spam, spam, spam\")\n",
        "print(\"Spam\")"
      ],
      "metadata": {
        "execution": {
          "iopub.status.busy": "2024-11-19T14:46:40.350217Z",
          "iopub.execute_input": "2024-11-19T14:46:40.351305Z",
          "iopub.status.idle": "2024-11-19T14:46:40.356331Z",
          "shell.execute_reply.started": "2024-11-19T14:46:40.35123Z",
          "shell.execute_reply": "2024-11-19T14:46:40.355195Z"
        },
        "trusted": true,
        "id": "L74EE1iI9Axi",
        "outputId": "6d5d7178-b6f7-4d8d-c7f2-b8c62364f932"
      },
      "execution_count": null,
      "outputs": [
        {
          "name": "stdout",
          "text": "Spam, spam, spam, spam\nSpam\n",
          "output_type": "stream"
        }
      ]
    },
    {
      "cell_type": "markdown",
      "source": [
        "Try adding another line of code in the cell above and re-running it.\n",
        "\n",
        "Now let's get a little fancier:  Add a new code cell by clicking on an existing code cell, hitting the escape key, and then hitting the `a` or `b` key.  The `a` key will add a cell above the current cell, and `b` adds a cell below.\n",
        "\n",
        "Great! Now you know how to use Notebooks.\n",
        "\n",
        "Each hands-on exercise starts by setting up our feedback and code checking mechanism. Run the code cell below to do that. Then you'll be ready to move on to question 0."
      ],
      "metadata": {
        "id": "WnbKKeug9Axi"
      }
    },
    {
      "cell_type": "code",
      "source": [
        "from learntools.core import binder; binder.bind(globals())\n",
        "from learntools.python.ex1 import *\n",
        "print(\"Setup complete! You're ready to start question 0.\")"
      ],
      "metadata": {
        "_kg_hide-input": true,
        "_kg_hide-output": true,
        "execution": {
          "iopub.status.busy": "2024-11-19T14:49:15.505158Z",
          "iopub.execute_input": "2024-11-19T14:49:15.50559Z",
          "iopub.status.idle": "2024-11-19T14:49:16.725704Z",
          "shell.execute_reply.started": "2024-11-19T14:49:15.505553Z",
          "shell.execute_reply": "2024-11-19T14:49:16.724564Z"
        },
        "trusted": true,
        "id": "F0Gxn8wE9Axi",
        "outputId": "8820e007-0297-472f-a40c-a6e57190c8cb"
      },
      "execution_count": null,
      "outputs": [
        {
          "name": "stdout",
          "text": "Setup complete! You're ready to start question 0.\n",
          "output_type": "stream"
        }
      ]
    },
    {
      "cell_type": "markdown",
      "source": [
        "# 0.\n",
        "\n",
        "*This is a silly question intended as an introduction to the format we use for hands-on exercises throughout all Kaggle courses.*\n",
        "\n",
        "**What is your favorite color? **\n",
        "\n",
        "To complete this question, create a variable called `color` in the cell below with an appropriate value. The function call `q0.check()` (which we've already provided in the cell below) will check your answer."
      ],
      "metadata": {
        "id": "UI6Zr4T59Axi"
      }
    },
    {
      "cell_type": "code",
      "source": [
        "# create a variable called color with an appropriate value on the line below\n",
        "# (Remember, strings in Python must be enclosed in 'single' or \"double\" quotes)\n",
        "\n",
        "color = \"blue\"\n",
        "\n",
        "# Check your answer\n",
        "q0.check()"
      ],
      "metadata": {
        "execution": {
          "iopub.status.busy": "2024-11-19T14:49:48.699457Z",
          "iopub.execute_input": "2024-11-19T14:49:48.700014Z",
          "iopub.status.idle": "2024-11-19T14:49:48.711016Z",
          "shell.execute_reply.started": "2024-11-19T14:49:48.699976Z",
          "shell.execute_reply": "2024-11-19T14:49:48.709915Z"
        },
        "trusted": true,
        "id": "of47hUX79Axi",
        "outputId": "c410e851-b4a4-4f05-9333-f987ccdf3da8"
      },
      "execution_count": null,
      "outputs": [
        {
          "output_type": "display_data",
          "data": {
            "text/plain": "<IPython.core.display.Javascript object>",
            "application/javascript": "parent.postMessage({\"jupyterEvent\": \"custom.exercise_interaction\", \"data\": {\"outcomeType\": 1, \"valueTowardsCompletion\": 0.25, \"interactionType\": 1, \"questionType\": 2, \"questionId\": \"0_ExerciseFormatTutorial\", \"learnToolsVersion\": \"0.3.4\", \"failureMessage\": \"\", \"exceptionClass\": \"\", \"trace\": \"\"}}, \"*\")"
          },
          "metadata": {}
        },
        {
          "output_type": "display_data",
          "data": {
            "text/plain": "Correct: What?! You got it right without needing a hint or anything? Drats. Well hey, you should still continue to the next step to get some practice asking for a hint and checking solutions. (Even though you obviously don't need any help here.)",
            "text/markdown": "<span style=\"color:#33cc33\">Correct:</span> What?! You got it right without needing a hint or anything? Drats. Well hey, you should still continue to the next step to get some practice asking for a hint and checking solutions. (Even though you obviously don't need any help here.)"
          },
          "metadata": {}
        }
      ]
    },
    {
      "cell_type": "markdown",
      "source": [
        "Didn't get the right answer? How do you not even know your own favorite color?!\n",
        "\n",
        "Delete the `#` in the line below to make one of the lines run. You can choose between getting a hint or the full answer by choosing which line to remove the `#` from.\n",
        "\n",
        "Removing the `#` is called uncommenting, because it changes that line from a \"comment\" which Python doesn't run to code, which Python does run."
      ],
      "metadata": {
        "id": "e-P5R4Bu9Axi"
      }
    },
    {
      "cell_type": "code",
      "source": [
        "q0.hint()\n",
        "q0.solution()"
      ],
      "metadata": {
        "execution": {
          "iopub.status.busy": "2024-11-19T14:50:40.30985Z",
          "iopub.execute_input": "2024-11-19T14:50:40.31028Z",
          "iopub.status.idle": "2024-11-19T14:50:40.324161Z",
          "shell.execute_reply.started": "2024-11-19T14:50:40.310226Z",
          "shell.execute_reply": "2024-11-19T14:50:40.322795Z"
        },
        "trusted": true,
        "id": "0JFQn8JQ9Axi",
        "outputId": "0b2c4cca-e046-4feb-bfdc-3e961c0d19b3"
      },
      "execution_count": null,
      "outputs": [
        {
          "output_type": "display_data",
          "data": {
            "text/plain": "<IPython.core.display.Javascript object>",
            "application/javascript": "parent.postMessage({\"jupyterEvent\": \"custom.exercise_interaction\", \"data\": {\"interactionType\": 2, \"questionType\": 2, \"questionId\": \"0_ExerciseFormatTutorial\", \"learnToolsVersion\": \"0.3.4\", \"valueTowardsCompletion\": 0.0, \"failureMessage\": \"\", \"exceptionClass\": \"\", \"trace\": \"\", \"outcomeType\": 4}}, \"*\")"
          },
          "metadata": {}
        },
        {
          "output_type": "display_data",
          "data": {
            "text/plain": "Hint: Your favorite color rhymes with *glue*.",
            "text/markdown": "<span style=\"color:#3366cc\">Hint:</span> Your favorite color rhymes with *glue*."
          },
          "metadata": {}
        },
        {
          "output_type": "display_data",
          "data": {
            "text/plain": "<IPython.core.display.Javascript object>",
            "application/javascript": "parent.postMessage({\"jupyterEvent\": \"custom.exercise_interaction\", \"data\": {\"interactionType\": 3, \"questionType\": 2, \"questionId\": \"0_ExerciseFormatTutorial\", \"learnToolsVersion\": \"0.3.4\", \"valueTowardsCompletion\": 0.0, \"failureMessage\": \"\", \"exceptionClass\": \"\", \"trace\": \"\", \"outcomeType\": 4}}, \"*\")"
          },
          "metadata": {}
        },
        {
          "output_type": "display_data",
          "data": {
            "text/plain": "Solution: \n```python\ncolor = \"blue\"\n```",
            "text/markdown": "<span style=\"color:#33cc99\">Solution:</span> \n```python\ncolor = \"blue\"\n```"
          },
          "metadata": {}
        }
      ]
    },
    {
      "cell_type": "markdown",
      "source": [
        "The upcoming questions work the same way. The only thing that will change are the question numbers. For the next question, you'll call `q1.check()`, `q1.hint()`, `q1.solution()`, for question 2, you'll call `q2.check()`, and so on."
      ],
      "metadata": {
        "id": "C59SLuen9Axj"
      }
    },
    {
      "cell_type": "markdown",
      "source": [
        "<hr/>\n",
        "\n",
        "# 1.\n",
        "\n",
        "Complete the code below. In case it's helpful, here is the table of available arithmetic operations:\n",
        "\n",
        "\n",
        "\n",
        "| Operator     | Name           | Description                                            |\n",
        "|--------------|----------------|--------------------------------------------------------|\n",
        "| ``a + b``    | Addition       | Sum of ``a`` and ``b``                                 |\n",
        "| ``a - b``    | Subtraction    | Difference of ``a`` and ``b``                          |\n",
        "| ``a * b``    | Multiplication | Product of ``a`` and ``b``                             |\n",
        "| ``a / b``    | True division  | Quotient of ``a`` and ``b``                            |\n",
        "| ``a // b``   | Floor division | Quotient of ``a`` and ``b``, removing fractional parts |\n",
        "| ``a % b``    | Modulus        | Integer remainder after division of ``a`` by ``b``     |\n",
        "| ``a ** b``   | Exponentiation | ``a`` raised to the power of ``b``                     |\n",
        "| ``-a``       | Negation       | The negative of ``a``                                  |\n",
        "\n",
        "<span style=\"display:none\"></span>\n"
      ],
      "metadata": {
        "id": "8k--QgbQ9Axj"
      }
    },
    {
      "cell_type": "code",
      "source": [
        "pi = 3.14159 # approximate\n",
        "diameter = 3\n",
        "\n",
        "# Create a variable called 'radius' equal to half the diameter\n",
        "radius = 0.5*diameter\n",
        "\n",
        "# Create a variable called 'area', using the formula for the area of a circle: pi times the radius squared\n",
        "area = pi*radius**2\n",
        "\n",
        "# Check your answer\n",
        "q1.check()"
      ],
      "metadata": {
        "execution": {
          "iopub.status.busy": "2024-11-19T14:52:19.300168Z",
          "iopub.execute_input": "2024-11-19T14:52:19.301393Z",
          "iopub.status.idle": "2024-11-19T14:52:19.310437Z",
          "shell.execute_reply.started": "2024-11-19T14:52:19.301347Z",
          "shell.execute_reply": "2024-11-19T14:52:19.309346Z"
        },
        "trusted": true,
        "id": "C9xOj4nI9Axj",
        "outputId": "f674cf1c-5be0-4dad-c8d4-ebebe6bd94d2"
      },
      "execution_count": null,
      "outputs": [
        {
          "output_type": "display_data",
          "data": {
            "text/plain": "<IPython.core.display.Javascript object>",
            "application/javascript": "parent.postMessage({\"jupyterEvent\": \"custom.exercise_interaction\", \"data\": {\"outcomeType\": 1, \"valueTowardsCompletion\": 0.25, \"interactionType\": 1, \"questionType\": 1, \"questionId\": \"1_CircleArea\", \"learnToolsVersion\": \"0.3.4\", \"failureMessage\": \"\", \"exceptionClass\": \"\", \"trace\": \"\"}}, \"*\")"
          },
          "metadata": {}
        },
        {
          "output_type": "display_data",
          "data": {
            "text/plain": "Correct",
            "text/markdown": "<span style=\"color:#33cc33\">Correct</span>"
          },
          "metadata": {}
        }
      ]
    },
    {
      "cell_type": "code",
      "source": [
        "# Uncomment and run the lines below if you need help.\n",
        "q1.hint()\n",
        "q1.solution()"
      ],
      "metadata": {
        "execution": {
          "iopub.status.busy": "2024-11-19T14:52:30.565319Z",
          "iopub.execute_input": "2024-11-19T14:52:30.565692Z",
          "iopub.status.idle": "2024-11-19T14:52:30.578681Z",
          "shell.execute_reply.started": "2024-11-19T14:52:30.56566Z",
          "shell.execute_reply": "2024-11-19T14:52:30.577554Z"
        },
        "trusted": true,
        "id": "1yz5-iOv9Axj",
        "outputId": "daa18798-cfea-4572-93df-f7b19634560e"
      },
      "execution_count": null,
      "outputs": [
        {
          "output_type": "display_data",
          "data": {
            "text/plain": "<IPython.core.display.Javascript object>",
            "application/javascript": "parent.postMessage({\"jupyterEvent\": \"custom.exercise_interaction\", \"data\": {\"interactionType\": 2, \"questionType\": 1, \"questionId\": \"1_CircleArea\", \"learnToolsVersion\": \"0.3.4\", \"valueTowardsCompletion\": 0.0, \"failureMessage\": \"\", \"exceptionClass\": \"\", \"trace\": \"\", \"outcomeType\": 4}}, \"*\")"
          },
          "metadata": {}
        },
        {
          "output_type": "display_data",
          "data": {
            "text/plain": "Hint: The syntax to raise a to the b'th power is `a ** b`",
            "text/markdown": "<span style=\"color:#3366cc\">Hint:</span> The syntax to raise a to the b'th power is `a ** b`"
          },
          "metadata": {}
        },
        {
          "output_type": "display_data",
          "data": {
            "text/plain": "<IPython.core.display.Javascript object>",
            "application/javascript": "parent.postMessage({\"jupyterEvent\": \"custom.exercise_interaction\", \"data\": {\"interactionType\": 3, \"questionType\": 1, \"questionId\": \"1_CircleArea\", \"learnToolsVersion\": \"0.3.4\", \"valueTowardsCompletion\": 0.0, \"failureMessage\": \"\", \"exceptionClass\": \"\", \"trace\": \"\", \"outcomeType\": 4}}, \"*\")"
          },
          "metadata": {}
        },
        {
          "output_type": "display_data",
          "data": {
            "text/plain": "Solution: \n```python\nradius = diameter / 2\narea = pi * radius ** 2\n```",
            "text/markdown": "<span style=\"color:#33cc99\">Solution:</span> \n```python\nradius = diameter / 2\narea = pi * radius ** 2\n```"
          },
          "metadata": {}
        }
      ]
    },
    {
      "cell_type": "markdown",
      "source": [
        "<hr/>\n",
        "\n",
        "# 2.\n",
        "\n",
        "Add code to the following cell to swap variables `a` and `b` (so that `a` refers to the object previously referred to by `b` and vice versa)."
      ],
      "metadata": {
        "id": "dYU7Gsw79Axj"
      }
    },
    {
      "cell_type": "code",
      "source": [
        "########### Setup code - don't touch this part ######################\n",
        "# If you're curious, these are examples of lists. We'll talk about\n",
        "# them in depth a few lessons from now. For now, just know that they're\n",
        "# yet another type of Python object, like int or float.\n",
        "a = [1, 2, 3]\n",
        "b = [3, 2, 1]\n",
        "q2.store_original_ids()\n",
        "######################################################################\n",
        "\n",
        "# Your code goes here. Swap the values to which a and b refer.\n",
        "# If you get stuck, you can always uncomment one or both of the lines in\n",
        "# the next cell for a hint, or to peek at the solution.\n",
        "\n",
        "temp = a\n",
        "a = b\n",
        "print(a)\n",
        "b = temp\n",
        "print(b)\n",
        "######################################################################\n",
        "\n",
        "# Check your answer\n",
        "q2.check()\n",
        "\n",
        "# Get a hint\n",
        "q2.hint()\n",
        "\n",
        "# Review solution\n",
        "q2.solution()"
      ],
      "metadata": {
        "execution": {
          "iopub.status.busy": "2024-11-19T14:53:32.975056Z",
          "iopub.execute_input": "2024-11-19T14:53:32.975497Z",
          "iopub.status.idle": "2024-11-19T14:53:32.995667Z",
          "shell.execute_reply.started": "2024-11-19T14:53:32.97546Z",
          "shell.execute_reply": "2024-11-19T14:53:32.994539Z"
        },
        "trusted": true,
        "id": "UVg_OXh79Axj",
        "outputId": "3c4b43aa-c753-47ac-91be-50c6592ea413"
      },
      "execution_count": null,
      "outputs": [
        {
          "name": "stdout",
          "text": "[3, 2, 1]\n[1, 2, 3]\n",
          "output_type": "stream"
        },
        {
          "output_type": "display_data",
          "data": {
            "text/plain": "<IPython.core.display.Javascript object>",
            "application/javascript": "parent.postMessage({\"jupyterEvent\": \"custom.exercise_interaction\", \"data\": {\"outcomeType\": 1, \"valueTowardsCompletion\": 0.25, \"interactionType\": 1, \"questionType\": 2, \"questionId\": \"2_VariableSwap\", \"learnToolsVersion\": \"0.3.4\", \"failureMessage\": \"\", \"exceptionClass\": \"\", \"trace\": \"\"}}, \"*\")"
          },
          "metadata": {}
        },
        {
          "output_type": "display_data",
          "data": {
            "text/plain": "Correct: \n\nThe most straightforward solution is to use a third variable to temporarily store one of the old values. e.g.:\n\n    tmp = a\n    a = b\n    b = tmp\n\nIf you've read lots of Python code, you might have seen the following trick to swap two variables in one line:\n\n    a, b = b, a\n\nWe'll demystify this bit of Python magic later when we talk about *tuples*.",
            "text/markdown": "<span style=\"color:#33cc33\">Correct:</span> \n\nThe most straightforward solution is to use a third variable to temporarily store one of the old values. e.g.:\n\n    tmp = a\n    a = b\n    b = tmp\n\nIf you've read lots of Python code, you might have seen the following trick to swap two variables in one line:\n\n    a, b = b, a\n\nWe'll demystify this bit of Python magic later when we talk about *tuples*."
          },
          "metadata": {}
        },
        {
          "output_type": "display_data",
          "data": {
            "text/plain": "<IPython.core.display.Javascript object>",
            "application/javascript": "parent.postMessage({\"jupyterEvent\": \"custom.exercise_interaction\", \"data\": {\"interactionType\": 2, \"questionType\": 2, \"questionId\": \"2_VariableSwap\", \"learnToolsVersion\": \"0.3.4\", \"valueTowardsCompletion\": 0.0, \"failureMessage\": \"\", \"exceptionClass\": \"\", \"trace\": \"\", \"outcomeType\": 4}}, \"*\")"
          },
          "metadata": {}
        },
        {
          "output_type": "display_data",
          "data": {
            "text/plain": "Hint: Try using a third variable.",
            "text/markdown": "<span style=\"color:#3366cc\">Hint:</span> Try using a third variable."
          },
          "metadata": {}
        },
        {
          "output_type": "display_data",
          "data": {
            "text/plain": "<IPython.core.display.Javascript object>",
            "application/javascript": "parent.postMessage({\"jupyterEvent\": \"custom.exercise_interaction\", \"data\": {\"interactionType\": 3, \"questionType\": 2, \"questionId\": \"2_VariableSwap\", \"learnToolsVersion\": \"0.3.4\", \"valueTowardsCompletion\": 0.0, \"failureMessage\": \"\", \"exceptionClass\": \"\", \"trace\": \"\", \"outcomeType\": 4}}, \"*\")"
          },
          "metadata": {}
        },
        {
          "output_type": "display_data",
          "data": {
            "text/plain": "Solution: The most straightforward solution is to use a third variable to temporarily store one of the old values. e.g.:\n\n    tmp = a\n    a = b\n    b = tmp\n\nIf you've read lots of Python code, you might have seen the following trick to swap two variables in one line:\n\n    a, b = b, a\n\nWe'll demystify this bit of Python magic later when we talk about *tuples*.",
            "text/markdown": "<span style=\"color:#33cc99\">Solution:</span> The most straightforward solution is to use a third variable to temporarily store one of the old values. e.g.:\n\n    tmp = a\n    a = b\n    b = tmp\n\nIf you've read lots of Python code, you might have seen the following trick to swap two variables in one line:\n\n    a, b = b, a\n\nWe'll demystify this bit of Python magic later when we talk about *tuples*."
          },
          "metadata": {}
        }
      ]
    },
    {
      "cell_type": "code",
      "source": [
        "q2.hint()"
      ],
      "metadata": {
        "execution": {
          "iopub.status.busy": "2024-11-19T14:54:54.165695Z",
          "iopub.execute_input": "2024-11-19T14:54:54.166268Z",
          "iopub.status.idle": "2024-11-19T14:54:54.175366Z",
          "shell.execute_reply.started": "2024-11-19T14:54:54.166209Z",
          "shell.execute_reply": "2024-11-19T14:54:54.174313Z"
        },
        "trusted": true,
        "id": "KmTRnnz-9Axj",
        "outputId": "3c68bb1f-b2c5-4d44-ccfe-37813908d235"
      },
      "execution_count": null,
      "outputs": [
        {
          "output_type": "display_data",
          "data": {
            "text/plain": "<IPython.core.display.Javascript object>",
            "application/javascript": "parent.postMessage({\"jupyterEvent\": \"custom.exercise_interaction\", \"data\": {\"interactionType\": 2, \"questionType\": 2, \"questionId\": \"2_VariableSwap\", \"learnToolsVersion\": \"0.3.4\", \"valueTowardsCompletion\": 0.0, \"failureMessage\": \"\", \"exceptionClass\": \"\", \"trace\": \"\", \"outcomeType\": 4}}, \"*\")"
          },
          "metadata": {}
        },
        {
          "output_type": "display_data",
          "data": {
            "text/plain": "Hint: Try using a third variable.",
            "text/markdown": "<span style=\"color:#3366cc\">Hint:</span> Try using a third variable."
          },
          "metadata": {}
        }
      ]
    },
    {
      "cell_type": "code",
      "source": [
        "q2.solution()"
      ],
      "metadata": {
        "execution": {
          "iopub.status.busy": "2024-11-19T14:54:58.87439Z",
          "iopub.execute_input": "2024-11-19T14:54:58.874805Z",
          "iopub.status.idle": "2024-11-19T14:54:58.884403Z",
          "shell.execute_reply.started": "2024-11-19T14:54:58.874771Z",
          "shell.execute_reply": "2024-11-19T14:54:58.883161Z"
        },
        "trusted": true,
        "id": "sB8sR-UA9Axj",
        "outputId": "26dd53f0-d944-4746-91f8-2e71b92d70ea"
      },
      "execution_count": null,
      "outputs": [
        {
          "output_type": "display_data",
          "data": {
            "text/plain": "<IPython.core.display.Javascript object>",
            "application/javascript": "parent.postMessage({\"jupyterEvent\": \"custom.exercise_interaction\", \"data\": {\"interactionType\": 3, \"questionType\": 2, \"questionId\": \"2_VariableSwap\", \"learnToolsVersion\": \"0.3.4\", \"valueTowardsCompletion\": 0.0, \"failureMessage\": \"\", \"exceptionClass\": \"\", \"trace\": \"\", \"outcomeType\": 4}}, \"*\")"
          },
          "metadata": {}
        },
        {
          "output_type": "display_data",
          "data": {
            "text/plain": "Solution: The most straightforward solution is to use a third variable to temporarily store one of the old values. e.g.:\n\n    tmp = a\n    a = b\n    b = tmp\n\nIf you've read lots of Python code, you might have seen the following trick to swap two variables in one line:\n\n    a, b = b, a\n\nWe'll demystify this bit of Python magic later when we talk about *tuples*.",
            "text/markdown": "<span style=\"color:#33cc99\">Solution:</span> The most straightforward solution is to use a third variable to temporarily store one of the old values. e.g.:\n\n    tmp = a\n    a = b\n    b = tmp\n\nIf you've read lots of Python code, you might have seen the following trick to swap two variables in one line:\n\n    a, b = b, a\n\nWe'll demystify this bit of Python magic later when we talk about *tuples*."
          },
          "metadata": {}
        }
      ]
    },
    {
      "cell_type": "markdown",
      "source": [
        "<hr/>\n",
        "\n",
        "# 3a.\n",
        "\n",
        "Add parentheses to the following expression so that it evaluates to 1."
      ],
      "metadata": {
        "id": "MgbHEvRn9Axk"
      }
    },
    {
      "cell_type": "code",
      "source": [
        "(5 - 3) // 2"
      ],
      "metadata": {
        "execution": {
          "iopub.status.busy": "2024-11-19T14:55:08.009413Z",
          "iopub.execute_input": "2024-11-19T14:55:08.009804Z",
          "iopub.status.idle": "2024-11-19T14:55:08.016556Z",
          "shell.execute_reply.started": "2024-11-19T14:55:08.009768Z",
          "shell.execute_reply": "2024-11-19T14:55:08.015438Z"
        },
        "trusted": true,
        "id": "bUdBNVRe9Axk",
        "outputId": "3ad8ba66-caf1-47c9-e74e-f686b314d745"
      },
      "execution_count": null,
      "outputs": [
        {
          "execution_count": 14,
          "output_type": "execute_result",
          "data": {
            "text/plain": "1"
          },
          "metadata": {}
        }
      ]
    },
    {
      "cell_type": "code",
      "source": [
        "q3.a.hint()"
      ],
      "metadata": {
        "execution": {
          "iopub.status.busy": "2024-11-19T14:55:12.989539Z",
          "iopub.execute_input": "2024-11-19T14:55:12.989942Z",
          "iopub.status.idle": "2024-11-19T14:55:12.999525Z",
          "shell.execute_reply.started": "2024-11-19T14:55:12.989903Z",
          "shell.execute_reply": "2024-11-19T14:55:12.998364Z"
        },
        "trusted": true,
        "id": "kCxqakr59Axk",
        "outputId": "85793e45-8471-4c1c-a6b8-4b92da8777ed"
      },
      "execution_count": null,
      "outputs": [
        {
          "output_type": "display_data",
          "data": {
            "text/plain": "<IPython.core.display.Javascript object>",
            "application/javascript": "parent.postMessage({\"jupyterEvent\": \"custom.exercise_interaction\", \"data\": {\"interactionType\": 2, \"questionType\": 4, \"questionId\": \"3.1_ArithmeticParensEasy\", \"learnToolsVersion\": \"0.3.4\", \"valueTowardsCompletion\": 0.0, \"failureMessage\": \"\", \"exceptionClass\": \"\", \"trace\": \"\", \"outcomeType\": 4}}, \"*\")"
          },
          "metadata": {}
        },
        {
          "output_type": "display_data",
          "data": {
            "text/plain": "Hint: Following its default \"BEDMAS\"-like rules for order of operations, Python will first divide 3 by 2, then subtract the result from 5. You need to add parentheses to force it to perform the subtraction first.",
            "text/markdown": "<span style=\"color:#3366cc\">Hint:</span> Following its default \"BEDMAS\"-like rules for order of operations, Python will first divide 3 by 2, then subtract the result from 5. You need to add parentheses to force it to perform the subtraction first."
          },
          "metadata": {}
        }
      ]
    },
    {
      "cell_type": "code",
      "source": [
        "# Check your answer (Run this code cell to receive credit!)\n",
        "q3.a.solution()"
      ],
      "metadata": {
        "execution": {
          "iopub.status.busy": "2024-11-19T14:55:29.92485Z",
          "iopub.execute_input": "2024-11-19T14:55:29.925303Z",
          "iopub.status.idle": "2024-11-19T14:55:29.93419Z",
          "shell.execute_reply.started": "2024-11-19T14:55:29.92523Z",
          "shell.execute_reply": "2024-11-19T14:55:29.932841Z"
        },
        "trusted": true,
        "id": "TMsF14rb9Axk",
        "outputId": "f9ab75c2-2ec1-419e-8014-d166858ecc60"
      },
      "execution_count": null,
      "outputs": [
        {
          "output_type": "display_data",
          "data": {
            "text/plain": "<IPython.core.display.Javascript object>",
            "application/javascript": "parent.postMessage({\"jupyterEvent\": \"custom.exercise_interaction\", \"data\": {\"interactionType\": 3, \"questionType\": 4, \"questionId\": \"3.1_ArithmeticParensEasy\", \"learnToolsVersion\": \"0.3.4\", \"valueTowardsCompletion\": 0.0, \"failureMessage\": \"\", \"exceptionClass\": \"\", \"trace\": \"\", \"outcomeType\": 4}}, \"*\")"
          },
          "metadata": {}
        },
        {
          "output_type": "display_data",
          "data": {
            "text/plain": "Solution: \n```python\n(5 - 3) // 2\n```",
            "text/markdown": "<span style=\"color:#33cc99\">Solution:</span> \n```python\n(5 - 3) // 2\n```"
          },
          "metadata": {}
        }
      ]
    },
    {
      "cell_type": "markdown",
      "source": [
        "# 3b.  <span title=\"A bit spicy\" style=\"color: darkgreen \">🌶️</span>\n",
        "\n",
        "<small>Questions, like this one, marked a spicy pepper are a bit harder.</small>\n",
        "\n",
        "Add parentheses to the following expression so that it evaluates to 0."
      ],
      "metadata": {
        "id": "4TuZqUdj9Axk"
      }
    },
    {
      "cell_type": "code",
      "source": [
        "8 - (3 * 2) - (1 + 1)"
      ],
      "metadata": {
        "execution": {
          "iopub.status.busy": "2024-11-19T14:56:02.091818Z",
          "iopub.execute_input": "2024-11-19T14:56:02.09267Z",
          "iopub.status.idle": "2024-11-19T14:56:02.099306Z",
          "shell.execute_reply.started": "2024-11-19T14:56:02.092629Z",
          "shell.execute_reply": "2024-11-19T14:56:02.09839Z"
        },
        "trusted": true,
        "id": "H3C4lXsA9Axk",
        "outputId": "a11f18da-d05f-4d94-cd6f-a0fb90e66cd5"
      },
      "execution_count": null,
      "outputs": [
        {
          "execution_count": 17,
          "output_type": "execute_result",
          "data": {
            "text/plain": "0"
          },
          "metadata": {}
        }
      ]
    },
    {
      "cell_type": "code",
      "source": [
        "q3.b.hint()"
      ],
      "metadata": {
        "execution": {
          "iopub.status.busy": "2024-11-19T14:56:15.419969Z",
          "iopub.execute_input": "2024-11-19T14:56:15.421326Z",
          "iopub.status.idle": "2024-11-19T14:56:15.429903Z",
          "shell.execute_reply.started": "2024-11-19T14:56:15.421231Z",
          "shell.execute_reply": "2024-11-19T14:56:15.428808Z"
        },
        "trusted": true,
        "id": "iK5G6-NV9Axk",
        "outputId": "a47b0783-b670-426b-edde-b99e4c0ab12f"
      },
      "execution_count": null,
      "outputs": [
        {
          "output_type": "display_data",
          "data": {
            "text/plain": "<IPython.core.display.Javascript object>",
            "application/javascript": "parent.postMessage({\"jupyterEvent\": \"custom.exercise_interaction\", \"data\": {\"interactionType\": 2, \"questionType\": 4, \"questionId\": \"3.2_ArithmeticParensHard\", \"learnToolsVersion\": \"0.3.4\", \"valueTowardsCompletion\": 0.0, \"failureMessage\": \"\", \"exceptionClass\": \"\", \"trace\": \"\", \"outcomeType\": 4}}, \"*\")"
          },
          "metadata": {}
        },
        {
          "output_type": "display_data",
          "data": {
            "text/plain": "Hint: You may need to use several pairs of parentheses.",
            "text/markdown": "<span style=\"color:#3366cc\">Hint:</span> You may need to use several pairs of parentheses."
          },
          "metadata": {}
        }
      ]
    },
    {
      "cell_type": "code",
      "source": [
        "# Check your answer (Run this code cell to receive credit!)\n",
        "q3.b.solution()"
      ],
      "metadata": {
        "execution": {
          "iopub.status.busy": "2024-11-19T14:56:21.93487Z",
          "iopub.execute_input": "2024-11-19T14:56:21.935302Z",
          "iopub.status.idle": "2024-11-19T14:56:21.944488Z",
          "shell.execute_reply.started": "2024-11-19T14:56:21.935228Z",
          "shell.execute_reply": "2024-11-19T14:56:21.94334Z"
        },
        "trusted": true,
        "id": "C8sBuB6N9Axk",
        "outputId": "b7bf1b00-b275-4f1a-cb14-0448d35fe251"
      },
      "execution_count": null,
      "outputs": [
        {
          "output_type": "display_data",
          "data": {
            "text/plain": "<IPython.core.display.Javascript object>",
            "application/javascript": "parent.postMessage({\"jupyterEvent\": \"custom.exercise_interaction\", \"data\": {\"interactionType\": 3, \"questionType\": 4, \"questionId\": \"3.2_ArithmeticParensHard\", \"learnToolsVersion\": \"0.3.4\", \"valueTowardsCompletion\": 0.0, \"failureMessage\": \"\", \"exceptionClass\": \"\", \"trace\": \"\", \"outcomeType\": 4}}, \"*\")"
          },
          "metadata": {}
        },
        {
          "output_type": "display_data",
          "data": {
            "text/plain": "Solution: `(8 - 3) * (2 - (1 + 1))` is one solution. There may be others.",
            "text/markdown": "<span style=\"color:#33cc99\">Solution:</span> `(8 - 3) * (2 - (1 + 1))` is one solution. There may be others."
          },
          "metadata": {}
        }
      ]
    },
    {
      "cell_type": "markdown",
      "source": [
        "<hr/>\n",
        "\n",
        "# 4.\n",
        "Alice, Bob and Carol have agreed to pool their Halloween candy and split it evenly among themselves.\n",
        "For the sake of their friendship, any candies left over will be smashed. For example, if they collectively\n",
        "bring home 91 candies, they'll take 30 each and smash 1.\n",
        "\n",
        "Write an arithmetic expression below to calculate how many candies they must smash for a given haul."
      ],
      "metadata": {
        "id": "kJ_gxlj79Axk"
      }
    },
    {
      "cell_type": "code",
      "source": [
        "Each_take_home = 306/3\n",
        "print(Each_take_home)"
      ],
      "metadata": {
        "execution": {
          "iopub.status.busy": "2024-11-19T15:00:34.530056Z",
          "iopub.execute_input": "2024-11-19T15:00:34.531106Z",
          "iopub.status.idle": "2024-11-19T15:00:34.536687Z",
          "shell.execute_reply.started": "2024-11-19T15:00:34.531058Z",
          "shell.execute_reply": "2024-11-19T15:00:34.535621Z"
        },
        "trusted": true,
        "id": "bkgHjcyF9Axk",
        "outputId": "2ade0884-42f0-473f-c9f0-fcf201afc10e"
      },
      "execution_count": null,
      "outputs": [
        {
          "name": "stdout",
          "text": "102.0\n",
          "output_type": "stream"
        }
      ]
    },
    {
      "cell_type": "code",
      "source": [
        "# Variables representing the number of candies collected by alice, bob, and carol\n",
        "alice_candies = 121\n",
        "bob_candies = 77\n",
        "carol_candies = 109\n",
        "\n",
        "# Your code goes here! Replace the right-hand side of this assignment with an expression\n",
        "# involving alice_candies, bob_candies, and carol_candies\n",
        "total_candies = alice_candies + bob_candies + carol_candies\n",
        "print(total_candies)\n",
        "\n",
        "to_keep = total_candies - 1\n",
        "print(to_keep)\n",
        "\n",
        "to_smash = total_candies - to_keep\n",
        "print(to_smash)\n",
        "\n",
        "# Check your answer\n",
        "q4.check()"
      ],
      "metadata": {
        "execution": {
          "iopub.status.busy": "2024-11-19T14:58:38.415619Z",
          "iopub.execute_input": "2024-11-19T14:58:38.416032Z",
          "iopub.status.idle": "2024-11-19T14:58:38.426874Z",
          "shell.execute_reply.started": "2024-11-19T14:58:38.416Z",
          "shell.execute_reply": "2024-11-19T14:58:38.425795Z"
        },
        "trusted": true,
        "id": "06AwbmfE9Axl",
        "outputId": "13a10763-d8d7-44a2-8e1c-5a58dc2c3168"
      },
      "execution_count": null,
      "outputs": [
        {
          "name": "stdout",
          "text": "307\n306\n1\n",
          "output_type": "stream"
        },
        {
          "output_type": "display_data",
          "data": {
            "text/plain": "<IPython.core.display.Javascript object>",
            "application/javascript": "parent.postMessage({\"jupyterEvent\": \"custom.exercise_interaction\", \"data\": {\"outcomeType\": 1, \"valueTowardsCompletion\": 0.25, \"interactionType\": 1, \"questionType\": 1, \"questionId\": \"4_CandySplitting\", \"learnToolsVersion\": \"0.3.4\", \"failureMessage\": \"\", \"exceptionClass\": \"\", \"trace\": \"\"}}, \"*\")"
          },
          "metadata": {}
        },
        {
          "output_type": "display_data",
          "data": {
            "text/plain": "Correct",
            "text/markdown": "<span style=\"color:#33cc33\">Correct</span>"
          },
          "metadata": {}
        }
      ]
    },
    {
      "cell_type": "code",
      "source": [
        "#q4.hint()\n",
        "q4.solution()"
      ],
      "metadata": {
        "execution": {
          "iopub.status.busy": "2021-08-04T19:35:16.524008Z",
          "iopub.execute_input": "2021-08-04T19:35:16.524461Z",
          "iopub.status.idle": "2021-08-04T19:35:16.533749Z",
          "shell.execute_reply.started": "2021-08-04T19:35:16.524418Z",
          "shell.execute_reply": "2021-08-04T19:35:16.532417Z"
        },
        "trusted": true,
        "id": "e_dnNU1E9Axl"
      },
      "execution_count": null,
      "outputs": []
    },
    {
      "cell_type": "markdown",
      "source": [
        "# Keep Going\n",
        "\n",
        "Next up, you'll **[learn to write new functions and understand functions others write](https://www.kaggle.com/colinmorris/functions-and-getting-help)**. This will make you at least 10 times more productive as a Python programmer."
      ],
      "metadata": {
        "id": "koKxho6t9Axl"
      }
    },
    {
      "cell_type": "markdown",
      "source": [
        "---\n",
        "\n",
        "\n",
        "\n",
        "\n",
        "*Have questions or comments? Visit the [Learn Discussion forum](https://www.kaggle.com/learn-forum/161283) to chat with other Learners.*"
      ],
      "metadata": {
        "id": "saTYSUnw9Axl"
      }
    }
  ]
}