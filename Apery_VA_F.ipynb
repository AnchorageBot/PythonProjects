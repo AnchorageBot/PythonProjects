{
  "nbformat": 4,
  "nbformat_minor": 0,
  "metadata": {
    "colab": {
      "provenance": [],
      "authorship_tag": "ABX9TyNymMnDI1QhGo+tTa0dddxb"
    },
    "kernelspec": {
      "name": "python3",
      "display_name": "Python 3"
    },
    "language_info": {
      "name": "python"
    }
  },
  "cells": [
    {
      "cell_type": "markdown",
      "source": [
        "Roger Apéry's proof of the irrationality of ζ(3) (the Riemann zeta function evaluated at 3)\n",
        "* 🚀 📚\n",
        "\n",
        "\n",
        "Tutor: Google's Gemini 2.0"
      ],
      "metadata": {
        "id": "2s7JWncweILP"
      }
    },
    {
      "cell_type": "code",
      "source": [
        "\"\"\"\n",
        "Abstract:\n",
        "This Python script demonstrates the core computational aspects of Roger Apéry's proof of the irrationality of ζ(3) (zeta(3)).\n",
        " It calculates the Apéry sequences (a_n and b_n) using the recurrence relation derived by Apéry and shows how the ratio a_n/b_n converges rapidly\n",
        "  to ζ(3). This script does not provide a full proof of irrationality (which requires Diophantine arguments), but it illustrates\n",
        "   the numerical basis of Apéry's groundbreaking work.\n",
        "\n",
        "Key Concepts Demonstrated:\n",
        "- Apéry's recurrence relation\n",
        "- Calculation of Apéry sequences (a_n and b_n)\n",
        "- Convergence of a_n/b_n to ζ(3)\n",
        "\n",
        "Note: This script focuses on the computational aspect and does not constitute a complete proof of the irrationality of ζ(3).\n",
        "\"\"\"\n",
        "\n",
        "import decimal\n",
        "\n",
        "# Set higher precision for accurate calculations\n",
        "decimal.getcontext().prec = 100  # Adjust precision as needed\n",
        "\n",
        "def apery_sequences(n_max):\n",
        "    \"\"\"\n",
        "    Calculates the Apéry sequences (a_n and b_n) up to n_max.\n",
        "\n",
        "    Args:\n",
        "        n_max: The maximum value of n.\n",
        "\n",
        "    Returns:\n",
        "        A tuple containing two lists: (a_sequence, b_sequence).\n",
        "        Returns None if n_max is less than 0.\n",
        "    \"\"\"\n",
        "    if n_max < 0:\n",
        "        return None\n",
        "\n",
        "    a_sequence = [decimal.Decimal(1), decimal.Decimal(5)]\n",
        "    b_sequence = [decimal.Decimal(1), decimal.Decimal(3)]\n",
        "\n",
        "    for n in range(1, n_max):\n",
        "        a_n_plus_1 = (decimal.Decimal(34 * n**3 + 51 * n**2 + 27 * n + 5) * a_sequence[n] - decimal.Decimal(n**3) * a_sequence[n-1]) / decimal.Decimal((n + 1)**3)\n",
        "        b_n_plus_1 = (decimal.Decimal(34 * n**3 + 51 * n**2 + 27 * n + 5) * b_sequence[n] - decimal.Decimal(n**3) * b_sequence[n-1]) / decimal.Decimal((n + 1)**3)\n",
        "\n",
        "        a_sequence.append(a_n_plus_1)\n",
        "        b_sequence.append(b_n_plus_1)\n",
        "\n",
        "    return a_sequence, b_sequence\n",
        "\n",
        "def calculate_zeta3_approximation(n_max):\n",
        "    \"\"\"\n",
        "    Calculates the approximation of zeta(3) using Apéry's sequences.\n",
        "\n",
        "    Args:\n",
        "        n_max: The maximum value of n.\n",
        "\n",
        "    Returns:\n",
        "        A list of approximations of zeta(3).\n",
        "        Returns None if n_max is less than 0.\n",
        "    \"\"\"\n",
        "    if n_max < 0:\n",
        "        return None\n",
        "\n",
        "    a_seq, b_seq = apery_sequences(n_max)\n",
        "    if a_seq is None or b_seq is None:\n",
        "        return None\n",
        "\n",
        "    zeta3_approximations = []\n",
        "    for i in range(n_max + 1):\n",
        "        zeta3_approximations.append(a_seq[i] / b_seq[i])\n",
        "\n",
        "    return zeta3_approximations\n",
        "\n",
        "if __name__ == \"__main__\":\n",
        "    n_max = 20  # You can increase this for higher accuracy (but it will take longer)\n",
        "    zeta3_approximations = calculate_zeta3_approximation(n_max)\n",
        "\n",
        "    if zeta3_approximations is not None:\n",
        "        print(\"Approximations of zeta(3):\")\n",
        "        for i, approx in enumerate(zeta3_approximations):\n",
        "            print(f\"n = {i}: {approx}\")\n",
        "\n",
        "        # Compare to a known high-precision value of zeta(3)\n",
        "        known_zeta3 = decimal.Decimal(\"1.202056903159594285399738161511449990764986292\") # More digits available if needed\n",
        "        print(f\"\\nKnown value of zeta(3): {known_zeta3}\")\n",
        "        print(f\"Approximation at n={n_max}: {zeta3_approximations[n_max]}\")\n",
        "        print(f\"Difference: {abs(known_zeta3 - zeta3_approximations[n_max])}\")\n",
        "    else:\n",
        "        print(\"Invalid input for n_max.\")"
      ],
      "metadata": {
        "colab": {
          "base_uri": "https://localhost:8080/"
        },
        "id": "9RNEhRVxMp1y",
        "outputId": "7b60cfaa-4d9e-4ee4-facf-b5544255ec8e"
      },
      "execution_count": 1,
      "outputs": [
        {
          "output_type": "stream",
          "name": "stdout",
          "text": [
            "Approximations of zeta(3):\n",
            "n = 0: 1\n",
            "n = 1: 1.666666666666666666666666666666666666666666666666666666666666666666666666666666666666666666666666667\n",
            "n = 2: 1.668571428571428571428571428571428571428571428571428571428571428571428571428571428571428571428571429\n",
            "n = 3: 1.668573383656406034491975750836638903441713265404313100749500155032129072266355889617124100546354607\n",
            "n = 4: 1.668573385480913724577513249078938767518041283416614149824946136710141384954701700340159323096582203\n",
            "n = 5: 1.668573385482561875407984624722163936737340692299910431721028549409537049908554922266730933856128288\n",
            "n = 6: 1.668573385482563342083028863372821621773690990972487109371389104542950711502030946629875921688928082\n",
            "n = 7: 1.668573385482563343377638174354559538699529795626115722880686738231054779871034145876661355471491821\n",
            "n = 8: 1.668573385482563343378775319772393096708707888435895248812068212730329544378118302773841342813946896\n",
            "n = 9: 1.668573385482563343378776315437585084098883932277799691858399045293836769003838512339676300302195520\n",
            "n = 10: 1.668573385482563343378776316307476326910833332529846982779671638521693568777221326601625759054527982\n",
            "n = 11: 1.668573385482563343378776316308235149686605351009646292449518327551362084397856235216374223702368714\n",
            "n = 12: 1.668573385482563343378776316308235810860246086793667426971492750169060457571174220126093891784585960\n",
            "n = 13: 1.668573385482563343378776316308235811435832199191622314057022097836348219217270624531008035458062788\n",
            "n = 14: 1.668573385482563343378776316308235811436332935499564110378554791550979453347771184352588122715202134\n",
            "n = 15: 1.668573385482563343378776316308235811436333370884117141307337093151362952213992360759823807907078585\n",
            "n = 16: 1.668573385482563343378776316308235811436333371262513987346053516854309236652782207737472249390106280\n",
            "n = 17: 1.668573385482563343378776316308235811436333371262842738256999644254588101585357274781249482436722767\n",
            "n = 18: 1.668573385482563343378776316308235811436333371262843023791072944817981793331274101412223781408886937\n",
            "n = 19: 1.668573385482563343378776316308235811436333371262843024039009894333678454542130997846898102796445572\n",
            "n = 20: 1.668573385482563343378776316308235811436333371262843024039225139523440853329235245995995601962479045\n",
            "\n",
            "Known value of zeta(3): 1.202056903159594285399738161511449990764986292\n",
            "Approximation at n=20: 1.668573385482563343378776316308235811436333371262843024039225139523440853329235245995995601962479045\n",
            "Difference: 0.466516482322969057979038154796785820671347079262843024039225139523440853329235245995995601962479045\n"
          ]
        }
      ]
    }
  ]
}