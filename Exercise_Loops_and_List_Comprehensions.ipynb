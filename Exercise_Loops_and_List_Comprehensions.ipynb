{
  "metadata": {
    "kernelspec": {
      "display_name": "Python 3",
      "language": "python",
      "name": "python3"
    },
    "language_info": {
      "name": "python",
      "version": "3.10.14",
      "mimetype": "text/x-python",
      "codemirror_mode": {
        "name": "ipython",
        "version": 3
      },
      "pygments_lexer": "ipython3",
      "nbconvert_exporter": "python",
      "file_extension": ".py"
    },
    "learntools_metadata": {
      "lesson_index": 4,
      "type": "exercise"
    },
    "kaggle": {
      "accelerator": "none",
      "dataSources": [],
      "isInternetEnabled": false,
      "language": "python",
      "sourceType": "notebook",
      "isGpuEnabled": false
    },
    "colab": {
      "name": "Exercise: Loops and List Comprehensions",
      "provenance": []
    }
  },
  "nbformat_minor": 0,
  "nbformat": 4,
  "cells": [
    {
      "cell_type": "markdown",
      "source": [
        "**This notebook is an exercise in the [Python](https://www.kaggle.com/learn/python) course.  You can reference the tutorial at [this link](https://www.kaggle.com/colinmorris/loops-and-list-comprehensions).**\n",
        "\n",
        "---\n"
      ],
      "metadata": {
        "id": "H5i7Mtl1avXm"
      }
    },
    {
      "cell_type": "markdown",
      "source": [
        "With all you've learned, you can start writing much more interesting programs. See if you can solve the problems below.\n",
        "\n",
        "As always, run the setup code below before working on the questions."
      ],
      "metadata": {
        "id": "_Ntt9xStavXn"
      }
    },
    {
      "cell_type": "code",
      "source": [
        "from learntools.core import binder; binder.bind(globals())\n",
        "from learntools.python.ex5 import *\n",
        "print('Setup complete.')"
      ],
      "metadata": {
        "trusted": true,
        "execution": {
          "iopub.status.busy": "2024-12-03T16:40:20.187239Z",
          "iopub.execute_input": "2024-12-03T16:40:20.187597Z",
          "iopub.status.idle": "2024-12-03T16:40:21.404451Z",
          "shell.execute_reply.started": "2024-12-03T16:40:20.187563Z",
          "shell.execute_reply": "2024-12-03T16:40:21.403288Z"
        },
        "id": "rv87aiAlavXo",
        "outputId": "8e221581-35e4-4ccc-bf0d-c0fb92c7ca50"
      },
      "outputs": [
        {
          "name": "stdout",
          "text": "Setup complete.\n",
          "output_type": "stream"
        }
      ],
      "execution_count": null
    },
    {
      "cell_type": "markdown",
      "source": [
        "# 1.\n",
        "\n",
        "Have you ever felt debugging involved a bit of luck? The following program has a bug. Try to identify the bug and fix it."
      ],
      "metadata": {
        "id": "78MX487NavXp"
      }
    },
    {
      "cell_type": "code",
      "source": [
        "def has_lucky_number(nums):\n",
        "    \"\"\"Return whether the given list of numbers is lucky. A lucky list contains\n",
        "    at least one number divisible by 7.\n",
        "    \"\"\"\n",
        "    for num in nums:\n",
        "        if num % 7 == 0:\n",
        "            return True\n",
        "        else:\n",
        "            return False\n",
        "\n",
        "#nums = [1,2,3,4,7]\n",
        "nums = [7,2,3,4,1]\n",
        "print(has_lucky_number(nums))"
      ],
      "metadata": {
        "trusted": true,
        "execution": {
          "iopub.status.busy": "2024-12-03T16:45:45.002499Z",
          "iopub.execute_input": "2024-12-03T16:45:45.00356Z",
          "iopub.status.idle": "2024-12-03T16:45:45.010171Z",
          "shell.execute_reply.started": "2024-12-03T16:45:45.003513Z",
          "shell.execute_reply": "2024-12-03T16:45:45.008758Z"
        },
        "id": "3--hpqi_avXp",
        "outputId": "59e61d48-9c8e-4db2-d652-113e917a4d25"
      },
      "outputs": [
        {
          "name": "stdout",
          "text": "True\n",
          "output_type": "stream"
        }
      ],
      "execution_count": null
    },
    {
      "cell_type": "markdown",
      "source": [
        "Try to identify the bug and fix it in the cell below:"
      ],
      "metadata": {
        "id": "7XzZsKS6avXp"
      }
    },
    {
      "cell_type": "code",
      "source": [
        "def has_lucky_number(nums):\n",
        "    \"\"\"Return whether the given list of numbers is lucky. A lucky list contains\n",
        "    at least one number divisible by 7.\n",
        "    \"\"\"\n",
        "    for num in nums:\n",
        "        if num % 7 == 0:\n",
        "            return True\n",
        "        else:\n",
        "            return False\n",
        "\n",
        "# Check your answer\n",
        "q1.check()"
      ],
      "metadata": {
        "trusted": true,
        "execution": {
          "iopub.status.busy": "2024-12-03T16:40:43.01181Z",
          "iopub.execute_input": "2024-12-03T16:40:43.012205Z",
          "iopub.status.idle": "2024-12-03T16:40:43.022713Z",
          "shell.execute_reply.started": "2024-12-03T16:40:43.01217Z",
          "shell.execute_reply": "2024-12-03T16:40:43.021525Z"
        },
        "id": "6CMytu31avXp",
        "outputId": "16ca4fac-41ea-4ae2-9f7e-01bd59dd563d"
      },
      "outputs": [
        {
          "output_type": "display_data",
          "data": {
            "text/plain": "<IPython.core.display.Javascript object>",
            "application/javascript": "parent.postMessage({\"jupyterEvent\": \"custom.exercise_interaction\", \"data\": {\"outcomeType\": 2, \"failureMessage\": \"Got a return value of `None` given `nums=[]`, but expected a value of type `bool`. (Did you forget a `return` statement?)\", \"interactionType\": 1, \"questionType\": 2, \"questionId\": \"1_EarlyExitDebugging\", \"learnToolsVersion\": \"0.3.4\", \"valueTowardsCompletion\": 0.0, \"exceptionClass\": \"\", \"trace\": \"\"}}, \"*\")"
          },
          "metadata": {}
        },
        {
          "output_type": "display_data",
          "data": {
            "text/plain": "Incorrect: Got a return value of `None` given `nums=[]`, but expected a value of type `bool`. (Did you forget a `return` statement?)",
            "text/markdown": "<span style=\"color:#cc3333\">Incorrect:</span> Got a return value of `None` given `nums=[]`, but expected a value of type `bool`. (Did you forget a `return` statement?)"
          },
          "metadata": {}
        }
      ],
      "execution_count": null
    },
    {
      "cell_type": "code",
      "source": [
        "#q1.hint()\n",
        "#q1.solution()"
      ],
      "metadata": {
        "id": "ZEahUUSJavXp"
      },
      "outputs": [],
      "execution_count": null
    },
    {
      "cell_type": "markdown",
      "source": [
        "# 2.\n",
        "Look at the Python expression below. What do you think we'll get when we run it? When you've made your prediction, uncomment the code and run the cell to see if you were right."
      ],
      "metadata": {
        "id": "rlrI6SuOavXp"
      }
    },
    {
      "cell_type": "code",
      "source": [
        "#[1, 2, 3, 4] > 2"
      ],
      "metadata": {
        "id": "9JvsoKO0avXq"
      },
      "outputs": [],
      "execution_count": null
    },
    {
      "cell_type": "markdown",
      "source": [
        "R and Python have some libraries (like numpy and pandas) compare each element of the list to 2 (i.e. do an 'element-wise' comparison) and give us a list of booleans like `[False, False, True, True]`.\n",
        "\n",
        "Implement a function that reproduces this behaviour, returning a list of booleans corresponding to whether the corresponding element is greater than n."
      ],
      "metadata": {
        "id": "9GEnnYbfavXq"
      }
    },
    {
      "cell_type": "code",
      "source": [
        "def elementwise_greater_than(L, thresh):\n",
        "    \"\"\"Return a list with the same length as L, where the value at index i is\n",
        "    True if L[i] is greater than thresh, and False otherwise.\n",
        "\n",
        "    >>> elementwise_greater_than([1, 2, 3, 4], 2)\n",
        "    [False, False, True, True]\n",
        "    \"\"\"\n",
        "    pass\n",
        "\n",
        "# Check your answer\n",
        "q2.check()"
      ],
      "metadata": {
        "id": "7A3ldcNiavXq"
      },
      "outputs": [],
      "execution_count": null
    },
    {
      "cell_type": "code",
      "source": [
        "#q2.solution()"
      ],
      "metadata": {
        "id": "-WJ95wi0avXq"
      },
      "outputs": [],
      "execution_count": null
    },
    {
      "cell_type": "markdown",
      "source": [
        "# 3.\n",
        "\n",
        "Complete the body of the function below according to its docstring."
      ],
      "metadata": {
        "id": "Qxil05oZavXq"
      }
    },
    {
      "cell_type": "code",
      "source": [
        "def menu_is_boring(meals):\n",
        "    \"\"\"Given a list of meals served over some period of time, return True if the\n",
        "    same meal has ever been served two days in a row, and False otherwise.\n",
        "    \"\"\"\n",
        "    pass\n",
        "\n",
        "# Check your answer\n",
        "q3.check()"
      ],
      "metadata": {
        "id": "g9fq1LddavXq"
      },
      "outputs": [],
      "execution_count": null
    },
    {
      "cell_type": "code",
      "source": [
        "#q3.hint()\n",
        "#q3.solution()"
      ],
      "metadata": {
        "id": "o-JhvbBaavXq"
      },
      "outputs": [],
      "execution_count": null
    },
    {
      "cell_type": "markdown",
      "source": [
        "# 4. <span title=\"A bit spicy\" style=\"color: darkgreen \">🌶️</span>\n",
        "\n",
        "Next to the Blackjack table, the Python Challenge Casino has a slot machine. You can get a result from the slot machine by calling `play_slot_machine()`. The number it returns is your winnings in dollars. Usually it returns 0.  But sometimes you'll get lucky and get a big payday. Try running it below:"
      ],
      "metadata": {
        "id": "bPktUpEhavXq"
      }
    },
    {
      "cell_type": "code",
      "source": [
        "play_slot_machine()"
      ],
      "metadata": {
        "id": "X9vlMQ6MavXq"
      },
      "outputs": [],
      "execution_count": null
    },
    {
      "cell_type": "markdown",
      "source": [
        "By the way, did we mention that each play costs $1? Don't worry, we'll send you the bill later.\n",
        "\n",
        "On average, how much money can you expect to gain (or lose) every time you play the machine?  The casino keeps it a secret, but you can estimate the average value of each pull using a technique called the **Monte Carlo method**. To estimate the average outcome, we simulate the scenario many times, and return the average result.\n",
        "\n",
        "Complete the following function to calculate the average value per play of the slot machine."
      ],
      "metadata": {
        "id": "junyYtM5avXr"
      }
    },
    {
      "cell_type": "code",
      "source": [
        "def estimate_average_slot_payout(n_runs):\n",
        "    \"\"\"Run the slot machine n_runs times and return the average net profit per run.\n",
        "    Example calls (note that return value is nondeterministic!):\n",
        "    >>> estimate_average_slot_payout(1)\n",
        "    -1\n",
        "    >>> estimate_average_slot_payout(1)\n",
        "    0.5\n",
        "    \"\"\"\n",
        "    pass"
      ],
      "metadata": {
        "id": "tgD3zezNavXr"
      },
      "outputs": [],
      "execution_count": null
    },
    {
      "cell_type": "markdown",
      "source": [
        "When you think you know the expected value per spin, run the code cell below to view the solution and get credit for answering the question."
      ],
      "metadata": {
        "id": "8FoeBrpCavXr"
      }
    },
    {
      "cell_type": "code",
      "source": [
        "# Check your answer (Run this code cell to receive credit!)\n",
        "q4.solution()"
      ],
      "metadata": {
        "id": "Dy5xOjdiavXr"
      },
      "outputs": [],
      "execution_count": null
    },
    {
      "cell_type": "markdown",
      "source": [
        "# Keep Going\n",
        "\n",
        "Many programmers report that dictionaries are their favorite data structure. You'll get to **[learn about them](https://www.kaggle.com/colinmorris/strings-and-dictionaries)** (as well as strings) in the next lesson."
      ],
      "metadata": {
        "id": "68UNsUguavXr"
      }
    },
    {
      "cell_type": "markdown",
      "source": [
        "---\n",
        "\n",
        "\n",
        "\n",
        "\n",
        "*Have questions or comments? Visit the [Learn Discussion forum](https://www.kaggle.com/learn-forum/161283) to chat with other Learners.*"
      ],
      "metadata": {
        "id": "_OgjNv4mavXr"
      }
    }
  ]
}