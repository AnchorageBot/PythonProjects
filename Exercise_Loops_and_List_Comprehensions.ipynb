{
  "metadata": {
    "kernelspec": {
      "display_name": "Python 3",
      "language": "python",
      "name": "python3"
    },
    "language_info": {
      "name": "python",
      "version": "3.10.14",
      "mimetype": "text/x-python",
      "codemirror_mode": {
        "name": "ipython",
        "version": 3
      },
      "pygments_lexer": "ipython3",
      "nbconvert_exporter": "python",
      "file_extension": ".py"
    },
    "learntools_metadata": {
      "lesson_index": 4,
      "type": "exercise"
    },
    "kaggle": {
      "accelerator": "none",
      "dataSources": [],
      "isInternetEnabled": false,
      "language": "python",
      "sourceType": "notebook",
      "isGpuEnabled": false
    },
    "colab": {
      "name": "Exercise: Loops and List Comprehensions",
      "provenance": []
    }
  },
  "nbformat_minor": 0,
  "nbformat": 4,
  "cells": [
    {
      "cell_type": "markdown",
      "source": [
        "**This notebook is an exercise in the [Python](https://www.kaggle.com/learn/python) course.  You can reference the tutorial at [this link](https://www.kaggle.com/colinmorris/loops-and-list-comprehensions).**\n",
        "\n",
        "---\n"
      ],
      "metadata": {
        "id": "E-nDAlujS5SM"
      }
    },
    {
      "cell_type": "markdown",
      "source": [
        "With all you've learned, you can start writing much more interesting programs. See if you can solve the problems below.\n",
        "\n",
        "As always, run the setup code below before working on the questions."
      ],
      "metadata": {
        "id": "SUfgtvKES5SP"
      }
    },
    {
      "cell_type": "code",
      "source": [
        "from learntools.core import binder; binder.bind(globals())\n",
        "from learntools.python.ex5 import *\n",
        "print('Setup complete.')"
      ],
      "metadata": {
        "trusted": true,
        "execution": {
          "iopub.status.busy": "2024-12-07T18:02:53.318284Z",
          "iopub.execute_input": "2024-12-07T18:02:53.318688Z",
          "iopub.status.idle": "2024-12-07T18:02:54.434134Z",
          "shell.execute_reply.started": "2024-12-07T18:02:53.318646Z",
          "shell.execute_reply": "2024-12-07T18:02:54.433087Z"
        },
        "id": "PiwL-oxVS5SP",
        "outputId": "e7488fb9-18fd-4336-d606-7dd57887f3dc"
      },
      "outputs": [
        {
          "name": "stdout",
          "text": "Setup complete.\n",
          "output_type": "stream"
        }
      ],
      "execution_count": null
    },
    {
      "cell_type": "markdown",
      "source": [
        "# 1.\n",
        "\n",
        "Have you ever felt debugging involved a bit of luck? The following program has a bug. Try to identify the bug and fix it."
      ],
      "metadata": {
        "id": "w1a6DLv5S5SQ"
      }
    },
    {
      "cell_type": "code",
      "source": [
        "def has_lucky_number(nums):\n",
        "    \"\"\"Return whether the given list of numbers is lucky. A lucky list contains\n",
        "    at least one number divisible by 7.\n",
        "    \"\"\"\n",
        "    for num in nums:\n",
        "        if num % 7 == 0:\n",
        "            return True\n",
        "        #else:\n",
        "    return False # has to match the 'for' spacing\n",
        "\n",
        "nums = [1,2,3,4,7] # did not make it to the last number until the 'return false' was moved to the left\n",
        "#nums = [7,2,3,4,1]\n",
        "print(has_lucky_number(nums))"
      ],
      "metadata": {
        "trusted": true,
        "execution": {
          "iopub.status.busy": "2024-12-03T16:53:45.518989Z",
          "iopub.execute_input": "2024-12-03T16:53:45.519662Z",
          "iopub.status.idle": "2024-12-03T16:53:45.525665Z",
          "shell.execute_reply.started": "2024-12-03T16:53:45.519624Z",
          "shell.execute_reply": "2024-12-03T16:53:45.524442Z"
        },
        "id": "XPs1wDbyS5SR",
        "outputId": "ca752ddb-4584-4a1e-a40e-c33e8d81b08d"
      },
      "outputs": [
        {
          "name": "stdout",
          "text": "True\n",
          "output_type": "stream"
        }
      ],
      "execution_count": null
    },
    {
      "cell_type": "markdown",
      "source": [
        "Try to identify the bug and fix it in the cell below:"
      ],
      "metadata": {
        "id": "DfZp6n6WS5SR"
      }
    },
    {
      "cell_type": "code",
      "source": [
        "def has_lucky_number(nums):\n",
        "    \"\"\"Return whether the given list of numbers is lucky. A lucky list contains\n",
        "    at least one number divisible by 7.\n",
        "    \"\"\"\n",
        "    for num in nums:\n",
        "        if num % 7 == 0:\n",
        "            return True\n",
        "        #else:\n",
        "    return False\n",
        "\n",
        "# Check your answer\n",
        "q1.check()"
      ],
      "metadata": {
        "trusted": true,
        "execution": {
          "iopub.status.busy": "2024-12-03T16:54:42.558887Z",
          "iopub.execute_input": "2024-12-03T16:54:42.559342Z",
          "iopub.status.idle": "2024-12-03T16:54:42.569737Z",
          "shell.execute_reply.started": "2024-12-03T16:54:42.559309Z",
          "shell.execute_reply": "2024-12-03T16:54:42.568575Z"
        },
        "id": "PIqxWrwVS5SR",
        "outputId": "ce105e3b-605c-4ab4-edd9-4c8d4de4c1d0"
      },
      "outputs": [
        {
          "output_type": "display_data",
          "data": {
            "text/plain": "<IPython.core.display.Javascript object>",
            "application/javascript": "parent.postMessage({\"jupyterEvent\": \"custom.exercise_interaction\", \"data\": {\"outcomeType\": 1, \"valueTowardsCompletion\": 0.25, \"interactionType\": 1, \"questionType\": 2, \"questionId\": \"1_EarlyExitDebugging\", \"learnToolsVersion\": \"0.3.4\", \"failureMessage\": \"\", \"exceptionClass\": \"\", \"trace\": \"\"}}, \"*\")"
          },
          "metadata": {}
        },
        {
          "output_type": "display_data",
          "data": {
            "text/plain": "Correct: \n\nRemember that `return` causes a function to exit immediately. So our original implementation always ran for just one iteration. We can only return `False` if we've looked at every element of the list (and confirmed that none of them are lucky). Though we can return early if the answer is `True`:\n\n```python\ndef has_lucky_number(nums):\n    for num in nums:\n        if num % 7 == 0:\n            return True\n    # We've exhausted the list without finding a lucky number\n    return False\n```\n\nHere's a one-line version using a list comprehension with Python's `any` function (you can read about what it does by calling `help(any)`):\n\n```python\ndef has_lucky_number(nums):\n    return any([num % 7 == 0 for num in nums])\n```",
            "text/markdown": "<span style=\"color:#33cc33\">Correct:</span> \n\nRemember that `return` causes a function to exit immediately. So our original implementation always ran for just one iteration. We can only return `False` if we've looked at every element of the list (and confirmed that none of them are lucky). Though we can return early if the answer is `True`:\n\n```python\ndef has_lucky_number(nums):\n    for num in nums:\n        if num % 7 == 0:\n            return True\n    # We've exhausted the list without finding a lucky number\n    return False\n```\n\nHere's a one-line version using a list comprehension with Python's `any` function (you can read about what it does by calling `help(any)`):\n\n```python\ndef has_lucky_number(nums):\n    return any([num % 7 == 0 for num in nums])\n```\n"
          },
          "metadata": {}
        }
      ],
      "execution_count": null
    },
    {
      "cell_type": "code",
      "source": [
        "q1.hint()\n",
        "q1.solution()"
      ],
      "metadata": {
        "trusted": true,
        "execution": {
          "iopub.status.busy": "2024-12-03T16:52:39.502785Z",
          "iopub.execute_input": "2024-12-03T16:52:39.503908Z",
          "iopub.status.idle": "2024-12-03T16:52:39.518769Z",
          "shell.execute_reply.started": "2024-12-03T16:52:39.503856Z",
          "shell.execute_reply": "2024-12-03T16:52:39.517633Z"
        },
        "id": "pQBERYVIS5SR",
        "outputId": "7ea32bf0-a0a0-4e20-cc5a-9aa22ed81ed6"
      },
      "outputs": [
        {
          "output_type": "display_data",
          "data": {
            "text/plain": "<IPython.core.display.Javascript object>",
            "application/javascript": "parent.postMessage({\"jupyterEvent\": \"custom.exercise_interaction\", \"data\": {\"interactionType\": 2, \"questionType\": 2, \"questionId\": \"1_EarlyExitDebugging\", \"learnToolsVersion\": \"0.3.4\", \"valueTowardsCompletion\": 0.0, \"failureMessage\": \"\", \"exceptionClass\": \"\", \"trace\": \"\", \"outcomeType\": 4}}, \"*\")"
          },
          "metadata": {}
        },
        {
          "output_type": "display_data",
          "data": {
            "text/plain": "Hint: How many times does the body of the loop run for a list of length n? (If you're not sure, try adding a `print()` call on the line before the `if`.)",
            "text/markdown": "<span style=\"color:#3366cc\">Hint:</span> How many times does the body of the loop run for a list of length n? (If you're not sure, try adding a `print()` call on the line before the `if`.)"
          },
          "metadata": {}
        },
        {
          "output_type": "display_data",
          "data": {
            "text/plain": "<IPython.core.display.Javascript object>",
            "application/javascript": "parent.postMessage({\"jupyterEvent\": \"custom.exercise_interaction\", \"data\": {\"interactionType\": 3, \"questionType\": 2, \"questionId\": \"1_EarlyExitDebugging\", \"learnToolsVersion\": \"0.3.4\", \"valueTowardsCompletion\": 0.0, \"failureMessage\": \"\", \"exceptionClass\": \"\", \"trace\": \"\", \"outcomeType\": 4}}, \"*\")"
          },
          "metadata": {}
        },
        {
          "output_type": "display_data",
          "data": {
            "text/plain": "Solution: Remember that `return` causes a function to exit immediately. So our original implementation always ran for just one iteration. We can only return `False` if we've looked at every element of the list (and confirmed that none of them are lucky). Though we can return early if the answer is `True`:\n\n```python\ndef has_lucky_number(nums):\n    for num in nums:\n        if num % 7 == 0:\n            return True\n    # We've exhausted the list without finding a lucky number\n    return False\n```\n\nHere's a one-line version using a list comprehension with Python's `any` function (you can read about what it does by calling `help(any)`):\n\n```python\ndef has_lucky_number(nums):\n    return any([num % 7 == 0 for num in nums])\n```",
            "text/markdown": "<span style=\"color:#33cc99\">Solution:</span> Remember that `return` causes a function to exit immediately. So our original implementation always ran for just one iteration. We can only return `False` if we've looked at every element of the list (and confirmed that none of them are lucky). Though we can return early if the answer is `True`:\n\n```python\ndef has_lucky_number(nums):\n    for num in nums:\n        if num % 7 == 0:\n            return True\n    # We've exhausted the list without finding a lucky number\n    return False\n```\n\nHere's a one-line version using a list comprehension with Python's `any` function (you can read about what it does by calling `help(any)`):\n\n```python\ndef has_lucky_number(nums):\n    return any([num % 7 == 0 for num in nums])\n```\n"
          },
          "metadata": {}
        }
      ],
      "execution_count": null
    },
    {
      "cell_type": "code",
      "source": [
        "def has_lucky_number(nums):\n",
        "    return any([num % 7 == 0 for num in nums])\n",
        "\n",
        "nums = [1,2,3,4,7]\n",
        "print(has_lucky_number(nums))"
      ],
      "metadata": {
        "trusted": true,
        "execution": {
          "iopub.status.busy": "2024-12-04T04:25:14.180354Z",
          "iopub.execute_input": "2024-12-04T04:25:14.18073Z",
          "iopub.status.idle": "2024-12-04T04:25:14.186985Z",
          "shell.execute_reply.started": "2024-12-04T04:25:14.1807Z",
          "shell.execute_reply": "2024-12-04T04:25:14.185785Z"
        },
        "id": "HDPgvxsDS5SS",
        "outputId": "44d4a2d3-4903-45a0-db8f-e8b518f77537"
      },
      "outputs": [
        {
          "name": "stdout",
          "text": "True\n",
          "output_type": "stream"
        }
      ],
      "execution_count": null
    },
    {
      "cell_type": "code",
      "source": [
        "[1, 2, 3, 4] > 2"
      ],
      "metadata": {
        "trusted": true,
        "execution": {
          "iopub.status.busy": "2024-12-04T04:18:07.087151Z",
          "iopub.execute_input": "2024-12-04T04:18:07.088018Z",
          "iopub.status.idle": "2024-12-04T04:18:07.355253Z",
          "shell.execute_reply.started": "2024-12-04T04:18:07.087979Z",
          "shell.execute_reply": "2024-12-04T04:18:07.35399Z"
        },
        "id": "WaWtmpyFS5SS",
        "outputId": "a7ba9f6e-07f5-4b10-cb8d-5e4d3c9cd539"
      },
      "outputs": [
        {
          "traceback": [
            "\u001b[0;31m---------------------------------------------------------------------------\u001b[0m",
            "\u001b[0;31mTypeError\u001b[0m                                 Traceback (most recent call last)",
            "Cell \u001b[0;32mIn[2], line 1\u001b[0m\n\u001b[0;32m----> 1\u001b[0m \u001b[43m[\u001b[49m\u001b[38;5;241;43m1\u001b[39;49m\u001b[43m,\u001b[49m\u001b[43m \u001b[49m\u001b[38;5;241;43m2\u001b[39;49m\u001b[43m,\u001b[49m\u001b[43m \u001b[49m\u001b[38;5;241;43m3\u001b[39;49m\u001b[43m,\u001b[49m\u001b[43m \u001b[49m\u001b[38;5;241;43m4\u001b[39;49m\u001b[43m]\u001b[49m\u001b[43m \u001b[49m\u001b[38;5;241;43m>\u001b[39;49m\u001b[43m \u001b[49m\u001b[38;5;241;43m2\u001b[39;49m\n",
            "\u001b[0;31mTypeError\u001b[0m: '>' not supported between instances of 'list' and 'int'"
          ],
          "ename": "TypeError",
          "evalue": "'>' not supported between instances of 'list' and 'int'",
          "output_type": "error"
        }
      ],
      "execution_count": null
    },
    {
      "cell_type": "code",
      "source": [
        "def elementwise_greater_than(L, thresh):\n",
        "    \"\"\"Return a list with the same length as L, where the value at index i is\n",
        "    True if L[i] is greater than thresh, and False otherwise.\n",
        "\n",
        "    >>> elementwise_greater_than([1, 2, 3, 4], 2)\n",
        "    [False, False, True, True]\n",
        "    \"\"\"\n",
        "    #pass\n",
        "\n",
        "    for l in L:\n",
        "        if l > thresh:\n",
        "            return True\n",
        "\n",
        "    return False\n",
        "\n",
        "print(elementwise_greater_than([1, 2, 3, 4], 2))"
      ],
      "metadata": {
        "trusted": true,
        "execution": {
          "iopub.status.busy": "2024-12-04T04:28:42.161349Z",
          "iopub.execute_input": "2024-12-04T04:28:42.162293Z",
          "iopub.status.idle": "2024-12-04T04:28:42.16861Z",
          "shell.execute_reply.started": "2024-12-04T04:28:42.162241Z",
          "shell.execute_reply": "2024-12-04T04:28:42.167587Z"
        },
        "id": "532IcBwlS5SS",
        "outputId": "de33fcb5-0584-447b-9e52-2bb03463c807"
      },
      "outputs": [
        {
          "name": "stdout",
          "text": "True\n",
          "output_type": "stream"
        }
      ],
      "execution_count": null
    },
    {
      "cell_type": "markdown",
      "source": [
        "R and Python have some libraries (like numpy and pandas) compare each element of the list to 2 (i.e. do an 'element-wise' comparison) and give us a list of booleans like `[False, False, True, True]`.\n",
        "\n",
        "Implement a function that reproduces this behaviour, returning a list of booleans corresponding to whether the corresponding element is greater than n."
      ],
      "metadata": {
        "id": "0oEJbpguS5SS"
      }
    },
    {
      "cell_type": "code",
      "source": [
        "def elementwise_greater_than(L, thresh):\n",
        "    \"\"\"Return a list with the same length as L, where the value at index i is\n",
        "    True if L[i] is greater than thresh, and False otherwise.\n",
        "\n",
        "    \"\"\"\n",
        "    res = []\n",
        "    for ele in L:\n",
        "        res.append(ele > thresh)\n",
        "    return res\n",
        "\n",
        "print(elementwise_greater_than([1, 2, 3, 4], 2))\n",
        "\n",
        "# Check your answer\n",
        "q2.check()"
      ],
      "metadata": {
        "trusted": true,
        "execution": {
          "iopub.status.busy": "2024-12-04T04:29:54.365864Z",
          "iopub.execute_input": "2024-12-04T04:29:54.366222Z",
          "iopub.status.idle": "2024-12-04T04:29:54.37611Z",
          "shell.execute_reply.started": "2024-12-04T04:29:54.366195Z",
          "shell.execute_reply": "2024-12-04T04:29:54.374998Z"
        },
        "id": "PWT-uhG3S5SS",
        "outputId": "76c4de42-6d48-42eb-e699-744c50cdb60b"
      },
      "outputs": [
        {
          "name": "stdout",
          "text": "[False, False, True, True]\n",
          "output_type": "stream"
        },
        {
          "output_type": "display_data",
          "data": {
            "text/plain": "<IPython.core.display.Javascript object>",
            "application/javascript": "parent.postMessage({\"jupyterEvent\": \"custom.exercise_interaction\", \"data\": {\"outcomeType\": 1, \"valueTowardsCompletion\": 0.25, \"interactionType\": 1, \"questionType\": 2, \"questionId\": \"2_ElementWiseComparison\", \"learnToolsVersion\": \"0.3.4\", \"failureMessage\": \"\", \"exceptionClass\": \"\", \"trace\": \"\"}}, \"*\")"
          },
          "metadata": {}
        },
        {
          "output_type": "display_data",
          "data": {
            "text/plain": "Correct: \n\nHere's one solution:\n```python\ndef elementwise_greater_than(L, thresh):\n    res = []\n    for ele in L:\n        res.append(ele > thresh)\n    return res\n```\n\nAnd here's the list comprehension version:\n```python\ndef elementwise_greater_than(L, thresh):\n    return [ele > thresh for ele in L]\n```",
            "text/markdown": "<span style=\"color:#33cc33\">Correct:</span> \n\nHere's one solution:\n```python\ndef elementwise_greater_than(L, thresh):\n    res = []\n    for ele in L:\n        res.append(ele > thresh)\n    return res\n```\n\nAnd here's the list comprehension version:\n```python\ndef elementwise_greater_than(L, thresh):\n    return [ele > thresh for ele in L]\n```\n"
          },
          "metadata": {}
        }
      ],
      "execution_count": null
    },
    {
      "cell_type": "code",
      "source": [
        "#q2.solution()"
      ],
      "metadata": {
        "trusted": true,
        "execution": {
          "iopub.status.busy": "2024-12-04T04:43:21.677704Z",
          "iopub.execute_input": "2024-12-04T04:43:21.67815Z",
          "iopub.status.idle": "2024-12-04T04:43:21.682956Z",
          "shell.execute_reply.started": "2024-12-04T04:43:21.67811Z",
          "shell.execute_reply": "2024-12-04T04:43:21.681681Z"
        },
        "id": "8FDBJxE0S5ST"
      },
      "outputs": [],
      "execution_count": null
    },
    {
      "cell_type": "code",
      "source": [
        "help(list.append)"
      ],
      "metadata": {
        "trusted": true,
        "execution": {
          "iopub.status.busy": "2024-12-04T04:32:52.48115Z",
          "iopub.execute_input": "2024-12-04T04:32:52.482159Z",
          "iopub.status.idle": "2024-12-04T04:32:52.488037Z",
          "shell.execute_reply.started": "2024-12-04T04:32:52.482106Z",
          "shell.execute_reply": "2024-12-04T04:32:52.486996Z"
        },
        "id": "FteNUGy8S5ST",
        "outputId": "bb7b6c5a-6cda-4a0f-81b0-f8fb03028ded"
      },
      "outputs": [
        {
          "name": "stdout",
          "text": "Help on method_descriptor:\n\nappend(self, object, /)\n    Append object to the end of the list.\n\n",
          "output_type": "stream"
        }
      ],
      "execution_count": null
    },
    {
      "cell_type": "markdown",
      "source": [
        "# 3.\n",
        "\n",
        "Complete the body of the function below according to its docstring."
      ],
      "metadata": {
        "id": "RCBWSaUiS5ST"
      }
    },
    {
      "cell_type": "code",
      "source": [
        "def menu_is_boring(meals):\n",
        "    \"\"\"Given a list of meals served over some period of time, return True if the\n",
        "    same meal has ever been served two days in a row, and False otherwise.\n",
        "    \"\"\"\n",
        "    menu = []\n",
        "    for day in meals:\n",
        "        menu.append(day = day)\n",
        "    return menu\n",
        "\n",
        "meals = [1, 2, 3, 4]\n",
        "print(menu_is_boring(meals))"
      ],
      "metadata": {
        "trusted": true,
        "execution": {
          "iopub.status.busy": "2024-12-04T05:07:02.016499Z",
          "iopub.execute_input": "2024-12-04T05:07:02.016926Z",
          "iopub.status.idle": "2024-12-04T05:07:02.051712Z",
          "shell.execute_reply.started": "2024-12-04T05:07:02.016893Z",
          "shell.execute_reply": "2024-12-04T05:07:02.050268Z"
        },
        "id": "4CPqbHIVS5ST",
        "outputId": "c98c1ee2-d80f-4f84-85d8-8249630265b8"
      },
      "outputs": [
        {
          "traceback": [
            "\u001b[0;31m---------------------------------------------------------------------------\u001b[0m",
            "\u001b[0;31mTypeError\u001b[0m                                 Traceback (most recent call last)",
            "Cell \u001b[0;32mIn[23], line 12\u001b[0m\n\u001b[1;32m      9\u001b[0m     \u001b[38;5;28;01mreturn\u001b[39;00m menu\n\u001b[1;32m     11\u001b[0m meals \u001b[38;5;241m=\u001b[39m [\u001b[38;5;241m1\u001b[39m, \u001b[38;5;241m2\u001b[39m, \u001b[38;5;241m3\u001b[39m, \u001b[38;5;241m4\u001b[39m]\n\u001b[0;32m---> 12\u001b[0m \u001b[38;5;28mprint\u001b[39m(\u001b[43mmenu_is_boring\u001b[49m\u001b[43m(\u001b[49m\u001b[43mmeals\u001b[49m\u001b[43m)\u001b[49m)\n",
            "Cell \u001b[0;32mIn[23], line 8\u001b[0m, in \u001b[0;36mmenu_is_boring\u001b[0;34m(meals)\u001b[0m\n\u001b[1;32m      6\u001b[0m menu \u001b[38;5;241m=\u001b[39m []\n\u001b[1;32m      7\u001b[0m \u001b[38;5;28;01mfor\u001b[39;00m day \u001b[38;5;129;01min\u001b[39;00m meals:\n\u001b[0;32m----> 8\u001b[0m     \u001b[43mmenu\u001b[49m\u001b[38;5;241;43m.\u001b[39;49m\u001b[43mappend\u001b[49m\u001b[43m(\u001b[49m\u001b[43mday\u001b[49m\u001b[43m \u001b[49m\u001b[38;5;241;43m=\u001b[39;49m\u001b[43m \u001b[49m\u001b[43mday\u001b[49m\u001b[43m)\u001b[49m\n\u001b[1;32m      9\u001b[0m \u001b[38;5;28;01mreturn\u001b[39;00m menu\n",
            "\u001b[0;31mTypeError\u001b[0m: list.append() takes no keyword arguments"
          ],
          "ename": "TypeError",
          "evalue": "list.append() takes no keyword arguments",
          "output_type": "error"
        }
      ],
      "execution_count": null
    },
    {
      "cell_type": "code",
      "source": [
        "def menu_is_boring(meals):\n",
        "    \"\"\"Given a list of meals served over some period of time, return True if the\n",
        "    same meal has ever been served two days in a row, and False otherwise.\n",
        "\n",
        "    Args:\n",
        "        meals: A list of values representing meals served over consecutive days\n",
        "\n",
        "    Returns:\n",
        "        bool: True if same meal served two days in a row, False otherwise\n",
        "\n",
        "    Examples:\n",
        "        >>> menu_is_boring([1, 2, 3, 4])\n",
        "        False\n",
        "        >>> menu_is_boring([1, 1, 2, 3])\n",
        "        True\n",
        "\n",
        "    Tutor: Anthropic's AI Claude\n",
        "    \"\"\"\n",
        "    # Edge case: If we have less than 2 meals, it can't be boring\n",
        "    # since we need at least 2 meals to have a repeat\n",
        "    if len(meals) < 2:\n",
        "        return False\n",
        "\n",
        "    # Iterate through the meals list up to the second-to-last element\n",
        "    # We use len(meals) - 1 because we're comparing each element with the next one\n",
        "    # and we don't want to go beyond the list bounds\n",
        "    for i in range(len(meals) - 1):\n",
        "        # Compare current meal with the next meal\n",
        "        # If they're equal, we found a repeat, so the menu is boring\n",
        "        if meals[i] == meals[i + 1]:\n",
        "            return True\n",
        "\n",
        "    # If we've gone through all meals and found no repeats,\n",
        "    # then the menu is not boring\n",
        "    return False\n",
        "\n",
        "# Test cases\n",
        "meals1 = [1, 2, 3, 4]      # Different meals each day\n",
        "meals2 = [1, 1, 2, 3]      # Same meal (1) on days 1 and 2\n",
        "meals3 = []                # Empty menu\n",
        "meals4 = [1]              # Single meal\n",
        "meals5 = [1, 2, 2, 3]     # Same meal (2) on days 2 and 3\n",
        "\n",
        "# Run tests and print results\n",
        "print(f\"Test 1 (all different): {menu_is_boring(meals1)}\")       # False\n",
        "print(f\"Test 2 (repeat at start): {menu_is_boring(meals2)}\")     # True\n",
        "print(f\"Test 3 (empty menu): {menu_is_boring(meals3)}\")          # False\n",
        "print(f\"Test 4 (single meal): {menu_is_boring(meals4)}\")         # False\n",
        "print(f\"Test 5 (repeat in middle): {menu_is_boring(meals5)}\")    # True"
      ],
      "metadata": {
        "trusted": true,
        "execution": {
          "iopub.status.busy": "2024-12-04T05:11:18.141105Z",
          "iopub.execute_input": "2024-12-04T05:11:18.141529Z",
          "iopub.status.idle": "2024-12-04T05:11:18.14896Z",
          "shell.execute_reply.started": "2024-12-04T05:11:18.141496Z",
          "shell.execute_reply": "2024-12-04T05:11:18.147795Z"
        },
        "id": "410gx-CpS5ST",
        "outputId": "f22da005-52bf-4cc5-af7d-33c65d2cd34f"
      },
      "outputs": [
        {
          "name": "stdout",
          "text": "False\nTrue\n",
          "output_type": "stream"
        }
      ],
      "execution_count": null
    },
    {
      "cell_type": "code",
      "source": [
        "def menu_is_boring(meals):\n",
        "    \"\"\"Given a list of meals served over some period of time, return True if the\n",
        "    same meal has ever been served two days in a row, and False otherwise.\n",
        "    \"\"\"\n",
        "\n",
        "    # Iterate over all indices of the list, except the last one\n",
        "    for i in range(len(meals)-1):\n",
        "        if meals[i] == meals[i+1]:\n",
        "            return True\n",
        "    return False\n",
        "\n",
        "meals1 = [1, 2, 3, 4]  # Not boring test case\n",
        "print(menu_is_boring(meals1))\n",
        "\n",
        "meals2 = [1, 1, 2, 3]  # Boring (1 appears twice in a row) test case\n",
        "print(menu_is_boring(meals2))\n",
        "\n",
        "# Check your answer\n",
        "q3.check()"
      ],
      "metadata": {
        "trusted": true,
        "execution": {
          "iopub.status.busy": "2024-12-04T05:15:20.779441Z",
          "iopub.execute_input": "2024-12-04T05:15:20.779845Z",
          "iopub.status.idle": "2024-12-04T05:15:20.791359Z",
          "shell.execute_reply.started": "2024-12-04T05:15:20.779809Z",
          "shell.execute_reply": "2024-12-04T05:15:20.790256Z"
        },
        "id": "XXtbO4D4S5SU",
        "outputId": "58f01840-dfcc-4776-9c5f-320637cdce4c"
      },
      "outputs": [
        {
          "name": "stdout",
          "text": "False\nTrue\n",
          "output_type": "stream"
        },
        {
          "output_type": "display_data",
          "data": {
            "text/plain": "<IPython.core.display.Javascript object>",
            "application/javascript": "parent.postMessage({\"jupyterEvent\": \"custom.exercise_interaction\", \"data\": {\"outcomeType\": 1, \"valueTowardsCompletion\": 0.25, \"interactionType\": 1, \"questionType\": 2, \"questionId\": \"3_BoringMenu\", \"learnToolsVersion\": \"0.3.4\", \"failureMessage\": \"\", \"exceptionClass\": \"\", \"trace\": \"\"}}, \"*\")"
          },
          "metadata": {}
        },
        {
          "output_type": "display_data",
          "data": {
            "text/plain": "Correct: \n\n\n\n```python\ndef menu_is_boring(meals):\n    # Iterate over all indices of the list, except the last one\n    for i in range(len(meals)-1):\n        if meals[i] == meals[i+1]:\n            return True\n    return False\n```\n\nThe key to our solution is the call to `range`. `range(len(meals))` would give us all the indices of `meals`. If we had used that range, the last iteration of the loop would be comparing the last element to the element after it, which is... `IndexError`! `range(len(meals)-1)` gives us all the indices except the index of the last element.\n\nBut don't we need to check if `meals` is empty? Turns out that `range(0) == range(-1)` - they're both empty. So if `meals` has length 0 or 1, we just won't do any iterations of our for loop.",
            "text/markdown": "<span style=\"color:#33cc33\">Correct:</span> \n\n\n\n```python\ndef menu_is_boring(meals):\n    # Iterate over all indices of the list, except the last one\n    for i in range(len(meals)-1):\n        if meals[i] == meals[i+1]:\n            return True\n    return False\n```\n\nThe key to our solution is the call to `range`. `range(len(meals))` would give us all the indices of `meals`. If we had used that range, the last iteration of the loop would be comparing the last element to the element after it, which is... `IndexError`! `range(len(meals)-1)` gives us all the indices except the index of the last element.\n\nBut don't we need to check if `meals` is empty? Turns out that `range(0) == range(-1)` - they're both empty. So if `meals` has length 0 or 1, we just won't do any iterations of our for loop.\n"
          },
          "metadata": {}
        }
      ],
      "execution_count": null
    },
    {
      "cell_type": "code",
      "source": [
        "q3.hint()\n",
        "#q3.solution()"
      ],
      "metadata": {
        "trusted": true,
        "execution": {
          "iopub.status.busy": "2024-12-04T05:27:44.251391Z",
          "iopub.execute_input": "2024-12-04T05:27:44.251785Z",
          "iopub.status.idle": "2024-12-04T05:27:44.260059Z",
          "shell.execute_reply.started": "2024-12-04T05:27:44.251751Z",
          "shell.execute_reply": "2024-12-04T05:27:44.258932Z"
        },
        "id": "1e5ren09S5SU",
        "outputId": "24fa1fe2-f29c-4648-b7e7-fec97afe61e2"
      },
      "outputs": [
        {
          "output_type": "display_data",
          "data": {
            "text/plain": "<IPython.core.display.Javascript object>",
            "application/javascript": "parent.postMessage({\"jupyterEvent\": \"custom.exercise_interaction\", \"data\": {\"interactionType\": 2, \"questionType\": 2, \"questionId\": \"3_BoringMenu\", \"learnToolsVersion\": \"0.3.4\", \"valueTowardsCompletion\": 0.0, \"failureMessage\": \"\", \"exceptionClass\": \"\", \"trace\": \"\", \"outcomeType\": 4}}, \"*\")"
          },
          "metadata": {}
        },
        {
          "output_type": "display_data",
          "data": {
            "text/plain": "Hint: This is a case where it may be preferable to iterate over the *indices* of the list (using a call to `range()`) rather than iterating over the elements of the list itself. When indexing into the list, be mindful that you're not \"falling off the end\" (i.e. using an index that doesn't exist).",
            "text/markdown": "<span style=\"color:#3366cc\">Hint:</span> This is a case where it may be preferable to iterate over the *indices* of the list (using a call to `range()`) rather than iterating over the elements of the list itself. When indexing into the list, be mindful that you're not \"falling off the end\" (i.e. using an index that doesn't exist)."
          },
          "metadata": {}
        }
      ],
      "execution_count": null
    },
    {
      "cell_type": "markdown",
      "source": [
        "# 4. <span title=\"A bit spicy\" style=\"color: darkgreen \">🌶️</span>\n",
        "\n",
        "Next to the Blackjack table, the Python Challenge Casino has a slot machine. You can get a result from the slot machine by calling `play_slot_machine()`. The number it returns is your winnings in dollars. Usually it returns 0.  But sometimes you'll get lucky and get a big payday. Try running it below:"
      ],
      "metadata": {
        "id": "907HsrecS5SU"
      }
    },
    {
      "cell_type": "code",
      "source": [
        "play_slot_machine()"
      ],
      "metadata": {
        "trusted": true,
        "execution": {
          "iopub.status.busy": "2024-12-04T15:39:25.916916Z",
          "iopub.execute_input": "2024-12-04T15:39:25.917262Z",
          "iopub.status.idle": "2024-12-04T15:39:25.923386Z",
          "shell.execute_reply.started": "2024-12-04T15:39:25.91723Z",
          "shell.execute_reply": "2024-12-04T15:39:25.922548Z"
        },
        "id": "pipKORfbS5SU",
        "outputId": "bcf1d907-452e-472b-c87a-934448de6eb6"
      },
      "outputs": [
        {
          "execution_count": 6,
          "output_type": "execute_result",
          "data": {
            "text/plain": "1.5"
          },
          "metadata": {}
        }
      ],
      "execution_count": null
    },
    {
      "cell_type": "markdown",
      "source": [
        "By the way, did we mention that each play costs $1? Don't worry, we'll send you the bill later.\n",
        "\n",
        "On average, how much money can you expect to gain (or lose) every time you play the machine?  The casino keeps it a secret, but you can estimate the average value of each pull using a technique called the **Monte Carlo method**. To estimate the average outcome, we simulate the scenario many times, and return the average result.\n",
        "\n",
        "Complete the following function to calculate the average value per play of the slot machine."
      ],
      "metadata": {
        "id": "rpZo1w1aS5SU"
      }
    },
    {
      "cell_type": "code",
      "source": [
        "#Observed numbers = [0,0,1.5,0,1.5]\n",
        "    #Sum = 3\n",
        "    #Average = 3/5 = 0.6\n",
        "\n",
        "    #Guess 1 = continous probability distribution, normal distribution\n",
        "    #Guess 2 = discrete probability distribution, binomal distribution\n",
        "\n",
        "import numpy as np\n",
        "from scipy.stats import binom\n",
        "\n",
        "def calc_mean(numbers):\n",
        "    '''\n",
        "    Manual mean calculator\n",
        "    '''\n",
        "\n",
        "    total = sum(numbers)\n",
        "    pop = len(numbers)\n",
        "\n",
        "    mean = total/pop\n",
        "\n",
        "    return mean\n",
        "\n",
        "def calc_median(numbers):\n",
        "    \"\"\"\n",
        "    Manual median calculator\n",
        "\n",
        "    Tutor: Anthropic's AI Claude\n",
        "    \"\"\"\n",
        "\n",
        "    sorted_numbers = sorted(numbers)\n",
        "    n = len(sorted_numbers)\n",
        "\n",
        "    if n % 2 == 0:\n",
        "        # If even length, average the two middle numbers\n",
        "        return (sorted_numbers[n//2 - 1] + sorted_numbers[n//2]) / 2\n",
        "    else:\n",
        "        # If odd length, return the middle number\n",
        "        return sorted_numbers[n//2]\n",
        "\n",
        "def calc_standard_deviation(numbers):\n",
        "    \"\"\"\n",
        "    Manual Standard Deviation Calculator\n",
        "\n",
        "    Calculates the spread of the slot machine payouts\n",
        "\n",
        "    Tutor: Anthropic's AI Claude\n",
        "    \"\"\"\n",
        "    n = len(numbers)\n",
        "\n",
        "    # Calculate mean\n",
        "    mean = sum(numbers) / n\n",
        "\n",
        "    # Calculate squared differences from mean\n",
        "    squared_diff_sum = sum((x - mean) ** 2 for x in numbers)\n",
        "\n",
        "    # Calculate variance and standard deviation\n",
        "    variance = squared_diff_sum / n\n",
        "    std_dev = variance ** 0.5\n",
        "\n",
        "    return std_dev\n",
        "\n",
        "#import numpy as np\n",
        "\n",
        "def normal_distribution(x, mu, sigma):\n",
        "    \"\"\"\n",
        "    Calculates the normal distribution probability density at point x\n",
        "\n",
        "    The equation gives the probability density at any point x for a distribution with specified mean and standard deviation.\n",
        "\n",
        "    When we calculate the normal distribution probability density at the mean (x = 0.6), we get approximately 0.4843. This value represents\n",
        "    the relative likelihood of observing a payout around 0.6 units if the payouts truly follow a normal distribution.\n",
        "\n",
        "    Uses the numpy library\n",
        "\n",
        "    Parameters:\n",
        "    x (float): Point at which to evaluate the distribution\n",
        "    mu (float): Mean of the distribution\n",
        "    sigma (float): Standard deviation of the distribution\n",
        "\n",
        "    Returns:\n",
        "    float: Probability density at point x\n",
        "\n",
        "    Tutor: Anthropic's AI Claude\n",
        "\n",
        "    \"\"\"\n",
        "    nd = (1 / (sigma * np.sqrt(2 * np.pi))) * np.exp(-0.5 * ((x - mu) / sigma)**2)\n",
        "\n",
        "    return nd\n",
        "\n",
        "#import numpy as np\n",
        "#from scipy.stats import binom\n",
        "\n",
        "def binomial_distribution(k, n, p):\n",
        "    \"\"\"\n",
        "    Calculates the binomial probability mass function at point k\n",
        "    The equation gives the probability of exactly k successes in n trials,\n",
        "    where each trial has probability p of success.\n",
        "\n",
        "    For the slot machine example with [0, 0, 1.5, 0, 1.5]:\n",
        "    - n = 5 (total spins)\n",
        "    - k = 2 (number of 1.5 payouts)\n",
        "    - p = 0.4 (probability of getting 1.5, which occurred 2/5 times)\n",
        "    Using these values would give us the probability of getting exactly 2 payouts of 1.5 in 5 spins.\n",
        "    Uses the scipy.stats library for accurate calculation\n",
        "\n",
        "    Parameters:\n",
        "    k (int): Number of successes to calculate probability for\n",
        "    n (int): Total number of trials\n",
        "    p (float): Probability of success on each trial (between 0 and 1)\n",
        "\n",
        "    Returns:\n",
        "    float: Probability mass for exactly k successes\n",
        "\n",
        "    Tutor: Anthropic's AI Claude\n",
        "\n",
        "    Examples:\n",
        "    >>> binomial_distribution(k=2, n=5, p=0.4)  # Probability of 2 successes in 5 trials with 0.4 probability each\n",
        "    0.2304\n",
        "    \"\"\"\n",
        "    # Using scipy's binom.pmf for accurate calculation\n",
        "    # Alternative manual calculation would be:\n",
        "    # probability = (np.math.comb(n, k)) * (p**k) * ((1-p)**(n-k))\n",
        "    probability = binom.pmf(k, n, p)\n",
        "    return probability\n",
        "\n",
        "def estimate_average_slot_payout(n_runs):\n",
        "    \"\"\"Run the slot machine n_runs times and return the average net profit per run.\n",
        "    Example calls (note that return value is nondeterministic!):\n",
        "\n",
        "    \"\"\"\n",
        "\n",
        "\n",
        "numbers = [0,0,1.5,0,1.5]\n",
        "\n",
        "print(\"Mean is \", calc_mean(numbers))\n",
        "mean = calc_mean(numbers)\n",
        "print(f\"Mean: {mean}\\n\")\n",
        "\n",
        "print(\"Median is \", calc_median(numbers))\n",
        "median = calc_median(numbers)\n",
        "print(f\"Median: {median}\\n\")\n",
        "\n",
        "print(\"Standard deviation is \", calc_standard_deviation(numbers))\n",
        "StanDev = calc_standard_deviation(numbers)\n",
        "print(f\"Standard deviation: {StanDev}\\n\")\n",
        "\n",
        "x = mean # When we evaluate the normal distribution at x = mean (0.6), we get the peak density for your distribution.\n",
        "mu = median\n",
        "sigma = StanDev\n",
        "print(\"Normal distribution:\", normal_distribution(x, mu, sigma))\n",
        "print(\"When we calculate the normal distribution probability density at the mean (x = 0.6), we get approximately 0.4843. This value represents the relative likelihood of observing a payout around 0.6 units if the payouts truly follow a normal distribution.\\n\")\n",
        "\n",
        "k = 2 #number of 1.5 payouts\n",
        "n = 5 #total spins\n",
        "p= 0.4 #probability of getting 1.5, which occurred 2/5 times\n",
        "print(\"Binomial distribution\", binomial_distribution(k, n, p))\n",
        "print(\"A discrete probability distribution/binomial might be more appropriate than a continuous/normal one because it's similar to a 'success/failure' pattern\")"
      ],
      "metadata": {
        "trusted": true,
        "execution": {
          "iopub.status.busy": "2024-12-07T18:03:37.706213Z",
          "iopub.execute_input": "2024-12-07T18:03:37.706579Z",
          "iopub.status.idle": "2024-12-07T18:03:38.831973Z",
          "shell.execute_reply.started": "2024-12-07T18:03:37.706546Z",
          "shell.execute_reply": "2024-12-07T18:03:38.83097Z"
        },
        "id": "FTnjjUM7S5SU",
        "outputId": "01cd0e98-ef1c-4630-8c57-2695be3430cd"
      },
      "outputs": [
        {
          "name": "stdout",
          "text": "Mean is  0.6\nMean: 0.6\n\nMedian is  0\nMedian: 0\n\nStandard deviation is  0.7348469228349535\nStandard deviation: 0.7348469228349535\n\nNormal distribution: 0.38899888689271633\nWhen we calculate the normal distribution probability density at the mean (x = 0.6), we get approximately 0.4843. This value represents the relative likelihood of observing a payout around 0.6 units if the payouts truly follow a normal distribution.\n\nBinomial distribution 0.34559999999999974\nA discrete probability distribution/binomial might be more appropriate than a continuous/normal one because it's similar to a 'success/failure' pattern\n",
          "output_type": "stream"
        }
      ],
      "execution_count": null
    },
    {
      "cell_type": "code",
      "source": [
        "def estimate_average_slot_payout(n_runs):\n",
        "    \"\"\"Run the slot machine n_runs times and return the average net profit per run.\n",
        "    Example calls (note that return value is nondeterministic!):\n",
        "    >>> estimate_average_slot_payout(1)\n",
        "    -1\n",
        "    >>> estimate_average_slot_payout(1)\n",
        "    0.5\n",
        "    \"\"\"\n",
        "    pass"
      ],
      "metadata": {
        "id": "A64QrPNWS5SV"
      },
      "outputs": [],
      "execution_count": null
    },
    {
      "cell_type": "markdown",
      "source": [
        "When you think you know the expected value per spin, run the code cell below to view the solution and get credit for answering the question."
      ],
      "metadata": {
        "id": "Imgem_saS5SV"
      }
    },
    {
      "cell_type": "code",
      "source": [
        "# Check your answer (Run this code cell to receive credit!)\n",
        "q4.solution()"
      ],
      "metadata": {
        "id": "0kOAkKoXS5SV"
      },
      "outputs": [],
      "execution_count": null
    },
    {
      "cell_type": "markdown",
      "source": [
        "# Keep Going\n",
        "\n",
        "Many programmers report that dictionaries are their favorite data structure. You'll get to **[learn about them](https://www.kaggle.com/colinmorris/strings-and-dictionaries)** (as well as strings) in the next lesson."
      ],
      "metadata": {
        "id": "ScWRATLUS5SV"
      }
    },
    {
      "cell_type": "markdown",
      "source": [
        "---\n",
        "\n",
        "\n",
        "\n",
        "\n",
        "*Have questions or comments? Visit the [Learn Discussion forum](https://www.kaggle.com/learn-forum/161283) to chat with other Learners.*"
      ],
      "metadata": {
        "id": "iq0wBdQIS5SV"
      }
    }
  ]
}