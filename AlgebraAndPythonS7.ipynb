{
  "nbformat": 4,
  "nbformat_minor": 0,
  "metadata": {
    "colab": {
      "provenance": [],
      "toc_visible": true,
      "authorship_tag": "ABX9TyPX2GnvH/+y3sWKoyT78S+S"
    },
    "kernelspec": {
      "name": "python3",
      "display_name": "Python 3"
    },
    "language_info": {
      "name": "python"
    }
  },
  "cells": [
    {
      "cell_type": "markdown",
      "source": [
        "#Algebra and Python Class \n",
        "Teacher: Ed Pratowski<br>\n",
        "Sponsor: FreeCodeCamp<br>\n",
        "\n",
        "Class Video\n",
        "https://www.youtube.com/watch?v=i7vOAcUo5iA\n",
        "\n",
        "Class Scripts\n",
        "https://github.com/edatfreecodecamp/python-math/tree/main/Algebra-with-Python\n",
        "\n",
        "Python IDE: Google Colab\n",
        "https://colab.research.google.com"
      ],
      "metadata": {
        "id": "PpA0eCXYcOl-"
      }
    },
    {
      "cell_type": "markdown",
      "source": [
        "# Division (S.7)"
      ],
      "metadata": {
        "id": "KalfG8UBovaj"
      }
    },
    {
      "cell_type": "markdown",
      "source": [
        "Python uses the operator / to perform divison"
      ],
      "metadata": {
        "id": "qpE7yBtxmA-u"
      }
    },
    {
      "cell_type": "code",
      "source": [
        "print(\"5 divided by 3, using the division operator, yields the floating point number \", round(5/3,1), \"\\n\")\n",
        "\n",
        "print(\"31 divided by 10, using the division operator, yields the floating point number\", round(31/10,1), \"\\n\")\n",
        "\n",
        "print(\"30 divided by 5, using the division operator, yields the integer (floating point number)\", round(30/5,1))"
      ],
      "metadata": {
        "colab": {
          "base_uri": "https://localhost:8080/"
        },
        "id": "2wr3wKtDmGZt",
        "outputId": "7b77dc61-e934-47c6-c6c8-914f19567998"
      },
      "execution_count": 84,
      "outputs": [
        {
          "output_type": "stream",
          "name": "stdout",
          "text": [
            "5 divided by 3, using the division operator, yields the floating point number  1.7 \n",
            "\n",
            "31 divided by 10, using the division operator, yields the floating point number 3.1 \n",
            "\n",
            "30 divided by 5, using the division operator, yields the integer (floating point number) 6.0\n"
          ]
        }
      ]
    },
    {
      "cell_type": "markdown",
      "source": [
        "Python has a function called divmod that performs long division and returns the quotient and the remainder<br>\n",
        "<br>\n",
        "https://docs.python.org/3/library/functions.html#divmod<br>\n",
        "For integers, the result is the same as (a // b, a % b).<br>\n",
        "For floating point numbers the result is (q, a % b)<br>"
      ],
      "metadata": {
        "id": "DZXKoX0ZaOrC"
      }
    },
    {
      "cell_type": "code",
      "source": [
        "# This script will find showcase the function divmod\n",
        "\n",
        "print(\"5 divided by 3 using the function divmod(5,3) yields the quotient and remainder\", divmod(5,3),\"\\n\")\n",
        "\n",
        "print(\"31 divided by 10 using the function divmod(31,10) yields the quotient and remainder\", divmod(31,10), \"\\n\")\n",
        "\n",
        "print(\"30 divided by 5 using the function divmod(30, 5) yields the quotient and remainder\", divmod(30,5))"
      ],
      "metadata": {
        "colab": {
          "base_uri": "https://localhost:8080/"
        },
        "id": "LoYeRJ_0Z76j",
        "outputId": "5145346e-d26c-4d6b-ffc2-2895bbea47b9"
      },
      "execution_count": 83,
      "outputs": [
        {
          "output_type": "stream",
          "name": "stdout",
          "text": [
            "5 divided by 3 using the function divmod(5,3) yields the quotient and remainder (1, 2) \n",
            "\n",
            "31 divided by 10 using the function divmod(31,10) yields the quotient and remainder (3, 1) \n",
            "\n",
            "30 divided by 5 using the function divmod(30, 5) yields the quotient and remainder (6, 0)\n"
          ]
        }
      ]
    },
    {
      "cell_type": "markdown",
      "source": [
        "The quotient, from long division, can be calculated using the operator //"
      ],
      "metadata": {
        "id": "ghuwD4wvj4jr"
      }
    },
    {
      "cell_type": "code",
      "source": [
        "print(\"5//3 yields the quotient \", 5//3,\"\\n\")\n",
        "\n",
        "print(\"31//10 yields the quotient \", 31//10,\"\\n\")\n",
        "\n",
        "print(\"30 // by 5 yields the quotient \", 30//5)"
      ],
      "metadata": {
        "colab": {
          "base_uri": "https://localhost:8080/"
        },
        "id": "nVh7ALVokCII",
        "outputId": "c0d67889-0e0c-4e17-986e-6f3651fd5f07"
      },
      "execution_count": 85,
      "outputs": [
        {
          "output_type": "stream",
          "name": "stdout",
          "text": [
            "5//3 yields the quotient  1 \n",
            "\n",
            "31//10 yields the quotient  3 \n",
            "\n",
            "30 // by 5 yields the quotient  6\n"
          ]
        }
      ]
    },
    {
      "cell_type": "markdown",
      "source": [
        "The remainder resulting from long division can be calculated using the operator %<br>"
      ],
      "metadata": {
        "id": "Z8Tct0CpczWl"
      }
    },
    {
      "cell_type": "code",
      "execution_count": 90,
      "metadata": {
        "id": "UvTsGdtWcNXC",
        "colab": {
          "base_uri": "https://localhost:8080/"
        },
        "outputId": "98d81e6d-ebca-46f5-c47a-6fbf2127a341"
      },
      "outputs": [
        {
          "output_type": "stream",
          "name": "stdout",
          "text": [
            "The remainder calculation for 5%3 yields  2 \n",
            "\n",
            "The remainder calculation for 31%10 yields  1 \n",
            "\n",
            "The remainder calculation for 30%5 yields  0 \n",
            "\n"
          ]
        }
      ],
      "source": [
        "# This script will find and print the remainder resulting from division using %\n",
        "\n",
        "print(\"The remainder calculation for 5%3 yields \",5%3, \"\\n\")\n",
        "\n",
        "print(\"The remainder calculation for 31%10 yields \",31%10, \"\\n\")\n",
        "\n",
        "print(\"The remainder calculation for 30%5 yields \",30%5, \"\\n\")\n"
      ]
    },
    {
      "cell_type": "markdown",
      "source": [
        "Long division algorithm<br>\n",
        "<br>\n",
        "https://leetcode.com/problems/divide-two-integers/solutions/218159/long-division-python/"
      ],
      "metadata": {
        "id": "7gDbWkapYF-X"
      }
    },
    {
      "cell_type": "code",
      "source": [
        "def divide(self, dividend, divisor):\n",
        "        \"\"\"\n",
        "        :type dividend: int\n",
        "        :type divisor: int\n",
        "        :rtype: int\n",
        "        \"\"\"\n",
        "        def divide(dd): # the last position that divisor* val <  dd\n",
        "            s, r = 0, 0\n",
        "            for i in range(9):\n",
        "                tmp = s + divisor\n",
        "                if tmp <= dd:\n",
        "                    s = tmp\n",
        "                else:\n",
        "                    return str(i), str(dd-s)\n",
        "            return str(9), str(dd-s)\n",
        "                \n",
        "        if dividend == 0:\n",
        "            return 0\n",
        "        sign = -1\n",
        "        if (dividend >0 and divisor >0 ) or (dividend < 0 and divisor < 0):\n",
        "            sign = 1\n",
        "        dividend = abs(dividend)\n",
        "        divisor = abs(divisor)\n",
        "        if divisor > dividend:\n",
        "            return 0\n",
        "        ans, did, dr = [], str(dividend), str(divisor)\n",
        "        n = len(dr)\n",
        "        pre = did[:n-1]\n",
        "        for i in range(n-1, len(did)):\n",
        "            dd = pre+did[i]\n",
        "            dd = int(dd)\n",
        "            v, pre = divide(dd)\n",
        "            ans.append(v)\n",
        "             \n",
        "        ans = int(''.join(ans))*sign\n",
        "\n",
        "        if ans > (1<<31)-1:\n",
        "            ans = (1<<31)-1\n",
        "        return ans\n",
        "\n",
        "print(\"The answer for divide(1,12,3) is 4. The calculated answer is \", divide(1,12,3))\n",
        "\n",
        "print(\"The answer for divide(1,15,3) is 5. The calculated answer is \", divide(1,15,3))\n",
        "\n",
        "print(\"The answer for divide(1,3456,12) is 288. The calculated answer is \", divide(1,3456,12))\n"
      ],
      "metadata": {
        "colab": {
          "base_uri": "https://localhost:8080/"
        },
        "id": "GQJuW_43YQQu",
        "outputId": "d7ea8a12-ab85-47ea-fe6e-577f580724bb"
      },
      "execution_count": 48,
      "outputs": [
        {
          "output_type": "stream",
          "name": "stdout",
          "text": [
            "The answer for divide(1,12,3) is 4. The calculated answer is  4\n",
            "The answer for divide(1,15,3) is 5. The calculated answer is  5\n",
            "The answer for divide(1,3456,12) is 288. The calculated answer is  288\n"
          ]
        }
      ]
    },
    {
      "cell_type": "markdown",
      "source": [
        "Long division algorithm<br>\n",
        "<br>\n",
        "\n",
        "https://stackoverflow.com/questions/29424349/implementing-long-division-using-a-generator-function-in-python"
      ],
      "metadata": {
        "id": "2s3iYiS0UOTH"
      }
    },
    {
      "cell_type": "code",
      "source": [
        "def decimals(number):    \n",
        "    \"\"\"\n",
        "    Takes a number and generates the digits of  1/n.\n",
        "\n",
        "    \"\"\"\n",
        "    divisor = number\n",
        "    dividend = 1\n",
        "    remainder = 1\n",
        "\n",
        "    while remainder:\n",
        "        #Floor division is the // operator        \n",
        "        quotient = dividend // divisor\n",
        "        remainder = dividend % divisor\n",
        "\n",
        "        if remainder < divisor:\n",
        "            dividend = remainder * 10\n",
        "        else:\n",
        "            dividend = remainder\n",
        "        yield quotient\n",
        "\n",
        "def main():\n",
        "    gen = decimals(12)\n",
        "    print(next(gen))\n",
        "\n",
        "if __name__ == \"__main__\":\n",
        "    main()"
      ],
      "metadata": {
        "colab": {
          "base_uri": "https://localhost:8080/"
        },
        "id": "GxpL5taZTzE6",
        "outputId": "207805b9-1c27-4fa9-c348-8521e7eeea52"
      },
      "execution_count": 29,
      "outputs": [
        {
          "output_type": "stream",
          "name": "stdout",
          "text": [
            "0\n"
          ]
        }
      ]
    }
  ]
}