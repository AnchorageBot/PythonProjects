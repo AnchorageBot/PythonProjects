{
  "nbformat": 4,
  "nbformat_minor": 0,
  "metadata": {
    "colab": {
      "provenance": [],
      "authorship_tag": "ABX9TyPYrUgI0E8kw0nUA6Fvt6+X"
    },
    "kernelspec": {
      "name": "python3",
      "display_name": "Python 3"
    },
    "language_info": {
      "name": "python"
    }
  },
  "cells": [
    {
      "cell_type": "markdown",
      "source": [
        "\n",
        "\n",
        "# Using Eigenvalues and Eigenvectors to determine a Stationary Distribution of three states in a Markov Chain\n",
        "\n",
        "Ref:\n",
        "\n",
        "  \n",
        "  * Markov Chains: Recurrence, Irreducibility, Classes | Part - 2 - Normalized Nerd\n",
        "  * Markov Chains: n-step Transition Matrix | Part - 3 - Normalized Nerd\n",
        "  * Markov Chains: Simulation in Python | Stationary Distribution Computation | Part - 7 - Normalized Nerd\n",
        "  * Eigenvalues & Eigenvectors : Data Science Basics - Ritvikmath\n",
        "  * Eigenvalues and eigenvectors - Wiki\n",
        "  * Linear transformation - Wiki\n",
        "  * Stationary Distributions of Markov Chains - Brilliant"
      ],
      "metadata": {
        "id": "P_TosWdO5k58"
      }
    },
    {
      "cell_type": "markdown",
      "source": [
        "Import the following library tools"
      ],
      "metadata": {
        "id": "NxQ1vPCN8CM4"
      }
    },
    {
      "cell_type": "code",
      "execution_count": 8,
      "metadata": {
        "id": "LTu67__z5euP"
      },
      "outputs": [],
      "source": [
        "import numpy as np\n",
        "import scipy.linalg"
      ]
    },
    {
      "cell_type": "markdown",
      "source": [
        "Populate a transition matrix\n",
        "* Recall that a transistion matrix contains the probabilities of moving from one state to another state\n",
        "* We are modeling a weather system with three states: sun, snow, rain"
      ],
      "metadata": {
        "id": "eKqaQxOKLfpQ"
      }
    },
    {
      "cell_type": "code",
      "source": [
        "A = [[0.2,0.6,0.2],[0.3,0.0,0.7],[0.5,0.0,0.5]]\n",
        "A"
      ],
      "metadata": {
        "colab": {
          "base_uri": "https://localhost:8080/"
        },
        "id": "pqnEutSALp0g",
        "outputId": "0a29106d-f2a1-4695-ba6e-53c400b657dd"
      },
      "execution_count": 9,
      "outputs": [
        {
          "output_type": "execute_result",
          "data": {
            "text/plain": [
              "[[0.2, 0.6, 0.2], [0.3, 0.0, 0.7], [0.5, 0.0, 0.5]]"
            ]
          },
          "metadata": {},
          "execution_count": 9
        }
      ]
    },
    {
      "cell_type": "markdown",
      "source": [
        "We use the scipy library to solve an ordinary or generalized eigenvalue problem of a square matrix and find eigenvalues w and right or left eigenvectors of a general matrix\n",
        "* scipy.linalg.eig\n",
        "* https://docs.scipy.org/doc/scipy/reference/generated/scipy.linalg.eig.html#scipy.linalg.eig"
      ],
      "metadata": {
        "id": "bLWSyEiAMImR"
      }
    },
    {
      "cell_type": "code",
      "source": [
        "values, left = scipy.linalg.eig(A, right = False, left = True)\n",
        "print(\"note that the second and third columns in this example contain complex numbers\\n\")\n",
        "print(\"left eigen vectors = \\n\", left, \"\\n\")\n",
        "print(\"note that the second and third columns in this example contain complex numbers\\n\")\n",
        "print(\"eigen values = \\n\", values)"
      ],
      "metadata": {
        "colab": {
          "base_uri": "https://localhost:8080/"
        },
        "id": "hsYtgdlnNmD_",
        "outputId": "68956a50-3c62-42ae-a308-47f3e2df8d31"
      },
      "execution_count": 16,
      "outputs": [
        {
          "output_type": "stream",
          "name": "stdout",
          "text": [
            "note that the second and third columns in this example contain complex numbers\n",
            "\n",
            "left eigen vectors = \n",
            " [[-0.58746336+0.j          0.16984156+0.35355339j  0.16984156-0.35355339j]\n",
            " [-0.35247801+0.j         -0.67936622+0.j         -0.67936622-0.j        ]\n",
            " [-0.72845456+0.j          0.50952467-0.35355339j  0.50952467+0.35355339j]] \n",
            "\n",
            "note that the second and third columns in this example contain complex numbers\n",
            "\n",
            "eigen values = \n",
            " [ 1.  +0.j        -0.15+0.3122499j -0.15-0.3122499j]\n"
          ]
        }
      ]
    },
    {
      "cell_type": "markdown",
      "source": [
        "This operation will\n",
        "* slice the matrix and take only the first column of numbers\n",
        "* normalize the first column by dividing each individual number by the sum of the row\n",
        "* remove the complex number format\n",
        "* result in the stationary distribution of the probabilities of entering the three states in our model (remember that the three states sum to 1)"
      ],
      "metadata": {
        "id": "9TDizFa0RZ9Q"
      }
    },
    {
      "cell_type": "code",
      "source": [
        "pi = left[:,0]\n",
        "pi_normalized = [(x/np.sum(pi)).real for x in pi]\n",
        "pi_normalized"
      ],
      "metadata": {
        "colab": {
          "base_uri": "https://localhost:8080/"
        },
        "id": "--TKMnd-Ra0X",
        "outputId": "64e07f89-68b8-411d-a45d-429b4f8c16b2"
      },
      "execution_count": 12,
      "outputs": [
        {
          "output_type": "execute_result",
          "data": {
            "text/plain": [
              "[0.3521126760563379, 0.21126760563380304, 0.4366197183098591]"
            ]
          },
          "metadata": {},
          "execution_count": 12
        }
      ]
    },
    {
      "cell_type": "markdown",
      "source": [
        "Stationary Distributions of Markov Chains\n",
        "* Brilliant: Henry Maltby, Samir Khan, and Jimin Khim contributed\n",
        "* https://brilliant.org/wiki/stationary-distributions/\n",
        "\n",
        "* \"A stationary distribution of a Markov chain is a probability distribution that remains unchanged in the Markov chain as time progresses.\n",
        "\n",
        "* \"Typically, it is represented as a row vector π whose entries are probabilities summing to 1\"\n"
      ],
      "metadata": {
        "id": "oLVCHLzyYrGR"
      }
    }
  ]
}