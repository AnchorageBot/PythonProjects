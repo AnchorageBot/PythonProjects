{
  "nbformat": 4,
  "nbformat_minor": 0,
  "metadata": {
    "colab": {
      "provenance": [],
      "authorship_tag": "ABX9TyMF6d0IoG8u0yjXqrvZafeh"
    },
    "kernelspec": {
      "name": "python3",
      "display_name": "Python 3"
    },
    "language_info": {
      "name": "python"
    }
  },
  "cells": [
    {
      "cell_type": "markdown",
      "source": [
        "# Bayesian Statistics The Fun Way\n",
        "\n",
        "This notebook works through Chapter 2 examples about coins"
      ],
      "metadata": {
        "id": "65ODGBZO_2H3"
      }
    },
    {
      "cell_type": "markdown",
      "source": [
        "Our References:\n",
        "* [Bayesian Statistics The Fun Way - Will Kurt](https://nostarch.com/learnbayes)\n",
        "\n",
        "* [Google Gemini](https://gemini.google.com)"
      ],
      "metadata": {
        "id": "U1uycsiUAC9A"
      }
    },
    {
      "cell_type": "markdown",
      "source": [
        "Single Coin Toss Example\n",
        "* Given\n",
        "  * One fair coin\n",
        "* Find\n",
        "  * The probability of seeing heads on a single, fair, coin toss\n",
        "* Solution\n",
        "  * {H} = set of heads\n",
        "  * {T} = set of tails\n",
        "  * Ω = the set of all possible events = { (H, T) }\n",
        "  * p(H) = probability of heads\n",
        "  * p(T) = probability of tails\n",
        "  * p(H) = the # of outcomes we care about / the total # of outcomes\n",
        "  $$p(H) = \\frac{H}{(H,T)} = \\frac{1}{2}$$\n",
        "  \n",
        "         "
      ],
      "metadata": {
        "id": "abnYOdm7AWOt"
      }
    },
    {
      "cell_type": "markdown",
      "source": [
        "Two Coin Toss Example\n",
        "* Given\n",
        "  * Two fair coins\n",
        "* Find\n",
        "  * The probability of seeing at least one heads when we toss both coins\n",
        "* Solution\n",
        "  * {H} = set of heads = { (H,H), (H,T), (T,H) }\n",
        "  * {T} = set of tails = { (T,T), (H,T), (T,H) }\n",
        "  * Ω = the set of all possible events = { (H,H), (H,T), (T,H), (T,T) }\n",
        "  * p(H) = probability of heads\n",
        "  * p(T) = probability of tails\n",
        "  * p(H) = the # of outcomes we care about / the total # of outcomes\n",
        "  $$p(H) = \\frac{ (H,H), (H,T), (T,H) }  { (H,H), (H,T), (T,H), (T,T) } = \\frac{3}{4}$$\n",
        "  "
      ],
      "metadata": {
        "id": "H9s3SlIZDAei"
      }
    },
    {
      "cell_type": "markdown",
      "source": [
        "Two Coin Toss Example using [Google Gemini](https://gemini.google.com)\n",
        "\n",
        "* Here is the Python code for the probability of getting at least one heads when we toss two coins:\n",
        "\n",
        "* This code calculates the probability in two steps:\n",
        "\n",
        "  * Calculate the probability of getting no heads: It does this by taking 1 minus the probability of getting heads on one coin (1 - probability_heads_per_coin), squaring it to account for both coins needing to be tails, and then subtracting from 1.\n",
        "  * Invert the probability: Since we want the probability of getting at least one heads, we subtract the probability of getting no heads from 1.\n",
        "\n",
        "  * This results in a probability of 0.75, which means there is a 75% chance of getting at least one heads when tossing two fair coins."
      ],
      "metadata": {
        "id": "ALkDX0jUyHlJ"
      }
    },
    {
      "cell_type": "code",
      "source": [
        "# Probability of heads for each coin toss (fair coin)\n",
        "probability_heads_per_coin = 0.5\n",
        "\n",
        "# Probability of getting at least one heads is the opposite of getting no heads (TT)\n",
        "probability_at_least_one_heads = 1 - (1 - probability_heads_per_coin) ** 2\n",
        "\n",
        "# Print the probability\n",
        "print(\"The probability of getting at least one heads when tossing two coins is:\", probability_at_least_one_heads)\n"
      ],
      "metadata": {
        "colab": {
          "base_uri": "https://localhost:8080/"
        },
        "id": "QjfHIOpzyfIr",
        "outputId": "ee31e707-4be0-44c0-a165-027a024f9541"
      },
      "execution_count": null,
      "outputs": [
        {
          "output_type": "stream",
          "name": "stdout",
          "text": [
            "The probability of getting at least one heads when tossing two coins is: 0.75\n"
          ]
        }
      ]
    }
  ]
}