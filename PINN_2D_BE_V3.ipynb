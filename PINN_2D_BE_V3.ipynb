{
  "nbformat": 4,
  "nbformat_minor": 0,
  "metadata": {
    "colab": {
      "provenance": [],
      "authorship_tag": "ABX9TyO6euSlFGQA1XzM4Dn3r7QP"
    },
    "kernelspec": {
      "name": "python3",
      "display_name": "Python 3"
    },
    "language_info": {
      "name": "python"
    }
  },
  "cells": [
    {
      "cell_type": "markdown",
      "source": [
        "Physics Informed Neural Networks - June 2024\n",
        "\n",
        "* Dr. Mohammad Samara\n",
        "* Udemy\n",
        "\n",
        "2D Burgers Equation - Mathematically modeling a heated aluminum rod\n",
        "\n",
        "* Solving the equation notebook\n",
        "* Uses numerical equations using finite differences"
      ],
      "metadata": {
        "id": "poOzyeTuMLal"
      }
    },
    {
      "cell_type": "code",
      "source": [
        "\"\"\"\n",
        "Abstract:\n",
        "This Python script numerically solves the 2D Burgers equation using finite differences to model the temperature distribution\n",
        "of a heated aluminum rod. The script sets up the domain, initializes the temperature distribution, and visualizes\n",
        "the initial temperature contour plot.\n",
        "\n",
        "The Burgers equation is a nonlinear partial differential equation that describes the evolution of a field, such as temperature\n",
        "or velocity, over time. In this script, we solve the equation numerically using the finite difference method to model\n",
        "the temperature distribution along a heated aluminum rod in two dimensions (x and y).\n",
        "\n",
        "\"\"\"\n",
        "\n",
        "# Code Block 1: Import necessary libraries\n",
        "import numpy as np\n",
        "import matplotlib.pyplot as plt\n",
        "import seaborn as sns\n",
        "\n",
        "# Code Block 2: Set up domain and parameters\n",
        "nx = 51  # Number of grid points along the rod in the x direction\n",
        "ny = 51  # Number of grid points along the rod in the y direction\n",
        "nu = 0.1  # Diffusion coefficient or kinematic viscosity\n",
        "\n",
        "nt = 500  # Number of time steps\n",
        "dt = 0.001  # Time step size\n",
        "\n",
        "dx = 2 / (nx - 1)  # Grid spacing in the x direction (domain is from 0 to 2)\n",
        "dy = 2 / (ny - 1)  # Grid spacing in the y direction (domain is from 0 to 2)\n",
        "x = np.linspace(0, 2, nx)  # Array of grid points in the x direction\n",
        "y = np.linspace(0, 2, ny)  # Array of grid points in the y direction\n",
        "\n",
        "# Code Block 3: Initialize arrays for temperature distribution\n",
        "comb = np.zeros((ny, nx))  # Combined array for visualization (currently unused)\n",
        "\n",
        "u = np.ones((ny, nx))  # Current time step for u velocity component\n",
        "v = np.ones((ny, nx))  # Current time step for v velocity component\n",
        "un = np.zeros((ny, nx))  # Previous time step for u velocity component (currently unused)\n",
        "vn = np.zeros((ny, nx))  # Previous time step for v velocity component (currently unused)\n",
        "uf = np.ones((nt, ny, nx))  # New time step for u velocity component\n",
        "vf = np.ones((nt, ny, nx))  # New time step for v velocity component\n",
        "\n",
        "# Code Block 4: Set initial temperature distribution\n",
        "# Set initial temperature distribution (heated region in the center)\n",
        "u[int(0.75/dy):int(1.25/dy + 1), int(0.75/dy):int(1.25/dy + 1)] = 5\n",
        "v[int(0.75/dy):int(1.25/dy + 1), int(0.75/dy):int(1.25/dy + 1)] = 5\n",
        "uf[0, int(0.75/dy):int(1.25/dy + 1), int(0.75/dy):int(1.25/dy + 1)] = 5\n",
        "vf[0, int(0.75/dy):int(1.25/dy + 1), int(0.75/dy):int(1.25/dy + 1)] = 5\n",
        "\n",
        "# Code Block 5: Visualize initial temperature distribution\n",
        "X, Y = np.meshgrid(x, y)  # Create 2D grid for visualization\n",
        "plt.figure(figsize=(8, 6))  # Create a new figure with specified size\n",
        "contour = plt.contourf(X, Y, u[:], cmap='jet')  # Create a contour plot of the temperature distribution\n",
        "colorbar = plt.colorbar(contour)  # Add a colorbar to the plot\n",
        "colorbar.set_label(\"u scale\")  # Set the label for the colorbar\n",
        "plt.title('u')  # Set the title of the plot\n",
        "plt.xlabel('x')  # Set the label for the x-axis\n",
        "plt.ylabel('y')  # Set the label for the y-axis\n",
        "plt.show()  # Display the plot"
      ],
      "metadata": {
        "id": "joYRyMunNh_A"
      },
      "execution_count": null,
      "outputs": []
    }
  ]
}