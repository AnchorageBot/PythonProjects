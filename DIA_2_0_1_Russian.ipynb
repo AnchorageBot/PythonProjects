{
  "nbformat": 4,
  "nbformat_minor": 0,
  "metadata": {
    "colab": {
      "provenance": [],
      "authorship_tag": "ABX9TyPf+d8BzHBYmRObgXMAyMgq"
    },
    "kernelspec": {
      "name": "python3",
      "display_name": "Python 3"
    },
    "language_info": {
      "name": "python"
    }
  },
  "cells": [
    {
      "cell_type": "markdown",
      "source": [
        "This script will explore the russian peasant multiplication algorithm\n",
        "*   It accomplishes multiplication by halving, doubling, and addition\n",
        "*   It explores the concept of binary expansion\n",
        "\n",
        "\n",
        "References\n",
        "*   Dive into Algorithms, https://nostarch.com/Dive-Into-Algorithms\n",
        "*   This code snippet was downloaded from the book's website\n",
        "\n",
        "\n",
        "Made with Google Colab during May 2023"
      ],
      "metadata": {
        "id": "hEmwBUagJaVC"
      }
    },
    {
      "cell_type": "code",
      "execution_count": 1,
      "metadata": {
        "colab": {
          "base_uri": "https://localhost:8080/"
        },
        "id": "CkTe9AR4JYEN",
        "outputId": "03e2a165-30d8-477d-e1e2-9ebc5b0565c6"
      },
      "outputs": [
        {
          "output_type": "stream",
          "name": "stdout",
          "text": [
            "44\n"
          ]
        }
      ],
      "source": [
        "n1 = 89\n",
        "n2 = 18\n",
        "\n",
        "halving = [n1]\n",
        "\n",
        "import math\n",
        "print(math.floor(halving[0]/2))\n",
        "\n",
        "while(min(halving) > 1):\n",
        "    halving.append(math.floor(min(halving)/2))\n",
        "\n",
        "doubling = [n2]\n",
        "while(len(doubling) < len(halving)):\n",
        "    doubling.append(max(doubling) * 2)\n",
        "\n",
        "import pandas as pd\n",
        "half_double = pd.DataFrame(zip(halving,doubling))\n",
        "\n",
        "half_double = half_double.loc[half_double[0]%2 == 1,:]\n",
        "\n",
        "answer = sum(half_double.loc[:,1])"
      ]
    }
  ]
}