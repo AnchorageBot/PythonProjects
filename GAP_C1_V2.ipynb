{
  "nbformat": 4,
  "nbformat_minor": 0,
  "metadata": {
    "colab": {
      "provenance": [],
      "authorship_tag": "ABX9TyN0yFbcNsPWcARBlVBDPJhI"
    },
    "kernelspec": {
      "name": "python3",
      "display_name": "Python 3"
    },
    "language_info": {
      "name": "python"
    }
  },
  "cells": [
    {
      "cell_type": "markdown",
      "source": [
        "# Genetic Algorithms with Python - [Clinton Sheppard](https://www.cs.unm.edu/~sheppard/)\n",
        "\n",
        "Chapter 1 - Hello World"
      ],
      "metadata": {
        "id": "yNLb0KXXFOcQ"
      }
    },
    {
      "cell_type": "markdown",
      "source": [
        "Python library - [random](https://docs.python.org/3/library/random.html)\n",
        "\n",
        "\"This module implements pseudo-random number generators for various distributions.\""
      ],
      "metadata": {
        "id": "RHShdEZIJVQK"
      }
    },
    {
      "cell_type": "code",
      "source": [
        "import random"
      ],
      "metadata": {
        "id": "VYaxRAtgJeHn"
      },
      "execution_count": 5,
      "outputs": []
    },
    {
      "cell_type": "markdown",
      "source": [
        "Optimization: set and subset"
      ],
      "metadata": {
        "id": "rQ5of5GUJG2Q"
      }
    },
    {
      "cell_type": "code",
      "execution_count": 6,
      "metadata": {
        "id": "f8gAp9v9FN21"
      },
      "outputs": [],
      "source": [
        "# Genome = set of possible string values; possible universe\n",
        "Genome = \"abcdefghijklmonopqrstuvwxyzABCDEFGHIJKLMNOPQRSTUVWXYZ,.?! \"\n",
        "\n",
        "# Gene = subset of string values; target phrase or password\n",
        "Gene =\"Hello World!\""
      ]
    },
    {
      "cell_type": "markdown",
      "source": [
        "Generate a guess (target phrase or password)\n",
        "\n",
        "\n",
        "*   List.extend() appends multiple items to a list\n",
        "*   String.join() for example: 'x'.join(['a','b','c']) gets \"axbxc\".\n",
        "*   Random.sample() takes sample-size values from the input without replacement\n"
      ],
      "metadata": {
        "id": "HSptZadCJqb3"
      }
    },
    {
      "cell_type": "code",
      "source": [
        "def guess_gene(length):\n",
        "  \"\"\" This function will generate a guess using values from the Genome set\"\"\"\n",
        "\n",
        "  possible_genes = []\n",
        "\n",
        "  while len(possible_genes) < length:\n",
        "    gene_length = min(length - len(possible_genes), len(Genome))\n",
        "    possible_genes.extend(random.sample(Genome, length))\n",
        "\n",
        "  return \"\".join(possible_genes)\n",
        "\n",
        "print(guess_gene(12))"
      ],
      "metadata": {
        "colab": {
          "base_uri": "https://localhost:8080/"
        },
        "id": "3dkWGUfmJ3P4",
        "outputId": "26ebfd81-2fe9-47fd-bf8d-531536406e0d"
      },
      "execution_count": 34,
      "outputs": [
        {
          "output_type": "stream",
          "name": "stdout",
          "text": [
            "qVmLThrsDSwZ\n"
          ]
        }
      ]
    },
    {
      "cell_type": "markdown",
      "source": [
        "Evaluate the guess for fitness\n",
        "\n",
        "*  zip() is a built-in function that makes it possible to iterate over two lists (or iterables) simultaneously"
      ],
      "metadata": {
        "id": "vrR21QLaSFtL"
      }
    },
    {
      "cell_type": "code",
      "source": [
        "def get_fitness(guess):\n",
        "  \"\"\"This function will evaluate the guess for fitness by calculaing the total number of letters in the guess that match\n",
        "   the letters in the same position of the password \"\"\"\n",
        "  return sum(1 for expected, actual in zip(Gene, guess) if expected == actual)\n",
        "\n",
        "print(get_fitness(guess_gene(length=12)))"
      ],
      "metadata": {
        "colab": {
          "base_uri": "https://localhost:8080/"
        },
        "id": "oPqoJwCufxXV",
        "outputId": "6482ad42-9509-47a4-d073-1062ee360484"
      },
      "execution_count": 45,
      "outputs": [
        {
          "output_type": "stream",
          "name": "stdout",
          "text": [
            "1\n"
          ]
        }
      ]
    }
  ]
}