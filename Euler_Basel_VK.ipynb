{
  "nbformat": 4,
  "nbformat_minor": 0,
  "metadata": {
    "colab": {
      "provenance": [],
      "authorship_tag": "ABX9TyPFCwOtqbmcqp6stIoUXhzl"
    },
    "kernelspec": {
      "name": "python3",
      "display_name": "Python 3"
    },
    "language_info": {
      "name": "python"
    }
  },
  "cells": [
    {
      "cell_type": "markdown",
      "source": [
        "Leonhard Euler's proof of the Basel Problem (irrationality of z(2))\n",
        "* The problem was posed by Pietro Mengoli in 1650\n",
        "* Leonhard Euler originally proved the irrationality of z(2) in 1734"
      ],
      "metadata": {
        "id": "M4fgFabqI0Fz"
      }
    },
    {
      "cell_type": "markdown",
      "source": [
        "Tutor: Open AI's ChatGPT"
      ],
      "metadata": {
        "id": "5C8reMA2VUMi"
      }
    },
    {
      "cell_type": "markdown",
      "source": [
        "Euler's original proof of the Basel Problem, solving \\( \\zeta(2) = \\sum_{k=1}^\\infty \\frac{1}{k^2} = \\frac{\\pi^2}{6} \\), is a beautiful example of 18th-century mathematical ingenuity. Here's a simplified explanation of Euler's reasoning.\n",
        "\n",
        "---\n",
        "\n",
        "### **Euler's Original Proof**\n",
        "\n",
        "#### 1. Start with the Infinite Product for Sine\n",
        "Euler began with the infinite product expansion of the sine function (Weierstrass factorization), which was already known:\n",
        "\n",
        "\\[\n",
        "\\sin(x) = x \\prod_{k=1}^\\infty \\left( 1 - \\frac{x^2}{k^2\\pi^2} \\right).\n",
        "\\]\n",
        "\n",
        "Here, the sine function is expressed as an infinite product based on its roots, which occur at \\( x = k\\pi \\) for \\( k = \\pm 1, \\pm 2, \\dots \\).\n",
        "\n",
        "---\n",
        "\n",
        "#### 2. Expand \\(\\sin(x)\\) as a Taylor Series\n",
        "Euler also knew the Taylor series expansion for \\( \\sin(x) \\):\n",
        "\n",
        "\\[\n",
        "\\sin(x) = x - \\frac{x^3}{3!} + \\frac{x^5}{5!} - \\frac{x^7}{7!} + \\cdots\n",
        "\\]\n",
        "\n",
        "---\n",
        "\n",
        "#### 3. Match the Infinite Product and the Taylor Series\n",
        "Euler reasoned that since both representations of \\( \\sin(x) \\) are valid, they must represent the same function. Thus, he compared the coefficients of \\( x^3 \\) in the expansion of \\( \\sin(x) \\).\n",
        "\n",
        "From the infinite product representation:\n",
        "\n",
        "\\[\n",
        "\\sin(x) = x \\prod_{k=1}^\\infty \\left( 1 - \\frac{x^2}{k^2\\pi^2} \\right),\n",
        "\\]\n",
        "\n",
        "expand the first few terms of the product (ignoring higher-order terms):\n",
        "\n",
        "\\[\n",
        "\\sin(x) = x \\left( 1 - \\frac{x^2}{\\pi^2} - \\frac{x^2}{2^2\\pi^2} - \\frac{x^2}{3^2\\pi^2} - \\cdots \\right).\n",
        "\\]\n",
        "\n",
        "The coefficient of \\( x^3 \\) (after dividing by \\( x \\)) is:\n",
        "\n",
        "\\[\n",
        "-\\left( \\frac{1}{\\pi^2} + \\frac{1}{2^2\\pi^2} + \\frac{1}{3^2\\pi^2} + \\cdots \\right).\n",
        "\\]\n",
        "\n",
        "---\n",
        "\n",
        "#### 4. Relate the Coefficient to the Taylor Series\n",
        "In the Taylor series expansion:\n",
        "\n",
        "\\[\n",
        "\\sin(x) = x - \\frac{x^3}{3!} + \\cdots,\n",
        "\\]\n",
        "\n",
        "the coefficient of \\( x^3 \\) is \\( -\\frac{1}{6} \\).\n",
        "\n",
        "---\n",
        "\n",
        "#### 5. Solve for the Infinite Sum\n",
        "Equating the coefficients of \\( x^3 \\) from both representations:\n",
        "\n",
        "\\[\n",
        "-\\frac{1}{\\pi^2} \\left( 1 + \\frac{1}{2^2} + \\frac{1}{3^2} + \\cdots \\right) = -\\frac{1}{6}.\n",
        "\\]\n",
        "\n",
        "Simplify:\n",
        "\n",
        "\\[\n",
        "\\frac{1}{\\pi^2} \\sum_{k=1}^\\infty \\frac{1}{k^2} = \\frac{1}{6}.\n",
        "\\]\n",
        "\n",
        "Multiply through by \\( \\pi^2 \\):\n",
        "\n",
        "\\[\n",
        "\\sum_{k=1}^\\infty \\frac{1}{k^2} = \\frac{\\pi^2}{6}.\n",
        "\\]\n",
        "\n",
        "---\n",
        "\n",
        "### **Conclusion**\n",
        "Euler thus demonstrated that:\n",
        "\n",
        "\\[\n",
        "\\zeta(2) = \\sum_{k=1}^\\infty \\frac{1}{k^2} = \\frac{\\pi^2}{6}.\n",
        "\\]\n",
        "\n",
        "This proof, while informal by modern standards, was revolutionary at the time and marked a significant achievement in understanding infinite series. Euler's work laid the foundation for the modern study of the Riemann zeta function and analytic number theory."
      ],
      "metadata": {
        "id": "P4sMU9e-yLyA"
      }
    }
  ]
}