{
  "nbformat": 4,
  "nbformat_minor": 0,
  "metadata": {
    "colab": {
      "provenance": [],
      "authorship_tag": "ABX9TyNl5OawXisVbObO999vPohk"
    },
    "kernelspec": {
      "name": "python3",
      "display_name": "Python 3"
    },
    "language_info": {
      "name": "python"
    }
  },
  "cells": [
    {
      "cell_type": "markdown",
      "source": [
        "Physics Informed Neural Networks - June 2024\n",
        "\n",
        "* Dr. Mohammad Samara\n",
        "* Udemy\n",
        "\n",
        "2D Burgers Equation - Mathematically modeling a heated aluminum rod\n",
        "\n",
        "* Background by Anthropic's AI, Claude\n"
      ],
      "metadata": {
        "id": "Xog6_6XRdAQA"
      }
    },
    {
      "cell_type": "markdown",
      "source": [
        "The two-dimensional Burgers' equation is a nonlinear partial differential equation that describes the evolution of a velocity field u(x, y, t) and v(x, y, t) over time. It is often used as a simplified model for fluid flow and turbulence. The equation in its conservative form is:\n",
        "\n",
        "$\\Large\\frac{\\partial u}{\\partial t} + u\\Large\\frac{\\partial u}{\\partial x} + v\\Large\\frac{\\partial u}{\\partial y} = \\nu(\\Large\\frac{\\partial^2 u}{\\partial x^2} + \\Large\\frac{\\partial^2 u}{\\partial y^2})$\n",
        "\n",
        "$\\Large\\frac{\\partial v}{\\partial t} + u\\Large\\frac{\\partial v}{\\partial x} + v\\Large\\frac{\\partial v}{\\partial y} = \\nu(\\Large\\frac{\\partial^2 v}{\\partial x^2} + \\Large\\frac{\\partial^2 v}{\\partial y^2})$\n",
        "\n",
        "Here, ν is the kinematic viscosity, and the terms on the left-hand side represent the time evolution and convection, while the right-hand side represents diffusion.\n",
        "\n",
        "To solve this equation numerically using finite differences, we discretize the spatial domain into a grid with points (x_i, y_j) and the time domain into steps t_n. We then approximate the derivatives using finite difference schemes.\n",
        "\n",
        "Finite difference approximations for the derivatives of u:\n",
        "1. Time derivative:\n",
        "   $(\\Large\\frac{\\partial u}{\\partial t})_{i,j}^n \\approx \\Large\\frac{u_{i,j}^{n+1} - u_{i,j}^n}{\\Delta t}$\n",
        "\n",
        "2. Spatial derivatives:\n",
        "   $(\\Large\\frac{\\partial u}{\\partial x})_{i,j}^n \\approx \\Large\\frac{u_{i+1,j}^n - u_{i-1,j}^n}{2\\Delta x}$\n",
        "   $(\\Large\\frac{\\partial^2 u}{\\partial x^2})_{i,j}^n \\approx \\Large\\frac{u_{i+1,j}^n - 2u_{i,j}^n + u_{i-1,j}^n}{(\\Delta x)^2}$\n",
        "   $(\\Large\\frac{\\partial u}{\\partial y})_{i,j}^n \\approx \\Large\\frac{u_{i,j+1}^n - u_{i,j-1}^n}{2\\Delta y}$\n",
        "   $(\\Large\\frac{\\partial^2 u}{\\partial y^2})_{i,j}^n \\approx \\Large\\frac{u_{i,j+1}^n - 2u_{i,j}^n + u_{i,j-1}^n}{(\\Delta y)^2}$\n",
        "\n",
        "Finite difference approximations for the derivatives of v:\n",
        "1. Time derivative:\n",
        "   $(\\Large\\frac{\\partial v}{\\partial t})_{i,j}^n \\approx \\Large\\frac{v_{i,j}^{n+1} - v_{i,j}^n}{\\Delta t}$\n",
        "\n",
        "2. Spatial derivatives:\n",
        "   $(\\Large\\frac{\\partial v}{\\partial x})_{i,j}^n \\approx \\Large\\frac{v_{i+1,j}^n - v_{i-1,j}^n}{2\\Delta x}$\n",
        "   $(\\Large\\frac{\\partial^2 v}{\\partial x^2})_{i,j}^n \\approx \\Large\\frac{v_{i+1,j}^n - 2v_{i,j}^n + v_{i-1,j}^n}{(\\Delta x)^2}$\n",
        "   $(\\Large\\frac{\\partial v}{\\partial y})_{i,j}^n \\approx \\Large\\frac{v_{i,j+1}^n - v_{i,j-1}^n}{2\\Delta y}$\n",
        "   $(\\Large\\frac{\\partial^2 v}{\\partial y^2})_{i,j}^n \\approx \\Large\\frac{v_{i,j+1}^n - 2v_{i,j}^n + v_{i,j-1}^n}{(\\Delta y)^2}$\n",
        "\n",
        "Now, let's break down each component of the numerical equations:\n",
        "\n",
        "1. Time evolution:\n",
        "   $\\Large\\frac{u_{i,j}^{n+1} - u_{i,j}^n}{\\Delta t}$ represents the change in u over time at a specific grid point (i, j).\n",
        "   $\\Large\\frac{v_{i,j}^{n+1} - v_{i,j}^n}{\\Delta t}$ represents the change in v over time at a specific grid point (i, j).\n",
        "\n",
        "2. Convection terms:\n",
        "   $u_{i,j}^n \\Large\\frac{u_{i+1,j}^n - u_{i-1,j}^n}{2\\Delta x}$ represents the convection of u in the x-direction.\n",
        "   $v_{i,j}^n \\Large\\frac{u_{i,j+1}^n - u_{i,j-1}^n}{2\\Delta y}$ represents the convection of u in the y-direction.\n",
        "   $u_{i,j}^n \\Large\\frac{v_{i+1,j}^n - v_{i-1,j}^n}{2\\Delta x}$ represents the convection of v in the x-direction.\n",
        "   $v_{i,j}^n \\Large\\frac{v_{i,j+1}^n - v_{i,j-1}^n}{2\\Delta y}$ represents the convection of v in the y-direction.\n",
        "\n",
        "3. Diffusion terms:\n",
        "   $\\nu \\Large\\frac{u_{i+1,j}^n - 2u_{i,j}^n + u_{i-1,j}^n}{(\\Delta x)^2}$ represents the diffusion of u in the x-direction.\n",
        "   $\\nu \\Large\\frac{u_{i,j+1}^n - 2u_{i,j}^n + u_{i,j-1}^n}{(\\Delta y)^2}$ represents the diffusion of u in the y-direction.\n",
        "   $\\nu \\Large\\frac{v_{i+1,j}^n - 2v_{i,j}^n + v_{i-1,j}^n}{(\\Delta x)^2}$ represents the diffusion of v in the x-direction.\n",
        "   $\\nu \\Large\\frac{v_{i,j+1}^n - 2v_{i,j}^n + v_{i,j-1}^n}{(\\Delta y)^2}$ represents the diffusion of v in the y-direction.\n",
        "\n",
        "Substituting these approximations into the Burgers' equation, we obtain the following numerical equations:\n",
        "\n",
        "$u_{i,j}^{n+1} = u_{i,j}^n - \\Delta t [u_{i,j}^n \\Large\\frac{u_{i+1,j}^n - u_{i-1,j}^n}{2\\Delta x} + v_{i,j}^n \\Large\\frac{u_{i,j+1}^n - u_{i,j-1}^n}{2\\Delta y}] + \\nu\\Delta t [\\Large\\frac{u_{i+1,j}^n - 2u_{i,j}^n + u_{i-1,j}^n}{(\\Delta x)^2} + \\Large\\frac{u_{i,j+1}^n - 2u_{i,j}^n + u_{i,j-1}^n}{(\\Delta y)^2}]$\n",
        "\n",
        "$v_{i,j}^{n+1} = v_{i,j}^n - \\Delta t [u_{i,j}^n \\Large\\frac{v_{i+1,j}^n - v_{i-1,j}^n}{2\\Delta x} + v_{i,j}^n \\Large\\frac{v_{i,j+1}^n - v_{i,j-1}^n}{2\\Delta y}] + \\nu\\Delta t [\\Large\\frac{v_{i+1,j}^n - 2v_{i,j}^n + v_{i-1,j}^n}{(\\Delta x)^2} + \\Large\\frac{v_{i,j+1}^n - 2v_{i,j}^n + v_{i,j-1}^n}{(\\Delta y)^2}]$\n",
        "\n",
        "These equations can be solved iteratively to obtain the velocity field (u, v) at each grid point and time step, subject to appropriate initial and boundary conditions.\n",
        "\n",
        "Some key points to consider when implementing the finite difference solution:\n",
        "\n",
        "1. Boundary conditions must be properly imposed on the edges of the computational domain.\n",
        "2. The choice of time step Δt is limited by the Courant-Friedrichs-Lewy (CFL) condition for stability, which depends on the spatial discretization and the maximum velocity.\n",
        "3. The nonlinear convection terms can be treated using techniques like upwind differencing or flux limiters to avoid numerical oscillations.\n",
        "4. The resulting scheme can be efficiently implemented using matrix operations, especially if an implicit method is used.\n",
        "\n",
        "Finite difference methods provide a straightforward way to solve the Burgers' equation, but for more complex geometries or higher accuracy, other methods like finite volume, finite element, or spectral methods may be preferred."
      ],
      "metadata": {
        "id": "1OC5HyVGkFzM"
      }
    }
  ]
}