{
  "nbformat": 4,
  "nbformat_minor": 0,
  "metadata": {
    "colab": {
      "provenance": [],
      "authorship_tag": "ABX9TyPY6+da//qvUg9A1nonYUpS"
    },
    "kernelspec": {
      "name": "python3",
      "display_name": "Python 3"
    },
    "language_info": {
      "name": "python"
    }
  },
  "cells": [
    {
      "cell_type": "markdown",
      "source": [
        "Fifty Challenging Problems in Probability\n",
        "* Frederick Mosteller\n",
        "* Problem 1A"
      ],
      "metadata": {
        "id": "KmokH5lY4QG5"
      }
    },
    {
      "cell_type": "markdown",
      "source": [
        "Tutor:\n",
        "* Google Gemini 2.0"
      ],
      "metadata": {
        "id": "LRLKnGXK_MKg"
      }
    },
    {
      "cell_type": "markdown",
      "source": [
        "## The Sock Drawer Problem - Solution using Diophantine Equations\n",
        "\n",
        "**Given:**\n",
        "\n",
        "*   A sock drawer holds an unknown number of black and red socks.\n",
        "*   When two socks are drawn from the drawer, sight unseen, the probability that both are red is 1/2.\n",
        "\n",
        "**Find:**\n",
        "\n",
        "*   The smallest number of socks that can be located in the sock drawer and meet the criteria.\n",
        "\n",
        "**What are Diophantine Equations?**\n",
        "\n",
        "Diophantine equations are polynomial equations, usually with two or more unknowns, for which *only integer solutions are sought*. They are named after the 3rd-century Alexandrian mathematician Diophantus, who studied them extensively.\n",
        "\n",
        "**Why use Diophantine Equations for the Sock Drawer Problem?**\n",
        "\n",
        "Our problem involves finding whole numbers of socks (you can't have half a sock!). When we express the probability condition algebraically, we arrive at an equation where we are looking for integer solutions for the number of red socks (R) and the total number of socks (T). This makes it a natural fit for using Diophantine equation techniques.\n",
        "\n",
        "**Solution (Applying Diophantine Equations):**\n",
        "\n",
        "1.  **Start with the probability equation:**\n",
        "\n",
        "    (R/T) * ((R-1)/(T-1)) = 1/2\n",
        "\n",
        "2.  **Rearrange the equation:**\n",
        "\n",
        "    R(R-1) = 0.5T(T-1)\n",
        "    2R(R-1) = T(T-1)\n",
        "    2R² - 2R = T² - T\n",
        "    2R² - 2R - T² + T = 0\n",
        "\n",
        "3.  **Focus on the Diophantine Equation:**\n",
        "\n",
        "    We now have the Diophantine equation:\n",
        "\n",
        "    2R² - 2R = T² - T\n",
        "\n",
        "    or\n",
        "\n",
        "    T² - T - 2R² + 2R = 0\n",
        "\n",
        "    We can rearrange this to make it easier to work with. A common technique with Diophantine equations involving quadratics is to try and complete the square or factor. In this case, rearranging and multiplying by 4 helps:\n",
        "\n",
        "    4T² - 4T - 8R² + 8R = 0\n",
        "\n",
        "    (4T² - 4T + 1) - 1 - (8R² - 8R + 2) + 2 = 0\n",
        "    (2T - 1)² - 2(2R - 1)² = -1\n",
        "    (2R - 1)² - (2T - 1)²/2 = 1/2\n",
        "\n",
        "    Let's use a substitution to simplify further:\n",
        "\n",
        "    x = 2R - 1\n",
        "    y = 2T - 1\n",
        "\n",
        "    Now our equation becomes:\n",
        "\n",
        "    x² - 2y²/4 = 1/2\n",
        "\n",
        "    2x² - y² = 1\n",
        "\n",
        "    y² = 2x² - 1\n",
        "\n",
        "4.  **Solving the Diophantine Equation:**\n",
        "\n",
        "    This is a Pell-like equation. We are looking for integer solutions (x,y) such that y² = 2x² - 1.\n",
        "\n",
        "    We can test small integer values for x:\n",
        "\n",
        "    *   If x = 1, y² = 2(1)² - 1 = 1, so y = 1.\n",
        "        *   Then 2R-1 = 1 => R = 1. 2T-1 = 1 => T = 1. This is a trivial solution and doesn't work for the original probability.\n",
        "    *   If x = 3, y² = 2(3)² - 1 = 17, which is not a perfect square.\n",
        "    *   If x = 5, y² = 2(5)² - 1 = 49, so y = 7.\n",
        "        *   Then 2R-1 = 5 => R = 3. 2T-1 = 7 => T = 4. This works!\n",
        "\n",
        "5. **Back to R and T:**\n",
        "\n",
        "With x = 5 and y = 7:\n",
        "\n",
        "*   2R - 1 = 5  =>  R = 3\n",
        "*   2T - 1 = 7  =>  T = 4\n",
        "\n",
        "This gives us the solution of 3 red socks and a total of 4 socks (meaning 1 black sock).\n",
        "\n",
        "**Computational Implementation (Python - Brute force approach as Pell equations can be complex):**\n",
        "\n",
        "```python\n",
        "def solve_sock_problem_diophantine():\n",
        "  for R in range(1, 100):\n",
        "    for T in range(R+1, 100):\n",
        "      if 2*R*(R-1) == T*(T-1):\n",
        "        print(f\"Total Socks (T): {T}, Red Socks (R): {R}\")\n",
        "        return\n",
        "\n",
        "solve_sock_problem_diophantine()\n",
        "\n",
        "```"
      ],
      "metadata": {
        "id": "nXi_7zShoqah"
      }
    },
    {
      "cell_type": "markdown",
      "source": [
        "Explanation of the Code:\n",
        "\n",
        "This Python code uses a brute-force approach to find integer solutions to the Diophantine equation derived from the sock drawer problem. Here's a breakdown:\n",
        "\n",
        "* def solve_sock_problem_diophantine():: This defines a function named solve_sock_problem_diophantine() that encapsulates the solution logic.\n",
        "\n",
        "* Docstring: The triple quotes (\"\"\"Docstring\"\"\") contain a documentation string (docstring) that explains what the function does, the equation it uses, and the meaning of the variables. This is good practice for code readability and maintainability.\n",
        "\n",
        "* Outer Loop (for R in range(1, 100):): This loop iterates through possible values for the number of red socks (R). It starts from 1 because you need at least one red sock for the problem to be meaningful. The upper limit (100) is arbitrary; it's chosen to limit the search space. If no solution is found within this range, you could increase it.\n",
        "\n",
        "* Inner Loop (for T in range(R + 1, 100):): This loop iterates through possible values for the total number of socks (T). It starts from R + 1 because the total number of socks must be greater than the number of red socks. The upper limit (100) is again arbitrary.\n",
        "\n",
        "* if 2 * R * (R - 1) == T * (T - 1):: This is the core of the solution. It checks if the Diophantine equation 2R(R-1) = T(T-1) holds true for the current values of R and T. This equation is derived from the original probability equation: (R/T) * ((R-1)/(T-1)) = 1/2.\n",
        "\n",
        "* print(f\"Total Socks (T): {T}, Red Socks (R): {R}\"): If the equation is true (meaning a valid solution is found), this line prints the values of T and R using an f-string for formatted output.\n",
        "\n",
        "* return: After finding and printing the first solution, the function immediately exits using return. This is because we are looking for the smallest solution, and once we find it, there's no need to continue searching.\n",
        "\n",
        "* solve_sock_problem_diophantine(): This line outside the function definition calls the function to execute the code.\n",
        "\n",
        "In summary: The code efficiently searches for the smallest integer solution to the Diophantine equation by systematically checking combinations of red and total socks. The comments and docstring make the code self-explanatory and easier to understand."
      ],
      "metadata": {
        "id": "Fu1CMxgnpaLO"
      }
    },
    {
      "cell_type": "code",
      "source": [
        "def solve_sock_problem_diophantine():\n",
        "    \"\"\"\n",
        "    Solves the sock drawer problem using a brute-force approach on the\n",
        "    Diophantine equation derived from the probability condition.\n",
        "\n",
        "    The equation 2R(R-1) = T(T-1) is tested for integer solutions, where:\n",
        "    R = Number of red socks\n",
        "    T = Total number of socks\n",
        "\n",
        "    This function searches for the smallest solution where R < T.\n",
        "    \"\"\"\n",
        "    for R in range(1, 100):  # Iterate through possible values of Red socks (starting from 1)\n",
        "        for T in range(R + 1, 100):  # Iterate through possible values of Total socks (starting from R+1 to ensure T > R)\n",
        "            if 2 * R * (R - 1) == T * (T - 1):  # Check if the Diophantine equation holds true\n",
        "                print(f\"Total Socks (T): {T}, Red Socks (R): {R}\")  # Print the solution if found\n",
        "                return  # Exit the function after finding the first solution (smallest)\n",
        "\n",
        "# Example usage:\n",
        "solve_sock_problem_diophantine()"
      ],
      "metadata": {
        "colab": {
          "base_uri": "https://localhost:8080/"
        },
        "id": "1NnfSTS2owap",
        "outputId": "fe586311-4db1-4a9f-8019-65f5927181eb"
      },
      "execution_count": 1,
      "outputs": [
        {
          "output_type": "stream",
          "name": "stdout",
          "text": [
            "Total Socks (T): 4, Red Socks (R): 3\n"
          ]
        }
      ]
    }
  ]
}