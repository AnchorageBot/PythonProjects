{
  "nbformat": 4,
  "nbformat_minor": 0,
  "metadata": {
    "colab": {
      "provenance": [],
      "authorship_tag": "ABX9TyMBrT/IFyjXk4/nW9khSvGZ"
    },
    "kernelspec": {
      "name": "python3",
      "display_name": "Python 3"
    },
    "language_info": {
      "name": "python"
    }
  },
  "cells": [
    {
      "cell_type": "markdown",
      "source": [
        "# Bayesian Analysis with Python - Chapter 1\n",
        "\n",
        "This notebook will take a look at some Bayesian definitions & symbols"
      ],
      "metadata": {
        "id": "NioToivhfyxC"
      }
    },
    {
      "cell_type": "markdown",
      "source": [
        "Our references:\n",
        "\n",
        "* [Bayesian Analysis with Python, 2nd Edition, by Osvaldo Martin](https://www.packtpub.com/product/bayesian-analysis-with-python-second-edition/9781789341652)\n",
        "\n",
        "* [Bayesian Analysis with Python - Second Edition - Github](https://github.com/aloctavodia/BAP)\n",
        "\n",
        "* [Google Colab](https://colab.research.google.com/)\n",
        "\n",
        "* [ArviZ: Version 0.17.0](https://python.arviz.org/en/stable/)\n",
        "\n",
        "* [Matplotlib: Version 3.8](https://matplotlib.org/)\n",
        "\n",
        "* [Numpy Version: 1.26](https://numpy.org/)\n",
        "\n",
        "* [Pandas Version: 2.2.0](https://pandas.pydata.org/)\n",
        "\n",
        "* [Python Version 3.12.1](https://www.python.org/)\n",
        "\n",
        "* [SciPy Version 1.12.0](https://scipy.org/)\n",
        "\n"
      ],
      "metadata": {
        "id": "sAL4vpu4gCmk"
      }
    },
    {
      "cell_type": "markdown",
      "source": [
        "Definitions and Symbols - Probability Product Rule ([Chain Rule](https://en.m.wikipedia.org/wiki/Chain_rule_(probability)))\n",
        "* p(A, B), probability of A and B  \n",
        "* p(A|B), probability of A is conditioned on knowing B\n",
        "* p(B), probability of B\n",
        "* ∩ , intersection = all the objects common to both sets = AND\n",
        "* p(A ∩ B), intersection of A and B\n",
        "* p(B|A), conditional probability of B given A\n",
        "* p(A), probability of A\n"
      ],
      "metadata": {
        "id": "czYy0Zbpkw7U"
      }
    },
    {
      "cell_type": "markdown",
      "source": [
        "Probability Product Rule (Chain Rule)\n",
        "* p(A,B) = p(A|B)p(B)\n",
        "* p(A ∩ B) = p(B|A)p(A)"
      ],
      "metadata": {
        "id": "3l419ZeOmSVA"
      }
    },
    {
      "cell_type": "markdown",
      "source": [
        "Probability Product Rule (Chain Rule) - Example\n",
        "* Given\n",
        "  * Jar A has 1 black ball and 2 white balls\n",
        "  * Jar B has 1 black ball and 3 white balls\n",
        "* Find\n",
        "  * Pick one jar at random\n",
        "  * Pick one ball from that jar at random\n",
        "  * Describe choosing the first urn and a white ball from it\n",
        "* Solution\n",
        "  * p(A) = 1/2 = probability of choosing jar A\n",
        "  * p(B) = 2/3 = probability of choosing a white ball from jar A\n",
        "  * p(B|A) = 2/3 = conditional probability of B given A\n",
        "  * p(A ∩ B) = p(B|A)p(A) = (2/3)(1/2) = 1/3"
      ],
      "metadata": {
        "id": "eG1FHdqqDDCk"
      }
    }
  ]
}