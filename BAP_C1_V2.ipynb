{
  "nbformat": 4,
  "nbformat_minor": 0,
  "metadata": {
    "colab": {
      "provenance": [],
      "authorship_tag": "ABX9TyOSRSnTyDdk8gLjpZd0XoDT"
    },
    "kernelspec": {
      "name": "python3",
      "display_name": "Python 3"
    },
    "language_info": {
      "name": "python"
    }
  },
  "cells": [
    {
      "cell_type": "markdown",
      "source": [
        "# Bayesian Analysis with Python - Chapter 1\n",
        "\n",
        "This notebook will take a look at some ArviZ example gallery matplotlib styles"
      ],
      "metadata": {
        "id": "NioToivhfyxC"
      }
    },
    {
      "cell_type": "markdown",
      "source": [
        "Our references:\n",
        "\n",
        "* [Bayesian Analysis with Python, 2nd Edition, by Osvaldo Martin](https://www.packtpub.com/product/bayesian-analysis-with-python-second-edition/9781789341652)\n",
        "\n",
        "* [Bayesian Analysis with Python - Second Edition - Github](https://github.com/aloctavodia/BAP)\n",
        "\n",
        "* [Google Colab](https://colab.research.google.com/)\n",
        "\n",
        "* [ArviZ: Version 0.17.0](https://python.arviz.org/en/stable/)\n",
        "\n",
        "* [Matplotlib: Version 3.8](https://matplotlib.org/)\n",
        "\n",
        "* [Numpy Version: 1.26](https://numpy.org/)\n",
        "\n",
        "* [Pandas Version: 2.2.0](https://pandas.pydata.org/)\n",
        "\n",
        "* [Python Version 3.12.1](https://www.python.org/)\n",
        "\n",
        "* [SciPy Version 1.12.0](https://scipy.org/)\n",
        "\n"
      ],
      "metadata": {
        "id": "sAL4vpu4gCmk"
      }
    },
    {
      "cell_type": "markdown",
      "source": [
        "This script loads the matplotlib, numpy, pandas, scipy, and arviz libraries"
      ],
      "metadata": {
        "id": "FGW3a1p5fDeC"
      }
    },
    {
      "cell_type": "code",
      "source": [
        "# Load libraries\n",
        "\n",
        "import matplotlib.pyplot as plt\n",
        "import numpy as np\n",
        "import pandas as pd"
      ],
      "metadata": {
        "id": "8kFmOL2HIhqP"
      },
      "execution_count": null,
      "outputs": []
    },
    {
      "cell_type": "markdown",
      "source": [
        "ArviZ example [gallery matplotlib styles](https://python.arviz.org/en/stable/examples/styles.html#example-styles)"
      ],
      "metadata": {
        "id": "jjqo7iha91nM"
      }
    }
  ]
}