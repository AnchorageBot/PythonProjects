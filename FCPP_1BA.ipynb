{
  "nbformat": 4,
  "nbformat_minor": 0,
  "metadata": {
    "colab": {
      "provenance": [],
      "authorship_tag": "ABX9TyOLGS5I8bGRexYFUfi1mMOB"
    },
    "kernelspec": {
      "name": "python3",
      "display_name": "Python 3"
    },
    "language_info": {
      "name": "python"
    }
  },
  "cells": [
    {
      "cell_type": "markdown",
      "source": [
        "Fifty Challenging Problems in Probability\n",
        "* Frederick Mosteller\n",
        "* Problem 1B"
      ],
      "metadata": {
        "id": "_TB2g_N1TrPw"
      }
    },
    {
      "cell_type": "markdown",
      "source": [
        "Given:\n",
        "\n",
        "* A sock drawer holds an unkown number of black and red socks\n",
        "* The number of black socks is even\n",
        "* When two socks are drawn from the drawer, sight unseen, the probability that both are red is 1/2"
      ],
      "metadata": {
        "id": "qLulVCk7Twsd"
      }
    },
    {
      "cell_type": "markdown",
      "source": [
        "Find:\n",
        "\n",
        "* What is the smallest total number of socks in the drawer, while meeting the given criteria"
      ],
      "metadata": {
        "id": "W4KYC9oXT8B_"
      }
    },
    {
      "cell_type": "markdown",
      "source": [
        "Solution (trial & error = swag):\n",
        "\n",
        "|Black |  Red | Total |\n",
        "|-----|------|------|\n",
        "| 2 | 2 | 4 |\n",
        "\n",
        "1st look, two draws, chances that both are red = (2R/4T)(1R/3T) = 0.17\n",
        "\n",
        "|Black |  Red | Total |\n",
        "|-----|------|------|\n",
        "| 2 | 4 | 6|\n",
        "\n",
        "2nd look, two draws, chances that both are red = (4R/6T)(3R/5T) = 0.4\n",
        "\n",
        "|Black |  Red | Total |\n",
        "|-----|------|------|\n",
        "| 2 | 5 | 7 |\n",
        "\n",
        "3rd look, two draws, chances that both are red = (5R/7T)(4R/6T) = 0.476\n",
        "\n",
        "|Black |  Red | Total |\n",
        "|-----|------|------|\n",
        "| 2 | 6 | 8 |\n",
        "\n",
        "4th look, two draws, chances that both are red = (6R/8T)(5R/7T) = 0.536\n",
        "\n",
        "|Black |  Red | Total |\n",
        "|-----|------|------|\n",
        "| 4 | 3 | 7 |\n",
        "\n",
        "5th look, two draws, chances that both are red = (3R/7T)(2R/6T) = 0.143\n",
        "\n",
        "|Black |  Red | Total |\n",
        "|-----|------|------|\n",
        "| 4 | 4 | 8 |\n",
        "\n",
        "6th look, two draws, chances that both are red = (4R/8T)(3R/7T) = 0.214\n",
        "\n",
        "|Black |  Red | Total |\n",
        "|-----|------|------|\n",
        "| 4 | 8 | 12 |\n",
        "\n",
        "7th look, two draws, chances that both are red = (8R/12T)(7R/11T) = 0.424\n",
        "\n",
        "|Black |  Red | Total |\n",
        "|-----|------|------|\n",
        "| 4 | 10 | 14 |\n",
        "\n",
        "8th look, two draws, chances that both are red = (10R/14T)(9R/13T) = 0.495\n",
        "\n",
        "|Black |  Red | Total |\n",
        "|-----|------|------|\n",
        "| 4 | 11 | 15 |\n",
        "\n",
        "9th look, two draws, chances that both are red = (11R/15T)(10R/14T) = 0.524\n",
        "\n",
        "|Black |  Red | Total |\n",
        "|-----|------|------|\n",
        "| 6 | 15 | 21 |\n",
        "\n",
        "10th look, two draws, chances that both are red = (15R/21T)(14R/20T) = 0.5\n",
        "\n"
      ],
      "metadata": {
        "id": "SKQ19w1ZU6oL"
      }
    },
    {
      "cell_type": "code",
      "source": [
        "print(\"1st look = \", (2/4)*(1/3))\n",
        "print(\"2nd look = \", (4/6)*(3/5))\n",
        "print(\"3rd look = \", (5/7)*(4/6))\n",
        "print(\"4th look = \", (6/8)*(5/7))\n",
        "print(\"5th look = \", (3/7)*(2/6))\n",
        "print(\"6th look = \", (4/8)*(3/7))\n",
        "print(\"7th look = \", (8/12)*(7/11))\n",
        "print(\"8th look = \", (10/14)*(9/13))\n",
        "print(\"9th look = \", (11/15)*(10/14))\n",
        "print(\"10th look = \", (15/21)*(14/20))"
      ],
      "metadata": {
        "colab": {
          "base_uri": "https://localhost:8080/"
        },
        "id": "T3iuKLKwV5_G",
        "outputId": "28ddcd3e-a642-4750-e22c-467d5b489115"
      },
      "execution_count": null,
      "outputs": [
        {
          "output_type": "stream",
          "name": "stdout",
          "text": [
            "1st look =  0.16666666666666666\n",
            "2nd look =  0.39999999999999997\n",
            "3rd look =  0.47619047619047616\n",
            "4th look =  0.5357142857142857\n",
            "5th look =  0.14285714285714285\n",
            "6th look =  0.21428571428571427\n",
            "7th look =  0.4242424242424242\n",
            "8th look =  0.4945054945054945\n",
            "9th look =  0.5238095238095238\n",
            "10th look =  0.5\n"
          ]
        }
      ]
    },
    {
      "cell_type": "markdown",
      "source": [
        "Solution (inspection & algebra):\n",
        "\n",
        "B = Black socks\n",
        "\n",
        "R = Red socks\n",
        "\n",
        "T = Total socks\n",
        "\n",
        "Observing the pattern that generates the data suggests the equation:\n",
        "* (R/T)((R-1)/(T-1)) = 0.5\n",
        "\n",
        "We recall that the quadratic formula takes the form:\n",
        "* ax² + bx + c = 0\n",
        "* x = (-b ± √(b² - 4ac)) / 2a)\n",
        "\n",
        "Next we rearrange our equation to see if we can use the quadratic formula:\n",
        "* (R/T)((R-1)/(T-1)) = 0.5\n",
        "* (R^2 - R)/(T^2 - T) = 0.5\n",
        "* R^2 - R = 0.5T^2 - 0.5T\n",
        "* Assume a = 1, b = -1, and c = -1(0.5T^2 - 0.5T)\n",
        "* aR^2 + bR + c = 0\n",
        "* Go for it\n",
        "* R = (-(-1) ± √((-1)² - 4(1)(-1)(0.5T^2 - 0.5T)) / 2(1)\n",
        "* R = 1 ± √(1 - 2T^2 - 2T)/2\n",
        "\n",
        "We recall that we have the constraints/criteria (and have to account for them):\n",
        "* The number of black socks is even\n",
        "* When two socks are drawn from the drawer, sight unseen, the probability that both are red is 1/2\n",
        "\n",
        "We recall the modulus formula is used to identify even numbers:\n",
        "* n = the number we are evaluating\n",
        "* n % 2 is the python equation for calculating the modulus\n",
        "* For context we recall that:\n",
        "  * The modulus operator (%) gives you the remainder of a division. When you divide an even number by 2, the remainder is always 0. Conversely, when you divide an odd number by 2, the remainder is always 1"
      ],
      "metadata": {
        "id": "84Y7w_924Exn"
      }
    }
  ]
}