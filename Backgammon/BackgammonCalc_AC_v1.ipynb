{
  "nbformat": 4,
  "nbformat_minor": 0,
  "metadata": {
    "colab": {
      "provenance": [],
      "authorship_tag": "ABX9TyOFsHQwCWmbkDUrH4qMRAmo"
    },
    "kernelspec": {
      "name": "python3",
      "display_name": "Python 3"
    },
    "language_info": {
      "name": "python"
    }
  },
  "cells": [
    {
      "cell_type": "markdown",
      "source": [
        "Backgammon Decision Calculation\n",
        "\n",
        "* [Around the World in 80 Games, Marcus Du Sautoy](https://www.simonyi.ox.ac.uk/books/around-the-world-in-80-games/)\n",
        "\n",
        "* Tutor: Anthropic's AI Claude"
      ],
      "metadata": {
        "id": "dZT3T_fjGqIk"
      }
    },
    {
      "cell_type": "markdown",
      "source": [
        "Step-by-Step Derivation\n",
        "\n",
        "### Initial Setup:\n",
        "\n",
        "* You've bet y dollars\n",
        "* If you refuse a double, you forfeit and lose y dollars (payout = -y)\n",
        "* If you accept, you continue with probability p of winning\n",
        "\n",
        "\n",
        "### Expected Payout Analysis:\n",
        "\n",
        "When you accept a double, two scenarios can occur:\n",
        "\n",
        "* Scenario 1: You win with probability p/(1-p), payout = 2y\n",
        "* Scenario 2: You lose with probability 1-[p/(1-p)], payout = -2y\n",
        "\n",
        "\n",
        "### Expected Value Calculation:\n",
        "\n",
        "* Expected payout = (probability of scenario 1 × payout of scenario 1) + (probability of scenario 2 × payout of scenario 2)\n",
        "* E[payout] = [p/(1-p)] × 2y + [1-p/(1-p)] × (-2y)\n",
        "\n",
        "\n",
        "### Break-Even Analysis:\n",
        "\n",
        "* You should accept the double when E[payout] > -y (the payout for refusing)\n",
        "* This gives us the equation: -y = 2y[p/(1-p)] - 2y[1-p/(1-p)]\n",
        "\n",
        "\n",
        "### Solving for Critical Value p:\n",
        "\n",
        "* Rearranging: p - 1 = 2p - 2(1-p) + 2p\n",
        "* Simplifying: p - 1 = 2p - 2 + 2p + 2p\n",
        "* Further: p - 1 = 6p - 2\n",
        "* Therefore: -1 + 2 = 6p - p\n",
        "* So: 1 = 5p\n",
        "* Thus: p = 1/5 = 0.2 = 20%\n",
        "\n",
        "\n",
        "### Conclusion:\n",
        "\n",
        "* Accept a double if you believe your winning probability exceeds 20%\n",
        "* Offer a double (when you have the cube) if your winning probability exceeds 80%"
      ],
      "metadata": {
        "id": "eGneUUPvGdSt"
      }
    },
    {
      "cell_type": "markdown",
      "source": [
        "p (Win Probability) | p/(1-p) (Ratio) | Expected Value (2y×p/(1-p) - 2y×(1-p/(1-p))) | Decision\n",
        "-------------------|-----------------|-------------------------------------------|----------\n",
        "0.10               | 0.111           | -1.556y                                   | Refuse Double\n",
        "0.15               | 0.176           | -1.294y                                   | Refuse Double\n",
        "0.20               | 0.250           | -1.000y                                   | Break-Even\n",
        "0.25               | 0.333           | -0.667y                                   | Accept Double\n",
        "0.30               | 0.429           | -0.286y                                   | Accept Double\n",
        "0.40               | 0.667           | 0.667y                                    | Accept Double\n",
        "0.50               | 1.000           | 2.000y                                    | Accept Double\n",
        "0.60               | 1.500           | 4.000y                                    | Accept Double\n",
        "0.70               | 2.333           | 6.667y                                    | Accept Double\n",
        "0.80               | 4.000           | 12.000y                                   | Accept & Consider Doubling\n",
        "0.90               | 9.000           | 30.000y                                   | Offer Double"
      ],
      "metadata": {
        "id": "eWMm46HxGTFV"
      }
    }
  ]
}
