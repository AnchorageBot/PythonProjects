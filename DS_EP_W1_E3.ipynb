{
  "nbformat": 4,
  "nbformat_minor": 0,
  "metadata": {
    "colab": {
      "provenance": [],
      "authorship_tag": "ABX9TyME2taZBD5Neg9Zw6hSQNzf"
    },
    "kernelspec": {
      "name": "python3",
      "display_name": "Python 3"
    },
    "language_info": {
      "name": "python"
    }
  },
  "cells": [
    {
      "cell_type": "markdown",
      "source": [
        "DS-EP\n",
        "\n",
        "W1\n",
        "\n",
        "Exercise 3"
      ],
      "metadata": {
        "id": "TMa1WQUC56la"
      }
    },
    {
      "cell_type": "code",
      "execution_count": 3,
      "metadata": {
        "colab": {
          "base_uri": "https://localhost:8080/"
        },
        "id": "tz4Uu5gF5ycL",
        "outputId": "9df4b17f-24c9-4f80-b819-e3111d863d89"
      },
      "outputs": [
        {
          "output_type": "stream",
          "name": "stdout",
          "text": [
            "Receiver's name Melvin\n",
            "Dear,  Melvin\n"
          ]
        }
      ],
      "source": [
        "print('Dear, ' , input(\"Receiver's name \"))"
      ]
    },
    {
      "cell_type": "code",
      "source": [
        "print('This is ', input('What is your name? '), 'the weather in ', input('where are you'), 'is fantastic')"
      ],
      "metadata": {
        "colab": {
          "base_uri": "https://localhost:8080/"
        },
        "id": "XJVA2Z2X552_",
        "outputId": "2a0670a4-eeb7-4a7b-8213-a78a934c5228"
      },
      "execution_count": 8,
      "outputs": [
        {
          "output_type": "stream",
          "name": "stdout",
          "text": [
            "What is your name? Sam\n",
            "where are youTahiti \n",
            "This is  Sam the weather in  Tahiti  is fantastic\n"
          ]
        }
      ]
    },
    {
      "cell_type": "code",
      "source": [
        "print(' I am taking a coding class here and have made' , input('how many programs have you made? '), '\\n',\n",
        "'programs, and it has been fun ')"
      ],
      "metadata": {
        "colab": {
          "base_uri": "https://localhost:8080/"
        },
        "id": "wHh1_Xdz8PtH",
        "outputId": "14477273-a428-43f0-9638-bcbcd7c814b7"
      },
      "execution_count": 15,
      "outputs": [
        {
          "output_type": "stream",
          "name": "stdout",
          "text": [
            "how many programs have you made? 3\n",
            " I am taking a coding class here and have made 3 \n",
            " programs, and it has been fun \n"
          ]
        }
      ]
    },
    {
      "cell_type": "code",
      "source": [
        "print('later', input('what is your name'))"
      ],
      "metadata": {
        "colab": {
          "base_uri": "https://localhost:8080/"
        },
        "id": "6TIDJTBb9kV4",
        "outputId": "75fdbbb7-7d1c-47bf-a901-374456c7215e"
      },
      "execution_count": 14,
      "outputs": [
        {
          "output_type": "stream",
          "name": "stdout",
          "text": [
            "what is your nameSam\n",
            "later Sam\n"
          ]
        }
      ]
    },
    {
      "cell_type": "code",
      "source": [
        "print(\"today's date is, \" , input(\"what is today's date in YY/MM/DD\"))"
      ],
      "metadata": {
        "colab": {
          "base_uri": "https://localhost:8080/"
        },
        "id": "wAjFuEMx99u_",
        "outputId": "b69c1377-f692-4610-bce4-a415128f9ea4"
      },
      "execution_count": 16,
      "outputs": [
        {
          "output_type": "stream",
          "name": "stdout",
          "text": [
            "what is today's date in YY/MM/DD23/10/22\n",
            "today's date is,  23/10/22\n"
          ]
        }
      ]
    }
  ]
}