{
  "nbformat": 4,
  "nbformat_minor": 0,
  "metadata": {
    "colab": {
      "provenance": [],
      "authorship_tag": "ABX9TyOk75Ymq8H/IdYRG8g0yXWO"
    },
    "kernelspec": {
      "name": "python3",
      "display_name": "Python 3"
    },
    "language_info": {
      "name": "python"
    }
  },
  "cells": [
    {
      "cell_type": "code",
      "execution_count": 2,
      "metadata": {
        "colab": {
          "base_uri": "https://localhost:8080/"
        },
        "id": "qMKGD0C8P75N",
        "outputId": "31093e87-b6f6-47a8-8284-68ee57df6851"
      },
      "outputs": [
        {
          "output_type": "stream",
          "name": "stdout",
          "text": [
            "list comprehension run time: 0.12636995315551758\n",
            "for loop run time: 0.17425847053527832\n",
            "for loop with existing list run time: 0.14583325386047363\n",
            "NumPy run time 0.002125263214111328\n"
          ]
        }
      ],
      "source": [
        "# This script will multiply two large random lists and compare run times\n",
        "\n",
        "# Made with Colab\n",
        "  # March 2023\n",
        "\n",
        "# Reference:\n",
        "  # Practical Deep Learning\n",
        "  # https://nostarch.com/practical-deep-learning-python\n",
        "\n",
        "import numpy as np\n",
        "import time\n",
        "import random\n",
        "\n",
        "n = 1000000\n",
        "a = [random.random() for i in range(n)]\n",
        "b = [random.random() for i in range(n)]\n",
        "\n",
        "s = time.time()\n",
        "c = [a[i]*b[i] for i in range(n)]\n",
        "print(\"list comprehension run time:\", time.time()-s)\n",
        "\n",
        "s = time.time()\n",
        "c = []\n",
        "for i in range(n):\n",
        "    c.append(a[i]*b[i])\n",
        "print(\"for loop run time:\", time.time()-s)\n",
        "\n",
        "s = time.time()\n",
        "c = [0]*n\n",
        "for i in range(n):\n",
        "    c[i] = a[i]*b[i]\n",
        "print(\"for loop with existing list run time:\", time.time()-s)\n",
        "\n",
        "x = np.array(a)\n",
        "y = np.array(b)\n",
        "s = time.time()\n",
        "c = x*y\n",
        "print(\"NumPy run time\", time.time()-s)"
      ]
    }
  ]
}