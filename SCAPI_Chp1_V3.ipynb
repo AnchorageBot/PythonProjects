{
  "nbformat": 4,
  "nbformat_minor": 0,
  "metadata": {
    "colab": {
      "provenance": [],
      "authorship_tag": "ABX9TyMysC3rbOzTk96PE0BIUDdt"
    },
    "kernelspec": {
      "name": "python3",
      "display_name": "Python 3"
    },
    "language_info": {
      "name": "python"
    }
  },
  "cells": [
    {
      "cell_type": "markdown",
      "source": [
        "# Serious Cryptography\n",
        "\n",
        "This notebook will work through the Chapter 1 concept of the casear cipher via a script comparison (Al Sweigart, ChaptGPT, Google Colab AI, Mistral Le Chat)"
      ],
      "metadata": {
        "id": "n8idmd-oUAIA"
      }
    },
    {
      "cell_type": "markdown",
      "source": [
        "Our references:\n",
        "* [ChatGPT](https://chat.openai.com/auth/login)\n",
        "* [Google Colab](https://colab.research.google.com/)\n",
        "* [Google Colab AI](https://blog.google/technology/developers/google-colab-ai-coding-features/)\n",
        "* [Mistral AI Le Chat](https://mistral.ai/)\n",
        "* [Cracking Codes with Python: An Introduction to Building and Breaking Ciphers - Al Sweigart - No Starch Press](https://nostarch.com/crackingcodes)\n",
        "* [Serious Cryptography: A Practical Introduction to Modern Encryption -  Aumasson, Jean-Philippe - No Starch Press](https://nostarch.com/seriouscrypto)\n",
        "* [Python version 3.12.2](https://www.python.org/)"
      ],
      "metadata": {
        "id": "98_fI6bjUK1u"
      }
    },
    {
      "cell_type": "code",
      "source": [
        "# Caesar Cipher\n",
        "# Made by Al Sweigart\n",
        "# https://www.nostarch.com/crackingcodes/ (BSD Licensed)\n",
        "\n",
        "# cross-platform Python module for copy and paste clipboard functions\n",
        "#import pyperclip\n",
        "\n",
        "# the string to be encrypted\n",
        "message = 'Air Jordans'\n",
        "\n",
        "# the encryption/decryption key\n",
        "key = 13\n",
        "\n",
        "# set this line to the string 'encrypt' or 'decrypt'\n",
        "mode = 'encrypt'\n",
        "\n",
        "# every possible symbol that can be encrypted\n",
        "SYMBOLS = 'ABCDEFGHIJKLMNOPQRSTUVWXYZabcdefghijklmnopqrstuvwxyz1234567890 !?.'\n",
        "\n",
        "# stores the encrypted/decrypted form of the message\n",
        "translated = ''\n",
        "\n",
        "# the guts of the script\n",
        "for symbol in message:\n",
        "\n",
        "  if symbol in SYMBOLS:\n",
        "    symbolIndex = SYMBOLS.find(symbol)\n",
        "\n",
        "    if mode == 'encrypt':\n",
        "      translatedIndex = symbolIndex + key\n",
        "    elif mode == 'decrypt':\n",
        "      translatedIndex = symbolIndex - key\n",
        "\n",
        "    if translatedIndex >= len(SYMBOLS):\n",
        "      translatedIndex = translatedIndex - len(SYMBOLS)\n",
        "    elif translatedIndex < 0:\n",
        "      translatedIndex = translatedIndex + len(SYMBOLS)\n",
        "\n",
        "    translated = translated + SYMBOLS[translatedIndex]\n",
        "\n",
        "  else:\n",
        "    translated = translated + symbol\n",
        "\n",
        "# once the for block does its thing the script advances to this line\n",
        "print(translated)"
      ],
      "metadata": {
        "colab": {
          "base_uri": "https://localhost:8080/"
        },
        "id": "1ZYQXMpZdcIE",
        "outputId": "c474f0e7-3bb8-41e0-c0ad-91ba42d325b2"
      },
      "execution_count": 4,
      "outputs": [
        {
          "output_type": "stream",
          "name": "stdout",
          "text": [
            "Nv5JW25qn16\n"
          ]
        }
      ]
    },
    {
      "cell_type": "code",
      "source": [
        "# Made by ChatGPT\n",
        "# prompt: please make a python script for the Caesar cipher\n",
        "\n",
        "def caesar_cipher(text, shift):\n",
        "    encrypted_text = \"\"\n",
        "    for char in text:\n",
        "        if char.isalpha():\n",
        "            shifted = ord(char) + shift\n",
        "            if char.islower():\n",
        "                if shifted > ord('z'):\n",
        "                    shifted -= 26\n",
        "                elif shifted < ord('a'):\n",
        "                    shifted += 26\n",
        "            elif char.isupper():\n",
        "                if shifted > ord('Z'):\n",
        "                    shifted -= 26\n",
        "                elif shifted < ord('A'):\n",
        "                    shifted += 26\n",
        "            encrypted_text += chr(shifted)\n",
        "        else:\n",
        "            encrypted_text += char\n",
        "    return encrypted_text\n",
        "\n",
        "def main():\n",
        "    text = input(\"Enter the text to encrypt: \")\n",
        "    shift = int(input(\"Enter the shift value: \"))\n",
        "    encrypted_text = caesar_cipher(text, shift)\n",
        "    print(\"Encrypted text:\", encrypted_text)\n",
        "\n",
        "if __name__ == \"__main__\":\n",
        "    main()\n"
      ],
      "metadata": {
        "colab": {
          "base_uri": "https://localhost:8080/"
        },
        "id": "e8Ldhsz1s3Ua",
        "outputId": "bf8cc419-0409-45cd-8dde-52e87e9625a2"
      },
      "execution_count": 3,
      "outputs": [
        {
          "output_type": "stream",
          "name": "stdout",
          "text": [
            "Enter the text to encrypt: Air Jordans\n",
            "Enter the shift value: 13\n",
            "Encrypted text: Nve Wbeqnaf\n"
          ]
        }
      ]
    },
    {
      "cell_type": "code",
      "execution_count": null,
      "metadata": {
        "colab": {
          "base_uri": "https://localhost:8080/"
        },
        "id": "YteUc-pST_ni",
        "outputId": "564f207f-2d0d-42c2-f141-31d99c9efad4"
      },
      "outputs": [
        {
          "output_type": "stream",
          "name": "stdout",
          "text": [
            "Nve Wbeqnaf\n"
          ]
        }
      ],
      "source": [
        "# Made by Google Colab AI\n",
        "# prompt: casear cipher\n",
        "\n",
        "def casear_cipher(text, shift):\n",
        "  \"\"\"\n",
        "  This function encrypts a given text using the Caesar cipher.\n",
        "\n",
        "  Args:\n",
        "    text: The string to encrypt.\n",
        "    shift: The number of positions to shift each character.\n",
        "\n",
        "  Returns:\n",
        "    The encrypted string.\n",
        "  \"\"\"\n",
        "  encrypted_text = \"\"\n",
        "  for char in text:\n",
        "    if char.isalpha():\n",
        "      # Get the ASCII value of the character.\n",
        "      ascii_value = ord(char)\n",
        "\n",
        "      # Shift the character by the specified number of positions.\n",
        "      if char.islower():\n",
        "        ascii_value += shift\n",
        "        if ascii_value > ord('z'):\n",
        "          ascii_value -= 26\n",
        "      else:\n",
        "        ascii_value += shift\n",
        "        if ascii_value > ord('Z'):\n",
        "          ascii_value -= 26\n",
        "\n",
        "      # Convert the ASCII value back to a character.\n",
        "      encrypted_char = chr(ascii_value)\n",
        "    else:\n",
        "      encrypted_char = char\n",
        "\n",
        "    # Add the encrypted character to the encrypted text.\n",
        "    encrypted_text += encrypted_char\n",
        "\n",
        "  return encrypted_text\n",
        "\n",
        "# Example usage\n",
        "text = 'Air Jordans'\n",
        "shift = 13\n",
        "encrypted_text = casear_cipher(text, shift)\n",
        "print(encrypted_text)\n"
      ]
    },
    {
      "cell_type": "code",
      "source": [
        "# Made by Mistral AI Le Chat\n",
        "# prompt: please make a python script for the Caesar cipher\n",
        "\n",
        "def caesar_cipher(text, shift):\n",
        "    result = \"\"\n",
        "\n",
        "    # traverse text\n",
        "    for i in range(len(text)):\n",
        "        char = text[i]\n",
        "\n",
        "        # Encrypt uppercase characters\n",
        "        if (char.isupper()):\n",
        "            result += chr((ord(char) + shift - 65) % 26 + 65)\n",
        "\n",
        "        # Encrypt lowercase characters\n",
        "        else:\n",
        "            result += chr((ord(char) + shift - 97) % 26 + 97)\n",
        "\n",
        "    return result\n",
        "\n",
        "# check the function\n",
        "text = \"Air Jordans\"\n",
        "shift = 13\n",
        "print(\"Text : \" + text)\n",
        "print(\"Shift : \" + str(shift))\n",
        "print(\"Cipher: \" + caesar_cipher(text, shift))\n"
      ],
      "metadata": {
        "colab": {
          "base_uri": "https://localhost:8080/"
        },
        "id": "VGfwT7oX1tgc",
        "outputId": "1c43bb25-edf4-4caf-f78d-4b7824b937b6"
      },
      "execution_count": 7,
      "outputs": [
        {
          "output_type": "stream",
          "name": "stdout",
          "text": [
            "Text : Air Jordans\n",
            "Shift : 13\n",
            "Cipher: NveaWbeqnaf\n"
          ]
        }
      ]
    },
    {
      "cell_type": "markdown",
      "source": [
        "Comparison of the four scripts\n",
        "* All scripts use encryption key 13\n",
        "* All scripts encrypt the message 'Air Jordans'\n",
        "* First script (Al Sweigart) encryption results: Nv5JW25qn16\n",
        "* Second script (ChatGPT) encryption results: Nve Wbeqnaf\n",
        "* Third script (Google Colab AI) encryption results: Nve Wbeqnaf\n",
        "* Fourth script (Mistral AI Le Chat) encryption results: NveaWbeqnaf\n",
        "* First script uses 26 upper + 26 lower case characters plus numerics, spaces, and symbols\n",
        "* Second, third, and fourth scripts use 26 upper + 26 lower case characters"
      ],
      "metadata": {
        "id": "KRQk6hMneKVn"
      }
    },
    {
      "cell_type": "markdown",
      "source": [
        "Mistral AI Le Chat code breakout"
      ],
      "metadata": {
        "id": "L6iP4IHm_787"
      }
    },
    {
      "cell_type": "markdown",
      "source": [
        "The numbers 65 and 97 in the code represent the ASCII values of the characters 'A' and 'a', respectively. ASCII (American Standard Code for Information Interchange) is a character encoding standard that assigns unique integer values to characters.\n",
        "\n",
        "In the Caesar cipher function, we're using these values to perform the shift operation on each character in the input text. Here's how it works:\n",
        "\n",
        "1. The `ord` function is used to get the ASCII value of the current character. For example, if the character is 'A', `ord('A')` would return 65.\n",
        "\n",
        "2. We then add the shift value to this ASCII value. For example, if the shift is 4, we'd get 65 + 4 = 69.\n",
        "\n",
        "3. We subtract 65 (or 97 for lowercase characters) from this result to \"normalize\" it to a range of 0-25, which corresponds to the 26 letters of the alphabet. In our example, we'd get 69 - 65 = 4.\n",
        "\n",
        "4. We then use the modulus operator (`%`) to handle cases where the shift \"wraps around\" the end of the alphabet. For example, if the shift was 27, we'd get (90 + 27 - 65) % 26 = 2, which corresponds to the letter 'C'.\n",
        "\n",
        "5. Finally, we add 65 (or 97 for lowercase characters) back to the result to get the ASCII value of the shifted character, and we use the `chr` function to convert this ASCII value back to a character. In our example, we'd get `chr(69)`, which is 'E'.\n",
        "\n",
        "So, the numbers 65 and 97 are used to convert between ASCII values and character indices in the alphabet, allowing us to perform the Caesar cipher shift operation."
      ],
      "metadata": {
        "id": "qO-zriuB_n-D"
      }
    }
  ]
}