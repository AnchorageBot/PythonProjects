{
  "nbformat": 4,
  "nbformat_minor": 0,
  "metadata": {
    "colab": {
      "provenance": [],
      "authorship_tag": "ABX9TyNIBEHbEH+V6RLz2gF/faZz"
    },
    "kernelspec": {
      "name": "python3",
      "display_name": "Python 3"
    },
    "language_info": {
      "name": "python"
    }
  },
  "cells": [
    {
      "cell_type": "markdown",
      "source": [
        "DS-EP\n",
        "W1\n",
        "Exercise 2"
      ],
      "metadata": {
        "id": "Hq9H24j3xoAV"
      }
    },
    {
      "cell_type": "code",
      "execution_count": 6,
      "metadata": {
        "colab": {
          "base_uri": "https://localhost:8080/"
        },
        "id": "W4xPv5yZxhBa",
        "outputId": "eb92cef3-c9d7-42a9-de3c-41259871b72a"
      },
      "outputs": [
        {
          "output_type": "stream",
          "name": "stdout",
          "text": [
            "What is your name? World\n",
            "Hello,  World\n"
          ]
        }
      ],
      "source": [
        "print('Hello, ' , input('What is your name? '))"
      ]
    },
    {
      "cell_type": "code",
      "source": [
        "print('Today is: ' , input(\"What is today's date using YY/MM/DD format? \"))"
      ],
      "metadata": {
        "colab": {
          "base_uri": "https://localhost:8080/"
        },
        "id": "ty1BLgCc127_",
        "outputId": "c8fcd08f-643d-4a2f-a70c-698a74eaf165"
      },
      "execution_count": 9,
      "outputs": [
        {
          "output_type": "stream",
          "name": "stdout",
          "text": [
            "What is today's date using YY/MM/DD format? 23/10/22\n",
            "Today is:  23/10/22\n"
          ]
        }
      ]
    }
  ]
}