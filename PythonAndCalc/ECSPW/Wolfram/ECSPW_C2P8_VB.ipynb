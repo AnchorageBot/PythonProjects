{
  "nbformat": 4,
  "nbformat_minor": 0,
  "metadata": {
    "colab": {
      "provenance": [],
      "authorship_tag": "ABX9TyPcPI497O7/oXTQOPwcuNQI"
    },
    "kernelspec": {
      "name": "python3",
      "display_name": "Python 3"
    },
    "language_info": {
      "name": "python"
    }
  },
  "cells": [
    {
      "cell_type": "markdown",
      "source": [
        "Chapter 2, Problem # 8"
      ],
      "metadata": {
        "id": "os2u8O4kG8rP"
      }
    },
    {
      "cell_type": "markdown",
      "source": [
        "References:\n",
        "\n",
        "Essential Calculus Skills Practice Workbook - Chris McMullen\n",
        "* https://www.mcleanandeakin.com/book/9781941691243"
      ],
      "metadata": {
        "id": "eGPmlEr0G6WC"
      }
    },
    {
      "cell_type": "markdown",
      "source": [
        "## Given:\n",
        "\n",
        "* h(x) = $ \\frac{4x}{(x^2 + 4)^{0.5}} $\n",
        "\n",
        "* $ \\frac{d}{dx} (ax^b) = bax^{b-1} $\n",
        "\n",
        "* $ \\frac{d}{dx} f(u(x)) = \\frac{df}{du} \\cdot \\frac{du}{dx} $\n",
        "\n",
        "* $ \\frac{d}{dx} \\left(\\frac{f}{g}\\right) = \\frac{g \\cdot \\frac{df}{dx} - f \\cdot \\frac{dg}{dx}}{g^2} $\n"
      ],
      "metadata": {
        "id": "Ki-YVjhyHBcd"
      }
    },
    {
      "cell_type": "markdown",
      "source": [
        "##Find:\n",
        "\n",
        "$\n",
        "\\frac{d}{dx} h(x)\n",
        "$"
      ],
      "metadata": {
        "id": "KW_IMprWPSd1"
      }
    },
    {
      "cell_type": "markdown",
      "source": [
        "# Solution - Wolfram Alpha\n",
        "\n",
        "Take the derivative\n",
        "* d/dx(x^4/sqrt(x^2 + 4))\n",
        "\n",
        "Use the product rule, d/dx(u v) = (dv)/(dx) u + (du)/(dx) v, where\n",
        "* u = x^4 and v = 1/sqrt(x^2 + 4):\n",
        " = (d/dx(x^4))/sqrt(4 + x^2) + x^4 (d/dx((4 + x^2)^(-1/2)))\n",
        "\n",
        "Use the power rule, d/dx(x^n) = n x^(n - 1), where n = 4.\n",
        "* d/dx(x^4) = 4 x^3:\n",
        " = x^4 (d/dx(1/sqrt(4 + x^2))) + 4 x^3 1/sqrt(4 + x^2)\n",
        "\n",
        "Using the chain rule,\n",
        "* d/dx(1/sqrt(x^2 + 4)) = d/(du) 1/sqrt(u) (du)/(dx),\n",
        "* where u = x^2 + 4 and d/(du) (1/sqrt(u)) = -1/(2 u^(3/2)):\n",
        " = (4 x^3)/sqrt(4 + x^2) + (-(d/dx(4 + x^2))/(2 (4 + x^2)^(3/2))) x^4\n",
        "\n",
        "Differentiate the sum term by term:\n",
        " = (4 x^3)/sqrt(4 + x^2) - (d/dx(4) + d/dx(x^2)) x^4/(2 (4 + x^2)^(3/2))\n",
        "\n",
        "The derivative of 4 is zero:\n",
        " = (4 x^3)/sqrt(4 + x^2) - (x^4 (d/dx(x^2) + 0))/(2 (4 + x^2)^(3/2))\n",
        "\n",
        "Simplify the expression:\n",
        " = (4 x^3)/sqrt(4 + x^2) - (x^4 (d/dx(x^2)))/(2 (4 + x^2)^(3/2))\n",
        "\n",
        "Use the power rule, d/dx(x^n) = n x^(n - 1), where n = 2.\n",
        "d/dx(x^2) = 2 x:\n",
        " = (4 x^3)/sqrt(4 + x^2) - 2 x x^4/(2 (4 + x^2)^(3/2))\n",
        "\n",
        "Simplify the expression:\n",
        " = -x^5/(4 + x^2)^(3/2) + (4 x^3)/sqrt(4 + x^2)\n",
        "\n",
        "Simplify the expression:\n",
        "Answer: |\n",
        " | = (x^3 (16 + 3 x^2))/(4 + x^2)^(3/2)"
      ],
      "metadata": {
        "id": "vbTAur2Fj-tH"
      }
    }
  ]
}
