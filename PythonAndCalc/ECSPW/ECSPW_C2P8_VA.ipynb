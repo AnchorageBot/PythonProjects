{
  "nbformat": 4,
  "nbformat_minor": 0,
  "metadata": {
    "colab": {
      "provenance": [],
      "authorship_tag": "ABX9TyP7wUXpyPGIagiJqGbAYWOA"
    },
    "kernelspec": {
      "name": "python3",
      "display_name": "Python 3"
    },
    "language_info": {
      "name": "python"
    }
  },
  "cells": [
    {
      "cell_type": "markdown",
      "source": [
        "Chapter 2, Problem # 8"
      ],
      "metadata": {
        "id": "os2u8O4kG8rP"
      }
    },
    {
      "cell_type": "markdown",
      "source": [
        "References:\n",
        "\n",
        "Essential Calculus Skills Practice Workbook - Chris McMullen\n",
        "* https://www.mcleanandeakin.com/book/9781941691243"
      ],
      "metadata": {
        "id": "eGPmlEr0G6WC"
      }
    },
    {
      "cell_type": "markdown",
      "source": [
        "## Given:\n",
        "\n",
        "* h(x) = $ \\frac{4x}{(x^2 + 4)^{0.5}} $\n",
        "\n",
        "* $ \\frac{d}{dx} (ax^b) = bax^{b-1} $\n",
        "\n",
        "* $ \\frac{d}{dx} f(u(x)) = \\frac{df}{du} \\cdot \\frac{du}{dx} $\n",
        "\n",
        "* $ \\frac{d}{dx} \\left(\\frac{f}{g}\\right) = \\frac{g \\cdot \\frac{df}{dx} - f \\cdot \\frac{dg}{dx}}{g^2} $\n"
      ],
      "metadata": {
        "id": "Ki-YVjhyHBcd"
      }
    },
    {
      "cell_type": "markdown",
      "source": [
        "##Find:\n",
        "\n",
        "$\n",
        "\\frac{d}{dx} h(x)\n",
        "$"
      ],
      "metadata": {
        "id": "KW_IMprWPSd1"
      }
    },
    {
      "cell_type": "markdown",
      "source": [
        "# Solution\n",
        "h(x) = x⁴/√(x² + 4)\n",
        "\n",
        "\n",
        "1) Identify composite functions & differentiate\n",
        "\n",
        "* d/dx (ax^b) = bax^(b-1)\n",
        "\n",
        "* v(x) = x² + 4\n",
        "* u = v^(1/2)\n",
        "* dv/dx = v'(x) = 2x\n",
        "* du/dx = u'(x) = (1/2)·v^(-1/2)\n",
        "\n",
        "2) Apply the chain rule\n",
        "\n",
        "* d/dx (v(u)) = (dv/du)·(du/dx)\n",
        "\n",
        "* dv/dx = (dv/du)·(du/dx) = (2x)·(1/2·v^(-1/2)) = (2x)·(1/2)·(1/√(x²+4)) = x/√(x²+4)\n",
        "\n",
        "* f(x) = x⁴\n",
        "* g(x) = √(x²+4)\n",
        "\n",
        "* f'(x) = 4x³\n",
        "* g'(x) = x/√(x²+4) = x·√(x²+4)/(x²+4)\n",
        "\n",
        "3) Apply the quotient rule\n",
        "\n",
        "* d/dx (f/g) = (g·df/dx - f·dg/dx)/g²\n",
        "\n",
        "* d/dx (f/g) = (√(x²+4)·(4x³) - (x⁴)·(x·√(x²+4)/(x²+4)))/(√(x²+4))²\n",
        "\n",
        "* d/dx (f/g) = (4x³·√(x²+4) - (x⁵)·(1/√(x²+4)))/(x²+4)\n",
        "\n",
        "* d/dx (f/g) = 4x³·√(x²+4) - x⁵·(x²+4)^(-1/2) = 4x³(x²+4)^(1/2)-x⁵(x²+4)^(-1/2)\n"
      ],
      "metadata": {
        "id": "v62X-pL8R_3L"
      }
    }
  ]
}
