{
  "nbformat": 4,
  "nbformat_minor": 0,
  "metadata": {
    "colab": {
      "provenance": [],
      "authorship_tag": "ABX9TyOpttm/PCULGmM2vJnxbhhZ"
    },
    "kernelspec": {
      "name": "python3",
      "display_name": "Python 3"
    },
    "language_info": {
      "name": "python"
    }
  },
  "cells": [
    {
      "cell_type": "markdown",
      "source": [
        "# Differential Equations and Dynamical Systems\n",
        "\n",
        "This notebook will work through a simple population model as presented in lecture 4\n",
        "* The Simplest Ordinary Differential Equation (ODE) and Its Exponential Solution"
      ],
      "metadata": {
        "id": "r23oCPfjseba"
      }
    },
    {
      "cell_type": "markdown",
      "source": [
        "Our references are:\n",
        "* [Differential Equations and Dynamical Systems - Dr Steven L Brunton - YouTube Lectures](https://www.youtube.com/playlist?list=PLMrJAkhIeNNTYaOnVI3QpH7jgULnAmvPA)\n",
        "* [Matplotlib version 3.8](https://matplotlib.org/)\n",
        "* [Numpy version 1.26.0](https://numpy.org/)\n",
        "* [Python version 3.12.2](https://www.python.org/)"
      ],
      "metadata": {
        "id": "6GE6H5FRs2Er"
      }
    },
    {
      "cell_type": "markdown",
      "source": [
        "Given\n",
        "* Rabbit population = x\n",
        "* Growth rate = λ\n",
        "* Differential equation = $\\dot x $ = $\\frac{dx}{dt}$ = λ x\n",
        "\n",
        "Find\n",
        "* What is the rabbit population as a function of time?\n",
        "\n",
        "Solution\n",
        "* We will use a method that involves separating the variables, integrating, and exponentiating\n",
        "  * $\\frac{dx}{dt}$ = λ x\n",
        "  * $\\frac{dx}{x}$ = λ dt\n",
        "  * ∫ $\\frac{dx}{x}$ = ∫ λ dt\n",
        "  * ln(x) = λ t + C\n",
        "  * $e^{ln(x)}$ = $e^{λ t + C}$\n",
        "  * x = $e^{λ t + C}$\n",
        "    * $e^{a + b}$ = $e^a$ $e^b$\n",
        "  * x = $e^{λ t}$ $e^C$\n",
        "  * x = $e^{λ t}$ k\n",
        "\n"
      ],
      "metadata": {
        "id": "HVRGjOwPtotQ"
      }
    }
  ]
}