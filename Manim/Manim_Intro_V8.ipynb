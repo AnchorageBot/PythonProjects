{
  "nbformat": 4,
  "nbformat_minor": 0,
  "metadata": {
    "colab": {
      "provenance": [],
      "authorship_tag": "ABX9TyO1ZV4MY3QxJHm0upA4bUF7"
    },
    "kernelspec": {
      "name": "python3",
      "display_name": "Python 3"
    },
    "language_info": {
      "name": "python"
    }
  },
  "cells": [
    {
      "cell_type": "markdown",
      "source": [
        "Manim Hello World Notebook - October 12th, 2024\n",
        "* [How I animate 3Blue1Brown | A Manim demo with Ben Sparks](https://youtu.be/rbu7Zu5X1zI?si=Hg1j8e9MkHcZW59M)"
      ],
      "metadata": {
        "id": "SNEJ614pd-rn"
      }
    },
    {
      "cell_type": "markdown",
      "source": [
        "\n",
        "* [Manim Community Quickstart Website](https://docs.manim.community/en/stable/tutorials/quickstart.html)\n",
        "* [Manim Community Troubleshooting FAQ Website](https://docs.manim.community/en/stable/faq/index.html)"
      ],
      "metadata": {
        "id": "XXVn2l8PcvbG"
      }
    },
    {
      "cell_type": "markdown",
      "source": [
        "First try from the quick start website\n",
        "* Attempting to run the script yields:\n",
        "  * ModuleNotFoundError"
      ],
      "metadata": {
        "id": "OYhmknmTdlH-"
      }
    },
    {
      "cell_type": "code",
      "execution_count": 1,
      "metadata": {
        "colab": {
          "base_uri": "https://localhost:8080/",
          "height": 370
        },
        "id": "cUr1FdoLckqi",
        "outputId": "f8dae2d9-3645-4836-a661-f7b3618459a0"
      },
      "outputs": [
        {
          "output_type": "error",
          "ename": "ModuleNotFoundError",
          "evalue": "No module named 'manim'",
          "traceback": [
            "\u001b[0;31m---------------------------------------------------------------------------\u001b[0m",
            "\u001b[0;31mModuleNotFoundError\u001b[0m                       Traceback (most recent call last)",
            "\u001b[0;32m<ipython-input-1-21f226fafa00>\u001b[0m in \u001b[0;36m<cell line: 1>\u001b[0;34m()\u001b[0m\n\u001b[0;32m----> 1\u001b[0;31m \u001b[0;32mfrom\u001b[0m \u001b[0mmanim\u001b[0m \u001b[0;32mimport\u001b[0m \u001b[0;34m*\u001b[0m\u001b[0;34m\u001b[0m\u001b[0;34m\u001b[0m\u001b[0m\n\u001b[0m\u001b[1;32m      2\u001b[0m \u001b[0;34m\u001b[0m\u001b[0m\n\u001b[1;32m      3\u001b[0m \u001b[0;34m\u001b[0m\u001b[0m\n\u001b[1;32m      4\u001b[0m \u001b[0;32mclass\u001b[0m \u001b[0mCreateCircle\u001b[0m\u001b[0;34m(\u001b[0m\u001b[0mScene\u001b[0m\u001b[0;34m)\u001b[0m\u001b[0;34m:\u001b[0m\u001b[0;34m\u001b[0m\u001b[0;34m\u001b[0m\u001b[0m\n\u001b[1;32m      5\u001b[0m     \u001b[0;32mdef\u001b[0m \u001b[0mconstruct\u001b[0m\u001b[0;34m(\u001b[0m\u001b[0mself\u001b[0m\u001b[0;34m)\u001b[0m\u001b[0;34m:\u001b[0m\u001b[0;34m\u001b[0m\u001b[0;34m\u001b[0m\u001b[0m\n",
            "\u001b[0;31mModuleNotFoundError\u001b[0m: No module named 'manim'",
            "",
            "\u001b[0;31m---------------------------------------------------------------------------\u001b[0;32m\nNOTE: If your import is failing due to a missing package, you can\nmanually install dependencies using either !pip or !apt.\n\nTo view examples of installing some common dependencies, click the\n\"Open Examples\" button below.\n\u001b[0;31m---------------------------------------------------------------------------\u001b[0m\n"
          ],
          "errorDetails": {
            "actions": [
              {
                "action": "open_url",
                "actionText": "Open Examples",
                "url": "/notebooks/snippets/importing_libraries.ipynb"
              }
            ]
          }
        }
      ],
      "source": [
        "from manim import *\n",
        "\n",
        "\n",
        "class CreateCircle(Scene):\n",
        "    def construct(self):\n",
        "        circle = Circle()  # create a circle\n",
        "        circle.set_fill(PINK, opacity=0.5)  # set the color and transparency\n",
        "        self.play(Create(circle))  # show the circle on screen"
      ]
    }
  ]
}
