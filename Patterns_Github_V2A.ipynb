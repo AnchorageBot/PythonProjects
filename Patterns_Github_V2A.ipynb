{
  "nbformat": 4,
  "nbformat_minor": 0,
  "metadata": {
    "colab": {
      "provenance": [],
      "authorship_tag": "ABX9TyO3Jh4zEqc/Cq1V1lk+UfbQ"
    },
    "kernelspec": {
      "name": "python3",
      "display_name": "Python 3"
    },
    "language_info": {
      "name": "python"
    }
  },
  "cells": [
    {
      "cell_type": "markdown",
      "source": [
        "Pattern Analysis\n",
        "* Github numbers"
      ],
      "metadata": {
        "id": "crweWepifrZw"
      }
    },
    {
      "cell_type": "markdown",
      "source": [
        "Tutor\n",
        "* Anthropic's AI Claude"
      ],
      "metadata": {
        "id": "X8GL8gCMfw0i"
      }
    },
    {
      "cell_type": "code",
      "source": [
        "\"\"\"\n",
        "Abstract:\n",
        "This Python script creates a bar chart using Matplotlib to visualize the number of contributions\n",
        "over the years 2019-2024. It highlights 2024 as a partial year with a different color. The script\n",
        "also calculates and prints additional statistics including the average contributions per year,\n",
        "projected contributions for the full year 2024, and year-over-year growth rates. The visualization\n",
        "includes data labels, a legend for the partial year, and customized axes for improved readability.\n",
        "\"\"\"\n",
        "\n",
        "import matplotlib.pyplot as plt\n",
        "import numpy as np\n",
        "\n",
        "# Data points\n",
        "years = [2019, 2020, 2021, 2022, 2023, 2024]\n",
        "contributions = [30, 85, 154, 488, 2777, 3558]\n",
        "\n",
        "# Create the plot\n",
        "plt.figure(figsize=(12, 7))\n",
        "\n",
        "# Plot full years\n",
        "plt.bar(years[:-1], contributions[:-1], color='skyblue', width=0.6)\n",
        "\n",
        "# Plot partial year 2024\n",
        "plt.bar(years[-1], contributions[-1], color='lightgreen', width=0.6)\n",
        "\n",
        "# Customize the plot\n",
        "plt.title('Contributions Over Time', fontsize=16)\n",
        "plt.xlabel('Year', fontsize=12)\n",
        "plt.ylabel('Number of Contributions', fontsize=12)\n",
        "plt.grid(True, axis='y', linestyle='--', alpha=0.7)\n",
        "\n",
        "# Add data labels\n",
        "for i, value in enumerate(contributions):\n",
        "    plt.text(years[i], value, str(value), ha='center', va='bottom')\n",
        "\n",
        "# Annotate 2024 as partial year\n",
        "plt.annotate('Partial year\\n(9 months)', xy=(2024, contributions[-1]),\n",
        "             xytext=(10, 30), textcoords='offset points',\n",
        "             arrowprops=dict(arrowstyle=\"->\", connectionstyle=\"arc3,rad=.2\"))\n",
        "\n",
        "# Improve y-axis readability\n",
        "plt.yticks(np.arange(0, max(contributions)+500, 500))\n",
        "\n",
        "# Display the plot\n",
        "plt.tight_layout()\n",
        "plt.show()\n",
        "\n",
        "# Calculate and print additional statistics\n",
        "# Calculate average contributions for full years (2019-2023)\n",
        "full_years_avg = sum(contributions[:-1]) / len(contributions[:-1])\n",
        "\n",
        "# Project contributions for full year 2024 based on 9 months of data\n",
        "projected_2024 = (contributions[-1] / 9) * 12  # Extrapolate to 12 months\n",
        "\n",
        "print(f\"Average contributions per year (2019-2023): {full_years_avg:.2f}\")\n",
        "print(f\"Projected contributions for full year 2024: {projected_2024:.2f}\")\n",
        "\n",
        "print(f\"Year-over-year growth rates:\")\n",
        "for i in range(1, len(years)):\n",
        "    # Calculate growth rate as percentage increase from previous year\n",
        "    growth_rate = (contributions[i] - contributions[i-1]) / contributions[i-1] * 100\n",
        "    print(f\"{years[i-1]} to {years[i]}: {growth_rate:.2f}%\")"
      ],
      "metadata": {
        "id": "yy44vj6g3ZkB"
      },
      "execution_count": null,
      "outputs": []
    }
  ]
}