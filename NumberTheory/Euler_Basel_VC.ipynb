{
  "nbformat": 4,
  "nbformat_minor": 0,
  "metadata": {
    "colab": {
      "provenance": [],
      "authorship_tag": "ABX9TyM4gPX8t9eLmxebLn/7AAL9"
    },
    "kernelspec": {
      "name": "python3",
      "display_name": "Python 3"
    },
    "language_info": {
      "name": "python"
    }
  },
  "cells": [
    {
      "cell_type": "markdown",
      "source": [
        "Alois Schiessel's proof of the Basel Problem (irrationality of z(2))\n",
        "* arXiv:2303.07526 [math.HO]\n",
        "* In this paper, we propose a simple proof based on the Weierstrass Sine product formula and L'Hôpital's rule.\n",
        "* Leonhard Euler originally proved the irrationality of z(2) in 1734"
      ],
      "metadata": {
        "id": "M4fgFabqI0Fz"
      }
    },
    {
      "cell_type": "markdown",
      "source": [
        "Tutor: Anthropic's AI, Claude"
      ],
      "metadata": {
        "id": "UeuQ1UlgU4FH"
      }
    },
    {
      "cell_type": "markdown",
      "source": [
        "# The Basel Problem: A Solution Using Weierstrass Product Formula and L'Hôpital's Rule\n",
        "Based on Alois Schiessl's paper (2023)\n",
        "\n",
        "## Glossary\n",
        "\n",
        "| Symbol/Term | Meaning |\n",
        "|-------------|----------|\n",
        "| ζ(2) | Riemann zeta function for s=2, sum of reciprocals of squares |\n",
        "| π | Mathematical constant pi (≈3.14159...) |\n",
        "| sin(x) | Sine function |\n",
        "| cos(x) | Cosine function |\n",
        "| ln(x) | Natural logarithm |\n",
        "| lim(x→0) | Limit as x approaches 0 |\n",
        "| ∑ | Summation |\n",
        "| ∏ | Product |\n",
        "| k | Index variable for infinite series/products |\n",
        "| L'Hôpital's Rule | Method for evaluating limits involving 0/0 or ∞/∞ forms |\n",
        "| Weierstrass Product | Representation of entire functions as infinite products |\n",
        "\n",
        "## Problem Statement\n",
        "The Basel problem consists in finding the sum of the reciprocals of the squares of positive integers:\n",
        "\n",
        "∑(1/k²) = 1 + 1/4 + 1/9 + 1/16 + ...\n",
        "\n",
        "## Solution Steps\n",
        "\n",
        "1. Starting with Weierstrass factorization theorem:\n",
        "```\n",
        "sin(πx) = πx·∏(1 - x²/k²)  [Equation 1]\n",
        "```\n",
        "\n",
        "2. Take natural logarithm of both sides:\n",
        "```\n",
        "ln(sin(πx)) = ln(πx) + ∑ln(1 - x²/k²)  [Equation 2]\n",
        "```\n",
        "\n",
        "3. Differentiate with respect to x (assuming k² - x² ≠ 0):\n",
        "```\n",
        "π·cos(πx)/sin(πx) = 1/x + ∑(1/(1-x²/k²)·(-2x/k²))\n",
        "                  = 1/x - 2x∑(1/(k² - x²))  [Equation 3]\n",
        "```\n",
        "\n",
        "4. Rearrange to isolate the summation:\n",
        "```\n",
        "π·cos(πx)/sin(πx) - 1/x = -2x∑(1/(k² - x²))  [Equation 4]\n",
        "\n",
        "```\n",
        "\n",
        "(π·cos(πx)/sin(πx) - 1/x)·(-1/(2x)) = ∑(1/(k² - x²))  [Equation 5]\n",
        "```\n",
        "\n",
        "5. Convert to single fraction:\n",
        "```\n",
        "(sin(πx) - πx·cos(πx))/(2x²·sin(πx)) = ∑(1/(k² - x²))  [Equation 6]\n",
        "```\n",
        "\n",
        "6. Take limit as x approaches 0:\n",
        "Right side becomes:\n",
        "```\n",
        "∑(1/k²) = 1 + 1/2² + 1/3² + 1/4² + ...  [Equation 7]\n",
        "```\n",
        "Left side becomes indeterminate (0/0)  [Equation 8]\n",
        "\n",
        "7. Apply L'Hôpital's rule three times:\n",
        "\n",
        "First application:\n",
        "```\n",
        "lim(x→0) [π²x·sin(πx)/(4x·sin(πx) + 2πx²·cos(πx))] → 0/0  [Equations 10-11]\n",
        "```\n",
        "\n",
        "Second application:\n",
        "```\n",
        "lim(x→0) [π³cos(πx)x + π²sin(πx)]/(4sin(πx) + 8πcos(πx)x - 2π²x²sin(πx)) → 0/0  [Equations 12-13]\n",
        "```\n",
        "\n",
        "Third application:\n",
        "```\n",
        "lim(x→0) [2π³cos(πx) - π⁴x·sin(πx)]/[12π·cos(πx) - 12π²sin(πx)x - 2π³x²cos(πx)]  [Equations 14-15]\n",
        "```\n",
        "\n",
        "8. Evaluate at x = 0:\n",
        "```\n",
        "[2π³cos(0)]/[12π·cos(0)] = 2π³/12π = π²/6  [Equations 16-17]\n",
        "```\n",
        "\n",
        "## Conclusion\n",
        "Therefore:\n",
        "```\n",
        "∑(1/k²) = π²/6\n",
        "```\n",
        "\n",
        "This proves the Basel problem, showing that the sum of the reciprocals of the squares equals π²/6."
      ],
      "metadata": {
        "id": "KrWApG-HUvu9"
      }
    }
  ]
}
