{
  "nbformat": 4,
  "nbformat_minor": 0,
  "metadata": {
    "colab": {
      "provenance": [],
      "authorship_tag": "ABX9TyP0DXwnBMNEj8fAOJMfbSKz"
    },
    "kernelspec": {
      "name": "python3",
      "display_name": "Python 3"
    },
    "language_info": {
      "name": "python"
    }
  },
  "cells": [
    {
      "cell_type": "markdown",
      "source": [
        "Roger Apéry's proof of the irrationality of ζ(3) (the Riemann zeta function evaluated at 3)\n",
        "* 🚀 📚\n",
        "\n",
        "\n",
        "Tutor: Google's Gemini 2.0"
      ],
      "metadata": {
        "id": "2s7JWncweILP"
      }
    },
    {
      "cell_type": "markdown",
      "source": [
        "Okay, let's break down the formulas on this second page of Apéry's paper. He's starting to get into the specifics of applying his method to ζ(2) and ζ(3).\n",
        "\n",
        "**General Setup**\n",
        "\n",
        "*   **γ = 2 log λ - log μ**\n",
        "\n",
        "    This defines a value γ in terms of λ and μ, which are related to the convergence rates mentioned in the previous page. This γ will likely play a role in analyzing the approximations.\n",
        "\n",
        "*   **f(x) = Σ (a<sub>k</sub> x<sup>k</sup> / c<sub>k</sub>)**\n",
        "\n",
        "    This introduces a general function f(x) represented as a power series. The coefficients a<sub>k</sub> and c<sub>k</sub> will be important in the specific cases of ζ(2) and ζ(3).  Apéry notes this function could have a \"unitary development,\" meaning the c<sub>k</sub> terms might be related to factorials or rising factorials.\n",
        "\n",
        "**Studying ζ(2)**\n",
        "\n",
        "*   **k<sub>n</sub> =  ( (-1)<sup>k</sup> (k!)<sup>2</sup> ) / ( n(n-1)...(n-k+1) )**\n",
        "\n",
        "    This defines the coefficients k<sub>n</sub> that will be used in the linear combinations for approximating ζ(2). Notice the factorials and the product in the denominator, which is related to falling factorials.\n",
        "\n",
        "*   **u = (1, 3, 19, 147, 1251, 11253, ...)**\n",
        "\n",
        "    This is the sequence (u<sub>n</sub>) of denominators for the approximations of ζ(2).\n",
        "\n",
        "*   **(n+1)<sup>2</sup> u<sub>n+1</sub> - (11n<sup>2</sup> + 11n + 3) u<sub>n</sub> - n<sup>2</sup> u<sub>n-1</sub> = 0**\n",
        "\n",
        "    This is the recurrence relation that the sequence (u<sub>n</sub>) satisfies. This kind of recurrence is crucial for Apéry's method.\n",
        "\n",
        "*   **λ = 11 + 5√5**\n",
        "\n",
        "    This gives the value of λ, which is connected to the rate of convergence of the approximations for ζ(2). It's interesting to see the appearance of √5 here.\n",
        "\n",
        "*   **Irrationality measure of ζ(2)**\n",
        "\n",
        "    Apéry mentions that the irrationality measure of ζ(2) (which is π²/6) has been known since Euler. However, his method provides a new way to obtain this measure.\n",
        "\n",
        "**Studying ζ(3)**\n",
        "\n",
        "*   **k<sub>n</sub> = ( (-1)<sup>k-1</sup> (k!)<sup>2</sup> (n+k)! ) / ( n<sup>4</sup> (n-1)...(n-k+1) (k+1)<sup>2</sup> )**\n",
        "\n",
        "    This defines the coefficients k<sub>n</sub> for the approximations of ζ(3).  Again, we see factorials and products related to falling factorials, but the structure is more complex than the ζ(2) case.\n",
        "\n",
        "This page sets up the specific formulas Apéry will use to apply his general method to ζ(2) and ζ(3). The key elements are the carefully chosen coefficients (k<sub>n</sub>), the recurrence relations, and the values of λ that control the convergence of the approximations."
      ],
      "metadata": {
        "id": "csBmIamOV0sb"
      }
    }
  ]
}
