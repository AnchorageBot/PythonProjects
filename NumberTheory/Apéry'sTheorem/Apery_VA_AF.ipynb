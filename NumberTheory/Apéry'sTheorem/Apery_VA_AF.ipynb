{
  "nbformat": 4,
  "nbformat_minor": 0,
  "metadata": {
    "colab": {
      "provenance": [],
      "authorship_tag": "ABX9TyNTV0iIt4JwDOPXFpbR/FKq"
    },
    "kernelspec": {
      "name": "python3",
      "display_name": "Python 3"
    },
    "language_info": {
      "name": "python"
    }
  },
  "cells": [
    {
      "cell_type": "markdown",
      "source": [
        "Roger Apéry's proof of the irrationality of ζ(3) (the Riemann zeta function evaluated at 3)\n",
        "* 🚀 📚\n",
        "\n",
        "\n",
        "Tutor: Anthropic's AI Claude"
      ],
      "metadata": {
        "id": "2s7JWncweILP"
      }
    },
    {
      "cell_type": "markdown",
      "source": [
        "\"\"\"\n",
        "Title: Irrationality of ζ2 and ζ3\n",
        "Author: Roger Apéry\n",
        "Source: Société Mathématique de France, Astérisque 61 (1979) p. 11-13\n",
        "\n",
        "General Method:\n",
        "The method for proving irrationality of a real number α defined by partial sums σn\n",
        "of a series of rationals involves these steps:\n",
        "\n",
        "1. Replace sequence σn = u0,n with a double-indexed sequence uk,n where 0≤k≤n\n",
        "   such that for each k, uk,n converges to α faster than uk-1,n\n",
        "\n",
        "2. Set uk,n = tk,n/(n+k choose k)\n",
        "\n",
        "3. Bound the denominator of tk,n as a function of n only:\n",
        "   Show there exists sequence of integers pn where pn*tk,n is integer and pn ≤ μ^(n+ε)\n",
        "\n",
        "4. Perform same linear combination (depending on n) with integer coefficients on\n",
        "   column n of tk,n and (n+k choose k)\n",
        "\n",
        "5. Obtain sequence vn/un of fractions with rational numerator and integer denominator\n",
        "   Determine common limit λ of nth root of vn and un\n",
        "\n",
        "6. If lucky, λ > μ: can conclude irrationality\n",
        "   Can also deduce irrationality measure: for any integers p,q:\n",
        "   |p/q - α| > 1/(q^(1+ε))\n",
        "\n",
        "For ζ(2):\n",
        "- Series expansion: 1/n² = 1/(n(n-1)) - 1/(n(n-1)(n-2)) + ... + (-1)^(k-1)k!/(n(n-1)...(n-k+1)) + ...\n",
        "- μ = e²\n",
        "- un sequence: (1,3,19,147,1251,11253,...)\n",
        "- vn sequence: (0,5,125/4,...)\n",
        "- Recurrence: (n+1)²un+1 - (11n²+11n+3)un - (n-1)²un-1 = 0\n",
        "- λ = (11+5√5)/2\n",
        "- Irrationality of ζ(2)=π²/6 known since Euler, but method gives irrationality measure\n",
        "\n",
        "For ζ(3):\n",
        "- Series expansion: 1/n³ = 1/(n(n²-1)) - 1/(n(n²-1)(n²-4)) + ... + (-1)^k(k!)²/(n(n²-1)...(n²-(k+1)²)) + ...\n",
        "- Expression: ζ(3) = 5/2 Σ (-1)^(n-1)/(n³(2n choose n))\n",
        "- μ = e³\n",
        "- un sequence: (1,5,73,1445,33001,...)\n",
        "- vn sequence: (0,6,351/4,62531/36,...)\n",
        "- Recurrence: (n+1)³un+1 - (34n³+51n²+27n+5)un + n³un-1 = 0\n",
        "- λ = 17+12√2\n",
        "\n",
        "Author contact:\n",
        "Roger APERY\n",
        "Département de Mathématiques\n",
        "Esplanade de la Paix\n",
        "14032 CAEN CEDEX\n",
        "\"\"\""
      ],
      "metadata": {
        "id": "E6gyM0i6P1C0"
      }
    },
    {
      "cell_type": "markdown",
      "source": [
        "In Apéry's paper, he primarily used special series transformations and identities rather than standard arithmetic or geometric series. Here are the key series he used:\n",
        "\n",
        "1. For ζ(2), he used the series expansion:\n",
        "```\n",
        "1/n² = 1/(n(n-1)) - 1/(n(n-1)(n-2)) + ... + (-1)^(k-1)k!/(n(n-1)...(n-k+1)) + ...\n",
        "```\n",
        "\n",
        "2. For ζ(3), he used:\n",
        "```\n",
        "1/n³ = 1/(n(n²-1)) - 1/(n(n²-1)(n²-4)) + ... + (-1)^k(k!)²/(n(n²-1)...(n²-(k+1)²)) + ...\n",
        "```\n",
        "\n",
        "3. Most importantly, for ζ(3) he discovered the crucial representation:\n",
        "```\n",
        "ζ(3) = 5/2 Σ (-1)^(n-1)/(n³(2n choose n))\n",
        "```\n",
        "\n",
        "Key characteristics of these series:\n",
        "- They're not arithmetic or geometric series\n",
        "- They involve binomial coefficients and factorial terms\n",
        "- They converge much faster than the original harmonic series definitions\n",
        "- They maintain important number-theoretic properties needed for the irrationality proof\n",
        "- The denominators are carefully constructed to control growth rates and maintain integer properties\n",
        "\n",
        "The brilliance of Apéry's work was finding these particular series representations that:\n",
        "1. Converge rapidly\n",
        "2. Maintain integer properties crucial for the irrationality proof\n",
        "3. Allow for explicit irrationality measures to be computed\n",
        "\n"
      ],
      "metadata": {
        "id": "R5Hrp0uOR85y"
      }
    }
  ]
}
