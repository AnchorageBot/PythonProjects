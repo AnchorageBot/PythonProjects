{
  "nbformat": 4,
  "nbformat_minor": 0,
  "metadata": {
    "colab": {
      "provenance": [],
      "authorship_tag": "ABX9TyPf30w9x2K9WcdqftJB6M2q"
    },
    "kernelspec": {
      "name": "python3",
      "display_name": "Python 3"
    },
    "language_info": {
      "name": "python"
    }
  },
  "cells": [
    {
      "cell_type": "markdown",
      "source": [
        "Alois Schiessel's proof of the Basel Problem (irrationality of z(2))\n",
        "* arXiv:2303.07526 [math.HO]\n",
        "* In this paper, we propose a simple proof based on the Weierstrass Sine product formula and L'Hôpital's rule.\n",
        "* The problem was posed by Pietro Mengoli in 1650\n",
        "* Leonhard Euler originally proved the irrationality of z(2) in 1734"
      ],
      "metadata": {
        "id": "M4fgFabqI0Fz"
      }
    },
    {
      "cell_type": "markdown",
      "source": [
        "Tutor: Open AI's ChatGPT"
      ],
      "metadata": {
        "id": "5C8reMA2VUMi"
      }
    },
    {
      "cell_type": "markdown",
      "source": [
        "# Equations from the Basel Problem Proof\n",
        "\n",
        "1. $$ \\sin(\\pi x) = \\pi x \\prod_{k=1}^\\infty \\left( 1 - \\frac{x^2}{k^2} \\right) $$\n",
        "\n",
        "2. $$ \\ln(\\sin(\\pi x)) = \\ln(\\pi x) + \\sum_{k=1}^\\infty \\ln\\left( 1 - \\frac{x^2}{k^2} \\right) $$\n",
        "\n",
        "3. $$ \\frac{\\pi \\cos(\\pi x)}{\\sin(\\pi x)} = \\frac{1}{x} + \\sum_{k=1}^\\infty \\left( \\frac{1}{1 - \\frac{x^2}{k^2}} \\cdot \\frac{-2x}{k^2} \\right) = \\frac{1}{x} - 2x \\sum_{k=1}^\\infty \\frac{1}{k^2 - x^2} $$\n",
        "\n",
        "4. $$ \\frac{\\pi \\cos(\\pi x)}{\\sin(\\pi x)} - \\frac{1}{x} = -2x \\sum_{k=1}^\\infty \\frac{1}{k^2 - x^2} $$\n",
        "\n",
        "5. $$ \\left( \\frac{\\pi \\cos(\\pi x)}{\\sin(\\pi x)} - \\frac{1}{x} \\right) \\cdot \\frac{-1}{2x} = \\sum_{k=1}^\\infty \\frac{1}{k^2 - x^2} $$\n",
        "\n",
        "6. $$ \\frac{\\sin(\\pi x) - \\pi x \\cos(\\pi x)}{2x^2 \\sin(\\pi x)} = \\sum_{k=1}^\\infty \\frac{1}{k^2 - x^2}, \\quad k^2 - x^2 \\neq 0 $$\n",
        "\n",
        "7. $$ \\sum_{k=1}^\\infty \\frac{1}{k^2} = 1 + \\frac{1}{2^2} + \\frac{1}{3^2} + \\frac{1}{4^2} + \\cdots $$\n",
        "\n",
        "8. $$ \\lim_{x \\to 0} \\frac{\\sin(\\pi x) - \\pi x \\cos(\\pi x)}{2x^2 \\sin(\\pi x)} \\to \\frac{0}{0} $$\n",
        "\n",
        "9. $$ \\lim_{x \\to 0} \\frac{\\sin(\\pi x) - \\pi x \\cos(\\pi x)}{2x^2 \\sin(\\pi x)} $$\n",
        "\n",
        "10. $$ \\lim_{x \\to 0} \\frac{\\sin(\\pi x) - \\pi x \\cos(\\pi x)}{2x^2 \\sin(\\pi x)} = \\lim_{x \\to 0} \\frac{\\pi^2 x \\sin(\\pi x)}{4x \\sin(\\pi x) + 2\\pi x^2 \\cos(\\pi x)} \\to \\frac{0}{0} $$\n",
        "\n",
        "11. $$ \\lim_{x \\to 0} \\frac{\\sin(\\pi x) - \\pi x \\cos(\\pi x)}{2x^2 \\sin(\\pi x)} = \\lim_{x \\to 0} \\frac{\\pi^3 \\cos(\\pi x) x + \\pi^2 \\sin(\\pi x)}{4\\sin(\\pi x) + 8\\pi \\cos(\\pi x)x - 2\\pi x^2 \\sin(\\pi x)} \\to \\frac{0}{0} $$\n",
        "\n",
        "12. $$ \\lim_{x \\to 0} \\frac{\\sin(\\pi x) - \\pi x \\cos(\\pi x)}{2x^2 \\sin(\\pi x)} $$\n",
        "\n",
        "13. $$ \\lim_{x \\to 0} \\frac{\\sin(\\pi x) - \\pi x \\cos(\\pi x)}{2x^2 \\sin(\\pi x)} = \\lim_{x \\to 0} \\frac{2\\pi^3 \\cos(\\pi x) - \\pi^4 \\sin(\\pi x)}{12\\pi \\cos(\\pi x) - 12\\pi^2 \\sin(\\pi x) x - 2\\pi^3 x^2 \\cos(\\pi x)} $$\n",
        "\n",
        "14. $$ \\frac{2\\pi^3}{12\\pi} = \\frac{\\pi^2}{6} $$\n",
        "\n",
        "15. $$ \\sum_{k=1}^\\infty \\frac{1}{k^2} = \\frac{\\pi^2}{6} $$\n"
      ],
      "metadata": {
        "id": "IT0iYK9-rdY6"
      }
    }
  ]
}
