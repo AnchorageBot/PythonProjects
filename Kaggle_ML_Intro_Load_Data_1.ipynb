{
  "nbformat": 4,
  "nbformat_minor": 0,
  "metadata": {
    "colab": {
      "provenance": [],
      "authorship_tag": "ABX9TyNOJOPnooyyu6bgjURu/VSO"
    },
    "kernelspec": {
      "name": "python3",
      "display_name": "Python 3"
    },
    "language_info": {
      "name": "python"
    }
  },
  "cells": [
    {
      "cell_type": "markdown",
      "source": [
        "# Kaggle Intro to Machine Learning\n",
        "\n"
      ],
      "metadata": {
        "id": "bVyvzZpcOpi_"
      }
    },
    {
      "cell_type": "markdown",
      "source": [
        "\n",
        "This script will import a csv file\n",
        "1.   Download the [Kaggle Melbourne Housing Data](https://www.kaggle.com/datasets/dansbecker/melbourne-housing-snapshot) to your desktop\n",
        "2.   Run the script\n",
        "3.   Select the file to upload it to Google Colab from your desktop\n",
        "\n",
        "\n",
        "\n"
      ],
      "metadata": {
        "id": "lOT0H840O7xQ"
      }
    },
    {
      "cell_type": "code",
      "execution_count": null,
      "metadata": {
        "id": "w5ppXfKGOo68"
      },
      "outputs": [],
      "source": [
        "from google.colab import files\n",
        "uploaded = files.upload()"
      ]
    },
    {
      "cell_type": "markdown",
      "source": [
        "This script will examine the file you uploaded from your desktop"
      ],
      "metadata": {
        "id": "72Xp-dgZQ2fO"
      }
    },
    {
      "cell_type": "code",
      "source": [
        "print (uploaded['melb_data.csv.csv'][:200].decode('utf-8') + '...')"
      ],
      "metadata": {
        "id": "iMxBAVp8Q6S9"
      },
      "execution_count": null,
      "outputs": []
    },
    {
      "cell_type": "markdown",
      "source": [
        "This script will use Pandas to examine the file"
      ],
      "metadata": {
        "id": "vwHj43iwUiff"
      }
    },
    {
      "cell_type": "code",
      "source": [
        "import pandas as pd\n",
        "import io\n",
        "\n",
        "df = pd.read_csv(io.StringIO(uploaded['melb_data.csv'].decode('utf-8')))\n",
        "df"
      ],
      "metadata": {
        "id": "33AsMaiwUokK"
      },
      "execution_count": null,
      "outputs": []
    }
  ]
}