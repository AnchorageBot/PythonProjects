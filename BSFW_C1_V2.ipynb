{
  "nbformat": 4,
  "nbformat_minor": 0,
  "metadata": {
    "colab": {
      "provenance": [],
      "authorship_tag": "ABX9TyMLOxH4UaK/OHeW+BO2NkEd"
    },
    "kernelspec": {
      "name": "python3",
      "display_name": "Python 3"
    },
    "language_info": {
      "name": "python"
    }
  },
  "cells": [
    {
      "cell_type": "markdown",
      "source": [
        "# Bayesian Statistics The Fun Way\n",
        "\n",
        "This notebook works through the Chapter 1 example about the Mandela Effect"
      ],
      "metadata": {
        "id": "65ODGBZO_2H3"
      }
    },
    {
      "cell_type": "markdown",
      "source": [
        "Our References:\n",
        "* [Bayesian Statistics The Fun Way - Will Kurt](https://nostarch.com/learnbayes)\n",
        "* Wikipedia - [Mandela Effect](https://en.wikipedia.org/wiki/False_memory#Mandela_effect)"
      ],
      "metadata": {
        "id": "U1uycsiUAC9A"
      }
    },
    {
      "cell_type": "markdown",
      "source": [
        "Mandela Effect Example\n",
        "* Given\n",
        "  * The Mandela Effect describes when large groups of people misremember events\n",
        "  * Two people have a hypothesis about whether or not a Wiki article about the Mandela Effect exists\n",
        "    * $H _{NoArticle}$ = 100\n",
        "    * $H _{ArticleExists}$ = 5\n",
        "  * The probability that an *article exists* plus the probability that there is *no article* = 1 = 100%\n",
        "    * $p(H _{ArticleExists}) + p(H _{NoArticle}) = 1$\n",
        "  * Probabilities and odds are related\n",
        "  * Odds are expressed as a ratio and often use the symbols *m* to *n*\n",
        "    * *m* = 100\n",
        "    * *n* = 5\n",
        "* Find\n",
        "  * Equations that *describe the hypothesis* that a Wiki article about *the Mandela Effect does not exist* in terms of odds and probabilities\n",
        "* Solution\n",
        "  * Odds\n",
        "   * $\\frac{m}{n} = \\frac{100}{5}$ =\n",
        "   * *m* to *n* = 20 to 1 = $H _{NoArticle}$\n",
        "   * $\\frac{1}{20} =0.05$ = $H _{ArticleExists}$\n",
        "  * Probabilities\n",
        "   * $\\frac{p(H _{NoArticle})}{p(H _{ArticleExists})} = \\frac{100}{5} = 20$\n",
        "\n",
        "   * $p(H _{NoArticle}) = (20)(p(H _{ArticleExists}))$\n",
        "\n",
        "     * $p(H _{ArticleExists}) + p(H _{NoArticle}) = 1$\n",
        "     \n",
        "     * $p(H _{ArticleExists}) = 1 - p(H _{NoArticle})$\n",
        "\n",
        "   * $p(H _{NoArticle}) = (20)(1 - p(H _{NoArticle}))$\n",
        "\n",
        "     * $(21)(p(H _{NoArticle})) = (20)$\n",
        "\n",
        "   * $p(H _{NoArticle}) = \\frac{20}{21}$ = 0.95\n",
        "\n",
        "     * $p(H _{ArticleExists}) = 1 - p(H _{NoArticle})$ = 0.05\n",
        "         "
      ],
      "metadata": {
        "id": "abnYOdm7AWOt"
      }
    },
    {
      "cell_type": "markdown",
      "source": [
        "The hypothesis about the Mandella Effect was wrong, as there is a Wiki article about this phenomenon\n",
        "* [Mandela Effect](https://en.wikipedia.org/wiki/False_memory#Mandela_effect)\n",
        "* Specific false memories can sometimes be shared by a large group of people."
      ],
      "metadata": {
        "id": "d6LAhXtDjzzc"
      }
    }
  ]
}