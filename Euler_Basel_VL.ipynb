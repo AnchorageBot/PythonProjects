{
  "nbformat": 4,
  "nbformat_minor": 0,
  "metadata": {
    "colab": {
      "provenance": [],
      "authorship_tag": "ABX9TyP8ZBc7i93JragDYKQ6Zfoc"
    },
    "kernelspec": {
      "name": "python3",
      "display_name": "Python 3"
    },
    "language_info": {
      "name": "python"
    }
  },
  "cells": [
    {
      "cell_type": "markdown",
      "source": [
        "Leonhard Euler's proof of the Basel Problem (irrationality of z(2))\n",
        "* The problem was posed by Pietro Mengoli in 1650\n",
        "* Leonhard Euler originally proved the irrationality of z(2) in 1734"
      ],
      "metadata": {
        "id": "M4fgFabqI0Fz"
      }
    },
    {
      "cell_type": "markdown",
      "source": [
        "Tutor: Open AI's ChatGPT"
      ],
      "metadata": {
        "id": "5C8reMA2VUMi"
      }
    },
    {
      "cell_type": "markdown",
      "source": [
        "| Symbol/Expression | Description                                                                 |\n",
        "|--------------------|-----------------------------------------------------------------------------|\n",
        "| ∑                 | Summation notation, representing the sum of a series of terms.             |\n",
        "| ∏                 | Product notation, representing the product of a series of terms.           |\n",
        "| π                 | Mathematical constant, approximately 3.14159, representing the circle ratio. |\n",
        "| ∞                 | Infinity, representing an unbounded limit.                                 |\n",
        "| k²                | Square of the index variable \\(k\\).                                         |\n",
        "| sin(x)            | Sine function, a trigonometric function representing the y-coordinate on the unit circle. |\n",
        "| cos(x)            | Cosine function, a trigonometric function representing the x-coordinate on the unit circle. |\n",
        "| ln(x)             | Natural logarithm, the logarithm to the base \\(e\\).                        |\n",
        "| lim(x→0)          | Limit as \\(x\\) approaches 0, a fundamental concept in calculus.            |\n",
        "| 1/k²              | Reciprocal of the square of \\(k\\), used in the Basel Problem series.       |\n",
        "| π²/6              | Exact value of the Basel Problem series, proven by Euler.                  |\n",
        "| ζ(s)              | Riemann zeta function, summing the reciprocals of \\(k^s\\).                 |\n",
        "| x                 | Real variable used throughout the proof.                                   |\n",
        "| k                 | Index variable for summations and products.                                |\n",
        "| L’Hôpital’s Rule  | Calculus rule used to resolve indeterminate forms (e.g., \\(0/0\\), \\(∞/∞\\)). |\n",
        "| Weierstrass Product | Representation of entire functions as infinite products.                  |\n"
      ],
      "metadata": {
        "id": "Oovbi3OEz0EK"
      }
    },
    {
      "cell_type": "markdown",
      "source": [
        "## Euler's Original Proof\n",
        "\n",
        "### Step 1: Infinite Product Representation of sin(x)\n",
        "\n",
        "Euler began with the infinite product representation of the sine function:\n",
        "\n",
        "sin(x) = x ∏_{k=1}^∞ (1 - x² / k²π²).\n",
        "\n",
        "This represents sin(x) as a product based on its roots at (x = kπ) for (k = ±1, ±2, ±3, …).\n",
        "\n",
        "---\n",
        "\n",
        "### Step 2: Taylor Series for sin(x)\n",
        "\n",
        "The Taylor series for sin(x) is:\n",
        "\n",
        "sin(x) = x - x³ / 3! + x⁵ / 5! - x⁷ / 7! + ⋯.\n",
        "\n",
        "---\n",
        "\n",
        "### Step 3: Compare the Two Representations\n",
        "\n",
        "Both representations describe the same function. Euler compared the coefficients of x³ in these expansions.\n",
        "\n",
        "---\n",
        "\n",
        "### Step 4: Expand the Infinite Product\n",
        "\n",
        "Expand the infinite product while keeping only the lower-order terms:\n",
        "\n",
        "sin(x) = x (1 - x² / π² - x² / 2²π² - x² / 3²π² - ⋯).\n",
        "\n",
        "The coefficient of x³ (after dividing by x) is:\n",
        "\n",
        "- (1 / π² + 1 / 2²π² + 1 / 3²π² + ⋯).\n",
        "\n",
        "---\n",
        "\n",
        "### Step 5: Coefficient from the Taylor Series\n",
        "\n",
        "In the Taylor series, the coefficient of x³ is:\n",
        "\n",
        "-1 / 3! = -1 / 6.\n",
        "\n",
        "---\n",
        "\n",
        "### Step 6: Equate the Coefficients\n",
        "\n",
        "Equate the coefficients of x³:\n",
        "\n",
        "1 / π² ∑_{k=1}^∞ (1 / k²) = 1 / 6.\n",
        "\n",
        "---\n",
        "\n",
        "### Step 7: Solve for the Infinite Sum\n",
        "\n",
        "Multiply through by π²:\n",
        "\n",
        "∑_{k=1}^∞ (1 / k²) = π² / 6.\n",
        "\n",
        "---\n",
        "\n",
        "## Conclusion\n",
        "\n",
        "Euler concluded that the sum of the reciprocals of the squares of the positive integers is:\n",
        "\n",
        "ζ(2) = ∑_{k=1}^∞ (1 / k²) = π² / 6.\n"
      ],
      "metadata": {
        "id": "ZOAINjbU0-VG"
      }
    }
  ]
}