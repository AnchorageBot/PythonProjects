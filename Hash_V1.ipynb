{
  "nbformat": 4,
  "nbformat_minor": 0,
  "metadata": {
    "colab": {
      "provenance": [],
      "authorship_tag": "ABX9TyOUbjOCbpX63aWSypiqRp39"
    },
    "kernelspec": {
      "name": "python3",
      "display_name": "Python 3"
    },
    "language_info": {
      "name": "python"
    }
  },
  "cells": [
    {
      "cell_type": "markdown",
      "source": [
        "# Python Hash Functions\n",
        "\n",
        "This notebook will look at hash function examples from the python documentation"
      ],
      "metadata": {
        "id": "cYzgGRgYOMm1"
      }
    },
    {
      "cell_type": "markdown",
      "source": [
        "A hash function is any function that can be used to map data of arbitrary size to fixed-size values, though there are some hash functions that support variable length output. The values returned by a hash function are called hash values, hash codes, hash digests, digests, or simply hashes."
      ],
      "metadata": {
        "id": "JF0A0M-xO_UC"
      }
    },
    {
      "cell_type": "markdown",
      "source": [
        "Our references:\n",
        "* [hashlib — Secure hashes and message digests - Python Docs](https://docs.python.org/3/library/hashlib.html)\n",
        "* [Python 3.12.2](https://www.python.org/)"
      ],
      "metadata": {
        "id": "hUwN1DT4OcUP"
      }
    },
    {
      "cell_type": "markdown",
      "source": [
        "This module implements a common interface to many different secure hash and message digest algorithms. Included are the FIPS secure hash algorithms SHA1, SHA224, SHA256, SHA384, SHA512, (defined in the FIPS 180-4 standard), the SHA-3 series (defined in the FIPS 202 standard) as well as RSA’s MD5 algorithm (defined in internet RFC 1321). The terms “secure hash” and “message digest” are interchangeable. Older algorithms were called message digests. The modern term is secure hash."
      ],
      "metadata": {
        "id": "4WVjCwwWOvWL"
      }
    },
    {
      "cell_type": "code",
      "execution_count": 1,
      "metadata": {
        "colab": {
          "base_uri": "https://localhost:8080/"
        },
        "id": "V1z6r0z6OIUy",
        "outputId": "820f7000-1e2c-4bbc-8245-2953ad229d7f"
      },
      "outputs": [
        {
          "output_type": "execute_result",
          "data": {
            "text/plain": [
              "b'\\x03\\x1e\\xdd}Ae\\x15\\x93\\xc5\\xfe\\\\\\x00o\\xa5u+7\\xfd\\xdf\\xf7\\xbcN\\x84:\\xa6\\xaf\\x0c\\x95\\x0fK\\x94\\x06'"
            ]
          },
          "metadata": {},
          "execution_count": 1
        }
      ],
      "source": [
        "import hashlib\n",
        "m = hashlib.sha256()\n",
        "m.update(b\"Nobody inspects\")\n",
        "m.update(b\" the spammish repetition\")\n",
        "m.digest()"
      ]
    }
  ]
}