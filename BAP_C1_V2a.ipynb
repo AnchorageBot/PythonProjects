{
  "nbformat": 4,
  "nbformat_minor": 0,
  "metadata": {
    "colab": {
      "provenance": [],
      "authorship_tag": "ABX9TyOo6FuPifmJcVsmPlS+41Ox"
    },
    "kernelspec": {
      "name": "python3",
      "display_name": "Python 3"
    },
    "language_info": {
      "name": "python"
    }
  },
  "cells": [
    {
      "cell_type": "markdown",
      "source": [
        "# Bayesian Analysis with Python - Chapter 1\n",
        "\n",
        "This notebook will take a look at some ArviZ example gallery matplotlib styles"
      ],
      "metadata": {
        "id": "rsZuqDl3KKC2"
      }
    },
    {
      "cell_type": "markdown",
      "source": [
        "Our references include:\n",
        "* ArviZ, version 0.17.0\n",
        "* Matplotlib, version 3.8\n",
        "* Numpy, version 1.26\n",
        "* Python, version 3.12.1\n",
        "* SciPy, version 1.12.0"
      ],
      "metadata": {
        "id": "xNBOlv73Kl-R"
      }
    },
    {
      "cell_type": "markdown",
      "source": [
        "This script will load libraries needed for this notebook"
      ],
      "metadata": {
        "id": "RSowcslXMWDO"
      }
    },
    {
      "cell_type": "code",
      "execution_count": null,
      "metadata": {
        "id": "G97b_OVtKDqp"
      },
      "outputs": [],
      "source": [
        "# Load libraries\n",
        "\n",
        "import arviz as az\n",
        "import matplotlib.pyplot as plt\n",
        "import numpy as np\n",
        "from scipy import stats"
      ]
    },
    {
      "cell_type": "markdown",
      "source": [
        "This script will graph example gallery matplotlib styles by:\n",
        "* Returning num evenly spaced samples, calculated over the interval [start, stop] using the method: numpy.linspace"
      ],
      "metadata": {
        "id": "QoPwyHc8Ml3J"
      }
    },
    {
      "cell_type": "code",
      "source": [],
      "metadata": {
        "id": "ZpPcbovvNFN8"
      },
      "execution_count": null,
      "outputs": []
    }
  ]
}