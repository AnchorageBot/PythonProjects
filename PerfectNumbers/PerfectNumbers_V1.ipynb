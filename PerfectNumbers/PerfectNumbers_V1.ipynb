{
  "nbformat": 4,
  "nbformat_minor": 0,
  "metadata": {
    "colab": {
      "provenance": [],
      "authorship_tag": "ABX9TyMRq6n7XO1BmCOPcvLE+L5+"
    },
    "kernelspec": {
      "name": "python3",
      "display_name": "Python 3"
    },
    "language_info": {
      "name": "python"
    }
  },
  "cells": [
    {
      "cell_type": "markdown",
      "source": [
        "Perfect Numbers\n",
        "\n",
        "\n"
      ],
      "metadata": {
        "id": "fYd0t9giq8m0"
      }
    },
    {
      "cell_type": "markdown",
      "source": [
        "Tutors:\n",
        "* Google's AI, Gemini 2.0 Experimental\n",
        "* [The Oldest Unsolved Problem in Math - Veritasium - YouTube](https://youtu.be/Zrv1EDIqHkY?si=vbkaICySIFlnOVsT)"
      ],
      "metadata": {
        "id": "EdeWIQJf1S2J"
      }
    },
    {
      "cell_type": "markdown",
      "source": [
        "In number theory, a perfect number is a positive integer that is equal to the sum of its positive proper divisors, that is, divisors excluding the number itself.\n",
        "\n",
        "It is not known whether there are any odd perfect numbers, nor whether infinitely many perfect numbers exist.\n",
        "\n",
        "Theorem: If 2<sup>p </sup> - 1 is prime, then (2<sup>p - 1</sup>)(2<sup>p</sup> - 1) is perfect.\n",
        "\n",
        "* (6, 28, 496, 8128, ...)\n",
        "\n",
        "* Euclid's Elements (VII.22)\n",
        "\n",
        "* Nicomachus\n",
        "\n",
        "* Mersenne\n",
        "\n",
        "* Euler\n",
        "\n",
        "* Wiki"
      ],
      "metadata": {
        "id": "I8Dp1YLArKbL"
      }
    },
    {
      "cell_type": "markdown",
      "source": [
        "Theorem: If 2<sup>p </sup> - 1 is prime, then (2<sup>p - 1</sup>)(2<sup>p</sup> - 1) is perfect.\n",
        "\n",
        "* When p = 2: 2<sup>1</sup>(2<sup>2</sup> - 1) = 2 × 3 = 6\n",
        "* When p = 3: 2<sup>2</sup>(2<sup>3</sup> - 1) = 4 × 7 = 28\n",
        "* When p = 5: 2<sup>4</sup>(2<sup>5</sup> - 1) = 16 × 31 = 496\n",
        "* When p = 7: 2<sup>6</sup>(2<sup>7</sup> - 1) = 64 × 127 = 8128"
      ],
      "metadata": {
        "id": "Cg8W6ntHtrGJ"
      }
    },
    {
      "cell_type": "code",
      "execution_count": null,
      "metadata": {
        "colab": {
          "base_uri": "https://localhost:8080/",
          "height": 462
        },
        "id": "GHqd2eE8q6hi",
        "outputId": "11368a79-0d34-4266-e308-5ea765b32212"
      },
      "outputs": [
        {
          "output_type": "stream",
          "name": "stdout",
          "text": [
            "Perfect numbers up to 5 (using Euclid-Euler): [6]\n",
            "\n",
            "Demonstrating the Euclid-Euler theorem:\n",
            "p = 2: 2^(2-1) * (2^2 - 1) = 6 (Perfect: True)\n",
            "p = 3: 2^(3-1) * (2^3 - 1) = 28 (Perfect: True)\n",
            "p = 5: 2^(5-1) * (2^5 - 1) = 496 (Perfect: True)\n",
            "p = 7: 2^(7-1) * (2^7 - 1) = 8128 (Perfect: True)\n",
            "p = 13: 2^(13-1) * (2^13 - 1) = 33550336 (Perfect: True)\n"
          ]
        },
        {
          "output_type": "error",
          "ename": "KeyboardInterrupt",
          "evalue": "",
          "traceback": [
            "\u001b[0;31m---------------------------------------------------------------------------\u001b[0m",
            "\u001b[0;31mKeyboardInterrupt\u001b[0m                         Traceback (most recent call last)",
            "\u001b[0;32m<ipython-input-1-ce3e02285634>\u001b[0m in \u001b[0;36m<cell line: 100>\u001b[0;34m()\u001b[0m\n\u001b[1;32m    102\u001b[0m     \u001b[0;32mif\u001b[0m \u001b[0mis_prime\u001b[0m\u001b[0;34m(\u001b[0m\u001b[0mmersenne_prime\u001b[0m\u001b[0;34m)\u001b[0m\u001b[0;34m:\u001b[0m\u001b[0;34m\u001b[0m\u001b[0;34m\u001b[0m\u001b[0m\n\u001b[1;32m    103\u001b[0m         \u001b[0mperfect_number\u001b[0m \u001b[0;34m=\u001b[0m \u001b[0;34m(\u001b[0m\u001b[0;36m2\u001b[0m\u001b[0;34m**\u001b[0m\u001b[0;34m(\u001b[0m\u001b[0mp\u001b[0m \u001b[0;34m-\u001b[0m \u001b[0;36m1\u001b[0m\u001b[0;34m)\u001b[0m\u001b[0;34m)\u001b[0m \u001b[0;34m*\u001b[0m \u001b[0mmersenne_prime\u001b[0m\u001b[0;34m\u001b[0m\u001b[0;34m\u001b[0m\u001b[0m\n\u001b[0;32m--> 104\u001b[0;31m         \u001b[0mprint\u001b[0m\u001b[0;34m(\u001b[0m\u001b[0;34mf\"p = {p}: 2^({p}-1) * (2^{p} - 1) = {perfect_number} (Perfect: {is_perfect(perfect_number)})\"\u001b[0m\u001b[0;34m)\u001b[0m\u001b[0;34m\u001b[0m\u001b[0;34m\u001b[0m\u001b[0m\n\u001b[0m\u001b[1;32m    105\u001b[0m     \u001b[0;32melse\u001b[0m\u001b[0;34m:\u001b[0m\u001b[0;34m\u001b[0m\u001b[0;34m\u001b[0m\u001b[0m\n\u001b[1;32m    106\u001b[0m         \u001b[0mprint\u001b[0m\u001b[0;34m(\u001b[0m\u001b[0;34mf\"p = {p}: 2^{p} - 1 = {mersenne_prime} is not prime\"\u001b[0m\u001b[0;34m)\u001b[0m\u001b[0;34m\u001b[0m\u001b[0;34m\u001b[0m\u001b[0m\n",
            "\u001b[0;32m<ipython-input-1-ce3e02285634>\u001b[0m in \u001b[0;36mis_perfect\u001b[0;34m(n)\u001b[0m\n\u001b[1;32m     47\u001b[0m     \u001b[0mdivisors_sum\u001b[0m \u001b[0;34m=\u001b[0m \u001b[0;36m0\u001b[0m\u001b[0;34m\u001b[0m\u001b[0;34m\u001b[0m\u001b[0m\n\u001b[1;32m     48\u001b[0m     \u001b[0;32mfor\u001b[0m \u001b[0mi\u001b[0m \u001b[0;32min\u001b[0m \u001b[0mrange\u001b[0m\u001b[0;34m(\u001b[0m\u001b[0;36m1\u001b[0m\u001b[0;34m,\u001b[0m \u001b[0mn\u001b[0m\u001b[0;34m)\u001b[0m\u001b[0;34m:\u001b[0m  \u001b[0;31m# Iterate through potential divisors\u001b[0m\u001b[0;34m\u001b[0m\u001b[0;34m\u001b[0m\u001b[0m\n\u001b[0;32m---> 49\u001b[0;31m         \u001b[0;32mif\u001b[0m \u001b[0mn\u001b[0m \u001b[0;34m%\u001b[0m \u001b[0mi\u001b[0m \u001b[0;34m==\u001b[0m \u001b[0;36m0\u001b[0m\u001b[0;34m:\u001b[0m  \u001b[0;31m# If i is a divisor\u001b[0m\u001b[0;34m\u001b[0m\u001b[0;34m\u001b[0m\u001b[0m\n\u001b[0m\u001b[1;32m     50\u001b[0m             \u001b[0mdivisors_sum\u001b[0m \u001b[0;34m+=\u001b[0m \u001b[0mi\u001b[0m  \u001b[0;31m# Add it to the sum\u001b[0m\u001b[0;34m\u001b[0m\u001b[0;34m\u001b[0m\u001b[0m\n\u001b[1;32m     51\u001b[0m     \u001b[0;32mreturn\u001b[0m \u001b[0mdivisors_sum\u001b[0m \u001b[0;34m==\u001b[0m \u001b[0mn\u001b[0m  \u001b[0;31m# Check if the sum of divisors equals n\u001b[0m\u001b[0;34m\u001b[0m\u001b[0;34m\u001b[0m\u001b[0m\n",
            "\u001b[0;31mKeyboardInterrupt\u001b[0m: "
          ]
        }
      ],
      "source": [
        "\"\"\"\n",
        "Abstract:\n",
        "This script explores and demonstrates the Euclid-Euler theorem, which establishes a one-to-one correspondence between even perfect numbers\n",
        "and Mersenne primes. A perfect number is a positive integer that is equal to the sum of its proper divisors (excluding the number itself).\n",
        " A Mersenne prime is a prime number of the form 2^p - 1, where p is also a prime number. The theorem states that if 2^p - 1 is prime (a Mersenne prime),\n",
        "then (2^(p-1)) * (2^p - 1) is an even perfect number, and conversely, every even perfect number can be expressed in this form. This script includes\n",
        "efficient primality testing, perfect number verification, and functions to find perfect numbers based on the theorem. It also demonstrates the theorem\n",
        "with examples and tests all even perfect numbers up to a given limit to demonstrate that they can all be found using the Euclid-Euler theorem.\n",
        "\n",
        "\"\"\"\n",
        "\n",
        "def is_prime(n):\n",
        "    \"\"\"\n",
        "    Efficiently checks if a number n is prime.\n",
        "\n",
        "    Args:\n",
        "        n: The integer to check for primality.\n",
        "\n",
        "    Returns:\n",
        "        True if n is prime, False otherwise.\n",
        "    \"\"\"\n",
        "    if n <= 1:  # Numbers less than or equal to 1 are not prime\n",
        "        return False\n",
        "    if n <= 3:  # 2 and 3 are prime\n",
        "        return True\n",
        "    if n % 2 == 0 or n % 3 == 0:  # Check divisibility by 2 and 3\n",
        "        return False\n",
        "    i = 5\n",
        "    while i * i <= n:  # Iterate only up to the square root of n\n",
        "        if n % i == 0 or n % (i + 2) == 0:\n",
        "            return False\n",
        "        i += 6  # Optimized iteration: check divisibility by i and i+2\n",
        "    return True\n",
        "\n",
        "def is_perfect(n):\n",
        "    \"\"\"\n",
        "    Checks if a number n is perfect.\n",
        "\n",
        "    Args:\n",
        "        n: The integer to check for perfectness.\n",
        "\n",
        "    Returns:\n",
        "        True if n is perfect, False otherwise.\n",
        "    \"\"\"\n",
        "    if n <= 0:\n",
        "      return False\n",
        "    divisors_sum = 0\n",
        "    for i in range(1, n):  # Iterate through potential divisors\n",
        "        if n % i == 0:  # If i is a divisor\n",
        "            divisors_sum += i  # Add it to the sum\n",
        "    return divisors_sum == n  # Check if the sum of divisors equals n\n",
        "\n",
        "def find_perfect_numbers(limit):\n",
        "    \"\"\"\n",
        "    Finds perfect numbers up to a given limit using the Euclid-Euler theorem.\n",
        "\n",
        "    Args:\n",
        "        limit: The upper limit for searching perfect numbers.\n",
        "\n",
        "    Returns:\n",
        "        A list of perfect numbers found within the limit.\n",
        "    \"\"\"\n",
        "    perfect_numbers = []\n",
        "    p = 2  # Start with the first prime number\n",
        "    while True:\n",
        "        mersenne_prime = (2**p) - 1  # Calculate the Mersenne number\n",
        "        if mersenne_prime > limit:\n",
        "            break  # Stop if the Mersenne number exceeds the limit\n",
        "        if is_prime(mersenne_prime):  # Check if the Mersenne number is prime\n",
        "            perfect_number = (2**(p - 1)) * mersenne_prime  # Calculate the perfect number\n",
        "            perfect_numbers.append(perfect_number)  # Add it to the list\n",
        "        p += 1  # Increment p to check the next potential prime\n",
        "    return perfect_numbers\n",
        "\n",
        "def find_even_perfect_numbers(limit):\n",
        "    \"\"\"\n",
        "    Finds all even perfect numbers up to a given limit using brute force.\n",
        "\n",
        "    Args:\n",
        "        limit: The upper limit for searching perfect numbers.\n",
        "\n",
        "    Returns:\n",
        "        A list of even perfect numbers found within the limit.\n",
        "    \"\"\"\n",
        "    even_perfect_numbers = []\n",
        "    for num in range(1, limit + 1):\n",
        "        if is_perfect(num) and num % 2 == 0:\n",
        "            even_perfect_numbers.append(num)\n",
        "    return even_perfect_numbers\n",
        "\n",
        "# Example usage:\n",
        "limit = 5  # Set the limit for searching perfect numbers\n",
        "perfect_numbers_found = find_perfect_numbers(limit)\n",
        "\n",
        "print(f\"Perfect numbers up to {limit} (using Euclid-Euler): {perfect_numbers_found}\")\n",
        "\n",
        "# Demonstrating the theorem for the first few perfect numbers:\n",
        "print(\"\\nDemonstrating the Euclid-Euler theorem:\")\n",
        "primes_to_check = [2, 3, 5, 7, 13, 17, 19, 31]  # A few primes to test\n",
        "for p in primes_to_check:\n",
        "    mersenne_prime = (2**p) - 1\n",
        "    if is_prime(mersenne_prime):\n",
        "        perfect_number = (2**(p - 1)) * mersenne_prime\n",
        "        print(f\"p = {p}: 2^({p}-1) * (2^{p} - 1) = {perfect_number} (Perfect: {is_perfect(perfect_number)})\")\n",
        "    else:\n",
        "        print(f\"p = {p}: 2^{p} - 1 = {mersenne_prime} is not prime\")\n",
        "\n",
        "# Further testing to show all even perfect numbers are of this form\n",
        "print(\"\\nTesting to show all even perfect numbers are of this form (up to 10000):\")\n",
        "all_even_perfect_numbers = find_even_perfect_numbers(limit)\n",
        "print(f\"All even perfect numbers up to {limit} (brute force method): {all_even_perfect_numbers}\")\n",
        "\n",
        "# Compare the two lists (should be the same)\n",
        "print(\"\\nAre the lists of perfect numbers generated by the two different methods the same?\")\n",
        "print(sorted(perfect_numbers_found) == sorted(all_even_perfect_numbers))"
      ]
    }
  ]
}
