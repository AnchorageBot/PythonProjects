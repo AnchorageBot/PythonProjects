{
  "nbformat": 4,
  "nbformat_minor": 0,
  "metadata": {
    "colab": {
      "provenance": [],
      "authorship_tag": "ABX9TyOWGBXWLCshvCGU3kxUp3cF"
    },
    "kernelspec": {
      "name": "python3",
      "display_name": "Python 3"
    },
    "language_info": {
      "name": "python"
    }
  },
  "cells": [
    {
      "cell_type": "markdown",
      "source": [
        "Python Tutorials from YouTube\n",
        "\n",
        "[Genetic Algorithm In Python Super Basic Example](https://youtu.be/4XZoVQOt-0I?si=5ibkw6D_5uU9jgyA)\n",
        "\n",
        "The Builder"
      ],
      "metadata": {
        "id": "16ZzysxXLtZ4"
      }
    },
    {
      "cell_type": "code",
      "execution_count": 19,
      "metadata": {
        "colab": {
          "base_uri": "https://localhost:8080/"
        },
        "id": "wRa2NJPcLsjv",
        "outputId": "78abbe05-0860-4464-bd4b-6e11cc94c002"
      },
      "outputs": [
        {
          "output_type": "stream",
          "name": "stdout",
          "text": [
            "[(-3.899689633313894, 0.10056680115296857, 6.621440195393273), (-3.805713348747628, -9.171738600038115, 9.636372060220836)]\n"
          ]
        }
      ],
      "source": [
        "import random\n",
        "\n",
        "# Function to optimize\n",
        "def foo(x,y,z):\n",
        "  return 6*x**3 + 9*y**2 + 90*z - 18\n",
        "\n",
        "# Fitness function that ranks answers\n",
        "def fitness(x,y,z):\n",
        "  answer = foo(x,y,z)\n",
        "\n",
        "  if answer == 0:\n",
        "    return 100000\n",
        "  else:\n",
        "    return abs(1/answer)\n",
        "\n",
        "# Generate solutions\n",
        "def generate_solutions(n):\n",
        "  solutions = []\n",
        "  for i in range(n):\n",
        "    x = random.uniform(-10,10)\n",
        "    y = random.uniform(-10,10)\n",
        "    z = random.uniform(-10,10)\n",
        "\n",
        "    solutions.append((x,y,z))\n",
        "  return solutions\n",
        "\n",
        "# Check program output\n",
        "print(generate_solutions(n=2))\n",
        "\n"
      ]
    }
  ]
}
