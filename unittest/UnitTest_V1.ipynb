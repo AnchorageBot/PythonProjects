{
  "nbformat": 4,
  "nbformat_minor": 0,
  "metadata": {
    "colab": {
      "provenance": [],
      "authorship_tag": "ABX9TyNz7Wb0Vc7AEf/Q3ZJJsuDu"
    },
    "kernelspec": {
      "name": "python3",
      "display_name": "Python 3"
    },
    "language_info": {
      "name": "python"
    }
  },
  "cells": [
    {
      "cell_type": "markdown",
      "source": [
        "# Python Unit Tests\n",
        "\n",
        "This notebook will look at unit test examples from the python documentation"
      ],
      "metadata": {
        "id": "cYzgGRgYOMm1"
      }
    },
    {
      "cell_type": "markdown",
      "source": [
        "[Unit tests](https://en.wikipedia.org/wiki/Unit_testing) are automated tests or manual tests, written and run by software developers to ensure that a section of an application (known as the \"unit\") is fit for use"
      ],
      "metadata": {
        "id": "JF0A0M-xO_UC"
      }
    },
    {
      "cell_type": "markdown",
      "source": [
        "Our references:\n",
        "* [unittest — Unit testing framework - Python Docs](https://docs.python.org/3/library/unittest.html)\n",
        "* [Python 3.12.2](https://www.python.org/)"
      ],
      "metadata": {
        "id": "hUwN1DT4OcUP"
      }
    },
    {
      "cell_type": "markdown",
      "source": [
        "The unittest unit testing framework was originally inspired by JUnit and has a similar flavor as major unit testing frameworks in other languages. It supports test automation, sharing of setup and shutdown code for tests, aggregation of tests into collections, and independence of the tests from the reporting framework."
      ],
      "metadata": {
        "id": "4WVjCwwWOvWL"
      }
    },
    {
      "cell_type": "code",
      "execution_count": 10,
      "metadata": {
        "colab": {
          "base_uri": "https://localhost:8080/"
        },
        "id": "V1z6r0z6OIUy",
        "outputId": "30810302-3322-4c30-80b1-dced2d2318af"
      },
      "outputs": [
        {
          "output_type": "execute_result",
          "data": {
            "text/plain": [
              "<__main__.TestStringMethods testMethod=runTest>"
            ]
          },
          "metadata": {},
          "execution_count": 10
        }
      ],
      "source": [
        "import unittest\n",
        "\n",
        "class TestStringMethods(unittest.TestCase):\n",
        "\n",
        "    def test_upper(self):\n",
        "        self.assertEqual('foo'.upper(), 'FOO')\n",
        "\n",
        "    def test_isupper(self):\n",
        "        self.assertTrue('FOO'.isupper())\n",
        "        self.assertFalse('Foo'.isupper())\n",
        "\n",
        "    def test_split(self):\n",
        "        s = 'hello world'\n",
        "        self.assertEqual(s.split(), ['hello', 'world'])\n",
        "        # check that s.split fails when the separator is not a string\n",
        "        with self.assertRaises(TypeError):\n",
        "            s.split(2)\n",
        "\n",
        "#if __name__ == '__main__':\n",
        "#    unittest.main()\n",
        "\n",
        "TestStringMethods()"
      ]
    }
  ]
}
