{
  "nbformat": 4,
  "nbformat_minor": 0,
  "metadata": {
    "colab": {
      "provenance": [],
      "authorship_tag": "ABX9TyOCNf80Y+FP/iNtZcvipFyk"
    },
    "kernelspec": {
      "name": "python3",
      "display_name": "Python 3"
    },
    "language_info": {
      "name": "python"
    }
  },
  "cells": [
    {
      "cell_type": "markdown",
      "source": [
        "Tree Based Machine Learning Algorithms - Chapter 1, Example 1\n",
        "* Clinton Sheppard\n",
        "\n",
        "Tutor\n",
        "* Anthropic's AI Claude"
      ],
      "metadata": {
        "id": "yGH6DFA6VCnF"
      }
    },
    {
      "cell_type": "code",
      "source": [
        "\"\"\"\n",
        "Python example which calculates the area of circles with increasing radii.\n",
        "\n",
        "This script defines a Circle class and uses it to calculate and print the areas\n",
        "of circles with radii from 0 to 9. It demonstrates object-oriented programming,\n",
        "loop structures, and basic math operations in Python.\n",
        "\"\"\"\n",
        "\n",
        "# Import necessary libraries\n",
        "import math\n",
        "\n",
        "# Define a Circle class to represent circles\n",
        "class Circle:\n",
        "    def __init__(self, x, y, radius):\n",
        "        \"\"\"\n",
        "        Initialize a Circle object.\n",
        "\n",
        "        Args:\n",
        "            x (float): x-coordinate of the circle's center\n",
        "            y (float): y-coordinate of the circle's center\n",
        "            radius (float): radius of the circle\n",
        "\n",
        "        Note: __init__ method doesn't return anything, so the Returns section has been removed.\n",
        "        \"\"\"\n",
        "        self.x = x\n",
        "        self.y = y\n",
        "        self.radius = radius\n",
        "\n",
        "    def area(self):\n",
        "        \"\"\"\n",
        "        Calculate and return the area of the circle.\n",
        "\n",
        "        Returns:\n",
        "            float: The area of the circle\n",
        "        \"\"\"\n",
        "        return math.pi * self.radius ** 2\n",
        "\n",
        "# Calculation loop to create circles with radii from 0 to 9\n",
        "for i in range(10):\n",
        "    # Create a Circle object with center at (0, 0) and radius i\n",
        "    c = Circle(0, 0, i)\n",
        "\n",
        "    # Calculate and print the area for each iteration\n",
        "    print(f\"Loop iteration {i} result: {c.area():.2f}\")\n",
        "\n",
        "# Print the final result with a formatted string\n",
        "# Note: This will always show the result for the last iteration (radius 9)\n",
        "print(f\"A circle with radius {i} has area {c.area():.2f}\")"
      ],
      "metadata": {
        "colab": {
          "base_uri": "https://localhost:8080/"
        },
        "id": "CuFQy3OolRbF",
        "outputId": "7b7cb925-0cc3-4115-c2da-8ca10c404723"
      },
      "execution_count": 6,
      "outputs": [
        {
          "output_type": "stream",
          "name": "stdout",
          "text": [
            "Loop iteration 0 result: 0.00\n",
            "Loop iteration 1 result: 3.14\n",
            "Loop iteration 2 result: 12.57\n",
            "Loop iteration 3 result: 28.27\n",
            "Loop iteration 4 result: 50.27\n",
            "Loop iteration 5 result: 78.54\n",
            "Loop iteration 6 result: 113.10\n",
            "Loop iteration 7 result: 153.94\n",
            "Loop iteration 8 result: 201.06\n",
            "Loop iteration 9 result: 254.47\n",
            "A circle with radius 9 has area 254.47\n"
          ]
        }
      ]
    }
  ]
}
