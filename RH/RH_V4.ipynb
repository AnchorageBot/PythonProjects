{
  "nbformat": 4,
  "nbformat_minor": 0,
  "metadata": {
    "colab": {
      "provenance": [],
      "authorship_tag": "ABX9TyOl0bJW9nbNv2P/1Jb958i2"
    },
    "kernelspec": {
      "name": "python3",
      "display_name": "Python 3"
    },
    "language_info": {
      "name": "python"
    }
  },
  "cells": [
    {
      "cell_type": "markdown",
      "source": [
        "Riemann Hypothesis - Notebook\n",
        "* Exploring the Riemann zeta function\n",
        "\n",
        "Tutors\n",
        "* Anthropic's AI Claude"
      ],
      "metadata": {
        "id": "VwEs1XPK1My2"
      }
    },
    {
      "cell_type": "markdown",
      "source": [
        "## 1. Approximation of the Riemann Zeta Function\n",
        "\n",
        "```markdown\n",
        "# Approximations of the Riemann Zeta Function\n",
        "\n",
        "## 1. Basic Toy Zeta Function\n",
        "\n",
        "```python\n",
        "def toy_zeta(s):\n",
        "    if isinstance(s, (int, float, complex)):\n",
        "        # Negative even integers\n",
        "        if isinstance(s, int) and s < 0 and s % 2 == 0:\n",
        "            return 0\n",
        "        \n",
        "        # Points on the critical line\n",
        "        if np.isclose(s.real, 0.5) and isinstance(s, complex) and s.imag in [1, 2, 3]:\n",
        "            return 0\n",
        "    \n",
        "    return 1\n",
        "```\n",
        "\n",
        "**Summary**: This is a very simplified approximation that captures only a few key properties of the zeta function:\n",
        "- Returns 0 for negative even integers (trivial zeros)\n",
        "- Returns 0 for specific points on the critical line (s = 0.5 + i, 0.5 + 2i, 0.5 + 3i)\n",
        "- Returns 1 for all other inputs\n",
        "\n",
        "## 2. More Sophisticated Approximation\n",
        "\n",
        "```python\n",
        "def approximate_zeta(s, terms=1000):\n",
        "    if s == 1:\n",
        "        return float('inf')\n",
        "    if s.real < 0:\n",
        "        return 2 * (2*np.pi)**(s-1) * np.sin(np.pi*s/2) * math.gamma(1-s.real) * approximate_zeta(1-s, terms)\n",
        "    return sum(1 / np.power(range(1, terms+1), s))\n",
        "\n",
        "def toy_zeta(s):\n",
        "    if isinstance(s, int) and s < 0 and s % 2 == 0:\n",
        "        return 0\n",
        "    if isinstance(s, complex) and np.isclose(s.real, 0.5):\n",
        "        first_zeros = [14.134725, 21.022040, 25.010858]\n",
        "        if any(np.isclose(s.imag, zero, atol=0.1) for zero in first_zeros):\n",
        "            return 0\n",
        "    return approximate_zeta(s)\n",
        "```\n",
        "\n",
        "**Summary**: This more sophisticated approximation incorporates several key properties of the Riemann zeta function:\n",
        "- Uses the functional equation to compute values for Re(s) < 0\n",
        "- Implements the series definition for Re(s) > 0\n",
        "- Correctly handles the pole at s = 1\n",
        "- Includes trivial zeros at negative even integers\n",
        "- Approximates the first few non-trivial zeros on the critical line\n",
        "- Provides a more accurate representation of the function's behavior across the complex plane\n",
        "```\n",
        "\n",
        "These approximations represent two different levels of complexity in modeling the Riemann zeta function:\n",
        "\n",
        "1. The first approximation is extremely simplified, mainly focusing on capturing the zeros at specific points. It's useful for understanding the basic structure of zeros but doesn't represent the true behavior of the zeta function.\n",
        "\n",
        "2. The second approximation is much more sophisticated. It uses the actual series definition of the zeta function for Re(s) > 0, implements the functional equation for Re(s) < 0, and correctly represents the pole at s = 1. It also includes both trivial and some non-trivial zeros. This version provides a much more accurate representation of the zeta function's behavior, although it's still an approximation, especially for large imaginary parts of s.\n",
        "\n",
        "The progression from the first to the second approximation demonstrates how we can build up complexity to more accurately model mathematical functions, starting from basic properties and adding more sophisticated elements."
      ],
      "metadata": {
        "id": "U6yike1b0pdO"
      }
    }
  ]
}
