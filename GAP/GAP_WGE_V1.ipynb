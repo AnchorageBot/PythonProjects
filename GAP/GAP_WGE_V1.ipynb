{
  "nbformat": 4,
  "nbformat_minor": 0,
  "metadata": {
    "colab": {
      "provenance": [],
      "authorship_tag": "ABX9TyPhq32w0bDvuaIUf/awOOtg"
    },
    "kernelspec": {
      "name": "python3",
      "display_name": "Python 3"
    },
    "language_info": {
      "name": "python"
    }
  },
  "cells": [
    {
      "cell_type": "markdown",
      "source": [
        "Genetic Algorithms with Python - Clinton Sheppard\n",
        "\n",
        "* Chapter 1 - Working Genetic Engine\n",
        "\n",
        "Tutors\n",
        "\n",
        "* Anthropic's AI [Claude](https://claude.ai/login)\n",
        "* Google's AI [PaLM 2](https://ai.google/discover/palm2/)"
      ],
      "metadata": {
        "id": "BQDCAKt2IykN"
      }
    },
    {
      "cell_type": "code",
      "execution_count": null,
      "metadata": {
        "id": "XUvhNCwdIsVS"
      },
      "outputs": [],
      "source": [
        "'''\n",
        "Genetic Algorithms with Python - Clinton Sheppard\n",
        "\n",
        "Tutors:\n",
        " Anthropic's AI Claude\n",
        " Google's PaLM 2\n",
        "\n",
        "This script is a reusable genetic engine (module) that can inserted into a genetic algorithm.\n",
        " Components\n",
        " * Generate Parents\n",
        " * Mutate Parents\n",
        " * Evaluate Fitness\n",
        "'''\n",
        "import random\n",
        "\n",
        "def generate_parent(length, geneSet):\n",
        "    '''\n",
        "    This function generates a random parent\n",
        "\n",
        "    Args:\n",
        "    length: length of the parent\n",
        "    geneSet: set of genes\n",
        "    Returns:\n",
        "    A random parent\n",
        "    '''\n",
        "    genes = [] # empty set\n",
        "    # loop through the length of the parent\n",
        "    while len(genes) < length:\n",
        "        sampleSize = min(length - len(genes), len(geneSet))\n",
        "        genes.extend(random.sample(geneSet, sampleSize))\n",
        "    return \"\".join(genes)\n",
        "\n",
        "def mutate(parent, geneSet):\n",
        "    '''\n",
        "    This function mutates a parent\n",
        "\n",
        "    Args:\n",
        "    parent: parent to be mutated\n",
        "    geneSet: set of genes\n",
        "    Returns:\n",
        "    A mutated parent\n",
        "    '''\n",
        "    index = random.randrange(0, len(parent))\n",
        "    childGenes = list(parent)\n",
        "    newGene, alternate = random.sample(geneSet, 2)\n",
        "    childGenes[index] = alternate if newGene == childGenes[index] else newGene\n",
        "    return \"\".join(childGenes)\n",
        "\n",
        "def get_best(get_fitness, targetLen, optimalFitness, geneSet, display):\n",
        "    '''\n",
        "    This function gets the fitness of a guess\n",
        "\n",
        "    Args:\n",
        "    get_fitness: function that returns the fitness of a guess\n",
        "    targetLen: length of the target\n",
        "    optimalFitness: fitness of the optimal guess\n",
        "    geneSet: set of genes\n",
        "    display: function that displays the guess\n",
        "    Returns:\n",
        "    A guess\n",
        "    '''\n",
        "    random.seed()\n",
        "    bestParent = generate_parent(targetLen, geneSet)\n",
        "    bestFitness = get_fitness(bestParent)\n",
        "    display(bestParent)\n",
        "    if bestFitness >= optimalFitness:\n",
        "        return bestParent\n",
        "    while True:\n",
        "        child = mutate(bestParent, geneSet)\n",
        "        childFitness = get_fitness(child)\n",
        "        if bestFitness >= childFitness:\n",
        "            continue\n",
        "        display(child)\n",
        "        if childFitness >= optimalFitness:\n",
        "            return child\n",
        "        bestFitness = childFitness\n",
        "        bestParent = child"
      ]
    }
  ]
}
