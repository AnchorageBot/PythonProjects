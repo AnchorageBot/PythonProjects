{
  "nbformat": 4,
  "nbformat_minor": 0,
  "metadata": {
    "colab": {
      "provenance": [],
      "authorship_tag": "ABX9TyOY8QY/ggEuu7rxB2h5pL46"
    },
    "kernelspec": {
      "name": "python3",
      "display_name": "Python 3"
    },
    "language_info": {
      "name": "python"
    }
  },
  "cells": [
    {
      "cell_type": "markdown",
      "source": [
        "Genetic Algorithms with Python - Clinton Sheppard\n",
        "\n",
        "Refactored by prompting Anthropic's AI Claude"
      ],
      "metadata": {
        "id": "ZCeW1iJR2j9Q"
      }
    },
    {
      "cell_type": "code",
      "execution_count": 1,
      "metadata": {
        "colab": {
          "base_uri": "https://localhost:8080/"
        },
        "id": "dgJQeRkH2fQI",
        "outputId": "6b4f4e6d-70e9-4f31-ce1d-36390a841e2c"
      },
      "outputs": [
        {
          "output_type": "stream",
          "name": "stdout",
          "text": [
            "Initial guess: xXvhtsOboIdu\n",
            "Fitness of initial guess: 1\n",
            "Mutated guess: xXEhtsOboIdu\n",
            "Fitness of mutated guess: 1\n"
          ]
        }
      ],
      "source": [
        "import random\n",
        "\n",
        "# Genome: Set of possible string values representing the possible universe of characters.\n",
        "# It includes lowercase letters, uppercase letters, and some special characters.\n",
        "Genome = \"abcdefghijklmonopqrstuvwxyzABCDEFGHIJKLMNOPQRSTUVWXYZ,.?! \"\n",
        "\n",
        "# Gene: The target phrase or password that the script aims to guess.\n",
        "Gene = \"Hello World!\"\n",
        "\n",
        "def guess_gene(length):\n",
        "    \"\"\"\n",
        "    This function generates a guess using values from the Genome set.\n",
        "    It takes the desired length of the guess as input and returns a string of that length.\n",
        "    \"\"\"\n",
        "    possible_genes = []  # Initialize an empty list to store the possible genes.\n",
        "    while len(possible_genes) < length:  # Continue generating genes until the desired length is reached.\n",
        "        gene_length = min(length - len(possible_genes), len(Genome))  # Calculate the remaining length needed.\n",
        "        possible_genes.extend(random.sample(Genome, gene_length))  # Randomly sample characters from Genome and add them to possible_genes.\n",
        "    return \"\".join(possible_genes)  # Join the characters in possible_genes to form the final guess string.\n",
        "\n",
        "def get_fitness(guess):\n",
        "    \"\"\"\n",
        "    This function evaluates the fitness of a guess by calculating the total number of characters\n",
        "    in the guess that match the characters in the same position of the target Gene.\n",
        "    It takes the guess string as input and returns the fitness score.\n",
        "    \"\"\"\n",
        "    return sum(1 for expected, actual in zip(Gene, guess) if expected == actual)  # Compare each character of Gene and guess, and count the matches.\n",
        "\n",
        "def mutate(parent):\n",
        "    \"\"\"\n",
        "    This function creates a new guess via random mutation of the old guess (parent).\n",
        "    It takes the parent string as input, randomly selects an index, and mutates the character\n",
        "    at that index by replacing it with a randomly sampled character from the Genome set.\n",
        "    It returns the mutated string as the child guess.\n",
        "    \"\"\"\n",
        "    index = random.randrange(0, len(parent))  # Randomly select an index within the range of the parent string.\n",
        "    child_genes = list(parent)  # Convert the parent string to a list of characters.\n",
        "    new_gene, alternate = random.sample(Genome, 2)  # Randomly sample two characters from Genome.\n",
        "    child_genes[index] = alternate if new_gene == child_genes[index] else new_gene  # Replace the character at the selected index with the alternate if it matches the new_gene, otherwise use the new_gene.\n",
        "    return ''.join(child_genes)  # Join the characters in child_genes to form the final mutated guess string.\n",
        "\n",
        "# Example usage of the functions\n",
        "initial_guess = guess_gene(len(Gene))  # Generate an initial guess with the same length as the target Gene.\n",
        "print(f\"Initial guess: {initial_guess}\")  # Print the initial guess.\n",
        "\n",
        "fitness = get_fitness(initial_guess)  # Calculate the fitness of the initial guess.\n",
        "print(f\"Fitness of initial guess: {fitness}\")  # Print the fitness of the initial guess.\n",
        "\n",
        "mutated_guess = mutate(initial_guess)  # Create a new guess by mutating the initial guess.\n",
        "print(f\"Mutated guess: {mutated_guess}\")  # Print the mutated guess.\n",
        "\n",
        "mutated_fitness = get_fitness(mutated_guess)  # Calculate the fitness of the mutated guess.\n",
        "print(f\"Fitness of mutated guess: {mutated_fitness}\")  # Print the fitness of the mutated guess."
      ]
    }
  ]
}
