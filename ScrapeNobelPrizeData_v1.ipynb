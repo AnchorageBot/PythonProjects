{
  "nbformat": 4,
  "nbformat_minor": 0,
  "metadata": {
    "colab": {
      "provenance": [],
      "authorship_tag": "ABX9TyPgOw3KUGVNzm3VXW2s+920"
    },
    "kernelspec": {
      "name": "python3",
      "display_name": "Python 3"
    },
    "language_info": {
      "name": "python"
    }
  },
  "cells": [
    {
      "cell_type": "markdown",
      "source": [
        "## This script will scrape Wikipedia via Python, and the Requests Library, for Nobel Prize Winner data\n",
        "\n",
        "References:\n",
        "\n",
        "*   Data Visualization with Python and JavaScript, 2nd Edition, by Kyran Dale\n",
        "*   https://www.oreilly.com/library/view/data-visualization-with/9781098111861/\n",
        "*   Requests Library Documentation\n",
        "*   https://requests.readthedocs.io/en/latest/user/quickstart/\n",
        "*   Wikipedia Nobel Prize Winners Page\n",
        "*   https://en.wikipedia.org/wiki/Nobel_Prize\n",
        "*   HTTP Status Codes\n",
        "*   https://en.wikipedia.org/wiki/List_of_HTTP_status_codes\n",
        "\n",
        "Made with:\n",
        "\n",
        "*   Apple notes\n",
        "*   Google Colab \n"
      ],
      "metadata": {
        "id": "wiU_HZa02btj"
      }
    },
    {
      "cell_type": "code",
      "execution_count": 23,
      "metadata": {
        "colab": {
          "base_uri": "https://localhost:8080/"
        },
        "id": "fxCFNY232ULh",
        "outputId": "bdf50ee2-1ca0-4bc6-8543-b20b2cc01ade"
      },
      "outputs": [
        {
          "output_type": "stream",
          "name": "stdout",
          "text": [
            "An abbreviated dictionary of HTTP status codes\n",
            "200 = OK \n",
            "400 = bad request\n",
            "401 = unauthorized\n",
            "403 = forbidden\n",
            "404 = not found\n",
            "500 = server error\n",
            "\n",
            "This script's HTTP status code = \n",
            "200\n",
            "\n",
            "\n",
            "object attribute data scraped from wikipedia\n",
            "['__attrs__', '__bool__', '__class__', '__delattr__', '__dict__', '__dir__', '__doc__', '__enter__', '__eq__', '__exit__', '__format__', '__ge__', '__getattribute__', '__getstate__', '__gt__', '__hash__', '__init__', '__init_subclass__', '__iter__', '__le__', '__lt__', '__module__', '__ne__', '__new__', '__nonzero__', '__reduce__', '__reduce_ex__', '__repr__', '__setattr__', '__setstate__', '__sizeof__', '__str__', '__subclasshook__', '__weakref__', '_content', '_content_consumed', '_next', 'apparent_encoding', 'close', 'connection', 'content', 'cookies', 'elapsed', 'encoding', 'headers', 'history', 'is_permanent_redirect', 'is_redirect', 'iter_content', 'iter_lines', 'json', 'links', 'next', 'ok', 'raise_for_status', 'raw', 'reason', 'request', 'status_code', 'text', 'url']\n",
            "\n",
            "\n",
            "header data scraped from wikipedia\n",
            "{'date': 'Mon, 17 Apr 2023 00:20:06 GMT', 'server': 'mw2387.codfw.wmnet', 'x-content-type-options': 'nosniff', 'content-language': 'en', 'vary': 'Accept-Encoding,Cookie,Authorization', 'last-modified': 'Sun, 16 Apr 2023 23:30:11 GMT', 'content-type': 'text/html; charset=UTF-8', 'content-encoding': 'gzip', 'age': '23326', 'x-cache': 'cp4039 miss, cp4039 hit/20', 'x-cache-status': 'hit-front', 'server-timing': 'cache;desc=\"hit-front\", host;desc=\"cp4039\"', 'strict-transport-security': 'max-age=106384710; includeSubDomains; preload', 'report-to': '{ \"group\": \"wm_nel\", \"max_age\": 604800, \"endpoints\": [{ \"url\": \"https://intake-logging.wikimedia.org/v1/events?stream=w3c.reportingapi.network_error&schema_uri=/w3c/reportingapi/network_error/1.0.0\" }] }', 'nel': '{ \"report_to\": \"wm_nel\", \"max_age\": 604800, \"failure_fraction\": 0.05, \"success_fraction\": 0.0}', 'set-cookie': 'WMF-Last-Access=17-Apr-2023;Path=/;HttpOnly;secure;Expires=Fri, 19 May 2023 00:00:00 GMT, WMF-Last-Access-Global=17-Apr-2023;Path=/;Domain=.wikipedia.org;HttpOnly;secure;Expires=Fri, 19 May 2023 00:00:00 GMT, WMF-DP=f7d;Path=/;HttpOnly;secure;Expires=Mon, 17 Apr 2023 00:00:00 GMT, GeoIP=US:OR:The_Dalles:45.60:-121.19:v4; Path=/; secure; Domain=.wikipedia.org', 'x-client-ip': '35.230.14.88', 'cache-control': 'private, s-maxage=0, max-age=0, must-revalidate', 'accept-ranges': 'bytes', 'content-length': '93854'}\n"
          ]
        }
      ],
      "source": [
        "import requests\n",
        "\n",
        "response = requests.get('https://en.wikipedia.org/wiki/Nobel_Prize')\n",
        "\n",
        "print(\"An abbreviated dictionary of HTTP status codes\")\n",
        "print(\"200 = OK \")\n",
        "print(\"400 = bad request\")\n",
        "print(\"401 = unauthorized\")\n",
        "print(\"403 = forbidden\")\n",
        "print(\"404 = not found\")\n",
        "print(\"500 = server error\\n\")\n",
        "print(\"This script's HTTP status code = \")\n",
        "print(response.status_code)\n",
        "print(\"\\n\")\n",
        "\n",
        "print(\"object attribute data scraped from wikipedia\")\n",
        "print(dir(response))\n",
        "print(\"\\n\")\n",
        "\n",
        "print(\"header data scraped from wikipedia\")\n",
        "print(response.headers)"
      ]
    }
  ]
}