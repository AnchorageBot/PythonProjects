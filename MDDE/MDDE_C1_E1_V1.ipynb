{
  "nbformat": 4,
  "nbformat_minor": 0,
  "metadata": {
    "colab": {
      "provenance": [],
      "authorship_tag": "ABX9TyMY330QCsBub4NEEAV3m68o"
    },
    "kernelspec": {
      "name": "python3",
      "display_name": "Python 3"
    },
    "language_info": {
      "name": "python"
    }
  },
  "cells": [
    {
      "cell_type": "markdown",
      "source": [
        "### Modeling with Differential & Difference Eqns\n",
        "* Glenn Fulford, Pete Forrester, Arthur Jones\n",
        "\n",
        "Chapter 1, Page 17 Example Problem, 1st Version\n",
        "* Newtonian Mechanics\n",
        "\n",
        "[Markdown Reference](https://docs.github.com/en/get-started/writing-on-github/getting-started-with-writing-and-formatting-on-github/basic-writing-and-formatting-syntax)\n",
        "\n",
        "Tutor\n",
        "* Anthropic's AI Claude"
      ],
      "metadata": {
        "id": "bkxfAbiyn6M9"
      }
    },
    {
      "cell_type": "markdown",
      "source": [
        "Version 1"
      ],
      "metadata": {
        "id": "AlohfTBDkkGj"
      }
    },
    {
      "cell_type": "code",
      "execution_count": 1,
      "metadata": {
        "colab": {
          "base_uri": "https://localhost:8080/"
        },
        "id": "KLtvIzSbkRfT",
        "outputId": "67d0df52-4d43-4f7d-bc1f-1b4aa6cc8706"
      },
      "outputs": [
        {
          "output_type": "stream",
          "name": "stdout",
          "text": [
            "Ratio of F_cruise_altitude to F_earth_surface: 0.99688\n",
            "Percentage decrease in gravitational force: 0.312%\n"
          ]
        }
      ],
      "source": [
        "\"\"\"\n",
        "Abstract:\n",
        "This script calculates the decrease in gravitational force between a jet airliner\n",
        "and the Earth when the jet ascends from the Earth's surface to its cruising altitude.\n",
        "It demonstrates the inverse square law of gravitational attraction and how small\n",
        "changes in distance can affect gravitational force.\n",
        "\n",
        "\"\"\"\n",
        "\n",
        "import math\n",
        "\n",
        "# Given constants\n",
        "EARTH_RADIUS = 6400  # km\n",
        "CRUISE_ALTITUDE = 10  # km\n",
        "R_EARTH_SURFACE = EARTH_RADIUS  # km\n",
        "R_CRUISE_ALTITUDE = EARTH_RADIUS + CRUISE_ALTITUDE  # km\n",
        "\n",
        "def calculate_force_ratio():\n",
        "    \"\"\"\n",
        "    Calculate the ratio of gravitational force at cruise altitude to the force at Earth's surface.\n",
        "\n",
        "    Returns:\n",
        "    float: The ratio of F_cruise_altitude to F_earth_surface\n",
        "    \"\"\"\n",
        "    return (R_EARTH_SURFACE ** 2) / (R_CRUISE_ALTITUDE ** 2)\n",
        "\n",
        "def calculate_force_decrease_percentage(force_ratio):\n",
        "    \"\"\"\n",
        "    Calculate the percentage decrease in gravitational force.\n",
        "\n",
        "    Args:\n",
        "    force_ratio (float): The ratio of forces calculated by calculate_force_ratio()\n",
        "\n",
        "    Returns:\n",
        "    float: The percentage decrease in gravitational force\n",
        "    \"\"\"\n",
        "    return (1 - force_ratio) * 100\n",
        "\n",
        "def main():\n",
        "    # Calculate the ratio of forces\n",
        "    force_ratio = calculate_force_ratio()\n",
        "    print(f\"Ratio of F_cruise_altitude to F_earth_surface: {force_ratio:.5f}\")\n",
        "\n",
        "    # Calculate the percentage decrease in force\n",
        "    force_decrease = calculate_force_decrease_percentage(force_ratio)\n",
        "    print(f\"Percentage decrease in gravitational force: {force_decrease:.3f}%\")\n",
        "\n",
        "if __name__ == \"__main__\":\n",
        "    main()"
      ]
    },
    {
      "cell_type": "markdown",
      "source": [
        "This table tracks the flow of data through a Python script, detailing the inputs and outputs of global constants and functions, as well as the overall script execution:\n",
        "\n",
        "| Function/Section | Inputs | Outputs |\n",
        "|------------------|--------|---------|\n",
        "| `calculate_force_ratio()` | None (uses global constants) | float: Ratio of gravitational force at cruise altitude to force at Earth's surface |\n",
        "| `calculate_force_decrease_percentage(force_ratio)` | `force_ratio` (float): Result from `calculate_force_ratio()` | float: Percentage decrease in gravitational force |\n",
        "| `main()` | None | 1. Calls `calculate_force_ratio()`<br>2. Calls `calculate_force_decrease_percentage()`<br>3. Prints two lines of output to console |\n",
        "| Global Constants | None | `EARTH_RADIUS` (6400 km)<br>`CRUISE_ALTITUDE` (10 km)<br>`R_EARTH_SURFACE` (6400 km)<br>`R_CRUISE_ALTITUDE` (6410 km) |\n",
        "\n"
      ],
      "metadata": {
        "id": "EKsmXFVRZPgs"
      }
    },
    {
      "cell_type": "markdown",
      "source": [
        "Why do all three scripts use:\n",
        "def calculate_force_decrease_percentage(force_ratio):\n",
        "When force_ration only appears to be defined in the first script?\n",
        "\n",
        "Let me clarify this situation:\n",
        "\n",
        "1. First script:\n",
        "In this script, `force_ratio` is indeed explicitly defined in the `main()` function and then passed to `calculate_force_decrease_percentage()`.\n",
        "\n",
        "2. Second and third scripts:\n",
        "Although `force_ratio` isn't explicitly defined with that name, it's still being passed to the function. The variable name has changed, but the concept remains the same. Here's what's happening:\n",
        "\n",
        "   ```python\n",
        "   force_ratio_cruise = calculate_force_ratio(CRUISE_ALTITUDE)\n",
        "   force_decrease_cruise = calculate_force_decrease_percentage(force_ratio_cruise)\n",
        "   ```\n",
        "\n",
        "   In these scripts, `force_ratio_cruise` is playing the role that `force_ratio` played in the first script. It's still a force ratio, just with a more specific name.\n",
        "\n",
        "The reason all three scripts use `def calculate_force_decrease_percentage(force_ratio):` is that this function is designed to work with any force ratio, not just the one at cruise altitude. The parameter name `force_ratio` in the function definition is a generic name that doesn't change, even if the variable names used when calling the function do change.\n",
        "\n",
        "This is an important concept in programming:\n",
        "\n",
        "- Function parameter names (like `force_ratio` in the function definition) are local to the function and don't need to match the names of the variables used when calling the function.\n",
        "- What matters is the value being passed, not the name of the variable holding that value.\n",
        "\n",
        "So, while the scripts evolved to use more specific variable names (`force_ratio_cruise`), the function itself remained general-purpose, able to calculate the force decrease percentage for any given force ratio.\n",
        "\n",
        "This approach allows the function to be more versatile and reusable. For example, if we wanted to calculate the force decrease at multiple altitudes, we could reuse this same function without modification.\n",
        "\n",
        "This question highlights an important aspect of function design and variable naming in programming."
      ],
      "metadata": {
        "id": "RugivVe_gHIW"
      }
    }
  ]
}
