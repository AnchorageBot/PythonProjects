{
  "nbformat": 4,
  "nbformat_minor": 0,
  "metadata": {
    "colab": {
      "provenance": [],
      "authorship_tag": "ABX9TyOKDQ7ov12S0E5DYD4iRZhg"
    },
    "kernelspec": {
      "name": "python3",
      "display_name": "Python 3"
    },
    "language_info": {
      "name": "python"
    }
  },
  "cells": [
    {
      "cell_type": "markdown",
      "source": [
        "### Modeling with Differential & Difference Eqns\n",
        "* Glenn Fulford, Pete Forrester, Arthur Jones\n",
        "\n",
        "Chapter 1, Page 17 Example Problem, 2nd Version\n",
        "* Newtonian Mechanics\n",
        "\n",
        "[Markdown Reference](https://docs.github.com/en/get-started/writing-on-github/getting-started-with-writing-and-formatting-on-github/basic-writing-and-formatting-syntax)\n",
        "\n",
        "Tutor\n",
        "* Anthropic's AI Claude"
      ],
      "metadata": {
        "id": "6BGxxS1nn-h-"
      }
    },
    {
      "cell_type": "markdown",
      "source": [
        "Version 2"
      ],
      "metadata": {
        "id": "XcqZw8mWlN1-"
      }
    },
    {
      "cell_type": "code",
      "execution_count": null,
      "metadata": {
        "colab": {
          "base_uri": "https://localhost:8080/"
        },
        "id": "8NMPelwwlMzv",
        "outputId": "f9743268-08ed-4688-cdb0-6382f0168a40"
      },
      "outputs": [
        {
          "output_type": "stream",
          "name": "stdout",
          "text": [
            "Ratio of F_cruise_altitude to F_earth_surface: 0.99688\n",
            "Percentage decrease in gravitational force at cruise altitude: 0.312%\n",
            "Graph has been generated and saved as 'force_decrease_plot.png'\n"
          ]
        }
      ],
      "source": [
        "\"\"\"\n",
        "Abstract:\n",
        "This script calculates and visualizes the decrease in gravitational force between a jet airliner\n",
        "and the Earth as the jet ascends from the Earth's surface to its cruising altitude.\n",
        "It demonstrates the inverse square law of gravitational attraction, showing how the\n",
        "gravitational force changes with altitude. The script calculates the force ratio\n",
        "at cruising altitude and generates a graph illustrating the force decrease over the\n",
        "ascent.\n",
        "\n",
        "\"\"\"\n",
        "\n",
        "import math\n",
        "import numpy as np\n",
        "import matplotlib.pyplot as plt\n",
        "\n",
        "# Given constants\n",
        "EARTH_RADIUS = 6400  # km\n",
        "CRUISE_ALTITUDE = 10  # km\n",
        "R_EARTH_SURFACE = EARTH_RADIUS  # km\n",
        "R_CRUISE_ALTITUDE = EARTH_RADIUS + CRUISE_ALTITUDE  # km\n",
        "\n",
        "def calculate_force_ratio(altitude):\n",
        "    \"\"\"\n",
        "    Calculate the ratio of gravitational force at a given altitude to the force at Earth's surface.\n",
        "\n",
        "    Args:\n",
        "    altitude (float): The altitude above Earth's surface in km\n",
        "\n",
        "    Returns:\n",
        "    float: The ratio of F_altitude to F_earth_surface\n",
        "    \"\"\"\n",
        "    return (R_EARTH_SURFACE ** 2) / ((R_EARTH_SURFACE + altitude) ** 2)\n",
        "\n",
        "def calculate_force_decrease_percentage(force_ratio):\n",
        "    \"\"\"\n",
        "    Calculate the percentage decrease in gravitational force.\n",
        "\n",
        "    Args:\n",
        "    force_ratio (float): The ratio of forces calculated by calculate_force_ratio()\n",
        "\n",
        "    Returns:\n",
        "    float: The percentage decrease in gravitational force\n",
        "    \"\"\"\n",
        "    return (1 - force_ratio) * 100\n",
        "\n",
        "def plot_force_decrease():\n",
        "    \"\"\"\n",
        "    Create a plot showing how gravitational force decreases with altitude.\n",
        "    \"\"\"\n",
        "    altitudes = np.linspace(0, CRUISE_ALTITUDE, 100)\n",
        "    force_ratios = [calculate_force_ratio(alt) for alt in altitudes]\n",
        "    force_decreases = [calculate_force_decrease_percentage(ratio) for ratio in force_ratios]\n",
        "\n",
        "    plt.figure(figsize=(10, 6))\n",
        "    plt.plot(altitudes, force_decreases)\n",
        "    plt.title('Decrease in Gravitational Force with Altitude')\n",
        "    plt.xlabel('Altitude (km)')\n",
        "    plt.ylabel('Force Decrease (%)')\n",
        "    plt.grid(True)\n",
        "    plt.savefig('force_decrease_plot.png')\n",
        "    plt.close()\n",
        "\n",
        "def main():\n",
        "    # Calculate the ratio of forces at cruise altitude\n",
        "    force_ratio_cruise = calculate_force_ratio(CRUISE_ALTITUDE)\n",
        "    print(f\"Ratio of F_cruise_altitude to F_earth_surface: {force_ratio_cruise:.5f}\")\n",
        "\n",
        "    # Calculate the percentage decrease in force at cruise altitude\n",
        "    force_decrease_cruise = calculate_force_decrease_percentage(force_ratio_cruise)\n",
        "    print(f\"Percentage decrease in gravitational force at cruise altitude: {force_decrease_cruise:.3f}%\")\n",
        "\n",
        "    # Generate and save the plot\n",
        "    plot_force_decrease()\n",
        "    print(\"Graph has been generated and saved as 'force_decrease_plot.png'\")\n",
        "\n",
        "if __name__ == \"__main__\":\n",
        "    main()"
      ]
    },
    {
      "cell_type": "markdown",
      "source": [
        "This table tracks the flow of data through a Python script, detailing the inputs and outputs of global constants and functions, as well as the overall script execution:\n",
        "\n",
        "| Function/Section | Inputs | Outputs |\n",
        "|------------------|--------|---------|\n",
        "| Global Constants | None | `EARTH_RADIUS` (6400 km)<br>`CRUISE_ALTITUDE` (10 km)<br>`R_EARTH_SURFACE` (6400 km)<br>`R_CRUISE_ALTITUDE` (6410 km) |\n",
        "| `calculate_force_ratio(altitude)` | `altitude` (float): Altitude above Earth's surface in km | float: Ratio of gravitational force at given altitude to force at Earth's surface |\n",
        "| `calculate_force_decrease_percentage(force_ratio)` | `force_ratio` (float): Result from `calculate_force_ratio()` | float: Percentage decrease in gravitational force |\n",
        "| `plot_force_decrease()` | None (uses global constants and other functions) | 1. Generates a plot<br>2. Saves plot as 'force_decrease_plot.png' |\n",
        "| `main()` | None | 1. Calls `calculate_force_ratio(CRUISE_ALTITUDE)`<br>2. Calls `calculate_force_decrease_percentage()`<br>3. Calls `plot_force_decrease()`<br>4. Prints three lines of output to console |\n",
        "\n",
        "This table effectively tracks the flow of data through the new Python script, detailing the inputs and outputs of global constants and functions, as well as the overall script execution. It clearly shows:\n",
        "\n",
        "1. The global constants that are used throughout the script.\n",
        "2. How `calculate_force_ratio()` now takes an altitude input, making it more flexible.\n",
        "3. The role of `calculate_force_decrease_percentage()` remains the same.\n",
        "4. The new `plot_force_decrease()` function, which generates and saves a plot.\n",
        "5. How `main()` orchestrates the overall flow, calling various functions and producing output.\n",
        "\n",
        "This approach successfully captures the essence of data flow in the script, from inputs to outputs, through various functions and the main execution. It provides a clear, at-a-glance understanding of how data moves through the script and what each component does."
      ],
      "metadata": {
        "id": "TdtRqEO8al-h"
      }
    },
    {
      "cell_type": "markdown",
      "source": [
        "Why do all three scripts use:\n",
        "def calculate_force_decrease_percentage(force_ratio):\n",
        "When force_ration only appears to be defined in the first script?\n",
        "\n",
        "Let me clarify this situation:\n",
        "\n",
        "1. First script:\n",
        "In this script, `force_ratio` is indeed explicitly defined in the `main()` function and then passed to `calculate_force_decrease_percentage()`.\n",
        "\n",
        "2. Second and third scripts:\n",
        "Although `force_ratio` isn't explicitly defined with that name, it's still being passed to the function. The variable name has changed, but the concept remains the same. Here's what's happening:\n",
        "\n",
        "   ```python\n",
        "   force_ratio_cruise = calculate_force_ratio(CRUISE_ALTITUDE)\n",
        "   force_decrease_cruise = calculate_force_decrease_percentage(force_ratio_cruise)\n",
        "   ```\n",
        "\n",
        "   In these scripts, `force_ratio_cruise` is playing the role that `force_ratio` played in the first script. It's still a force ratio, just with a more specific name.\n",
        "\n",
        "The reason all three scripts use `def calculate_force_decrease_percentage(force_ratio):` is that this function is designed to work with any force ratio, not just the one at cruise altitude. The parameter name `force_ratio` in the function definition is a generic name that doesn't change, even if the variable names used when calling the function do change.\n",
        "\n",
        "This is an important concept in programming:\n",
        "\n",
        "- Function parameter names (like `force_ratio` in the function definition) are local to the function and don't need to match the names of the variables used when calling the function.\n",
        "- What matters is the value being passed, not the name of the variable holding that value.\n",
        "\n",
        "So, while the scripts evolved to use more specific variable names (`force_ratio_cruise`), the function itself remained general-purpose, able to calculate the force decrease percentage for any given force ratio.\n",
        "\n",
        "This approach allows the function to be more versatile and reusable. For example, if we wanted to calculate the force decrease at multiple altitudes, we could reuse this same function without modification.\n",
        "\n",
        "This question highlights an important aspect of function design and variable naming in programming."
      ],
      "metadata": {
        "id": "MK1NZBtLfKb3"
      }
    }
  ]
}
