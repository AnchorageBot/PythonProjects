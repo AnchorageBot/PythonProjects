{
  "metadata": {
    "kernelspec": {
      "language": "python",
      "display_name": "Python 3",
      "name": "python3"
    },
    "language_info": {
      "name": "python",
      "version": "3.10.14",
      "mimetype": "text/x-python",
      "codemirror_mode": {
        "name": "ipython",
        "version": 3
      },
      "pygments_lexer": "ipython3",
      "nbconvert_exporter": "python",
      "file_extension": ".py"
    },
    "kaggle": {
      "accelerator": "none",
      "dataSources": [],
      "isInternetEnabled": false,
      "language": "python",
      "sourceType": "notebook",
      "isGpuEnabled": false
    },
    "colab": {
      "name": "Exercise: Lists",
      "provenance": []
    }
  },
  "nbformat_minor": 0,
  "nbformat": 4,
  "cells": [
    {
      "cell_type": "markdown",
      "source": [
        "**This notebook is an exercise in the [Python](https://www.kaggle.com/learn/python) course.  You can reference the tutorial at [this link](https://www.kaggle.com/colinmorris/lists).**\n",
        "\n",
        "---\n"
      ],
      "metadata": {
        "id": "ywAo6nFS3W86"
      }
    },
    {
      "cell_type": "markdown",
      "source": [
        "Things get more interesting with lists. You'll apply your new knowledge to solve the questions below. Remember to run the following cell first."
      ],
      "metadata": {
        "id": "lbBmsV3K3W89"
      }
    },
    {
      "cell_type": "code",
      "source": [
        "from learntools.core import binder; binder.bind(globals())\n",
        "from learntools.python.ex4 import *\n",
        "print('Setup complete.')"
      ],
      "metadata": {
        "execution": {
          "iopub.status.busy": "2024-11-27T04:08:23.202725Z",
          "iopub.execute_input": "2024-11-27T04:08:23.203127Z",
          "iopub.status.idle": "2024-11-27T04:08:24.559722Z",
          "shell.execute_reply.started": "2024-11-27T04:08:23.203078Z",
          "shell.execute_reply": "2024-11-27T04:08:24.558506Z"
        },
        "trusted": true,
        "id": "m1XQxqox3W89",
        "outputId": "f66ecf38-9c83-4363-cb8b-c06de7fbb887"
      },
      "outputs": [
        {
          "name": "stdout",
          "text": "Setup complete.\n",
          "output_type": "stream"
        }
      ],
      "execution_count": null
    },
    {
      "cell_type": "markdown",
      "source": [
        "# 1.\n",
        "\n",
        "Complete the function below according to its docstring."
      ],
      "metadata": {
        "id": "VDVG1KhV3W8-"
      }
    },
    {
      "cell_type": "code",
      "source": [
        "def select_second(L):\n",
        "    \"\"\"Return the second element of the given list. If the list has no second\n",
        "    element, return None.\n",
        "    \"\"\"\n",
        "\n",
        "    if len(L) < 2:\n",
        "        return None\n",
        "    else:\n",
        "        return L[1]\n",
        "\n",
        "    List = [1,2]\n",
        "    print(select_second(List))\n",
        "\n",
        "# Check your answer\n",
        "q1.check()"
      ],
      "metadata": {
        "execution": {
          "iopub.status.busy": "2024-11-27T04:10:28.61898Z",
          "iopub.execute_input": "2024-11-27T04:10:28.619352Z",
          "iopub.status.idle": "2024-11-27T04:10:28.630035Z",
          "shell.execute_reply.started": "2024-11-27T04:10:28.61932Z",
          "shell.execute_reply": "2024-11-27T04:10:28.62883Z"
        },
        "trusted": true,
        "id": "giuqVqZ13W8-",
        "outputId": "ea0db18c-f08a-4968-8612-3daa01186907"
      },
      "outputs": [
        {
          "output_type": "display_data",
          "data": {
            "text/plain": "<IPython.core.display.Javascript object>",
            "application/javascript": "parent.postMessage({\"jupyterEvent\": \"custom.exercise_interaction\", \"data\": {\"outcomeType\": 1, \"valueTowardsCompletion\": 0.2, \"interactionType\": 1, \"questionType\": 2, \"questionId\": \"1_SelectSecondItem\", \"learnToolsVersion\": \"0.3.4\", \"failureMessage\": \"\", \"exceptionClass\": \"\", \"trace\": \"\"}}, \"*\")"
          },
          "metadata": {}
        },
        {
          "output_type": "display_data",
          "data": {
            "text/plain": "Correct",
            "text/markdown": "<span style=\"color:#33cc33\">Correct</span>"
          },
          "metadata": {}
        }
      ],
      "execution_count": null
    },
    {
      "cell_type": "code",
      "source": [
        "List = [1,2]\n",
        "print(select_second(List))"
      ],
      "metadata": {
        "trusted": true,
        "execution": {
          "iopub.status.busy": "2024-11-27T04:11:41.800318Z",
          "iopub.execute_input": "2024-11-27T04:11:41.801382Z",
          "iopub.status.idle": "2024-11-27T04:11:41.806598Z",
          "shell.execute_reply.started": "2024-11-27T04:11:41.801336Z",
          "shell.execute_reply": "2024-11-27T04:11:41.805405Z"
        },
        "id": "SwYryK7L3W8-",
        "outputId": "3fe8b063-ae88-4d82-d560-cf6cfd5c8722"
      },
      "outputs": [
        {
          "name": "stdout",
          "text": "2\n",
          "output_type": "stream"
        }
      ],
      "execution_count": null
    },
    {
      "cell_type": "code",
      "source": [
        "#q1.hint()\n",
        "#q1.solution()"
      ],
      "metadata": {
        "execution": {
          "iopub.status.busy": "2021-08-12T04:47:41.600149Z",
          "iopub.execute_input": "2021-08-12T04:47:41.600563Z",
          "iopub.status.idle": "2021-08-12T04:47:41.604632Z",
          "shell.execute_reply.started": "2021-08-12T04:47:41.60053Z",
          "shell.execute_reply": "2021-08-12T04:47:41.603612Z"
        },
        "trusted": true,
        "id": "DEAEQzZZ3W8-"
      },
      "outputs": [],
      "execution_count": null
    },
    {
      "cell_type": "markdown",
      "source": [
        "# 2.\n",
        "\n",
        "You are analyzing sports teams.  Members of each team are stored in a list. The Coach is the first name in the list, the captain is the second name in the list, and other players are listed after that.\n",
        "These lists are stored in another list, which starts with the best team and proceeds through the list to the worst team last.  Complete the function below to select the **captain** of the worst team."
      ],
      "metadata": {
        "id": "8HJw4PlN3W8_"
      }
    },
    {
      "cell_type": "code",
      "source": [
        "def losing_team_captain(teams):\n",
        "    \"\"\"Given a list of teams, where each team is a list of names, return the 2nd player (captain)\n",
        "    from the last listed team\n",
        "    \"\"\"\n",
        "    return teams[-1][1]\n",
        "\n",
        "# Check your answer\n",
        "q2.check()"
      ],
      "metadata": {
        "execution": {
          "iopub.status.busy": "2024-11-27T04:12:40.681167Z",
          "iopub.execute_input": "2024-11-27T04:12:40.681562Z",
          "iopub.status.idle": "2024-11-27T04:12:40.690315Z",
          "shell.execute_reply.started": "2024-11-27T04:12:40.681525Z",
          "shell.execute_reply": "2024-11-27T04:12:40.689332Z"
        },
        "trusted": true,
        "id": "98VvtLqV3W8_",
        "outputId": "e01d3d49-3a8e-47b8-8908-ddb92f2d2eda"
      },
      "outputs": [
        {
          "output_type": "display_data",
          "data": {
            "text/plain": "<IPython.core.display.Javascript object>",
            "application/javascript": "parent.postMessage({\"jupyterEvent\": \"custom.exercise_interaction\", \"data\": {\"outcomeType\": 1, \"valueTowardsCompletion\": 0.2, \"interactionType\": 1, \"questionType\": 2, \"questionId\": \"2_LosingTeamCaptain\", \"learnToolsVersion\": \"0.3.4\", \"failureMessage\": \"\", \"exceptionClass\": \"\", \"trace\": \"\"}}, \"*\")"
          },
          "metadata": {}
        },
        {
          "output_type": "display_data",
          "data": {
            "text/plain": "Correct",
            "text/markdown": "<span style=\"color:#33cc33\">Correct</span>"
          },
          "metadata": {}
        }
      ],
      "execution_count": null
    },
    {
      "cell_type": "code",
      "source": [
        "teams = [\"Mario\", \"Bowser\", \"Luigi\"]\n",
        "print(teams)\n",
        "print(losing_team_captain(teams))"
      ],
      "metadata": {
        "trusted": true,
        "execution": {
          "iopub.status.busy": "2024-11-27T04:22:06.057278Z",
          "iopub.execute_input": "2024-11-27T04:22:06.057638Z",
          "iopub.status.idle": "2024-11-27T04:22:06.064038Z",
          "shell.execute_reply.started": "2024-11-27T04:22:06.057608Z",
          "shell.execute_reply": "2024-11-27T04:22:06.062694Z"
        },
        "id": "me4vj05p3W8_",
        "outputId": "68d94492-d28d-4883-8467-f59997f7f359"
      },
      "outputs": [
        {
          "name": "stdout",
          "text": "['Mario', 'Bowser', 'Luigi']\nu\n",
          "output_type": "stream"
        }
      ],
      "execution_count": null
    },
    {
      "cell_type": "code",
      "source": [
        "#q2.hint()\n",
        "#q2.solution()"
      ],
      "metadata": {
        "execution": {
          "iopub.status.busy": "2021-08-12T04:57:44.36945Z",
          "iopub.execute_input": "2021-08-12T04:57:44.369864Z",
          "iopub.status.idle": "2021-08-12T04:57:44.374026Z",
          "shell.execute_reply.started": "2021-08-12T04:57:44.369815Z",
          "shell.execute_reply": "2021-08-12T04:57:44.372992Z"
        },
        "trusted": true,
        "id": "MUurXdAI3W8_"
      },
      "outputs": [],
      "execution_count": null
    },
    {
      "cell_type": "markdown",
      "source": [
        "# 3.\n",
        "\n",
        "The next iteration of Mario Kart will feature an extra-infuriating new item, the *Purple Shell*. When used, it warps the last place racer into first place and the first place racer into last place. Complete the function below to implement the Purple Shell's effect."
      ],
      "metadata": {
        "id": "ML9PvmtI3W8_"
      }
    },
    {
      "cell_type": "code",
      "source": [
        "def purple_shell(racers):\n",
        "    \"\"\"Given a list of racers, set the first place racer (at the front of the list) to last\n",
        "    place and vice versa.\n",
        "\n",
        "    >>> r = [\"Mario\", \"Bowser\", \"Luigi\"]\n",
        "    >>> purple_shell(r)\n",
        "    >>> r\n",
        "    [\"Luigi\", \"Bowser\", \"Mario\"]\n",
        "    \"\"\"\n",
        "    #racers = [\"Mario\", \"Bowser\" \"Luigi\"]\n",
        "\n",
        "    temp = racers[0]\n",
        "    racers[0] = racers[-1]\n",
        "    racers[-1] = temp\n",
        "\n",
        "# Check your answer\n",
        "q3.check()"
      ],
      "metadata": {
        "execution": {
          "iopub.status.busy": "2024-11-27T04:15:57.246617Z",
          "iopub.execute_input": "2024-11-27T04:15:57.246994Z",
          "iopub.status.idle": "2024-11-27T04:15:57.256847Z",
          "shell.execute_reply.started": "2024-11-27T04:15:57.246956Z",
          "shell.execute_reply": "2024-11-27T04:15:57.255719Z"
        },
        "trusted": true,
        "id": "Ozh-6fc63W8_",
        "outputId": "79bd8b00-9ad4-4259-c1e4-f67c2be99fff"
      },
      "outputs": [
        {
          "output_type": "display_data",
          "data": {
            "text/plain": "<IPython.core.display.Javascript object>",
            "application/javascript": "parent.postMessage({\"jupyterEvent\": \"custom.exercise_interaction\", \"data\": {\"outcomeType\": 1, \"valueTowardsCompletion\": 0.2, \"interactionType\": 1, \"questionType\": 2, \"questionId\": \"3_PurpleShell\", \"learnToolsVersion\": \"0.3.4\", \"failureMessage\": \"\", \"exceptionClass\": \"\", \"trace\": \"\"}}, \"*\")"
          },
          "metadata": {}
        },
        {
          "output_type": "display_data",
          "data": {
            "text/plain": "Correct",
            "text/markdown": "<span style=\"color:#33cc33\">Correct</span>"
          },
          "metadata": {}
        }
      ],
      "execution_count": null
    },
    {
      "cell_type": "code",
      "source": [
        "racers = [\"Mario\", \"Bowser\", \"Luigi\"]\n",
        "print(racers)\n",
        "print(purple_shell(racers))"
      ],
      "metadata": {
        "trusted": true,
        "execution": {
          "iopub.status.busy": "2024-11-27T04:21:17.483196Z",
          "iopub.execute_input": "2024-11-27T04:21:17.483597Z",
          "iopub.status.idle": "2024-11-27T04:21:17.489624Z",
          "shell.execute_reply.started": "2024-11-27T04:21:17.483554Z",
          "shell.execute_reply": "2024-11-27T04:21:17.488167Z"
        },
        "id": "GGQLkcK33W9A",
        "outputId": "b9d5b544-ab51-4598-f067-3efb4be1c9a1"
      },
      "outputs": [
        {
          "name": "stdout",
          "text": "['Mario', 'Bowser', 'Luigi']\nNone\n",
          "output_type": "stream"
        }
      ],
      "execution_count": null
    },
    {
      "cell_type": "code",
      "source": [
        "#q3.hint()\n",
        "#q3.solution()"
      ],
      "metadata": {
        "execution": {
          "iopub.status.busy": "2021-08-12T05:35:06.985684Z",
          "iopub.execute_input": "2021-08-12T05:35:06.986331Z",
          "iopub.status.idle": "2021-08-12T05:35:06.990731Z",
          "shell.execute_reply.started": "2021-08-12T05:35:06.986289Z",
          "shell.execute_reply": "2021-08-12T05:35:06.989735Z"
        },
        "trusted": true,
        "id": "vZ3beXRy3W9A"
      },
      "outputs": [],
      "execution_count": null
    },
    {
      "cell_type": "markdown",
      "source": [
        "# 4.\n",
        "\n",
        "What are the lengths of the following lists? Fill in the variable `lengths` with your predictions. (Try to make a prediction for each list *without* just calling `len()` on it.)"
      ],
      "metadata": {
        "id": "K3OCKi923W9A"
      }
    },
    {
      "cell_type": "code",
      "source": [
        "a = [1, 2, 3]\n",
        "b = [1, [2, 3]]\n",
        "c = []\n",
        "d = [1, 2, 3][1:]\n",
        "\n",
        "# Put your predictions in the list below. Lengths should contain 4 numbers, the\n",
        "# first being the length of a, the second being the length of b and so on.\n",
        "lengths = [3,2,0,2]\n",
        "\n",
        "# Check your answer\n",
        "q4.check()"
      ],
      "metadata": {
        "execution": {
          "iopub.status.busy": "2024-11-27T04:17:21.280845Z",
          "iopub.execute_input": "2024-11-27T04:17:21.281211Z",
          "iopub.status.idle": "2024-11-27T04:17:21.290962Z",
          "shell.execute_reply.started": "2024-11-27T04:17:21.281181Z",
          "shell.execute_reply": "2024-11-27T04:17:21.289908Z"
        },
        "trusted": true,
        "id": "PcB2klKO3W9A",
        "outputId": "bd123c14-c305-4fb2-d323-b5534f0d669b"
      },
      "outputs": [
        {
          "output_type": "display_data",
          "data": {
            "text/plain": "<IPython.core.display.Javascript object>",
            "application/javascript": "parent.postMessage({\"jupyterEvent\": \"custom.exercise_interaction\", \"data\": {\"outcomeType\": 1, \"valueTowardsCompletion\": 0.2, \"interactionType\": 1, \"questionType\": 1, \"questionId\": \"4_UnderstandLen\", \"learnToolsVersion\": \"0.3.4\", \"failureMessage\": \"\", \"exceptionClass\": \"\", \"trace\": \"\"}}, \"*\")"
          },
          "metadata": {}
        },
        {
          "output_type": "display_data",
          "data": {
            "text/plain": "Correct: \n\n\n- a: There are three items in this list. Nothing tricky yet.\n- b: The list `[2, 3]` counts as a single item. It has one item before it. So we have 2 items in the list\n- c: The empty list has 0 items\n- d: The expression is the same as the list `[2, 3]`, which has length 2.",
            "text/markdown": "<span style=\"color:#33cc33\">Correct:</span> \n\n\n- a: There are three items in this list. Nothing tricky yet.\n- b: The list `[2, 3]` counts as a single item. It has one item before it. So we have 2 items in the list\n- c: The empty list has 0 items\n- d: The expression is the same as the list `[2, 3]`, which has length 2."
          },
          "metadata": {}
        }
      ],
      "execution_count": null
    },
    {
      "cell_type": "code",
      "source": [
        "# line below provides some explanation\n",
        "q4.solution()"
      ],
      "metadata": {
        "execution": {
          "iopub.status.busy": "2024-11-27T04:17:02.379146Z",
          "iopub.execute_input": "2024-11-27T04:17:02.379838Z",
          "iopub.status.idle": "2024-11-27T04:17:02.396248Z",
          "shell.execute_reply.started": "2024-11-27T04:17:02.379756Z",
          "shell.execute_reply": "2024-11-27T04:17:02.394907Z"
        },
        "trusted": true,
        "id": "kYdS4wpa3W9A",
        "outputId": "32f1d181-afc1-4d67-844e-cc5cf492670d"
      },
      "outputs": [
        {
          "output_type": "display_data",
          "data": {
            "text/plain": "<IPython.core.display.Javascript object>",
            "application/javascript": "parent.postMessage({\"jupyterEvent\": \"custom.exercise_interaction\", \"data\": {\"interactionType\": 3, \"questionType\": 1, \"questionId\": \"4_UnderstandLen\", \"learnToolsVersion\": \"0.3.4\", \"valueTowardsCompletion\": 0.0, \"failureMessage\": \"\", \"exceptionClass\": \"\", \"trace\": \"\", \"outcomeType\": 4}}, \"*\")"
          },
          "metadata": {}
        },
        {
          "output_type": "display_data",
          "data": {
            "text/plain": "Solution: \n- a: There are three items in this list. Nothing tricky yet.\n- b: The list `[2, 3]` counts as a single item. It has one item before it. So we have 2 items in the list\n- c: The empty list has 0 items\n- d: The expression is the same as the list `[2, 3]`, which has length 2.",
            "text/markdown": "<span style=\"color:#33cc99\">Solution:</span> \n- a: There are three items in this list. Nothing tricky yet.\n- b: The list `[2, 3]` counts as a single item. It has one item before it. So we have 2 items in the list\n- c: The empty list has 0 items\n- d: The expression is the same as the list `[2, 3]`, which has length 2."
          },
          "metadata": {}
        }
      ],
      "execution_count": null
    },
    {
      "cell_type": "markdown",
      "source": [
        "# 5. <span title=\"A bit spicy\" style=\"color: darkgreen \">🌶️</span>\n",
        "\n",
        "We're using lists to record people who attended our party and what order they arrived in. For example, the following list represents a party with 7 guests, in which Adela showed up first and Ford was the last to arrive:\n",
        "\n",
        "    party_attendees = ['Adela', 'Fleda', 'Owen', 'May', 'Mona', 'Gilbert', 'Ford']\n",
        "\n",
        "A guest is considered 'fashionably late' if they arrived after at least half of the party's guests. However, they must not be the very last guest (that's taking it too far). In the above example, Mona and Gilbert are the only guests who were fashionably late.\n",
        "\n",
        "Complete the function below which takes a list of party attendees as well as a person, and tells us whether that person is fashionably late."
      ],
      "metadata": {
        "id": "XVaC-NGy3W9A"
      }
    },
    {
      "cell_type": "code",
      "source": [
        "def fashionably_late(arrivals, name):\n",
        "    \"\"\"Given an ordered list of arrivals to the party and a name, return whether the guest with that\n",
        "    name was fashionably late.\n",
        "    A guest is considered 'fashionably late' if they arrived after at least half of the party's guests.\n",
        "    Last guest is late\n",
        "    \"\"\"\n",
        "    order = arrivals.index(name)\n",
        "    return order >= len(arrivals)/2 and order != len(arrivals) - 1\n",
        "\n",
        "# Check your answer\n",
        "q5.check()"
      ],
      "metadata": {
        "execution": {
          "iopub.status.busy": "2024-11-27T04:19:28.882796Z",
          "iopub.execute_input": "2024-11-27T04:19:28.883171Z",
          "iopub.status.idle": "2024-11-27T04:19:28.893292Z",
          "shell.execute_reply.started": "2024-11-27T04:19:28.88314Z",
          "shell.execute_reply": "2024-11-27T04:19:28.892161Z"
        },
        "trusted": true,
        "id": "Kyu7rESo3W9A",
        "outputId": "ebb1c328-6650-4d78-e25a-46149d3ac1ca"
      },
      "outputs": [
        {
          "output_type": "display_data",
          "data": {
            "text/plain": "<IPython.core.display.Javascript object>",
            "application/javascript": "parent.postMessage({\"jupyterEvent\": \"custom.exercise_interaction\", \"data\": {\"outcomeType\": 1, \"valueTowardsCompletion\": 0.2, \"interactionType\": 1, \"questionType\": 2, \"questionId\": \"5_FashionablyLate\", \"learnToolsVersion\": \"0.3.4\", \"failureMessage\": \"\", \"exceptionClass\": \"\", \"trace\": \"\"}}, \"*\")"
          },
          "metadata": {}
        },
        {
          "output_type": "display_data",
          "data": {
            "text/plain": "Correct",
            "text/markdown": "<span style=\"color:#33cc33\">Correct</span>"
          },
          "metadata": {}
        }
      ],
      "execution_count": null
    },
    {
      "cell_type": "code",
      "source": [
        "q5.hint()\n",
        "q5.solution()"
      ],
      "metadata": {
        "execution": {
          "iopub.status.busy": "2024-11-27T04:19:39.338445Z",
          "iopub.execute_input": "2024-11-27T04:19:39.33887Z",
          "iopub.status.idle": "2024-11-27T04:19:39.351697Z",
          "shell.execute_reply.started": "2024-11-27T04:19:39.338809Z",
          "shell.execute_reply": "2024-11-27T04:19:39.350575Z"
        },
        "trusted": true,
        "id": "oAS4A8cO3W9B",
        "outputId": "b3d4037c-eb53-4710-c29f-de3150cab398"
      },
      "outputs": [
        {
          "output_type": "display_data",
          "data": {
            "text/plain": "<IPython.core.display.Javascript object>",
            "application/javascript": "parent.postMessage({\"jupyterEvent\": \"custom.exercise_interaction\", \"data\": {\"interactionType\": 2, \"questionType\": 2, \"questionId\": \"5_FashionablyLate\", \"learnToolsVersion\": \"0.3.4\", \"valueTowardsCompletion\": 0.0, \"failureMessage\": \"\", \"exceptionClass\": \"\", \"trace\": \"\", \"outcomeType\": 4}}, \"*\")"
          },
          "metadata": {}
        },
        {
          "output_type": "display_data",
          "data": {
            "text/plain": "Hint: Use the index method to find when the person arrived. Check whether that is a fashionably late spot given the list length (`len`). Think about 0-indexing",
            "text/markdown": "<span style=\"color:#3366cc\">Hint:</span> Use the index method to find when the person arrived. Check whether that is a fashionably late spot given the list length (`len`). Think about 0-indexing"
          },
          "metadata": {}
        },
        {
          "output_type": "display_data",
          "data": {
            "text/plain": "<IPython.core.display.Javascript object>",
            "application/javascript": "parent.postMessage({\"jupyterEvent\": \"custom.exercise_interaction\", \"data\": {\"interactionType\": 3, \"questionType\": 2, \"questionId\": \"5_FashionablyLate\", \"learnToolsVersion\": \"0.3.4\", \"valueTowardsCompletion\": 0.0, \"failureMessage\": \"\", \"exceptionClass\": \"\", \"trace\": \"\", \"outcomeType\": 4}}, \"*\")"
          },
          "metadata": {}
        },
        {
          "output_type": "display_data",
          "data": {
            "text/plain": "Solution: \n```python\ndef fashionably_late(arrivals, name):\n    order = arrivals.index(name)\n    return order >= len(arrivals) / 2 and order != len(arrivals) - 1\n```",
            "text/markdown": "<span style=\"color:#33cc99\">Solution:</span> \n```python\ndef fashionably_late(arrivals, name):\n    order = arrivals.index(name)\n    return order >= len(arrivals) / 2 and order != len(arrivals) - 1\n```"
          },
          "metadata": {}
        }
      ],
      "execution_count": null
    },
    {
      "cell_type": "markdown",
      "source": [
        "# Keep Going\n",
        "\n",
        "That's it for lists and tuples! Now you have the baseline knowledge to **[learn about loops](https://www.kaggle.com/colinmorris/loops-and-list-comprehensions)**, which is where lists and tuples get really interesting."
      ],
      "metadata": {
        "id": "wfUK_xx43W9B"
      }
    },
    {
      "cell_type": "markdown",
      "source": [
        "---\n",
        "\n",
        "\n",
        "\n",
        "\n",
        "*Have questions or comments? Visit the [Learn Discussion forum](https://www.kaggle.com/learn-forum/161283) to chat with other Learners.*"
      ],
      "metadata": {
        "id": "jgOF7FIn3W9B"
      }
    }
  ]
}