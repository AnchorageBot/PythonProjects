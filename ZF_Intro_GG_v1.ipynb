{
  "nbformat": 4,
  "nbformat_minor": 0,
  "metadata": {
    "colab": {
      "provenance": [],
      "authorship_tag": "ABX9TyOEfdqEE94k1SDBpgqP+GlC"
    },
    "kernelspec": {
      "name": "python3",
      "display_name": "Python 3"
    },
    "language_info": {
      "name": "python"
    }
  },
  "cells": [
    {
      "cell_type": "markdown",
      "source": [
        "Zermelo-Fraenkel Axioms with Equations\n",
        "\n",
        "* Tutor: Google Gemini Advanced"
      ],
      "metadata": {
        "id": "C99ozK_-aETb"
      }
    },
    {
      "cell_type": "markdown",
      "source": [
        "This uses standard LaTeX delimiters (`$$...$$`) for the equations so they render correctly in Colab.\n",
        "\n",
        "***\n",
        "\n",
        "**Zermelo-Fraenkel Axioms (ZF)**\n",
        "\n",
        "The Zermelo-Fraenkel axioms (ZF) form a standard axiomatic foundation for set theory. They provide a formal framework to define and reason about sets, avoiding the paradoxes of naive set theory.\n",
        "\n",
        "1.  **Axiom of Extensionality:** This axiom states that two sets are equal if and only if they have the same elements. It formalizes the intuitive idea that the identity of a set is determined solely by its members.\n",
        "    $$\\forall x \\forall y (x = y \\leftrightarrow \\forall z (z \\in x \\leftrightarrow z \\in y))$$\n",
        "\n",
        "2.  **Axiom of Regularity (or Foundation):** This axiom asserts that every non-empty set contains an element that is disjoint from the set itself. This prevents the existence of sets that contain themselves (e.g., $x \\in x$) or infinite descending chains of membership (e.g., $... \\in x_3 \\in x_2 \\in x_1$).\n",
        "    $$\\forall x (x \\neq \\emptyset \\rightarrow \\exists y (y \\in x \\wedge y \\cap x = \\emptyset))$$\n",
        "\n",
        "3.  **Axiom Schema of Separation (or Specification):** For any set and any definable property, there exists a subset of the original set containing precisely the elements that satisfy the property. This axiom allows for the construction of subsets based on specific criteria. It's a schema because it represents an infinite set of axioms, one for each possible property expressible in the language of set theory.\n",
        "    $$\\forall A \\exists B \\forall x (x \\in B \\leftrightarrow (x \\in A \\wedge \\phi(x)))$$\n",
        "    where $\\phi(x)$ is any formula in the language of set theory in which $x$ is a free variable and $B$ is not free in $\\phi(x)$.\n",
        "\n",
        "4.  **Axiom of Pairing:** For any two sets, there exists a set that contains exactly these two sets as its elements. This allows for the formation of unordered pairs.\n",
        "    $$\\forall x \\forall y \\exists z \\forall w (w \\in z \\leftrightarrow (w = x \\vee w = y))$$\n",
        "\n",
        "5.  **Axiom of Union:** For any set of sets, there exists a set that contains all the elements of all the sets within the given set. This axiom allows for the formation of the union of any collection of sets.\n",
        "    $$\\forall \\mathcal{F} \\exists A \\forall y (y \\in A \\leftrightarrow \\exists x (x \\in \\mathcal{F} \\wedge y \\in x))$$\n",
        "\n",
        "6.  **Axiom of Replacement:** This axiom states that if a relation is \"functional\" on a set (meaning for every element in the set, the relation relates it to a unique element), then the \"image\" of the set under this relation is also a set. This is a powerful axiom for constructing new sets. It is also a schema.\n",
        "    $$\\forall A [\\forall x \\in A \\exists! y \\phi(x, y)] \\rightarrow \\exists B \\forall y [y \\in B \\leftrightarrow \\exists x \\in A \\phi(x, y)]$$\n",
        "    where $\\phi(x, y)$ is any formula in the language of set theory in which $x$ and $y$ are free variables, and $B$ is not free in $\\phi(x, y)$. $\\exists! y \\phi(x, y)$ means \"there exists a unique $y$ such that $\\phi(x, y)$ is true\".\n",
        "\n",
        "7.  **Axiom of Infinity:** There exists a set that is \"inductive,\" meaning it contains the empty set and for every element in the set, it also contains the successor of that element (where the successor of a set $y$ is defined as $y \\cup \\{y\\}$). This axiom guarantees the existence of at least one infinite set, which is crucial for the development of mathematics within set theory.\n",
        "    $$\\exists I (\\emptyset \\in I \\wedge \\forall y (y \\in I \\rightarrow y \\cup \\{y\\} \\in I))$$\n",
        "\n",
        "8.  **Axiom of Power Set:** For any set, there exists a set containing all the subsets of the given set. This allows for the construction of larger sets from existing ones.\n",
        "    $$\\forall x \\exists y \\forall z (z \\in y \\leftrightarrow z \\subseteq x)$$\n",
        "\n",
        "These eight axioms constitute the ZF system. The widely used system of Zermelo-Fraenkel set theory with the Axiom of Choice is denoted as ZFC. The Axiom of Choice (AC) is often stated separately:\n",
        "\n",
        "9.  **Axiom of Choice (AC):** For every collection of non-empty sets, there exists a choice function that picks exactly one element from each set in the collection.\n",
        "    $$\\forall X [\\emptyset \\notin X \\rightarrow \\exists f: X \\rightarrow \\bigcup X \\forall A \\in X (f(A) \\in A)]$$\n",
        "\n",
        "***"
      ],
      "metadata": {
        "id": "nereBZQGdHL-"
      }
    }
  ]
}