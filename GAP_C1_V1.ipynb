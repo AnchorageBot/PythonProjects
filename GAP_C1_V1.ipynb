{
  "nbformat": 4,
  "nbformat_minor": 0,
  "metadata": {
    "colab": {
      "provenance": [],
      "authorship_tag": "ABX9TyONl/wVohqT5WW2bRODx2Dp"
    },
    "kernelspec": {
      "name": "python3",
      "display_name": "Python 3"
    },
    "language_info": {
      "name": "python"
    }
  },
  "cells": [
    {
      "cell_type": "markdown",
      "source": [
        "# Genetic Algorithms with Python - Clinton Shepard\n",
        "\n",
        "Chapter 1 - Hello World"
      ],
      "metadata": {
        "id": "yNLb0KXXFOcQ"
      }
    },
    {
      "cell_type": "markdown",
      "source": [
        "Python library - [random](https://docs.python.org/3/library/random.html)\n",
        "\n",
        "\"This module implements pseudo-random number generators for various distributions.\""
      ],
      "metadata": {
        "id": "RHShdEZIJVQK"
      }
    },
    {
      "cell_type": "code",
      "source": [
        "import random"
      ],
      "metadata": {
        "id": "VYaxRAtgJeHn"
      },
      "execution_count": 10,
      "outputs": []
    },
    {
      "cell_type": "markdown",
      "source": [
        "Optimization: set and subset"
      ],
      "metadata": {
        "id": "rQ5of5GUJG2Q"
      }
    },
    {
      "cell_type": "code",
      "execution_count": 11,
      "metadata": {
        "id": "f8gAp9v9FN21"
      },
      "outputs": [],
      "source": [
        "# Genome = set of possible string values; possible universe\n",
        "Genome = \"abcdefghijklmonopqrstuvwxyzABCDEFGHIJKLMNOPQRSTUVWXYZ,.?! \"\n",
        "\n",
        "# Gene = subset of string values; target phrase\n",
        "Gene =\"Hello World!\""
      ]
    },
    {
      "cell_type": "markdown",
      "source": [
        "Generate a guess"
      ],
      "metadata": {
        "id": "HSptZadCJqb3"
      }
    },
    {
      "cell_type": "code",
      "source": [
        "def guess_gene_length(length):\n",
        "  \"\"\" This function will generate a guess using values from the Genome set\"\"\"\n",
        "\n",
        "  possible_genes = []\n",
        "\n",
        "  while len(possible_genes) < length:\n",
        "    gene_length = min(length - len(possible_genes), len(Genome))\n",
        "    possible_genes.extend(random.sample(Genome, length))\n",
        "\n",
        "  return \"\".join(possible_genes)\n",
        "\n",
        "print(guess_gene_length(12))"
      ],
      "metadata": {
        "colab": {
          "base_uri": "https://localhost:8080/"
        },
        "id": "3dkWGUfmJ3P4",
        "outputId": "33495581-dd36-4848-b77a-bd6c419a2732"
      },
      "execution_count": 17,
      "outputs": [
        {
          "output_type": "stream",
          "name": "stdout",
          "text": [
            "UYab VZ!koQF\n"
          ]
        }
      ]
    }
  ]
}