{
  "nbformat": 4,
  "nbformat_minor": 0,
  "metadata": {
    "colab": {
      "provenance": [],
      "authorship_tag": "ABX9TyOt1lQjSLJsvoiNYbFRCmeB"
    },
    "kernelspec": {
      "name": "python3",
      "display_name": "Python 3"
    },
    "language_info": {
      "name": "python"
    }
  },
  "cells": [
    {
      "cell_type": "markdown",
      "source": [
        "### Modeling with Differential & Difference Eqns\n",
        "* Glenn Fulford, Pete Forrester, Arthur Jones\n",
        "\n",
        "Chapter 1\n",
        "* Newtonian Mechanics\n",
        "\n",
        "[Markdown Reference](https://docs.github.com/en/get-started/writing-on-github/getting-started-with-writing-and-formatting-on-github/basic-writing-and-formatting-syntax)\n",
        "\n",
        "Tutor\n",
        "* Anthropic's AI Claude"
      ],
      "metadata": {
        "id": "dec-Vny9BBe7"
      }
    },
    {
      "cell_type": "markdown",
      "source": [
        "### 1. Newton's Law of Universal Gravitation\n",
        "\n",
        "$$ F = \\frac{G(m_1)(m_2)}{r^2} $$\n",
        "\n",
        "| Symbol | Meaning |\n",
        "|--------|---------|\n",
        "| $F$ | Force of attraction |\n",
        "| $G$ | Gravitational constant |\n",
        "| $m_1$ | Mass of body 1 |\n",
        "| $m_2$ | Mass of body 2 |\n",
        "| $r$ | Distance between the centers of the two bodies |\n",
        "\n",
        "**Summary**: Newton's Law of Universal Gravitation states that every pair of bodies in the universe exerts a force of mutual attraction on each other."
      ],
      "metadata": {
        "id": "pkML34ezze-0"
      }
    },
    {
      "cell_type": "markdown",
      "source": [
        "Given:\n",
        "* A jet airliner ascends to, and cruises at, 10 km above the earth\n",
        "* The radius of the earth is 6,400 km\n",
        "\n",
        "Find:\n",
        "* The amount that the force of attraction between the jet and the earth decreases at 10 km\n",
        "\n",
        "Assume:\n",
        "* F <sub>cruise_altitude</sub>\n",
        "* F <sub>earth_surface</sub>\n",
        "* r <sub>cruise_altitude</sub> = 6,410 km\n",
        "* r <sub>earth_surface</sub> = 6,400 km\n",
        "\n",
        "Solution:\n",
        "* $\\frac{F_\\text{cruise_altitude}}{F_\\text{earth_surface}}$ = $\\frac{\\frac{G(m_1)(m_2)}{r_\\text{cruise_altitude}^{2}}}{\\frac{G(m_1)(m_2)}{r_\\text{earth_surface}^{2}}}$ = $\\frac{r_\\text{earth_surface}^{2}}{r_\\text{cruise_altitude}^{2}}$ = $\\frac{6,400^2}{6,410^2}$ = 0.99688\n",
        "* 1 - 0.99688 = 0.00312\n",
        "* 100(0.00312) = 0.312 % change in attraction force"
      ],
      "metadata": {
        "id": "e-9f7e72cq_L"
      }
    },
    {
      "cell_type": "markdown",
      "source": [
        "This script does the following:\n",
        "\n",
        "1. It starts with an abstract explaining the purpose of the script.\n",
        "2. It imports the math module (though it's not used in this simple calculation, it's often useful for more complex mathematical operations).\n",
        "3. It defines the given constants: Earth's radius and the cruise altitude.\n",
        "4. It defines two functions:\n",
        "\n",
        "* calculate_force_ratio(): Calculates the ratio of the gravitational force at cruise altitude to the force at Earth's surface.\n",
        "* calculate_force_decrease_percentage(): Calculates the percentage decrease in gravitational force.\n",
        "\n",
        "\n",
        "The main() function calls these calculation functions and prints the results.\n",
        "The script uses the if __name__ == \"__main__\": idiom to run the main() function only if the script is run directly (not imported as a module).\n",
        "\n",
        "This script provides a more structured and reusable approach to solving the problem, with clear separation of concerns and well-documented functions."
      ],
      "metadata": {
        "id": "KWaWZUKluGRg"
      }
    },
    {
      "cell_type": "code",
      "execution_count": null,
      "metadata": {
        "colab": {
          "base_uri": "https://localhost:8080/"
        },
        "id": "4EwcKEjEA7JS",
        "outputId": "0b5c3db0-08e8-44e3-a4b2-ca8d17033e63"
      },
      "outputs": [
        {
          "output_type": "stream",
          "name": "stdout",
          "text": [
            "Ratio of F_cruise_altitude to F_earth_surface: 0.99688\n",
            "Percentage decrease in gravitational force: 0.312%\n"
          ]
        }
      ],
      "source": [
        "\"\"\"\n",
        "Abstract:\n",
        "This script calculates the decrease in gravitational force between a jet airliner\n",
        "and the Earth when the jet ascends from the Earth's surface to its cruising altitude.\n",
        "It demonstrates the inverse square law of gravitational attraction and how small\n",
        "changes in distance can affect gravitational force.\n",
        "\n",
        "\"\"\"\n",
        "\n",
        "import math\n",
        "\n",
        "# Given constants\n",
        "EARTH_RADIUS = 6400  # km\n",
        "CRUISE_ALTITUDE = 10  # km\n",
        "R_EARTH_SURFACE = EARTH_RADIUS  # km\n",
        "R_CRUISE_ALTITUDE = EARTH_RADIUS + CRUISE_ALTITUDE  # km\n",
        "\n",
        "def calculate_force_ratio():\n",
        "    \"\"\"\n",
        "    Calculate the ratio of gravitational force at cruise altitude to the force at Earth's surface.\n",
        "\n",
        "    Returns:\n",
        "    float: The ratio of F_cruise_altitude to F_earth_surface\n",
        "    \"\"\"\n",
        "    return (R_EARTH_SURFACE ** 2) / (R_CRUISE_ALTITUDE ** 2)\n",
        "\n",
        "def calculate_force_decrease_percentage(force_ratio):\n",
        "    \"\"\"\n",
        "    Calculate the percentage decrease in gravitational force.\n",
        "\n",
        "    Args:\n",
        "    force_ratio (float): The ratio of forces calculated by calculate_force_ratio()\n",
        "\n",
        "    Returns:\n",
        "    float: The percentage decrease in gravitational force\n",
        "    \"\"\"\n",
        "    return (1 - force_ratio) * 100\n",
        "\n",
        "def main():\n",
        "    # Calculate the ratio of forces\n",
        "    force_ratio = calculate_force_ratio()\n",
        "    print(f\"Ratio of F_cruise_altitude to F_earth_surface: {force_ratio:.5f}\")\n",
        "\n",
        "    # Calculate the percentage decrease in force\n",
        "    force_decrease = calculate_force_decrease_percentage(force_ratio)\n",
        "    print(f\"Percentage decrease in gravitational force: {force_decrease:.3f}%\")\n",
        "\n",
        "if __name__ == \"__main__\":\n",
        "    main()"
      ]
    },
    {
      "cell_type": "markdown",
      "source": [
        "This updated script includes the following changes and additions:\n",
        "\n",
        "1. The abstract has been expanded to include information about the graph generation.\n",
        "2. We've imported numpy and matplotlib for numerical operations and plotting.\n",
        "3. The `calculate_force_ratio()` function has been modified to take altitude as an argument, making it more flexible.\n",
        "4. A new function `plot_force_decrease()` has been added. This function:\n",
        "   - Creates a range of altitudes from 0 to the cruise altitude.\n",
        "   - Calculates the force ratio and force decrease for each altitude.\n",
        "   - Plots the force decrease percentage against altitude.\n",
        "   - Saves the plot as a PNG file.\n",
        "5. The `main()` function now calls `plot_force_decrease()` in addition to performing the calculations for the cruise altitude.\n",
        "\n",
        "This script will produce both numerical results for the cruise altitude and a graph showing how the gravitational force decreases over the entire ascent from the Earth's surface to the cruising altitude. The graph will be saved as 'force_decrease_plot.png' in the same directory as the script."
      ],
      "metadata": {
        "id": "R7f4Yjpdw6oZ"
      }
    },
    {
      "cell_type": "code",
      "source": [
        "\"\"\"\n",
        "Abstract:\n",
        "This script calculates and visualizes the decrease in gravitational force between a jet airliner\n",
        "and the Earth as the jet ascends from the Earth's surface to its cruising altitude.\n",
        "It demonstrates the inverse square law of gravitational attraction, showing how the\n",
        "gravitational force changes with altitude. The script calculates the force ratio\n",
        "at cruising altitude and generates a graph illustrating the force decrease over the\n",
        "ascent.\n",
        "\n",
        "\"\"\"\n",
        "\n",
        "import math\n",
        "import numpy as np\n",
        "import matplotlib.pyplot as plt\n",
        "\n",
        "# Given constants\n",
        "EARTH_RADIUS = 6400  # km\n",
        "CRUISE_ALTITUDE = 10  # km\n",
        "R_EARTH_SURFACE = EARTH_RADIUS  # km\n",
        "R_CRUISE_ALTITUDE = EARTH_RADIUS + CRUISE_ALTITUDE  # km\n",
        "\n",
        "def calculate_force_ratio(altitude):\n",
        "    \"\"\"\n",
        "    Calculate the ratio of gravitational force at a given altitude to the force at Earth's surface.\n",
        "\n",
        "    Args:\n",
        "    altitude (float): The altitude above Earth's surface in km\n",
        "\n",
        "    Returns:\n",
        "    float: The ratio of F_altitude to F_earth_surface\n",
        "    \"\"\"\n",
        "    return (R_EARTH_SURFACE ** 2) / ((R_EARTH_SURFACE + altitude) ** 2)\n",
        "\n",
        "def calculate_force_decrease_percentage(force_ratio):\n",
        "    \"\"\"\n",
        "    Calculate the percentage decrease in gravitational force.\n",
        "\n",
        "    Args:\n",
        "    force_ratio (float): The ratio of forces calculated by calculate_force_ratio()\n",
        "\n",
        "    Returns:\n",
        "    float: The percentage decrease in gravitational force\n",
        "    \"\"\"\n",
        "    return (1 - force_ratio) * 100\n",
        "\n",
        "def plot_force_decrease():\n",
        "    \"\"\"\n",
        "    Create a plot showing how gravitational force decreases with altitude.\n",
        "    \"\"\"\n",
        "    altitudes = np.linspace(0, CRUISE_ALTITUDE, 100)\n",
        "    force_ratios = [calculate_force_ratio(alt) for alt in altitudes]\n",
        "    force_decreases = [calculate_force_decrease_percentage(ratio) for ratio in force_ratios]\n",
        "\n",
        "    plt.figure(figsize=(10, 6))\n",
        "    plt.plot(altitudes, force_decreases)\n",
        "    plt.title('Decrease in Gravitational Force with Altitude')\n",
        "    plt.xlabel('Altitude (km)')\n",
        "    plt.ylabel('Force Decrease (%)')\n",
        "    plt.grid(True)\n",
        "    plt.savefig('force_decrease_plot.png')\n",
        "    plt.close()\n",
        "\n",
        "def main():\n",
        "    # Calculate the ratio of forces at cruise altitude\n",
        "    force_ratio_cruise = calculate_force_ratio(CRUISE_ALTITUDE)\n",
        "    print(f\"Ratio of F_cruise_altitude to F_earth_surface: {force_ratio_cruise:.5f}\")\n",
        "\n",
        "    # Calculate the percentage decrease in force at cruise altitude\n",
        "    force_decrease_cruise = calculate_force_decrease_percentage(force_ratio_cruise)\n",
        "    print(f\"Percentage decrease in gravitational force at cruise altitude: {force_decrease_cruise:.3f}%\")\n",
        "\n",
        "    # Generate and save the plot\n",
        "    plot_force_decrease()\n",
        "    print(\"Graph has been generated and saved as 'force_decrease_plot.png'\")\n",
        "\n",
        "if __name__ == \"__main__\":\n",
        "    main()"
      ],
      "metadata": {
        "colab": {
          "base_uri": "https://localhost:8080/"
        },
        "id": "4Ukx61uUxHh7",
        "outputId": "77f22dd0-279c-45cb-c7ac-5f99da6170bf"
      },
      "execution_count": null,
      "outputs": [
        {
          "output_type": "stream",
          "name": "stdout",
          "text": [
            "Ratio of F_cruise_altitude to F_earth_surface: 0.99688\n",
            "Percentage decrease in gravitational force at cruise altitude: 0.312%\n",
            "Graph has been generated and saved as 'force_decrease_plot.png'\n"
          ]
        }
      ]
    },
    {
      "cell_type": "markdown",
      "source": [
        "The script will output the numerical results and display the graph directly in the notebook. This approach provides a more interactive experience in the Colab environment, allowing you to see the results and the visualization immediately without needing to download or open separate files."
      ],
      "metadata": {
        "id": "bN9FLMNr0shS"
      }
    },
    {
      "cell_type": "markdown",
      "source": [
        "Here are the key changes made to adapt the script for Google Colab:\n",
        "\n",
        "1. We've imported output from google.colab to help manage the output display in Colab.\n",
        "2. In the plot_force_decrease() function:\n",
        "3. We've removed the plt.savefig() call since we're displaying the plot directly.\n",
        "4. We've added output.clear() to clear any previous output before showing the new plot.\n",
        "5. We use plt.show() to display the plot in the notebook.\n",
        "\n",
        "The abstract has been updated to mention that the graph will be displayed directly in the Google Colab notebook.\n",
        "\n",
        "The print statement at the end of main() has been updated to reflect that the graph is displayed above rather than saved as a file."
      ],
      "metadata": {
        "id": "S3hDToa50Ou7"
      }
    },
    {
      "cell_type": "code",
      "source": [
        "\"\"\"\n",
        "Abstract:\n",
        "This script calculates and visualizes the decrease in gravitational force between a jet airliner\n",
        "and the Earth as the jet ascends from the Earth's surface to its cruising altitude.\n",
        "It demonstrates the inverse square law of gravitational attraction, showing how the\n",
        "gravitational force changes with altitude. The script calculates the force ratio\n",
        "at cruising altitude and generates a graph illustrating the force decrease over the\n",
        "ascent, displaying it directly in the Google Colab notebook.\n",
        "\n",
        "\"\"\"\n",
        "\n",
        "import math\n",
        "import numpy as np\n",
        "import matplotlib.pyplot as plt\n",
        "from google.colab import output\n",
        "\n",
        "# Given constants\n",
        "EARTH_RADIUS = 6400  # km\n",
        "CRUISE_ALTITUDE = 10  # km\n",
        "R_EARTH_SURFACE = EARTH_RADIUS  # km\n",
        "R_CRUISE_ALTITUDE = EARTH_RADIUS + CRUISE_ALTITUDE  # km\n",
        "\n",
        "def calculate_force_ratio(altitude):\n",
        "    \"\"\"\n",
        "    Calculate the ratio of gravitational force at a given altitude to the force at Earth's surface.\n",
        "\n",
        "    Args:\n",
        "    altitude (float): The altitude above Earth's surface in km\n",
        "\n",
        "    Returns:\n",
        "    float: The ratio of F_altitude to F_earth_surface\n",
        "    \"\"\"\n",
        "    return (R_EARTH_SURFACE ** 2) / ((R_EARTH_SURFACE + altitude) ** 2)\n",
        "\n",
        "def calculate_force_decrease_percentage(force_ratio):\n",
        "    \"\"\"\n",
        "    Calculate the percentage decrease in gravitational force.\n",
        "\n",
        "    Args:\n",
        "    force_ratio (float): The ratio of forces calculated by calculate_force_ratio()\n",
        "\n",
        "    Returns:\n",
        "    float: The percentage decrease in gravitational force\n",
        "    \"\"\"\n",
        "    return (1 - force_ratio) * 100\n",
        "\n",
        "def plot_force_decrease():\n",
        "    \"\"\"\n",
        "    Create and display a plot showing how gravitational force decreases with altitude.\n",
        "    \"\"\"\n",
        "    altitudes = np.linspace(0, CRUISE_ALTITUDE, 100)\n",
        "    force_ratios = [calculate_force_ratio(alt) for alt in altitudes]\n",
        "    force_decreases = [calculate_force_decrease_percentage(ratio) for ratio in force_ratios]\n",
        "\n",
        "    plt.figure(figsize=(10, 6))\n",
        "    plt.plot(altitudes, force_decreases)\n",
        "    plt.title('Decrease in Gravitational Force with Altitude')\n",
        "    plt.xlabel('Altitude (km)')\n",
        "    plt.ylabel('Force Decrease (%)')\n",
        "    plt.grid(True)\n",
        "\n",
        "    # Display the plot in Colab\n",
        "    output.clear()\n",
        "    plt.show()\n",
        "\n",
        "def main():\n",
        "    # Calculate the ratio of forces at cruise altitude\n",
        "    force_ratio_cruise = calculate_force_ratio(CRUISE_ALTITUDE)\n",
        "    print(f\"Ratio of F_cruise_altitude to F_earth_surface: {force_ratio_cruise:.5f}\")\n",
        "\n",
        "    # Calculate the percentage decrease in force at cruise altitude\n",
        "    force_decrease_cruise = calculate_force_decrease_percentage(force_ratio_cruise)\n",
        "    print(f\"Percentage decrease in gravitational force at cruise altitude: {force_decrease_cruise:.3f}%\")\n",
        "\n",
        "    # Generate and display the plot\n",
        "    plot_force_decrease()\n",
        "    print(\"Graph has been generated and displayed above.\")\n",
        "\n",
        "if __name__ == \"__main__\":\n",
        "    main()"
      ],
      "metadata": {
        "colab": {
          "base_uri": "https://localhost:8080/",
          "height": 581
        },
        "id": "gS17xeM4yNex",
        "outputId": "17cce10b-d28c-4445-97f6-0fe3c3d714a0"
      },
      "execution_count": null,
      "outputs": [
        {
          "output_type": "display_data",
          "data": {
            "text/plain": [
              "<Figure size 1000x600 with 1 Axes>"
            ],
            "image/png": "[encoded data removed]"
          },
          "metadata": {}
        },
        {
          "output_type": "stream",
          "name": "stdout",
          "text": [
            "Graph has been generated and displayed above.\n"
          ]
        }
      ]
    }
  ]
}