{
  "nbformat": 4,
  "nbformat_minor": 0,
  "metadata": {
    "colab": {
      "provenance": [],
      "authorship_tag": "ABX9TyPJBuTd6vnmhobwv/RyQV5n"
    },
    "kernelspec": {
      "name": "python3",
      "display_name": "Python 3"
    },
    "language_info": {
      "name": "python"
    }
  },
  "cells": [
    {
      "cell_type": "markdown",
      "source": [
        "Bayesian Notebook\n",
        "* Tutors:\n",
        "  * [What the Heck is Bayesian Stats ?? : Data Science Basics - ritvikmath](https://youtu.be/-1dYY43DRMA?si=ndcXyssfNPWsTiqn)\n",
        "  * Anthropic's AI, Claude"
      ],
      "metadata": {
        "id": "dg-Ut0giOCeq"
      }
    },
    {
      "cell_type": "markdown",
      "source": [
        "Given:\n",
        "\n",
        "You have data about the two rooms in your house where your cell phone is typically found\n",
        "\n",
        "| Room  | Noise | No Noise | Total |\n",
        "|-------|-------|----------|-------|\n",
        "| B     | 15    | 135      | 150   |\n",
        "| S     | 5     | 15       | 20    |\n",
        "| Total | 20    | 150      | 170   |"
      ],
      "metadata": {
        "id": "p69-yTmCOckp"
      }
    },
    {
      "cell_type": "code",
      "execution_count": 2,
      "metadata": {
        "colab": {
          "base_uri": "https://localhost:8080/"
        },
        "id": "8W5sJ6eeN-Ym",
        "outputId": "46b6867c-3be7-4e35-fb4d-8c4b2d2d7913"
      },
      "outputs": [
        {
          "output_type": "stream",
          "name": "stdout",
          "text": [
            "Room   Noise   No Noise  Total\n",
            "B      15      135       150\n",
            "S      5       15        20\n",
            "Total  20      150       170\n"
          ]
        }
      ],
      "source": [
        "data = [\n",
        "    [\"Room\", \"Noise\", \"No Noise\", \"Total\"],\n",
        "    [\"B\", 15, 135, 150],\n",
        "    [\"S\", 5, 15, 20],\n",
        "    [\"Total\", 20, 150, 170]\n",
        "]\n",
        "\n",
        "# Print each row formatted nicely\n",
        "for row in data:\n",
        "    print(f\"{row[0]:<6} {row[1]:<7} {row[2]:<9} {row[3]}\")"
      ]
    },
    {
      "cell_type": "markdown",
      "source": [
        "Find:\n",
        "\n",
        "Approach 1 asks: \"If I knew where the phone was, what's the chance I'd hear this noise?\"\n",
        "\n",
        "Approach 1 (Frequentist): What is P(N|B) and P(N|S)?\n",
        "- The probability of hearing this specific noise (N) GIVEN that the phone is in each room\n",
        "- P(N|B) = Probability of noise given phone is in Bedroom\n",
        "- P(N|S) = Probability of noise given phone is in Study\n",
        "\n",
        "\n",
        "\n",
        "\n",
        "\n"
      ],
      "metadata": {
        "id": "GQiuq6JmR3ik"
      }
    },
    {
      "cell_type": "markdown",
      "source": [
        "Find\n",
        "\n",
        "Approach 2 asks: \"Given I hear this noise, what's the chance the phone is in each room?\"\n",
        "\n",
        "Approach 2 (Bayesian): What is P(B|N) and P(S|N)?\n",
        "- The probability that the phone is in each room GIVEN that we hear this specific noise\n",
        "- P(B|N) = Probability phone is in Bedroom given we hear the noise\n",
        "- P(S|N) = Probability phone is in Study given we hear the noise"
      ],
      "metadata": {
        "id": "HBpkjv5qWk8A"
      }
    },
    {
      "cell_type": "markdown",
      "source": [
        "Let's walk through the calculations step by step.\n",
        "\n",
        "First, let's organize our key probabilities:\n",
        "\n",
        "1. Prior Probabilities (based on historical data):\n",
        "```\n",
        "P(B) = 150/170 = 0.88 or 88% (probability phone is in Bedroom generally)\n",
        "P(S) = 20/170 = 0.12 or 12% (probability phone is in Study generally)\n",
        "```\n",
        "\n",
        "2. Likelihoods (Approach 1):\n",
        "```\n",
        "P(N|B) = 15/150 = 0.10 or 10% (probability of noise IF phone is in Bedroom)\n",
        "P(N|S) = 5/20 = 0.25 or 25% (probability of noise IF phone is in Study)\n",
        "```\n",
        "\n",
        "3. For Approach 2, we use Bayes' Theorem:\n",
        "```\n",
        "P(B|N) = P(N|B) × P(B) / P(N)\n",
        "P(S|N) = P(N|S) × P(S) / P(N)\n",
        "```\n",
        "\n",
        "Where P(N) = Total noise occurrences / Total occurrences = 20/170\n",
        "\n",
        "Let's calculate P(B|N):\n",
        "```\n",
        "P(B|N) = (0.10 × 0.88) / (20/170) = 0.75 or 75%\n",
        "```\n",
        "\n",
        "And P(S|N):\n",
        "```\n",
        "P(S|N) = (0.25 × 0.12) / (20/170) = 0.25 or 25%\n",
        "```"
      ],
      "metadata": {
        "id": "6E85me7rYQUu"
      }
    },
    {
      "cell_type": "code",
      "source": [
        "def calculate_probabilities(data):\n",
        "    \"\"\"\n",
        "    Calculate both Frequentist and Bayesian probabilities for phone location problem\n",
        "\n",
        "    Parameters:\n",
        "    data: List containing rows of [location, noise, no_noise, total]\n",
        "    \"\"\"\n",
        "    # Extract values from data\n",
        "    bedroom_noise = data[1][1]  # 15\n",
        "    bedroom_total = data[1][3]  # 150\n",
        "    study_noise = data[2][1]    # 5\n",
        "    study_total = data[2][3]    # 20\n",
        "    total_observations = data[3][3]  # 170\n",
        "    total_noise = data[3][1]    # 20\n",
        "\n",
        "    # Calculate Prior Probabilities\n",
        "    p_b = bedroom_total / total_observations  # P(B)\n",
        "    p_s = study_total / total_observations    # P(S)\n",
        "    print(\"\\nPrior Probabilities:\")\n",
        "    print(f\"P(B) = Probability phone is in Bedroom = {p_b:.2%}\")\n",
        "    print(f\"P(S) = Probability phone is in Study = {p_s:.2%}\")\n",
        "\n",
        "    # Approach 1: Frequentist (Likelihoods)\n",
        "    p_n_given_b = bedroom_noise / bedroom_total  # P(N|B)\n",
        "    p_n_given_s = study_noise / study_total      # P(N|S)\n",
        "    print(\"\\nApproach 1 - Likelihoods:\")\n",
        "    print(f\"P(N|B) = Probability of noise given Bedroom = {p_n_given_b:.2%}\")\n",
        "    print(f\"P(N|S) = Probability of noise given Study = {p_n_given_s:.2%}\")\n",
        "\n",
        "    # Approach 2: Bayesian\n",
        "    p_n = total_noise / total_observations  # P(N)\n",
        "\n",
        "    # Calculate posterior probabilities using Bayes' Theorem\n",
        "    p_b_given_n = (p_n_given_b * p_b) / p_n  # P(B|N)\n",
        "    p_s_given_n = (p_n_given_s * p_s) / p_n  # P(S|N)\n",
        "    print(\"\\nApproach 2 - Posterior Probabilities:\")\n",
        "    print(f\"P(B|N) = Probability phone is in Bedroom given noise = {p_b_given_n:.2%}\")\n",
        "    print(f\"P(S|N) = Probability phone is in Study given noise = {p_s_given_n:.2%}\")\n",
        "\n",
        "    # Verify Law of Total Probability for P(N)\n",
        "    p_n_calculated = (p_n_given_b * p_b) + (p_n_given_s * p_s)\n",
        "    print(\"\\nVerification:\")\n",
        "    print(f\"P(N) direct = {p_n:.2%}\")\n",
        "    print(f\"P(N) calculated = {p_n_calculated:.2%}\")\n",
        "\n",
        "# Data structure: [Room, Noise, No Noise, Total]\n",
        "data = [\n",
        "    [\"Room\", \"Noise\", \"No Noise\", \"Total\"],\n",
        "    [\"B\", 15, 135, 150],\n",
        "    [\"S\", 5, 15, 20],\n",
        "    [\"Total\", 20, 150, 170]\n",
        "]\n",
        "\n",
        "# Run the analysis\n",
        "calculate_probabilities(data)"
      ],
      "metadata": {
        "colab": {
          "base_uri": "https://localhost:8080/"
        },
        "id": "Ts9SdhxEX7yL",
        "outputId": "fd39a990-5d87-451a-8db1-232a3e8e5f6b"
      },
      "execution_count": 3,
      "outputs": [
        {
          "output_type": "stream",
          "name": "stdout",
          "text": [
            "\n",
            "Prior Probabilities:\n",
            "P(B) = Probability phone is in Bedroom = 88.24%\n",
            "P(S) = Probability phone is in Study = 11.76%\n",
            "\n",
            "Approach 1 - Likelihoods:\n",
            "P(N|B) = Probability of noise given Bedroom = 10.00%\n",
            "P(N|S) = Probability of noise given Study = 25.00%\n",
            "\n",
            "Approach 2 - Posterior Probabilities:\n",
            "P(B|N) = Probability phone is in Bedroom given noise = 75.00%\n",
            "P(S|N) = Probability phone is in Study given noise = 25.00%\n",
            "\n",
            "Verification:\n",
            "P(N) direct = 11.76%\n",
            "P(N) calculated = 11.76%\n"
          ]
        }
      ]
    }
  ]
}