{
  "nbformat": 4,
  "nbformat_minor": 0,
  "metadata": {
    "colab": {
      "provenance": [],
      "authorship_tag": "ABX9TyO0Myppf7vCMRK2vaiWbrn8"
    },
    "kernelspec": {
      "name": "python3",
      "display_name": "Python 3"
    },
    "language_info": {
      "name": "python"
    }
  },
  "cells": [
    {
      "cell_type": "markdown",
      "source": [
        "ETF Return Tracker\n",
        "* May 16, 2025\n",
        "* Version 1\n",
        "\n",
        "Tutor:\n",
        "* Anthropic's AI, Claude"
      ],
      "metadata": {
        "id": "yKaKvQKUtzFv"
      }
    },
    {
      "cell_type": "code",
      "execution_count": null,
      "metadata": {
        "colab": {
          "base_uri": "https://localhost:8080/"
        },
        "id": "Pv8QZ9sqtyQh",
        "outputId": "a5610181-a8b7-4bf3-b23b-fc9e775948e7"
      },
      "outputs": [
        {
          "output_type": "stream",
          "name": "stdout",
          "text": [
            "ETF Portfolio Analysis Tool\n",
            "==========================\n",
            "Enter ETF name: VTI\n",
            "Enter expense ratio (as decimal, e.g., 0.0095 for 0.95%): 0.03\n",
            "Enter number of shares: 1\n",
            "Enter price per share on purchase date ($): 206.55\n",
            "Enter purchase date (YYYY-MM-DD): 2022-05-15\n",
            "Enter current price per share ($): 292.58\n",
            "Enter today's date (YYYY-MM-DD): 2025-05-16\n",
            "\n",
            "Results:\n",
            "ETF: VTI\n",
            "Days Held: 1097\n",
            "Initial Investment: $206.55\n",
            "Current Value: $292.58\n",
            "Annualized Return: 12.28%\n",
            "Total Return: $86.03\n",
            "Total Expense Cost: $18.62\n",
            "Return Less Expenses: $67.41\n"
          ]
        }
      ],
      "source": [
        "import datetime\n",
        "\n",
        "def calculate_days_held(start_date_str, end_date_str):\n",
        "    # Convert string dates to datetime objects\n",
        "    start_date = datetime.datetime.strptime(start_date_str, \"%Y-%m-%d\")\n",
        "    end_date = datetime.datetime.strptime(end_date_str, \"%Y-%m-%d\")\n",
        "\n",
        "    # Calculate days between dates\n",
        "    days_held = (end_date - start_date).days\n",
        "    return days_held\n",
        "\n",
        "def calculate_annualized_return(start_price, end_price, days_held):\n",
        "    if days_held <= 0:\n",
        "        return 0\n",
        "\n",
        "    # Calculate simple return\n",
        "    simple_return = (end_price - start_price) / start_price\n",
        "\n",
        "    # Convert to annualized return\n",
        "    annualized_return = (1 + simple_return) ** (365 / days_held) - 1\n",
        "\n",
        "    return annualized_return * 100  # Convert to percentage\n",
        "\n",
        "def main():\n",
        "    print(\"ETF Portfolio Analysis Tool\")\n",
        "    print(\"==========================\")\n",
        "\n",
        "    # Get user inputs\n",
        "    etf_name = input(\"Enter ETF name: \")\n",
        "    expense_ratio = float(input(\"Enter expense ratio (as decimal, e.g., 0.0095 for 0.95%): \"))\n",
        "    shares = float(input(\"Enter number of shares: \"))\n",
        "    start_price = float(input(\"Enter price per share on purchase date ($): \"))\n",
        "    start_date = input(\"Enter purchase date (YYYY-MM-DD): \")\n",
        "    end_price = float(input(\"Enter current price per share ($): \"))\n",
        "    end_date = input(\"Enter today's date (YYYY-MM-DD): \")\n",
        "\n",
        "    # Calculate days held\n",
        "    days_held = calculate_days_held(start_date, end_date)\n",
        "\n",
        "    # Calculate returns\n",
        "    initial_investment = shares * start_price\n",
        "    current_value = shares * end_price\n",
        "    total_return_dollars = current_value - initial_investment\n",
        "\n",
        "    # Calculate annualized return percentage\n",
        "    annualized_return_pct = calculate_annualized_return(start_price, end_price, days_held)\n",
        "\n",
        "    # Calculate expenses\n",
        "    years_held = days_held / 365\n",
        "    total_expense_dollars = initial_investment * expense_ratio * years_held\n",
        "\n",
        "    # Calculate return less expenses\n",
        "    net_return = total_return_dollars - total_expense_dollars\n",
        "\n",
        "    # Display results\n",
        "    print(\"\\nResults:\")\n",
        "    print(f\"ETF: {etf_name}\")\n",
        "    print(f\"Days Held: {days_held}\")\n",
        "    print(f\"Initial Investment: ${initial_investment:.2f}\")\n",
        "    print(f\"Current Value: ${current_value:.2f}\")\n",
        "    print(f\"Annualized Return: {annualized_return_pct:.2f}%\")\n",
        "    print(f\"Total Return: ${total_return_dollars:.2f}\")\n",
        "    print(f\"Total Expense Cost: ${total_expense_dollars:.2f}\")\n",
        "    print(f\"Return Less Expenses: ${net_return:.2f}\")\n",
        "\n",
        "if __name__ == \"__main__\":\n",
        "    main()"
      ]
    }
  ]
}