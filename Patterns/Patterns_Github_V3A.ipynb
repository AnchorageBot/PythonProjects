{
  "nbformat": 4,
  "nbformat_minor": 0,
  "metadata": {
    "colab": {
      "provenance": [],
      "authorship_tag": "ABX9TyPz9HEhMZjZtouCT6VT+D2i"
    },
    "kernelspec": {
      "name": "python3",
      "display_name": "Python 3"
    },
    "language_info": {
      "name": "python"
    }
  },
  "cells": [
    {
      "cell_type": "markdown",
      "source": [
        "Pattern Analysis\n",
        "* Github numbers"
      ],
      "metadata": {
        "id": "crweWepifrZw"
      }
    },
    {
      "cell_type": "markdown",
      "source": [
        "Tutor\n",
        "* Anthropic's AI Claude"
      ],
      "metadata": {
        "id": "X8GL8gCMfw0i"
      }
    },
    {
      "cell_type": "code",
      "source": [
        "\"\"\"\n",
        "Abstract:\n",
        "This Python script creates a bar chart using Matplotlib to visualize the average daily\n",
        "contributions over the years 2019-2024. It calculates daily averages based on the total\n",
        "contributions and the number of days in each year, accounting for leap years and partial years.\n",
        "The script generates a bar chart with data labels, highlights 2024 as a partial year, and\n",
        "includes a grid for better readability. Additionally, it prints statistics including the daily\n",
        "averages for each year and the growth rates for the most recent years.\n",
        "\"\"\"\n",
        "\n",
        "# Import required libraries\n",
        "import matplotlib.pyplot as plt\n",
        "import numpy as np\n",
        "\n",
        "# Define data points\n",
        "years = [2019, 2020, 2021, 2022, 2023, 2024]\n",
        "contributions = [30, 85, 154, 488, 2777, 3558]\n",
        "\n",
        "# Calculate daily averages\n",
        "# Note: 2020 was a leap year, 2024 is a partial year (9 months)\n",
        "days_per_year = [365, 366, 365, 365, 365, 273]\n",
        "daily_averages = [c / d for c, d in zip(contributions, days_per_year)]\n",
        "\n",
        "# Create the plot\n",
        "plt.figure(figsize=(12, 7))\n",
        "\n",
        "# Plot daily averages as bars\n",
        "bars = plt.bar(years, daily_averages, color='lightgreen', width=0.6)\n",
        "\n",
        "# Customize the plot\n",
        "plt.title('Average Daily Contributions', fontsize=16)\n",
        "plt.xlabel('Year', fontsize=12)\n",
        "plt.ylabel('Average Contributions per Day', fontsize=12)\n",
        "plt.grid(True, axis='y', linestyle='--', alpha=0.7)\n",
        "\n",
        "# Add data labels to each bar\n",
        "for bar in bars:\n",
        "    height = bar.get_height()\n",
        "    plt.text(bar.get_x() + bar.get_width()/2., height,\n",
        "             f'{height:.2f}', ha='center', va='bottom')\n",
        "\n",
        "# Annotate 2024 as partial year\n",
        "plt.annotate('Partial year\\n(9 months)', xy=(2024, daily_averages[-1]),\n",
        "             xytext=(10, 30), textcoords='offset points',\n",
        "             arrowprops=dict(arrowstyle=\"->\", connectionstyle=\"arc3,rad=.2\"))\n",
        "\n",
        "# Improve y-axis readability by setting tick marks\n",
        "plt.yticks(np.arange(0, max(daily_averages)+1, 2))\n",
        "\n",
        "# Adjust layout and display the plot\n",
        "plt.tight_layout()\n",
        "plt.show()\n",
        "\n",
        "# Print additional statistics\n",
        "print(\"Average daily contributions:\")\n",
        "for year, avg in zip(years, daily_averages):\n",
        "    print(f\"{year}: {avg:.2f}\")\n",
        "\n",
        "# Calculate and print growth rates for recent years\n",
        "print(f\"\\nGrowth in daily average from 2022 to 2023: {(daily_averages[4] / daily_averages[3] - 1) * 100:.2f}%\")\n",
        "print(f\"Growth in daily average from 2023 to 2024: {(daily_averages[5] / daily_averages[4] - 1) * 100:.2f}%\")"
      ],
      "metadata": {
        "id": "RyFd3uh15hPa"
      },
      "execution_count": null,
      "outputs": []
    }
  ]
}
