{
  "nbformat": 4,
  "nbformat_minor": 0,
  "metadata": {
    "colab": {
      "provenance": [],
      "authorship_tag": "ABX9TyMLVNHe1J8rT5SI3fVdVqe4"
    },
    "kernelspec": {
      "name": "python3",
      "display_name": "Python 3"
    },
    "language_info": {
      "name": "python"
    }
  },
  "cells": [
    {
      "cell_type": "markdown",
      "source": [
        "Fifty Challenging Problems in Probability\n",
        "* Frederick Mosteller\n",
        "* Problem 1A"
      ],
      "metadata": {
        "id": "KmokH5lY4QG5"
      }
    },
    {
      "cell_type": "markdown",
      "source": [
        "Tutor:\n",
        "* Anthropic's AI Claude"
      ],
      "metadata": {
        "id": "LRLKnGXK_MKg"
      }
    },
    {
      "cell_type": "markdown",
      "source": [
        "Given:\n",
        "\n",
        "* A sock drawer holds an unkown number of black and red socks.\n",
        "* When two socks are drawn from the drawer, sight unseen, the probability that both are red is 1/2"
      ],
      "metadata": {
        "id": "mjRiuDKv4Vdl"
      }
    },
    {
      "cell_type": "markdown",
      "source": [
        "Find:\n",
        "\n",
        "The smallest number of socks that can be located in the sock drawer and meet the criteria given"
      ],
      "metadata": {
        "id": "OSGfOJQB4Z2B"
      }
    },
    {
      "cell_type": "markdown",
      "source": [
        "Solution (trail & error using low-4 gear):\n",
        "\n",
        "|Black |  Red | Total |\n",
        "|-----|------|------|\n",
        "| 1 | 3 | 4 |\n",
        "\n",
        "... where:\n",
        "  * R = Red Sock\n",
        "  * B = Black Sock\n",
        "  * T = Total Socks\n",
        "\n",
        "\n",
        "\n",
        "Let's map all possible outcomes when drawing 2 socks sequentially (R = red, B = black):\n",
        "\n",
        "\n",
        "|First draw → Second draw | → Combined outcome |\n",
        "|----|----|\n",
        "|R1 → R2 | Success\n",
        "|R1 → R3 | Success\n",
        "|R1 → B | Fail\n",
        "|R2 → R1 | Success\n",
        "|R2 → R3 | Success\n",
        "|R2 → B | Fail\n",
        "|R3 → R1 | Success\n",
        "|R3 → R2 | Success\n",
        "|R3 → B | Fail\n",
        "|B → R1 | Fail\n",
        "|B → R2 | Fail\n",
        "|B → R3 | Fail\n",
        "\n",
        "\n",
        "Out of 12 possible combinations, 6 give us two red socks = 1/2 probability\n",
        "\n",
        "This pattern matches our estimated equation: (R/T)(R-1/T-1) = (3/4)(3-1/4-1) = (3/4)(2/3) = 0.5\n"
      ],
      "metadata": {
        "id": "2Z__a8wp4dnv"
      }
    },
    {
      "cell_type": "markdown",
      "source": [
        "Solution (Bayesian methods - 1st draft):\n",
        "\n",
        "|Black |  Red | Total |\n",
        "|-----|------|------|\n",
        "| 1 | 3 | 4 |\n",
        "\n",
        "... where:\n",
        "  * R = Red Sock\n",
        "  * B = Black Sock\n",
        "  * T = Total Socks\n",
        "\n",
        "Bayes equation:\n",
        "  * P(A|B) = P(B|A) × P(A) / P(B)\n",
        "  * P(A|B) = posterior probability:\n",
        "    * the probability of A given that B has occurred\n",
        "    * represents our updated beliefs after observing evidence\n",
        "  * P(B|A) = likelihood:\n",
        "   * the probability of B occurring given that A is true\n",
        "   * measures how well different hypotheses predict the evidence\n",
        "  * P(A) = prior probability:\n",
        "   * the initial probability of A before considering B\n",
        "   * based on initial state/knowledge\n",
        "  * P(B) = evidence:\n",
        "   * the marginal probability of observing B\n",
        "   * acts as a normalizing constant\n",
        "\n",
        "Fitting this framework to our sock problem yields:\n",
        "  * A = \"drawing a red sock on second draw\" = red2\n",
        "  * B = \"drawing a red sock on first draw\" = red1\n",
        "  * P(A|B) = P(red2|red1) = (R/T)(R-1)/(T-1) = 1/2 = posterior probability\n",
        "    * the probability of A given that B has occurred\n",
        "    * represents updated probability after considering first draw\n",
        "  * P(B|A) = P(red1|red2) = likelihood\n",
        "    * the probability of B occurring given that A is true\n",
        "    * In sequential draws, this doesn't directly apply as traditionally defined\n",
        "    * Our problem uses sequential conditional probability instead\n",
        "    * The likelihood is captured in our P(red2|red1) calculation\n",
        "  * P(A) = (P|A) = P(red1) = R/T = 3/4 = prior probability\n",
        "    * the initial probability of A before considering B\n",
        "    * represents the starting state of our probability space\n",
        "    * the initial probability based on the original distribution of socks\n",
        "    * represents starting state before any draws\n",
        "  * P(B) = (P|B) = P(red1) = R/T = 3/4 the evidence\n",
        "    * the total probability of B occurring\n",
        "    * independent of second draw\n",
        "    * probability of a red sock on first draw\n",
        "\n",
        "\n",
        "We want to find P(A|B) = P(red2|red1): probability of drawing a second red sock given we drew a red first\n",
        "\n",
        "* However, this is a sequential probability problem"
      ],
      "metadata": {
        "id": "T8otLCe4_Tcl"
      }
    },
    {
      "cell_type": "markdown",
      "source": [
        "\n",
        "Solution (Bayesian methods - 2nd draft):\n",
        "\n",
        "|Black | Red | Total |\n",
        "|-----|------|------|\n",
        "| 1 | 3 | 4 |\n",
        "\n",
        "... where:\n",
        " * R = Red Sock\n",
        " * B = Black Sock\n",
        " * T = Total Socks\n",
        "\n",
        "Bayes equation:\n",
        " * P(A|B) = P(B|A) × P(A) / P(B)\n",
        " * P(A|B) = posterior probability:\n",
        "   * the probability of hypothesis H1 being true given evidence E\n",
        "   * represents our updated belief about drawing red second after observing red first\n",
        " * P(B|A) = likelihood:\n",
        " * P(E|H1) = probability of observing red first if H1 (red second) is true\n",
        "   * equals 2/3 as this is probability of red first given red second\n",
        "   * quantifies how well our hypothesis predicts the observed evidence\n",
        " * P(A) = prior probability:\n",
        " * P(H1) = initial probability of hypothesis being true = 3/4\n",
        "   * represents our initial belief about drawing red second\n",
        "   * based on original sock distribution before any evidence\n",
        " * P(B) = evidence:\n",
        " * P(E) = probability of observing red on first draw = 3/4\n",
        "   * marginal probability of evidence occurring\n",
        "   * acts as normalizing constant in Bayes formula\n",
        "\n",
        "Fitting this framework to our sock problem yields:\n",
        " * A = \"second draw will be red\" = H1 (our hypothesis)\n",
        " * B = \"observed red on first draw\" = E (our evidence)\n",
        " * P(A|B) = P(H1|E) = [P(E|H1) × P(H1)] / P(E) = (2/3 × 3/4) / (3/4) = 2/3 = posterior probability\n",
        "   * the probability of hypothesis H1 being true given evidence E\n",
        "   * represents our updated belief about drawing red second after observing red first\n",
        " * P(B|A) = P(E|H1) = 2/3 = likelihood\n",
        "   * probability of observing red first if hypothesis (red second) is true\n",
        "   * quantifies how well our hypothesis predicts the observed evidence\n",
        " * P(A) = P(H1) = 3/4 = prior probability\n",
        "   * initial probability of hypothesis before evidence\n",
        "   * based on original sock distribution\n",
        "   * represents starting belief about drawing red second\n",
        " * P(B) = P(E) = 3/4 = evidence\n",
        "   * marginal probability of observing red first\n",
        "   * independent of hypothesis\n",
        "   * normalizing constant in calculation"
      ],
      "metadata": {
        "id": "HFwoaJX_gVDO"
      }
    },
    {
      "cell_type": "markdown",
      "source": [
        "Solution (sequential probability methods):\n",
        "\n",
        "|Black | Red | Total |\n",
        "|-----|------|------|\n",
        "| 1 | 3 | 4 |\n",
        "\n",
        "... where:\n",
        " * R = Red Sock\n",
        " * B = Black Sock\n",
        " * T = Total Socks\n",
        "\n",
        "We want to find P(A|B) = P(red2|red1): probability of drawing a second red sock given we drew a red first\n",
        "\n",
        "* However, this is a sequential probability problem where:\n",
        "  * First draw: P(red1) = R/T\n",
        "  * Second draw: P(red2|red1) = (R-1)/(T-1)\n",
        "* ... and so, the total probability of two red socks is:\n",
        "   P(2 red) = P(red1) × P(red2|red1)\n",
        "            = (R/T) × ((R-1)/(T-1))\n",
        "            = (3/4) × (2/3)\n",
        "            = 1/2"
      ],
      "metadata": {
        "id": "G7Kcr2yioPDH"
      }
    }
  ]
}