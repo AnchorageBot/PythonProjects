{
  "nbformat": 4,
  "nbformat_minor": 0,
  "metadata": {
    "colab": {
      "provenance": [],
      "authorship_tag": "ABX9TyMJR7WA+0rUcjZaJwT0Wu4x"
    },
    "kernelspec": {
      "name": "python3",
      "display_name": "Python 3"
    },
    "language_info": {
      "name": "python"
    }
  },
  "cells": [
    {
      "cell_type": "markdown",
      "source": [
        "Bernoulli Percolation Notebook\n",
        "* Based upon Professor Hugo Duminil-Copin's notes\n",
        "* Introduction to Bernoulli Percolation dated November 2, 2022\n",
        "* [Universite' de Geneve, IHES](https://www.ihes.fr/~duminil/CV.html)\n",
        "* Additional references:\n",
        "  * Sixty years of percolation by Hugo Duminil-Copin, December 14, 2017\n",
        "  * arXiv 1712.04651v1 [math.PR]"
      ],
      "metadata": {
        "id": "vZKxLBxp0U6G"
      }
    },
    {
      "cell_type": "markdown",
      "source": [
        "Tutors 🚀 :\n",
        "* Professor Hugo Duminil-Copin\n",
        "* Google's AI Gemini 2.0 Advanced Flash"
      ],
      "metadata": {
        "id": "uHaVx4Q80dx0"
      }
    },
    {
      "cell_type": "markdown",
      "source": [
        "Exercise # 3\n",
        "\n",
        "* Show that pc (d) ≤ 3/4 for every d ≥ 2"
      ],
      "metadata": {
        "id": "h72JVZ9gCQAz"
      }
    },
    {
      "cell_type": "markdown",
      "source": [
        "Exercise # 3, second draft\n",
        "\n",
        "**Given:**\n",
        "\n",
        "*   **Lattice:** \\(\\mathbb{Z}^d\\), the d-dimensional hypercubic lattice.\n",
        "*   **Dimension:** \\(d \\geq 2\\)\n",
        "*   **Bond Percolation:** Edges \\(e \\in E\\) are open with probability \\(p\\) and closed with probability \\(1-p\\), independently.  \\(\\omega\\) denotes the random configuration of open/closed edges.\n",
        "*   **Critical Probability:** \\(p_c(d)\\) is the critical probability for bond percolation in dimension \\(d\\).\n",
        "*   **Percolation Probability:** \\(\\theta(p)\\) is the probability that the origin is in an infinite connected component.\n",
        "*   **Theorem:** \\(0 < p_c(d) < 1\\) for \\(d \\geq 2\\).\n",
        "\n",
        "**Find:**\n",
        "\n",
        "Prove that \\(p_c(d) \\leq \\frac{3}{4}\\) for all \\(d \\geq 2\\).\n",
        "\n",
        "**Solution:**\n",
        "\n",
        "*(Here's where the refinement begins. Instead of just stating the goal, guide the reader with a roadmap.  We'll use the connection between bond percolation on \\(\\mathbb{Z}^d\\) and site percolation on the dual lattice.)*\n",
        "\n",
        "1.  **Duality:** Consider the dual lattice \\(\\mathbb{Z}^d\\).  Recall that the edges of the dual lattice correspond to the *plaquettes* (smallest d-dimensional cubes) of the original lattice.\n",
        "\n",
        "2.  **Site Percolation on the Dual:**  We associate a *site* on the dual lattice with each plaquette of the original lattice.  We declare a dual site to be \"occupied\" if the corresponding plaquette in the original lattice contains *at least one closed edge*.\n",
        "\n",
        "3.  **Probability of Dual Site Being Occupied:** The probability that a given plaquette in the original lattice has *all* its edges open is \\(p^d\\). Therefore, the probability that a corresponding dual site is occupied (at least one edge closed) is \\(1 - p^d\\).  This defines a site percolation problem on the dual lattice with occupation probability \\(1 - p^d\\).\n",
        "\n",
        "4.  **Connection to Bond Percolation:**  Observe that if there is a path of *open edges* connecting the origin to infinity in the original lattice, then there cannot be a path of *occupied sites* (corresponding to plaquettes with at least one closed edge) connecting the origin to infinity in the dual lattice. In other words, \"bond percolation in the original lattice\" and \"site percolation in the dual lattice (with the defined occupation probability)\" are in some sense complementary events.  More formally, if the origin percolates in the original lattice, the origin *does not* percolate in the dual.\n",
        "\n",
        "5.  **Applying a known result (this is the key step you'll need to fill in):**  There's a result (likely in your notes or assigned readings) that relates the critical probability for bond percolation in \\(\\mathbb{Z}^d\\) to the critical probability for site percolation on the dual lattice.  It essentially states that if the probability of site occupation on the dual lattice is greater than some value (which is related to the bond percolation threshold), then there is no percolation on the original lattice.  *This is the fact you need to state explicitly.* It likely involves the fact that the dual of the hypercubic lattice is isomorphic to itself, with the change of bond percolation to site percolation on the dual lattice.\n",
        "\n",
        "6.  **Applying the result:** Using the result from step 5, we can establish a relationship between \\(p_c(d)\\) and the critical probability for site percolation on the dual lattice, which is \\(1-p^d\\).  We will then use this to derive the inequality \\(p_c(d) \\leq \\frac{3}{4}\\).  *This is the part that needs the most work, as it depends on the specific result you have available.*\n",
        "\n",
        "7.  **Conclusion:**  By showing that \\(1-p^d\\) is greater than the relevant threshold for site percolation on the dual lattice when \\(p > 3/4\\), we can conclude that \\(p_c(d) \\leq \\frac{3}{4}\\).\n",
        "\n",
        "**Key Improvements:**\n",
        "\n",
        "*   **Structure:** The revised draft provides a clear roadmap for the solution.\n",
        "*   **Duality:** Explicitly introduces the concept of the dual lattice and its relevance.\n",
        "*   **Site Percolation:**  Clearly defines the associated site percolation problem on the dual.\n",
        "*   **Guidance:**  Highlights the crucial step where you need to apply a specific theorem or result from your course materials.\n",
        "*   **Focus:** Emphasizes the connection between bond percolation on the original lattice and site percolation on the dual.\n",
        "\n",
        "\n"
      ],
      "metadata": {
        "id": "IhCoj72sCcMt"
      }
    }
  ]
}
