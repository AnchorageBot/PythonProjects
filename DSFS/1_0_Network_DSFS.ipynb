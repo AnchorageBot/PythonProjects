{
  "nbformat": 4,
  "nbformat_minor": 0,
  "metadata": {
    "colab": {
      "provenance": [],
      "authorship_tag": "ABX9TyMs0QPA+iX3rhgqZuiwURkS"
    },
    "kernelspec": {
      "name": "python3",
      "display_name": "Python 3"
    },
    "language_info": {
      "name": "python"
    }
  },
  "cells": [
    {
      "cell_type": "markdown",
      "source": [
        "## Network Analysis\n",
        "\n",
        "This notebook provides an example of how to analyze a network of friendships<br>\n",
        "<br>\n",
        "Reference Book:<br>\n",
        "Data Science from Scratch by Joel Grus (there are two editions currently)<br>\n",
        "https://www.oreilly.com/library/view/data-science-from/9781492041122/<br>\n",
        "Github<br>\n",
        "https://github.com/joelgrus/data-science-from-scratch<br>\n",
        "<br>\n",
        "Python IDE:<br>\n",
        "Google Colab<br>\n",
        "https://colab.research.google.com<br>\n",
        "<br>\n",
        "Made in April 2023<br>"
      ],
      "metadata": {
        "id": "b-mKGefc-3mw"
      }
    },
    {
      "cell_type": "markdown",
      "source": [
        "This notebook uses the two datasets:\n",
        "\n",
        "\n",
        "*   Users\n",
        "*   Friendships\n",
        "\n"
      ],
      "metadata": {
        "id": "T-ATQf-5AY16"
      }
    },
    {
      "cell_type": "code",
      "execution_count": 54,
      "metadata": {
        "id": "-y3eNoSD-uJC"
      },
      "outputs": [],
      "source": [
        "users = [\n",
        "{ \"id\": 0, \"name\": \"Hero\" },\n",
        "{ \"id\": 1, \"name\": \"Dunn\" },\n",
        "{ \"id\": 2, \"name\": \"Sue\" },\n",
        "{ \"id\": 3, \"name\": \"Chi\" },\n",
        "{ \"id\": 4, \"name\": \"Thor\" },\n",
        "{ \"id\": 5, \"name\": \"Clive\" },\n",
        "{ \"id\": 6, \"name\": \"Hicks\" },\n",
        "{ \"id\": 7, \"name\": \"Devin\" },\n",
        "{ \"id\": 8, \"name\": \"Kate\" },\n",
        "{ \"id\": 9, \"name\": \"Klein\" }\n",
        "] "
      ]
    },
    {
      "cell_type": "code",
      "source": [
        "friendships = [\n",
        "    ( 0 , 1 ),\n",
        "    ( 0 , 2 ), \n",
        "    ( 1 , 2 ), \n",
        "    ( 1 , 3 ),\n",
        "    ( 2 , 3 ),\n",
        "    ( 3 , 4 ), \n",
        "    ( 4 , 5 ), \n",
        "    ( 5 , 6 ), \n",
        "    ( 5 , 7 ), \n",
        "    ( 6 , 8 ), \n",
        "    ( 7 , 8 ),\n",
        "    ( 8 , 9 )\n",
        "    ] "
      ],
      "metadata": {
        "id": "6JFdS-lWBB22"
      },
      "execution_count": 55,
      "outputs": []
    },
    {
      "cell_type": "markdown",
      "source": [
        "We start the analysis by creating an empty list called friends that we will add the results of our analysis to:"
      ],
      "metadata": {
        "id": "-72jO7EnCuDA"
      }
    },
    {
      "cell_type": "code",
      "source": [
        "for user in users : user [ \"friends\" ] = [] "
      ],
      "metadata": {
        "id": "z9CweOfWCobr"
      },
      "execution_count": 56,
      "outputs": []
    },
    {
      "cell_type": "markdown",
      "source": [
        "Next we create a for loop to populate the friends list"
      ],
      "metadata": {
        "id": "76_bqh2HEyX_"
      }
    },
    {
      "cell_type": "code",
      "source": [
        "#for user_id, num_friends in friendships:\n",
        "    #users[user_id][\"friends\"].append(users[num_friends]) \n",
        "    #users[num_friends][\"friends\"].append(users[user_id]) \n",
        "\n",
        "for i, j in friendships:\n",
        "    users[i][\"friends\"].append(users[j]) # add i as a friend of j\n",
        "    users[j][\"friends\"].append(users[i]) # add j as a friend of i \n"
      ],
      "metadata": {
        "id": "DppIg7rRFbGv"
      },
      "execution_count": 57,
      "outputs": []
    },
    {
      "cell_type": "markdown",
      "source": [
        "Then we create function to calcuate the number of friends each user has"
      ],
      "metadata": {
        "id": "5dDe6PvFaPyP"
      }
    },
    {
      "cell_type": "code",
      "source": [
        "def number_of_friends ( user ): \n",
        "#how many friends does _user_ have?\n",
        "    return len ( user [ \"friends\" ]) # length of friend_ids list \n",
        "    \n",
        "total_connections = sum (number_of_friends(user) for user in users ) \n",
        "print(total_connections) # 24"
      ],
      "metadata": {
        "id": "1LMnyhkwaSq9",
        "colab": {
          "base_uri": "https://localhost:8080/"
        },
        "outputId": "abe9dd32-32eb-4ce9-825d-da82d5c5d04d"
      },
      "execution_count": 58,
      "outputs": [
        {
          "output_type": "stream",
          "name": "stdout",
          "text": [
            "24\n"
          ]
        }
      ]
    },
    {
      "cell_type": "markdown",
      "source": [
        "Then we estimate the average number of connections for the whole network"
      ],
      "metadata": {
        "id": "2jK9HDGhbCNs"
      }
    },
    {
      "cell_type": "code",
      "source": [
        "from __future__ import division # integer division is lame \n",
        "num_users = len(users) # length of the users list \n",
        "avg_connections = total_connections/num_users \n",
        "print(avg_connections) # 2.4"
      ],
      "metadata": {
        "id": "KjyIIbyHbNb2",
        "colab": {
          "base_uri": "https://localhost:8080/"
        },
        "outputId": "e83cdf2a-ec70-45cf-dff0-6f0412306122"
      },
      "execution_count": 59,
      "outputs": [
        {
          "output_type": "stream",
          "name": "stdout",
          "text": [
            "2.4\n"
          ]
        }
      ]
    },
    {
      "cell_type": "markdown",
      "source": [
        "The last step is to provide a breakout of the number of friends that each user has"
      ],
      "metadata": {
        "id": "85mlMFCGbPWz"
      }
    },
    {
      "cell_type": "code",
      "source": [
        "# create a list (user_id, number_of_friends) \n",
        "num_friends_by_id = [(user[ \"id\" ], number_of_friends(user)) for user in users]\n",
        "\n",
        "#sorted(num_friends_by_id, \n",
        "       #key=lambda (user_id, num_friends): num_friends, \n",
        "       #reverse=True)\n",
        "\n",
        "#sorted(num_friends_by_id, \n",
        "       #key=lambda (i, j): j, \n",
        "       #reverse=True)       \n",
        "\n",
        "#sorted(num_friends_by_id,\n",
        "       #key=lambda user_id: num_friends,\n",
        "       #reverse=True)  \n",
        "\n",
        "sorted(num_friends_by_id,\n",
        "       key=lambda i: j,\n",
        "       reverse=True)            \n",
        "\n",
        "# each pair is (user_id, num_friends) \n",
        "# each pair is (i, j) \n",
        "\n",
        "# The answer is [(0, 2), (1, 3), (2, 3), (3, 3), (4, 2), (5, 3), (6, 2), (7, 2), (8, 3), (9, 1)]"
      ],
      "metadata": {
        "id": "WDdWARyUbQDE",
        "colab": {
          "base_uri": "https://localhost:8080/"
        },
        "outputId": "c5bfbfd6-c446-49f8-8bfb-a7512ce17898"
      },
      "execution_count": 60,
      "outputs": [
        {
          "output_type": "execute_result",
          "data": {
            "text/plain": [
              "[(0, 2),\n",
              " (1, 3),\n",
              " (2, 3),\n",
              " (3, 3),\n",
              " (4, 2),\n",
              " (5, 3),\n",
              " (6, 2),\n",
              " (7, 2),\n",
              " (8, 3),\n",
              " (9, 1)]"
            ]
          },
          "metadata": {},
          "execution_count": 60
        }
      ]
    }
  ]
}
