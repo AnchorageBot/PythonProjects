{
  "nbformat": 4,
  "nbformat_minor": 0,
  "metadata": {
    "colab": {
      "provenance": [],
      "toc_visible": true,
      "authorship_tag": "ABX9TyON0QX+yjdOzaPI9FAPFnjq"
    },
    "kernelspec": {
      "name": "python3",
      "display_name": "Python 3"
    },
    "language_info": {
      "name": "python"
    }
  },
  "cells": [
    {
      "cell_type": "markdown",
      "source": [
        "#Algebra and Python Class \n",
        "Teacher: Ed Pratowski<br>\n",
        "Sponsor: FreeCodeCamp<br>\n",
        "\n",
        "Class Video\n",
        "https://www.youtube.com/watch?v=i7vOAcUo5iA\n",
        "\n",
        "Class Scripts\n",
        "https://github.com/edatfreecodecamp/python-math/tree/main/Algebra-with-Python\n",
        "\n",
        "Python IDE: Google Colab\n",
        "https://colab.research.google.com"
      ],
      "metadata": {
        "id": "PpA0eCXYcOl-"
      }
    },
    {
      "cell_type": "markdown",
      "source": [
        "#  (Modulo S.8)"
      ],
      "metadata": {
        "id": "KalfG8UBovaj"
      }
    },
    {
      "cell_type": "markdown",
      "source": [
        "As a quick recap, division is the term used for the operation of splitting up a number into equal pieces\n",
        "\n",
        "Whole numbers are called ints (computer land) or integers (math land)\n",
        "\n",
        "Fractional numbers are called floats (computer land) or rational numbers (math land)"
      ],
      "metadata": {
        "id": "qpE7yBtxmA-u"
      }
    },
    {
      "cell_type": "code",
      "source": [
        "numerator = input(\"Please enter an integer (whole number) that you would like to divide into several equal pieces (floats)  \")\n",
        "n = int(numerator)\n",
        "\n",
        "denominator = input(\"Please enter an integer that represents that number of equal pieces (floats) you would like to divide your initial number into \")\n",
        "d = int(denominator)\n",
        "\n",
        "print(\"You split the integer \", n, \"into \", d, \" equally sized pieces (each piece is a float of size \", round(float(n / d),2),\")\")"
      ],
      "metadata": {
        "colab": {
          "base_uri": "https://localhost:8080/"
        },
        "id": "2wr3wKtDmGZt",
        "outputId": "4fb926c6-5d4c-4ce7-a2a6-d9262e0ff7c1"
      },
      "execution_count": 44,
      "outputs": [
        {
          "output_type": "stream",
          "name": "stdout",
          "text": [
            "Please enter an integer (whole number) that you would like to divide into several equal pieces (floats)  23\n",
            "Please enter an integer that represents that number of equal pieces (floats) you would like to divide your initial number into 3\n",
            "You split the integer  23 into  3  equally sized pieces (each piece is a float of size  7.67 )\n"
          ]
        }
      ]
    },
    {
      "cell_type": "markdown",
      "source": [
        "Python uses the modulo operator % to return the remainder or signed remainder of a division, after one number is divided by another.\n",
        "\n",
        "https://docs.python.org/3.3/reference/expressions.html\n",
        "\n",
        "In simple langugage the modulo operator % splits a whole number into smaller, equally sized, whole numbers and returns any whole number that may be left over"
      ],
      "metadata": {
        "id": "DZXKoX0ZaOrC"
      }
    },
    {
      "cell_type": "code",
      "source": [
        "numerator = input(\"Please enter an integer that you would like to divide into several equal pieces (integers)   \")\n",
        "n = int(numerator)\n",
        "\n",
        "denominator = input(\"Please enter an integer that represents that number of pieces you would like to divide your initial number into \")\n",
        "d = int(denominator)\n",
        "\n",
        "print(\"You split the integer \", n, \"into \", d, \" equally sized pieces (each piece is an integer of size \", int(n//d), \") and there are this many pieces (integers) left over \", int(n % d))"
      ],
      "metadata": {
        "colab": {
          "base_uri": "https://localhost:8080/"
        },
        "id": "LoYeRJ_0Z76j",
        "outputId": "c059a5de-3e96-4699-977f-aa651ade23b1"
      },
      "execution_count": 45,
      "outputs": [
        {
          "output_type": "stream",
          "name": "stdout",
          "text": [
            "Please enter an integer that you would like to divide into several equal pieces (integers)   23\n",
            "Please enter an integer that represents that number of pieces you would like to divide your initial number into 3\n",
            "You split the integer  23 into  3  equally sized pieces (each piece is an integer of size  7 ) and there are this many pieces (integers) left over  2\n"
          ]
        }
      ]
    },
    {
      "cell_type": "markdown",
      "source": [
        "Modulo is useful in computer land\n",
        "\n",
        "You can use the modulo operator % to have the computer factor numbers for you by using a for loop"
      ],
      "metadata": {
        "id": "ghuwD4wvj4jr"
      }
    },
    {
      "cell_type": "code",
      "source": [
        "n = input(\"Please enter an integer that you would like to factor   \")\n",
        "number = int(n)\n",
        " \n",
        "for test_factor in range(1,number+1): \n",
        "    if number%test_factor==0: \n",
        "        print(test_factor) "
      ],
      "metadata": {
        "colab": {
          "base_uri": "https://localhost:8080/"
        },
        "id": "nVh7ALVokCII",
        "outputId": "2fdef115-f7ab-4f46-fa06-92475960dd0f"
      },
      "execution_count": 48,
      "outputs": [
        {
          "output_type": "stream",
          "name": "stdout",
          "text": [
            "Please enter an integer that you would like to factor   23\n",
            "1\n",
            "23\n"
          ]
        }
      ]
    },
    {
      "cell_type": "markdown",
      "source": [
        "You can use the modulo operator % to have the computer check lists for even and odd numbers"
      ],
      "metadata": {
        "id": "Z8Tct0CpczWl"
      }
    },
    {
      "cell_type": "code",
      "execution_count": 52,
      "metadata": {
        "id": "UvTsGdtWcNXC",
        "colab": {
          "base_uri": "https://localhost:8080/"
        },
        "outputId": "676b2467-512a-4245-e0bb-f878e2dc3e28"
      },
      "outputs": [
        {
          "output_type": "stream",
          "name": "stdout",
          "text": [
            "This script will search this list  [89, 44, 22, 11, 5, 2, 1] for even and odd numbers\n",
            "\n",
            "even number search results  [44, 22, 2] \n",
            "\n",
            "odd number search results  [89, 11, 5, 1]\n"
          ]
        }
      ],
      "source": [
        "    list_halves = [89, 44, 22, 11, 5, 2, 1]\n",
        "    print(\"This script will search this list \", list_halves, \"for even and odd numbers\\n\")\n",
        "\n",
        "    list_odd = []\n",
        "    list_even = []\n",
        "\n",
        "    test_four = list_halves\n",
        "    for item in test_four:\n",
        "        if item % 2 == 0:\n",
        "            #print(f\"Found even: {item}\")\n",
        "            list_even.append(item)\n",
        "    print(\"even number search results \", list_even, \"\\n\")\n",
        "\n",
        "    test_three = list_halves\n",
        "    for number in test_three:\n",
        "        if number % 2 == 1:\n",
        "            #print(f\"Found odd: {number}\")\n",
        "            list_odd.append(number)\n",
        "    print(\"odd number search results \", list_odd)\n"
      ]
    }
  ]
}