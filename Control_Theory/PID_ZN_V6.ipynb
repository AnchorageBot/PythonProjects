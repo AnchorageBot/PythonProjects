{
  "nbformat": 4,
  "nbformat_minor": 0,
  "metadata": {
    "colab": {
      "provenance": [],
      "authorship_tag": "ABX9TyO9m8o3dtblEEckh4g5maN1"
    },
    "kernelspec": {
      "name": "python3",
      "display_name": "Python 3"
    },
    "language_info": {
      "name": "python"
    }
  },
  "cells": [
    {
      "cell_type": "markdown",
      "source": [
        "PID Controller Notebook\n",
        "* Ziegler-Nichols Method\n",
        "\n",
        "Tutor:\n",
        "* OpenAI's ChatGPT"
      ],
      "metadata": {
        "id": "ELSEf3cUmQIT"
      }
    },
    {
      "cell_type": "code",
      "source": [
        "import numpy as np\n",
        "import matplotlib.pyplot as plt\n",
        "import pandas as pd\n",
        "from scipy.integrate import odeint\n",
        "from scipy.signal import find_peaks\n",
        "\n",
        "# Function to model a first-order system (e.g., a thermal system)\n",
        "def system_model(y, t, u, a, b):\n",
        "    dydt = (-y + b * u) / a  # First-order system dynamics\n",
        "    return dydt\n",
        "\n",
        "# PID Controller class\n",
        "class PIDController:\n",
        "    def __init__(self, K_p, K_i, K_d):\n",
        "        self.K_p = K_p\n",
        "        self.K_i = K_i\n",
        "        self.K_d = K_d\n",
        "        self.prev_error = 0\n",
        "        self.integral = 0\n",
        "\n",
        "    # Calculate the PID output\n",
        "    def update(self, error, dt):\n",
        "        self.integral += error * dt\n",
        "        derivative = (error - self.prev_error) / dt\n",
        "        self.prev_error = error\n",
        "        return self.K_p * error + self.K_i * self.integral + self.K_d * derivative\n",
        "\n",
        "# System simulation with PID control\n",
        "def simulate_system(K_p, K_i, K_d, t, y0, a, b):\n",
        "    pid = PIDController(K_p, K_i, K_d)\n",
        "    u = 0  # Control signal\n",
        "    y = np.zeros_like(t)  # Output array\n",
        "    y[0] = y0\n",
        "    set_point = 1.0  # Desired setpoint (reference value)\n",
        "\n",
        "    for i in range(1, len(t)):\n",
        "        dt = t[i] - t[i-1]\n",
        "        error = set_point - y[i-1]\n",
        "        u = pid.update(error, dt)  # PID control signal\n",
        "        dydt = system_model(y[i-1], t[i-1], u, a, b)  # Simplified model update\n",
        "        y[i] = y[i-1] + dydt * dt  # Euler integration for system state update\n",
        "\n",
        "    return y\n",
        "\n",
        "# Automatically find the ultimate gain and period using the closed-loop method\n",
        "def find_ultimate_gain_period(t, y):\n",
        "    peaks, _ = find_peaks(y, height=0.002, distance=3)  # More sensitive peak detection\n",
        "    peak_times = t[peaks]\n",
        "    if len(peak_times) < 2:\n",
        "        return None, None\n",
        "    T_u = np.mean(np.diff(peak_times))  # Average time between peaks\n",
        "    K_u = 1.0  # Manually set ultimate gain, adjust as needed\n",
        "    return K_u, T_u\n",
        "\n",
        "# Define simulation parameters\n",
        "t = np.linspace(0, 100, 10000)  # Further increased time array and resolution\n",
        "y0 = 0.5  # Changed initial condition\n",
        "a, b = 1.5, 1.0  # System parameters\n",
        "\n",
        "# Automatically tune K_p\n",
        "def auto_tune_K_p(K_p_initial, a, b, max_K_p=100.0, increment=0.05):\n",
        "    K_p = K_p_initial\n",
        "    while K_p <= max_K_p:\n",
        "        y_initial = simulate_system(K_p, 0, 0, t, y0, a, b)\n",
        "        K_u, T_u = find_ultimate_gain_period(t, y_initial)\n",
        "        if K_u is not None and T_u is not None:\n",
        "            return K_p, y_initial, K_u, T_u\n",
        "        K_p += increment  # Smaller increments for finer control\n",
        "    return None, None, None, None\n",
        "\n",
        "# Initial K_p value (can be adjusted automatically)\n",
        "K_p_initial = 1.0\n",
        "K_p_initial, y_initial, K_u, T_u = auto_tune_K_p(K_p_initial, a, b)\n",
        "\n",
        "# Exit if tuning fails\n",
        "if K_p_initial is None:\n",
        "    print(\"Failed to find an oscillatory system response. Tuning aborted.\")\n",
        "else:\n",
        "    # Apply Ziegler-Nichols Tuning Rules for PID\n",
        "    K_p_zn = 0.6 * K_u\n",
        "    K_i_zn = 2 * K_p_zn / T_u\n",
        "    K_d_zn = K_p_zn * T_u / 8\n",
        "\n",
        "    # Simulate the system with the tuned PID values\n",
        "    y_tuned = simulate_system(K_p_zn, K_i_zn, K_d_zn, t, y0, a, b)\n",
        "\n",
        "    # Output the table of PID values\n",
        "    pid_table = pd.DataFrame({\n",
        "        'Parameter': ['K_p', 'K_i', 'K_d'],\n",
        "        'Value': [K_p_zn, K_i_zn, K_d_zn]\n",
        "    })\n",
        "    print(\"Tuned PID Parameters (Ziegler-Nichols Method):\")\n",
        "    print(pid_table.to_string(index=False))\n",
        "\n",
        "    # Plot the system response before and after tuning\n",
        "    plt.figure(figsize=(10, 6))\n",
        "    plt.plot(t, y_initial, label=f'Before Tuning (K_p = {K_p_initial:.2f}, K_i = 0, K_d = 0)', linestyle='--')\n",
        "    plt.plot(t, y_tuned, label=f'After Tuning (K_p = {K_p_zn:.2f}, K_i = {K_i_zn:.2f}, K_d = {K_d_zn:.2f})', linewidth=2)\n",
        "    plt.axhline(1.0, color='gray', linestyle=':', label='Set Point')\n",
        "    plt.title('System Response Before and After PID Tuning (Ziegler-Nichols Method)')\n",
        "    plt.xlabel('Time')\n",
        "    plt.ylabel('System Output')\n",
        "    plt.legend()\n",
        "    plt.grid(True)\n",
        "    plt.show()\n"
      ],
      "metadata": {
        "colab": {
          "base_uri": "https://localhost:8080/"
        },
        "id": "cvehCmOPp13h",
        "outputId": "c2c6faa4-4398-4be7-97eb-12c4cb19290e"
      },
      "execution_count": 3,
      "outputs": [
        {
          "output_type": "stream",
          "name": "stdout",
          "text": [
            "Failed to find an oscillatory system response. Tuning aborted.\n"
          ]
        }
      ]
    }
  ]
}
