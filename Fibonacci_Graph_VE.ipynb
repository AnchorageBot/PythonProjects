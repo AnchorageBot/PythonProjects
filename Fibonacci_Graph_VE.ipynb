{
  "nbformat": 4,
  "nbformat_minor": 0,
  "metadata": {
    "colab": {
      "provenance": [],
      "authorship_tag": "ABX9TyOHVZueqL5LYwWruthVjlA0"
    },
    "kernelspec": {
      "name": "python3",
      "display_name": "Python 3"
    },
    "language_info": {
      "name": "python"
    }
  },
  "cells": [
    {
      "cell_type": "markdown",
      "source": [
        "Fibonacci Graph Notebook\n",
        "* Replicates a sunflower seed head\n"
      ],
      "metadata": {
        "id": "9SPWii-gqyAv"
      }
    },
    {
      "cell_type": "markdown",
      "source": [
        "Tutor:\n",
        "* OpenAI's ChatGPT"
      ],
      "metadata": {
        "id": "lKrExDAgq4B4"
      }
    },
    {
      "cell_type": "code",
      "execution_count": null,
      "metadata": {
        "id": "AqvoT8eUqxje"
      },
      "outputs": [],
      "source": [
        "import numpy as np\n",
        "import matplotlib.pyplot as plt\n",
        "\n",
        "\"\"\"\n",
        "Abstract:\n",
        "---------\n",
        "This script generates and visualizes the Fibonacci spiral pattern seen in sunflower seed heads.\n",
        "The pattern is formed by placing seeds at the center and spiraling outward according to the\n",
        "Golden Angle (approximately 137.5 degrees), which governs optimal packing in plants.\n",
        "\n",
        "Key Features:\n",
        "1. Uses the Fibonacci sequence to determine seed placement.\n",
        "2. Implements the Golden Angle for natural phyllotaxis.\n",
        "3. Graphs the spiral arms to mimic sunflower seed head arrangement.\n",
        "\"\"\"\n",
        "\n",
        "# Define the number of seeds to plot\n",
        "num_seeds = 500\n",
        "\n",
        "golden_angle = np.radians(137.5)  # Convert the Golden Angle to radians\n",
        "\n",
        "# Generate seed positions\n",
        "radii = np.sqrt(np.arange(num_seeds))  # Spiral radius grows with square root\n",
        "angles = np.arange(num_seeds) * golden_angle  # Each seed is placed at a new angle\n",
        "\n",
        "# Convert polar coordinates to Cartesian for plotting\n",
        "x = radii * np.cos(angles)\n",
        "y = radii * np.sin(angles)\n",
        "\n",
        "# Plot the sunflower spiral\n",
        "plt.figure(figsize=(8, 8))\n",
        "plt.scatter(x, y, s=10, color='gold', edgecolors='brown', alpha=0.8)\n",
        "plt.axis('equal')  # Keep aspect ratio square\n",
        "plt.title(\"Fibonacci Spiral - Sunflower Seed Pattern\")\n",
        "plt.xlabel(\"X-axis\")\n",
        "plt.ylabel(\"Y-axis\")\n",
        "plt.show()\n"
      ]
    }
  ]
}