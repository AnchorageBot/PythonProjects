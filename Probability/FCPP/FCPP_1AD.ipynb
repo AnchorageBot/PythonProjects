{
  "nbformat": 4,
  "nbformat_minor": 0,
  "metadata": {
    "colab": {
      "provenance": [],
      "authorship_tag": "ABX9TyMInRwv6Kd5YTsLm8ywfdFs"
    },
    "kernelspec": {
      "name": "python3",
      "display_name": "Python 3"
    },
    "language_info": {
      "name": "python"
    }
  },
  "cells": [
    {
      "cell_type": "markdown",
      "source": [
        "Fifty Challenging Problems in Probability\n",
        "* Frederick Mosteller\n",
        "* Problem 1A"
      ],
      "metadata": {
        "id": "KmokH5lY4QG5"
      }
    },
    {
      "cell_type": "markdown",
      "source": [
        "Tutor:\n",
        "* Google Gemini 2.0"
      ],
      "metadata": {
        "id": "LRLKnGXK_MKg"
      }
    },
    {
      "cell_type": "markdown",
      "source": [
        "## The Sock Drawer Problem\n",
        "\n",
        "**Given:**\n",
        "\n",
        "*   A sock drawer holds an unknown number of black and red socks.\n",
        "*   When two socks are drawn from the drawer, sight unseen, the probability that both are red is 1/2.\n",
        "\n",
        "**Find:**\n",
        "\n",
        "*   The smallest number of socks that can be located in the sock drawer and meet the criteria.\n",
        "\n",
        "**Solution (Systematic Testing/Enumeration):**\n",
        "\n",
        "This approach involves systematically testing different combinations of red and black socks to find the one that satisfies the probability condition.\n",
        "\n",
        "| Black | Red (R) | Total (T) | Probability of 2 Reds (R/T * (R-1)/(T-1)) |\n",
        "|---|---|---|---|\n",
        "| 1 | 2 | 3 | (2/3) * (1/2) = 1/3 ≈ 0.333 |\n",
        "| 1 | 3 | 4 | (3/4) * (2/3) = 1/2 = 0.5 |\n",
        "| 1 | 4 | 5 | (4/5) * (3/4) = 3/5 = 0.6 |\n",
        "| 2 | 2 | 4 | (2/4) * (1/3) = 1/6 ≈ 0.167 |\n",
        "| 2 | 3 | 5 | (3/5) * (2/4) = 3/10 = 0.3 |\n",
        "| 2 | 4 | 6 | (4/6) * (3/5) = 2/5 = 0.4 |\n",
        "| 3 | 3 | 6 | (3/6) * (2/5) = 1/5 = 0.2 |\n",
        "\n",
        "**Solution (Algebraic Approach):**\n",
        "\n",
        "We can express the probability of drawing two red socks as:\n",
        "\n",
        "(R/T) * ((R-1)/(T-1)) = 1/2\n",
        "\n",
        "Where R is the number of red socks and T is the total number of socks.\n",
        "\n",
        "Rearranging the equation:\n",
        "\n",
        "2R(R-1) = T(T-1)\n",
        "\n",
        "This Diophantine equation can be solved by testing integer values for R.\n",
        "\n",
        "*   If R = 3: 2 * 3 * 2 = 12. Then T(T-1) = 12. If T = 4, then 4 * 3 = 12. This works!\n",
        "\n",
        "Therefore, R = 3 and T = 4 is a solution. This means there are 3 red socks and 1 black sock (4 total).\n",
        "\n",
        "**Solution (Conditional Probability):**\n",
        "\n",
        "Let R1 be the event of drawing a red sock on the first draw, and R2 be the event of drawing a red sock on the second draw. We want to find P(R2 and R1), which is the probability of drawing two red socks.\n",
        "\n",
        "P(R2 and R1) = P(R1) * P(R2|R1)\n",
        "\n",
        "Where:\n",
        "\n",
        "*   P(R1) is the probability of drawing a red sock on the first draw.\n",
        "*   P(R2|R1) is the probability of drawing a red sock on the second draw *given* that a red sock was drawn on the first draw.\n",
        "\n",
        "Using our solution of 1 black sock and 3 red socks:\n",
        "\n",
        "*   P(R1) = 3/4\n",
        "*   P(R2|R1) = 2/3\n",
        "\n",
        "Therefore, P(R2 and R1) = (3/4) * (2/3) = 1/2\n",
        "\n",
        "**Conclusion:**\n",
        "\n",
        "The smallest number of socks that can be in the drawer to satisfy the given condition is 4, with 1 black sock and 3 red socks."
      ],
      "metadata": {
        "id": "yisZXEkykllF"
      }
    }
  ]
}
