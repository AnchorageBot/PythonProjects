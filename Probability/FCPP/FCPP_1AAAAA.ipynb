{
  "nbformat": 4,
  "nbformat_minor": 0,
  "metadata": {
    "colab": {
      "provenance": [],
      "authorship_tag": "ABX9TyPE82A4Urm4jo8z1Dq6PaKm"
    },
    "kernelspec": {
      "name": "python3",
      "display_name": "Python 3"
    },
    "language_info": {
      "name": "python"
    }
  },
  "cells": [
    {
      "cell_type": "markdown",
      "source": [
        "Fifty Challenging Problems in Probability\n",
        "* Frederick Mosteller\n",
        "* Problem 1A"
      ],
      "metadata": {
        "id": "qn4I3Rd7HPlb"
      }
    },
    {
      "cell_type": "markdown",
      "source": [
        "Given:\n",
        "\n",
        "* A sock drawer holds an unkown number of black and red socks.\n",
        "* When two socks are drawn from the drawer, sight unseen, the probability that both are red is 1/2"
      ],
      "metadata": {
        "id": "QofIoaMvHYqW"
      }
    },
    {
      "cell_type": "markdown",
      "source": [
        "Find:\n",
        "\n",
        "* The smallest number of socks that can be located in the sock drawer and meet the criteria given"
      ],
      "metadata": {
        "id": "v6bvkJdtHhKq"
      }
    },
    {
      "cell_type": "markdown",
      "source": [
        "For the classic sock drawer problem (where the probability of drawing two socks of the same color is 1/2), using the Diophantine equation approach is generally the better and more direct choice compared to trying to directly apply the quadratic formula. Here's why:\n",
        "\n",
        "**The Sock Drawer Problem and the Diophantine Equation:**\n",
        "\n",
        "The problem states that the probability of drawing two socks of the same color is 1/2. If there are *R* red socks and *B* black socks, and *T = R + B* is the total number of socks, the probability of drawing two red socks is *R(R-1) / T(T-1)*, and the probability of drawing two black socks is *B(B-1) / T(T-1)*. The sum of these probabilities must be 1/2:\n",
        "\n",
        "```\n",
        "[R(R-1) + B(B-1)] / [T(T-1)] = 1/2\n",
        "```\n",
        "\n",
        "Substituting *B = T - R*, we get:\n",
        "\n",
        "```\n",
        "2[R(R-1) + (T-R)(T-R-1)] = T(T-1)\n",
        "```\n",
        "\n",
        "Simplifying this leads to:\n",
        "\n",
        "```\n",
        "2R² - 2R + 2(T² - 2TR + R² - T + R) = T² - T\n",
        "2R² - 2R + 2T² - 4TR + 2R² - 2T + 2R = T² - T\n",
        "4R² - 4TR + T² - T = 0\n",
        "```\n",
        "\n",
        "This is the Diophantine equation that your script solves:\n",
        "\n",
        "```\n",
        "2R(R-1) = T(T-1)\n",
        "```\n",
        "\n",
        "**Why the Diophantine Approach is Better:**\n",
        "\n",
        "1.  **Directly Addresses the Problem's Constraints:** The Diophantine equation is derived directly from the problem's probability condition. Solving it finds integer solutions for *R* and *T* that satisfy the probability requirement.\n",
        "\n",
        "2.  **Integer Solutions:** The problem inherently requires integer numbers of socks. Diophantine equations are designed specifically to find integer solutions, which is exactly what we need.\n",
        "\n",
        "3.  **Avoids Intermediate Non-Integers:** If you were to try to use the quadratic formula directly (solving for R in terms of T, for instance), you would get expressions involving square roots. You would then have to figure out under what conditions those expressions evaluate to integers, which is significantly more complex than directly solving the Diophantine equation.\n",
        "\n",
        "4.  **Simpler Computation (for this problem):** The brute-force approach used in your provided script is straightforward and efficient enough for finding the smallest solution to this specific problem. More complex Diophantine equations might require more sophisticated methods, but for this case, it works well.\n",
        "\n",
        "**Why the Quadratic Formula is Less Suitable (in this particular case):**\n",
        "\n",
        "While the equation *is* quadratic in terms of *R*, applying the quadratic formula would give you *R* as a function of *T*, with square roots involved. You'd then have to determine which integer values of *T* result in integer values of *R*, making the problem more complex than necessary. The Diophantine form directly expresses the relationship between *R* and *T* in a way that allows for efficient integer search.\n",
        "\n",
        "**In summary:** The Diophantine approach is the natural and more efficient method for solving the sock drawer problem because it directly encodes the problem's constraints (integer numbers of socks and a specific probability) and is designed to find integer solutions.\n"
      ],
      "metadata": {
        "id": "dfOYX5oiXg1g"
      }
    }
  ]
}
