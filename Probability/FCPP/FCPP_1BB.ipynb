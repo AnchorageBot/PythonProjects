{
  "nbformat": 4,
  "nbformat_minor": 0,
  "metadata": {
    "colab": {
      "provenance": [],
      "authorship_tag": "ABX9TyP+9FH7xRm1itqMfF8zr1j6"
    },
    "kernelspec": {
      "name": "python3",
      "display_name": "Python 3"
    },
    "language_info": {
      "name": "python"
    }
  },
  "cells": [
    {
      "cell_type": "markdown",
      "source": [
        "Fifty Challenging Problems in Probability\n",
        "* Frederick Mosteller\n",
        "* Problem 1B"
      ],
      "metadata": {
        "id": "_TB2g_N1TrPw"
      }
    },
    {
      "cell_type": "markdown",
      "source": [
        "Tutor:\n",
        "* Google's AI, Gemini 2.0 Experimental"
      ],
      "metadata": {
        "id": "B1s74N66Ef22"
      }
    },
    {
      "cell_type": "markdown",
      "source": [
        "Given:\n",
        "\n",
        "* A sock drawer holds an unkown number of black and red socks\n",
        "* The number of black socks is even\n",
        "* When two socks are drawn from the drawer, sight unseen, the probability that both are red is 1/2"
      ],
      "metadata": {
        "id": "qLulVCk7Twsd"
      }
    },
    {
      "cell_type": "markdown",
      "source": [
        "Find:\n",
        "\n",
        "* What is the smallest total number of socks in the drawer, while meeting the given criteria"
      ],
      "metadata": {
        "id": "W4KYC9oXT8B_"
      }
    },
    {
      "cell_type": "markdown",
      "source": [
        "# Sock Drawer Problem\n",
        "\n",
        "**Problem Statement:**\n",
        "\n",
        "A drawer contains an unknown number of red and black socks. What is the smallest total number of socks in the drawer such that:\n",
        "\n",
        "1.  The probability of randomly drawing two red socks (without replacement) is exactly 1/2?\n",
        "2.  The number of black socks is an even number?\n",
        "\n",
        "**Solution (Trial & Error/Brute Force)**\n",
        "\n",
        "This section uses trial and error to explore different combinations of red and black socks. While not the most efficient method, it helps illustrate the problem and find the solution.\n",
        "\n",
        "Trial & Error:\n",
        "\n",
        "| Black | Red | Total | Probability of 2 Reds |\n",
        "|-------|-----|-------|-----------------------|\n",
        "| 2     | 2   | 4     | 0.167                 |\n",
        "| 2     | 4   | 6     | 0.400                 |\n",
        "| 2     | 5   | 7     | 0.476                 |\n",
        "| 2     | 6   | 8     | 0.536                 |\n",
        "| 4     | 3   | 7     | 0.143                 |\n",
        "| 4     | 4   | 8     | 0.214                 |\n",
        "| 4     | 8   | 12    | 0.424                 |\n",
        "| 4     | 10  | 14    | 0.495                 |\n",
        "| 4     | 11  | 15    | 0.524                 |\n",
        "| 6     | 15  | 21    | 0.500                 |\n",
        "| 2     | 3   | 5     | 0.500                 |\n",
        "\n",
        "**Solution (Algebraic/Quadratic Formula)**\n",
        "\n",
        "This section derives a general solution using algebra and the quadratic formula.\n",
        "\n",
        "Let:\n",
        "\n",
        "*   B = Black socks\n",
        "*   R = Red socks\n",
        "*   T = Total socks\n",
        "\n",
        "The probability equation is:\n",
        "\n",
        "(R/T) \\* ((R-1)/(T-1)) = 0.5\n",
        "\n",
        "Rearranging the equation:\n",
        "\n",
        "R² - R = 0.5T² - 0.5T\n",
        "R² - R - (0.5T² - 0.5T) = 0\n",
        "\n",
        "Applying the quadratic formula (aR² + bR + c = 0):\n",
        "\n",
        "R = (1 ± √(1 + 2T² - 2T)) / 2\n",
        "\n",
        "**Python Scripts (drafts - still need work):**\n",
        "\n",
        "\n"
      ],
      "metadata": {
        "id": "Cfpc1tAvFJ39"
      }
    },
    {
      "cell_type": "code",
      "source": [
        "\"\"\"\n",
        "This section uses trial and error to explore different combinations of red and black socks.\n",
        "While not the most efficient method, it helps illustrate the problem and find the solution.\n",
        "\"\"\"\n",
        "\n",
        "print(\"Trial & Error:\")\n",
        "print(\"| Black | Red | Total | Probability of 2 Reds |\")\n",
        "print(\"|-------|-----|-------|-----------------------|\")\n",
        "\n",
        "test_cases = [\n",
        "    (2, 2, 4),  # (Black, Red, Total)\n",
        "    (2, 4, 6),\n",
        "    (2, 5, 7),\n",
        "    (2, 6, 8),\n",
        "    (4, 3, 7),\n",
        "    (4, 4, 8),\n",
        "    (4, 8, 12),\n",
        "    (4, 10, 14),\n",
        "    (4, 11, 15),\n",
        "    (6, 15, 21),\n",
        "    (2,3,5) # added test case\n",
        "]\n",
        "\n",
        "for b, r, t in test_cases:\n",
        "    probability = (r / t) * ((r - 1) / (t - 1)) if t > 1 else 0 # handle divide by zero error\n",
        "    print(f\"| {b:5} | {r:3} | {t:5} | {probability:21.3f} |\")\n",
        "\n",
        "print(\"\\n\") # Add spacing"
      ],
      "metadata": {
        "colab": {
          "base_uri": "https://localhost:8080/"
        },
        "id": "FSAtuZbqGEwq",
        "outputId": "deca729a-ce68-4216-d992-cfd9085b8bb9"
      },
      "execution_count": 3,
      "outputs": [
        {
          "output_type": "stream",
          "name": "stdout",
          "text": [
            "Trial & Error:\n",
            "| Black | Red | Total | Probability of 2 Reds |\n",
            "|-------|-----|-------|-----------------------|\n",
            "|     2 |   2 |     4 |                 0.167 |\n",
            "|     2 |   4 |     6 |                 0.400 |\n",
            "|     2 |   5 |     7 |                 0.476 |\n",
            "|     2 |   6 |     8 |                 0.536 |\n",
            "|     4 |   3 |     7 |                 0.143 |\n",
            "|     4 |   4 |     8 |                 0.214 |\n",
            "|     4 |   8 |    12 |                 0.424 |\n",
            "|     4 |  10 |    14 |                 0.495 |\n",
            "|     4 |  11 |    15 |                 0.524 |\n",
            "|     6 |  15 |    21 |                 0.500 |\n",
            "|     2 |   3 |     5 |                 0.300 |\n",
            "\n",
            "\n"
          ]
        }
      ]
    },
    {
      "cell_type": "code",
      "source": [
        "import math\n",
        "\n",
        "def find_minimum_sock_solution():\n",
        "    \"\"\"\n",
        "    Finds the smallest solution to the sock drawer problem that meets both criteria:\n",
        "    1. Probability of drawing two red socks is 1/2.\n",
        "    2. Number of black socks is even.\n",
        "    \"\"\"\n",
        "    min_total_socks = float('inf')  # Initialize with infinity to find the minimum\n",
        "    min_red_socks = 0\n",
        "    min_black_socks = 0\n",
        "\n",
        "    for T in range(2, 100):  # Iterate through possible total socks\n",
        "        discriminant = 1 + 2 * T**2 - 2 * T\n",
        "        if discriminant >= 0:  # Check for non-negative discriminant\n",
        "            sqrt_discriminant = int(math.sqrt(discriminant))\n",
        "            if sqrt_discriminant * sqrt_discriminant == discriminant:  # Check for perfect square\n",
        "                R = (1 + sqrt_discriminant) // 2  # Calculate R (positive root)\n",
        "                if R > 0 and R < T:  # Check for valid R (0 < R < T)\n",
        "                    B = T - R  # Calculate B\n",
        "                    if B % 2 == 0:  # Check if B is even\n",
        "                        if T < min_total_socks:  # Check for new minimum\n",
        "                            min_total_socks = T\n",
        "                            min_red_socks = R\n",
        "                            min_black_socks = B\n",
        "                            #No need to break here as we want the absolute minimum\n",
        "    if min_total_socks != float('inf'): # check if a solution was found\n",
        "        print(f\"The minimum solution is: Total Socks (T) = {min_total_socks}, Red Socks (R) = {min_red_socks}, Black Socks (B) = {min_black_socks}, Probability = {(min_red_socks/min_total_socks)*((min_red_socks-1)/(min_total_socks-1))}\")\n",
        "    else:\n",
        "        print(\"No solution found in the tested range.\")\n",
        "\n",
        "# Call the function to find and print the minimum solution\n",
        "find_minimum_sock_solution()"
      ],
      "metadata": {
        "colab": {
          "base_uri": "https://localhost:8080/"
        },
        "id": "mwinpah5H45g",
        "outputId": "24cdb316-1cfd-4f65-eee7-2fc4ac8ce456"
      },
      "execution_count": 5,
      "outputs": [
        {
          "output_type": "stream",
          "name": "stdout",
          "text": [
            "The minimum solution is: Total Socks (T) = 21, Red Socks (R) = 15, Black Socks (B) = 6, Probability = 0.5\n"
          ]
        }
      ]
    },
    {
      "cell_type": "code",
      "source": [
        "import math\n",
        "\n",
        "def find_minimum_sock_solution():\n",
        "    \"\"\"\n",
        "    Finds the smallest solution to the sock drawer problem that meets both criteria.\n",
        "    \"\"\"\n",
        "    min_total_socks = float('inf')\n",
        "    min_red_socks = 0\n",
        "    min_black_socks = 0\n",
        "\n",
        "    for T in range(2, 100):\n",
        "        discriminant = 1 + 2 * T**2 - 2 * T  # Corrected discriminant calculation\n",
        "        if discriminant >= 0:\n",
        "            sqrt_discriminant = int(math.sqrt(discriminant))\n",
        "            if sqrt_discriminant * sqrt_discriminant == discriminant:\n",
        "                R = (1 + sqrt_discriminant) // 2\n",
        "                if R > 0 and R < T:\n",
        "                    B = T - R\n",
        "                    if B % 2 == 0:\n",
        "                        if T < min_total_socks: # Correct indentation\n",
        "                            min_total_socks = T\n",
        "                            min_red_socks = R\n",
        "                            min_black_socks = B\n",
        "\n",
        "    if min_total_socks != float('inf'):\n",
        "        print(f\"The minimum solution is: Total Socks (T) = {min_total_socks}, Red Socks (R) = {min_red_socks}, Black Socks (B) = {min_black_socks}, Probability = {(min_red_socks/min_total_socks)*((min_red_socks-1)/(min_total_socks-1))}\") # Corrected f string\n",
        "    else:\n",
        "        print(\"No solution found in the tested range.\")\n",
        "\n",
        "find_minimum_sock_solution()"
      ],
      "metadata": {
        "colab": {
          "base_uri": "https://localhost:8080/"
        },
        "id": "XIadbJDOJTiP",
        "outputId": "c6d546ae-07a1-4f1a-bee1-f0111031ab84"
      },
      "execution_count": 6,
      "outputs": [
        {
          "output_type": "stream",
          "name": "stdout",
          "text": [
            "The minimum solution is: Total Socks (T) = 21, Red Socks (R) = 15, Black Socks (B) = 6, Probability = 0.5\n"
          ]
        }
      ]
    },
    {
      "cell_type": "code",
      "source": [
        "import math\n",
        "\n",
        "def find_minimum_sock_solution():\n",
        "    \"\"\"\n",
        "    Finds the smallest solution to the sock drawer problem that meets both criteria:\n",
        "    1. Probability of drawing two red socks is 1/2.\n",
        "    2. Number of black socks is even.\n",
        "    \"\"\"\n",
        "    min_total_socks = float('inf')\n",
        "    min_red_socks = 0\n",
        "    min_black_socks = 0\n",
        "\n",
        "    for T in range(2, 1000): # Increased range to find the correct solution. The previous range was not large enough\n",
        "        for R in range(1, T): # Iterate through possible red socks\n",
        "            if (R/T)*((R-1)/(T-1)) == 0.5: # Correct way to check for probability\n",
        "                B = T - R\n",
        "                if B % 2 == 0:\n",
        "                    if T < min_total_socks:\n",
        "                        min_total_socks = T\n",
        "                        min_red_socks = R\n",
        "                        min_black_socks = B\n",
        "\n",
        "    if min_total_socks != float('inf'):\n",
        "        print(f\"The minimum solution is: Total Socks (T) = {min_total_socks}, Red Socks (R) = {min_red_socks}, Black Socks (B) = {min_black_socks}, Probability = {(min_red_socks/min_total_socks)*((min_red_socks-1)/(min_total_socks-1))}\")\n",
        "    else:\n",
        "        print(\"No solution found in the tested range.\")\n",
        "\n",
        "find_minimum_sock_solution()"
      ],
      "metadata": {
        "colab": {
          "base_uri": "https://localhost:8080/"
        },
        "id": "Z07qBjoGMCXu",
        "outputId": "bc08b001-a43e-4b93-c316-4bc3d5c9b984"
      },
      "execution_count": 7,
      "outputs": [
        {
          "output_type": "stream",
          "name": "stdout",
          "text": [
            "The minimum solution is: Total Socks (T) = 21, Red Socks (R) = 15, Black Socks (B) = 6, Probability = 0.5\n"
          ]
        }
      ]
    }
  ]
}
