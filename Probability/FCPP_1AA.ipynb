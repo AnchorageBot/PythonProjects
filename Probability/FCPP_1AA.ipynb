{
  "nbformat": 4,
  "nbformat_minor": 0,
  "metadata": {
    "colab": {
      "provenance": [],
      "authorship_tag": "ABX9TyOB+9nYSmkSLfLmtz0yPLpF"
    },
    "kernelspec": {
      "name": "python3",
      "display_name": "Python 3"
    },
    "language_info": {
      "name": "python"
    }
  },
  "cells": [
    {
      "cell_type": "markdown",
      "source": [
        "Fifty Challenging Problems in Probability\n",
        "* Frederick Mosteller\n",
        "* Problem 1A"
      ],
      "metadata": {
        "id": "KmokH5lY4QG5"
      }
    },
    {
      "cell_type": "markdown",
      "source": [
        "Given:\n",
        "\n",
        "A sock drawer holds an unkown number of black and red socks. When two socks are drawn from the drawer, sight unseen, the probability that both are red is 1/2"
      ],
      "metadata": {
        "id": "mjRiuDKv4Vdl"
      }
    },
    {
      "cell_type": "markdown",
      "source": [
        "Find:\n",
        "\n",
        "The smallest number of socks that can be located in the sock drawer and meet the criteria given"
      ],
      "metadata": {
        "id": "OSGfOJQB4Z2B"
      }
    },
    {
      "cell_type": "markdown",
      "source": [
        "Solution (exhaustively test a swag using low-4 gear):\n",
        "\n",
        "|Black |  Red | Total |\n",
        "|-----|------|------|\n",
        "| 1 | 3 | 4 |\n",
        "\n",
        "Let's map all possible outcomes when drawing 2 socks sequentially (R = red, B = black):\n",
        "\n",
        "\n",
        "|First draw → Second draw | → Combined outcome |\n",
        "|----|----|\n",
        "|R1 → R2 | Success\n",
        "|R1 → R3 | Success\n",
        "|R1 → B | Fail\n",
        "|R2 → R1 | Success\n",
        "|R2 → R3 | Success\n",
        "|R2 → B | Fail\n",
        "|R3 → R1 | Success\n",
        "|R3 → R2 | Success\n",
        "|R3 → B | Fail\n",
        "|B → R1 | Fail\n",
        "|B → R2 | Fail\n",
        "|B → R3 | Fail\n",
        "\n",
        "\n",
        "Out of 12 possible combinations, 6 give us two red socks = 1/2 probability\n",
        "\n",
        "This matches our multiplication:\n",
        "\n",
        "(R/T)(R-1/T-1) = (3/4)(3-1/4-1) = (3/4)(2/3) = 0.5\n",
        "\n",
        "... where:\n",
        "\n",
        "R = Red Sock\n",
        "\n",
        "T = Total Socks"
      ],
      "metadata": {
        "id": "2Z__a8wp4dnv"
      }
    }
  ]
}
