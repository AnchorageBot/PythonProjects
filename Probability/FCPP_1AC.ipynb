{
  "nbformat": 4,
  "nbformat_minor": 0,
  "metadata": {
    "colab": {
      "provenance": [],
      "authorship_tag": "ABX9TyNT6eICUnB7u5e+IJUfj49K"
    },
    "kernelspec": {
      "name": "python3",
      "display_name": "Python 3"
    },
    "language_info": {
      "name": "python"
    }
  },
  "cells": [
    {
      "cell_type": "markdown",
      "source": [
        "Fifty Challenging Problems in Probability\n",
        "* Frederick Mosteller\n",
        "* Problem 1A"
      ],
      "metadata": {
        "id": "KmokH5lY4QG5"
      }
    },
    {
      "cell_type": "markdown",
      "source": [
        "Tutor:\n",
        "* Open AI's ChatGPT"
      ],
      "metadata": {
        "id": "LRLKnGXK_MKg"
      }
    },
    {
      "cell_type": "markdown",
      "source": [
        "Given:\n",
        "\n",
        "* A sock drawer holds an unkown number of black and red socks.\n",
        "* When two socks are drawn from the drawer, sight unseen, the probability that both are red is 1/2\n",
        "  * Probability is a number between 0 and 1 (including both) that represents a degree of belief in a fact or prediction - Future events\n",
        "  * Likelihood is the probability of the data under the hypothesis - Past events"
      ],
      "metadata": {
        "id": "mjRiuDKv4Vdl"
      }
    },
    {
      "cell_type": "markdown",
      "source": [],
      "metadata": {
        "id": "zZlTjjsHhB_n"
      }
    },
    {
      "cell_type": "markdown",
      "source": [
        "Find:\n",
        "\n",
        "* The smallest number of socks that can be located in the sock drawer and meet the criteria in the given section of this notebook"
      ],
      "metadata": {
        "id": "OSGfOJQB4Z2B"
      }
    },
    {
      "cell_type": "markdown",
      "source": [
        "Solution (swag):\n",
        "\n",
        "|Black |  Red | Total |\n",
        "|-----|------|------|\n",
        "| 2 | 2 | 4 |\n",
        "\n",
        "Two draws, chances that both are red = (2R/4T)(1R/3T) = 0.17\n",
        "\n",
        "|Black |  Red | Total |\n",
        "|-----|------|------|\n",
        "| 2 | 3 | 5 |\n",
        "\n",
        "Two draws, chances that both are red = (3R/5T)(2R/4T) = 0.30\n",
        "\n",
        "|Black |  Red | Total |\n",
        "|-----|------|------|\n",
        "| 2 | 4 | 6 |\n",
        "\n",
        "Two draws, chances that both are red = (4R/6T)(3R/5T) = 0.402\n",
        "\n",
        "|Black |  Red | Total |\n",
        "|-----|------|------|\n",
        "| 2 | 5 | 7 |\n",
        "\n",
        "Two draws, chances that both are red = (5R/7T)(4R/6T) = 0.471\n",
        "\n",
        "|Black |  Red | Total |\n",
        "|-----|------|------|\n",
        "| 2 | 6 | 8 |\n",
        "\n",
        "Two draws, chances that both are red = (6R/8T)(5R/7T) = 0.536\n",
        "\n",
        "|Black |  Red | Total |\n",
        "|-----|------|------|\n",
        "| 3 | 3 | 6 |\n",
        "\n",
        "Two draws, chances that both are red = (3R/6T)(2R/5T) = 0.2"
      ],
      "metadata": {
        "id": "oJuFtg0KhU7o"
      }
    },
    {
      "cell_type": "markdown",
      "source": [
        "Solution (inspection of swag data):\n",
        "\n",
        "Two draws, chances that both are red = (R/T)(R-1/T-1) = 0.5\n",
        "\n",
        "(T/R)0.5 = (R-1/T-1)\n",
        "\n",
        "T = (R/0.5)(R-1/T-1)\n",
        "\n",
        "|  Red | Total |\n",
        "|-----|------|\n",
        "| 3 | 4 |\n",
        "\n",
        "\n",
        "T = (R/0.5)(R-1/T-1) = (3/0.5)(3-1/T-1) = 6(2/4-1) = 12/3 = 4\n",
        "\n",
        "Check, yes = (R/T)(R-1/T-1) = (3/4)(3-1/4-1) = (3/4)(2/3) = 0.5\n",
        "\n",
        "|Black |  Red | Total |\n",
        "|-----|------|------|\n",
        "| 1 | 3 | 4 |\n",
        "\n",
        "Two draws, chances that both are red = (3R/4T)(2R/3T) = 0.5"
      ],
      "metadata": {
        "id": "l4y2Sr-rhWzs"
      }
    },
    {
      "cell_type": "markdown",
      "source": [
        "Solution (trail & error using low-4 gear):\n",
        "\n",
        "|Black |  Red | Total |\n",
        "|-----|------|------|\n",
        "| 1 | 3 | 4 |\n",
        "\n",
        "... where:\n",
        "  * R = Red Sock\n",
        "  * B = Black Sock\n",
        "  * T = Total Socks\n",
        "\n",
        "\n",
        "\n",
        "Let's map all possible outcomes when drawing 2 socks sequentially (R = red, B = black):\n",
        "\n",
        "\n",
        "|First draw → Second draw | → Combined outcome |\n",
        "|----|----|\n",
        "|R1 → R2 | Success\n",
        "|R1 → R3 | Success\n",
        "|R1 → B | Fail\n",
        "|R2 → R1 | Success\n",
        "|R2 → R3 | Success\n",
        "|R2 → B | Fail\n",
        "|R3 → R1 | Success\n",
        "|R3 → R2 | Success\n",
        "|R3 → B | Fail\n",
        "|B → R1 | Fail\n",
        "|B → R2 | Fail\n",
        "|B → R3 | Fail\n",
        "\n",
        "\n",
        "Out of 12 possible combinations, 6 give us two red socks = 1/2 probability\n",
        "\n",
        "This pattern matches our equation that was dervied by inspection of the data: (R/T)(R-1/T-1) = (3/4)(3-1/4-1) = (3/4)(2/3) = 0.5\n"
      ],
      "metadata": {
        "id": "2Z__a8wp4dnv"
      }
    },
    {
      "cell_type": "markdown",
      "source": [
        "**Updated Bayesian Solution to the Sock Drawer Problem**\n",
        "\n",
        "**Given:**\n",
        "\n",
        "|Black | Red | Total |\n",
        "|------|-----|-------|\n",
        "|   1  |  3  |   4   |\n",
        "\n",
        "- **R** = Red Sock\n",
        "- **B** = Black Sock\n",
        "- **T** = Total Socks\n",
        "\n",
        "We aim to find the probability of drawing a second red sock given that the first sock drawn was red, using Bayes' theorem.\n",
        "\n",
        "---\n",
        "\n",
        "### **Bayes' Theorem**\n",
        "Bayes' equation is:\n",
        "\\[\n",
        "P(A|B) = \\frac{P(B|A) \\cdot P(A)}{P(B)}\n",
        "\\]\n",
        "where:\n",
        "\n",
        "- **\\(P(A|B)\\)** = Posterior probability: the probability of hypothesis \\(A\\) being true given evidence \\(B\\).\n",
        "  - In this problem: the probability of the second sock being red (\\(A\\)) given that the first sock is red (\\(B\\)).\n",
        "\n",
        "- **\\(P(B|A)\\)** = Likelihood: the probability of observing evidence \\(B\\) if hypothesis \\(A\\) is true.\n",
        "  - In this problem: the probability of the first sock being red given the second sock is red.\n",
        "\n",
        "- **\\(P(A)\\)** = Prior probability: the initial probability of hypothesis \\(A\\) before considering evidence \\(B\\).\n",
        "  - In this problem: the probability of the second sock being red before any evidence is observed.\n",
        "\n",
        "- **\\(P(B)\\)** = Evidence: the marginal probability of observing \\(B\\).\n",
        "  - In this problem: the probability of the first sock being red, regardless of the second sock.\n",
        "\n",
        "---\n",
        "\n",
        "### **Step-by-Step Solution**\n",
        "\n",
        "1. **Define Events:**\n",
        "   - **\\(A\\):** The second sock is red (hypothesis).\n",
        "   - **\\(B\\):** The first sock is red (evidence).\n",
        "\n",
        "2. **Calculate Prior Probability \\(P(A)\\):**\n",
        "   - The prior probability of drawing a red sock on the second draw is:\n",
        "     \\[\n",
        "     P(A) = \\frac{R}{T} = \\frac{3}{4}.\n",
        "     \\]\n",
        "\n",
        "3. **Calculate Likelihood \\(P(B|A)\\):**\n",
        "   - If the second sock is red, there are 2 remaining red socks and 1 black sock. The probability of drawing a red sock first is:\n",
        "     \\[\n",
        "     P(B|A) = \\frac{R-1}{T-1} = \\frac{2}{3}.\n",
        "     \\]\n",
        "\n",
        "4. **Calculate Evidence \\(P(B)\\):**\n",
        "   - The probability of drawing a red sock on the first draw, regardless of the second sock, is:\n",
        "     \\[\n",
        "     P(B) = \\frac{R}{T} = \\frac{3}{4}.\n",
        "     \\]\n",
        "\n",
        "5. **Apply Bayes' Theorem:**\n",
        "   - Substitute the values into Bayes' formula:\n",
        "     \\[\n",
        "     P(A|B) = \\frac{P(B|A) \\cdot P(A)}{P(B)}.\n",
        "     \\]\n",
        "   - Substituting:\n",
        "     \\[\n",
        "     P(A|B) = \\frac{\\left(\\frac{2}{3}\\right) \\cdot \\left(\\frac{3}{4}\\right)}{\\frac{3}{4}}.\n",
        "     \\]\n",
        "   - Simplify:\n",
        "     \\[\n",
        "     P(A|B) = \\frac{2}{3}.\n",
        "     \\]\n",
        "\n",
        "---\n",
        "\n",
        "### **Interpretation:**\n",
        "- The probability of the second sock being red given that the first sock is red is \\(\\frac{2}{3}\\).\n",
        "- This matches the result obtained using sequential probability methods, validating the consistency between Bayesian and conditional probability approaches.\n",
        "\n",
        "---\n",
        "\n",
        "### **Key Clarifications:**\n",
        "1. **Likelihood \\(P(B|A):**\n",
        "   - While Bayes' theorem allows us to consider \\(P(B|A)\\) (the probability of observing the first sock as red given the second is red), the symmetry of the problem ensures that this matches the conditional probability sequence \\(P(\\text{red2}|\\text{red1})\\) calculated directly.\n",
        "\n",
        "2. **Evidence \\(P(B):**\n",
        "   - The evidence \\(P(B)\\) normalizes the probability and ensures the posterior \\(P(A|B)\\) is valid. Here, it matches the marginal probability of drawing a red sock first.\n",
        "\n",
        "3. **Sequential Nature:**\n",
        "   - Bayesian analysis aligns with sequential probability methods, reinforcing that the probability depends on the changing composition of the sock drawer.\n",
        "\n",
        "---\n",
        "\n",
        "### **Extensions:**\n",
        "- This approach can handle more complex scenarios, such as:\n",
        "  - Multi-draw problems where the composition of the drawer changes after each draw.\n",
        "  - Incorporating incomplete or additional information (e.g., probabilities based on observed patterns).\n",
        "\n",
        "### **Conclusion:**\n",
        "- Bayesian analysis provides a consistent and logical framework for solving the sock drawer problem, even though sequential probability is more direct for this scenario. Both methods yield the same result, \\(P(A|B) = \\frac{2}{3}\\), confirming the correctness of the solution.\n",
        "\n"
      ],
      "metadata": {
        "id": "35zwELUvl38J"
      }
    }
  ]
}
