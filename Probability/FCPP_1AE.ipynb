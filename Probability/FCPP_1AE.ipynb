{
  "nbformat": 4,
  "nbformat_minor": 0,
  "metadata": {
    "colab": {
      "provenance": [],
      "authorship_tag": "ABX9TyPwVCmqPtCvA+i8z5qoHYX/"
    },
    "kernelspec": {
      "name": "python3",
      "display_name": "Python 3"
    },
    "language_info": {
      "name": "python"
    }
  },
  "cells": [
    {
      "cell_type": "markdown",
      "source": [
        "Fifty Challenging Problems in Probability\n",
        "* Frederick Mosteller\n",
        "* Problem 1A"
      ],
      "metadata": {
        "id": "KmokH5lY4QG5"
      }
    },
    {
      "cell_type": "markdown",
      "source": [],
      "metadata": {
        "id": "V7Wytv9OnBDx"
      }
    },
    {
      "cell_type": "markdown",
      "source": [
        "Tutor:\n",
        "* Google Gemini 2.0"
      ],
      "metadata": {
        "id": "LRLKnGXK_MKg"
      }
    },
    {
      "cell_type": "markdown",
      "source": [
        "## The Sock Drawer Problem - Solution using the Quadratic Formula\n",
        "\n",
        "**Given:**\n",
        "\n",
        "*   A sock drawer holds an unknown number of black and red socks.\n",
        "*   When two socks are drawn from the drawer, sight unseen, the probability that both are red is 1/2.\n",
        "\n",
        "**Find:**\n",
        "\n",
        "*   The smallest number of socks that can be located in the sock drawer and meet the criteria.\n",
        "\n",
        "**Solution (Applying the Quadratic Equation for R):**\n",
        "\n",
        "This approach uses the quadratic formula to solve for the number of red socks (R) in terms of the total number of socks (T).\n",
        "\n",
        "1.  **Start with the probability equation:**\n",
        "\n",
        "    (R/T) * ((R-1)/(T-1)) = 0.5\n",
        "\n",
        "2.  **Rearrange the equation:**\n",
        "\n",
        "    R(R-1) = 0.5T(T-1)\n",
        "    R² - R = 0.5T² - 0.5T\n",
        "    R² - R - (0.5T² - 0.5T) = 0\n",
        "\n",
        "3.  **Apply the quadratic formula (ax² + bx + c = 0, where x = (-b ± √(b² - 4ac)) / 2a):**\n",
        "\n",
        "    In our case:\n",
        "    *   a = 1\n",
        "    *   b = -1\n",
        "    *   c = -(0.5T² - 0.5T)\n",
        "\n",
        "    Therefore:\n",
        "\n",
        "    R = (1 ± √((-1)² - 4 * 1 * -(0.5T² - 0.5T))) / (2 * 1)\n",
        "    R = (1 ± √(1 + 2T² - 2T)) / 2\n",
        "\n",
        "4.  **Key Considerations:**\n",
        "\n",
        "    *   **Integer Solutions:** R must be a positive integer less than T. Therefore, we need to find values of T for which `1 + 2T² - 2T` is a perfect square.\n",
        "    *   **Positive Root:** Since the number of socks cannot be negative, we only consider the positive root of the quadratic formula.\n",
        "\n",
        "**Computational Implementation (Python):**\n",
        "\n",
        "\n",
        "2.0 Flash Experimental. Might not work as expected.\n",
        "Markdown\n",
        "## The Sock Drawer Problem - Solution using the Quadratic Formula\n",
        "\n",
        "**Given:**\n",
        "\n",
        "*   A sock drawer holds an unknown number of black and red socks.\n",
        "*   When two socks are drawn from the drawer, sight unseen, the probability that both are red is 1/2.\n",
        "\n",
        "**Find:**\n",
        "\n",
        "*   The smallest number of socks that can be located in the sock drawer and meet the criteria.\n",
        "\n",
        "**Solution (Applying the Quadratic Equation for R):**\n",
        "\n",
        "This approach uses the quadratic formula to solve for the number of red socks (R) in terms of the total number of socks (T).\n",
        "\n",
        "1.  **Start with the probability equation:**\n",
        "\n",
        "    (R/T) * ((R-1)/(T-1)) = 0.5\n",
        "\n",
        "2.  **Rearrange the equation:**\n",
        "\n",
        "    R(R-1) = 0.5T(T-1)\n",
        "    R² - R = 0.5T² - 0.5T\n",
        "    R² - R - (0.5T² - 0.5T) = 0\n",
        "\n",
        "3.  **Apply the quadratic formula (ax² + bx + c = 0, where x = (-b ± √(b² - 4ac)) / 2a):**\n",
        "\n",
        "    In our case:\n",
        "    *   a = 1\n",
        "    *   b = -1\n",
        "    *   c = -(0.5T² - 0.5T)\n",
        "\n",
        "    Therefore:\n",
        "\n",
        "    R = (1 ± √((-1)² - 4 * 1 * -(0.5T² - 0.5T))) / (2 * 1)\n",
        "    R = (1 ± √(1 + 2T² - 2T)) / 2\n",
        "\n",
        "4.  **Key Considerations:**\n",
        "\n",
        "    *   **Integer Solutions:** R must be a positive integer less than T. Therefore, we need to find values of T for which `1 + 2T² - 2T` is a perfect square.\n",
        "    *   **Positive Root:** Since the number of socks cannot be negative, we only consider the positive root of the quadratic formula.\n",
        "\n",
        "**Computational Implementation (Python):**\n",
        "\n",
        "```python\n",
        "import math\n",
        "\n",
        "def solve_sock_problem_quadratic():\n",
        "    for T in range(2, 100):  # Start from T=2 (at least 2 socks)\n",
        "        discriminant = 1 + 2*T*T - 2*T\n",
        "        if discriminant >= 0 and math.sqrt(discriminant) == int(math.sqrt(discriminant)):  # Check for perfect square\n",
        "            R = (1 + int(math.sqrt(discriminant))) // 2  # Integer division\n",
        "            if R < T and R > 0:\n",
        "                print(f\"Total Socks (T): {T}, Red Socks (R): {R}\")\n",
        "                return # Stop after finding the smallest solution\n",
        "solve_sock_problem_quadratic()\n",
        "```\n",
        "\n",
        "Explanation of the Code:\n",
        "\n",
        "* The code iterates through possible values of T (total socks).\n",
        "* It calculates the discriminant of the quadratic equation.\n",
        "* It checks if the discriminant is a perfect square using math.sqrt() and int().\n",
        "* If it's a perfect square, it calculates R using integer division (//) to ensure an integer result.\n",
        "* It checks that R is less than T and greater than 0.\n",
        "* It prints the solution and returns to stop further unecessary processing once the first/smallest solution is found.\n"
      ],
      "metadata": {
        "id": "NeRv_J4gmBSR"
      }
    },
    {
      "cell_type": "code",
      "source": [
        "import math\n",
        "\n",
        "def solve_sock_problem_quadratic():\n",
        "    for T in range(2, 100):  # Start from T=2 (at least 2 socks)\n",
        "        discriminant = 1 + 2*T*T - 2*T\n",
        "        if discriminant >= 0 and math.sqrt(discriminant) == int(math.sqrt(discriminant)):  # Check for perfect square\n",
        "            R = (1 + int(math.sqrt(discriminant))) // 2  # Integer division\n",
        "            if R < T and R > 0:\n",
        "                print(f\"Total Socks (T): {T}, Red Socks (R): {R}\")\n",
        "                return # Stop after finding the smallest solution\n",
        "\n",
        "solve_sock_problem_quadratic()"
      ],
      "metadata": {
        "colab": {
          "base_uri": "https://localhost:8080/"
        },
        "id": "AAvsgBEBmHui",
        "outputId": "28efe793-5f7f-4bff-8b41-b541bd3c9375"
      },
      "execution_count": 1,
      "outputs": [
        {
          "output_type": "stream",
          "name": "stdout",
          "text": [
            "Total Socks (T): 4, Red Socks (R): 3\n"
          ]
        }
      ]
    }
  ]
}
