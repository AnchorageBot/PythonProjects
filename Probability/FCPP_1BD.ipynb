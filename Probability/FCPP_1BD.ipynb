{
  "nbformat": 4,
  "nbformat_minor": 0,
  "metadata": {
    "colab": {
      "provenance": [],
      "authorship_tag": "ABX9TyPyn1aZ1k/sPaiVbDDG5cYY"
    },
    "kernelspec": {
      "name": "python3",
      "display_name": "Python 3"
    },
    "language_info": {
      "name": "python"
    }
  },
  "cells": [
    {
      "cell_type": "markdown",
      "source": [
        "Fifty Challenging Problems in Probability\n",
        "* Frederick Mosteller\n",
        "* Problem 1B"
      ],
      "metadata": {
        "id": "_TB2g_N1TrPw"
      }
    },
    {
      "cell_type": "markdown",
      "source": [
        "Tutor:\n",
        "* Google's AI, Gemini 2.0 Experimental"
      ],
      "metadata": {
        "id": "B1s74N66Ef22"
      }
    },
    {
      "cell_type": "markdown",
      "source": [
        "Given:\n",
        "\n",
        "* A sock drawer holds an unkown number of black and red socks\n",
        "* The number of black socks is even\n",
        "* When two socks are drawn from the drawer, sight unseen, the probability that both are red is 1/2"
      ],
      "metadata": {
        "id": "qLulVCk7Twsd"
      }
    },
    {
      "cell_type": "markdown",
      "source": [
        "Find:\n",
        "\n",
        "* What is the smallest total number of socks in the drawer, while meeting the given criteria"
      ],
      "metadata": {
        "id": "W4KYC9oXT8B_"
      }
    },
    {
      "cell_type": "markdown",
      "source": [
        "##Diophantine equations\n",
        "\n",
        "A Diophantine equation is a polynomial equation where only integer solutions are sought or studied. There isn't one single \"generic equation\" that encompasses all Diophantine equations because they can take many forms. However, we can describe some general forms and examples:\n",
        "\n",
        "**General Forms and Examples:**\n",
        "\n",
        "1.  **Polynomial Equations:** The most general way to represent a Diophantine equation is as a polynomial equation where the coefficients are integers:\n",
        "\n",
        "    ```\n",
        "    f(x₁, x₂, ..., xₙ) = 0\n",
        "    ```\n",
        "\n",
        "    where *f* is a polynomial with integer coefficients, and we are looking for integer solutions for the variables *x₁, x₂, ..., xₙ*.\n",
        "\n",
        "    *   **Example:** *x² + y² = z²* (This is the equation related to Pythagorean triples).\n",
        "\n",
        "2.  **Linear Diophantine Equations:** These are of the form:\n",
        "\n",
        "    ```\n",
        "    ax + by = c\n",
        "    ```\n",
        "\n",
        "    where *a*, *b*, and *c* are integers, and we seek integer solutions for *x* and *y*.\n",
        "\n",
        "    *   **Example:** *3x + 5y = 7*\n",
        "\n",
        "3.  **Higher-Degree Equations:** These involve polynomials of degree greater than one.\n",
        "\n",
        "    *   **Example:** *x³ + y³ = z³* (Fermat's Last Theorem states that there are no positive integer solutions for this equation when the exponent is greater than 2).\n",
        "\n",
        "4.  **Exponential Diophantine Equations:** These involve exponents as variables.\n",
        "\n",
        "    *   **Example:** *2ˣ + 3ʸ = z²*\n",
        "\n",
        "**Key Characteristics of Diophantine Equations:**\n",
        "\n",
        "*   **Integer Coefficients:** The coefficients of the polynomials are integers.\n",
        "*   **Integer Solutions:** The solutions sought are integers.\n",
        "*   **Variety of Forms:** They can be linear, polynomial of higher degree, or involve exponential terms.\n",
        "*   **Difficulty:** Solving Diophantine equations can be very challenging, and some have remained unsolved for centuries.\n",
        "\n",
        "In summary, while there's no single \"generic equation,\" the most general representation is a polynomial equation with integer coefficients where integer solutions are sought. The specific form of the polynomial determines the type of Diophantine equation.\n"
      ],
      "metadata": {
        "id": "le30RkHChERD"
      }
    }
  ]
}
