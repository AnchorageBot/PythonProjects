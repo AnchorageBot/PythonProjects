{
  "nbformat": 4,
  "nbformat_minor": 0,
  "metadata": {
    "colab": {
      "provenance": [],
      "authorship_tag": "ABX9TyOUA8KUTDY1knXrTgPBd+pj",
      "include_colab_link": true
    },
    "kernelspec": {
      "name": "python3",
      "display_name": "Python 3"
    },
    "language_info": {
      "name": "python"
    }
  },
  "cells": [
    {
      "cell_type": "markdown",
      "metadata": {
        "id": "view-in-github",
        "colab_type": "text"
      },
      "source": [
        "<a href=\"https://colab.research.google.com/github/AnchorageBot/PythonProjects/blob/master/FCPP_1AG.ipynb\" target=\"_parent\"><img src=\"https://colab.research.google.com/assets/colab-badge.svg\" alt=\"Open In Colab\"/></a>"
      ]
    },
    {
      "cell_type": "markdown",
      "source": [
        "Fifty Challenging Problems in Probability\n",
        "* Frederick Mosteller\n",
        "* Problem 1A"
      ],
      "metadata": {
        "id": "KmokH5lY4QG5"
      }
    },
    {
      "cell_type": "markdown",
      "source": [
        "Tutor:\n",
        "* Google Gemini 2.0"
      ],
      "metadata": {
        "id": "LRLKnGXK_MKg"
      }
    },
    {
      "cell_type": "markdown",
      "source": [
        "## The Sock Drawer Problem - Bayesian Approach (Illustrative)\n",
        "\n",
        "**Given:**\n",
        "\n",
        "*   A sock drawer holds an unknown number of black and red socks.\n",
        "*   When two socks are drawn from the drawer, sight unseen, the probability that both are red is 1/2.\n",
        "\n",
        "**Find:**\n",
        "\n",
        "*   The smallest number of socks that can be located in the sock drawer and meet the criteria.\n",
        "\n",
        "**Bayes' Theorem Overview:**\n",
        "\n",
        "Bayes' theorem describes the probability of an event, based on prior knowledge of conditions that might be related to the event. It's expressed as:\n",
        "\n",
        "P(A|B) = [P(B|A) * P(A)] / P(B)\n",
        "\n",
        "Where:\n",
        "\n",
        "*   P(A|B): Posterior probability – The probability of event A given event B.\n",
        "*   P(B|A): Likelihood – The probability of event B given event A.\n",
        "*   P(A): Prior probability – The initial probability of event A.\n",
        "*   P(B): Evidence or marginal probability – The probability of event B.\n",
        "\n",
        "**Why Bayes' Theorem is Not Ideal for This Problem:**\n",
        "\n",
        "This problem is fundamentally a conditional probability problem. We're looking for the combination of red and total socks that results in a specific joint probability (drawing two red socks). Bayes' theorem is typically used for updating beliefs based on new evidence. In this case, we're not updating beliefs; we're directly calculating probabilities to find a specific condition. Therefore, direct calculation of conditional probability or solving the derived Diophantine equation are more efficient and appropriate methods. However, we can use the core relationship of joint and conditional probability, which is the numerator of Bayes' theorem.\n",
        "\n",
        "**Solution (Bayesian Approach - Using Joint and Conditional Probabilities):**\n",
        "\n",
        "We want to find the combination of red and total socks where the probability of drawing two red socks is 1/2. We use the following relationship:\n",
        "\n",
        "P(Red1 and Red2) = P(Red1) * P(Red2|Red1)\n",
        "\n",
        "Where:\n",
        "\n",
        "*   Red1: Drawing a red sock on the first draw.\n",
        "*   Red2: Drawing a red sock on the second draw.\n",
        "*   P(Red1): Prior probability of drawing a red sock on the first draw.\n",
        "*   P(Red2|Red1): Probability of drawing a red sock on the second draw *given* a red sock was drawn on the first draw.\n",
        "\n",
        "**Code (Python):**\n",
        "\n",
        "```python\n",
        "def solve_sock_problem_bayesian():\n",
        "    \"\"\"\n",
        "    Solves the sock drawer problem using a Bayesian-related approach (using joint and conditional probability).\n",
        "    \"\"\"\n",
        "    for total_socks in range(2, 100):\n",
        "        for red_socks in range(1, total_socks):\n",
        "            if red_socks > 0 and total_socks > red_socks:\n",
        "                prior_red1 = red_socks / total_socks\n",
        "\n",
        "                if red_socks > 1:\n",
        "                    likelihood_red2_given_red1 = (red_socks - 1) / (total_socks - 1)\n",
        "                else:\n",
        "                    likelihood_red2_given_red1 = 0\n",
        "\n",
        "                joint_probability = prior_red1 * likelihood_red2_given_red1\n",
        "\n",
        "                if abs(joint_probability - 0.5) < 1e-9:\n",
        "                    black_socks = total_socks - red_socks\n",
        "                    print(f\"Total Socks: {total_socks}, Red Socks: {red_socks}, Black Socks: {black_socks}\")\n",
        "                    return\n",
        "\n",
        "solve_sock_problem_bayesian()\n",
        "\n",
        "```"
      ],
      "metadata": {
        "id": "zatT9RaEtywL"
      }
    },
    {
      "cell_type": "markdown",
      "source": [
        "Code Explanation:\n",
        "\n",
        "* def solve_sock_problem_bayesian():: Defines the function.\n",
        "\n",
        "* Outer and Inner Loops: Iterate through possible total_socks and red_socks combinations.\n",
        "\n",
        "* if red_socks > 0 and total_socks > red_socks:: Ensures valid sock counts (at least one red and one black sock).\n",
        "\n",
        "* prior_red1 = red_socks / total_socks: Calculates the probability of drawing a red sock first.\n",
        "\n",
        "* if red_socks > 1:: Handles the edge case where there's only one red sock (prevents division by zero).\n",
        "\n",
        "* likelihood_red2_given_red1 = (red_socks - 1) / (total_socks - 1): Calculates the probability of drawing a second red sock given the first was red.\n",
        "\n",
        "* joint_probability = prior_red1 * likelihood_red2_given_red1: Calculates the probability of drawing two red socks.\n",
        "\n",
        "* if abs(joint_probability - 0.5) < 1e-9:: Checks if the calculated probability is close to 0.5 (using a tolerance for floating-point comparisons).\n",
        "\n",
        "* Print and Return: Prints the solution and exits the function after finding the smallest valid set."
      ],
      "metadata": {
        "id": "yGgnoSkft2U1"
      }
    },
    {
      "cell_type": "code",
      "source": [
        "def solve_sock_problem_bayesian():\n",
        "    \"\"\"\n",
        "    Solves the sock drawer problem using a Bayesian-related approach (using joint and conditional probability).\n",
        "    \"\"\"\n",
        "    for total_socks in range(2, 100):\n",
        "        for red_socks in range(1, total_socks):\n",
        "            if red_socks > 0 and total_socks > red_socks:\n",
        "                prior_red1 = red_socks / total_socks\n",
        "\n",
        "                if red_socks > 1:\n",
        "                    likelihood_red2_given_red1 = (red_socks - 1) / (total_socks - 1)\n",
        "                else:\n",
        "                    likelihood_red2_given_red1 = 0\n",
        "\n",
        "                joint_probability = prior_red1 * likelihood_red2_given_red1\n",
        "\n",
        "                if abs(joint_probability - 0.5) < 1e-9:\n",
        "                    black_socks = total_socks - red_socks\n",
        "                    print(f\"Total Socks: {total_socks}, Red Socks: {red_socks}, Black Socks: {black_socks}\")\n",
        "                    return\n",
        "\n",
        "solve_sock_problem_bayesian()"
      ],
      "metadata": {
        "colab": {
          "base_uri": "https://localhost:8080/"
        },
        "id": "UQdW4ak2uKU0",
        "outputId": "cd31f0dd-97fc-4f99-f30e-de34bdf796af"
      },
      "execution_count": 1,
      "outputs": [
        {
          "output_type": "stream",
          "name": "stdout",
          "text": [
            "Total Socks: 4, Red Socks: 3, Black Socks: 1\n"
          ]
        }
      ]
    },
    {
      "cell_type": "markdown",
      "source": [
        "Conclusion:\n",
        "\n",
        "While the Bayesian framework isn't the most direct approach, this example demonstrates how the principles of joint and conditional probabilities (which are part of Bayes' theorem) can be used to solve the sock drawer problem. The most efficient methods for this problem remain using direct conditional probability or solving the derived Diophantine equation."
      ],
      "metadata": {
        "id": "6VW8jAY2uPxv"
      }
    }
  ]
}
