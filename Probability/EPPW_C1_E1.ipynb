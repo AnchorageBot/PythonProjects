{
  "nbformat": 4,
  "nbformat_minor": 0,
  "metadata": {
    "colab": {
      "provenance": [],
      "authorship_tag": "ABX9TyPDIv0tvuFiTTeyqHKOQq4L"
    },
    "kernelspec": {
      "name": "python3",
      "display_name": "Python 3"
    },
    "language_info": {
      "name": "python"
    }
  },
  "cells": [
    {
      "cell_type": "markdown",
      "source": [
        "[Essential Probability Practice Workbook with Answers - Dr. Chris McMullen](https://www.goodreads.com/book/show/212931091-essential-probability-practice-workbook-with-answers)\n",
        "\n",
        "Chapter 1 - Permutations\n",
        "\n",
        "* Example 1 - plus extra\n",
        "\n",
        "References\n",
        "* [OEIS](https://oeis.org/)\n",
        "* [Python for Everyone - Chapter 14 - OOP](https://www.py4e.com/html3/14-objects)\n",
        "\n",
        "Tutors:\n",
        "* Anthropic's AI Claude\n",
        "* Google's AI PaLM2"
      ],
      "metadata": {
        "id": "bGHj3_DcB3iA"
      }
    },
    {
      "cell_type": "markdown",
      "source": [
        "Given:\n",
        "* A set in which all elements are different\n",
        "* S<sub>Z</sub> = {3,5,6,8}\n",
        "\n",
        "Find:\n",
        "* Find the permutations of the full set\n",
        "* Graph a scatter plot of the permutations\n",
        "  * X-axis: First number in each permutation\n",
        "  * Y-axis: Second number in each permutation\n",
        "* Find possible integer sequences that this set is part of\n",
        "\n"
      ],
      "metadata": {
        "id": "yTOMbXMWCOKR"
      }
    },
    {
      "cell_type": "markdown",
      "source": [
        "Assumptions:\n",
        "\n",
        "* A set with N elements has N! permutations\n",
        "\n",
        "Solutions:\n",
        "\n",
        "* Permutations of the full set = N! = [4][3][2][1] = 24\n",
        "* The set is part of the following possible integer sequences\n",
        "  * (Odd primes - 1)/2\n",
        "    * 3 = (7 - 1) / 2\n",
        "    * 5 = (11 - 1) / 2\n",
        "    * 6 = (13 - 1) / 2\n",
        "    * 8 = (17 - 1) / 2\n",
        "  * Numbers that are congruent to 0 or 2 mod 3\n",
        "    * 3 ≡ 0 (mod 3)\n",
        "    * 5 ≡ 2 (mod 3)\n",
        "    * 6 ≡ 0 (mod 3)\n",
        "    * 8 ≡ 2 (mod 3)\n"
      ],
      "metadata": {
        "id": "RR39XYK3Hn_w"
      }
    },
    {
      "cell_type": "code",
      "source": [
        "'''\n",
        "Abstract:\n",
        "\n",
        "This script prompts the user to provide 4 different numbers, calculates all possible permutations of these numbers,\n",
        "and creates a scatter plot visualizing the first two numbers of each permutation. The script demonstrates input validation,\n",
        "permutation generation, and data visualization using matplotlib.\n",
        "'''\n",
        "\n",
        "\n",
        "import matplotlib.pyplot as plt\n",
        "from itertools import permutations\n",
        "\n",
        "def ask_user_input():\n",
        "    \"\"\"\n",
        "    Ask the user to input 4 different numbers.\n",
        "\n",
        "    Returns:\n",
        "    list: A list of 4 integer numbers provided by the user.\n",
        "    \"\"\"\n",
        "    while True:\n",
        "        try:\n",
        "            # Split the input string into a list of strings\n",
        "            numbers = input(\"Please provide 4 different numbers separated by spaces: \").split()\n",
        "\n",
        "            # Check if exactly 4 numbers were provided\n",
        "            if len(numbers) != 4:\n",
        "                raise ValueError(\"Please provide exactly 4 numbers.\")\n",
        "\n",
        "            # Convert strings to integers\n",
        "            numbers = [int(num) for num in numbers]\n",
        "\n",
        "            # Check if all numbers are unique\n",
        "            if len(set(numbers)) != 4:\n",
        "                raise ValueError(\"Please provide 4 different numbers.\")\n",
        "\n",
        "            return numbers\n",
        "        except ValueError as e:\n",
        "            print(f\"Invalid input: {e}. Please try again.\")\n",
        "\n",
        "def calculate_permutations(numbers):\n",
        "    \"\"\"\n",
        "    Calculate all permutations of the given set of numbers.\n",
        "\n",
        "    Args:\n",
        "    numbers (list): A list of 4 integer numbers.\n",
        "\n",
        "    Returns:\n",
        "    list: A list of all permutations of the input numbers.\n",
        "    \"\"\"\n",
        "    return list(permutations(numbers))\n",
        "\n",
        "def graph_permutations(perms):\n",
        "    \"\"\"\n",
        "    Create a scatter plot of all permutations.\n",
        "\n",
        "    Args:\n",
        "    perms (list): A list of permutations.\n",
        "    \"\"\"\n",
        "    # Extract x and y coordinates from permutations\n",
        "    x = [p[0] for p in perms]\n",
        "    y = [p[1] for p in perms]\n",
        "\n",
        "    # Create the scatter plot\n",
        "    plt.figure(figsize=(10, 10))\n",
        "    plt.scatter(x, y, c='blue', alpha=0.6)\n",
        "    plt.title(\"Scatter Plot of Permutations\")\n",
        "    plt.xlabel(\"First Number in Permutation\")\n",
        "    plt.ylabel(\"Second Number in Permutation\")\n",
        "    plt.grid(True)\n",
        "    plt.show()\n",
        "\n",
        "def print_permutations(perms):\n",
        "    \"\"\"\n",
        "    Print permutations in rows of 4.\n",
        "\n",
        "    Args:\n",
        "    perms (list): A list of permutations.\n",
        "    \"\"\"\n",
        "    print(\"Permutations:\")\n",
        "    for i, perm in enumerate(perms):\n",
        "        if i % 4 == 0 and i != 0:\n",
        "            print()  # Start a new line every 4 permutations\n",
        "        print(f\"{perm}\", end=\"  \")  # Print permutation with two spaces after\n",
        "    print()  # Print a newline at the end\n",
        "\n",
        "def main():\n",
        "    \"\"\"\n",
        "    Main function to orchestrate the program flow.\n",
        "    \"\"\"\n",
        "    # Get user input\n",
        "    numbers = ask_user_input()\n",
        "    print(f\"You entered: {numbers}\")\n",
        "\n",
        "    # Calculate permutations\n",
        "    perms = calculate_permutations(numbers)\n",
        "\n",
        "    # Print permutations in rows of 4\n",
        "    print_permutations(perms)\n",
        "\n",
        "    # Graph permutations\n",
        "    graph_permutations(perms)\n",
        "\n",
        "if __name__ == \"__main__\":\n",
        "    main()"
      ],
      "metadata": {
        "colab": {
          "base_uri": "https://localhost:8080/",
          "height": 1000
        },
        "id": "_q08gyThP4vD",
        "outputId": "6c2ca63a-170d-493e-ef11-e22f72ab5a0c"
      },
      "execution_count": null,
      "outputs": [
        {
          "output_type": "stream",
          "name": "stdout",
          "text": [
            "Please provide 4 different numbers separated by spaces: 3 5 6 8\n",
            "You entered: [3, 5, 6, 8]\n",
            "Permutations:\n",
            "(3, 5, 6, 8)  (3, 5, 8, 6)  (3, 6, 5, 8)  (3, 6, 8, 5)  \n",
            "(3, 8, 5, 6)  (3, 8, 6, 5)  (5, 3, 6, 8)  (5, 3, 8, 6)  \n",
            "(5, 6, 3, 8)  (5, 6, 8, 3)  (5, 8, 3, 6)  (5, 8, 6, 3)  \n",
            "(6, 3, 5, 8)  (6, 3, 8, 5)  (6, 5, 3, 8)  (6, 5, 8, 3)  \n",
            "(6, 8, 3, 5)  (6, 8, 5, 3)  (8, 3, 5, 6)  (8, 3, 6, 5)  \n",
            "(8, 5, 3, 6)  (8, 5, 6, 3)  (8, 6, 3, 5)  (8, 6, 5, 3)  \n"
          ]
        },
        {
          "output_type": "display_data",
          "data": {
            "text/plain": [
              "<Figure size 1000x1000 with 1 Axes>"
            ],
            "image/png": "[encoded data removed]"
          },
          "metadata": {}
        }
      ]
    }
  ]
}
