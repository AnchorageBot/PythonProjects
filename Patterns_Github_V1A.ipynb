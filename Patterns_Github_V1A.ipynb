{
  "nbformat": 4,
  "nbformat_minor": 0,
  "metadata": {
    "colab": {
      "provenance": [],
      "authorship_tag": "ABX9TyO5FaDlZ9e/yxBU9G24QAf9"
    },
    "kernelspec": {
      "name": "python3",
      "display_name": "Python 3"
    },
    "language_info": {
      "name": "python"
    }
  },
  "cells": [
    {
      "cell_type": "markdown",
      "source": [
        "Pattern Analysis\n",
        "* Github numbers"
      ],
      "metadata": {
        "id": "crweWepifrZw"
      }
    },
    {
      "cell_type": "markdown",
      "source": [
        "Tutor\n",
        "* Anthropic's AI Claude"
      ],
      "metadata": {
        "id": "X8GL8gCMfw0i"
      }
    },
    {
      "cell_type": "code",
      "source": [
        "\"\"\"\n",
        "Abstract:\n",
        "This Python script creates a line graph using Matplotlib to visualize a set of numerical values\n",
        "over a period of years (2019-2024). The graph displays the trend of these values, which show\n",
        "a significant increase over time. Each data point is marked with a circular marker and labeled\n",
        "with its corresponding value. The graph includes a title, labeled axes, and a grid for better\n",
        "readability.\n",
        "\"\"\"\n",
        "\n",
        "import matplotlib.pyplot as plt\n",
        "\n",
        "# Data points\n",
        "years = [2019, 2020, 2021, 2022, 2023, 2024]\n",
        "values = [30, 85, 154, 488, 2777, 3558]\n",
        "\n",
        "# Create the plot\n",
        "plt.figure(figsize=(10, 6))\n",
        "plt.plot(years, values, marker='o')\n",
        "\n",
        "# Customize the plot\n",
        "plt.title('Number Set Graph')\n",
        "plt.xlabel('Year')\n",
        "plt.ylabel('Value')\n",
        "plt.grid(True)\n",
        "\n",
        "# Add data labels\n",
        "for i, value in enumerate(values):\n",
        "    plt.annotate(str(value), (years[i], value), textcoords=\"offset points\", xytext=(0,10), ha='center')\n",
        "\n",
        "# Display the plot\n",
        "plt.show()"
      ],
      "metadata": {
        "id": "siwkA96V1l-9"
      },
      "execution_count": null,
      "outputs": []
    }
  ]
}