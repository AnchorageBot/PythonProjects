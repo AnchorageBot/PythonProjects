{
  "nbformat": 4,
  "nbformat_minor": 0,
  "metadata": {
    "colab": {
      "provenance": [],
      "authorship_tag": "ABX9TyPZFkP0PWlrUU5uyp/5ases"
    },
    "kernelspec": {
      "name": "python3",
      "display_name": "Python 3"
    },
    "language_info": {
      "name": "python"
    }
  },
  "cells": [
    {
      "cell_type": "markdown",
      "source": [
        "Bernoulli Percolation Notebook\n",
        "* Based upon Professor Hugo Duminil-Copin's notes\n",
        "* Introduction to Bernoulli Percolation dated November 2, 2022\n",
        "* [Universite' de Geneve, IHES](https://www.ihes.fr/~duminil/CV.html)"
      ],
      "metadata": {
        "id": "vZKxLBxp0U6G"
      }
    },
    {
      "cell_type": "markdown",
      "source": [
        "Tutors 🚀 :\n",
        "* Professor Hugo Duminil-Copin\n",
        "* Google's AI Gemini 2.0 Experimental Advanced"
      ],
      "metadata": {
        "id": "uHaVx4Q80dx0"
      }
    },
    {
      "cell_type": "markdown",
      "source": [
        "## Glossary Table\n",
        "\n",
        "| Symbol/Term                       | Meaning                                                                                                                                                                | Concept                                           | Notes                                                                                                                                                                                                                            |\n",
        "| :-------------------------------- | :------------------------------------------------------------------------------------------------------------------------------------------------------------------------- | :------------------------------------------------ | :------------------------------------------------------------------------------------------------------------------------------------------------------------------------------------------------------------------------------- |\n",
        "| `G = (V, E)`                      | A graph with vertex set `V` and edge set `E`                                                                                                                              | Graph Theory                                      |                                                                                                                                                                                                                              |\n",
        "| `ω` (omega)                       | A percolation configuration; an element of `{0, 1}ᴱ`, where `ωₑ = 1` means edge `e` is open, and `ωₑ = 0` means edge `e` is closed                                        | Percolation Theory                                |                                                                                                                                                                                                                              |\n",
        "| `ωₑ`                                | State of edge `e` in configuration `ω` (1 for open, 0 for closed)                                                                                                         | Percolation Theory                                |                                                                                                                                                                                                                              |\n",
        "| `ω'` (omega prime)                 | A percolation configuration, often used in the context of coupling or as a dual configuration                                                                            | Percolation Theory                                | Clarified the role of `ω'`                                                                                                                                                                                                     |\n",
        "| `e*`                               | Edge in the dual graph corresponding to edge `e` in the original graph                                                                                                     | Percolation Theory (Duality)                     |                                                                                                                                                                                                                              |\n",
        "| `(ℤ²)⁺`                             | Translation of `ℤ²` by the vector (1/2, 1/2); also denoted as the dual graph                                                                                                | Lattice Geometry, Percolation Theory (Duality)   | Added that it's also the dual graph.                                                                                                                                                                                      |\n",
        "| Bernoulli Percolation             | Percolation model where each edge is independently open with probability `p` and closed with probability `1-p`                                                              | Percolation Theory                                |                                                                                                                                                                                                                              |\n",
        "| `p`                               | Probability that an edge is open in Bernoulli percolation                                                                                                                   | Percolation Theory                                |                                                                                                                                                                                                                              |\n",
        "| `ℙₚ` or `P_p`                      | Probability measure for Bernoulli percolation with parameter `p`                                                                                                             | Probability Theory, Percolation Theory          | Added alternative notation `P_p`                                                                                                                                                                                               |\n",
        "| `θ(p)`                             | Probability that the origin (or a specific vertex) belongs to an infinite cluster in Bernoulli percolation with parameter `p`                                            | Percolation Theory                                |                                                                                                                                                                                                                              |\n",
        "| `p_c` or `p_c(d)`                 | Critical probability; the infimum of `p` such that `θ(p) > 0` (may be denoted with `d` if dimension is important)                                                             | Percolation Theory                                | Added `p_c(d)` to make it clear that it can depend on dimension.                                                                                                                                                              |\n",
        "| `0 ↔ ∞`                            | Existence of an infinite path (or cluster) connecting the origin to infinity                                                                                                 | Percolation Theory                                |                                                                                                                                                                                                                              |\n",
        "| `ℤᵈ`                               | Set of elements in `ℝᵈ` with integer coordinates (also represents the d-dimensional hypercubic lattice/vertex set)                                                          | Discrete Mathematics, Geometry, Percolation Theory | Emphasized that it's the d-dimensional hypercubic lattice.                                                                                                                                                         |\n",
        "| Infinite cluster                  | A connected component of open edges that is infinite                                                                                                                       | Percolation Theory                                |                                                                                                                                                                                                                              |\n",
        "| Self-avoiding path                | A sequence of edges `e₁, ..., eₙ` where `eᵢ ≠ eⱼ` for `i ≠ j`, and adjacent edges share an endpoint                                                                         | Graph Theory, Percolation Theory                  |                                                                                                                                                                                                                              |\n",
        "| `Ωₙ`                               | Set of self-avoiding paths of length `n` starting from the origin                                                                                                           | Graph Theory, Percolation Theory                  |                                                                                                                                                                                                                              |\n",
        "| Dual graph `(ℤ²)∗` or `(ℤ²)⁺`        | Graph with vertices at the centers of the squares of `ℤ²`, and edges connecting adjacent centers, representing the dual to the original lattice's edges                  | Percolation Theory (Duality)                     | Used both `(ℤ²)∗` and `(ℤ²)⁺`                                                                                                                                                                                            |\n",
        "| Increasing event                  | An event `A` is increasing if `ω ∈ A` and `ω ≤ ω'` implies `ω' ∈ A`                                                                                                        | Percolation Theory                                |                                                                                                                                                                                                                              |\n",
        "| Decreasing event                  | An event `A` is decreasing if its complement is increasing                                                                                                                 | Percolation Theory                                |                                                                                                                                                                                                                              |\n",
        "| `x ↔ y`                            | Sites `x` and `y` are connected in `ω` (there exists a path of open edges from `x` to `y`)                                                                                  | Percolation Theory                                |                                                                                                                                                                                                                              |\n",
        "| `A ↔ B`                            | There exists a path connecting set of vertices `A` to set of vertices `B`                                                                                                   | Percolation Theory                                |                                                                                                                                                                                                                              |\n",
        "| `x ↔ ∞`                            | The site `x` is in an infinite connected component (same as `x` belongs to an infinite cluster)                                                                           | Percolation Theory                                | Added \"same as `x` belongs to an infinite cluster\" for clarity.                                                                                                                                                        |\n",
        "| `|F| > k`                         | The number of open edges in the set `F` exceeds `k`                                                                                                                       | Percolation Theory                                |                                                                                                                                                                                                                              |\n",
        "| Lattice animal                    | A finite connected subset of a graph (specifically, a connected subgraph of the lattice)                                                                                  | Graph Theory, Combinatorics                        | Added \"connected subgraph of the lattice\" for specificity.                                                                                                                                                            |\n",
        "| `α(n, x)` or `a(n, x)`             | The number of lattice animals of size `n` containing the vertex `x`                                                                                                           | Graph Theory, Combinatorics                        | Added alternative notation `a(n,x)`                                                                                                                                                                                      |\n",
        "| Minimal blocking surface          | A set of edges `E` such that every path of adjacent edges from the origin to infinity intersects `E`, and no proper subset of `E` has this property                          | Percolation Theory                                |                                                                                                                                                                                                                              |\n",
        "| Elementary loop                  | A loop of length 4 in the lattice                                                                                                                                             | Graph Theory                                      |                                                                                                                                                                                                                              |\n",
        "| Increasing coupling               | A measure `P` on `{0,1}ᴱ × {0,1}ᴱ` with marginals `P_p` and `P_p'` (where `p < p'`) such that `P[(ω, ω'): ω ≤ ω'] = 1`                                                            | Probability Theory, Percolation Theory          | Specified `p < p'`                                                                                                                                                                                                        |\n",
        "| `Λₙ` (Lambda_n)                   | A finite subset of the lattice defined as `[-n, n]ᵈ` for any integer `n ≥ 1`.                                                                                                 | Lattice Geometry                                      | Added to the table as it's frequently used to refer to a box or finite region of the lattice                                                                                                                            |\n",
        "| Boundary of a subgraph (`∂G`)      | For a subgraph `G = (V, E)` of  `ℤᵈ`, its boundary `∂G` is the set of vertices in `G` that are connected to at least one vertex outside of `G`.                              | Graph Theory, Percolation Theory                  | Added as it's important for understanding how finite subgraphs relate to the infinite lattice and defines the edges of finite regions.                                                                                  |\n",
        "| `|Ωₙ|`                             | The number (cardinality) of self-avoiding paths of length `n` starting from the origin                                                                                           | Graph Theory, Combinatorics                        | Added for clarity regarding the use in the document.                                                                                                                                                                          |\n",
        "| `d` (in the context of `p_c(d)`) | The dimension of the hypercubic lattice (e.g., `d=2` for the square lattice)                                                                                                   | Percolation Theory                                | Added to clarify the use of `d` in the context of critical probability.                                                                                                                                                      |"
      ],
      "metadata": {
        "id": "Hg5daeEl9yjI"
      }
    },
    {
      "cell_type": "markdown",
      "source": [
        "##ℱ is the σ-algebra\n",
        "\n",
        "This is a fundamental concept in measure theory and probability theory. Here's an explanation with context:\n",
        "\n",
        "**1. What is an Algebra of Sets?**\n",
        "\n",
        "Before defining a σ-algebra, it's helpful to understand an *algebra* (or *field*) of sets.  Let Ω (Omega) be a set (think of it as the \"sample space\" in probability, or the \"universal set\" in set theory).  An algebra of subsets of Ω is a collection of subsets of Ω that satisfies the following properties:\n",
        "\n",
        "*   **Empty Set:** The empty set (∅) is in the algebra.\n",
        "*   **Closure under Complementation:** If a set A is in the algebra, then its complement (Ω \\ A, all elements of Ω *not* in A) is also in the algebra.\n",
        "*   **Closure under Finite Unions:** If sets A and B are in the algebra, then their union (A ∪ B, all elements in A or B or both) is also in the algebra.\n",
        "\n",
        "From these properties, you can also deduce that an algebra is closed under finite intersections (using De Morgan's laws: A ∩ B = (Aᶜ ∪ Bᶜ)ᶜ, where Aᶜ is the complement of A).  An algebra basically gives you a collection of subsets that you can manipulate using set operations (union, intersection, complement) and stay within the collection.\n",
        "\n",
        "**2. What is a σ-algebra?**\n",
        "\n",
        "A σ-algebra (sigma-algebra) is a *stronger* version of an algebra.  It's an algebra that is also closed under *countable* unions.  This seemingly small addition has profound consequences. Here's the formal definition:\n",
        "\n",
        "Let Ω be a set. A collection ℱ of subsets of Ω is a σ-algebra (or σ-field) if:\n",
        "\n",
        "*   **Empty Set:** ∅ ∈ ℱ\n",
        "*   **Closure under Complementation:** If A ∈ ℱ, then Aᶜ ∈ ℱ (where Aᶜ = Ω \\ A).\n",
        "*   **Closure under Countable Unions:** If A₁, A₂, A₃, ... is a *countable* sequence of sets in ℱ, then their union (∪ᵢ<sub style=\"display: inline-block; transform: scale(0.8);\">∞</sub >Aᵢ) is also in ℱ.\n",
        "\n",
        "The key difference is the \"countable\" part.  A σ-algebra isn't just closed under finite unions; it's closed under unions of *countably infinitely many* sets. This allows us to handle limits and many other operations essential for probability and analysis.  Like algebras, σ-algebras are also closed under countable intersections.\n",
        "\n",
        "**3. Why are σ-algebras Important?**\n",
        "\n",
        "*   **Measurable Sets:** In measure theory, the sets in a σ-algebra ℱ are called the *measurable sets*.  These are the sets to which we can assign a \"measure\" (like length, area, volume, or, importantly, probability).  We *need* the closure properties of a σ-algebra to make sure that when we perform set operations (complements, countable unions/intersections) on measurable sets, we get *another* measurable set. We don't \"leave\" the collection of sets we can measure.\n",
        "\n",
        "*   **Probability Spaces:** In probability theory, a probability space is a triple (Ω, ℱ, P), where:\n",
        "    *   Ω is the sample space (all possible outcomes).\n",
        "    *   ℱ is a σ-algebra of subsets of Ω. These subsets are called *events*.\n",
        "    *   P is a probability measure, which is a function that assigns a probability (a number between 0 and 1) to each event in ℱ, satisfying certain axioms (like P(Ω) = 1 and additivity for countable disjoint unions).\n",
        "\n",
        "    The σ-algebra ℱ is absolutely essential here. It defines the collection of events *to which we can assign probabilities*. We can't just assign probabilities to *any* subset of Ω; there are often \"pathological\" subsets that would lead to contradictions. The σ-algebra gives us a well-behaved collection of events.\n",
        "\n",
        "*   **Random Variables:**  A random variable is a *measurable function* from the sample space Ω to the real numbers (or some other measurable space).  \"Measurable\" here means that the pre-image of any measurable set in the target space (e.g., a Borel set in the real numbers) must be an event in the σ-algebra ℱ. This ensures we can talk about probabilities like \"the probability that the random variable X is less than 5,\" because {ω ∈ Ω : X(ω) < 5} will be an event in ℱ.\n",
        "\n",
        "**4. Example: The Borel σ-algebra**\n",
        "\n",
        "A very important example is the *Borel σ-algebra* on the real numbers (ℝ). It's the σ-algebra generated by the open intervals.  That means it's the smallest σ-algebra that contains all open intervals.  It turns out to contain all open sets, all closed sets, all countable intersections of open sets, all countable unions of closed sets, and many more complicated sets.  The Borel σ-algebra is the standard σ-algebra used when working with real-valued random variables.\n",
        "\n",
        "**5. Example: The Product σ-algebra (in the context of percolation)**\n",
        "\n",
        "In the context of Bernoulli percolation, Ω = {0, 1}ᴱ, where E is the set of edges of the lattice.  An element ω ∈ Ω represents a configuration, specifying whether each edge is open (1) or closed (0).\n",
        "\n",
        "The σ-algebra ℱ is the *product σ-algebra*.  It's generated by the *cylinder sets*. A cylinder set is defined by specifying the states (open or closed) of a *finite* number of edges. For example:\n",
        "\n",
        "*   \"The edge connecting (0, 0) and (1, 0) is open, and the edge connecting (0, 0) and (0, 1) is closed.\" This is a cylinder set.\n",
        "*   \"All edges within a 5x5 box centered at the origin are open.\" This is also a cylinder set (it's defined by the states of a finite number of edges).\n",
        "\n",
        "The product σ-algebra is the smallest σ-algebra that contains all cylinder sets. It's designed to handle events that depend on the configuration of edges in the infinite lattice, but in a way that's built up from finite, \"local\" information (the cylinder sets).  It lets us talk about probabilities of events like \"there exists an infinite open cluster\" even though that event depends on infinitely many edges.\n",
        "\n",
        "**In summary:** When you see \"ℱ is the σ-algebra,\" it means ℱ is a collection of subsets of the sample space Ω that is closed under complementation and countable unions (and therefore also countable intersections).  These subsets are the \"measurable sets\" or \"events\" to which we can assign probabilities (or other measures). The σ-algebra provides the necessary mathematical structure for defining and working with probabilities (and other measures) in a rigorous way.\n"
      ],
      "metadata": {
        "id": "l9TwtuBl85ap"
      }
    }
  ]
}