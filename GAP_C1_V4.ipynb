{
  "nbformat": 4,
  "nbformat_minor": 0,
  "metadata": {
    "colab": {
      "provenance": [],
      "authorship_tag": "ABX9TyOQpx+9rUkf/A6FkLEGmNA7"
    },
    "kernelspec": {
      "name": "python3",
      "display_name": "Python 3"
    },
    "language_info": {
      "name": "python"
    }
  },
  "cells": [
    {
      "cell_type": "markdown",
      "source": [
        "# Genetic Algorithms with Python - [Clinton Sheppard](https://www.cs.unm.edu/~sheppard/)\n",
        "\n",
        "Chapter 1 - Hello World"
      ],
      "metadata": {
        "id": "yNLb0KXXFOcQ"
      }
    },
    {
      "cell_type": "markdown",
      "source": [
        "Python library - [random](https://docs.python.org/3/library/random.html)\n",
        "\n",
        "\"This module implements pseudo-random number generators for various distributions.\""
      ],
      "metadata": {
        "id": "RHShdEZIJVQK"
      }
    },
    {
      "cell_type": "code",
      "source": [
        "import random"
      ],
      "metadata": {
        "id": "VYaxRAtgJeHn"
      },
      "execution_count": null,
      "outputs": []
    },
    {
      "cell_type": "markdown",
      "source": [
        "Optimization: set and subset"
      ],
      "metadata": {
        "id": "rQ5of5GUJG2Q"
      }
    },
    {
      "cell_type": "code",
      "execution_count": null,
      "metadata": {
        "id": "f8gAp9v9FN21"
      },
      "outputs": [],
      "source": [
        "# Genome = set of possible string values; possible universe\n",
        "Genome = \"abcdefghijklmonopqrstuvwxyzABCDEFGHIJKLMNOPQRSTUVWXYZ,.?! \"\n",
        "\n",
        "# Gene = subset of string values; target phrase or password\n",
        "Gene =\"Hello World!\""
      ]
    },
    {
      "cell_type": "markdown",
      "source": [
        "Generate a guess (target phrase or password)\n",
        "\n",
        "\n",
        "*   List.extend() appends multiple items to a list\n",
        "*   String.join() for example: 'x'.join(['a','b','c']) gets \"axbxc\".\n",
        "*   Random.sample() takes sample-size values from the input without replacement\n"
      ],
      "metadata": {
        "id": "HSptZadCJqb3"
      }
    },
    {
      "cell_type": "code",
      "source": [
        "def guess_gene(length):\n",
        "  \"\"\" This function will generate a guess using values from the Genome set\"\"\"\n",
        "\n",
        "  possible_genes = []\n",
        "\n",
        "  while len(possible_genes) < length:\n",
        "    gene_length = min(length - len(possible_genes), len(Genome))\n",
        "    possible_genes.extend(random.sample(Genome, length))\n",
        "\n",
        "  return \"\".join(possible_genes)\n",
        "\n",
        "print(guess_gene(12))"
      ],
      "metadata": {
        "colab": {
          "base_uri": "https://localhost:8080/"
        },
        "id": "3dkWGUfmJ3P4",
        "outputId": "b98061b0-4d56-4335-bbda-85b0b00b9a4b"
      },
      "execution_count": null,
      "outputs": [
        {
          "output_type": "stream",
          "name": "stdout",
          "text": [
            "p?XDhIuqMmYn\n"
          ]
        }
      ]
    },
    {
      "cell_type": "markdown",
      "source": [
        "Evaluate the guess for fitness\n",
        "\n",
        "*  zip() is a built-in function that makes it possible to iterate over two lists (or iterables) simultaneously"
      ],
      "metadata": {
        "id": "vrR21QLaSFtL"
      }
    },
    {
      "cell_type": "code",
      "source": [
        "def get_fitness(guess):\n",
        "  \"\"\"This function will evaluate the guess for fitness by calculaing the total number of letters in the guess that match\n",
        "   the letters in the same position of the password \"\"\"\n",
        "  return sum(1 for expected, actual in zip(Gene, guess) if expected == actual)\n",
        "\n",
        "print(get_fitness(guess_gene(length=12)))"
      ],
      "metadata": {
        "colab": {
          "base_uri": "https://localhost:8080/"
        },
        "id": "oPqoJwCufxXV",
        "outputId": "ff4ab65b-6e7c-416e-f390-956f427a53ac"
      },
      "execution_count": null,
      "outputs": [
        {
          "output_type": "stream",
          "name": "stdout",
          "text": [
            "0\n"
          ]
        }
      ]
    },
    {
      "cell_type": "markdown",
      "source": [
        "Mutate the current gene (guess, target phrase, password) and create a new one\n",
        "* Changes the entire word"
      ],
      "metadata": {
        "id": "HrDUnOuhxKhP"
      }
    },
    {
      "cell_type": "code",
      "source": [
        "def mutate(parent):\n",
        "    \"\"\"create a new guess via random mutation of the old guess\"\"\"\n",
        "    index = random.randrange(0, len(parent))  # returns random element from the range\n",
        "    child_genes = list(parent)\n",
        "    new_gene, alternate = random.sample(Genome, 2)  # sample takes a random sample w/o replacement\n",
        "    child_genes[index] = alternate if new_gene == child_genes[index] else new_gene\n",
        "    return ''.join(child_genes)\n",
        "\n",
        "print(mutate(guess_gene(length=12)))"
      ],
      "metadata": {
        "colab": {
          "base_uri": "https://localhost:8080/"
        },
        "id": "ICEmgUbZw0wH",
        "outputId": "681da4de-d1c7-46d5-dec4-6d978644ec35"
      },
      "execution_count": null,
      "outputs": [
        {
          "output_type": "stream",
          "name": "stdout",
          "text": [
            "VMGXCbPHnLfH\n"
          ]
        }
      ]
    }
  ]
}