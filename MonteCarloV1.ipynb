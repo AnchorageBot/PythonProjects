{
  "nbformat": 4,
  "nbformat_minor": 0,
  "metadata": {
    "colab": {
      "provenance": [],
      "authorship_tag": "ABX9TyPH9e1AhONYqePlSBhIbKQ9"
    },
    "kernelspec": {
      "name": "python3",
      "display_name": "Python 3"
    },
    "language_info": {
      "name": "python"
    }
  },
  "cells": [
    {
      "cell_type": "markdown",
      "source": [
        "# Monte Carlo Simulation\n",
        "\n",
        "Ref:\n",
        "\n",
        "  > Markov Chains: Simulation in Python | Stationary Distribution Computation | Part - 7 | Normalized Nerd"
      ],
      "metadata": {
        "id": "P_TosWdO5k58"
      }
    },
    {
      "cell_type": "markdown",
      "source": [
        "Import the following library tools"
      ],
      "metadata": {
        "id": "NxQ1vPCN8CM4"
      }
    },
    {
      "cell_type": "code",
      "execution_count": null,
      "metadata": {
        "id": "LTu67__z5euP"
      },
      "outputs": [],
      "source": [
        "import numpy as np"
      ]
    },
    {
      "cell_type": "markdown",
      "source": [
        "Create a transition matrix"
      ],
      "metadata": {
        "id": "jG0AkzZkDDAx"
      }
    },
    {
      "cell_type": "code",
      "source": [
        "A = np.array([[0.2, 0.6, 0.2], [0.3, 0.0, 0.7], [0.5, 0.0, 0.5]])"
      ],
      "metadata": {
        "id": "vtCG3qdEDHL1"
      },
      "execution_count": null,
      "outputs": []
    },
    {
      "cell_type": "markdown",
      "source": [
        "Draft up a function"
      ],
      "metadata": {
        "id": "WFswGSjZ8sEK"
      }
    },
    {
      "cell_type": "code",
      "source": [
        "# @title\n",
        "def monte_carlo():\n",
        "  sim_steps = 10^6\n",
        "  start_state = 0\n",
        "\n",
        "  pi = np.array([0,0,0])\n",
        "  pi[start_state] = 1\n",
        "  prev_state = start_state\n",
        "\n",
        "  i = 0\n",
        "  while i <sim_steps:\n",
        "    curr_state = np.random.choice([0,1,2], p = A[prev_state])\n",
        "    pi[curr_state] += 1\n",
        "    prev_state = curr_state\n",
        "    i += 1\n",
        "\n",
        "  print(\"pi\", pi/sim_steps)\n",
        "\n",
        "print(monte_carlo())"
      ],
      "metadata": {
        "id": "o49XPrbf81_W",
        "colab": {
          "base_uri": "https://localhost:8080/"
        },
        "outputId": "5b8e1238-c711-4826-be70-729f5852f8b3"
      },
      "execution_count": 23,
      "outputs": [
        {
          "output_type": "stream",
          "name": "stdout",
          "text": [
            "pi [0.41666667 0.33333333 0.33333333]\n",
            "None\n"
          ]
        }
      ]
    }
  ]
}