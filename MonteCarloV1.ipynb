{
  "nbformat": 4,
  "nbformat_minor": 0,
  "metadata": {
    "colab": {
      "provenance": [],
      "authorship_tag": "ABX9TyPoFQ0gNno5Zf5n0ZOdvlOh"
    },
    "kernelspec": {
      "name": "python3",
      "display_name": "Python 3"
    },
    "language_info": {
      "name": "python"
    }
  },
  "cells": [
    {
      "cell_type": "markdown",
      "source": [
        "# Monte Carlo Simulation\n",
        "\n",
        "Ref:\n",
        "\n",
        "  > Markov Chains: Simulation in Python | Stationary Distribution Computation | Part - 7 | Normalized Nerd"
      ],
      "metadata": {
        "id": "P_TosWdO5k58"
      }
    },
    {
      "cell_type": "markdown",
      "source": [
        "Import the following library tools"
      ],
      "metadata": {
        "id": "NxQ1vPCN8CM4"
      }
    },
    {
      "cell_type": "code",
      "execution_count": null,
      "metadata": {
        "id": "LTu67__z5euP"
      },
      "outputs": [],
      "source": [
        "import numpy as np"
      ]
    },
    {
      "cell_type": "markdown",
      "source": [
        "Create a transition matrix"
      ],
      "metadata": {
        "id": "jG0AkzZkDDAx"
      }
    },
    {
      "cell_type": "code",
      "source": [
        "A = np.array([[0.2, 0.6, 0.2], [0.3, 0.0, 0.7], [0.5, 0.0, 0.5]])"
      ],
      "metadata": {
        "id": "vtCG3qdEDHL1"
      },
      "execution_count": null,
      "outputs": []
    },
    {
      "cell_type": "markdown",
      "source": [
        "Draft up a function"
      ],
      "metadata": {
        "id": "WFswGSjZ8sEK"
      }
    },
    {
      "cell_type": "code",
      "source": [
        "def monte_carlo():\n",
        "  sim_steps = 10^6\n",
        "  start_state = 0\n",
        "  pi = np.array([0,0,0])\n",
        "  pi[start_state] = 1\n",
        "  prev_state = start_state\n",
        "  i = 0\n",
        "  while i <sim_steps:\n",
        "    curr_state = np.random.choice([0,1,2], p = A[prev_state])\n",
        "    pi[curr_state] += 1\n",
        "    prev_state = curr_state\n",
        "    i += 1\n",
        "  print(\"pi\", pi/sim_steps)\n",
        "\n",
        "print(monte_carlo())"
      ],
      "metadata": {
        "id": "o49XPrbf81_W",
        "colab": {
          "base_uri": "https://localhost:8080/"
        },
        "outputId": "95870399-4be5-4d7d-a0ea-964535d4d589"
      },
      "execution_count": 24,
      "outputs": [
        {
          "output_type": "stream",
          "name": "stdout",
          "text": [
            "pi [0.66666667 0.16666667 0.25      ]\n",
            "None\n"
          ]
        }
      ]
    }
  ]
}