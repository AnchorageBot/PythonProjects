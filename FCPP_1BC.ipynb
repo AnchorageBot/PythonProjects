{
  "nbformat": 4,
  "nbformat_minor": 0,
  "metadata": {
    "colab": {
      "provenance": [],
      "authorship_tag": "ABX9TyNJiALZvzN8loX84ECJBd2D"
    },
    "kernelspec": {
      "name": "python3",
      "display_name": "Python 3"
    },
    "language_info": {
      "name": "python"
    }
  },
  "cells": [
    {
      "cell_type": "markdown",
      "source": [
        "Fifty Challenging Problems in Probability\n",
        "* Frederick Mosteller\n",
        "* Problem 1B"
      ],
      "metadata": {
        "id": "_TB2g_N1TrPw"
      }
    },
    {
      "cell_type": "markdown",
      "source": [
        "Tutor:\n",
        "* Google's AI, Gemini 2.0 Experimental"
      ],
      "metadata": {
        "id": "B1s74N66Ef22"
      }
    },
    {
      "cell_type": "markdown",
      "source": [
        "Given:\n",
        "\n",
        "* A sock drawer holds an unkown number of black and red socks\n",
        "* The number of black socks is even\n",
        "* When two socks are drawn from the drawer, sight unseen, the probability that both are red is 1/2"
      ],
      "metadata": {
        "id": "qLulVCk7Twsd"
      }
    },
    {
      "cell_type": "markdown",
      "source": [
        "Find:\n",
        "\n",
        "* What is the smallest total number of socks in the drawer, while meeting the given criteria"
      ],
      "metadata": {
        "id": "W4KYC9oXT8B_"
      }
    },
    {
      "cell_type": "markdown",
      "source": [
        "# Sock Drawer Problem\n",
        "\n",
        "**Problem Statement:**\n",
        "\n",
        "A drawer contains an unknown number of red and black socks. What is the smallest total number of socks in the drawer such that:\n",
        "\n",
        "1.  The probability of randomly drawing two red socks (without replacement) is exactly 1/2?\n",
        "2.  The number of black socks is an even number?\n",
        "\n",
        "**Solution (Trial & Error/Brute Force)**\n",
        "\n",
        "This section uses trial and error to explore different combinations of red and black socks. While not the most efficient method, it helps illustrate the problem and find the solution.\n",
        "\n",
        "Trial & Error:\n",
        "\n",
        "| Black | Red | Total | Probability of 2 Reds |\n",
        "|-------|-----|-------|-----------------------|\n",
        "| 2     | 2   | 4     | 0.167                 |\n",
        "| 2     | 4   | 6     | 0.400                 |\n",
        "| 2     | 5   | 7     | 0.476                 |\n",
        "| 2     | 6   | 8     | 0.536                 |\n",
        "| 4     | 3   | 7     | 0.143                 |\n",
        "| 4     | 4   | 8     | 0.214                 |\n",
        "| 4     | 8   | 12    | 0.424                 |\n",
        "| 4     | 10  | 14    | 0.495                 |\n",
        "| 4     | 11  | 15    | 0.524                 |\n",
        "| 6     | 15  | 21    | 0.500                 |\n",
        "| 2     | 3   | 5     | 0.500                 |\n",
        "\n",
        "**Solution (Algebraic/Quadratic Formula)**\n",
        "\n",
        "This section derives a general solution using algebra and the quadratic formula.\n",
        "\n",
        "Let:\n",
        "\n",
        "*   B = Black socks\n",
        "*   R = Red socks\n",
        "*   T = Total socks\n",
        "\n",
        "The probability equation is:\n",
        "\n",
        "(R/T) \\* ((R-1)/(T-1)) = 0.5\n",
        "\n",
        "Rearranging the equation:\n",
        "\n",
        "R² - R = 0.5T² - 0.5T\n",
        "R² - R - (0.5T² - 0.5T) = 0\n",
        "\n",
        "Applying the quadratic formula (aR² + bR + c = 0):\n",
        "\n",
        "R = (1 ± √(1 + 2T² - 2T)) / 2\n",
        "\n",
        "**Python Scripts (drafts - still need work):**\n",
        "\n",
        "\n"
      ],
      "metadata": {
        "id": "Cfpc1tAvFJ39"
      }
    },
    {
      "cell_type": "code",
      "source": [
        "\"\"\"\n",
        "This section uses trial and error to explore different combinations of red and black socks.\n",
        "While not the most efficient method, it helps illustrate the problem and find the solution.\n",
        "\"\"\"\n",
        "\n",
        "print(\"Trial & Error:\")\n",
        "print(\"| Black | Red | Total | Probability of 2 Reds |\")\n",
        "print(\"|-------|-----|-------|-----------------------|\")\n",
        "\n",
        "test_cases = [\n",
        "    (2, 2, 4),  # (Black, Red, Total)\n",
        "    (2, 4, 6),\n",
        "    (2, 5, 7),\n",
        "    (2, 6, 8),\n",
        "    (4, 3, 7),\n",
        "    (4, 4, 8),\n",
        "    (4, 8, 12),\n",
        "    (4, 10, 14),\n",
        "    (4, 11, 15),\n",
        "    (6, 15, 21),\n",
        "    (2,3,5) # added test case\n",
        "]\n",
        "\n",
        "for b, r, t in test_cases:\n",
        "    probability = (r / t) * ((r - 1) / (t - 1)) if t > 1 else 0 # handle divide by zero error\n",
        "    print(f\"| {b:5} | {r:3} | {t:5} | {probability:21.3f} |\")\n",
        "\n",
        "print(\"\\n\") # Add spacing"
      ],
      "metadata": {
        "colab": {
          "base_uri": "https://localhost:8080/"
        },
        "id": "FSAtuZbqGEwq",
        "outputId": "deca729a-ce68-4216-d992-cfd9085b8bb9"
      },
      "execution_count": null,
      "outputs": [
        {
          "output_type": "stream",
          "name": "stdout",
          "text": [
            "Trial & Error:\n",
            "| Black | Red | Total | Probability of 2 Reds |\n",
            "|-------|-----|-------|-----------------------|\n",
            "|     2 |   2 |     4 |                 0.167 |\n",
            "|     2 |   4 |     6 |                 0.400 |\n",
            "|     2 |   5 |     7 |                 0.476 |\n",
            "|     2 |   6 |     8 |                 0.536 |\n",
            "|     4 |   3 |     7 |                 0.143 |\n",
            "|     4 |   4 |     8 |                 0.214 |\n",
            "|     4 |   8 |    12 |                 0.424 |\n",
            "|     4 |  10 |    14 |                 0.495 |\n",
            "|     4 |  11 |    15 |                 0.524 |\n",
            "|     6 |  15 |    21 |                 0.500 |\n",
            "|     2 |   3 |     5 |                 0.300 |\n",
            "\n",
            "\n"
          ]
        }
      ]
    },
    {
      "cell_type": "code",
      "source": [
        "import math\n",
        "\n",
        "def find_minimum_sock_solution():\n",
        "    \"\"\"\n",
        "    Finds the smallest solution to the sock drawer problem that meets both criteria.\n",
        "    \"\"\"\n",
        "    min_total_socks = float('inf')\n",
        "    min_red_socks = 0\n",
        "    min_black_socks = 0\n",
        "\n",
        "    for T in range(2, 1000):\n",
        "        for R in range(1, T):\n",
        "            B = T - R  # Calculate B *before* the probability check\n",
        "            if B % 2 == 0: # Check if B is even first\n",
        "                if (R/T)*((R-1)/(T-1)) == 0.5: # Correct probability check\n",
        "                    if T < min_total_socks:\n",
        "                        min_total_socks = T\n",
        "                        min_red_socks = R\n",
        "                        min_black_socks = B\n",
        "\n",
        "    if min_total_socks != float('inf'):\n",
        "        print(f\"The minimum solution is: Total Socks (T) = {min_total_socks}, Red Socks (R) = {min_red_socks}, Black Socks (B) = {min_black_socks}, Probability = {(min_red_socks/min_total_socks)*((min_red_socks-1)/(min_total_socks-1))}\")\n",
        "    else:\n",
        "        print(\"No solution found in the tested range.\")\n",
        "\n",
        "find_minimum_sock_solution()"
      ],
      "metadata": {
        "colab": {
          "base_uri": "https://localhost:8080/"
        },
        "id": "90Wlgz3PNwXQ",
        "outputId": "3df0a284-0691-41b9-be6a-9f06e442cb20"
      },
      "execution_count": 1,
      "outputs": [
        {
          "output_type": "stream",
          "name": "stdout",
          "text": [
            "The minimum solution is: Total Socks (T) = 21, Red Socks (R) = 15, Black Socks (B) = 6, Probability = 0.5\n"
          ]
        }
      ]
    }
  ]
}