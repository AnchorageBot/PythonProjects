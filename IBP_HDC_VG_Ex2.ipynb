{
  "nbformat": 4,
  "nbformat_minor": 0,
  "metadata": {
    "colab": {
      "provenance": [],
      "authorship_tag": "ABX9TyNUZlXgwhIVvm3sFvGOWysG"
    },
    "kernelspec": {
      "name": "python3",
      "display_name": "Python 3"
    },
    "language_info": {
      "name": "python"
    }
  },
  "cells": [
    {
      "cell_type": "markdown",
      "source": [
        "Bernoulli Percolation Notebook\n",
        "* Based upon Professor Hugo Duminil-Copin's notes\n",
        "* Introduction to Bernoulli Percolation dated November 2, 2022\n",
        "* [Universite' de Geneve, IHES](https://www.ihes.fr/~duminil/CV.html)"
      ],
      "metadata": {
        "id": "vZKxLBxp0U6G"
      }
    },
    {
      "cell_type": "markdown",
      "source": [
        "Tutors 🚀 :\n",
        "* Professor Hugo Duminil-Copin\n",
        "* Google's AI Gemini 2.0 Experimental Advanced"
      ],
      "metadata": {
        "id": "uHaVx4Q80dx0"
      }
    },
    {
      "cell_type": "markdown",
      "source": [
        "## Glossary Table\n",
        "\n",
        "| Symbol/Term                       | Meaning                                                                                                                                                                | Concept                                           | Notes                                                                                                                                                                                                                            |\n",
        "| :-------------------------------- | :------------------------------------------------------------------------------------------------------------------------------------------------------------------------- | :------------------------------------------------ | :------------------------------------------------------------------------------------------------------------------------------------------------------------------------------------------------------------------------------- |\n",
        "| `G = (V, E)`                      | A graph with vertex set `V` and edge set `E`                                                                                                                              | Graph Theory                                      |                                                                                                                                                                                                                              |\n",
        "| `ω` (omega)                       | A percolation configuration; an element of `{0, 1}ᴱ`, where `ωₑ = 1` means edge `e` is open, and `ωₑ = 0` means edge `e` is closed                                        | Percolation Theory                                |                                                                                                                                                                                                                              |\n",
        "| `ωₑ`                                | State of edge `e` in configuration `ω` (1 for open, 0 for closed)                                                                                                         | Percolation Theory                                |                                                                                                                                                                                                                              |\n",
        "| `ω'` (omega prime)                 | A percolation configuration, often used in the context of coupling or as a dual configuration                                                                            | Percolation Theory                                | Clarified the role of `ω'`                                                                                                                                                                                                     |\n",
        "| `e*`                               | Edge in the dual graph corresponding to edge `e` in the original graph                                                                                                     | Percolation Theory (Duality)                     |                                                                                                                                                                                                                              |\n",
        "| `(ℤ²)⁺`                             | Translation of `ℤ²` by the vector (1/2, 1/2); also denoted as the dual graph                                                                                                | Lattice Geometry, Percolation Theory (Duality)   | Added that it's also the dual graph.                                                                                                                                                                                      |\n",
        "| Bernoulli Percolation             | Percolation model where each edge is independently open with probability `p` and closed with probability `1-p`                                                              | Percolation Theory                                |                                                                                                                                                                                                                              |\n",
        "| `p`                               | Probability that an edge is open in Bernoulli percolation                                                                                                                   | Percolation Theory                                |                                                                                                                                                                                                                              |\n",
        "| `ℙₚ` or `P_p`                      | Probability measure for Bernoulli percolation with parameter `p`                                                                                                             | Probability Theory, Percolation Theory          | Added alternative notation `P_p`                                                                                                                                                                                               |\n",
        "| `θ(p)`                             | Probability that the origin (or a specific vertex) belongs to an infinite cluster in Bernoulli percolation with parameter `p`                                            | Percolation Theory                                |                                                                                                                                                                                                                              |\n",
        "| `p_c` or `p_c(d)`                 | Critical probability; the infimum of `p` such that `θ(p) > 0` (may be denoted with `d` if dimension is important)                                                             | Percolation Theory                                | Added `p_c(d)` to make it clear that it can depend on dimension.                                                                                                                                                              |\n",
        "| `0 ↔ ∞`                            | Existence of an infinite path (or cluster) connecting the origin to infinity                                                                                                 | Percolation Theory                                |                                                                                                                                                                                                                              |\n",
        "| `ℤᵈ`                               | Set of elements in `ℝᵈ` with integer coordinates (also represents the d-dimensional hypercubic lattice/vertex set)                                                          | Discrete Mathematics, Geometry, Percolation Theory | Emphasized that it's the d-dimensional hypercubic lattice.                                                                                                                                                         |\n",
        "| Infinite cluster                  | A connected component of open edges that is infinite                                                                                                                       | Percolation Theory                                |                                                                                                                                                                                                                              |\n",
        "| Self-avoiding path                | A sequence of edges `e₁, ..., eₙ` where `eᵢ ≠ eⱼ` for `i ≠ j`, and adjacent edges share an endpoint                                                                         | Graph Theory, Percolation Theory                  |                                                                                                                                                                                                                              |\n",
        "| `Ωₙ`                               | Set of self-avoiding paths of length `n` starting from the origin                                                                                                           | Graph Theory, Percolation Theory                  |                                                                                                                                                                                                                              |\n",
        "| Dual graph `(ℤ²)∗` or `(ℤ²)⁺`        | Graph with vertices at the centers of the squares of `ℤ²`, and edges connecting adjacent centers, representing the dual to the original lattice's edges                  | Percolation Theory (Duality)                     | Used both `(ℤ²)∗` and `(ℤ²)⁺`                                                                                                                                                                                            |\n",
        "| Increasing event                  | An event `A` is increasing if `ω ∈ A` and `ω ≤ ω'` implies `ω' ∈ A`                                                                                                        | Percolation Theory                                |                                                                                                                                                                                                                              |\n",
        "| Decreasing event                  | An event `A` is decreasing if its complement is increasing                                                                                                                 | Percolation Theory                                |                                                                                                                                                                                                                              |\n",
        "| `x ↔ y`                            | Sites `x` and `y` are connected in `ω` (there exists a path of open edges from `x` to `y`)                                                                                  | Percolation Theory                                |                                                                                                                                                                                                                              |\n",
        "| `A ↔ B`                            | There exists a path connecting set of vertices `A` to set of vertices `B`                                                                                                   | Percolation Theory                                |                                                                                                                                                                                                                              |\n",
        "| `x ↔ ∞`                            | The site `x` is in an infinite connected component (same as `x` belongs to an infinite cluster)                                                                           | Percolation Theory                                | Added \"same as `x` belongs to an infinite cluster\" for clarity.                                                                                                                                                        |\n",
        "| `|F| > k`                         | The number of open edges in the set `F` exceeds `k`                                                                                                                       | Percolation Theory                                |                                                                                                                                                                                                                              |\n",
        "| Lattice animal                    | A finite connected subset of a graph (specifically, a connected subgraph of the lattice)                                                                                  | Graph Theory, Combinatorics                        | Added \"connected subgraph of the lattice\" for specificity.                                                                                                                                                            |\n",
        "| `α(n, x)` or `a(n, x)`             | The number of lattice animals of size `n` containing the vertex `x`                                                                                                           | Graph Theory, Combinatorics                        | Added alternative notation `a(n,x)`                                                                                                                                                                                      |\n",
        "| Minimal blocking surface          | A set of edges `E` such that every path of adjacent edges from the origin to infinity intersects `E`, and no proper subset of `E` has this property                          | Percolation Theory                                |                                                                                                                                                                                                                              |\n",
        "| Elementary loop                  | A loop of length 4 in the lattice                                                                                                                                             | Graph Theory                                      |                                                                                                                                                                                                                              |\n",
        "| Increasing coupling               | A measure `P` on `{0,1}ᴱ × {0,1}ᴱ` with marginals `P_p` and `P_p'` (where `p < p'`) such that `P[(ω, ω'): ω ≤ ω'] = 1`                                                            | Probability Theory, Percolation Theory          | Specified `p < p'`                                                                                                                                                                                                        |\n",
        "| `Λₙ` (Lambda_n)                   | A finite subset of the lattice defined as `[-n, n]ᵈ` for any integer `n ≥ 1`.                                                                                                 | Lattice Geometry                                      | Added to the table as it's frequently used to refer to a box or finite region of the lattice                                                                                                                            |\n",
        "| Boundary of a subgraph (`∂G`)      | For a subgraph `G = (V, E)` of  `ℤᵈ`, its boundary `∂G` is the set of vertices in `G` that are connected to at least one vertex outside of `G`.                              | Graph Theory, Percolation Theory                  | Added as it's important for understanding how finite subgraphs relate to the infinite lattice and defines the edges of finite regions.                                                                                  |\n",
        "| `|Ωₙ|`                             | The number (cardinality) of self-avoiding paths of length `n` starting from the origin                                                                                           | Graph Theory, Combinatorics                        | Added for clarity regarding the use in the document.                                                                                                                                                                          |\n",
        "| `d` (in the context of `p_c(d)`) | The dimension of the hypercubic lattice (e.g., `d=2` for the square lattice)                                                                                                   | Percolation Theory                                | Added to clarify the use of `d` in the context of critical probability.                                                                                                                                                      |"
      ],
      "metadata": {
        "id": "Hg5daeEl9yjI"
      }
    },
    {
      "cell_type": "markdown",
      "source": [
        "**Exercise 2 - From notes**\n",
        "- - - -\n",
        "Show that pc(Z)=1.\n",
        "\n",
        "Show that pc(Z ×{0,...,n})=1"
      ],
      "metadata": {
        "id": "RxJ_7lPe08hy"
      }
    },
    {
      "cell_type": "markdown",
      "source": [
        "**Exercise 2: - First Draft**\n",
        "\n",
        "---\n",
        "\n",
        "**Given:**\n",
        "\n",
        "*   **(Ω, ℱ, Pₚ):** A probability space where:\n",
        "    *   Ω = {0, 1}ᴱ is the set of all possible percolation configurations ω, where E is the set of edges in the lattice (e.g. ℤᵈ).\n",
        "    *   ℱ is the product σ-algebra generated by the random variables {ωₑ} for e ∈ E. This represents all measurable events related to the configuration of edges.\n",
        "    *   Pₚ is the Bernoulli percolation probability measure with parameter *p*.\n",
        "\n",
        "* **ℤ:** The set of integers {...-3, -2, -1, 0, 1, 2, 3 ...} all whole numbers\n",
        "* **p:** Probability that an edge is open in Bernoulli percolation\n",
        "* **θ(p):** Probability that the origin (or a specific vertex) belongs to an infinite cluster in Bernoulli percolation with parameter p\n",
        "* **inf:** Infimum, if a set has a smallest element, then the smallest element is the infimum for the set\n",
        "* **pc ∶=inf{p∈[0,1]∶θ(p) >0}:** Critical probability; the infimum of p such that θ(p) > 0 (may be denoted with d if dimension is important)\n",
        "* **ℤᵈ:**  An infinite lattice; set of elements in ℝᵈ with integer coordinates (also represents the d-dimensional hypercubic lattice/vertex set)\n",
        "\n",
        "**Find:**\n",
        "\n",
        "* Show that pc(Z)=1.\n",
        "\n",
        "* Show that pc(Z ×{0,...,n})=1\n",
        "\n",
        "**Solution:**"
      ],
      "metadata": {
        "id": "L2OKdQG5-XdT"
      }
    },
    {
      "cell_type": "markdown",
      "source": [
        "\n",
        "**Exercise 2 - 2nd draft: Critical Probability on ℤ and ℤ × {0, ..., n}**\n",
        "\n",
        "---\n",
        "\n",
        "**Given:**\n",
        "\n",
        "*   **(Ω, ℱ, Pₚ):** A probability space where:\n",
        "    *   Ω = {0, 1}ᴱ is the set of all possible percolation configurations ω, where E is the set of edges.\n",
        "    *   ℱ is the product σ-algebra generated by the random variables {ωₑ} for e ∈ E.\n",
        "    *   Pₚ is the Bernoulli percolation probability measure with parameter *p*.\n",
        "*   **ℤ:** The set of integers {..., -3, -2, -1, 0, 1, 2, 3, ...}.\n",
        "*   **ℤ × {0, ..., n}:**  A \"thickened\" line, representing a graph with vertices (i, j) where i ∈ ℤ and 0 ≤ j ≤ n.  Edges connect vertices that are distance 1 apart.\n",
        "*   **p:** Probability that an edge is open in Bernoulli percolation.\n",
        "*   **θ(p):** Probability that the origin belongs to an infinite cluster in Bernoulli percolation with parameter p.\n",
        "*   **p_c := inf{p ∈ [0, 1] : θ(p) > 0}:** Critical probability; the infimum of p such that θ(p) > 0.\n",
        "*   **ℤᵈ:** The d-dimensional hypercubic lattice.\n",
        "\n",
        "**Find:**\n",
        "\n",
        "1.  Show that p_c(ℤ) = 1.\n",
        "2.  Show that p_c(ℤ × {0, ..., n}) = 1.\n",
        "\n",
        "**Solution:**\n",
        "\n",
        "**Part 1: p_c(ℤ) = 1**\n",
        "\n",
        "*   **Understanding ℤ:**  The graph ℤ is a one-dimensional line. Vertices are integers, and edges connect consecutive integers (i.e., edges are of the form {i, i+1}).\n",
        "\n",
        "*   **Infinite Cluster Condition:** For an infinite cluster to exist in ℤ, there must be *infinitely many* consecutive open edges extending in *both* the positive and negative directions from the origin.\n",
        "\n",
        "*   **Proof:**\n",
        "    1.  **If p < 1:**  Let's consider the probability that there is a path of *k* consecutive open edges starting at the origin and going to the right.  Since edges are open independently with probability *p*, the probability of this specific path being open is pᵏ.  Now, let's consider the event Aₙ that there exists at least one edge between n and n+1 that is closed.  The probability of this event is 1-p. As n tends to infinity, the probability of every edge from n to n+1 is open, and the origin being connected to infinity will tend to 0. The probability no infinite cluster is equal to 1. So, for p<1, θ(p)=0.\n",
        "\n",
        "    2.  **If p = 1:** All edges are open with probability 1.  Therefore, there is trivially an infinite cluster (the entire line), and θ(1) = 1.\n",
        "\n",
        "    3.  **Conclusion:** Since θ(p) = 0 for p < 1 and θ(1) = 1, and p_c is defined as the infimum of p such that θ(p) > 0, we have p_c(ℤ) = 1.\n",
        "\n",
        "**Part 2: p_c(ℤ × {0, ..., n}) = 1**\n",
        "\n",
        "*   **Understanding ℤ × {0, ..., n}:**  This graph can be visualized as *n+1* copies of the integer line ℤ, stacked vertically, with edges connecting corresponding vertices in adjacent \"layers.\"\n",
        "\n",
        "*   **Infinite Cluster Condition:**  An infinite cluster requires an infinite connected path of open edges.  Because the \"width\" in the vertical direction is finite (n+1), any infinite path must eventually extend infinitely far to the left or right (or both) within one or more of the \"layers.\"\n",
        "\n",
        "*    **Proof by Contradiction:**\n",
        "     1.  **Assume p < 1.**  Let's suppose, for the sake of contradiction, that p_c(ℤ × {0, ..., n}) < 1. This would mean there exists a *p* < 1 for which θ(p) > 0, i.e., there's a positive probability of an infinite cluster.\n",
        "\n",
        "     2.  **Consider a single \"layer\" (copy of ℤ):**  Within any single copy of ℤ, the probability of an infinite cluster for p < 1 is zero, as shown in Part 1.\n",
        "\n",
        "     3. **Finite Number of Layers**: Because there are only a *finite* number (n+1) of layers, and on any single copy, the origin is almost surely *not* in an infinte cluster, and therefore the entire graph (the union of all copies) has probability zero of having origin be connected to infinity for p<1.\n",
        "\n",
        "    4.  **If p = 1:** All edges are open with probability 1, and there is clearly an infinite cluster.  So θ(1) = 1.\n",
        "\n",
        "    5. **Contradiction Resolution:** Therefore, θ(p)=0 for all p<1 and p_c(ℤ × {0, ..., n}) must be 1.\n",
        "\n",
        "**Conclusion:**\n",
        "\n",
        "We have shown that the critical probability for Bernoulli percolation on both ℤ and ℤ × {0, ..., n} is 1. This means that only when the probability of an edge being open is exactly 1 do we have a positive probability of an infinite cluster existing in these graphs.\n",
        "\n",
        "\n",
        "**Key improvements in this version:**\n",
        "\n",
        "*   **Clearer Explanations:**  Added more explanation for each step, making the reasoning easier to follow.\n",
        "*   **Formal Proof Structure (Part 1):** Presented a more structured proof for p_c(ℤ) = 1.\n",
        "*   **Proof by Contradiction (Part 2):**  Used a proof by contradiction to show p_c(ℤ × {0, ..., n}) = 1, which is a more elegant and concise approach.\n",
        "*   **Connection Between Parts:**  Explicitly connected the result of Part 1 to the proof in Part 2.\n",
        "*   **Emphasis on Finite Width:** Highlighted the crucial difference between ℤ × {0, ..., n} (finite width) and ℤ² (infinite width), which is why their critical probabilities differ.\n",
        "*   **Markdown Formatting:**  Maintained the Markdown formatting for Colab.\n",
        "\n",
        "\n"
      ],
      "metadata": {
        "id": "b9M3ExIQpZnR"
      }
    },
    {
      "cell_type": "markdown",
      "source": [
        "\n",
        "**History and Use of the Infimum (and Supremum)**\n",
        "\n",
        "**Concept:**\n",
        "\n",
        "*   **Infimum (inf):** The greatest lower bound of a set.  If a set has a smallest element, that element is the infimum. If a set doesn't have a smallest element but *is* bounded below, the infimum is the largest number that is less than or equal to all elements of the set.\n",
        "*   **Supremum (sup):** The least upper bound of a set.  If a set has a largest element, that element is the supremum. If a set doesn't have a largest element but *is* bounded above, the supremum is the smallest number that is greater than or equal to all elements of the set.\n",
        "\n",
        "**Why are infimum and supremum important?**  They generalize the concepts of minimum and maximum to sets that might not *have* a minimum or maximum element.  This is *crucially* important in analysis, where we often deal with infinite sets and sequences.  The minimum and maximum are only defined if the largest or smallest element is contained in the set. The infimum and supremum are always defined for bounded sets.\n",
        "\n",
        "**Historical Development:**\n",
        "\n",
        "1.  **Early Ideas (Ancient Greece):** The concept of a \"bound\" has roots in ancient Greek mathematics, particularly in geometry and the study of limits.  Think of Eudoxus and Archimedes' method of exhaustion, which implicitly used the idea of approaching a limit (and thus a bound).\n",
        "\n",
        "2.  **19th Century Rigor (Bolzano, Weierstrass, Dedekind):** The formalization of the infimum and supremum is intimately tied to the rigorous development of real analysis in the 19th century.  Mathematicians like:\n",
        "    *   **Bernard Bolzano:**  In the early 19th century, he worked on ideas related to least upper bounds, although his work wasn't widely recognized at the time.\n",
        "    *   **Karl Weierstrass:**  In the mid-19th century, he is often credited with the modern, rigorous definition of limits, continuity, and the completeness of the real numbers, which implicitly uses the concept of least upper bounds (supremum) and greatest lower bounds (infimum).\n",
        "    *   **Richard Dedekind:** His \"Dedekind cuts\" (developed in the 1850s and published in 1872) provide a way to construct the real numbers and explicitly rely on the concept of least upper bounds.\n",
        "\n",
        "3.  **Set Theory (Cantor):** Georg Cantor's work on set theory in the late 19th century provided a formal framework for dealing with infinite sets, and the concepts of infimum and supremum became essential tools.\n",
        "\n",
        "4.  **20th Century and Beyond:** The infimum and supremum have become fundamental concepts in:\n",
        "    *   **Real Analysis:**  They are used in definitions of continuity, limits, derivatives, integrals, and many other core concepts.\n",
        "    *   **Topology:** Generalizations of infimum and supremum appear in the study of topological spaces.\n",
        "    *   **Functional Analysis:** They are used in the study of function spaces.\n",
        "    *   **Optimization:** Finding the infimum or supremum of a function is often the goal in optimization problems.\n",
        "    *   **Probability and Measure Theory:** As we've seen in percolation theory, the critical probability is defined using the infimum.\n",
        "\n",
        "**Example:**\n",
        "\n",
        "Let's consider the set  `S = {1/n : n is a positive integer}`.  This set is:\n",
        "\n",
        "`S = {1, 1/2, 1/3, 1/4, 1/5, ...}`\n",
        "\n",
        "*   **Maximum and Supremum:** The largest element of `S` is 1.  Therefore, the maximum of `S` is 1, and the supremum of `S` is also 1 (sup S = 1).\n",
        "\n",
        "*   **Minimum and Infimum:**  `S` does *not* have a smallest element.  As `n` gets larger and larger, `1/n` gets closer and closer to 0, but it never actually *reaches* 0.  However, 0 is a lower bound for `S` (every element of `S` is greater than 0).  Furthermore, 0 is the *greatest* lower bound.  Any number larger than 0 will fail to be a lower bound (you can always find an element of `S` smaller than it).  Therefore, the infimum of `S` is 0 (inf S = 0), but `S` has no minimum.\n",
        "\n",
        "**Example in the context of percolation:**\n",
        "\n",
        "The critical probability, `p_c`, is defined as:\n",
        "\n",
        "`p_c := inf{p ∈ [0, 1] : θ(p) > 0}`\n",
        "\n",
        "*   `θ(p)` is the probability that the origin belongs to an infinite cluster.\n",
        "*   We're looking at the set of all probabilities `p` (between 0 and 1) for which `θ(p)` is greater than zero (i.e., for which there's a positive probability of an infinite cluster).\n",
        "*   We're taking the *infimum* of this set.  This is because there's a \"threshold\" behavior. Below a certain probability (`p_c`), there's almost surely no infinite cluster (`θ(p) = 0`). Above `p_c`, there's almost surely an infinite cluster (`θ(p) > 0`).  The infimum captures this critical transition point, even if there might not be a \"smallest\" `p` for which `θ(p) > 0`. The critical value, `p_c`, marks the transition.\n",
        "\n",
        "In summary, the infimum and supremum are essential tools for dealing with bounds of sets, particularly infinite sets, and they are fundamental to many areas of mathematics, including real analysis, probability theory, and, as we've seen, percolation theory. They provide a way to describe the \"smallest\" and \"largest\" values associated with a set, even when the set doesn't contain those values.\n"
      ],
      "metadata": {
        "id": "PpiTKQi2svzh"
      }
    }
  ]
}