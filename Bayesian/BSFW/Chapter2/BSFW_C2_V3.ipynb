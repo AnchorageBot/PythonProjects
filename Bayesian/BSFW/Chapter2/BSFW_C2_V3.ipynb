{
  "nbformat": 4,
  "nbformat_minor": 0,
  "metadata": {
    "colab": {
      "provenance": [],
      "authorship_tag": "ABX9TyOi/nS/AO2+nCDRz7YaTGWX"
    },
    "kernelspec": {
      "name": "python3",
      "display_name": "Python 3"
    },
    "language_info": {
      "name": "python"
    }
  },
  "cells": [
    {
      "cell_type": "markdown",
      "source": [
        "# Bayesian Statistics The Fun Way\n",
        "\n",
        "This notebook works through Exercise # 1 at the end of Chapter 2"
      ],
      "metadata": {
        "id": "65ODGBZO_2H3"
      }
    },
    {
      "cell_type": "markdown",
      "source": [
        "Our References:\n",
        "* [Bayesian Statistics The Fun Way - Will Kurt](https://nostarch.com/learnbayes)\n",
        "\n",
        "* [ChatGPT](https://openai.com/blog/chatgpt)\n",
        "\n",
        "* Google Colab AI\n",
        "\n",
        "* [Google Gemini](https://gemini.google.com)"
      ],
      "metadata": {
        "id": "U1uycsiUAC9A"
      }
    },
    {
      "cell_type": "markdown",
      "source": [
        "Two Identical Six-Sided-Dice Exercise - Possible rolls & Probability\n",
        "* Given\n",
        "  * Two, fair, six sided dice\n",
        "  * Neither dice can be distinguished from the other\n",
        "* Find\n",
        "  * How many possible rolls are there, with two fair & identical six-sided dice, that will provide a total value greater than 7\n",
        "  * The probability of rolling a total value greater than 7 with two fair & identical six-sided dice\n",
        "* Solution\n",
        "  * Make a matrix with a horizontal header row (1 - 6) and a vertical header row (1 - 6). Record the possible rolls in each of the associated squares (i.e (1,1), (1,2) ... (6, 6) ) and then count the qualifying outcomes\n",
        "  * (> 7) = set of possible rolls totaling > 7\n",
        "  * (> 7) = { (6,6), (6,5), (6,4), (6,3), (6,2), (5,5), (5,4), (5,3), (4,4) } = 9\n",
        "  * p(> 7) = probability of rolling a total > 7\n",
        "  * p(> 7) = the # of outcomes we care about / the total # of outcomes\n",
        "  $$p(> 7) = \\frac{ (>7) }{(Ω)} = \\frac{9}{36} = \\frac{1}{4}$$\n",
        "\n",
        "  \n",
        "     "
      ],
      "metadata": {
        "id": "abnYOdm7AWOt"
      }
    },
    {
      "cell_type": "markdown",
      "source": [
        "Two Dissimilar Six-Sided-Dice Exercise - Possible rolls & Probability\n",
        "* Given\n",
        "  * Two, fair, six sided dice\n",
        "  * The dice are dissimilar, i.e. one is red and one is blue\n",
        "* Find\n",
        "  * How many possible rolls are there, with two fair & dissimilar six-sided dice, that will provide a total value greater than 7\n",
        "  * The probability of rolling a total value greater than 7 with two fair & dissimilar six-sided dice\n",
        "* Solution\n",
        "  * Make a matrix with a horizontal header row (1 - 6) and a vertical header row (1 - 6). Record the possible rolls in each of the associated squares (i.e (1,1), (1,2) ... (6, 6) ) and then count the qualifying outcomes\n",
        "  * (> 7) = set of possible rolls totaling > 7\n",
        "  * (> 7) = { (6,6), (6,5), (5,6), (6,4), (5,5), (4,6), (6,3), (5,4), (4,5), (3,6), (6,2), (5,3), (4,4), (3,5), (2,6) } = 15\n",
        "  * Ω = the set of all possible events = (6)(6) = 36\n",
        "  * p(> 7) = probability of rolling a total > 7\n",
        "  * p(> 7) = the # of outcomes we care about / the total # of outcomes\n",
        "  $$p(> 7) = \\frac{ (>7) }{(Ω)} = \\frac{15}{36} = \\frac{5}{12} =~ 0.42$$"
      ],
      "metadata": {
        "id": "E5kYWy_if3px"
      }
    },
    {
      "cell_type": "markdown",
      "source": [
        "Google Gemini Query & Result\n",
        "\n",
        "* Q: Please provide python code for the probability of rolling a total value greater than 7 with two fair & dissimilar six-sided dice\n",
        "* R: Sure, here is the Python code to calculate the probability of rolling a total value greater than 7 with two fair and dissimilar six-sided dice:"
      ],
      "metadata": {
        "id": "B3e1ztCUnQ91"
      }
    },
    {
      "cell_type": "code",
      "source": [
        "# Calculate the total number of possible rolls with two dice\n",
        "total_rolls = 6 * 5  # 6 sides on the first die, 5 on the second (dissimilar)\n",
        "\n",
        "# Define a function to check if a roll is greater than 7\n",
        "def is_greater_than_seven(roll):\n",
        "  dice1, dice2 = roll\n",
        "  return dice1 + dice2 > 7\n",
        "\n",
        "# Count the number of favorable rolls (greater than 7)\n",
        "favorable_rolls = 0\n",
        "for roll in range(1, total_rolls + 1):\n",
        "  dice1 = roll // 5 + 1  # Extract the first die value (1-6)\n",
        "  dice2 = roll % 5 + 1  # Extract the second die value (1-5)\n",
        "  if is_greater_than_seven((dice1, dice2)):\n",
        "    favorable_rolls += 1\n",
        "\n",
        "# Calculate the probability\n",
        "probability = favorable_rolls / total_rolls\n",
        "\n",
        "# Print the probability\n",
        "print(\"Probability of rolling greater than 7:\", probability)"
      ],
      "metadata": {
        "colab": {
          "base_uri": "https://localhost:8080/"
        },
        "id": "X2e-DEetmyAG",
        "outputId": "6c553c6f-be14-479d-ba8d-35a7c3009eaa"
      },
      "execution_count": 5,
      "outputs": [
        {
          "output_type": "stream",
          "name": "stdout",
          "text": [
            "Probability of rolling greater than 7: 0.36666666666666664\n"
          ]
        }
      ]
    },
    {
      "cell_type": "markdown",
      "source": [
        "Modified Gemini Code"
      ],
      "metadata": {
        "id": "J1wSRT88ryWw"
      }
    },
    {
      "cell_type": "code",
      "source": [
        "# Calculate the total number of possible rolls with two dice\n",
        "total_rolls = 6 * 6  # one die is blue and one is red (dissimilar)\n",
        "\n",
        "# Define a function to check if a roll is greater than 7\n",
        "def is_greater_than_seven(roll):\n",
        "  diceBlue, diceRed = roll\n",
        "  return diceBlue + diceRed > 7\n",
        "\n",
        "# Count the number of favorable rolls (greater than 7)\n",
        "favorable_rolls = 0\n",
        "for roll in range(1, total_rolls):\n",
        "  diceBlue = roll // 6 + 1  # Extract the first die value (1-6)\n",
        "  diceRed = roll % 6 + 1  # Extract the second die value (1-6)\n",
        "  if is_greater_than_seven((diceBlue, diceRed)):\n",
        "    favorable_rolls += 1\n",
        "\n",
        "# Print the favorable rolls\n",
        "print(\"Count of qualifying blue + red dice rolls:\", favorable_rolls)\n",
        "\n",
        "# Calculate the probability\n",
        "probability = favorable_rolls / total_rolls\n",
        "\n",
        "# Print the probability\n",
        "print(\"\\nProbability of rolling greater than 7:\", probability)\n"
      ],
      "metadata": {
        "colab": {
          "base_uri": "https://localhost:8080/"
        },
        "id": "N8wY5ZCQr2Uo",
        "outputId": "bbdf09ee-4d5c-4b32-e6ed-c1ee7a8070fd"
      },
      "execution_count": 19,
      "outputs": [
        {
          "output_type": "stream",
          "name": "stdout",
          "text": [
            "Count of qualifying blue + red dice rolls: 15\n",
            "\n",
            "Probability of rolling greater than 7: 0.4166666666666667\n"
          ]
        }
      ]
    },
    {
      "cell_type": "markdown",
      "source": [
        "\\"
      ],
      "metadata": {
        "id": "dfkzjQo_aTmE"
      }
    }
  ]
}
