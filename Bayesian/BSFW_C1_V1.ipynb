{
  "nbformat": 4,
  "nbformat_minor": 0,
  "metadata": {
    "colab": {
      "provenance": [],
      "authorship_tag": "ABX9TyNQdOLXi+TKoW4yoFCSI9P5"
    },
    "kernelspec": {
      "name": "python3",
      "display_name": "Python 3"
    },
    "language_info": {
      "name": "python"
    }
  },
  "cells": [
    {
      "cell_type": "markdown",
      "source": [
        "# Bayesian Statistics The Fun Way\n",
        "\n",
        "This notebook works through Chapter 1 examples about coins"
      ],
      "metadata": {
        "id": "65ODGBZO_2H3"
      }
    },
    {
      "cell_type": "markdown",
      "source": [
        "Our References:\n",
        "* [Bayesian Statistics The Fun Way - Will Kurt](https://nostarch.com/learnbayes)"
      ],
      "metadata": {
        "id": "U1uycsiUAC9A"
      }
    },
    {
      "cell_type": "markdown",
      "source": [
        "Single Coin Toss Example\n",
        "* Given\n",
        "  * One fair coin\n",
        "* Find\n",
        "  * The probability of seeing heads on a single, fair, coin toss\n",
        "* Solution\n",
        "  * {H} = set of heads\n",
        "  * {T} = set of tails\n",
        "  * Ω = the set of all possible events = { (H, T) }\n",
        "  * p(H) = probability of heads\n",
        "  * p(T) = probability of tails\n",
        "  * p(H) = the # of outcomes we care about / the total # of outcomes\n",
        "  $$p(H) = \\frac{H}{(H,T)} = \\frac{1}{2}$$\n",
        "  \n",
        "         "
      ],
      "metadata": {
        "id": "abnYOdm7AWOt"
      }
    },
    {
      "cell_type": "markdown",
      "source": [
        "Two Coin Toss Example\n",
        "* Given\n",
        "  * Two fair coins\n",
        "* Find\n",
        "  * The probability of seeing heads on a, simultaneous & fair, coin toss of two coins\n",
        "* Solution\n",
        "  * {H} = set of heads = { (H,H), (H,T), (T,H) }\n",
        "  * {T} = set of tails = { (T,T), (H,T), (T,H) }\n",
        "  * Ω = the set of all possible events = { (H,H), (H,T), (T,H), (T,T) }\n",
        "  * p(H) = probability of heads\n",
        "  * p(T) = probability of tails\n",
        "  * p(H) = the # of outcomes we care about / the total # of outcomes\n",
        "  $$p(H) = \\frac{ (H,H), (H,T), (T,H) }  { (H,H), (H,T), (T,H), (T,T) } = \\frac{3}{4}$$\n",
        "  "
      ],
      "metadata": {
        "id": "H9s3SlIZDAei"
      }
    }
  ]
}
