{
  "nbformat": 4,
  "nbformat_minor": 0,
  "metadata": {
    "colab": {
      "provenance": [],
      "mount_file_id": "1_HPYvzfGBBUF2HsOi7YOmUFGZXn5aED-",
      "authorship_tag": "ABX9TyN7jOO4ITuQ/KlOPW4uehqP"
    },
    "kernelspec": {
      "name": "python3",
      "display_name": "Python 3"
    },
    "language_info": {
      "name": "python"
    }
  },
  "cells": [
    {
      "cell_type": "markdown",
      "source": [
        "# Calculus - Intro to Derivatives\n",
        "\n",
        "We are going to look at how to solve derivatives of polynomials\n",
        "\n",
        "Tutor: Google Gemini Advanced 2.0 Pro Experimental\n"
      ],
      "metadata": {
        "id": "t8oJmJ0_Pz7D"
      }
    },
    {
      "cell_type": "markdown",
      "source": [
        "References:\n",
        "\n",
        "Essential Calculus Skills Practice Workbook - Chris McMullen\n",
        "* https://www.mcleanandeakin.com/book/9781941691243\n",
        "\n",
        "Wolfram Alpha\n",
        "* https://www.wolframalpha.com\n",
        "\n",
        "SymPy\n",
        "* https://www.sympy.org/en/index.html\n",
        "\n",
        "SymPy Calculus example\n",
        "* https://docs.sympy.org/latest/tutorials/intro-tutorial/calculus.html\n",
        "\n",
        "Matplotlib\n",
        "* https://matplotlib.org/stable/api/pyplot_summary.html\n",
        "\n",
        "Matplotlib graphing example\n",
        "* https://matplotlib.org/stable/api/_as_gen/matplotlib.pyplot.plot.html"
      ],
      "metadata": {
        "id": "XIusv3l2Mi1b"
      }
    },
    {
      "cell_type": "markdown",
      "source": [
        "Markdown formatting methods\n",
        "* dollar sign x ^ m dollar sign\n",
        "* dollar sign x ^ {m+n} dollar sign"
      ],
      "metadata": {
        "id": "F6oPBADlFSRj"
      }
    },
    {
      "cell_type": "markdown",
      "source": [
        "Useful algebra rules\n",
        "\n",
        "* 1/$x^n$ = $x^{-n}$\n",
        "* $\\sqrt(x)$ = x$^{1/2}$\n",
        "* $x^0$ = 1\n",
        "* $x^m$$x^n$ = $x^{m+n}$\n",
        "* $x^m$/$x^n$ = $x^{m-n}$\n",
        "* ($x^m$)$^n$ = $x^{mn}$\n",
        "* (ax)$^m$ = $a^m$$x^m$\n",
        "*  $\\sqrt(ax)$ = (ax)$^{1/2}$ = $a^{1/2}$$x^{1/2}$\n"
      ],
      "metadata": {
        "id": "Y4rTTOMy3m9a"
      }
    },
    {
      "cell_type": "markdown",
      "source": [
        "A function assigns each element of a set (a mathematical collection of things) X to exactly one element of a set Y.\n"
      ],
      "metadata": {
        "id": "aaiI3CeEEr7h"
      }
    },
    {
      "cell_type": "markdown",
      "source": [
        "Let's graph the function f(x) = $(4+x)^9$ $(2-x)^5$ with matplotlib:"
      ],
      "metadata": {
        "id": "t6MAtXxcH5VT"
      }
    },
    {
      "cell_type": "code",
      "source": [
        "import matplotlib.pyplot as plt\n",
        "import numpy as np  # Import numpy for efficient array calculations\n",
        "\n",
        "# Define the range for x values\n",
        "xmin = -10\n",
        "xmax = 10\n",
        "ymin = -1000000  # Adjusted ymin to better fit the function's output\n",
        "ymax = 1000000   # Adjusted ymax to better fit the function's output\n",
        "\n",
        "# Create the figure and axes\n",
        "fig, ax = plt.subplots()\n",
        "\n",
        "# Set the axis limits\n",
        "plt.axis([xmin, xmax, ymin, ymax])\n",
        "\n",
        "# Plot the x and y axes\n",
        "plt.plot([xmin, xmax], [0, 0], 'b')  # blue x axis\n",
        "plt.plot([0, 0], [ymin, ymax], 'b')  # blue y axis\n",
        "\n",
        "# Set title and labels\n",
        "plt.title('Function f(x) = (4+x)^9 * (2-x)^5')  #Corrected Title\n",
        "plt.xlabel('x')\n",
        "plt.ylabel('y')\n",
        "\n",
        "# --- IMPROVED FUNCTION PLOTTING ---\n",
        "\n",
        "# 1. Define the function\n",
        "def f(x):\n",
        "    return (4 + x)**9 * (2 - x)**5\n",
        "\n",
        "# 2. Generate x values using numpy.linspace for a smooth curve\n",
        "x_values = np.linspace(xmin, xmax, 500)  # 500 points between xmin and xmax\n",
        "\n",
        "# 3. Calculate y values using the function\n",
        "y_values = f(x_values)\n",
        "\n",
        "# 4. Plot the function using a line plot for a continuous curve\n",
        "plt.plot(x_values, y_values, 'r-', label='f(x)')  # 'r-' : red line, label for legend\n",
        "\n",
        "# ---  (Optional) Plot individual points if you still want them ---\n",
        "for x in range(4):\n",
        "     y = f(x)\n",
        "     plt.plot([x], [y], 'ro') # r = red , o = marker\n",
        "\n",
        "# Add a legend (if you added a label to the plt.plot)\n",
        "plt.legend()\n",
        "\n",
        "# Add grid lines (optional, but often helpful)\n",
        "plt.grid(True)\n",
        "\n",
        "# Display the plot\n",
        "plt.show()"
      ],
      "metadata": {
        "colab": {
          "base_uri": "https://localhost:8080/",
          "height": 472
        },
        "id": "oa5eB7Ixv6bp",
        "outputId": "1d176109-49ed-4d13-aade-e685c0438cc6"
      },
      "execution_count": null,
      "outputs": [
        {
          "output_type": "display_data",
          "data": {
            "text/plain": [
              "<Figure size 640x480 with 1 Axes>"
            ],
            "image/png": "[encoded data removed]"
          },
          "metadata": {}
        }
      ]
    },
    {
      "cell_type": "markdown",
      "source": [
        "**Derivatives: Understanding Rates of Change**\n",
        "\n",
        "A derivative, at its core, describes the **instantaneous rate of change** of a function.  Think of it as the slope of a function's graph at a *specific point*.  It tells you how much the function's output is changing for a tiny, tiny change in its input.\n",
        "\n",
        "**Notation**\n",
        "\n",
        "Derivatives are represented using several common notations:\n",
        "\n",
        "*   **`f'(x)`:**  This is read as \"f prime of x\" and is a very common notation, especially when the function is named `f`.  It emphasizes that the derivative is a new function derived from `f`.\n",
        "*   **`df/dx`:** This is Leibniz notation.  It emphasizes that the derivative is a *ratio* of infinitesimal changes: the change in `f` (df) divided by the change in `x` (dx).  This is particularly useful for the chain rule and other manipulations.\n",
        "*   **`d/dx [f(x)]`:**  This notation is used to explicitly show the operation of taking the derivative *with respect to x* of the expression `f(x)`.\n",
        "* **`dy/dt`**: This notation is read as, the derivative of `y` with respect to `t`.\n",
        "\n",
        "**Key Derivative Rules**\n",
        "\n",
        "These are the fundamental rules for calculating derivatives. You *must* memorize these:\n",
        "\n",
        "1.  **Constant Rule:**\n",
        "    *   **Formula:** `d/dx (c) = 0`, where `c` is any constant.\n",
        "    *   **Explanation:** The rate of change of a constant value is always zero.  A horizontal line has a slope of zero.\n",
        "\n",
        "2.  **Power Rule:**\n",
        "    *   **Formula:** `d/dx (x^n) = nx^(n-1)`, where `n` is any real number (not just integers!).\n",
        "    *   **Explanation:**  Bring the exponent down as a coefficient and reduce the exponent by one.  This is *the* most frequently used rule.\n",
        "    *   **Example:** `d/dx (x^3) = 3x^2`\n",
        "    *   **Example:** `d/dx (√x) = d/dx (x^(1/2)) = (1/2)x^(-1/2) = 1/(2√x)`\n",
        "    *   **Example with a coefficient:** `d/dx(a * x^b) = b * a * x^(b-1)`\n",
        "\n",
        "3.  **Sum/Difference Rule:**\n",
        "    *   **Formula:** `d/dx [f(x) ± g(x)] = d/dx [f(x)] ± d/dx [g(x)] = f'(x) ± g'(x)`\n",
        "    *   **Explanation:** The derivative of a sum (or difference) is the sum (or difference) of the derivatives.  You can differentiate term by term.\n",
        "     *   **Extended:** `d/dx ($y_1$ + $y_2$ + ... + $y_n$) = d$y_1$/dx + d$y_2$/dx + ... + d$y_n$/dx`\n",
        "\n",
        "4.  **Product Rule:**\n",
        "    *   **Formula:** `d/dx [u(x) * v(x)] = u'(x)v(x) + u(x)v'(x)`\n",
        "    *   **Explanation:**  *Don't* just multiply the derivatives.  The product rule is essential when you have the product of two functions that *both* depend on `x`.  The formula is often remembered as: \"derivative of the first times the second, plus the first times the derivative of the second.\"\n",
        "\n",
        "5.  **Chain Rule:**\n",
        "    *   **Formula:** `d/dx [f(g(x))] = f'(g(x)) * g'(x)`\n",
        "    *   **Leibniz Notation:**  `df/dx = (df/du) * (du/dx)` (where `u = g(x)`)\n",
        "    *   **Explanation:** This is used for *composite functions* (a function within a function).  You differentiate the \"outer\" function `f` (evaluated at the \"inner\" function `g(x)`), and then multiply by the derivative of the \"inner\" function `g'(x)`.  Think \"derivative of the outside, evaluated at the inside, times the derivative of the inside.\"\n",
        "\n",
        "6. **Combo Rule (Product and Chain Rule):**\n",
        "    *    **Formula:** `d/dx [u(x) * v(g(x))] = u'(x) * v(g(x)) + u(x) * v'(g(x)) * g'(x)`\n",
        "    *    **Explanation:**: This rule is applied when both the product rule *and* the chain rule are required.\n",
        "\n",
        "**Example (Applying the Rules to Your Function)**\n",
        "Let's use all this to find the derivative of the original function f(x) = (4 + x)^9 * (2 - x)^5. We need to apply the product rule and the chain rule:\n",
        "\n",
        "*   Let `u(x) = (4 + x)^9` and `v(x) = (2 - x)^5`\n",
        "*   Find `u'(x)`: Using the chain rule, `u'(x) = 9(4 + x)^8 * (1)`  (The derivative of `4+x` is 1)\n",
        "*   Find `v'(x)`: Using the chain rule, `v'(x) = 5(2 - x)^4 * (-1)` (The derivative of `2-x` is -1)\n",
        "*   Apply the Product Rule:\n",
        "    ```\n",
        "    f'(x) = u'(x)v(x) + u(x)v'(x)\n",
        "    f'(x) = [9(4 + x)^8 * 1] * (2 - x)^5 + (4 + x)^9 * [5(2 - x)^4 * -1]\n",
        "    f'(x) = 9(4 + x)^8(2 - x)^5 - 5(4 + x)^9(2 - x)^4\n",
        "    ```\n",
        "    We can factor out common terms to simplify:\n",
        "    ```\n",
        "    f'(x) = (4 + x)^8(2 - x)^4 [9(2 - x) - 5(4 + x)]\n",
        "    f'(x) = (4 + x)^8(2 - x)^4 (18 - 9x - 20 - 5x)\n",
        "    f'(x) = (4 + x)^8(2 - x)^4 (-14x - 2)\n",
        "    f'(x) = -2(4 + x)^8(2 - x)^4 (7x + 1)\n",
        "    ```\n",
        "\n"
      ],
      "metadata": {
        "id": "SjdS-I0oge6L"
      }
    },
    {
      "cell_type": "markdown",
      "source": [
        "Let's take the derivative of f(x) = $(4+x)^9$ $(2-x)^5$ and check our answer by integrating it, using SymPy.\n",
        "\n"
      ],
      "metadata": {
        "id": "c-wm7oi9E81u"
      }
    },
    {
      "cell_type": "code",
      "source": [
        "import sympy\n",
        "\n",
        "x = sympy.Symbol('x')\n",
        "f = (4 + x)**9 * (2 - x)**5\n",
        "df = sympy.diff(f, x)  # Calculate the derivative\n",
        "print(df)\n",
        "print(sympy.simplify(df))  # Simplify the result\n",
        "\n",
        "# The simplified output should match: -2*(x + 4)**8*(2 - x)**4*(7*x + 1)"
      ],
      "metadata": {
        "colab": {
          "base_uri": "https://localhost:8080/"
        },
        "id": "v7AhmnzaAeCx",
        "outputId": "e1894973-af60-475d-e74a-e4a9dc8eac40"
      },
      "execution_count": null,
      "outputs": [
        {
          "output_type": "stream",
          "name": "stdout",
          "text": [
            "9*(2 - x)**5*(x + 4)**8 - 5*(2 - x)**4*(x + 4)**9\n",
            "(-14*x - 2)*(x - 2)**4*(x + 4)**8\n"
          ]
        }
      ]
    },
    {
      "cell_type": "markdown",
      "source": [
        "Let's take the derivative of the function f(x) = $(4+x)^9$ $(2-x)^5$\n",
        "\n",
        "Given:\n",
        "* d/dx(f,g) = g(df/dx) + f(dg/dx)\n",
        "* f(x) = (4+x)^9\n",
        "* g(x) = (2-x)^5\n",
        "* u = (4+x)\n",
        "* f = (u^9)\n",
        "* v = (2-x)\n",
        "* g = (v^5)\n",
        "\n",
        "Find: d/dx ($(4+x)^9$ $(2-x)^5$) = ?\n",
        "\n",
        "Solution:\n",
        "* d/dx ($(4+x)^9$ $(2-x)^5$) = [(2-x)^5][df/dx(u^9)[du/dx(4+x)] + [(4+x)^9][dg/dv(v^5)]{dv/dx(2-x)]\n",
        "* d/dx ($(4+x)^9$ $(2-x)^5$) = [(2-x)^5][9u^8][1] + [(4+x)^9][5v^4][-1]\n",
        "* d/dx ($(4+x)^9$ $(2-x)^5$) =  9u^8(2-x)^5 - 5v^4(4+x)^9\n",
        "* d/dx ($(4+x)^9$ $(2-x)^5$) = 9[(4+x)^8][(2-x)^5] - 5[(2-x)^4][(4+x)^9]"
      ],
      "metadata": {
        "id": "yWRtYtJzD8cn"
      }
    },
    {
      "cell_type": "markdown",
      "source": [
        "Okay, let's compare and contrast the analyses.\n",
        "\n",
        "**Similarities:**\n",
        "\n",
        "*   **Correctly Identified the Need for Product and Chain Rules:** Both our approaches correctly recognize that we need to use both the product rule (because we have a product of two functions of *x*) and the chain rule (because each of those functions is itself a composite function).\n",
        "*   **Correctly Identified `u` and `v` (or `f` and `g` in your notation):** You correctly identified the \"inner\" functions for the chain rule applications.  Using `u = 4 + x` and `v = 2 - x` is a good strategy.\n",
        "*   **Correct General Structure:** The overall structure of applying the product rule is correct: `g(df/dx) + f(dg/dx)`.\n",
        "\n",
        "**Differences and Corrections:**\n",
        "\n",
        "1.  **Notation Consistency:**\n",
        "    *   You use `f` and `g` in the product rule formula *and* as the names of the two functions. This is potentially confusing. I recommend using `u(x)` and `v(x)` (or other distinct symbols) for the two functions being multiplied, and reserving `f(x)` for the overall function you're differentiating.  I'll use `u(x)` and `v(x)` in my explanation below to avoid confusion.\n",
        "    * You use `f` and `g` on the variables for the chain rule. I would recommend using other variables.\n",
        "\n",
        "2.  **Chain Rule Application (Most Important Difference):**\n",
        "\n",
        "    *   **Your Analysis:** `[(2-x)^5][df/dx(u^9)[du/dx(4+x)] + [(4+x)^9][dg/dv(v^5)]{dv/dx(2-x)]`\n",
        "        *   The *structure* of the chain rule application is correct here (derivative of outer * derivative of inner).  You're correctly identifying the need to differentiate `u^9` and `v^5`.\n",
        "        *   However, a subtle but crucial detail: When applying the chain rule, the derivative of the outer function must be evaluated *at the inner function*.\n",
        "\n",
        "    *   **Corrected Approach:** Let's break down the chain rule application for each term separately.\n",
        "        *   **For `u(x) = (4 + x)^9`:**\n",
        "            *   Let `w = 4 + x` (you used `u`, which is fine, but I'm using `w` to avoid confusion with `u(x)`).\n",
        "            *   `u(w) = w^9`\n",
        "            *   `du/dw = 9w^8`\n",
        "            *   `dw/dx = 1`\n",
        "            *   `du/dx = (du/dw) * (dw/dx) = 9w^8 * 1 = 9(4 + x)^8`  Notice that we substitute `4 + x` back in for `w`.\n",
        "        *   **For `v(x) = (2 - x)^5`:**\n",
        "            *   Let `z = 2 - x` (you used `v`, which is fine, but I'm using `z`).\n",
        "            *   `v(z) = z^5`\n",
        "            *   `dv/dz = 5z^4`\n",
        "            *   `dz/dx = -1`\n",
        "            *   `dv/dx = (dv/dz) * (dz/dx) = 5z^4 * -1 = -5(2 - x)^4`  Notice we substitute `2 - x` back in for `z`.\n",
        "\n",
        "        *  **Applying the product rule:**\n",
        "             `d/dx[u(x)v(x)] = v(x) * du/dx + u(x) * dv/dx`\n",
        "              Substituting the parts we calculated:\n",
        "               `= (2-x)^5 * [ 9(4+x)^8] + (4+x)^9 * [-5(2-x)^4]`\n",
        "\n",
        "3. **Substitution and Simplification**\n",
        "    * You correctly substituted back the values of u and v\n",
        "\n",
        "4.  **Final Simplification (Minor Difference):**\n",
        "\n",
        "    *   **Your Result:** `9[(4+x)^8][(2-x)^5] - 5[(2-x)][(4+x)^9]`\n",
        "     * The `(2-x)` in the second term should be raised to the fourth power: `(2-x)^4`\n",
        "    *   **Corrected/Simplified Result:** `9(4 + x)^8(2 - x)^5 - 5(4 + x)^9(2 - x)^4`\n",
        "        *   As shown in my previous response, this can be further simplified by factoring out common terms: `-2(4 + x)^8(2 - x)^4(7x + 1)`.  Factoring is generally a good idea, but the un-factored form is still technically correct.\n",
        "\n",
        "**Summary of Corrections:**\n",
        "\n",
        "The main correction is in the meticulous application of the chain rule. Remember to always evaluate the derivative of the outer function *at the inner function*. The final result should be:\n",
        "\n",
        "`9(4 + x)^8(2 - x)^5 - 5(4 + x)^9(2 - x)^4`\n",
        "\n",
        "or, in factored form:\n",
        "\n",
        "`-2(4 + x)^8(2 - x)^4(7x + 1)`\n",
        "\n",
        "\n"
      ],
      "metadata": {
        "id": "mU86QNVJDSW5"
      }
    }
  ]
}