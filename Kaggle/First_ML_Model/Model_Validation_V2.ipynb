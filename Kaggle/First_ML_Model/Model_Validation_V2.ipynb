{
  "nbformat": 4,
  "nbformat_minor": 0,
  "metadata": {
    "colab": {
      "provenance": [],
      "authorship_tag": "ABX9TyO1bfyPFku6WYa8yT2pCBX0"
    },
    "kernelspec": {
      "name": "python3",
      "display_name": "Python 3"
    },
    "language_info": {
      "name": "python"
    }
  },
  "cells": [
    {
      "cell_type": "markdown",
      "source": [
        "Kaggle - Validate Your First ML Model\n",
        "\n",
        "*  We are going to start off by [validating the Melborne dataset](https://www.kaggle.com/code/dansbecker/model-validation/tutorial) with this notebook\n",
        "*  We are going to use the [Panda's library](https://pandas.pydata.org/docs/) Date: Dec 08, 2023 Version: 2.1.4\n",
        "*  We are also going to use the [Scikit library](https://scikit-learn.org/stable/) Date: October 2023.  Version: 1.3.2"
      ],
      "metadata": {
        "id": "2MskVYBqnvQS"
      }
    },
    {
      "cell_type": "markdown",
      "source": [
        "We can drag and drop data files (csv files) that we want to work with from our local drive into the google colab file icon (left side of the colab screen)\n",
        "1.   Download the [Kaggle Melborne Housing Data](https://www.kaggle.com/code/dansbecker/model-validation/data) to your desktop\n",
        "2.   Click on the folder on left side of the approximate middle of the Colab screen\n",
        "3.   Drag and drop the melb_data.csv file into the folder to upload it to Google Colab from your desktop\n",
        "4.   You will need to do this operation everytime you use the notebook"
      ],
      "metadata": {
        "id": "i8bezjG2oTox"
      }
    },
    {
      "cell_type": "markdown",
      "source": [
        "Our script does the following:\n",
        "\n",
        "*   Imports the panda's library\n",
        "*   Loads the data\n",
        "*   Filters out rows with missing data\n",
        "*   Identifies the target of the analysis and the features that impact it\n",
        "*   Imports the scikit library\n",
        "*   Loads a [decision tree](https://scikit-learn.org/stable/modules/tree.html) algo\n",
        "\n"
      ],
      "metadata": {
        "id": "sRaxI3ZQ6FOO"
      }
    },
    {
      "cell_type": "code",
      "execution_count": 1,
      "metadata": {
        "colab": {
          "base_uri": "https://localhost:8080/",
          "height": 74
        },
        "id": "M_UUekxHnun2",
        "outputId": "b7771541-2a66-492f-b0dc-08cb91087980"
      },
      "outputs": [
        {
          "output_type": "execute_result",
          "data": {
            "text/plain": [
              "DecisionTreeRegressor()"
            ],
            "text/html": [
              "<style>#sk-container-id-1 {color: black;background-color: white;}#sk-container-id-1 pre{padding: 0;}#sk-container-id-1 div.sk-toggleable {background-color: white;}#sk-container-id-1 label.sk-toggleable__label {cursor: pointer;display: block;width: 100%;margin-bottom: 0;padding: 0.3em;box-sizing: border-box;text-align: center;}#sk-container-id-1 label.sk-toggleable__label-arrow:before {content: \"▸\";float: left;margin-right: 0.25em;color: #696969;}#sk-container-id-1 label.sk-toggleable__label-arrow:hover:before {color: black;}#sk-container-id-1 div.sk-estimator:hover label.sk-toggleable__label-arrow:before {color: black;}#sk-container-id-1 div.sk-toggleable__content {max-height: 0;max-width: 0;overflow: hidden;text-align: left;background-color: #f0f8ff;}#sk-container-id-1 div.sk-toggleable__content pre {margin: 0.2em;color: black;border-radius: 0.25em;background-color: #f0f8ff;}#sk-container-id-1 input.sk-toggleable__control:checked~div.sk-toggleable__content {max-height: 200px;max-width: 100%;overflow: auto;}#sk-container-id-1 input.sk-toggleable__control:checked~label.sk-toggleable__label-arrow:before {content: \"▾\";}#sk-container-id-1 div.sk-estimator input.sk-toggleable__control:checked~label.sk-toggleable__label {background-color: #d4ebff;}#sk-container-id-1 div.sk-label input.sk-toggleable__control:checked~label.sk-toggleable__label {background-color: #d4ebff;}#sk-container-id-1 input.sk-hidden--visually {border: 0;clip: rect(1px 1px 1px 1px);clip: rect(1px, 1px, 1px, 1px);height: 1px;margin: -1px;overflow: hidden;padding: 0;position: absolute;width: 1px;}#sk-container-id-1 div.sk-estimator {font-family: monospace;background-color: #f0f8ff;border: 1px dotted black;border-radius: 0.25em;box-sizing: border-box;margin-bottom: 0.5em;}#sk-container-id-1 div.sk-estimator:hover {background-color: #d4ebff;}#sk-container-id-1 div.sk-parallel-item::after {content: \"\";width: 100%;border-bottom: 1px solid gray;flex-grow: 1;}#sk-container-id-1 div.sk-label:hover label.sk-toggleable__label {background-color: #d4ebff;}#sk-container-id-1 div.sk-serial::before {content: \"\";position: absolute;border-left: 1px solid gray;box-sizing: border-box;top: 0;bottom: 0;left: 50%;z-index: 0;}#sk-container-id-1 div.sk-serial {display: flex;flex-direction: column;align-items: center;background-color: white;padding-right: 0.2em;padding-left: 0.2em;position: relative;}#sk-container-id-1 div.sk-item {position: relative;z-index: 1;}#sk-container-id-1 div.sk-parallel {display: flex;align-items: stretch;justify-content: center;background-color: white;position: relative;}#sk-container-id-1 div.sk-item::before, #sk-container-id-1 div.sk-parallel-item::before {content: \"\";position: absolute;border-left: 1px solid gray;box-sizing: border-box;top: 0;bottom: 0;left: 50%;z-index: -1;}#sk-container-id-1 div.sk-parallel-item {display: flex;flex-direction: column;z-index: 1;position: relative;background-color: white;}#sk-container-id-1 div.sk-parallel-item:first-child::after {align-self: flex-end;width: 50%;}#sk-container-id-1 div.sk-parallel-item:last-child::after {align-self: flex-start;width: 50%;}#sk-container-id-1 div.sk-parallel-item:only-child::after {width: 0;}#sk-container-id-1 div.sk-dashed-wrapped {border: 1px dashed gray;margin: 0 0.4em 0.5em 0.4em;box-sizing: border-box;padding-bottom: 0.4em;background-color: white;}#sk-container-id-1 div.sk-label label {font-family: monospace;font-weight: bold;display: inline-block;line-height: 1.2em;}#sk-container-id-1 div.sk-label-container {text-align: center;}#sk-container-id-1 div.sk-container {/* jupyter's `normalize.less` sets `[hidden] { display: none; }` but bootstrap.min.css set `[hidden] { display: none !important; }` so we also need the `!important` here to be able to override the default hidden behavior on the sphinx rendered scikit-learn.org. See: https://github.com/scikit-learn/scikit-learn/issues/21755 */display: inline-block !important;position: relative;}#sk-container-id-1 div.sk-text-repr-fallback {display: none;}</style><div id=\"sk-container-id-1\" class=\"sk-top-container\"><div class=\"sk-text-repr-fallback\"><pre>DecisionTreeRegressor()</pre><b>In a Jupyter environment, please rerun this cell to show the HTML representation or trust the notebook. <br />On GitHub, the HTML representation is unable to render, please try loading this page with nbviewer.org.</b></div><div class=\"sk-container\" hidden><div class=\"sk-item\"><div class=\"sk-estimator sk-toggleable\"><input class=\"sk-toggleable__control sk-hidden--visually\" id=\"sk-estimator-id-1\" type=\"checkbox\" checked><label for=\"sk-estimator-id-1\" class=\"sk-toggleable__label sk-toggleable__label-arrow\">DecisionTreeRegressor</label><div class=\"sk-toggleable__content\"><pre>DecisionTreeRegressor()</pre></div></div></div></div></div>"
            ]
          },
          "metadata": {},
          "execution_count": 1
        }
      ],
      "source": [
        "# Import Pandas Library\n",
        "import pandas as pd\n",
        "\n",
        "# Load data\n",
        "melbourne_data = pd.read_csv('melb_data.csv')\n",
        "\n",
        "# Filter rows with missing price values\n",
        "filtered_melbourne_data = melbourne_data.dropna(axis=0)\n",
        "\n",
        "# Choose target and features\n",
        "y = filtered_melbourne_data.Price\n",
        "melbourne_features = ['Rooms',\n",
        "                      'Bathroom',\n",
        "                      'Landsize',\n",
        "                      'BuildingArea',\n",
        "                      'YearBuilt',\n",
        "                      'Lattitude',\n",
        "                      'Longtitude']\n",
        "X = filtered_melbourne_data[melbourne_features]\n",
        "\n",
        "# Import scikit library\n",
        "from sklearn.tree import DecisionTreeRegressor\n",
        "\n",
        "# Define model\n",
        "melbourne_model = DecisionTreeRegressor()\n",
        "\n",
        "# Fit model\n",
        "melbourne_model.fit(X, y)"
      ]
    },
    {
      "cell_type": "markdown",
      "source": [
        "Let's take a look at Mean Absolute Error (MAE)\n",
        "\n",
        "*  In general;  Error = Actual - Predicted\n",
        "*  MAE = The sum of absolute errors divided by the sample size - [wiki](https://en.wikipedia.org/wiki/Mean_absolute_error)\n",
        "*  Our script caclulates the House Price MAE in $"
      ],
      "metadata": {
        "id": "u1v9rQ5YpDEu"
      }
    },
    {
      "cell_type": "code",
      "source": [
        "from sklearn.metrics import mean_absolute_error\n",
        "\n",
        "predicted_home_prices = melbourne_model.predict(X)\n",
        "mean_absolute_error(y, predicted_home_prices)"
      ],
      "metadata": {
        "colab": {
          "base_uri": "https://localhost:8080/"
        },
        "id": "Xvr28NhRq2dR",
        "outputId": "1e8d5172-cbfc-4238-92b9-5755adb23a9a"
      },
      "execution_count": 2,
      "outputs": [
        {
          "output_type": "execute_result",
          "data": {
            "text/plain": [
              "434.71594577146544"
            ]
          },
          "metadata": {},
          "execution_count": 2
        }
      ]
    },
    {
      "cell_type": "markdown",
      "source": [
        "Now we will think about/look at why it's good to split up data sets into two parts:\n",
        "*  Training portion (model is familiar with this data)\n",
        "*  Validation portion (new data for the model and we can see how the model performs in the wild)\n",
        "\n",
        "We want a bias free model that can analyze datasets impartially"
      ],
      "metadata": {
        "id": "ITLg9IWZ9BT9"
      }
    },
    {
      "cell_type": "markdown",
      "source": [
        "Our script does the following:\n",
        "\n",
        "*   Imports the scikit function train_test_split to break up the data into two pieces\n",
        "*   Splits the dataset into two parts: training and validation datasets, for both the features and the target\n",
        "*   Loads a [decision tree](https://scikit-learn.org/stable/modules/tree.html) algo\n",
        "*   Fits the model\n",
        "*   Calculates the MAE (Mean Absolute Error)\n"
      ],
      "metadata": {
        "id": "PV_7Kno5-elD"
      }
    },
    {
      "cell_type": "code",
      "source": [
        "# Import function train_test_split to break up the data into two pieces\n",
        "from sklearn.model_selection import train_test_split\n",
        "\n",
        "# split data into training and validation data, for both features and target\n",
        "# The split is based on a random number generator. Supplying a numeric value to\n",
        "# the random_state argument guarantees we get the same split every time we\n",
        "# run this script.\n",
        "train_X, val_X, train_y, val_y = train_test_split(X, y, random_state = 0)\n",
        "\n",
        "# Define model\n",
        "melbourne_model = DecisionTreeRegressor()\n",
        "\n",
        "# Fit model\n",
        "melbourne_model.fit(train_X, train_y)\n",
        "\n",
        "# get predicted prices on validation data\n",
        "val_predictions = melbourne_model.predict(val_X)\n",
        "print(mean_absolute_error(val_y, val_predictions))"
      ],
      "metadata": {
        "colab": {
          "base_uri": "https://localhost:8080/"
        },
        "id": "TJuv8oHh-kRn",
        "outputId": "119a40dc-7136-4d3e-82d9-67ef6e154a6b"
      },
      "execution_count": 3,
      "outputs": [
        {
          "output_type": "stream",
          "name": "stdout",
          "text": [
            "258405.54422207875\n"
          ]
        }
      ]
    },
    {
      "cell_type": "markdown",
      "source": [
        "Our model shows bias\n",
        "\n",
        "*   Test data MAE is $434.72\n",
        "\n",
        "*   Validation data MAE is $258,405.54\n",
        "\n",
        "We are going to have to refine the model"
      ],
      "metadata": {
        "id": "ahYknCIM_Afr"
      }
    }
  ]
}
