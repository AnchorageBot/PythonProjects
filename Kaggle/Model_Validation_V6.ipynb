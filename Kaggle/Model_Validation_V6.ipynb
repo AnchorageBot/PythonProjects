{
  "nbformat": 4,
  "nbformat_minor": 0,
  "metadata": {
    "colab": {
      "provenance": [],
      "authorship_tag": "ABX9TyNaOrIK31BXqz7Tm6eGD680"
    },
    "kernelspec": {
      "name": "python3",
      "display_name": "Python 3"
    },
    "language_info": {
      "name": "python"
    }
  },
  "cells": [
    {
      "cell_type": "markdown",
      "source": [
        "Kaggle - Validate Your First ML Model\n",
        "\n",
        "*  We are going to [validating the Iowa dataset](https://www.kaggle.com/code/dansbecker/model-validation/data) with this notebook and will break up our process into several notebooks\n",
        "*  We are going to use the [Panda's library](https://pandas.pydata.org/docs/) Date: Dec 08, 2023 Version: 2.1.4\n",
        "*  We are also going to use the [Scikit library](https://scikit-learn.org/stable/) Date: October 2023.  Version: 1.3.2"
      ],
      "metadata": {
        "id": "2MskVYBqnvQS"
      }
    },
    {
      "cell_type": "markdown",
      "source": [
        "We can drag and drop data files (csv files) that we want to work with from our local drive into the google colab file icon (left side of the colab screen)\n",
        "1.   Download the [Kaggle Iowa Housing Training Dataset](https://www.kaggle.com/code/dansbecker/model-validation/data) to your desktop\n",
        "2.   Click on the folder on left side of the approximate middle of the Colab screen\n",
        "3.   Drag and drop the train.csv file into the folder to upload it to Google Colab from your desktop\n",
        "4.   You will need to do this operation everytime you use the notebook"
      ],
      "metadata": {
        "id": "i8bezjG2oTox"
      }
    },
    {
      "cell_type": "markdown",
      "source": [
        "Our first script does the following:\n",
        "\n",
        "*   Imports the panda's and scikit libraries\n",
        "*   Loads the data\n",
        "*   Breaks out the columns in the dataset for our review"
      ],
      "metadata": {
        "id": "qDEwGIuhomM6"
      }
    },
    {
      "cell_type": "code",
      "source": [
        "# Import Pandas Library\n",
        "import pandas as pd\n",
        "from sklearn.tree import DecisionTreeRegressor\n",
        "\n",
        "# Load data\n",
        "home_data = pd.read_csv('train.csv')\n",
        "\n",
        "# Examine the columns in the dataset\n",
        "home_data.columns"
      ],
      "metadata": {
        "colab": {
          "base_uri": "https://localhost:8080/"
        },
        "id": "g4MF-kK4owRJ",
        "outputId": "f9d87b40-e6dc-4bd5-96fd-f26beda6e33c"
      },
      "execution_count": 1,
      "outputs": [
        {
          "output_type": "execute_result",
          "data": {
            "text/plain": [
              "Index(['Id', 'MSSubClass', 'MSZoning', 'LotFrontage', 'LotArea', 'Street',\n",
              "       'Alley', 'LotShape', 'LandContour', 'Utilities', 'LotConfig',\n",
              "       'LandSlope', 'Neighborhood', 'Condition1', 'Condition2', 'BldgType',\n",
              "       'HouseStyle', 'OverallQual', 'OverallCond', 'YearBuilt', 'YearRemodAdd',\n",
              "       'RoofStyle', 'RoofMatl', 'Exterior1st', 'Exterior2nd', 'MasVnrType',\n",
              "       'MasVnrArea', 'ExterQual', 'ExterCond', 'Foundation', 'BsmtQual',\n",
              "       'BsmtCond', 'BsmtExposure', 'BsmtFinType1', 'BsmtFinSF1',\n",
              "       'BsmtFinType2', 'BsmtFinSF2', 'BsmtUnfSF', 'TotalBsmtSF', 'Heating',\n",
              "       'HeatingQC', 'CentralAir', 'Electrical', '1stFlrSF', '2ndFlrSF',\n",
              "       'LowQualFinSF', 'GrLivArea', 'BsmtFullBath', 'BsmtHalfBath', 'FullBath',\n",
              "       'HalfBath', 'BedroomAbvGr', 'KitchenAbvGr', 'KitchenQual',\n",
              "       'TotRmsAbvGrd', 'Functional', 'Fireplaces', 'FireplaceQu', 'GarageType',\n",
              "       'GarageYrBlt', 'GarageFinish', 'GarageCars', 'GarageArea', 'GarageQual',\n",
              "       'GarageCond', 'PavedDrive', 'WoodDeckSF', 'OpenPorchSF',\n",
              "       'EnclosedPorch', '3SsnPorch', 'ScreenPorch', 'PoolArea', 'PoolQC',\n",
              "       'Fence', 'MiscFeature', 'MiscVal', 'MoSold', 'YrSold', 'SaleType',\n",
              "       'SaleCondition', 'SalePrice'],\n",
              "      dtype='object')"
            ]
          },
          "metadata": {},
          "execution_count": 1
        }
      ]
    },
    {
      "cell_type": "markdown",
      "source": [
        "Our next script does the following:\n",
        "\n",
        "*   Identifies the target of the analysis and the features that impact it\n",
        "*   Loads a [decision tree](https://scikit-learn.org/stable/modules/tree.html) algo (model)\n",
        "*   Fits the algo (model) via an [estimator  .fit()](https://scikit-learn.org/stable/developers/develop.html)\n",
        "*   Provides an estimate via [.predict()](https://scikit-learn.org/stable/developers/develop.html)"
      ],
      "metadata": {
        "id": "sRaxI3ZQ6FOO"
      }
    },
    {
      "cell_type": "code",
      "execution_count": 2,
      "metadata": {
        "colab": {
          "base_uri": "https://localhost:8080/"
        },
        "id": "M_UUekxHnun2",
        "outputId": "cc188421-9347-4c2a-86c7-1e0d13ef000b"
      },
      "outputs": [
        {
          "output_type": "stream",
          "name": "stdout",
          "text": [
            "First in-sample predictions: [208500. 181500. 223500. 140000. 250000.]\n",
            "Actual target values for those homes: [208500, 181500, 223500, 140000, 250000]\n"
          ]
        }
      ],
      "source": [
        "# Choose target and features\n",
        "y = home_data.SalePrice\n",
        "feature_columns = ['LotArea',\n",
        "                   'YearBuilt',\n",
        "                   '1stFlrSF',\n",
        "                   '2ndFlrSF',\n",
        "                   'FullBath',\n",
        "                   'BedroomAbvGr',\n",
        "                   'TotRmsAbvGrd']\n",
        "X = home_data[feature_columns]\n",
        "\n",
        "# Specify Model\n",
        "iowa_model = DecisionTreeRegressor()\n",
        "\n",
        "# Fit Model\n",
        "iowa_model.fit(X, y)\n",
        "\n",
        "print(\"First in-sample predictions:\", iowa_model.predict(X.head()))\n",
        "print(\"Actual target values for those homes:\", y.head().tolist())"
      ]
    },
    {
      "cell_type": "markdown",
      "source": [
        "Our next script does the following:\n",
        "\n",
        "*   Imports the [scikit function train_test_split](https://scikit-learn.org/stable/modules/generated/sklearn.model_selection.train_test_split.html) to break up the data into two pieces\n",
        "*   Splits the dataset into two parts: training and validation datasets, for both the features and the target\n",
        "*   Loads a [decision tree](https://scikit-learn.org/stable/modules/tree.html) algo\n",
        "*   Fits the model\n"
      ],
      "metadata": {
        "id": "PV_7Kno5-elD"
      }
    },
    {
      "cell_type": "code",
      "source": [
        "# Import function train_test_split to break up the data into two pieces\n",
        "from sklearn.model_selection import train_test_split\n",
        "\n",
        "# split data into training and validation data, for both features and target\n",
        "# The split is based on a random number generator. Supplying a numeric value to\n",
        "# the random_state argument guarantees we get the same split every time we\n",
        "# run this script.\n",
        "train_X, val_X, train_y, val_y = train_test_split(X, y, random_state = 1)\n",
        "\n",
        "# Define model\n",
        "iowa_model = DecisionTreeRegressor()\n",
        "\n",
        "# Fit model\n",
        "iowa_model.fit(train_X, train_y)\n"
      ],
      "metadata": {
        "colab": {
          "base_uri": "https://localhost:8080/",
          "height": 74
        },
        "id": "TJuv8oHh-kRn",
        "outputId": "ec546925-a984-4ff1-f531-0de17787372d"
      },
      "execution_count": 21,
      "outputs": [
        {
          "output_type": "execute_result",
          "data": {
            "text/plain": [
              "DecisionTreeRegressor()"
            ],
            "text/html": [
              "<style>#sk-container-id-5 {color: black;background-color: white;}#sk-container-id-5 pre{padding: 0;}#sk-container-id-5 div.sk-toggleable {background-color: white;}#sk-container-id-5 label.sk-toggleable__label {cursor: pointer;display: block;width: 100%;margin-bottom: 0;padding: 0.3em;box-sizing: border-box;text-align: center;}#sk-container-id-5 label.sk-toggleable__label-arrow:before {content: \"▸\";float: left;margin-right: 0.25em;color: #696969;}#sk-container-id-5 label.sk-toggleable__label-arrow:hover:before {color: black;}#sk-container-id-5 div.sk-estimator:hover label.sk-toggleable__label-arrow:before {color: black;}#sk-container-id-5 div.sk-toggleable__content {max-height: 0;max-width: 0;overflow: hidden;text-align: left;background-color: #f0f8ff;}#sk-container-id-5 div.sk-toggleable__content pre {margin: 0.2em;color: black;border-radius: 0.25em;background-color: #f0f8ff;}#sk-container-id-5 input.sk-toggleable__control:checked~div.sk-toggleable__content {max-height: 200px;max-width: 100%;overflow: auto;}#sk-container-id-5 input.sk-toggleable__control:checked~label.sk-toggleable__label-arrow:before {content: \"▾\";}#sk-container-id-5 div.sk-estimator input.sk-toggleable__control:checked~label.sk-toggleable__label {background-color: #d4ebff;}#sk-container-id-5 div.sk-label input.sk-toggleable__control:checked~label.sk-toggleable__label {background-color: #d4ebff;}#sk-container-id-5 input.sk-hidden--visually {border: 0;clip: rect(1px 1px 1px 1px);clip: rect(1px, 1px, 1px, 1px);height: 1px;margin: -1px;overflow: hidden;padding: 0;position: absolute;width: 1px;}#sk-container-id-5 div.sk-estimator {font-family: monospace;background-color: #f0f8ff;border: 1px dotted black;border-radius: 0.25em;box-sizing: border-box;margin-bottom: 0.5em;}#sk-container-id-5 div.sk-estimator:hover {background-color: #d4ebff;}#sk-container-id-5 div.sk-parallel-item::after {content: \"\";width: 100%;border-bottom: 1px solid gray;flex-grow: 1;}#sk-container-id-5 div.sk-label:hover label.sk-toggleable__label {background-color: #d4ebff;}#sk-container-id-5 div.sk-serial::before {content: \"\";position: absolute;border-left: 1px solid gray;box-sizing: border-box;top: 0;bottom: 0;left: 50%;z-index: 0;}#sk-container-id-5 div.sk-serial {display: flex;flex-direction: column;align-items: center;background-color: white;padding-right: 0.2em;padding-left: 0.2em;position: relative;}#sk-container-id-5 div.sk-item {position: relative;z-index: 1;}#sk-container-id-5 div.sk-parallel {display: flex;align-items: stretch;justify-content: center;background-color: white;position: relative;}#sk-container-id-5 div.sk-item::before, #sk-container-id-5 div.sk-parallel-item::before {content: \"\";position: absolute;border-left: 1px solid gray;box-sizing: border-box;top: 0;bottom: 0;left: 50%;z-index: -1;}#sk-container-id-5 div.sk-parallel-item {display: flex;flex-direction: column;z-index: 1;position: relative;background-color: white;}#sk-container-id-5 div.sk-parallel-item:first-child::after {align-self: flex-end;width: 50%;}#sk-container-id-5 div.sk-parallel-item:last-child::after {align-self: flex-start;width: 50%;}#sk-container-id-5 div.sk-parallel-item:only-child::after {width: 0;}#sk-container-id-5 div.sk-dashed-wrapped {border: 1px dashed gray;margin: 0 0.4em 0.5em 0.4em;box-sizing: border-box;padding-bottom: 0.4em;background-color: white;}#sk-container-id-5 div.sk-label label {font-family: monospace;font-weight: bold;display: inline-block;line-height: 1.2em;}#sk-container-id-5 div.sk-label-container {text-align: center;}#sk-container-id-5 div.sk-container {/* jupyter's `normalize.less` sets `[hidden] { display: none; }` but bootstrap.min.css set `[hidden] { display: none !important; }` so we also need the `!important` here to be able to override the default hidden behavior on the sphinx rendered scikit-learn.org. See: https://github.com/scikit-learn/scikit-learn/issues/21755 */display: inline-block !important;position: relative;}#sk-container-id-5 div.sk-text-repr-fallback {display: none;}</style><div id=\"sk-container-id-5\" class=\"sk-top-container\"><div class=\"sk-text-repr-fallback\"><pre>DecisionTreeRegressor()</pre><b>In a Jupyter environment, please rerun this cell to show the HTML representation or trust the notebook. <br />On GitHub, the HTML representation is unable to render, please try loading this page with nbviewer.org.</b></div><div class=\"sk-container\" hidden><div class=\"sk-item\"><div class=\"sk-estimator sk-toggleable\"><input class=\"sk-toggleable__control sk-hidden--visually\" id=\"sk-estimator-id-5\" type=\"checkbox\" checked><label for=\"sk-estimator-id-5\" class=\"sk-toggleable__label sk-toggleable__label-arrow\">DecisionTreeRegressor</label><div class=\"sk-toggleable__content\"><pre>DecisionTreeRegressor()</pre></div></div></div></div></div>"
            ]
          },
          "metadata": {},
          "execution_count": 21
        }
      ]
    },
    {
      "cell_type": "markdown",
      "source": [
        "Let's take a look at Mean Absolute Error (MAE)\n",
        "\n",
        "*  In general;  Error = Actual - Predicted\n",
        "*  MAE = The sum of absolute errors divided by the sample size - [wiki](https://en.wikipedia.org/wiki/Mean_absolute_error)"
      ],
      "metadata": {
        "id": "u1v9rQ5YpDEu"
      }
    },
    {
      "cell_type": "markdown",
      "source": [
        "Our script caclulates the House Price MAE in $ for the training model"
      ],
      "metadata": {
        "id": "5mPHqsy2tjvd"
      }
    },
    {
      "cell_type": "code",
      "source": [
        "# import scikit library\n",
        "from sklearn.metrics import mean_absolute_error\n",
        "\n",
        "# calculate house price MAE for training model\n",
        "predicted_home_prices = iowa_model.predict(X)\n",
        "mean_absolute_error(y, predicted_home_prices)"
      ],
      "metadata": {
        "colab": {
          "base_uri": "https://localhost:8080/"
        },
        "id": "Xvr28NhRq2dR",
        "outputId": "f6a939b7-4ad1-47b2-9e36-f90f687db6f3"
      },
      "execution_count": 22,
      "outputs": [
        {
          "output_type": "execute_result",
          "data": {
            "text/plain": [
              "7395.041324200913"
            ]
          },
          "metadata": {},
          "execution_count": 22
        }
      ]
    },
    {
      "cell_type": "markdown",
      "source": [
        "... and for the validation model"
      ],
      "metadata": {
        "id": "m3lGogA-pK41"
      }
    },
    {
      "cell_type": "code",
      "source": [
        "# get predicted prices on validation data\n",
        "val_predictions = iowa_model.predict(val_X)\n",
        "\n",
        "# calculate house price MAE for the validation model\n",
        "mean_absolute_error(val_y, val_predictions)"
      ],
      "metadata": {
        "colab": {
          "base_uri": "https://localhost:8080/"
        },
        "id": "4v20MsgHonXB",
        "outputId": "ad17ee60-8378-4964-87fb-dba61d841664"
      },
      "execution_count": 23,
      "outputs": [
        {
          "output_type": "execute_result",
          "data": {
            "text/plain": [
              "29394.594520547944"
            ]
          },
          "metadata": {},
          "execution_count": 23
        }
      ]
    },
    {
      "cell_type": "markdown",
      "source": [
        "Our model shows bias\n",
        "\n",
        "*   Test data MAE is $7,395.04\n",
        "\n",
        "*   Validation data MAE is $29,394.59\n",
        "\n",
        "We are going to have to refine the model"
      ],
      "metadata": {
        "id": "ahYknCIM_Afr"
      }
    }
  ]
}
