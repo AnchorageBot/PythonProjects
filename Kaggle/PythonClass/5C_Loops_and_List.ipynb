{
  "nbformat": 4,
  "nbformat_minor": 0,
  "metadata": {
    "colab": {
      "provenance": [],
      "authorship_tag": "ABX9TyO0vqIrOcEtgnJlO64kQ5w0"
    },
    "kernelspec": {
      "name": "python3",
      "display_name": "Python 3"
    },
    "language_info": {
      "name": "python"
    }
  },
  "cells": [
    {
      "cell_type": "markdown",
      "source": [
        "Kaggle - Python - Problem\n",
        "* For loop"
      ],
      "metadata": {
        "id": "affz-DZ6BfLI"
      }
    },
    {
      "cell_type": "code",
      "execution_count": 4,
      "metadata": {
        "colab": {
          "base_uri": "https://localhost:8080/"
        },
        "id": "OrYt83rWA8kj",
        "outputId": "d84a0318-ab0e-4b4a-db94-c3aa38f5551e"
      },
      "outputs": [
        {
          "output_type": "stream",
          "name": "stdout",
          "text": [
            "2\n",
            "4\n",
            "8\n",
            "24\n",
            "72\n",
            "360\n"
          ]
        }
      ],
      "source": [
        "multiplicands = (2, 2, 2, 3, 3, 5)\n",
        "product = 1\n",
        "\n",
        "for mult in multiplicands:\n",
        "    product = product * mult\n",
        "    print(product)\n"
      ]
    },
    {
      "cell_type": "code",
      "source": [
        "multiplicands = (2, 2, 2, 3, 3, 5)\n",
        "product = 1\n",
        "\n",
        "for mult in multiplicands:\n",
        "    product = product * mult\n",
        "\n",
        "product"
      ],
      "metadata": {
        "colab": {
          "base_uri": "https://localhost:8080/"
        },
        "id": "mngITzpbBWSK",
        "outputId": "8d443380-a7f2-403c-de5e-586c151230f3"
      },
      "execution_count": 3,
      "outputs": [
        {
          "output_type": "execute_result",
          "data": {
            "text/plain": [
              "360"
            ]
          },
          "metadata": {},
          "execution_count": 3
        }
      ]
    }
  ]
}
