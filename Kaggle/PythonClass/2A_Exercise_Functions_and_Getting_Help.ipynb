{
  "metadata": {
    "kernelspec": {
      "language": "python",
      "display_name": "Python 3",
      "name": "python3"
    },
    "language_info": {
      "pygments_lexer": "ipython3",
      "nbconvert_exporter": "python",
      "version": "3.6.4",
      "file_extension": ".py",
      "codemirror_mode": {
        "name": "ipython",
        "version": 3
      },
      "name": "python",
      "mimetype": "text/x-python"
    },
    "kaggle": {
      "accelerator": "none",
      "dataSources": [],
      "isInternetEnabled": false,
      "language": "python",
      "sourceType": "notebook",
      "isGpuEnabled": false
    },
    "colab": {
      "name": "Exercise: Functions and Getting Help",
      "provenance": []
    }
  },
  "nbformat_minor": 0,
  "nbformat": 4,
  "cells": [
    {
      "cell_type": "markdown",
      "source": [
        "**This notebook is an exercise in the [Python](https://www.kaggle.com/learn/python) course.  You can reference the tutorial at [this link](https://www.kaggle.com/colinmorris/functions-and-getting-help).**\n",
        "\n",
        "---\n"
      ],
      "metadata": {
        "id": "vkTJLnjEL2fX"
      }
    },
    {
      "cell_type": "markdown",
      "source": [
        "Functions are powerful. Try writing some yourself.\n",
        "\n",
        "As before, don't forget to run the setup code below before jumping into question 1."
      ],
      "metadata": {
        "id": "nilDMrWFL2fZ"
      }
    },
    {
      "cell_type": "code",
      "source": [
        "# SETUP. You don't need to worry for now about what this code does or how it works.\n",
        "from learntools.core import binder; binder.bind(globals())\n",
        "from learntools.python.ex2 import *\n",
        "print('Setup complete.')"
      ],
      "metadata": {
        "_kg_hide-input": true,
        "_kg_hide-output": true,
        "execution": {
          "iopub.status.busy": "2021-08-08T12:52:25.901406Z",
          "iopub.execute_input": "2021-08-08T12:52:25.901741Z",
          "iopub.status.idle": "2021-08-08T12:52:26.038833Z",
          "shell.execute_reply.started": "2021-08-08T12:52:25.901649Z",
          "shell.execute_reply": "2021-08-08T12:52:26.037801Z"
        },
        "trusted": true,
        "id": "jRW8Fh7dL2fZ"
      },
      "outputs": [],
      "execution_count": null
    },
    {
      "cell_type": "markdown",
      "source": [
        "# 1.\n",
        "\n",
        "Complete the body of the following function according to its docstring.\n",
        "\n",
        "HINT: Python has a built-in function `round`."
      ],
      "metadata": {
        "id": "lTqz_1q6L2fZ"
      }
    },
    {
      "cell_type": "code",
      "source": [
        "def round_to_two_places(num):\n",
        "    \"\"\"Return the given number rounded to two decimal places.\n",
        "\n",
        "    >>> round_to_two_places(3.14159)\n",
        "    3.14\n",
        "    \"\"\"\n",
        "    # Replace this body with your own code.\n",
        "    # (\"pass\" is a keyword that does literally nothing. We used it as a placeholder\n",
        "    # because after we begin a code block, Python requires at least one line of code)\n",
        "\n",
        "    #num = 3.14159\n",
        "    #round_num = round(num,2)\n",
        "    #print(round_num)\n",
        "\n",
        "    return(round(num,2))\n",
        "\n",
        "# Check your answer\n",
        "q1.check()"
      ],
      "metadata": {
        "execution": {
          "iopub.status.busy": "2021-08-08T13:06:25.704058Z",
          "iopub.execute_input": "2021-08-08T13:06:25.704384Z",
          "iopub.status.idle": "2021-08-08T13:06:25.712263Z",
          "shell.execute_reply.started": "2021-08-08T13:06:25.704355Z",
          "shell.execute_reply": "2021-08-08T13:06:25.711458Z"
        },
        "trusted": true,
        "id": "1OnzqMwdL2fZ"
      },
      "outputs": [],
      "execution_count": null
    },
    {
      "cell_type": "code",
      "source": [
        "# Uncomment the following for a hint\n",
        "#q1.hint()\n",
        "# Or uncomment the following to peek at the solution\n",
        "#q1.solution()"
      ],
      "metadata": {
        "execution": {
          "iopub.status.busy": "2021-08-08T12:59:55.415811Z",
          "iopub.execute_input": "2021-08-08T12:59:55.416345Z",
          "iopub.status.idle": "2021-08-08T12:59:55.424401Z",
          "shell.execute_reply.started": "2021-08-08T12:59:55.416311Z",
          "shell.execute_reply": "2021-08-08T12:59:55.423435Z"
        },
        "trusted": true,
        "id": "H0inGJj_L2fa"
      },
      "outputs": [],
      "execution_count": null
    },
    {
      "cell_type": "markdown",
      "source": [
        "# 2.\n",
        "The help for `round` says that `ndigits` (the second argument) may be negative.\n",
        "What do you think will happen when it is? Try some examples in the following cell."
      ],
      "metadata": {
        "id": "k81TtrbgL2fa"
      }
    },
    {
      "cell_type": "code",
      "source": [
        "# Put your test code here\n",
        "num = 3.14159\n",
        "round(num, -1)"
      ],
      "metadata": {
        "execution": {
          "iopub.status.busy": "2021-08-08T13:07:47.471595Z",
          "iopub.execute_input": "2021-08-08T13:07:47.471938Z",
          "iopub.status.idle": "2021-08-08T13:07:47.478887Z",
          "shell.execute_reply.started": "2021-08-08T13:07:47.471908Z",
          "shell.execute_reply": "2021-08-08T13:07:47.477887Z"
        },
        "trusted": true,
        "id": "JSsic-AxL2fa"
      },
      "outputs": [],
      "execution_count": null
    },
    {
      "cell_type": "markdown",
      "source": [
        "Can you think of a case where this would be useful?  Once you're ready, run the code cell below to see the answer and to receive credit for completing the problem."
      ],
      "metadata": {
        "id": "PoNXdhDlL2fa"
      }
    },
    {
      "cell_type": "code",
      "source": [
        "# Check your answer (Run this code cell to receive credit!)\n",
        "q2.solution()"
      ],
      "metadata": {
        "execution": {
          "iopub.status.busy": "2021-08-08T13:08:37.825595Z",
          "iopub.execute_input": "2021-08-08T13:08:37.825997Z",
          "iopub.status.idle": "2021-08-08T13:08:37.833611Z",
          "shell.execute_reply.started": "2021-08-08T13:08:37.825953Z",
          "shell.execute_reply": "2021-08-08T13:08:37.832674Z"
        },
        "trusted": true,
        "id": "1F6d0G2xL2fa"
      },
      "outputs": [],
      "execution_count": null
    },
    {
      "cell_type": "markdown",
      "source": [
        "# 3.\n",
        "\n",
        "In the previous exercise, the candy-sharing friends Alice, Bob and Carol tried to split candies evenly. For the sake of their friendship, any candies left over would be smashed. For example, if they collectively bring home 91 candies, they'll take 30 each and smash 1.\n",
        "\n",
        "Below is a simple function that will calculate the number of candies to smash for *any* number of total candies.\n",
        "\n",
        "Modify it so that it optionally takes a second argument representing the number of friends the candies are being split between. If no second argument is provided, it should assume 3 friends, as before.\n",
        "\n",
        "Update the docstring to reflect this new behaviour."
      ],
      "metadata": {
        "id": "XIXbb4TZL2fa"
      }
    },
    {
      "cell_type": "code",
      "source": [
        "def to_smash(total_candies=10, number_friends=3):\n",
        "    \"\"\"Return the number of leftover candies that must be smashed after distributing\n",
        "    the given number of candies evenly between the given number of friends.\n",
        "\n",
        "    >>> to_smash(10,3)\n",
        "    1\n",
        "    \"\"\"\n",
        "\n",
        "    return total_candies % number_friends\n",
        "\n",
        "# Check your answer\n",
        "q3.check()"
      ],
      "metadata": {
        "execution": {
          "iopub.status.busy": "2021-08-08T13:28:53.892864Z",
          "iopub.execute_input": "2021-08-08T13:28:53.89352Z",
          "iopub.status.idle": "2021-08-08T13:28:53.901926Z",
          "shell.execute_reply.started": "2021-08-08T13:28:53.893472Z",
          "shell.execute_reply": "2021-08-08T13:28:53.901263Z"
        },
        "trusted": true,
        "id": "jFZ-aS0OL2fa"
      },
      "outputs": [],
      "execution_count": null
    },
    {
      "cell_type": "code",
      "source": [
        "#q3.hint()"
      ],
      "metadata": {
        "id": "3tp7o7BTL2fa"
      },
      "outputs": [],
      "execution_count": null
    },
    {
      "cell_type": "code",
      "source": [
        "q3.solution()"
      ],
      "metadata": {
        "execution": {
          "iopub.status.busy": "2021-08-08T13:20:18.927486Z",
          "iopub.execute_input": "2021-08-08T13:20:18.927857Z",
          "iopub.status.idle": "2021-08-08T13:20:18.93658Z",
          "shell.execute_reply.started": "2021-08-08T13:20:18.927823Z",
          "shell.execute_reply": "2021-08-08T13:20:18.935602Z"
        },
        "trusted": true,
        "id": "mo62FmqSL2fb"
      },
      "outputs": [],
      "execution_count": null
    },
    {
      "cell_type": "markdown",
      "source": [
        "# 4. (Optional)\n",
        "\n",
        "It may not be fun, but reading and understanding error messages will be an important part of your Python career.\n",
        "\n",
        "Each code cell below contains some commented buggy code. For each cell...\n",
        "\n",
        "1. Read the code and predict what you think will happen when it's run.\n",
        "2. Then uncomment the code and run it to see what happens. (**Tip**: In the kernel editor, you can highlight several lines and press `ctrl`+`/` to toggle commenting.)\n",
        "3. Fix the code (so that it accomplishes its intended purpose without throwing an exception)\n",
        "\n",
        "<!-- TODO: should this be autochecked? Delta is probably pretty small. -->"
      ],
      "metadata": {
        "id": "njSFN5NWL2fb"
      }
    },
    {
      "cell_type": "code",
      "source": [
        "# ruound_to_two_places(9.9999)\n",
        "def round_two_places(num):\n",
        "    return(round(num,2))\n",
        "\n",
        "round_two_places(9.9999)"
      ],
      "metadata": {
        "execution": {
          "iopub.status.busy": "2021-08-08T13:37:42.552102Z",
          "iopub.execute_input": "2021-08-08T13:37:42.552635Z",
          "iopub.status.idle": "2021-08-08T13:37:42.561551Z",
          "shell.execute_reply.started": "2021-08-08T13:37:42.552595Z",
          "shell.execute_reply": "2021-08-08T13:37:42.560851Z"
        },
        "trusted": true,
        "id": "VoKM80asL2fb"
      },
      "outputs": [],
      "execution_count": null
    },
    {
      "cell_type": "code",
      "source": [],
      "metadata": {
        "id": "W1-eZgNQL2fb"
      },
      "outputs": [],
      "execution_count": null
    },
    {
      "cell_type": "markdown",
      "source": [],
      "metadata": {
        "id": "wt7gUZbsL2fb"
      }
    },
    {
      "cell_type": "markdown",
      "source": [],
      "metadata": {
        "id": "C4mJd3ouL2fb"
      }
    },
    {
      "cell_type": "code",
      "source": [
        "# x = -10\n",
        "# y = 5\n",
        "# # Which of the two variables above has the smallest absolute value?\n",
        "# smallest_abs = min(abs(x, y))\n",
        "\n",
        "def min_abs_value(x,y):\n",
        "    return(min(abs(x), abs(y)))\n",
        "\n",
        "min_abs_value(-10,25)"
      ],
      "metadata": {
        "execution": {
          "iopub.status.busy": "2021-08-08T14:01:54.020459Z",
          "iopub.execute_input": "2021-08-08T14:01:54.020795Z",
          "iopub.status.idle": "2021-08-08T14:01:54.027956Z",
          "shell.execute_reply.started": "2021-08-08T14:01:54.020766Z",
          "shell.execute_reply": "2021-08-08T14:01:54.026955Z"
        },
        "trusted": true,
        "id": "Hm2NtM4ZL2fb"
      },
      "outputs": [],
      "execution_count": null
    },
    {
      "cell_type": "code",
      "source": [
        "# def f(x):\n",
        "#     y = abs(x)\n",
        "# return y\n",
        "\n",
        "# print(f(5))\n",
        "\n",
        "def function_of_x(x):\n",
        "    return(abs(x))\n",
        "\n",
        "function_of_x(-7)"
      ],
      "metadata": {
        "execution": {
          "iopub.status.busy": "2021-08-08T14:12:09.922245Z",
          "iopub.execute_input": "2021-08-08T14:12:09.922605Z",
          "iopub.status.idle": "2021-08-08T14:12:09.928926Z",
          "shell.execute_reply.started": "2021-08-08T14:12:09.922563Z",
          "shell.execute_reply": "2021-08-08T14:12:09.928235Z"
        },
        "trusted": true,
        "id": "Th3AEziRL2fb"
      },
      "outputs": [],
      "execution_count": null
    },
    {
      "cell_type": "markdown",
      "source": [
        "# Keep Going\n",
        "\n",
        "Nice job with the code. Next up, you'll learn about *conditionals*, which you'll need to **[write interesting programs](https://www.kaggle.com/colinmorris/booleans-and-conditionals)**."
      ],
      "metadata": {
        "id": "dt1CN0Z0L2fb"
      }
    },
    {
      "cell_type": "markdown",
      "source": [
        "---\n",
        "\n",
        "\n",
        "\n",
        "\n",
        "*Have questions or comments? Visit the [Learn Discussion forum](https://www.kaggle.com/learn-forum/161283) to chat with other Learners.*"
      ],
      "metadata": {
        "id": "z0KxT0wIL2fb"
      }
    }
  ]
}
