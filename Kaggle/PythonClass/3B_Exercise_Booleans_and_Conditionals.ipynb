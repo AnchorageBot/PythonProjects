{
  "metadata": {
    "kernelspec": {
      "language": "python",
      "display_name": "Python 3",
      "name": "python3"
    },
    "language_info": {
      "name": "python",
      "version": "3.10.14",
      "mimetype": "text/x-python",
      "codemirror_mode": {
        "name": "ipython",
        "version": 3
      },
      "pygments_lexer": "ipython3",
      "nbconvert_exporter": "python",
      "file_extension": ".py"
    },
    "kaggle": {
      "accelerator": "none",
      "dataSources": [],
      "isInternetEnabled": false,
      "language": "python",
      "sourceType": "notebook",
      "isGpuEnabled": false
    },
    "colab": {
      "name": "Exercise: Booleans and Conditionals",
      "provenance": []
    }
  },
  "nbformat_minor": 0,
  "nbformat": 4,
  "cells": [
    {
      "cell_type": "markdown",
      "source": [
        "**This notebook is an exercise in the [Python](https://www.kaggle.com/learn/python) course.  You can reference the tutorial at [this link](https://www.kaggle.com/colinmorris/booleans-and-conditionals).**\n",
        "\n",
        "---\n"
      ],
      "metadata": {
        "id": "eOuY64DEV5W7"
      }
    },
    {
      "cell_type": "markdown",
      "source": [
        "In this exercise, you'll put to work what you have learned about booleans and conditionals.\n",
        "\n",
        "To get started, **run the setup code below** before writing your own code (and if you leave this notebook and come back later, don't forget to run the setup code again)."
      ],
      "metadata": {
        "id": "umBbZxqsV5W-"
      }
    },
    {
      "cell_type": "code",
      "source": [
        "from learntools.core import binder; binder.bind(globals())\n",
        "from learntools.python.ex3 import *\n",
        "print('Setup complete.')"
      ],
      "metadata": {
        "execution": {
          "iopub.status.busy": "2024-11-24T22:29:32.991803Z",
          "iopub.execute_input": "2024-11-24T22:29:32.992546Z",
          "iopub.status.idle": "2024-11-24T22:29:34.535439Z",
          "shell.execute_reply.started": "2024-11-24T22:29:32.99246Z",
          "shell.execute_reply": "2024-11-24T22:29:34.534287Z"
        },
        "trusted": true,
        "id": "Do6WEZb9V5W_",
        "outputId": "9df64736-1611-4e54-c05a-2fd4730a765c"
      },
      "outputs": [
        {
          "name": "stdout",
          "text": "Setup complete.\n",
          "output_type": "stream"
        }
      ],
      "execution_count": null
    },
    {
      "cell_type": "markdown",
      "source": [
        "# 1.\n",
        "\n",
        "Many programming languages have [`sign`](https://en.wikipedia.org/wiki/Sign_function) available as a built-in function. Python doesn't, but we can define our own!\n",
        "\n",
        "In the cell below, define a function called `sign` which takes a numerical argument and returns -1 if it's negative, 1 if it's positive, and 0 if it's 0."
      ],
      "metadata": {
        "id": "6q6f8hhSV5XA"
      }
    },
    {
      "cell_type": "code",
      "source": [
        "# Your code goes here. Define a function called 'sign'\n",
        "def sign(numerical_argument):\n",
        "    if numerical_argument < 0:\n",
        "      return -1\n",
        "    elif numerical_argument > 0:\n",
        "      return 1\n",
        "    elif numerical_argument == 0:\n",
        "      return 0\n",
        "# Check your answer\n",
        "q1.check()"
      ],
      "metadata": {
        "execution": {
          "iopub.status.busy": "2024-11-24T22:29:40.582097Z",
          "iopub.execute_input": "2024-11-24T22:29:40.583571Z",
          "iopub.status.idle": "2024-11-24T22:29:40.593518Z",
          "shell.execute_reply.started": "2024-11-24T22:29:40.583458Z",
          "shell.execute_reply": "2024-11-24T22:29:40.592467Z"
        },
        "trusted": true,
        "id": "oWqsz6ehV5XB",
        "outputId": "00690cd5-46e9-44a1-8238-e913e7f0e71d"
      },
      "outputs": [
        {
          "output_type": "display_data",
          "data": {
            "text/plain": "<IPython.core.display.Javascript object>",
            "application/javascript": "parent.postMessage({\"jupyterEvent\": \"custom.exercise_interaction\", \"data\": {\"outcomeType\": 1, \"valueTowardsCompletion\": 0.2, \"interactionType\": 1, \"questionType\": 2, \"questionId\": \"1_SignFunctionProblem\", \"learnToolsVersion\": \"0.3.4\", \"failureMessage\": \"\", \"exceptionClass\": \"\", \"trace\": \"\"}}, \"*\")"
          },
          "metadata": {}
        },
        {
          "output_type": "display_data",
          "data": {
            "text/plain": "Correct",
            "text/markdown": "<span style=\"color:#33cc33\">Correct</span>"
          },
          "metadata": {}
        }
      ],
      "execution_count": null
    },
    {
      "cell_type": "code",
      "source": [],
      "metadata": {
        "id": "C9o38w_wV5XB"
      },
      "outputs": [],
      "execution_count": null
    },
    {
      "cell_type": "code",
      "source": [
        "#q1.solution()"
      ],
      "metadata": {
        "execution": {
          "iopub.status.busy": "2021-08-10T19:03:47.562985Z",
          "iopub.execute_input": "2021-08-10T19:03:47.56335Z",
          "iopub.status.idle": "2021-08-10T19:03:47.566716Z",
          "shell.execute_reply.started": "2021-08-10T19:03:47.563316Z",
          "shell.execute_reply": "2021-08-10T19:03:47.566046Z"
        },
        "trusted": true,
        "id": "X9LmWnzhV5XB"
      },
      "outputs": [],
      "execution_count": null
    },
    {
      "cell_type": "markdown",
      "source": [
        "# 2.\n",
        "\n",
        "We've decided to add \"logging\" to our `to_smash` function from the previous exercise."
      ],
      "metadata": {
        "id": "X8K3V1-sV5XB"
      }
    },
    {
      "cell_type": "code",
      "source": [
        "def to_smash(total_candies):\n",
        "    \"\"\"Return the number of leftover candies that must be smashed after distributing\n",
        "    the given number of candies evenly between 3 friends.\n",
        "\n",
        "    >>> to_smash(91)\n",
        "    1\n",
        "    \"\"\"\n",
        "    print(\"Splitting\", total_candies, \"candies\")\n",
        "    return total_candies % 3\n",
        "\n",
        "to_smash(1)"
      ],
      "metadata": {
        "execution": {
          "iopub.status.busy": "2024-11-24T22:30:06.112279Z",
          "iopub.execute_input": "2024-11-24T22:30:06.112685Z",
          "iopub.status.idle": "2024-11-24T22:30:06.121879Z",
          "shell.execute_reply.started": "2024-11-24T22:30:06.112647Z",
          "shell.execute_reply": "2024-11-24T22:30:06.120832Z"
        },
        "trusted": true,
        "id": "FevwFO0TV5XC",
        "outputId": "ab1e0825-3aa2-4f31-a8f1-d45b8023b055"
      },
      "outputs": [
        {
          "name": "stdout",
          "text": "Splitting 1 candies\n",
          "output_type": "stream"
        },
        {
          "execution_count": 3,
          "output_type": "execute_result",
          "data": {
            "text/plain": "1"
          },
          "metadata": {}
        }
      ],
      "execution_count": null
    },
    {
      "cell_type": "markdown",
      "source": [
        "What happens if we call it with `total_candies = 1`?"
      ],
      "metadata": {
        "id": "Qk6bZ5zIV5XC"
      }
    },
    {
      "cell_type": "code",
      "source": [
        "to_smash(1)"
      ],
      "metadata": {
        "execution": {
          "iopub.status.busy": "2024-11-24T22:31:19.202702Z",
          "iopub.execute_input": "2024-11-24T22:31:19.203155Z",
          "iopub.status.idle": "2024-11-24T22:31:19.210433Z",
          "shell.execute_reply.started": "2024-11-24T22:31:19.203116Z",
          "shell.execute_reply": "2024-11-24T22:31:19.209332Z"
        },
        "trusted": true,
        "id": "PQx7q0MKV5XC",
        "outputId": "3ed28ad2-2eb3-41b2-a38f-7f2b58a01aa2"
      },
      "outputs": [
        {
          "name": "stdout",
          "text": "Splitting 1 candies\n",
          "output_type": "stream"
        },
        {
          "execution_count": 4,
          "output_type": "execute_result",
          "data": {
            "text/plain": "1"
          },
          "metadata": {}
        }
      ],
      "execution_count": null
    },
    {
      "cell_type": "markdown",
      "source": [
        "That isn't great grammar!\n",
        "\n",
        "Modify the definition in the cell below to correct the grammar of our print statement. (If there's only one candy, we should use the singular \"candy\" instead of the plural \"candies\")"
      ],
      "metadata": {
        "id": "UIxm99EYV5XC"
      }
    },
    {
      "cell_type": "code",
      "source": [
        "def to_smash(total_candies):\n",
        "    \"\"\"Return the number of leftover candies that must be smashed after distributing\n",
        "    the given number of candies evenly between 3 friends.\n",
        "\n",
        "    >>> to_smash(91)\n",
        "    1\n",
        "    \"\"\"\n",
        "    print(\"Splitting\", total_candies, \"candies\")\n",
        "    return total_candies % 3\n",
        "\n",
        "to_smash(91)\n",
        "to_smash(1)"
      ],
      "metadata": {
        "execution": {
          "iopub.status.busy": "2024-11-24T22:32:07.655147Z",
          "iopub.execute_input": "2024-11-24T22:32:07.65554Z",
          "iopub.status.idle": "2024-11-24T22:32:07.663555Z",
          "shell.execute_reply.started": "2024-11-24T22:32:07.65551Z",
          "shell.execute_reply": "2024-11-24T22:32:07.662416Z"
        },
        "trusted": true,
        "id": "F74eRLTzV5XC",
        "outputId": "a02aabcf-6c08-4d17-d717-5402af38da79"
      },
      "outputs": [
        {
          "name": "stdout",
          "text": "Splitting 91 candies\nSplitting 1 candies\n",
          "output_type": "stream"
        },
        {
          "execution_count": 5,
          "output_type": "execute_result",
          "data": {
            "text/plain": "1"
          },
          "metadata": {}
        }
      ],
      "execution_count": null
    },
    {
      "cell_type": "markdown",
      "source": [
        "To get credit for completing this problem, and to see the official answer, run the code cell below."
      ],
      "metadata": {
        "id": "0K7hGnccV5XD"
      }
    },
    {
      "cell_type": "code",
      "source": [
        "# Check your answer (Run this code cell to receive credit!)\n",
        "q2.solution()"
      ],
      "metadata": {
        "execution": {
          "iopub.status.busy": "2024-11-24T22:32:47.887079Z",
          "iopub.execute_input": "2024-11-24T22:32:47.887481Z",
          "iopub.status.idle": "2024-11-24T22:32:47.897094Z",
          "shell.execute_reply.started": "2024-11-24T22:32:47.887445Z",
          "shell.execute_reply": "2024-11-24T22:32:47.895772Z"
        },
        "trusted": true,
        "id": "WRWH2DxVV5XD",
        "outputId": "e372fec8-d8c2-4a1f-fa59-293610e40870"
      },
      "outputs": [
        {
          "output_type": "display_data",
          "data": {
            "text/plain": "<IPython.core.display.Javascript object>",
            "application/javascript": "parent.postMessage({\"jupyterEvent\": \"custom.exercise_interaction\", \"data\": {\"interactionType\": 3, \"questionType\": 4, \"questionId\": \"2_PluralizationProblem\", \"learnToolsVersion\": \"0.3.4\", \"valueTowardsCompletion\": 0.0, \"failureMessage\": \"\", \"exceptionClass\": \"\", \"trace\": \"\", \"outcomeType\": 4}}, \"*\")"
          },
          "metadata": {}
        },
        {
          "output_type": "display_data",
          "data": {
            "text/plain": "Solution: A straightforward (and totally fine) solution is to replace the original `print` call with:\n\n```python\nif total_candies == 1:\n    print(\"Splitting 1 candy\")\nelse:\n    print(\"Splitting\", total_candies, \"candies\")\n```\n\nHere's a slightly more succinct solution using a conditional expression:\n\n```python\nprint(\"Splitting\", total_candies, \"candy\" if total_candies == 1 else \"candies\")\n```",
            "text/markdown": "<span style=\"color:#33cc99\">Solution:</span> A straightforward (and totally fine) solution is to replace the original `print` call with:\n\n```python\nif total_candies == 1:\n    print(\"Splitting 1 candy\")\nelse:\n    print(\"Splitting\", total_candies, \"candies\")\n```\n\nHere's a slightly more succinct solution using a conditional expression:\n\n```python\nprint(\"Splitting\", total_candies, \"candy\" if total_candies == 1 else \"candies\")\n```"
          },
          "metadata": {}
        }
      ],
      "execution_count": null
    },
    {
      "cell_type": "markdown",
      "source": [
        "# 3. <span title=\"A bit spicy\" style=\"color: darkgreen \">🌶️</span>\n",
        "\n",
        "In the tutorial, we talked about deciding whether we're prepared for the weather. I said that I'm safe from today's weather if...\n",
        "- I have an umbrella...\n",
        "- or if the rain isn't too heavy and I have a hood...\n",
        "- otherwise, I'm still fine unless it's raining *and* it's a workday\n",
        "\n",
        "The function below uses our first attempt at turning this logic into a Python expression. I claimed that there was a bug in that code. Can you find it?\n",
        "\n",
        "To prove that `prepared_for_weather` is buggy, come up with a set of inputs where either:\n",
        "- the function returns `False` (but should have returned `True`), or\n",
        "- the function returned `True` (but should have returned `False`).\n",
        "\n",
        "To get credit for completing this question, your code should return a <font color='#33cc33'>Correct</font> result."
      ],
      "metadata": {
        "id": "BSGQxAiiV5XD"
      }
    },
    {
      "cell_type": "code",
      "source": [
        "def prepared_for_weather(have_umbrella, rain_level, have_hood, is_workday):\n",
        "    # Don't change this code. Our goal is just to find the bug, not fix it!\n",
        "    return have_umbrella or rain_level < 5 and have_hood or not (rain_level > 0 and is_workday)\n",
        "\n",
        "# Change the values of these inputs so they represent a case where prepared_for_weather\n",
        "# returns the wrong answer.\n",
        "have_umbrella = False\n",
        "rain_level = 0.0\n",
        "have_hood = False\n",
        "is_workday = False\n",
        "\n",
        "# Check what the function returns given the current values of the variables above\n",
        "actual = prepared_for_weather(have_umbrella, rain_level, have_hood, is_workday)\n",
        "print(actual)\n",
        "\n",
        "# Check your answer\n",
        "q3.check()"
      ],
      "metadata": {
        "execution": {
          "iopub.status.busy": "2024-11-24T22:36:05.636878Z",
          "iopub.execute_input": "2024-11-24T22:36:05.637309Z",
          "iopub.status.idle": "2024-11-24T22:36:05.649188Z",
          "shell.execute_reply.started": "2024-11-24T22:36:05.637271Z",
          "shell.execute_reply": "2024-11-24T22:36:05.648082Z"
        },
        "trusted": true,
        "id": "v3paBVQHV5XD",
        "outputId": "b1fcf2a7-3d54-408b-e8c8-02a2e92a78be"
      },
      "outputs": [
        {
          "name": "stdout",
          "text": "True\n",
          "output_type": "stream"
        },
        {
          "output_type": "display_data",
          "data": {
            "text/plain": "<IPython.core.display.Javascript object>",
            "application/javascript": "parent.postMessage({\"jupyterEvent\": \"custom.exercise_interaction\", \"data\": {\"outcomeType\": 1, \"valueTowardsCompletion\": 0.2, \"interactionType\": 1, \"questionType\": 1, \"questionId\": \"3_WeatherDebug\", \"learnToolsVersion\": \"0.3.4\", \"failureMessage\": \"\", \"exceptionClass\": \"\", \"trace\": \"\"}}, \"*\")"
          },
          "metadata": {}
        },
        {
          "output_type": "display_data",
          "data": {
            "text/plain": "Correct: \n\nOne example of a failing test case is:\n\n```python\nhave_umbrella = False\nrain_level = 0.0\nhave_hood = False\nis_workday = False\n```\n\nClearly we're prepared for the weather in this case. It's not raining. Not only that, it's not a workday, so we don't even need to leave the house! But our function will return False on these inputs.\n\nThe key problem is that Python implictly parenthesizes the last part as:\n\n```python\n(not (rain_level > 0)) and is_workday\n```\n\nWhereas what we were trying to express would look more like:\n\n```python\nnot (rain_level > 0 and is_workday)\n```",
            "text/markdown": "<span style=\"color:#33cc33\">Correct:</span> \n\nOne example of a failing test case is:\n\n```python\nhave_umbrella = False\nrain_level = 0.0\nhave_hood = False\nis_workday = False\n```\n\nClearly we're prepared for the weather in this case. It's not raining. Not only that, it's not a workday, so we don't even need to leave the house! But our function will return False on these inputs.\n\nThe key problem is that Python implictly parenthesizes the last part as:\n\n```python\n(not (rain_level > 0)) and is_workday\n```\n\nWhereas what we were trying to express would look more like:\n\n```python\nnot (rain_level > 0 and is_workday)\n```\n"
          },
          "metadata": {}
        }
      ],
      "execution_count": null
    },
    {
      "cell_type": "code",
      "source": [
        "#q3.hint()\n",
        "#q3.solution()"
      ],
      "metadata": {
        "execution": {
          "iopub.status.busy": "2024-11-24T22:36:43.557366Z",
          "iopub.execute_input": "2024-11-24T22:36:43.557801Z",
          "iopub.status.idle": "2024-11-24T22:36:43.563203Z",
          "shell.execute_reply.started": "2024-11-24T22:36:43.557761Z",
          "shell.execute_reply": "2024-11-24T22:36:43.561761Z"
        },
        "trusted": true,
        "id": "4dcmkmB2V5XE"
      },
      "outputs": [],
      "execution_count": null
    },
    {
      "cell_type": "code",
      "source": [
        "prepared_for_weather = (\n",
        "    have_umbrella\n",
        "    or ((rain_level < 5) and have_hood)\n",
        "    or (not (rain_level > 0 and is_workday))\n",
        ")"
      ],
      "metadata": {
        "trusted": true,
        "id": "2QAfHK--V5XE"
      },
      "outputs": [],
      "execution_count": null
    },
    {
      "cell_type": "code",
      "source": [
        "prepared_for_weather = have_umbrella or ((rain_level < 5) and have_hood) or (not (rain_level > 0 and is_workday))"
      ],
      "metadata": {
        "trusted": true,
        "id": "KAr5Wyj7V5XE"
      },
      "outputs": [],
      "execution_count": null
    },
    {
      "cell_type": "markdown",
      "source": [
        "# 4.\n",
        "\n",
        "The function `is_negative` below is implemented correctly - it returns True if the given number is negative and False otherwise.\n",
        "\n",
        "However, it's more verbose than it needs to be. We can actually reduce the number of lines of code in this function by *75%* while keeping the same behaviour.\n",
        "\n",
        "See if you can come up with an equivalent body that uses just **one line** of code, and put it in the function `concise_is_negative`. (HINT: you don't even need Python's ternary syntax)"
      ],
      "metadata": {
        "id": "RLSMhmuZV5XE"
      }
    },
    {
      "cell_type": "code",
      "source": [
        "def is_negative(number):\n",
        "    if number < 0:\n",
        "        return True\n",
        "    else:\n",
        "        return False\n",
        "\n",
        "def concise_is_negative(number):\n",
        "    return number < 0\n",
        "\n",
        "# Check your answer\n",
        "q4.check()"
      ],
      "metadata": {
        "execution": {
          "iopub.status.busy": "2024-11-24T22:37:30.917216Z",
          "iopub.execute_input": "2024-11-24T22:37:30.917916Z",
          "iopub.status.idle": "2024-11-24T22:37:30.928097Z",
          "shell.execute_reply.started": "2024-11-24T22:37:30.917873Z",
          "shell.execute_reply": "2024-11-24T22:37:30.926619Z"
        },
        "trusted": true,
        "id": "_kAOUtdfV5XE",
        "outputId": "92955999-6bde-4fad-e61e-5e90a3267515"
      },
      "outputs": [
        {
          "output_type": "display_data",
          "data": {
            "text/plain": "<IPython.core.display.Javascript object>",
            "application/javascript": "parent.postMessage({\"jupyterEvent\": \"custom.exercise_interaction\", \"data\": {\"outcomeType\": 1, \"valueTowardsCompletion\": 0.2, \"interactionType\": 1, \"questionType\": 2, \"questionId\": \"4_ConciseIsNegative\", \"learnToolsVersion\": \"0.3.4\", \"failureMessage\": \"\", \"exceptionClass\": \"\", \"trace\": \"\"}}, \"*\")"
          },
          "metadata": {}
        },
        {
          "output_type": "display_data",
          "data": {
            "text/plain": "Correct",
            "text/markdown": "<span style=\"color:#33cc33\">Correct</span>"
          },
          "metadata": {}
        }
      ],
      "execution_count": null
    },
    {
      "cell_type": "code",
      "source": [
        "#q4.hint()\n",
        "#q4.solution()"
      ],
      "metadata": {
        "execution": {
          "iopub.status.busy": "2021-08-10T21:23:21.225047Z",
          "iopub.execute_input": "2021-08-10T21:23:21.225524Z",
          "iopub.status.idle": "2021-08-10T21:23:21.228486Z",
          "shell.execute_reply.started": "2021-08-10T21:23:21.225491Z",
          "shell.execute_reply": "2021-08-10T21:23:21.227787Z"
        },
        "trusted": true,
        "id": "GQ7NHDOkV5XE"
      },
      "outputs": [],
      "execution_count": null
    },
    {
      "cell_type": "markdown",
      "source": [
        "# 5a.\n",
        "\n",
        "The boolean variables `ketchup`, `mustard` and `onion` represent whether a customer wants a particular topping on their hot dog. We want to implement a number of boolean functions that correspond to some yes-or-no questions about the customer's order. For example:"
      ],
      "metadata": {
        "id": "z7FyiU7iV5XE"
      }
    },
    {
      "cell_type": "code",
      "source": [
        "def onionless(ketchup, mustard, onion):\n",
        "    \"\"\"Return whether the customer doesn't want onions.\n",
        "    \"\"\"\n",
        "    return not onion\n",
        "\n",
        "#customer order\n",
        "ketchup = True\n",
        "mustard = True\n",
        "onion = False\n",
        "\n",
        "hold_the_onion = onionless(ketchup, mustard, onion)\n",
        "print(hold_the_onion)"
      ],
      "metadata": {
        "execution": {
          "iopub.status.busy": "2024-11-24T22:38:08.156797Z",
          "iopub.execute_input": "2024-11-24T22:38:08.157258Z",
          "iopub.status.idle": "2024-11-24T22:38:08.163413Z",
          "shell.execute_reply.started": "2024-11-24T22:38:08.157221Z",
          "shell.execute_reply": "2024-11-24T22:38:08.162305Z"
        },
        "trusted": true,
        "id": "hxHE9f_dV5XF",
        "outputId": "f0f42aeb-beeb-441f-f6e7-e4f925a3bd28"
      },
      "outputs": [
        {
          "name": "stdout",
          "text": "True\n",
          "output_type": "stream"
        }
      ],
      "execution_count": null
    },
    {
      "cell_type": "code",
      "source": [
        "def wants_all_toppings(ketchup, mustard, onion):\n",
        "    \"\"\"Return whether the customer wants \"the works\" (all 3 toppings)\n",
        "    \"\"\"\n",
        "    return ketchup and mustard and onion\n",
        "\n",
        "#customer order\n",
        "ketchup = True\n",
        "mustard = True\n",
        "onion = True\n",
        "\n",
        "the_works = wants_all_toppings(ketchup, mustard, onion)\n",
        "print(the_works)\n",
        "\n",
        "# Check your answer\n",
        "q5.a.check()"
      ],
      "metadata": {
        "execution": {
          "iopub.status.busy": "2024-11-24T22:38:41.097117Z",
          "iopub.execute_input": "2024-11-24T22:38:41.097516Z",
          "iopub.status.idle": "2024-11-24T22:38:41.10913Z",
          "shell.execute_reply.started": "2024-11-24T22:38:41.09748Z",
          "shell.execute_reply": "2024-11-24T22:38:41.107823Z"
        },
        "trusted": true,
        "id": "ozmVVIyvV5XF",
        "outputId": "19718bda-597c-45f6-948d-8290a02a7fb2"
      },
      "outputs": [
        {
          "name": "stdout",
          "text": "True\n",
          "output_type": "stream"
        },
        {
          "output_type": "display_data",
          "data": {
            "text/plain": "<IPython.core.display.Javascript object>",
            "application/javascript": "parent.postMessage({\"jupyterEvent\": \"custom.exercise_interaction\", \"data\": {\"outcomeType\": 1, \"valueTowardsCompletion\": 0.2, \"interactionType\": 1, \"questionType\": 2, \"questionId\": \"5.1_AllToppings\", \"learnToolsVersion\": \"0.3.4\", \"failureMessage\": \"\", \"exceptionClass\": \"\", \"trace\": \"\"}}, \"*\")"
          },
          "metadata": {}
        },
        {
          "output_type": "display_data",
          "data": {
            "text/plain": "Correct",
            "text/markdown": "<span style=\"color:#33cc33\">Correct</span>"
          },
          "metadata": {}
        }
      ],
      "execution_count": null
    },
    {
      "cell_type": "code",
      "source": [
        "#q5.a.hint()\n",
        "#q5.a.solution()"
      ],
      "metadata": {
        "id": "_kXRc2HRV5XF"
      },
      "outputs": [],
      "execution_count": null
    },
    {
      "cell_type": "markdown",
      "source": [
        "# 5b.\n",
        "\n",
        "For the next function, fill in the body to match the English description in the docstring."
      ],
      "metadata": {
        "id": "9OQwL5MbV5XF"
      }
    },
    {
      "cell_type": "code",
      "source": [
        "def wants_plain_hotdog(ketchup, mustard, onion):\n",
        "    \"\"\"Return whether the customer wants a plain hot dog with no toppings.\n",
        "    \"\"\"\n",
        "    #return not ketchup and not mustard and not onion\n",
        "    return not (ketchup or mustard or onion)\n",
        "\n",
        "# customer order\n",
        "ketchup = False\n",
        "mustard = False\n",
        "onion = False\n",
        "\n",
        "plain_dog = wants_plain_hotdog(ketchup, mustard, onion)\n",
        "print(plain_dog)\n",
        "\n",
        "# Check your answer\n",
        "q5.b.check()"
      ],
      "metadata": {
        "execution": {
          "iopub.status.busy": "2024-11-24T22:38:55.2473Z",
          "iopub.execute_input": "2024-11-24T22:38:55.247694Z",
          "iopub.status.idle": "2024-11-24T22:38:55.259079Z",
          "shell.execute_reply.started": "2024-11-24T22:38:55.247658Z",
          "shell.execute_reply": "2024-11-24T22:38:55.257917Z"
        },
        "trusted": true,
        "id": "MVHSTOBDV5XF",
        "outputId": "a2acafec-02ce-421d-d9fe-68efb21994cd"
      },
      "outputs": [
        {
          "name": "stdout",
          "text": "True\n",
          "output_type": "stream"
        },
        {
          "output_type": "display_data",
          "data": {
            "text/plain": "<IPython.core.display.Javascript object>",
            "application/javascript": "parent.postMessage({\"jupyterEvent\": \"custom.exercise_interaction\", \"data\": {\"outcomeType\": 1, \"valueTowardsCompletion\": 0.2, \"interactionType\": 1, \"questionType\": 2, \"questionId\": \"5.2_PlainDog\", \"learnToolsVersion\": \"0.3.4\", \"failureMessage\": \"\", \"exceptionClass\": \"\", \"trace\": \"\"}}, \"*\")"
          },
          "metadata": {}
        },
        {
          "output_type": "display_data",
          "data": {
            "text/plain": "Correct: \n\nOne solution looks like:\n```python\nreturn not ketchup and not mustard and not onion\n```\n\nWe can also [\"factor out\" the nots](https://en.wikipedia.org/wiki/De_Morgan%27s_laws) to get:\n\n```python\nreturn not (ketchup or mustard or onion)\n```",
            "text/markdown": "<span style=\"color:#33cc33\">Correct:</span> \n\nOne solution looks like:\n```python\nreturn not ketchup and not mustard and not onion\n```\n\nWe can also [\"factor out\" the nots](https://en.wikipedia.org/wiki/De_Morgan%27s_laws) to get:\n\n```python\nreturn not (ketchup or mustard or onion)\n```"
          },
          "metadata": {}
        }
      ],
      "execution_count": null
    },
    {
      "cell_type": "code",
      "source": [
        "#q5.b.hint()\n",
        "#q5.b.solution()"
      ],
      "metadata": {
        "execution": {
          "iopub.status.busy": "2021-08-10T21:40:53.108173Z",
          "iopub.execute_input": "2021-08-10T21:40:53.10853Z",
          "iopub.status.idle": "2021-08-10T21:40:53.111741Z",
          "shell.execute_reply.started": "2021-08-10T21:40:53.108501Z",
          "shell.execute_reply": "2021-08-10T21:40:53.110957Z"
        },
        "trusted": true,
        "id": "LQBR_O-9V5XG"
      },
      "outputs": [],
      "execution_count": null
    },
    {
      "cell_type": "markdown",
      "source": [
        "# 5c.\n",
        "\n",
        "You know what to do: for the next function, fill in the body to match the English description in the docstring."
      ],
      "metadata": {
        "id": "t7Jv9zzZV5XG"
      }
    },
    {
      "cell_type": "code",
      "source": [
        "def exactly_one_sauce(ketchup, mustard, onion):\n",
        "    \"\"\"Return whether the customer wants either ketchup or mustard, but not both.\n",
        "    (You may be familiar with this operation under the name \"exclusive or\")\n",
        "    \"\"\"\n",
        "    return onion and (ketchup and not mustard) or (mustard and not ketchup)\n",
        "\n",
        "# customer order\n",
        "ketchup = True\n",
        "mustard = False\n",
        "onion = True\n",
        "\n",
        "order = exactly_one_sauce(ketchup, mustard, onion)\n",
        "print(order)\n",
        "\n",
        "# Check your answer\n",
        "q5.c.check()"
      ],
      "metadata": {
        "execution": {
          "iopub.status.busy": "2024-11-24T22:39:35.657245Z",
          "iopub.execute_input": "2024-11-24T22:39:35.657669Z",
          "iopub.status.idle": "2024-11-24T22:39:35.668964Z",
          "shell.execute_reply.started": "2024-11-24T22:39:35.657633Z",
          "shell.execute_reply": "2024-11-24T22:39:35.667704Z"
        },
        "trusted": true,
        "id": "52tytkV3V5XG",
        "outputId": "3978979c-4a9d-48b6-f6a8-ac20db21bbe7"
      },
      "outputs": [
        {
          "name": "stdout",
          "text": "True\n",
          "output_type": "stream"
        },
        {
          "output_type": "display_data",
          "data": {
            "text/plain": "<IPython.core.display.Javascript object>",
            "application/javascript": "parent.postMessage({\"jupyterEvent\": \"custom.exercise_interaction\", \"data\": {\"outcomeType\": 1, \"valueTowardsCompletion\": 0.2, \"interactionType\": 1, \"questionType\": 2, \"questionId\": \"5.3_OneSauce\", \"learnToolsVersion\": \"0.3.4\", \"failureMessage\": \"\", \"exceptionClass\": \"\", \"trace\": \"\"}}, \"*\")"
          },
          "metadata": {}
        },
        {
          "output_type": "display_data",
          "data": {
            "text/plain": "Correct",
            "text/markdown": "<span style=\"color:#33cc33\">Correct</span>"
          },
          "metadata": {}
        }
      ],
      "execution_count": null
    },
    {
      "cell_type": "code",
      "source": [
        "#q5.c.hint()\n",
        "#q5.c.solution()"
      ],
      "metadata": {
        "execution": {
          "iopub.status.busy": "2021-08-10T21:50:14.333766Z",
          "iopub.execute_input": "2021-08-10T21:50:14.334145Z",
          "iopub.status.idle": "2021-08-10T21:50:14.344054Z",
          "shell.execute_reply.started": "2021-08-10T21:50:14.334112Z",
          "shell.execute_reply": "2021-08-10T21:50:14.342786Z"
        },
        "trusted": true,
        "id": "7cBL38OUV5XG"
      },
      "outputs": [],
      "execution_count": null
    },
    {
      "cell_type": "markdown",
      "source": [
        "# 6. <span title=\"A bit spicy\" style=\"color: darkgreen \">🌶️</span>\n",
        "\n",
        "We’ve seen that calling `bool()` on an integer returns `False` if it’s equal to 0 and `True` otherwise. What happens if we call `int()` on a bool? Try it out in the notebook cell below.\n",
        "\n",
        "Can you take advantage of this to write a succinct function that corresponds to the English sentence \"does the customer want exactly one topping?\"?"
      ],
      "metadata": {
        "id": "rb0EDMgJV5XG"
      }
    },
    {
      "cell_type": "code",
      "source": [
        "def exactly_one_topping(ketchup, mustard, onion):\n",
        "    \"\"\"Return whether the customer wants exactly one of the three\n",
        "    available toppings on their hot dog.\n",
        "    \"\"\"\n",
        "    toppings = int(ketchup + mustard + onion)\n",
        "    if toppings == 1:\n",
        "      return True\n",
        "    else:\n",
        "      return False\n",
        "\n",
        "# customer order\n",
        "ketchup = True\n",
        "mustard = True\n",
        "onions = False\n",
        "\n",
        "#toppings = int(ketchup + mustard + onions)\n",
        "#print(toppings)\n",
        "\n",
        "# Check your answe\n",
        "q6.check()"
      ],
      "metadata": {
        "execution": {
          "iopub.status.busy": "2024-11-24T22:39:57.47686Z",
          "iopub.execute_input": "2024-11-24T22:39:57.477284Z",
          "iopub.status.idle": "2024-11-24T22:39:57.488072Z",
          "shell.execute_reply.started": "2024-11-24T22:39:57.477247Z",
          "shell.execute_reply": "2024-11-24T22:39:57.486872Z"
        },
        "trusted": true,
        "id": "4w0B6UXTV5XH",
        "outputId": "4e8cb85e-f4af-4d5e-cc11-20966eaf33ae"
      },
      "outputs": [
        {
          "output_type": "display_data",
          "data": {
            "text/plain": "<IPython.core.display.Javascript object>",
            "application/javascript": "parent.postMessage({\"jupyterEvent\": \"custom.exercise_interaction\", \"data\": {\"outcomeType\": 1, \"valueTowardsCompletion\": 0.2, \"interactionType\": 1, \"questionType\": 2, \"questionId\": \"6_OneTopping\", \"learnToolsVersion\": \"0.3.4\", \"failureMessage\": \"\", \"exceptionClass\": \"\", \"trace\": \"\"}}, \"*\")"
          },
          "metadata": {}
        },
        {
          "output_type": "display_data",
          "data": {
            "text/plain": "Correct: \n\nThis condition would be pretty complicated to express using just `and`, `or` and `not`, but using boolean-to-integer conversion gives us this short solution:\n```python\nreturn (int(ketchup) + int(mustard) + int(onion)) == 1\n```\n\nFun fact: we don't technically need to call `int` on the arguments. Just by doing addition with booleans, Python implicitly does the integer conversion. So we could also write...\n\n```python\nreturn (ketchup + mustard + onion) == 1\n```",
            "text/markdown": "<span style=\"color:#33cc33\">Correct:</span> \n\nThis condition would be pretty complicated to express using just `and`, `or` and `not`, but using boolean-to-integer conversion gives us this short solution:\n```python\nreturn (int(ketchup) + int(mustard) + int(onion)) == 1\n```\n\nFun fact: we don't technically need to call `int` on the arguments. Just by doing addition with booleans, Python implicitly does the integer conversion. So we could also write...\n\n```python\nreturn (ketchup + mustard + onion) == 1\n```"
          },
          "metadata": {}
        }
      ],
      "execution_count": null
    },
    {
      "cell_type": "code",
      "source": [
        "#q6.hint()\n",
        "#q6.solution()"
      ],
      "metadata": {
        "execution": {
          "iopub.status.busy": "2021-08-10T22:21:53.030687Z",
          "iopub.execute_input": "2021-08-10T22:21:53.03103Z",
          "iopub.status.idle": "2021-08-10T22:21:53.034582Z",
          "shell.execute_reply.started": "2021-08-10T22:21:53.031Z",
          "shell.execute_reply": "2021-08-10T22:21:53.033541Z"
        },
        "trusted": true,
        "id": "flLFmd7vV5XH"
      },
      "outputs": [],
      "execution_count": null
    },
    {
      "cell_type": "markdown",
      "source": [
        "# 7. <span title=\"A bit spicy\" style=\"color: darkgreen \">🌶️</span> (Optional)\n",
        "\n",
        "In this problem we'll be working with a simplified version of [blackjack](https://en.wikipedia.org/wiki/Blackjack) (aka twenty-one). In this version there is one player (who you'll control) and a dealer. Play proceeds as follows:\n",
        "\n",
        "- The player is dealt two face-up cards. The dealer is dealt one face-up card.\n",
        "- The player may ask to be dealt another card ('hit') as many times as they wish. If the sum of their cards exceeds 21, they lose the round immediately.\n",
        "- The dealer then deals additional cards to himself until either:\n",
        "    - the sum of the dealer's cards exceeds 21, in which case the player wins the round\n",
        "    - the sum of the dealer's cards is greater than or equal to 17. If the player's total is greater than the dealer's, the player wins. Otherwise, the dealer wins (even in case of a tie).\n",
        "    \n",
        "When calculating the sum of cards, Jack, Queen, and King count for 10. Aces can count as 1 or 11 (when referring to a player's \"total\" above, we mean the largest total that can be made without exceeding 21. So e.g. A+8 = 19, A+8+8 = 17)\n",
        "\n",
        "For this problem, you'll write a function representing the player's decision-making strategy in this game. We've provided a very unintelligent implementation below:"
      ],
      "metadata": {
        "id": "7B56sqixV5XH"
      }
    },
    {
      "cell_type": "code",
      "source": [
        "def should_hit(dealer_total, player_total, player_low_aces, player_high_aces):\n",
        "    \"\"\"Return True if the player should hit (request another card) given the current game\n",
        "    state, or False if the player should stay.\n",
        "    When calculating a hand's total value, we count aces as \"high\" (with value 11) if doing so\n",
        "    doesn't bring the total above 21, otherwise we count them as low (with value 1).\n",
        "    For example, if the player's hand is {A, A, A, 7}, we will count it as 11 + 1 + 1 + 7,\n",
        "    and therefore set player_total=20, player_low_aces=2, player_high_aces=1.\n",
        "    \"\"\"\n",
        "    return False"
      ],
      "metadata": {
        "trusted": true,
        "execution": {
          "iopub.status.busy": "2024-11-24T22:40:30.92674Z",
          "iopub.execute_input": "2024-11-24T22:40:30.927156Z",
          "iopub.status.idle": "2024-11-24T22:40:30.9328Z",
          "shell.execute_reply.started": "2024-11-24T22:40:30.927117Z",
          "shell.execute_reply": "2024-11-24T22:40:30.931339Z"
        },
        "id": "_LvRA6QGV5XH"
      },
      "outputs": [],
      "execution_count": null
    },
    {
      "cell_type": "markdown",
      "source": [
        "This very conservative agent *always* sticks with the hand of two cards that they're dealt.\n",
        "\n",
        "We'll be simulating games between your player agent and our own dealer agent by calling your function.\n",
        "\n",
        "Try running the function below to see an example of a simulated game:"
      ],
      "metadata": {
        "id": "YAvnfGZAV5XI"
      }
    },
    {
      "cell_type": "code",
      "source": [
        "q7.simulate_one_game()"
      ],
      "metadata": {
        "trusted": true,
        "execution": {
          "iopub.status.busy": "2024-11-24T22:40:51.146927Z",
          "iopub.execute_input": "2024-11-24T22:40:51.147337Z",
          "iopub.status.idle": "2024-11-24T22:40:51.153319Z",
          "shell.execute_reply.started": "2024-11-24T22:40:51.147301Z",
          "shell.execute_reply": "2024-11-24T22:40:51.152085Z"
        },
        "id": "DiLZuV1IV5XI",
        "outputId": "fa9be4d3-86ac-47fa-c1c1-ddde581fe5d5"
      },
      "outputs": [
        {
          "name": "stdout",
          "text": "Player starts with 3 and 7 (total = 10)\nDealer starts with 10\n\n__Player's turn__\nPlayer stays\n\n__Dealer's turn__\nDealer hits and receives 2. (total = 12)\nDealer hits and receives 6. (total = 18)\nDealer stands.\nDealer wins. 18 >= 10\n",
          "output_type": "stream"
        }
      ],
      "execution_count": null
    },
    {
      "cell_type": "markdown",
      "source": [
        "The real test of your agent's mettle is their average win rate over many games. Try calling the function below to simulate 50000 games of blackjack (it may take a couple seconds):"
      ],
      "metadata": {
        "id": "x2YTt0g3V5XI"
      }
    },
    {
      "cell_type": "code",
      "source": [
        "q7.simulate(n_games=50000)"
      ],
      "metadata": {
        "trusted": true,
        "execution": {
          "iopub.status.busy": "2024-11-24T22:41:15.956934Z",
          "iopub.execute_input": "2024-11-24T22:41:15.957336Z",
          "iopub.status.idle": "2024-11-24T22:41:17.065719Z",
          "shell.execute_reply.started": "2024-11-24T22:41:15.957303Z",
          "shell.execute_reply": "2024-11-24T22:41:17.064537Z"
        },
        "id": "xGd-Zdu9V5XI",
        "outputId": "9fc3e41b-8bd2-4e9c-f284-545cc3d71b1e"
      },
      "outputs": [
        {
          "name": "stdout",
          "text": "Player won 18983 out of 50000 games (win rate = 38.0%)\n",
          "output_type": "stream"
        }
      ],
      "execution_count": null
    },
    {
      "cell_type": "markdown",
      "source": [
        "Our dumb agent that completely ignores the game state still manages to win shockingly often!\n",
        "\n",
        "Try adding some more smarts to the `should_hit` function and see how it affects the results."
      ],
      "metadata": {
        "id": "EY8-WlkkV5XI"
      }
    },
    {
      "cell_type": "code",
      "source": [
        "def should_hit(dealer_total, player_total, player_low_aces, player_high_aces):\n",
        "    \"\"\"Return True if the player should hit (request another card) given the current game\n",
        "    state, or False if the player should stay.\n",
        "    When calculating a hand's total value, we count aces as \"high\" (with value 11) if doing so\n",
        "    doesn't bring the total above 21, otherwise we count them as low (with value 1).\n",
        "    For example, if the player's hand is {A, A, A, 7}, we will count it as 11 + 1 + 1 + 7,\n",
        "    and therefore set player_total=20, player_low_aces=2, player_high_aces=1.\n",
        "    \"\"\"\n",
        "    return False\n",
        "\n",
        "q7.simulate(n_games=50000)"
      ],
      "metadata": {
        "trusted": true,
        "id": "wbs_tfR5V5XJ"
      },
      "outputs": [],
      "execution_count": null
    },
    {
      "cell_type": "markdown",
      "source": [
        "# Keep Going\n",
        "\n",
        "Learn about **[lists and tuples](https://www.kaggle.com/colinmorris/lists)** to handle multiple items of data in a systematic way."
      ],
      "metadata": {
        "id": "TVRDWPRvV5XJ"
      }
    },
    {
      "cell_type": "markdown",
      "source": [
        "---\n",
        "\n",
        "\n",
        "\n",
        "\n",
        "*Have questions or comments? Visit the [Learn Discussion forum](https://www.kaggle.com/learn-forum/161283) to chat with other Learners.*"
      ],
      "metadata": {
        "id": "fhUQ0CqvV5XJ"
      }
    }
  ]
}
