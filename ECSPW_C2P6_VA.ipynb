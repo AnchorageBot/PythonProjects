{
  "nbformat": 4,
  "nbformat_minor": 0,
  "metadata": {
    "colab": {
      "provenance": [],
      "authorship_tag": "ABX9TyMU8B3Pz2TKptAmYli9sVd1"
    },
    "kernelspec": {
      "name": "python3",
      "display_name": "Python 3"
    },
    "language_info": {
      "name": "python"
    }
  },
  "cells": [
    {
      "cell_type": "markdown",
      "source": [
        "Chapter 2, Problem # 6"
      ],
      "metadata": {
        "id": "os2u8O4kG8rP"
      }
    },
    {
      "cell_type": "markdown",
      "source": [
        "References:\n",
        "\n",
        "Essential Calculus Skills Practice Workbook - Chris McMullen\n",
        "* https://www.mcleanandeakin.com/book/9781941691243"
      ],
      "metadata": {
        "id": "eGPmlEr0G6WC"
      }
    },
    {
      "cell_type": "markdown",
      "source": [
        "\n",
        "##Given:\n",
        "\n",
        "\n",
        "* h(x) = (4 + x)^9 (2 - x)^5\n",
        "\n",
        "\n",
        "\n",
        "* $\n",
        "\\frac{d}{dx} f(u(x)) = \\frac{d f}{d u} \\cdot \\frac{d u}{d x}\n",
        "$\n",
        "\n",
        "\n",
        "* $\n",
        "\\frac{d}{dx} [u(x) v(x)] = u'(x) v(x) + u(x) v'(x)\n",
        "$\n"
      ],
      "metadata": {
        "id": "Ki-YVjhyHBcd"
      }
    },
    {
      "cell_type": "markdown",
      "source": [
        "##Find:\n",
        "\n",
        "$\n",
        "\\frac{d}{dx} h(x)\n",
        "$"
      ],
      "metadata": {
        "id": "KW_IMprWPSd1"
      }
    },
    {
      "cell_type": "markdown",
      "source": [
        "## Solution:\n",
        "\n",
        "### Step 1: Identify Functions\n",
        "Let:\n",
        "- \\( u(x) = (4 + x)^9 \\)\n",
        "- \\( v(x) = (2 - x)^5 \\)\n",
        "\n",
        "---\n",
        "\n",
        "### Step 2: Recall the Chain Rule\n",
        "\n",
        "The chain rule states that:\n",
        "\n",
        "$\n",
        "\\frac{d}{dx} f(u(x)) = \\frac{d f}{d u} \\cdot \\frac{d u}{d x}\n",
        "$\n",
        "\n",
        "Where:\n",
        "- \\(f\\) is a function of \\(u(x)\\)\n",
        "- \\(u(x)\\) is a function of \\(x\\)\n",
        "\n",
        "---\n",
        "\n",
        "### Step 3: Differentiate Each Function Using the Chain Rule\n",
        "\n",
        "* Since both u(x) and v(x) are composite functions involving inner terms like s(x) and q(x), the chain rule is essential for differentiation.\n",
        "\n",
        "**For \\( u(x) \\):**\n",
        "\n",
        "$\n",
        "\\frac{d}{dx} u(x) = \\frac{d}{dx} (4 + x)^9\n",
        "$\n",
        "\n",
        "Let \\( s(x) = 4 + x \\)\n",
        "\n",
        "$\n",
        "\\frac{d}{dx} s(x)^9 = 9s(x)^8 \\cdot \\frac{d}{dx} s(x)\n",
        "$\n",
        "\n",
        "Since\n",
        "$\n",
        "\\frac{d}{dx} s(x) = 1\n",
        "$\n",
        "\n",
        "\\[\n",
        " u'(x) = 9(4 + x)^8\n",
        "\\]\n",
        "\n",
        "---\n",
        "\n",
        "**For \\( v(x) \\):**\n",
        "\n",
        "$\n",
        "\\frac{d}{dx} v(x) = \\frac{d}{dx} (2 - x)^5\n",
        "$\n",
        "\n",
        "Let \\( q(x) = 2 - x \\)\n",
        "\n",
        "$\n",
        "\\frac{d}{dx} q(x)^5 = 5q(x)^4 \\cdot \\frac{d}{dx} q(x)\n",
        "$\n",
        "\n",
        "Since\n",
        "$\n",
        "\\frac{d}{dx} q(x) = -1\n",
        "$\n",
        "\n",
        "\\[\n",
        " v'(x) = -5(2 - x)^4\n",
        "\\]\n",
        "\n",
        "---\n",
        "\n",
        "### Step 4: Recall the Product Rule\n",
        "\n",
        "$\n",
        "\\frac{d}{dx} [u(x) v(x)] = u'(x) v(x) + u(x) v'(x)\n",
        "$\n",
        "\n",
        "---\n",
        "\n",
        "### Step 5: Combine the Results\n",
        "\n",
        "$\n",
        "\\frac{d}{dx} h(x) = 9(4 + x)^8 (2 - x)^5 - 5(2 - x)^4 (4 + x)^9\n",
        "$\n",
        "\n",
        "\n",
        "---\n",
        "\n",
        "### Step 6: Factorize\n",
        "\n",
        "$\n",
        "\\frac{d}{dx} h(x) = [(4 + x)^8 (2 - x)^4][9(2 - x) - 5(4 + x)]\n",
        "$"
      ],
      "metadata": {
        "id": "6qsxTCyZJaJC"
      }
    }
  ]
}