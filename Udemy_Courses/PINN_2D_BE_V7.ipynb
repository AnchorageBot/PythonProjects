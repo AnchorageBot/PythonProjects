{
  "nbformat": 4,
  "nbformat_minor": 0,
  "metadata": {
    "colab": {
      "provenance": [],
      "authorship_tag": "ABX9TyMmfk9yCRJVHUr1btmWp146"
    },
    "kernelspec": {
      "name": "python3",
      "display_name": "Python 3"
    },
    "language_info": {
      "name": "python"
    }
  },
  "cells": [
    {
      "cell_type": "markdown",
      "source": [
        "Physics Informed Neural Networks - June 2024\n",
        "\n",
        "* Dr. Mohammad Samara\n",
        "* Udemy\n",
        "\n",
        "2D Burgers Equation - Mathematically modeling a heated aluminum rod\n",
        "\n",
        "* Background\n"
      ],
      "metadata": {
        "id": "Xog6_6XRdAQA"
      }
    },
    {
      "cell_type": "markdown",
      "source": [
        "The Burgers equation involves both the u and v velocity components and includes the coupling between them. The spatial derivatives are approximated using first-order differences in both the x and y directions, and the equation also includes the advection terms (un[i][j] * dt / dx * (un[i][j] - un[i-1][j]) and vn[i][j] * dt / dy * (un[i][j] - un[i][j-1])), which account for the nonlinear behavior of the Burgers equation."
      ],
      "metadata": {
        "id": "E6G-G7SOexvG"
      }
    },
    {
      "cell_type": "markdown",
      "source": [
        "Fields\n",
        "\n",
        "* $\\large\\ u(x,y,t)$\n",
        "\n",
        "* $\\large\\ v(x,y,t)$\n",
        "\n",
        "Kinematic viscosity\n",
        "\n",
        "* $\\large\\nu\\ =\\Large\\frac{\\mu}{\\rho} =\\large\\frac{DynamicViscosity}{density}$"
      ],
      "metadata": {
        "id": "UR8dvnYJHJoO"
      }
    },
    {
      "cell_type": "markdown",
      "source": [
        "General (viscous) Burgers Equation in one dimension\n",
        "\n",
        "* $\\Large\\frac{\\partial u}{\\partial t} + u\\Large\\frac{\\partial u}{\\partial x} = \\nu\\Large\\frac{\\partial^2 u}{\\partial x^2}$"
      ],
      "metadata": {
        "id": "Sbnh_scUVvxj"
      }
    },
    {
      "cell_type": "markdown",
      "source": [
        "Burgers Equation for Horizontal Velocity in two dimensions\n",
        "\n",
        "*  $\\Large\\frac{\\partial u}{\\partial t} + u\\Large\\frac{\\partial u}{\\partial x} + v\\Large\\frac{\\partial u}{\\partial y} = \\nu(\\Large\\frac{\\partial^2 u}{\\partial x^2})(\\Large\\frac{\\partial^2 u}{\\partial y^2})$"
      ],
      "metadata": {
        "id": "xgMpHdOVUWwg"
      }
    },
    {
      "cell_type": "markdown",
      "source": [
        "Burgers Equation for Vertical Velocity in two dimensions\n",
        "\n",
        "*  $\\Large\\frac{\\partial v}{\\partial t} + u\\Large\\frac{\\partial v}{\\partial x} + v\\Large\\frac{\\partial v}{\\partial y} = \\nu(\\Large\\frac{\\partial^2 v}{\\partial x^2})(\\Large\\frac{\\partial^2 v}{\\partial y^2})$"
      ],
      "metadata": {
        "id": "XnutspazXVl9"
      }
    },
    {
      "cell_type": "markdown",
      "source": [
        "Numerical Equations for horizontal and vertical velocities using finite differences\n",
        "\n",
        "* $\\large u[i][j] = un[i][j] - un[i][j] \\frac{dt}{dx} (un[i][j] - un[i-1][j]) - vn[i][j] \\frac{dt}{dy} (un[i][j] - un[i][j-1])$\n",
        "\n",
        "* $\\large v[i][j] = vn[i][j] - un[i][j] \\frac{dt}{dx} (vn[i][j] - vn[i-1][j]) - vn[i][j] \\frac{dt}{dy} (vn[i][j] - vn[i][j-1])$"
      ],
      "metadata": {
        "id": "Wfg7kEp_XCYQ"
      }
    },
    {
      "cell_type": "markdown",
      "source": [
        "This equation represents the update step for the u velocity component in the Burgers equation simulation using the explicit finite difference method."
      ],
      "metadata": {
        "id": "AiMuaIeccw7C"
      }
    },
    {
      "cell_type": "markdown",
      "source": [
        "$\\large u[i][j] = un[i][j] - un[i][j] \\frac{dt}{dx} (un[i][j] - un[i-1][j]) - vn[i][j] \\frac{dt}{dy} (un[i][j] - un[i][j-1])$"
      ],
      "metadata": {
        "id": "F9X5dvxodwJJ"
      }
    },
    {
      "cell_type": "markdown",
      "source": [
        "- Let's break down the equation:\n",
        "\n",
        " * u[i][j]: The updated value of the u velocity component at the current time step and grid point (i, j).\n",
        " * un[i][j]: The value of the u velocity component at the previous time step and grid point (i, j).\n",
        " * dt: The time step size.\n",
        " * dx: The grid spacing in the x direction.\n",
        " * dy: The grid spacing in the y direction.\n",
        " * un[i-1][j]: The value of the u velocity component at the previous time step and the grid point to the left (i-1, j).\n",
        " * un[i][j-1]: The value of the u velocity component at the previous time step and the grid point below (i, j-1).\n",
        " * vn[i][j]: The value of the v velocity component at the previous time step and grid point (i, j).\n",
        "\n",
        "- The equation updates the u velocity component by considering the previous value un[i][j] and applying the finite difference approximations for the spatial derivatives in both the x and y directions. The terms (un[i][j] - un[i-1][j]) and (un[i][j] - un[i][j-1]) represent the differences in the u velocity component between the current grid point and its neighbors to the left and below, respectively. These differences are multiplied by the respective ratios of the time step size to the grid spacing (dt/dx and dt/dy) to approximate the spatial derivatives.\n",
        "\n",
        "- The equation also includes the contribution from the v velocity component through the term vn[i][j] * dt / dy * (un[i][j] - un[i][j-1]), which accounts for the coupling between the u and v components in the Burgers equation."
      ],
      "metadata": {
        "id": "71syop81c88L"
      }
    },
    {
      "cell_type": "markdown",
      "source": [
        "This equation represents the update step for the v velocity component in the Burgers equation simulation using the explicit finite difference method."
      ],
      "metadata": {
        "id": "aLPmCjLxd-4j"
      }
    },
    {
      "cell_type": "markdown",
      "source": [
        "$\\large v[i][j] = vn[i][j] - un[i][j] \\frac{dt}{dx} (vn[i][j] - vn[i-1][j]) - vn[i][j] \\frac{dt}{dy} (vn[i][j] - vn[i][j-1])$"
      ],
      "metadata": {
        "id": "q8R-I5mWeD5e"
      }
    },
    {
      "cell_type": "markdown",
      "source": [
        "- Let's break down the equation:\n",
        "\n",
        "  * v[i][j]: The updated value of the v velocity component at the current time step and grid point (i, j).\n",
        "  * vn[i][j]: The value of the v velocity component at the previous time step and grid point (i, j).\n",
        "  * dt: The time step size.\n",
        "  * dx: The grid spacing in the x direction.\n",
        "  * dy: The grid spacing in the y direction.\n",
        "  * un[i][j]: The value of the u velocity component at the previous time step and grid point (i, j).\n",
        "  * vn[i-1][j]: The value of the v velocity component at the previous time step and the grid point to the left (i-1, j).\n",
        "  * vn[i][j-1]: The value of the v velocity component at the previous time step and the grid point below (i, j-1).\n",
        "\n",
        "- The equation updates the v velocity component by considering the previous value vn[i][j] and applying the finite difference approximations for the spatial derivatives in both the x and y directions. The terms (vn[i][j] - vn[i-1][j]) and (vn[i][j] - vn[i][j-1]) represent the differences in the v velocity component between the current grid point and its neighbors to the left and below, respectively. These differences are multiplied by the respective ratios of the time step size to the grid spacing (dt/dx and dt/dy) to approximate the spatial derivatives.\n",
        "\n",
        "- The equation also includes the contribution from the u velocity component through the term un[i][j] * dt / dx * (vn[i][j] - vn[i-1][j]), which accounts for the coupling between the u and v components in the Burgers equation.\n",
        "\n",
        "- The structure of this equation is similar to the equation for the u velocity component update, but with the roles of u and v swapped. The main difference is that the advection terms now involve the v velocity component instead of the u velocity component."
      ],
      "metadata": {
        "id": "_O4kNCpMeGw-"
      }
    }
  ]
}
