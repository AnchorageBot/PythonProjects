{
  "nbformat": 4,
  "nbformat_minor": 0,
  "metadata": {
    "colab": {
      "provenance": [],
      "authorship_tag": "ABX9TyPousirx889eTimV5b3+1E0"
    },
    "kernelspec": {
      "name": "python3",
      "display_name": "Python 3"
    },
    "language_info": {
      "name": "python"
    }
  },
  "cells": [
    {
      "cell_type": "markdown",
      "source": [
        "Physics Informed Neural Networks - June 2024\n",
        "\n",
        "* Dr. Mohammad Samara\n",
        "* Udemy\n",
        "\n",
        "1D Heat Equation - Mathematically modeling a heated aluminum rod\n",
        "\n",
        "* Solving the equation notebook"
      ],
      "metadata": {
        "id": "nNMMnfy-33XX"
      }
    },
    {
      "cell_type": "markdown",
      "source": [
        "Commented by Anthropic's AI Claude"
      ],
      "metadata": {
        "id": "zLoC_z7iRbnJ"
      }
    },
    {
      "cell_type": "code",
      "source": [
        "# Abstract:\n",
        "# This Python script mathematically models the heat distribution along a heated aluminum rod using the 1D Heat Equation.\n",
        "# It discretizes the spatial and temporal domains, sets initial and boundary conditions, and solves the heat equation\n",
        "# using the explicit finite difference method. The script visualizes the initial and final temperature profiles of the rod.\n",
        "\n",
        "# Python libraries\n",
        "import numpy as np\n",
        "import matplotlib.pyplot as plt\n",
        "\n",
        "# Materials data\n",
        "rod_length = 10  # Length of the aluminum rod\n",
        "rod_mat_k = 0.89  # Thermal conductivity of the aluminum rod\n",
        "\n",
        "# Boundary conditions\n",
        "rod_temp_left = 100   # Temperature at the left end of the rod\n",
        "rod_temp_right = 200  # Temperature at the right end of the rod\n",
        "\n",
        "# Simulation period\n",
        "sim_time = 10  # Total simulation time\n",
        "\n",
        "# Time discretization\n",
        "dt = 0.0001  # Time step size\n",
        "t_vector = np.linspace(0, sim_time, int(sim_time/dt))  # Time vector\n",
        "print(\"Time:\", t_vector)\n",
        "\n",
        "# Spatial discretization\n",
        "dx = 0.1  # Spatial step size\n",
        "x_vector = np.linspace(0, rod_length, int(rod_length/dx))  # Spatial vector\n",
        "print(\"Distance in x direction:\", x_vector)\n",
        "\n",
        "# Initialize the solution array\n",
        "u = np.zeros([len(t_vector), len(x_vector)])  # 2D array to store the temperature values\n",
        "shape = u.shape\n",
        "print(\"Solution shape (time steps, spatial steps):\", shape)\n",
        "\n",
        "# Set initial and boundary conditions\n",
        "u[:, 0] = rod_temp_left   # Set the left boundary condition\n",
        "u[:, -1] = rod_temp_right  # Set the right boundary condition\n",
        "print(\"Initial solution:\", u)\n",
        "\n",
        "# Plot the initial temperature profile\n",
        "plt.plot(x_vector, u[0])\n",
        "plt.xlabel(\"Distance in x\")\n",
        "plt.ylabel(\"Temperature\")\n",
        "plt.title(\"Initial Temperature Profile\")\n",
        "\n",
        "# Explicit finite difference method\n",
        "for t in range(1, len(t_vector) - 1):  # Time loop\n",
        "    for x in range(1, len(x_vector) - 1):  # Space loop\n",
        "        u[t+1, x] = ((rod_mat_k * (dt/dx**2)) * (u[t, x+1] - 2*u[t, x] + u[t, x-1])) + u[t, x]  # Finite difference equation\n",
        "\n",
        "print(\"Number of time steps:\", len(u))\n",
        "\n",
        "# Plot the final temperature profile\n",
        "plt.figure()  # Create a new figure\n",
        "plt.plot(x_vector, u[-1])\n",
        "plt.xlabel(\"Distance in x\")\n",
        "plt.ylabel(\"Temperature\")\n",
        "plt.title(\"Final Temperature Profile\")\n",
        "plt.show()"
      ],
      "metadata": {
        "id": "dx5F8EOlQvh9"
      },
      "execution_count": null,
      "outputs": []
    },
    {
      "cell_type": "markdown",
      "source": [
        "Code block summaries:\n",
        "\n",
        "* Import the necessary Python libraries: NumPy for numerical computations and Matplotlib for plotting.\n",
        "* Define the materials data, boundary conditions, and simulation period.\n",
        "* Discretize the temporal and spatial domains using NumPy's linspace function.\n",
        "* Initialize the solution array u to store the temperature values.\n",
        "* Set the initial and boundary conditions for the temperature.\n",
        "* Plot the initial temperature profile.\n",
        "* Implement the explicit finite difference method to solve the heat equation.\n",
        "* Plot the final temperature profile.\n",
        "\n",
        "Comments for each line:\n",
        "\n",
        "* Lines 1-3: Abstract of the script.\n",
        "* Lines 5-6: Import the necessary Python libraries.\n",
        "* Lines 8-14: Define the materials data, boundary conditions, and simulation period.\n",
        "* Lines 16-20: Discretize the temporal domain and print the time vector.\n",
        "* Lines 22-25: Discretize the spatial domain and print the spatial vector.\n",
        "* Lines 27-30: Initialize the solution array u and print its shape.\n",
        "* Lines 32-35: Set the initial and boundary conditions for the temperature and print the initial solution.\n",
        "* Lines 37-41: Plot the initial temperature profile.\n",
        "* Lines 43-45: Implement the explicit finite difference method using nested loops for time and space.\n",
        "* Line 47: Print the number of time steps.\n",
        "* Lines 49-54: Plot the final temperature profile.\n",
        "\n",
        "The script provides a clear overview of the problem, discretizes the domains, sets the initial and boundary conditions, solves the heat equation using the explicit finite difference method, and visualizes the initial and final temperature profiles of the heated aluminum rod."
      ],
      "metadata": {
        "id": "dVUgs66cQx1j"
      }
    }
  ]
}
