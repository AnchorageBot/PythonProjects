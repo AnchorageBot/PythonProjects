{
  "nbformat": 4,
  "nbformat_minor": 0,
  "metadata": {
    "colab": {
      "provenance": [],
      "authorship_tag": "ABX9TyPShRDX85MhaA8oYmzomy+n"
    },
    "kernelspec": {
      "name": "python3",
      "display_name": "Python 3"
    },
    "language_info": {
      "name": "python"
    }
  },
  "cells": [
    {
      "cell_type": "markdown",
      "source": [
        "Physics Informed Neural Networks - June 2024\n",
        "\n",
        "* Dr. Mohammad Samara\n",
        "* Udemy\n",
        "\n",
        "2D Burgers Equation - Mathematically modeling a heated aluminum rod\n",
        "\n",
        "* Solving the equation notebook\n",
        "* Uses numerical equations using finite differences\n",
        "* The script sets up the domain, initializes the temperature distribution, and visualizes the initial temperature contour plot."
      ],
      "metadata": {
        "id": "Xog6_6XRdAQA"
      }
    },
    {
      "cell_type": "markdown",
      "source": [
        "Fields\n",
        "\n",
        "* $\\large\\ u(x,y,t)$\n",
        "\n",
        "* $\\large\\ v(x,y,t)$\n",
        "\n",
        "Kinematic viscosity\n",
        "\n",
        "* $\\large\\nu\\ =\\Large\\frac{\\mu}{\\rho} =\\large\\frac{DynamicViscosity}{density}$"
      ],
      "metadata": {
        "id": "UR8dvnYJHJoO"
      }
    },
    {
      "cell_type": "markdown",
      "source": [
        "General (viscous) Burgers Equation in one dimension\n",
        "\n",
        "* $\\Large\\frac{\\partial u}{\\partial t} + u\\Large\\frac{\\partial u}{\\partial x} = \\nu\\Large\\frac{\\partial^2 u}{\\partial x^2}$"
      ],
      "metadata": {
        "id": "Sbnh_scUVvxj"
      }
    },
    {
      "cell_type": "markdown",
      "source": [
        "Burgers Equation for Horizontal Velocity in two dimensions\n",
        "\n",
        "*  $\\Large\\frac{\\partial u}{\\partial t} + u\\Large\\frac{\\partial u}{\\partial x} + v\\Large\\frac{\\partial u}{\\partial y} = \\nu(\\Large\\frac{\\partial^2 u}{\\partial x^2})(\\Large\\frac{\\partial^2 u}{\\partial y^2})$"
      ],
      "metadata": {
        "id": "xgMpHdOVUWwg"
      }
    },
    {
      "cell_type": "markdown",
      "source": [
        "Burgers Equation for Vertical Velocity in two dimensions\n",
        "\n",
        "*  $\\Large\\frac{\\partial v}{\\partial t} + u\\Large\\frac{\\partial v}{\\partial x} + v\\Large\\frac{\\partial v}{\\partial y} = \\nu(\\Large\\frac{\\partial^2 v}{\\partial x^2})(\\Large\\frac{\\partial^2 v}{\\partial y^2})$"
      ],
      "metadata": {
        "id": "XnutspazXVl9"
      }
    },
    {
      "cell_type": "markdown",
      "source": [
        "Numerical Equations using finite differences"
      ],
      "metadata": {
        "id": "Wfg7kEp_XCYQ"
      }
    },
    {
      "cell_type": "markdown",
      "source": [
        "Import python libraries to facilitate the work"
      ],
      "metadata": {
        "id": "v5LzNhLEdx6F"
      }
    },
    {
      "cell_type": "code",
      "execution_count": 1,
      "metadata": {
        "id": "mWp6GN4_c6yn"
      },
      "outputs": [],
      "source": [
        "import numpy as np\n",
        "import matplotlib.pyplot as plt\n",
        "import seaborn as sns\n",
        "#import pandas as pd\n",
        "#import tensorflow as tf"
      ]
    },
    {
      "cell_type": "markdown",
      "source": [
        "Rod description constants\n",
        "\n"
      ],
      "metadata": {
        "id": "OP5Dn7GqeN5n"
      }
    },
    {
      "cell_type": "code",
      "source": [
        "nx = 51  # Number of grid points along the rod in the x direction\n",
        "ny = 51  # Number of grid points along the rod in the y direction\n",
        "nu = 0.1  # Diffusion coefficient or kinematic viscosity"
      ],
      "metadata": {
        "id": "gvSPSCUaeSkS"
      },
      "execution_count": 2,
      "outputs": []
    },
    {
      "cell_type": "markdown",
      "source": [
        "Time description constants"
      ],
      "metadata": {
        "id": "l228IXc-e-wr"
      }
    },
    {
      "cell_type": "code",
      "source": [
        "nt = 500  # Number of time steps\n",
        "dt = 0.001  # Time step size"
      ],
      "metadata": {
        "id": "TcE35o1ifKJd"
      },
      "execution_count": 3,
      "outputs": []
    },
    {
      "cell_type": "markdown",
      "source": [
        "Structure the domain"
      ],
      "metadata": {
        "id": "88duUvbnhJQH"
      }
    },
    {
      "cell_type": "code",
      "source": [
        "dx = 2 / (nx - 1)  # Grid spacing in the x direction (domain is from 0 to 2)\n",
        "dy = 2 / (ny - 1)  # Grid spacing in the y direction (domain is from 0 to 2)\n",
        "x = np.linspace(0, 2, nx)  # Array of grid points in the x direction\n",
        "y = np.linspace(0, 2, ny)  # Array of grid points in the y direction"
      ],
      "metadata": {
        "id": "99uyKX-GhM32"
      },
      "execution_count": 4,
      "outputs": []
    },
    {
      "cell_type": "markdown",
      "source": [
        "Show the domain"
      ],
      "metadata": {
        "id": "j0ULgjlViA3p"
      }
    },
    {
      "cell_type": "code",
      "source": [
        "x"
      ],
      "metadata": {
        "colab": {
          "base_uri": "https://localhost:8080/"
        },
        "id": "NA4H8J7IiHGu",
        "outputId": "25ca65dc-9c3c-41d0-cedc-68151b14be02"
      },
      "execution_count": 5,
      "outputs": [
        {
          "output_type": "execute_result",
          "data": {
            "text/plain": [
              "array([0.  , 0.04, 0.08, 0.12, 0.16, 0.2 , 0.24, 0.28, 0.32, 0.36, 0.4 ,\n",
              "       0.44, 0.48, 0.52, 0.56, 0.6 , 0.64, 0.68, 0.72, 0.76, 0.8 , 0.84,\n",
              "       0.88, 0.92, 0.96, 1.  , 1.04, 1.08, 1.12, 1.16, 1.2 , 1.24, 1.28,\n",
              "       1.32, 1.36, 1.4 , 1.44, 1.48, 1.52, 1.56, 1.6 , 1.64, 1.68, 1.72,\n",
              "       1.76, 1.8 , 1.84, 1.88, 1.92, 1.96, 2.  ])"
            ]
          },
          "metadata": {},
          "execution_count": 5
        }
      ]
    },
    {
      "cell_type": "markdown",
      "source": [
        "Create a array"
      ],
      "metadata": {
        "id": "_3Nme6xSipj3"
      }
    },
    {
      "cell_type": "code",
      "source": [
        "comb = np.zeros((ny, nx))  # Combined array for visualization (currently unused)"
      ],
      "metadata": {
        "id": "AAcnohQFirKW"
      },
      "execution_count": 6,
      "outputs": []
    },
    {
      "cell_type": "markdown",
      "source": [
        "Show the array"
      ],
      "metadata": {
        "id": "TngzBshmjPyA"
      }
    },
    {
      "cell_type": "code",
      "source": [
        "comb"
      ],
      "metadata": {
        "colab": {
          "base_uri": "https://localhost:8080/"
        },
        "id": "uAx0-zb8jVv8",
        "outputId": "a9bcceb6-3724-464a-8951-99a5d380e5ee"
      },
      "execution_count": 7,
      "outputs": [
        {
          "output_type": "execute_result",
          "data": {
            "text/plain": [
              "array([[0., 0., 0., ..., 0., 0., 0.],\n",
              "       [0., 0., 0., ..., 0., 0., 0.],\n",
              "       [0., 0., 0., ..., 0., 0., 0.],\n",
              "       ...,\n",
              "       [0., 0., 0., ..., 0., 0., 0.],\n",
              "       [0., 0., 0., ..., 0., 0., 0.],\n",
              "       [0., 0., 0., ..., 0., 0., 0.]])"
            ]
          },
          "metadata": {},
          "execution_count": 7
        }
      ]
    },
    {
      "cell_type": "code",
      "source": [
        "comb.shape"
      ],
      "metadata": {
        "colab": {
          "base_uri": "https://localhost:8080/"
        },
        "id": "yDi4Rywajiyd",
        "outputId": "83ada0fb-4d3d-4c83-9e99-07bab9354072"
      },
      "execution_count": 8,
      "outputs": [
        {
          "output_type": "execute_result",
          "data": {
            "text/plain": [
              "(51, 51)"
            ]
          },
          "metadata": {},
          "execution_count": 8
        }
      ]
    },
    {
      "cell_type": "markdown",
      "source": [
        "Initialize arrays for temperature distribution"
      ],
      "metadata": {
        "id": "p3E6i2X8kpyd"
      }
    },
    {
      "cell_type": "code",
      "source": [
        "u = np.ones((ny, nx))  # Current time step for u velocity component\n",
        "v = np.ones((ny, nx))  # Current time step for v velocity component\n",
        "\n",
        "un = np.zeros((ny, nx))  # Previous time step for u velocity component (currently unused)\n",
        "vn = np.zeros((ny, nx))  # Previous time step for v velocity component (currently unused)\n",
        "\n",
        "uf = np.ones((nt, ny, nx))  # New time step for u velocity component\n",
        "vf = np.ones((nt, ny, nx))  # New time step for v velocity component"
      ],
      "metadata": {
        "id": "HQUfhLNzkusP"
      },
      "execution_count": 9,
      "outputs": []
    },
    {
      "cell_type": "markdown",
      "source": [
        "Show the shapes"
      ],
      "metadata": {
        "id": "wA6h1n36mIXS"
      }
    },
    {
      "cell_type": "code",
      "source": [
        "u.shape"
      ],
      "metadata": {
        "colab": {
          "base_uri": "https://localhost:8080/"
        },
        "id": "jLAN3RxlmKzH",
        "outputId": "24ca8d0b-749d-4faf-bb9f-cba5b71ec12b"
      },
      "execution_count": 10,
      "outputs": [
        {
          "output_type": "execute_result",
          "data": {
            "text/plain": [
              "(51, 51)"
            ]
          },
          "metadata": {},
          "execution_count": 10
        }
      ]
    },
    {
      "cell_type": "code",
      "source": [
        "un.shape"
      ],
      "metadata": {
        "colab": {
          "base_uri": "https://localhost:8080/"
        },
        "id": "UZtbDXKjmVwP",
        "outputId": "6782b24f-8fd7-4e68-fcf8-db001dcebee3"
      },
      "execution_count": 11,
      "outputs": [
        {
          "output_type": "execute_result",
          "data": {
            "text/plain": [
              "(51, 51)"
            ]
          },
          "metadata": {},
          "execution_count": 11
        }
      ]
    },
    {
      "cell_type": "code",
      "source": [
        "uf.shape"
      ],
      "metadata": {
        "colab": {
          "base_uri": "https://localhost:8080/"
        },
        "id": "6P3YHAO6mY0b",
        "outputId": "cfc9d679-677b-43f9-f055-d9010d5885cd"
      },
      "execution_count": 12,
      "outputs": [
        {
          "output_type": "execute_result",
          "data": {
            "text/plain": [
              "(500, 51, 51)"
            ]
          },
          "metadata": {},
          "execution_count": 12
        }
      ]
    },
    {
      "cell_type": "markdown",
      "source": [
        "Initial conditions"
      ],
      "metadata": {
        "id": "kT5HA_IimoNE"
      }
    },
    {
      "cell_type": "code",
      "source": [
        "# Set initial temperature distribution (heated region in the center)\n",
        "u[int(0.75/dy):int(1.25/dy + 1), int(0.75/dy):int(1.25/dy + 1)] = 5\n",
        "v[int(0.75/dy):int(1.25/dy + 1), int(0.75/dy):int(1.25/dy + 1)] = 5\n",
        "uf[0, int(0.75/dy):int(1.25/dy + 1), int(0.75/dy):int(1.25/dy + 1)] = 5\n",
        "vf[0, int(0.75/dy):int(1.25/dy + 1), int(0.75/dy):int(1.25/dy + 1)] = 5"
      ],
      "metadata": {
        "id": "XxYxzMo3mser"
      },
      "execution_count": 13,
      "outputs": []
    },
    {
      "cell_type": "markdown",
      "source": [
        "Plot"
      ],
      "metadata": {
        "id": "Fww4_JEUp1IC"
      }
    },
    {
      "cell_type": "code",
      "source": [
        "# Visualize initial temperature distribution\n",
        "X, Y = np.meshgrid(x, y)  # Create 2D grid for visualization\n",
        "plt.figure(figsize=(8, 6))  # Create a new figure with specified size\n",
        "contour = plt.contourf(X, Y, u[:], cmap='jet')  # Create a contour plot of the temperature distribution\n",
        "colorbar = plt.colorbar(contour)  # Add a colorbar to the plot\n",
        "colorbar.set_label(\"u scale\")  # Set the label for the colorbar\n",
        "plt.title('u')  # Set the title of the plot\n",
        "plt.xlabel('x')  # Set the label for the x-axis\n",
        "plt.ylabel('y')  # Set the label for the y-axis\n",
        "plt.show()  # Display the plot"
      ],
      "metadata": {
        "colab": {
          "base_uri": "https://localhost:8080/",
          "height": 565
        },
        "id": "dFYl2kNQp2mz",
        "outputId": "92328643-4f0f-479f-e878-6bdc2cbe3130"
      },
      "execution_count": 14,
      "outputs": [
        {
          "output_type": "display_data",
          "data": {
            "text/plain": [
              "<Figure size 800x600 with 2 Axes>"
            ],
            "image/png": "[encoded data removed]"
          },
          "metadata": {}
        }
      ]
    }
  ]
}
