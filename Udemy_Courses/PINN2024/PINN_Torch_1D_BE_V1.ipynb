{
  "nbformat": 4,
  "nbformat_minor": 0,
  "metadata": {
    "colab": {
      "provenance": [],
      "authorship_tag": "ABX9TyPJkAWvanxrSyYC+vxTpRzM"
    },
    "kernelspec": {
      "name": "python3",
      "display_name": "Python 3"
    },
    "language_info": {
      "name": "python"
    }
  },
  "cells": [
    {
      "cell_type": "markdown",
      "source": [
        "Physics Informed Neural Networks - July 2024\n",
        "\n",
        "* Dr. Mohammad Samara, Udemy\n",
        "* Anthropic's AI, Claude\n",
        "\n",
        "1D Burgers Equation using a PINN\n",
        "* Class of machine learning models\n",
        "* Combine neural networks with physics\n",
        "* Solve partial differential equations\n",
        "* Governing physics is used as a constraint"
      ],
      "metadata": {
        "id": "eJvlIezfiw60"
      }
    },
    {
      "cell_type": "code",
      "execution_count": null,
      "metadata": {
        "id": "9SO7aNMUivsc"
      },
      "outputs": [],
      "source": [
        "'''\n",
        "Abstract:\n",
        "1D Burgers Equation using a PINN\n",
        "'''\n",
        "\n",
        "# Import project libraries\n",
        "import math\n",
        "import numpy as np\n",
        "import seaborn as sns\n",
        "import matplotlib.pyplot as plt\n",
        "import torch\n",
        "import torch.nn as nn\n",
        "import torch.nn.functional as F\n",
        "from tqdm import tqdm\n",
        "\n",
        "# Configure the neural network, class ~ blueprint\n",
        "class NN(nn.Module):\n",
        "    def __init__(self):\n",
        "        super(NN, self).__init__()\n",
        "        self.net = torch.nn.Sequential(\n",
        "             nn.Linear(2, 20),  # number of inputs, expands to number of nodes\n",
        "             nn.Tanh(),         # activation function\n",
        "             nn.linear(20, 30), # number of nodes, expands to number of nodes\n",
        "             nn.Tanh(),\n",
        "             nn.linear(30, 30)  # steady node size\n",
        "             nn.Tanh(),\n",
        "             nn.linear(30, 20)  # number of nodes,  contracts to number of nodes\n",
        "             nn.Tanh(),\n",
        "             nn.linear(20, 20)  # steady node size\n",
        "             nn.Tanh(),\n",
        "             nn.linear(20, 1)  # number of nodes, contracts to number of outputs\n",
        "        )\n",
        "    def forward(self, x):\n",
        "        out = self.net(x)\n",
        "        return out"
      ]
    }
  ]
}
