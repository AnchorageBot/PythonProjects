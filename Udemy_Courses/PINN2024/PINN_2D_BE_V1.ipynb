{
  "nbformat": 4,
  "nbformat_minor": 0,
  "metadata": {
    "colab": {
      "provenance": [],
      "authorship_tag": "ABX9TyPmU9o8wmXsFcMHHp2xC2g0"
    },
    "kernelspec": {
      "name": "python3",
      "display_name": "Python 3"
    },
    "language_info": {
      "name": "python"
    }
  },
  "cells": [
    {
      "cell_type": "markdown",
      "source": [
        "Physics Informed Neural Networks - June 2024\n",
        "\n",
        "* Dr. Mohammad Samara\n",
        "\n",
        "* Udemy\n",
        "\n",
        "2D Burgers Equation - Mathematically modeling a heated aluminum rod\n",
        "\n",
        "* Pre-processing notebook"
      ],
      "metadata": {
        "id": "Xog6_6XRdAQA"
      }
    },
    {
      "cell_type": "markdown",
      "source": [
        "Import python libraries to facilitate the work"
      ],
      "metadata": {
        "id": "v5LzNhLEdx6F"
      }
    },
    {
      "cell_type": "code",
      "execution_count": 1,
      "metadata": {
        "id": "mWp6GN4_c6yn"
      },
      "outputs": [],
      "source": [
        "import numpy as np\n",
        "import matplotlib.pyplot as plt\n",
        "import seaborn as sns\n",
        "#import pandas as pd\n",
        "#import tensorflow as tf"
      ]
    },
    {
      "cell_type": "markdown",
      "source": [
        "Rod description constants\n",
        "\n"
      ],
      "metadata": {
        "id": "OP5Dn7GqeN5n"
      }
    },
    {
      "cell_type": "code",
      "source": [
        "nx = 51 # distance along the rod in the x direction\n",
        "ny = 51 # distance along the rod in the y direction\n",
        "\n",
        "nu = 0.1 # diffusion coefficient or kinematic viscosity"
      ],
      "metadata": {
        "id": "gvSPSCUaeSkS"
      },
      "execution_count": 2,
      "outputs": []
    },
    {
      "cell_type": "markdown",
      "source": [
        "Time description constants"
      ],
      "metadata": {
        "id": "l228IXc-e-wr"
      }
    },
    {
      "cell_type": "code",
      "source": [
        "nt = 500 # number of time steps\n",
        "dt = 0.001 # time step"
      ],
      "metadata": {
        "id": "TcE35o1ifKJd"
      },
      "execution_count": 3,
      "outputs": []
    },
    {
      "cell_type": "markdown",
      "source": [
        "Structure the domain"
      ],
      "metadata": {
        "id": "88duUvbnhJQH"
      }
    },
    {
      "cell_type": "code",
      "source": [
        "dx = 2 / (nx - 1) # domain is from 0 to 2 in the x direction\n",
        "dy = 2 / (ny - 1) # domain is from 0 to 2 in the y direction\n",
        "x = np.linspace(0, 2, nx)\n",
        "y = np.linspace(0, 2, ny)"
      ],
      "metadata": {
        "id": "99uyKX-GhM32"
      },
      "execution_count": 4,
      "outputs": []
    },
    {
      "cell_type": "markdown",
      "source": [
        "Show the domain"
      ],
      "metadata": {
        "id": "j0ULgjlViA3p"
      }
    },
    {
      "cell_type": "code",
      "source": [
        "x"
      ],
      "metadata": {
        "colab": {
          "base_uri": "https://localhost:8080/"
        },
        "id": "NA4H8J7IiHGu",
        "outputId": "ed089d1b-7c66-40d2-8ca0-ec120799a054"
      },
      "execution_count": 5,
      "outputs": [
        {
          "output_type": "execute_result",
          "data": {
            "text/plain": [
              "array([0.  , 0.04, 0.08, 0.12, 0.16, 0.2 , 0.24, 0.28, 0.32, 0.36, 0.4 ,\n",
              "       0.44, 0.48, 0.52, 0.56, 0.6 , 0.64, 0.68, 0.72, 0.76, 0.8 , 0.84,\n",
              "       0.88, 0.92, 0.96, 1.  , 1.04, 1.08, 1.12, 1.16, 1.2 , 1.24, 1.28,\n",
              "       1.32, 1.36, 1.4 , 1.44, 1.48, 1.52, 1.56, 1.6 , 1.64, 1.68, 1.72,\n",
              "       1.76, 1.8 , 1.84, 1.88, 1.92, 1.96, 2.  ])"
            ]
          },
          "metadata": {},
          "execution_count": 5
        }
      ]
    },
    {
      "cell_type": "markdown",
      "source": [
        "Create a grid"
      ],
      "metadata": {
        "id": "_3Nme6xSipj3"
      }
    },
    {
      "cell_type": "code",
      "source": [
        "comb = np.zeros((ny, nx))"
      ],
      "metadata": {
        "id": "AAcnohQFirKW"
      },
      "execution_count": 15,
      "outputs": []
    },
    {
      "cell_type": "markdown",
      "source": [
        "Show the grid"
      ],
      "metadata": {
        "id": "TngzBshmjPyA"
      }
    },
    {
      "cell_type": "code",
      "source": [
        "comb"
      ],
      "metadata": {
        "colab": {
          "base_uri": "https://localhost:8080/"
        },
        "id": "uAx0-zb8jVv8",
        "outputId": "a1cc004b-0e42-4633-c40a-2ebc3072c245"
      },
      "execution_count": 16,
      "outputs": [
        {
          "output_type": "execute_result",
          "data": {
            "text/plain": [
              "array([[0., 0., 0., ..., 0., 0., 0.],\n",
              "       [0., 0., 0., ..., 0., 0., 0.],\n",
              "       [0., 0., 0., ..., 0., 0., 0.],\n",
              "       ...,\n",
              "       [0., 0., 0., ..., 0., 0., 0.],\n",
              "       [0., 0., 0., ..., 0., 0., 0.],\n",
              "       [0., 0., 0., ..., 0., 0., 0.]])"
            ]
          },
          "metadata": {},
          "execution_count": 16
        }
      ]
    },
    {
      "cell_type": "code",
      "source": [
        "comb.shape"
      ],
      "metadata": {
        "colab": {
          "base_uri": "https://localhost:8080/"
        },
        "id": "yDi4Rywajiyd",
        "outputId": "ec153588-e9fa-4b24-e98f-80f5881ea7a0"
      },
      "execution_count": 17,
      "outputs": [
        {
          "output_type": "execute_result",
          "data": {
            "text/plain": [
              "(51, 51)"
            ]
          },
          "metadata": {},
          "execution_count": 17
        }
      ]
    },
    {
      "cell_type": "markdown",
      "source": [
        "Explicity calculate each step"
      ],
      "metadata": {
        "id": "p3E6i2X8kpyd"
      }
    },
    {
      "cell_type": "code",
      "source": [
        "u = np.zeros((ny, nx)) # current time step\n",
        "v = np.zeros((ny, nx))\n",
        "\n",
        "un = np.zeros((ny, nx)) # previous time step\n",
        "vn = np.zeros((ny, nx))\n",
        "\n",
        "uf = np.zeros((nt, ny, nx)) # new time step\n",
        "vf = np.zeros((nt, ny, nx))"
      ],
      "metadata": {
        "id": "HQUfhLNzkusP"
      },
      "execution_count": 18,
      "outputs": []
    },
    {
      "cell_type": "markdown",
      "source": [
        "Show the shapes"
      ],
      "metadata": {
        "id": "wA6h1n36mIXS"
      }
    },
    {
      "cell_type": "code",
      "source": [
        "u.shape"
      ],
      "metadata": {
        "colab": {
          "base_uri": "https://localhost:8080/"
        },
        "id": "jLAN3RxlmKzH",
        "outputId": "c813078e-609b-45ef-ee35-f8b5d763bd6c"
      },
      "execution_count": 20,
      "outputs": [
        {
          "output_type": "execute_result",
          "data": {
            "text/plain": [
              "(51, 51)"
            ]
          },
          "metadata": {},
          "execution_count": 20
        }
      ]
    },
    {
      "cell_type": "code",
      "source": [
        "un.shape"
      ],
      "metadata": {
        "colab": {
          "base_uri": "https://localhost:8080/"
        },
        "id": "UZtbDXKjmVwP",
        "outputId": "c006c030-732a-4d85-c140-b006e97922bd"
      },
      "execution_count": 21,
      "outputs": [
        {
          "output_type": "execute_result",
          "data": {
            "text/plain": [
              "(51, 51)"
            ]
          },
          "metadata": {},
          "execution_count": 21
        }
      ]
    },
    {
      "cell_type": "code",
      "source": [
        "uf.shape"
      ],
      "metadata": {
        "colab": {
          "base_uri": "https://localhost:8080/"
        },
        "id": "6P3YHAO6mY0b",
        "outputId": "5850fc91-46c4-44d9-a848-1cf80d486243"
      },
      "execution_count": 22,
      "outputs": [
        {
          "output_type": "execute_result",
          "data": {
            "text/plain": [
              "(500, 51, 51)"
            ]
          },
          "metadata": {},
          "execution_count": 22
        }
      ]
    },
    {
      "cell_type": "markdown",
      "source": [
        "Initial conditions"
      ],
      "metadata": {
        "id": "kT5HA_IimoNE"
      }
    },
    {
      "cell_type": "code",
      "source": [
        "u = np.ones((ny, nx)) # current time step\n",
        "v = np.ones((ny, nx))\n",
        "\n",
        "uf = np.ones((nt, ny, nx)) # new time step\n",
        "vf = np.ones((nt, ny, nx))\n",
        "\n",
        "u[int(0.75/dy):int(1.25/(dy + 1)), int(0.75/dy):int(1.25/(dy + 1))] = 5\n",
        "v[int(0.75/dy):int(1.25/(dy + 1)), int(0.75/dy):int(1.25/(dy + 1))] = 5\n",
        "\n",
        "uf[0, int(0.75/dy):int(1.25/(dy + 1)), int(0.75/dy):int(1.25/(dy + 1))] = 5\n",
        "vf[0, int(0.75/dy):int(1.25/(dy + 1)), int(0.75/dy):int(1.25/(dy + 1))] = 5"
      ],
      "metadata": {
        "id": "XxYxzMo3mser"
      },
      "execution_count": 23,
      "outputs": []
    },
    {
      "cell_type": "markdown",
      "source": [
        "Plot"
      ],
      "metadata": {
        "id": "Fww4_JEUp1IC"
      }
    },
    {
      "cell_type": "code",
      "source": [
        "X, Y = np.meshgrid(x, y)\n",
        "\n",
        "plt.figure(figsize=(8,6))\n",
        "contour = plt.contourf(X, Y, u[:], cmap='jet')\n",
        "colorbar = plt.colorbar(contour)\n",
        "colorbar.set_label(\"u scale\")\n",
        "plt.title('u')\n",
        "plt.xlabel('x')\n",
        "plt.ylabel('y')\n",
        "plt.show()"
      ],
      "metadata": {
        "colab": {
          "base_uri": "https://localhost:8080/",
          "height": 565
        },
        "id": "dFYl2kNQp2mz",
        "outputId": "6d8ee195-bbd7-41c4-f63f-af64aaa12530"
      },
      "execution_count": 28,
      "outputs": [
        {
          "output_type": "display_data",
          "data": {
            "text/plain": [
              "<Figure size 800x600 with 2 Axes>"
            ],
            "image/png": "[encoded data removed]"
          },
          "metadata": {}
        }
      ]
    }
  ]
}
