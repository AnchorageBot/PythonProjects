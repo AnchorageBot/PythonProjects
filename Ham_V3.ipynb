{
  "nbformat": 4,
  "nbformat_minor": 0,
  "metadata": {
    "colab": {
      "provenance": [],
      "authorship_tag": "ABX9TyOVVDw9G1YYXn9zu7/gVqzI"
    },
    "kernelspec": {
      "name": "python3",
      "display_name": "Python 3"
    },
    "language_info": {
      "name": "python"
    }
  },
  "cells": [
    {
      "cell_type": "markdown",
      "source": [
        "Hamiltonians\n",
        "\n",
        "Tutor:\n",
        "* Google Gemini"
      ],
      "metadata": {
        "id": "rTUwbwQndD2W"
      }
    },
    {
      "cell_type": "markdown",
      "source": [
        "## The Hamiltonian: A Brief Overview\n",
        "\n",
        "**What is a Hamiltonian?**\n",
        "\n",
        "A Hamiltonian is a mathematical operator or function used to represent the total energy of a system. It plays a crucial role in understanding the dynamics and properties of both classical and quantum systems.\n",
        "\n",
        "**Named After:**\n",
        "\n",
        "The Hamiltonian is named after Sir William Rowan Hamilton, an Irish mathematician and physicist. Hamilton's work on classical mechanics laid the foundation for the development of quantum mechanics.\n",
        "\n",
        "**Classical Mechanics:**\n",
        "\n",
        "In classical mechanics, the Hamiltonian is a function of the system's generalized coordinates and momenta. It represents the total energy of the system, which is the sum of its kinetic and potential energies. The Hamiltonian is used to formulate Hamilton's equations of motion, a set of differential equations that describe the time evolution of the system.\n",
        "\n",
        "**Quantum Mechanics:**\n",
        "\n",
        "In quantum mechanics, the Hamiltonian is an operator that acts on the wavefunction of a system. The eigenvalues of the Hamiltonian represent the possible energy levels of the system, and the corresponding eigenvectors are the energy eigenstates. The time evolution of a quantum system is governed by the Schrödinger equation, which involves the Hamiltonian.\n",
        "\n",
        "**Key Points:**\n",
        "\n",
        "* The Hamiltonian is a fundamental concept in both classical and quantum mechanics.\n",
        "* It represents the total energy of a system.\n",
        "* In classical mechanics, it is used to formulate Hamilton's equations of motion.\n",
        "* In quantum mechanics, it is used to determine the energy levels and wavefunctions of a system.\n"
      ],
      "metadata": {
        "id": "dIOHJwGtdI0A"
      }
    },
    {
      "cell_type": "markdown",
      "source": [
        "**Hamiltonian for a Simple Harmonic Oscillator**\n",
        "\n",
        "The Hamiltonian for a simple harmonic oscillator is given by:\n",
        "\n",
        "```\n",
        "H = (p^2 / (2m)) + (1/2) * k * q^2\n",
        "```\n",
        "\n",
        "where:\n",
        "\n",
        "| Symbol | Meaning |\n",
        "|---|---|\n",
        "| H | Hamiltonian (total energy) |\n",
        "| p | Generalized momentum |\n",
        "| m | Mass of the oscillating object |\n",
        "| k | Spring constant |\n",
        "| q | Generalized position coordinate |\n",
        "\n",
        "The first term, `p^2 / (2m)`, represents the kinetic energy of the oscillator, while the second term, `(1/2) * k * q^2`, represents its potential energy.\n"
      ],
      "metadata": {
        "id": "5dCA-maUeyCo"
      }
    },
    {
      "cell_type": "code",
      "execution_count": 3,
      "metadata": {
        "colab": {
          "base_uri": "https://localhost:8080/"
        },
        "id": "-eNYsuvKdDFv",
        "outputId": "69758a23-75b0-444a-e68d-d871b04b70c2"
      },
      "outputs": [
        {
          "output_type": "stream",
          "name": "stdout",
          "text": [
            "0.5*k*x**2 + 0.5*p**2/m\n"
          ]
        }
      ],
      "source": [
        "import sympy as sp\n",
        "\n",
        "def classical_hamiltonian(kinetic_energy, potential_energy):\n",
        "  \"\"\"Calculates the classical Hamiltonian.\n",
        "\n",
        "  Args:\n",
        "    kinetic_energy: A function of the generalized coordinates and momenta representing the kinetic energy.\n",
        "    potential_energy: A function of the generalized coordinates representing the potential energy.\n",
        "\n",
        "  Returns:\n",
        "    The classical Hamiltonian.\n",
        "  \"\"\"\n",
        "\n",
        "  # Define symbols for generalized coordinates and momenta\n",
        "  q = sp.symbols('q1:n')\n",
        "  p = sp.symbols('p1:n')\n",
        "\n",
        "  # Calculate the Hamiltonian\n",
        "  hamiltonian = kinetic_energy + potential_energy\n",
        "\n",
        "  return hamiltonian\n",
        "\n",
        "  m, k = sp.symbols('m k')\n",
        "x, p = sp.symbols('x p')\n",
        "\n",
        "kinetic_energy = 0.5 * m * (p / m)**2\n",
        "potential_energy = 0.5 * k * x**2\n",
        "\n",
        "hamiltonian = classical_hamiltonian(kinetic_energy, potential_energy)\n",
        "print(hamiltonian)"
      ]
    },
    {
      "cell_type": "markdown",
      "source": [
        "**Quantum Mechanical Hamiltonian for a Simple Harmonic Oscillator**\n",
        "\n",
        "The quantum mechanical Hamiltonian for a simple harmonic oscillator is given by:\n",
        "\n",
        "```\n",
        "H = (-ħ^2 / (2m)) * d^2/dq^2 + (1/2) * k * q^2\n",
        "```\n",
        "\n",
        "where:\n",
        "\n",
        "| Symbol | Meaning |\n",
        "|---|---|\n",
        "| H | Hamiltonian (total energy operator) |\n",
        "| ħ | Reduced Planck constant (h/2π) |\n",
        "| m | Mass of the oscillating particle |\n",
        "| k | Spring constant |\n",
        "| q | Position operator |\n",
        "| d^2/dq^2 | Second derivative with respect to position |\n",
        "\n",
        "The first term, `(-ħ^2 / (2m)) * d^2/dq^2`, represents the kinetic energy operator, while the second term, `(1/2) * k * q^2`, represents the potential energy operator.\n"
      ],
      "metadata": {
        "id": "cb04-28Ie1vE"
      }
    },
    {
      "cell_type": "code",
      "source": [
        "import sympy as sp\n",
        "import numpy as np\n",
        "\n",
        "def quantum_hamiltonian(mass, potential_energy, discretization):\n",
        "  \"\"\"Calculates the quantum Hamiltonian operator in matrix form.\n",
        "\n",
        "  Args:\n",
        "    mass: Mass of the particle.\n",
        "    potential_energy: Potential energy function.\n",
        "    discretization: Number of grid points.\n",
        "\n",
        "  Returns:\n",
        "    The quantum Hamiltonian operator as a matrix.\n",
        "  \"\"\"\n",
        "\n",
        "  # Discretize position space\n",
        "  x = np.linspace(0, L, discretization)\n",
        "  dx = x[1] - x[0]\n",
        "\n",
        "  # Kinetic energy matrix\n",
        "  kinetic_energy = np.zeros((discretization, discretization))\n",
        "  kinetic_energy[0, 0] = -2\n",
        "  kinetic_energy[0, 1] = 1\n",
        "  kinetic_energy[discretization-1, discretization-1] = -2\n",
        "  kinetic_energy[discretization-1, discretization-2] = 1\n",
        "  for i in range(1, discretization-1):\n",
        "    kinetic_energy[i, i-1] = 1\n",
        "    kinetic_energy[i, i] = -2\n",
        "    kinetic_energy[i, i+1] = 1\n",
        "  kinetic_energy *= -h_bar**2 / (2 * mass * dx**2)\n",
        "\n",
        "  # Potential energy matrix\n",
        "  potential_energy_matrix = np.diag(potential_energy(x))\n",
        "\n",
        "  # Total Hamiltonian matrix\n",
        "  hamiltonian = kinetic_energy + potential_energy_matrix\n",
        "\n",
        "  return hamiltonian\n",
        "\n",
        "# Define parameters\n",
        "m, L, h_bar = 1, 1, 1  # Adjust values as needed\n",
        "discretization = 100  # Adjust discretization as needed\n",
        "\n",
        "# Potential energy for a particle in a box\n",
        "def potential_energy(x):\n",
        "  return np.where((x >= 0) & (x <= L), 0, np.inf)\n",
        "\n",
        "# Calculate the Hamiltonian\n",
        "hamiltonian = quantum_hamiltonian(m, potential_energy, discretization)\n",
        "\n",
        "# Print the Hamiltonian matrix\n",
        "print(hamiltonian)"
      ],
      "metadata": {
        "colab": {
          "base_uri": "https://localhost:8080/"
        },
        "id": "ViVPsK65gJzn",
        "outputId": "30f4b27e-454e-4e91-d7ec-ac8cddd0de5a"
      },
      "execution_count": 6,
      "outputs": [
        {
          "output_type": "stream",
          "name": "stdout",
          "text": [
            "[[ 9801.  -4900.5     0.  ...     0.      0.      0. ]\n",
            " [-4900.5  9801.  -4900.5 ...     0.      0.      0. ]\n",
            " [    0.  -4900.5  9801.  ...     0.      0.      0. ]\n",
            " ...\n",
            " [    0.      0.      0.  ...  9801.  -4900.5     0. ]\n",
            " [    0.      0.      0.  ... -4900.5  9801.  -4900.5]\n",
            " [    0.      0.      0.  ...     0.  -4900.5  9801. ]]\n"
          ]
        }
      ]
    },
    {
      "cell_type": "markdown",
      "source": [
        "The script addresses the following issues:\n",
        "\n",
        "1.   Discretization: It introduces a discretization parameter to define the number of grid points for numerical calculations. This is essential for representing the continuous position space in a discrete manner.\n",
        "2.   Kinetic energy matrix: It calculates the kinetic energy matrix using a finite difference approximation. The boundary conditions for the particle in a box are handled correctly.\n",
        "3.   Potential energy matrix: It creates a diagonal matrix representing the potential energy at each grid point.\n",
        "4.   Total Hamiltonian matrix: It combines the kinetic and potential energy matrices to obtain the total Hamiltonian matrix.\n",
        "\n",
        "By adjusting the discretization parameter and the values of m, L, and h_bar, you can explore different scenarios for the particle in a box."
      ],
      "metadata": {
        "id": "YOCZJ42egyE7"
      }
    }
  ]
}