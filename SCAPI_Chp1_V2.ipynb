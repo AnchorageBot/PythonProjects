{
  "nbformat": 4,
  "nbformat_minor": 0,
  "metadata": {
    "colab": {
      "provenance": [],
      "authorship_tag": "ABX9TyPC+KrfsqiyHJGAiH8WN8nT"
    },
    "kernelspec": {
      "name": "python3",
      "display_name": "Python 3"
    },
    "language_info": {
      "name": "python"
    }
  },
  "cells": [
    {
      "cell_type": "markdown",
      "source": [
        "# Serious Cryptography\n",
        "\n",
        "This notebook will work through the Chapter 1 concept of the casear cipher - adds a code breakout"
      ],
      "metadata": {
        "id": "n8idmd-oUAIA"
      }
    },
    {
      "cell_type": "markdown",
      "source": [
        "Our references:\n",
        "* [Google Colab](https://colab.research.google.com/)\n",
        "* [Google Colab AI](https://blog.google/technology/developers/google-colab-ai-coding-features/)\n",
        "* [Serious Cryptography: A Practical Introduction to Modern Encryption -  Aumasson, Jean-Philippe - No Starch Press](https://nostarch.com/seriouscrypto)\n",
        "* [Python version 3.12,2](https://www.python.org/)"
      ],
      "metadata": {
        "id": "98_fI6bjUK1u"
      }
    },
    {
      "cell_type": "code",
      "execution_count": null,
      "metadata": {
        "colab": {
          "base_uri": "https://localhost:8080/"
        },
        "id": "YteUc-pST_ni",
        "outputId": "c2c7f6da-68eb-4099-8e54-5ae62078b1ce"
      },
      "outputs": [
        {
          "output_type": "stream",
          "name": "stdout",
          "text": [
            "Wkh txlfn eurzq ira mxpsv ryhu wkh odcb grj.\n"
          ]
        }
      ],
      "source": [
        "# prompt: casear cipher\n",
        "\n",
        "def casear_cipher(text, shift):\n",
        "  \"\"\"\n",
        "  This function encrypts a given text using the Caesar cipher.\n",
        "\n",
        "  Args:\n",
        "    text: The string to encrypt.\n",
        "    shift: The number of positions to shift each character.\n",
        "\n",
        "  Returns:\n",
        "    The encrypted string.\n",
        "  \"\"\"\n",
        "  encrypted_text = \"\"\n",
        "  for char in text:\n",
        "    if char.isalpha():\n",
        "      # Get the ASCII value of the character.\n",
        "      ascii_value = ord(char)\n",
        "\n",
        "      # Shift the character by the specified number of positions.\n",
        "      if char.islower():\n",
        "        ascii_value += shift\n",
        "        if ascii_value > ord('z'):\n",
        "          ascii_value -= 26\n",
        "      else:\n",
        "        ascii_value += shift\n",
        "        if ascii_value > ord('Z'):\n",
        "          ascii_value -= 26\n",
        "\n",
        "      # Convert the ASCII value back to a character.\n",
        "      encrypted_char = chr(ascii_value)\n",
        "    else:\n",
        "      encrypted_char = char\n",
        "\n",
        "    # Add the encrypted character to the encrypted text.\n",
        "    encrypted_text += encrypted_char\n",
        "\n",
        "  return encrypted_text\n",
        "\n",
        "# Example usage\n",
        "text = \"The quick brown fox jumps over the lazy dog.\"\n",
        "shift = 3\n",
        "encrypted_text = casear_cipher(text, shift)\n",
        "print(encrypted_text)\n"
      ]
    },
    {
      "cell_type": "markdown",
      "source": [
        "Code breakout - [bytes.isalpha()](https://docs.python.org/3/library/stdtypes.html#bytearray.isalpha)\n",
        "* Return True if all bytes in the sequence are alphabetic ASCII characters and the sequence is not empty, False otherwise\n",
        "* Alphabetic ASCII characters are those byte values in the sequence b'abcdefghijklmnopqrstuvwxyzABCDEFGHIJKLMNOPQRSTUVWXYZ'.\n",
        "\n"
      ],
      "metadata": {
        "id": "hyD77AaDYsal"
      }
    },
    {
      "cell_type": "code",
      "source": [
        "b'ABCabc'.isalpha()"
      ],
      "metadata": {
        "colab": {
          "base_uri": "https://localhost:8080/"
        },
        "id": "MbZkocGAZFDo",
        "outputId": "521dd966-be97-454e-c284-e64524def48f"
      },
      "execution_count": 1,
      "outputs": [
        {
          "output_type": "execute_result",
          "data": {
            "text/plain": [
              "True"
            ]
          },
          "metadata": {},
          "execution_count": 1
        }
      ]
    },
    {
      "cell_type": "code",
      "source": [
        "b'ABCabc1'.isalpha()"
      ],
      "metadata": {
        "colab": {
          "base_uri": "https://localhost:8080/"
        },
        "id": "3tSNKl9FZOno",
        "outputId": "3e8378d8-1d35-40ce-a848-99d9d630f7bd"
      },
      "execution_count": 4,
      "outputs": [
        {
          "output_type": "execute_result",
          "data": {
            "text/plain": [
              "False"
            ]
          },
          "metadata": {},
          "execution_count": 4
        }
      ]
    }
  ]
}