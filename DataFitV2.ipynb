{
  "nbformat": 4,
  "nbformat_minor": 0,
  "metadata": {
    "colab": {
      "provenance": [],
      "mount_file_id": "1_HPYvzfGBBUF2HsOi7YOmUFGZXn5aED-",
      "authorship_tag": "ABX9TyMBgC0bYL2JmrKxS3axaFhJ"
    },
    "kernelspec": {
      "name": "python3",
      "display_name": "Python 3"
    },
    "language_info": {
      "name": "python"
    }
  },
  "cells": [
    {
      "cell_type": "markdown",
      "source": [
        "# Fit Data to Probability Distributions\n",
        "\n",
        "Ref:\n",
        "\n",
        "  > Fitting Data to a Distribution in Python in Just 60 Seconds! - RiskByNumbers"
      ],
      "metadata": {
        "id": "P_TosWdO5k58"
      }
    },
    {
      "cell_type": "markdown",
      "source": [
        "Import the following library tools"
      ],
      "metadata": {
        "id": "NxQ1vPCN8CM4"
      }
    },
    {
      "cell_type": "code",
      "execution_count": 1,
      "metadata": {
        "id": "LTu67__z5euP"
      },
      "outputs": [],
      "source": [
        "\n",
        "import pandas as pd\n",
        "import matplotlib.pyplot as plt\n",
        "import scipy.stats as ss"
      ]
    },
    {
      "cell_type": "markdown",
      "source": [
        "Grab some weather data from the National Weather Service\n",
        "* https://www.weather.gov/\n",
        "* Save the data as a csv file and save the file to the same google drive folder where this .pynb notebook is located\n",
        "* Drag the csv file from your desktop (google drive) and drop it into the folder icon on the left side of google colab (you will have to do this each time you want to run this notebook)"
      ],
      "metadata": {
        "id": "WFswGSjZ8sEK"
      }
    },
    {
      "cell_type": "code",
      "source": [
        "df = pd.read_csv('wx_data.csv')\n",
        "data = df['Temp']"
      ],
      "metadata": {
        "id": "n4meCHCE98PL"
      },
      "execution_count": 2,
      "outputs": []
    },
    {
      "cell_type": "markdown",
      "source": [
        "Plot the data\n",
        "\n"
      ],
      "metadata": {
        "id": "rjJE8qTRGIOr"
      }
    },
    {
      "cell_type": "code",
      "source": [
        "datasort = data.sort_values()\n",
        "plt.figure(figsize = (2,1.25))\n",
        "plt.hist(data,density = True)\n",
        "plt.show()"
      ],
      "metadata": {
        "colab": {
          "base_uri": "https://localhost:8080/",
          "height": 156
        },
        "id": "45uQlBQQGNaP",
        "outputId": "0263a8b3-98f4-4a53-efe0-30b6f544a069"
      },
      "execution_count": 3,
      "outputs": [
        {
          "output_type": "display_data",
          "data": {
            "text/plain": [
              "<Figure size 200x125 with 1 Axes>"
            ],
            "image/png": "[encoded data removed]"
          },
          "metadata": {}
        }
      ]
    },
    {
      "cell_type": "markdown",
      "source": [
        "Fit the data to the normal distribution\n",
        "* scipy.stats.norm\n",
        "* https://docs.scipy.org/doc/scipy/reference/generated/scipy.stats.norm.html"
      ],
      "metadata": {
        "id": "cOk8prLcA_TC"
      }
    },
    {
      "cell_type": "code",
      "source": [
        "normfit = ss.norm.fit(data)\n",
        "print(\"avg, \", \"standard deviation\")\n",
        "print(normfit)"
      ],
      "metadata": {
        "id": "344r9oSrBllE",
        "colab": {
          "base_uri": "https://localhost:8080/"
        },
        "outputId": "67b1d0e1-071c-455a-e2b6-3e34f7010d77"
      },
      "execution_count": 4,
      "outputs": [
        {
          "output_type": "stream",
          "name": "stdout",
          "text": [
            "avg,  standard deviation\n",
            "(33.833333333333336, 1.8633899812498247)\n"
          ]
        }
      ]
    },
    {
      "cell_type": "markdown",
      "source": [
        "Plot the data with the normal distribution"
      ],
      "metadata": {
        "id": "MeEfvL0Zu04v"
      }
    },
    {
      "cell_type": "code",
      "source": [
        "datasort = data.sort_values()\n",
        "plt.figure(figsize = (2,1.25))\n",
        "plt.hist(data,density = True)\n",
        "plt.plot(datasort, ss.norm.pdf(datasort, *normfit))"
      ],
      "metadata": {
        "id": "-V1CJ0w6vNr5",
        "colab": {
          "base_uri": "https://localhost:8080/",
          "height": 173
        },
        "outputId": "778e6979-cc01-4375-f26e-6e3c95c4677e"
      },
      "execution_count": 5,
      "outputs": [
        {
          "output_type": "execute_result",
          "data": {
            "text/plain": [
              "[<matplotlib.lines.Line2D at 0x7d59820df130>]"
            ]
          },
          "metadata": {},
          "execution_count": 5
        },
        {
          "output_type": "display_data",
          "data": {
            "text/plain": [
              "<Figure size 200x125 with 1 Axes>"
            ],
            "image/png": "[encoded data removed]"
          },
          "metadata": {}
        }
      ]
    },
    {
      "cell_type": "markdown",
      "source": [
        "Fit the data to the exponential distribution\n",
        "* scipy.stats.expon\n",
        "* https://docs.scipy.org/doc/scipy/reference/generated/scipy.stats.expon.html"
      ],
      "metadata": {
        "id": "7cHOFrWNwKSl"
      }
    },
    {
      "cell_type": "code",
      "source": [
        "exponfit = ss.expon.fit(data)\n",
        "print(\"avg,\", \"standard deviation\")\n",
        "print(exponfit)"
      ],
      "metadata": {
        "id": "eENoK4u72SLl",
        "colab": {
          "base_uri": "https://localhost:8080/"
        },
        "outputId": "db01034a-18e3-4d96-e714-08dd98402ef8"
      },
      "execution_count": 6,
      "outputs": [
        {
          "output_type": "stream",
          "name": "stdout",
          "text": [
            "avg, standard deviation\n",
            "(32.0, 1.8333333333333357)\n"
          ]
        }
      ]
    },
    {
      "cell_type": "markdown",
      "source": [
        "Plot the data with the exponential distribution"
      ],
      "metadata": {
        "id": "K3D3H8OG22H-"
      }
    },
    {
      "cell_type": "code",
      "source": [
        "datasort = data.sort_values()\n",
        "plt.figure(figsize = (2,1.25))\n",
        "plt.hist(data, density = True)\n",
        "plt.plot(datasort, ss.expon.pdf(datasort, *exponfit))"
      ],
      "metadata": {
        "id": "pETOR25m1kdr",
        "colab": {
          "base_uri": "https://localhost:8080/",
          "height": 173
        },
        "outputId": "6b36708f-eca9-4601-cfba-6b2067d59aeb"
      },
      "execution_count": 7,
      "outputs": [
        {
          "output_type": "execute_result",
          "data": {
            "text/plain": [
              "[<matplotlib.lines.Line2D at 0x7d5981fb8be0>]"
            ]
          },
          "metadata": {},
          "execution_count": 7
        },
        {
          "output_type": "display_data",
          "data": {
            "text/plain": [
              "<Figure size 200x125 with 1 Axes>"
            ],
            "image/png": "[encoded data removed]"
          },
          "metadata": {}
        }
      ]
    },
    {
      "cell_type": "markdown",
      "source": [
        "Fit the data to the uniform distribution\n",
        "* scipy.stats.uniform\n",
        "* https://docs.scipy.org/doc/scipy/reference/generated/scipy.stats.uniform.html"
      ],
      "metadata": {
        "id": "UFOAa2hP4MMc"
      }
    },
    {
      "cell_type": "code",
      "source": [
        "unifit = ss.uniform.fit(data)\n",
        "print(\"avg,\", \"standard deviation\")\n",
        "print(unifit)"
      ],
      "metadata": {
        "id": "D6H5Tu5F5FBD",
        "colab": {
          "base_uri": "https://localhost:8080/"
        },
        "outputId": "4fed61e2-34d3-4032-881b-f84fcffa00e7"
      },
      "execution_count": 8,
      "outputs": [
        {
          "output_type": "stream",
          "name": "stdout",
          "text": [
            "avg, standard deviation\n",
            "(32.0, 5.0)\n"
          ]
        }
      ]
    },
    {
      "cell_type": "markdown",
      "source": [
        "Plot the data with the uniform distribution"
      ],
      "metadata": {
        "id": "7rpZWjty5ugK"
      }
    },
    {
      "cell_type": "code",
      "source": [
        "datasort = data.sort_values()\n",
        "plt.figure(figsize = (2, 1.25))\n",
        "plt.hist(data, density= True)\n",
        "plt.plot(datasort, ss.uniform.pdf(datasort, *unifit))"
      ],
      "metadata": {
        "id": "hdNEXIqUUTpu",
        "colab": {
          "base_uri": "https://localhost:8080/",
          "height": 173
        },
        "outputId": "8293b0fd-b974-4305-a37c-c169f575efe9"
      },
      "execution_count": 18,
      "outputs": [
        {
          "output_type": "execute_result",
          "data": {
            "text/plain": [
              "[<matplotlib.lines.Line2D at 0x7d5980f77820>]"
            ]
          },
          "metadata": {},
          "execution_count": 18
        },
        {
          "output_type": "display_data",
          "data": {
            "text/plain": [
              "<Figure size 200x125 with 1 Axes>"
            ],
            "image/png": "[encoded data removed]"
          },
          "metadata": {}
        }
      ]
    }
  ]
}