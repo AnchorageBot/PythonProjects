{
  "nbformat": 4,
  "nbformat_minor": 0,
  "metadata": {
    "colab": {
      "provenance": [],
      "authorship_tag": "ABX9TyPXJF8y/WAz556HgtNBGwJF"
    },
    "kernelspec": {
      "name": "python3",
      "display_name": "Python 3"
    },
    "language_info": {
      "name": "python"
    }
  },
  "cells": [
    {
      "cell_type": "markdown",
      "source": [
        "REA Differential Equations Notebook\n",
        "\n",
        "* Page 1A\n",
        "\n",
        "Tutor:\n",
        "* Anthropic's AI, Claude"
      ],
      "metadata": {
        "id": "HOXviQDxyqUH"
      }
    },
    {
      "cell_type": "markdown",
      "source": [
        "## Classification of ODEs\n",
        "\n",
        "1. **Independent Variable**\n",
        "   - ODEs have one independent variable (typically t or x)\n",
        "   - This distinguishes them from Partial Differential Equations (PDEs)\n",
        "\n",
        "2. **Order**\n",
        "   - Determined by the highest derivative present\n",
        "   - Examples:\n",
        "     - First-order: $\\frac{dy}{dx}$ (single derivative)\n",
        "     - Higher orders would include terms like $\\frac{d^2y}{dx^2}$, $\\frac{d^3y}{dx^3}$, etc.\n",
        "\n",
        "3. **Linearity**\n",
        "   - Linear ODEs:\n",
        "     - The dependent variable (y) and its derivatives appear to first power only\n",
        "     - No products of y or its derivatives\n",
        "     - Example $\\frac{dy}{dx} + ay = f(x)$\n",
        "   - Non-linear ODEs:\n",
        "     - Contain any other form (products, powers, functions of y)\n",
        "     - Example $\\frac{dy}{dx} = y^2$ is non-linear due to the squared term\n",
        "\n",
        "Additional important characteristics worth noting:\n",
        "\n",
        "4. **Homogeneity**\n",
        "   - Homogeneous: All terms contain the dependent variable (y)\n",
        "   - Non-homogeneous: Contains terms without y (like your f(x) term)\n",
        "\n",
        "5. **Solution Methods**\n",
        "   For first-order linear ODEs:\n",
        "   - Integrating factor method\n",
        "   - Separation of variables\n",
        "   - Exact equations\n",
        "   \n",
        "Example forms:\n",
        "- $f(x)y' = g(x)y = h(x)$ can be rearranged to standard form\n",
        "- $\\frac{dy}{dx} + ay = f(x)$ is a first-order linear ODE (can be solved using integrating factor)\n",
        "- $\\frac{dy}{dx} = y^2$ is separable and can be solved by separation of variables\n"
      ],
      "metadata": {
        "id": "UOMSEGYaiYVW"
      }
    },
    {
      "cell_type": "markdown",
      "source": [
        "## Solution Methods for Common ODEs\n",
        "\n",
        "1. **Separation of Variables**\n",
        "   - Used when equation can be written as: $\\frac{dy}{dx} = g(x)h(y)$\n",
        "   - Method:\n",
        "     1. Rearrange to $\\frac{dy}{h(y)} = g(x)dx$\n",
        "     2. Integrate both sides: $\\int \\frac{dy}{h(y)} = \\int g(x)dx$\n",
        "   - Example: For $\\frac{dy}{dx} = y^2$\n",
        "     1. $\\frac{dy}{y^2} = dx$\n",
        "     2. $-\\frac{1}{y} = x + C$\n",
        "     3. Solution: $y = -\\frac{1}{x + C}$\n",
        "\n",
        "2. **Integrating Factor Method**\n",
        "   - For linear first-order ODEs: $\\frac{dy}{dx} + P(x)y = Q(x)$\n",
        "   - Steps:\n",
        "     1. Find integrating factor μ(x) = $e^{\\int P(x)dx}$\n",
        "     2. Multiply entire equation by μ(x)\n",
        "     3. Left side becomes derivative of product\n",
        "   - Example: $\\frac{dy}{dx} + 2xy = x$\n",
        "     1. μ(x) = $e^{\\int 2xdx} = e^{x^2}$\n",
        "     2. $e^{x^2}\\frac{dy}{dx} + 2xe^{x^2}y = xe^{x^2}$\n",
        "     3. Solution: $y = \\frac{1}{2} + Ce^{-x^2}$\n",
        "\n",
        "3. **Exact Equations**\n",
        "   - Form: $M(x,y)dx + N(x,y)dy = 0$\n",
        "   - Condition: $\\frac{\\partial M}{\\partial y} = \\frac{\\partial N}{\\partial x}$\n",
        "   - Solution exists as $F(x,y) = C$ where:\n",
        "     - $\\frac{\\partial F}{\\partial x} = M$ and $\\frac{\\partial F}{\\partial y} = N$\n",
        "\n",
        "4. **Higher Order Linear ODEs**\n",
        "   - General form: $ay'' + by' + cy = f(x)$\n",
        "   - Solution is sum of:\n",
        "     - Complementary function (solution to homogeneous equation)\n",
        "     - Particular integral (any solution to full equation)\n",
        "   - For constant coefficients:\n",
        "     1. Write characteristic equation\n",
        "     2. Find roots (real or complex)\n",
        "     3. Form general solution based on root types\n",
        "\n",
        "## Special Cases and Applications\n",
        "\n",
        "1. **Initial Value Problems (IVPs)**\n",
        "   - ODE with given initial conditions\n",
        "   - Example: $\\frac{dy}{dx} + y = 0$, y(0) = 1\n",
        "   - Solution must satisfy both ODE and initial conditions\n",
        "\n",
        "2. **Boundary Value Problems (BVPs)**\n",
        "   - Conditions specified at different points\n",
        "   - Common in physics and engineering applications\n",
        "\n",
        "## Applications in Physics and Engineering\n",
        "\n",
        "1. **Simple Harmonic Motion**\n",
        "   - $\\frac{d^2x}{dt^2} + \\omega^2x = 0$\n",
        "   - Describes oscillating systems\n",
        "\n",
        "2. **Newton's Law of Cooling**\n",
        "   - $\\frac{dT}{dt} = -k(T - T_a)$\n",
        "   - Models temperature change\n",
        "\n",
        "3. **Population Growth**\n",
        "   - $\\frac{dP}{dt} = kP(1 - \\frac{P}{K})$\n",
        "   - Logistic growth model\n"
      ],
      "metadata": {
        "id": "qbJkw8odi3K_"
      }
    }
  ]
}
