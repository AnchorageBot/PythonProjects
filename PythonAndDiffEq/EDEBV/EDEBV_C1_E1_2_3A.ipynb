{
  "nbformat": 4,
  "nbformat_minor": 0,
  "metadata": {
    "colab": {
      "provenance": [],
      "authorship_tag": "ABX9TyOJbAopryUHAAxQ3vAQgtS+"
    },
    "kernelspec": {
      "name": "python3",
      "display_name": "Python 3"
    },
    "language_info": {
      "name": "python"
    }
  },
  "cells": [
    {
      "cell_type": "markdown",
      "source": [
        "[Elementary Differential Equations with Boundary Value Problems - William F. Trench - Trinity University](https://digitalcommons.trinity.edu/mono/9/)\n",
        "\n",
        "Chapter 1\n",
        "* Exercise 1.2.3\n",
        "\n",
        "Tutors\n",
        "* Anthropic's AI Claude\n",
        "* Wolfram Alpha\n",
        "\n",
        "References\n",
        "* Wikipedia"
      ],
      "metadata": {
        "id": "Z_4nJ4dmMdSW"
      }
    },
    {
      "cell_type": "markdown",
      "source": [
        "Given:\n",
        "* 2nd order ODE y\" + 2y' + y = 2x\n",
        "* Constants c1 and c2\n",
        "* y = (c1 + c2x)e^-x + 2x - 4\n",
        "\n",
        "Find:\n",
        "* Show that y = (c1 + c2x)e^-x + 2x - 4 is a solution of y\" + 2y' + y = 2x on $(-{\\infty}, {\\infty})$\n"
      ],
      "metadata": {
        "id": "hqFMzVc0MoWZ"
      }
    },
    {
      "cell_type": "markdown",
      "source": [
        "Solution:\n",
        "\n",
        "* Differentiate y to get the resulting y' term\n",
        "  \n",
        "  * Use the constant term rule $\\frac{d}{dx}(c) = 0$\n",
        "\n",
        "  * Use the power rule $\\frac{d}{dx}(x^n) = nx^{n-1}$\n",
        "\n",
        "  * Use the chain rule $\\frac{d h(x)}{dx} = \\frac{df(g(x))}{dx} \\cdot \\frac{d g(x)}{dx}$\n",
        "\n",
        "* Differentiate y' to get the resulting y\" term\n",
        "\n",
        "* Substitute the y' and y\" terms back into y\" + 2y' + y = 2x\n",
        "\n",
        "* Simplify"
      ],
      "metadata": {
        "id": "8wiVHVcNOrTV"
      }
    },
    {
      "cell_type": "code",
      "execution_count": null,
      "metadata": {
        "id": "oMHvjiOKMOzn"
      },
      "outputs": [],
      "source": []
    }
  ]
}
