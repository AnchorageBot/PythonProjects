{
  "nbformat": 4,
  "nbformat_minor": 0,
  "metadata": {
    "colab": {
      "provenance": [],
      "authorship_tag": "ABX9TyPMaZwGz5cUezLqWfF0+aE4"
    },
    "kernelspec": {
      "name": "python3",
      "display_name": "Python 3"
    },
    "language_info": {
      "name": "python"
    }
  },
  "cells": [
    {
      "cell_type": "markdown",
      "source": [
        "REA Differential Equations Notebook\n",
        "\n",
        "* Page 1A\n",
        "\n",
        "Tutor:\n",
        "* Anthropic's AI, Claude"
      ],
      "metadata": {
        "id": "ql_QTz5Uxg94"
      }
    },
    {
      "cell_type": "markdown",
      "source": [
        "###Closed forms in mathematics.\n",
        "\n",
        "A closed form expression is essentially a \"final answer\" that can be expressed in terms of familiar mathematical operations and well-known functions. However, the concept has some nuance that's worth exploring:\n",
        "\n",
        "**What IS a Closed Form:**\n",
        "\n",
        "1. **Basic Operations:**\n",
        "   - Finite number of elementary operations (+, -, ×, ÷)\n",
        "   - Integer exponents\n",
        "   - Root operations\n",
        "   - Example: $x = \\frac{-b \\pm \\sqrt{b^2 - 4ac}}{2a}$ (quadratic formula)\n",
        "\n",
        "2. **Well-known Functions:**\n",
        "   - Elementary functions (polynomials, exponentials, logarithms)\n",
        "   - Trigonometric functions and their inverses\n",
        "   - Example: $f(x) = \\sin(x) + e^x$\n",
        "\n",
        "3. **Finite Combinations:**\n",
        "   - Can be evaluated in a finite number of steps\n",
        "   - No limits, infinite series, or recursive definitions\n",
        "   - Example: $f(x) = \\ln(x^2 + 1) + \\sqrt{x}$\n",
        "\n",
        "**What is NOT a Closed Form:**\n",
        "\n",
        "1. **Infinite Processes:**\n",
        "   - Infinite series: $\\sum_{n=1}^{\\infty} \\frac{1}{n^2}$\n",
        "   - Infinite products\n",
        "   - Limit definitions\n",
        "\n",
        "2. **Recursive Definitions:**\n",
        "   - Fibonacci sequence: $F_n = F_{n-1} + F_{n-2}$\n",
        "   - Iterative processes\n",
        "   - Numerical methods\n",
        "\n",
        "3. **Special Functions:**\n",
        "   - Error function (erf)\n",
        "   - Many integrals\n",
        "   - Numerical approximations\n",
        "\n",
        "**Why It Matters:**\n",
        "\n",
        "1. **Computational Advantage:**\n",
        "   - Closed forms can be directly evaluated\n",
        "   - No iterative approximations needed\n",
        "   - Generally more efficient\n",
        "\n",
        "2. **Analytical Benefits:**\n",
        "   - Easier to analyze properties\n",
        "   - Clear parameter dependencies\n",
        "   - Better for theoretical work\n",
        "\n",
        "3. **Limitations:**\n",
        "   - Many important functions lack closed forms\n",
        "   - Some closed forms are more complex than numerical solutions\n",
        "   - Not always the most practical approach\n",
        "\n",
        "**In Our Logistic Model:**\n",
        "```python\n",
        "# Closed form solution:\n",
        "P(t) = K / (1 + ((K-P0)/P0) * exp(-kt))\n",
        "\n",
        "# Not closed form (numerical):\n",
        "dP/dt = kP(1-P/K)  # Requires numerical integration\n",
        "```\n",
        "\n",
        "The logistic model is special because it has both:\n",
        "1. A closed-form solution (analytical)\n",
        "2. A differential equation form (numerical)\n",
        "\n",
        "This allows us to compare both approaches, as we did in our error analysis.\n"
      ],
      "metadata": {
        "id": "MVqQ1tJcxYgF"
      }
    }
  ]
}
