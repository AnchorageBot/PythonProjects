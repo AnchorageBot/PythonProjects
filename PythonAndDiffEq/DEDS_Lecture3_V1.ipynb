{
  "nbformat": 4,
  "nbformat_minor": 0,
  "metadata": {
    "colab": {
      "provenance": [],
      "authorship_tag": "ABX9TyPxIMNQ8seAVi/kraveXJZn"
    },
    "kernelspec": {
      "name": "python3",
      "display_name": "Python 3"
    },
    "language_info": {
      "name": "python"
    }
  },
  "cells": [
    {
      "cell_type": "markdown",
      "source": [
        "# Differential Equations and Dynamical Systems\n",
        "\n",
        "This notebook will work through a simple weather model as presented in lecture 3\n",
        "* Gentle Introduction to Modeling with Matrices and Vectors: A Probabilistic Weather Model"
      ],
      "metadata": {
        "id": "r23oCPfjseba"
      }
    },
    {
      "cell_type": "markdown",
      "source": [
        "Our references are:\n",
        "* [Differential Equations and Dynamical Systems - Dr Steven L Brunton - YouTube Lectures](https://www.youtube.com/playlist?list=PLMrJAkhIeNNTYaOnVI3QpH7jgULnAmvPA)\n",
        "* [Matplotlib version 3.8](https://matplotlib.org/)\n",
        "* [Numpy version 1.26.0](https://numpy.org/)\n",
        "* [Python version 3.12.2](https://www.python.org/)"
      ],
      "metadata": {
        "id": "6GE6H5FRs2Er"
      }
    },
    {
      "cell_type": "markdown",
      "source": [
        "Weather States\n",
        "* Rainy = R\n",
        "* Cloudy = C\n",
        "* Nice = N\n",
        "\n",
        "Transition Matrix = Probability of moving from state to state = A\n",
        "* Rows R, C, N\n",
        "* Columns R, C, N\n",
        "* 3 x 3 matrix\n",
        "\n",
        "Todays weather conditions as a probability vector = x_today\n",
        "* Column vector\n",
        "* [R, C, N] = [1,0,0]"
      ],
      "metadata": {
        "id": "HVRGjOwPtotQ"
      }
    },
    {
      "cell_type": "markdown",
      "source": [
        "The script will assign proabilities, estimate tomorrows weather, and estimate weather for the next 50 days"
      ],
      "metadata": {
        "id": "u-I3961qyx3y"
      }
    },
    {
      "cell_type": "code",
      "execution_count": 2,
      "metadata": {
        "colab": {
          "base_uri": "https://localhost:8080/",
          "height": 1000
        },
        "id": "WN0924R7sdX-",
        "outputId": "7a4147eb-1bdf-42f2-e320-d759f7c440e1"
      },
      "outputs": [
        {
          "output_type": "stream",
          "name": "stdout",
          "text": [
            "Transistion Matrix A: \n",
            " [[0.5  0.5  0.25]\n",
            " [0.25 0.   0.25]\n",
            " [0.25 0.5  0.5 ]]\n",
            "\n",
            " Todays weather conditions x_today: \n",
            " [[1]\n",
            " [0]\n",
            " [0]]\n",
            "\n",
            " The probabilities of tomorrows weather is given by matrix multiplicaton: \n",
            " [[0.5 ]\n",
            " [0.25]\n",
            " [0.25]]\n",
            "\n",
            " the probability of the weather each day for the next k days is broken out as: \n",
            "\n",
            " day 0\n",
            " probability of Rain, Cloudy, Nice \n",
            " [[0.5 ]\n",
            " [0.25]\n",
            " [0.25]]\n",
            "\n",
            " day 1\n",
            " probability of Rain, Cloudy, Nice \n",
            " [[0.4375]\n",
            " [0.1875]\n",
            " [0.375 ]]\n",
            "\n",
            " day 2\n",
            " probability of Rain, Cloudy, Nice \n",
            " [[0.40625 ]\n",
            " [0.203125]\n",
            " [0.390625]]\n",
            "\n",
            " day 3\n",
            " probability of Rain, Cloudy, Nice \n",
            " [[0.40234375]\n",
            " [0.19921875]\n",
            " [0.3984375 ]]\n",
            "\n",
            " day 4\n",
            " probability of Rain, Cloudy, Nice \n",
            " [[0.40039062]\n",
            " [0.20019531]\n",
            " [0.39941406]]\n",
            "\n",
            " day 5\n",
            " probability of Rain, Cloudy, Nice \n",
            " [[0.40014648]\n",
            " [0.19995117]\n",
            " [0.39990234]]\n",
            "\n",
            " day 6\n",
            " probability of Rain, Cloudy, Nice \n",
            " [[0.40002441]\n",
            " [0.20001221]\n",
            " [0.39996338]]\n",
            "\n",
            " day 7\n",
            " probability of Rain, Cloudy, Nice \n",
            " [[0.40000916]\n",
            " [0.19999695]\n",
            " [0.3999939 ]]\n",
            "\n",
            " day 8\n",
            " probability of Rain, Cloudy, Nice \n",
            " [[0.40000153]\n",
            " [0.20000076]\n",
            " [0.39999771]]\n",
            "\n",
            " day 9\n",
            " probability of Rain, Cloudy, Nice \n",
            " [[0.40000057]\n",
            " [0.19999981]\n",
            " [0.39999962]]\n",
            "\n",
            " mondo weather matrix\n"
          ]
        },
        {
          "output_type": "display_data",
          "data": {
            "text/plain": [
              "<Figure size 640x480 with 1 Axes>"
            ],
            "image/png": "[encoded data removed]"
          },
          "metadata": {}
        }
      ],
      "source": [
        "import numpy as np\n",
        "from matplotlib import pyplot as plt\n",
        "\n",
        "A = np.array([[0.5, 0.5, 0.25],\n",
        "              [0.25, 0.0, 0.25],\n",
        "               [0.25, 0.5, 0.5]])\n",
        "\n",
        "print('Transistion Matrix A: \\n', A)\n",
        "\n",
        "x_today = np.array([[1],\n",
        "                    [0],\n",
        "                    [0]])\n",
        "\n",
        "print('\\n Todays weather conditions x_today: \\n', x_today)\n",
        "print('\\n The probabilities of tomorrows weather is given by matrix multiplicaton: \\n', A@x_today)\n",
        "\n",
        "print('\\n the probability of the weather each day for the next k days is broken out as: ')\n",
        "for k in range(10):\n",
        "  x_tomorrow = A@x_today\n",
        "  x_today = x_tomorrow\n",
        "  print('\\n day', k)\n",
        "  print(' probability of Rain, Cloudy, Nice \\n', x_tomorrow)\n",
        "\n",
        "print('\\n mondo weather matrix')\n",
        "mondo_weather_matrix = np.zeros((3, 10))\n",
        "mondo_weather_matrix[:,0] = x_today[:,0]\n",
        "for k in range(10):\n",
        "  x_tomorrow = A@x_today\n",
        "  x_today = x_tomorrow\n",
        "  mondo_weather_matrix[:,k] = x_tomorrow[:,0]\n",
        "  #print(the_weather_mondo_matrix)\n",
        "\n",
        "plt.plot(mondo_weather_matrix.transpose())\n",
        "plt.grid(True)"
      ]
    }
  ]
}
