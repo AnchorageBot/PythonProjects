{
  "nbformat": 4,
  "nbformat_minor": 0,
  "metadata": {
    "colab": {
      "provenance": [],
      "authorship_tag": "ABX9TyNX0P9hvaEw4y7P8CeiMzl6"
    },
    "kernelspec": {
      "name": "python3",
      "display_name": "Python 3"
    },
    "language_info": {
      "name": "python"
    }
  },
  "cells": [
    {
      "cell_type": "markdown",
      "source": [
        "Laplace Transform Notebook\n",
        "* Adding Diagrams to Google Colab Notebooks\n",
        "\n",
        "Tutor:\n",
        "* Anthropic's AI Claude"
      ],
      "metadata": {
        "id": "WXw4dGNPQXlZ"
      }
    },
    {
      "cell_type": "markdown",
      "source": [
        "Two methods to add this RLC circuit diagram to Google Colab:\n",
        "\n",
        "Method 1 - Using SVG directly in Markdown:\n",
        "1. Create a new code cell in Colab\n",
        "2. Change it to a text cell by clicking the \"{}\" icon or using Ctrl+M M\n",
        "3. Copy and paste this code:\n",
        "\n",
        "```markdown\n",
        "%%html\n",
        "<svg viewBox=\"0 0 400 200\" xmlns=\"http://www.w3.org/2000/svg\">\n",
        "    <!-- Copy the entire SVG code from my previous response, starting from the circle element -->\n",
        "</svg>\n",
        "```\n",
        "\n",
        "Method 2 - Using Python to display the SVG (more reliable):\n",
        "1. Create a new code cell\n",
        "2. Paste this Python code:\n",
        "\n",
        "```python\n",
        "from IPython.display import SVG, display\n",
        "\n",
        "svg_code = '''\n",
        "<svg viewBox=\"0 0 400 200\" xmlns=\"http://www.w3.org/2000/svg\">\n",
        "    <!-- Voltage Source -->\n",
        "    <circle cx=\"50\" cy=\"100\" r=\"20\" fill=\"none\" stroke=\"black\" stroke-width=\"2\"/>\n",
        "    <line x1=\"50\" y1=\"75\" x2=\"50\" y2=\"125\" stroke=\"black\" stroke-width=\"2\"/>\n",
        "    <text x=\"30\" y=\"105\" font-size=\"14\">Vs</text>\n",
        "    \n",
        "    <!-- Wire -->\n",
        "    <line x1=\"50\" y1=\"80\" x2=\"50\" y2=\"40\" stroke=\"black\" stroke-width=\"2\"/>\n",
        "    <line x1=\"50\" y1=\"40\" x2=\"100\" y2=\"40\" stroke=\"black\" stroke-width=\"2\"/>\n",
        "    \n",
        "    <!-- Resistor -->\n",
        "    <path d=\"M 100 40 L 110 40 L 115 30 L 125 50 L 135 30 L 145 50 L 155 30 L 165 50 L 170 40 L 180 40\"\n",
        "          fill=\"none\" stroke=\"black\" stroke-width=\"2\"/>\n",
        "    <text x=\"125\" y=\"25\" font-size=\"14\">R</text>\n",
        "    \n",
        "    <!-- Inductor -->\n",
        "    <path d=\"M 180 40 C 190 40 190 30 200 30 C 210 30 210 40 220 40 C 230 40 230 30 240 30 C 250 30 250 40 260 40\"\n",
        "          fill=\"none\" stroke=\"black\" stroke-width=\"2\"/>\n",
        "    <text x=\"210\" y=\"25\" font-size=\"14\">L</text>\n",
        "    \n",
        "    <!-- Capacitor -->\n",
        "    <line x1=\"260\" y1=\"40\" x2=\"290\" y2=\"40\" stroke=\"black\" stroke-width=\"2\"/>\n",
        "    <line x1=\"290\" y1=\"30\" x2=\"290\" y2=\"50\" stroke=\"black\" stroke-width=\"2\"/>\n",
        "    <line x1=\"300\" y1=\"30\" x2=\"300\" y2=\"50\" stroke=\"black\" stroke-width=\"2\"/>\n",
        "    <text x=\"285\" y=\"25\" font-size=\"14\">C</text>\n",
        "    \n",
        "    <!-- Complete Circuit -->\n",
        "    <line x1=\"300\" y1=\"40\" x2=\"350\" y2=\"40\" stroke=\"black\" stroke-width=\"2\"/>\n",
        "    <line x1=\"350\" y1=\"40\" x2=\"350\" y2=\"160\" stroke=\"black\" stroke-width=\"2\"/>\n",
        "    <line x1=\"350\" y1=\"160\" x2=\"50\" y2=\"160\" stroke=\"black\" stroke-width=\"2\"/>\n",
        "    <line x1=\"50\" y1=\"160\" x2=\"50\" y2=\"120\" stroke=\"black\" stroke-width=\"2\"/>\n",
        "</svg>\n",
        "'''\n",
        "\n",
        "display(SVG(svg_code))\n",
        "```\n",
        "\n",
        "Alternative Method - Using DrawIO:\n",
        "If you prefer using a graphical interface:\n",
        "1. In Colab, click Insert → Drawing\n",
        "2. This opens Draw.io integration\n",
        "3. Draw your circuit (or import existing diagrams)\n",
        "4. Click Save and Close\n",
        "5. The diagram will be automatically inserted into your notebook\n"
      ],
      "metadata": {
        "id": "AtHJzRK5QZk1"
      }
    },
    {
      "cell_type": "code",
      "source": [
        "from IPython.display import SVG, display\n",
        "\n",
        "svg_code = '''\n",
        "<svg viewBox=\"0 0 400 200\" xmlns=\"http://www.w3.org/2000/svg\">\n",
        "    <!-- Voltage Source -->\n",
        "    <circle cx=\"50\" cy=\"100\" r=\"20\" fill=\"none\" stroke=\"black\" stroke-width=\"2\"/>\n",
        "    <line x1=\"50\" y1=\"75\" x2=\"50\" y2=\"125\" stroke=\"black\" stroke-width=\"2\"/>\n",
        "    <text x=\"30\" y=\"105\" font-size=\"14\">Vs</text>\n",
        "\n",
        "    <!-- Wire -->\n",
        "    <line x1=\"50\" y1=\"80\" x2=\"50\" y2=\"40\" stroke=\"black\" stroke-width=\"2\"/>\n",
        "    <line x1=\"50\" y1=\"40\" x2=\"100\" y2=\"40\" stroke=\"black\" stroke-width=\"2\"/>\n",
        "\n",
        "    <!-- Resistor -->\n",
        "    <path d=\"M 100 40 L 110 40 L 115 30 L 125 50 L 135 30 L 145 50 L 155 30 L 165 50 L 170 40 L 180 40\"\n",
        "          fill=\"none\" stroke=\"black\" stroke-width=\"2\"/>\n",
        "    <text x=\"125\" y=\"25\" font-size=\"14\">R</text>\n",
        "\n",
        "    <!-- Inductor -->\n",
        "    <path d=\"M 180 40 C 190 40 190 30 200 30 C 210 30 210 40 220 40 C 230 40 230 30 240 30 C 250 30 250 40 260 40\"\n",
        "          fill=\"none\" stroke=\"black\" stroke-width=\"2\"/>\n",
        "    <text x=\"210\" y=\"25\" font-size=\"14\">L</text>\n",
        "\n",
        "    <!-- Capacitor -->\n",
        "    <line x1=\"260\" y1=\"40\" x2=\"290\" y2=\"40\" stroke=\"black\" stroke-width=\"2\"/>\n",
        "    <line x1=\"290\" y1=\"30\" x2=\"290\" y2=\"50\" stroke=\"black\" stroke-width=\"2\"/>\n",
        "    <line x1=\"300\" y1=\"30\" x2=\"300\" y2=\"50\" stroke=\"black\" stroke-width=\"2\"/>\n",
        "    <text x=\"285\" y=\"25\" font-size=\"14\">C</text>\n",
        "\n",
        "    <!-- Complete Circuit -->\n",
        "    <line x1=\"300\" y1=\"40\" x2=\"350\" y2=\"40\" stroke=\"black\" stroke-width=\"2\"/>\n",
        "    <line x1=\"350\" y1=\"40\" x2=\"350\" y2=\"160\" stroke=\"black\" stroke-width=\"2\"/>\n",
        "    <line x1=\"350\" y1=\"160\" x2=\"50\" y2=\"160\" stroke=\"black\" stroke-width=\"2\"/>\n",
        "    <line x1=\"50\" y1=\"160\" x2=\"50\" y2=\"120\" stroke=\"black\" stroke-width=\"2\"/>\n",
        "</svg>\n",
        "'''\n",
        "\n",
        "display(SVG(svg_code))"
      ],
      "metadata": {
        "colab": {
          "base_uri": "https://localhost:8080/",
          "height": 600
        },
        "id": "9JbdBmOqR7hb",
        "outputId": "ee8674e0-0221-47f4-c387-566b5cf66863"
      },
      "execution_count": 1,
      "outputs": [
        {
          "output_type": "display_data",
          "data": {
            "text/plain": [
              "<IPython.core.display.SVG object>"
            ],
            "image/svg+xml": "<svg xmlns=\"http://www.w3.org/2000/svg\" viewBox=\"0 0 400 200\">\n    <!-- Voltage Source -->\n    <circle cx=\"50\" cy=\"100\" r=\"20\" fill=\"none\" stroke=\"black\" stroke-width=\"2\"/>\n    <line x1=\"50\" y1=\"75\" x2=\"50\" y2=\"125\" stroke=\"black\" stroke-width=\"2\"/>\n    <text x=\"30\" y=\"105\" font-size=\"14\">Vs</text>\n    \n    <!-- Wire -->\n    <line x1=\"50\" y1=\"80\" x2=\"50\" y2=\"40\" stroke=\"black\" stroke-width=\"2\"/>\n    <line x1=\"50\" y1=\"40\" x2=\"100\" y2=\"40\" stroke=\"black\" stroke-width=\"2\"/>\n    \n    <!-- Resistor -->\n    <path d=\"M 100 40 L 110 40 L 115 30 L 125 50 L 135 30 L 145 50 L 155 30 L 165 50 L 170 40 L 180 40\" fill=\"none\" stroke=\"black\" stroke-width=\"2\"/>\n    <text x=\"125\" y=\"25\" font-size=\"14\">R</text>\n    \n    <!-- Inductor -->\n    <path d=\"M 180 40 C 190 40 190 30 200 30 C 210 30 210 40 220 40 C 230 40 230 30 240 30 C 250 30 250 40 260 40\" fill=\"none\" stroke=\"black\" stroke-width=\"2\"/>\n    <text x=\"210\" y=\"25\" font-size=\"14\">L</text>\n    \n    <!-- Capacitor -->\n    <line x1=\"260\" y1=\"40\" x2=\"290\" y2=\"40\" stroke=\"black\" stroke-width=\"2\"/>\n    <line x1=\"290\" y1=\"30\" x2=\"290\" y2=\"50\" stroke=\"black\" stroke-width=\"2\"/>\n    <line x1=\"300\" y1=\"30\" x2=\"300\" y2=\"50\" stroke=\"black\" stroke-width=\"2\"/>\n    <text x=\"285\" y=\"25\" font-size=\"14\">C</text>\n    \n    <!-- Complete Circuit -->\n    <line x1=\"300\" y1=\"40\" x2=\"350\" y2=\"40\" stroke=\"black\" stroke-width=\"2\"/>\n    <line x1=\"350\" y1=\"40\" x2=\"350\" y2=\"160\" stroke=\"black\" stroke-width=\"2\"/>\n    <line x1=\"350\" y1=\"160\" x2=\"50\" y2=\"160\" stroke=\"black\" stroke-width=\"2\"/>\n    <line x1=\"50\" y1=\"160\" x2=\"50\" y2=\"120\" stroke=\"black\" stroke-width=\"2\"/>\n</svg>"
          },
          "metadata": {}
        }
      ]
    }
  ]
}
