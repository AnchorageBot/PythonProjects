{
  "nbformat": 4,
  "nbformat_minor": 0,
  "metadata": {
    "colab": {
      "provenance": [],
      "authorship_tag": "ABX9TyP0p33Oew2MjVEuILKUyJF6"
    },
    "kernelspec": {
      "name": "python3",
      "display_name": "Python 3"
    },
    "language_info": {
      "name": "python"
    }
  },
  "cells": [
    {
      "cell_type": "markdown",
      "source": [
        "[Differential Equations, Essential Skills Practice Workbook with Answers - Dr. Chris McMullen](https://www.goodreads.com/book/show/63317661-differential-equations-essential-skills-practice-workbook-with-answers)\n",
        "\n",
        "Chapter 1 - Kinds of Differential Equations\n",
        "\n",
        "Tutors:\n",
        "* [Anthropic's AI Claude](https://claude.ai/login?returnTo=%2F%3F)\n",
        "* [Google's AI PaLM2](https://ai.google/discover/palm2/)\n"
      ],
      "metadata": {
        "id": "g-sLK3xfKaQU"
      }
    },
    {
      "cell_type": "markdown",
      "source": [
        "Given:\n",
        "\n",
        " $\\frac{d^2y}{dx^2} + 2x\\frac{dy}{dx} + y = 0$\n",
        "\n",
        "Find:\n",
        "\n",
        " * Classify the differential equation"
      ],
      "metadata": {
        "id": "bXWfH33QLSBl"
      }
    },
    {
      "cell_type": "markdown",
      "source": [
        "Assumptions:\n",
        "\n",
        "**Ordinary Differential Equations (ODEs)** are equations that involve a function of a single independent variable and its derivatives.\n",
        "\n",
        "A general form of an ODE can be written as:\n",
        "\n",
        "$F(x, y, y', y'', \\ldots, y^{(n)}) = 0$\n",
        "\n",
        "Where:\n",
        "- $x$ is the independent variable\n",
        "- $y = f(x)$ is the dependent variable (function of interest)\n",
        "- $y', y'', \\ldots, y^{(n)}$ represent the first, second, and up to nth derivatives of $y$ with respect to $x$\n",
        "- $F$ is a function that defines the relationship\n",
        "\n",
        "**Partial Differential Equations (PDEs)** are equations that involve relationships between a function of multiple variables and its partial derivatives.\n",
        "\n",
        "A general form of a PDE can be written as:\n",
        "\n",
        "$F(x_1, \\ldots, x_n, u, \\frac{\\partial u}{\\partial x_1}, \\ldots, \\frac{\\partial u}{\\partial x_n}, \\frac{\\partial^2 u}{\\partial x_1^2}, \\ldots) = 0$\n",
        "\n",
        "Where:\n",
        "- $u$ is the function of interest\n",
        "- $x_1, \\ldots, x_n$ are independent variables\n",
        "- $F$ is a function that defines the relationship\n",
        "\n",
        "**The Order** of a differential equation (ODE or PDE) is defined as the highest order of derivative that appears in the equation.\n",
        "\n",
        "Formally:\n",
        "- For an ODE: If the highest derivative in the equation is $\\frac{d^ny}{dx^n}$, then the order is $n$.\n",
        "- For a PDE: If the highest partial derivative in the equation is $\\frac{\\partial^n u}{\\partial x_i^{n_i} \\partial x_j^{n_j} \\cdots}$, where $n = n_i + n_j + \\cdots$, then the order is $n$.\n",
        "\n",
        "Examples:\n",
        "1. First-order ODE: $\\frac{dy}{dx} + y = x$\n",
        "2. Second-order ODE: $\\frac{d^2y}{dx^2} + 2\\frac{dy}{dx} + y = 0$\n",
        "3. First-order PDE: $\\frac{\\partial u}{\\partial x} + \\frac{\\partial u}{\\partial y} = 0$\n",
        "4. Second-order PDE: $\\frac{\\partial^2 u}{\\partial x^2} + \\frac{\\partial^2 u}{\\partial y^2} = 0$\n",
        "  * This is a second-order PDE where $u$ is a function of $x$ and $y$.\n",
        "\n",
        "**An ODE is Linear** if it can be expressed in the form:\n",
        "\n",
        "$a_n(x)\\frac{d^ny}{dx^n} + a_{n-1}(x)\\frac{d^{n-1}y}{dx^{n-1}} + \\ldots + a_1(x)\\frac{dy}{dx} + a_0(x)y = f(x)$\n",
        "\n",
        "Where:\n",
        "- $a_n(x), a_{n-1}(x), \\ldots, a_1(x), a_0(x)$ are functions of $x$ (coefficients)\n",
        "- $y$ is the dependent variable\n",
        "- $x$ is the independent variable\n",
        "- $f(x)$ is the forcing function (right-hand side of the equation)\n",
        "- $n$ is the order of the differential equation\n",
        "\n",
        "A first order linear ODE takes the form of\n",
        "- $a_1(x)\\frac{dy}{dx} + a_0(x)y = f(x)$\n",
        "\n",
        "A second order linear ODE takes the form of\n",
        "- $a_2(x)\\frac{d^2y}{dx^2} + a_1(x)\\frac{dy}{dx} + a_0(x)y = f(x)$"
      ],
      "metadata": {
        "id": "xlHdMStWLXQN"
      }
    },
    {
      "cell_type": "markdown",
      "source": [
        "Solution:\n",
        "\n",
        "$\\frac{d^2y}{dx^2} + 2x\\frac{dy}{dx} + y = 0$\n",
        "\n",
        "* Example of an ODE (Ordinary Differential Equation) since:\n",
        "  * The equation involves a function of a single independent variable and its derivatives.\n",
        "  * x is the independent variable\n",
        "  * y is the dependent variable (function of x)\n",
        "* Example of a second-order ODE since:\n",
        "  * The highest order derivative is 2\n",
        "  * $\\frac{d^ny}{dx^n}$ where n = 2\n",
        "  * This equation involves the second derivative, first derivative, and the function y itself.\n",
        "* Example of a second-order linear ODE since:\n",
        "  * It can be written in the general form:\n",
        "    $a_2(x)\\frac{d^2y}{dx^2} + a_1(x)\\frac{dy}{dx} + a_0(x)y = f(x)$\n",
        "  * Where $a_2(x) = 1$, $a_1(x) = 2x$, $a_0(x) = 1$, and $f(x) = 0$\n",
        "  * The dependent variable y and its derivatives appear linearly (to the first power)\n",
        "\n"
      ],
      "metadata": {
        "id": "Wk9eoLDkG5QP"
      }
    }
  ]
}
