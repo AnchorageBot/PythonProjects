{
  "nbformat": 4,
  "nbformat_minor": 0,
  "metadata": {
    "colab": {
      "provenance": [],
      "authorship_tag": "ABX9TyPTQxjhAEo7/ozn0H8N5GER"
    },
    "kernelspec": {
      "name": "python3",
      "display_name": "Python 3"
    },
    "language_info": {
      "name": "python"
    }
  },
  "cells": [
    {
      "cell_type": "markdown",
      "source": [
        "DS-EP\n",
        "\n",
        "W1\n",
        "\n",
        "Exercise 1"
      ],
      "metadata": {
        "id": "U-JX6QZan7o5"
      }
    },
    {
      "cell_type": "code",
      "execution_count": 1,
      "metadata": {
        "colab": {
          "base_uri": "https://localhost:8080/"
        },
        "id": "GXmx_cvnn5Am",
        "outputId": "ffc19452-3ef5-418f-f06f-365d87be4c58"
      },
      "outputs": [
        {
          "output_type": "stream",
          "name": "stdout",
          "text": [
            "Hello, world!\n"
          ]
        }
      ],
      "source": [
        "print('Hello, world!')"
      ]
    },
    {
      "cell_type": "code",
      "source": [
        "print('Hello, you!')"
      ],
      "metadata": {
        "colab": {
          "base_uri": "https://localhost:8080/"
        },
        "id": "d6-r7TlFoWqn",
        "outputId": "ed4c0c1a-c3b7-4fe2-b847-05fd7cbe93b8"
      },
      "execution_count": 2,
      "outputs": [
        {
          "output_type": "stream",
          "name": "stdout",
          "text": [
            "Hello, you!\n"
          ]
        }
      ]
    },
    {
      "cell_type": "code",
      "source": [
        "print(\"I'm OK\")"
      ],
      "metadata": {
        "colab": {
          "base_uri": "https://localhost:8080/"
        },
        "id": "2e985LJjocSY",
        "outputId": "67c7efcd-fed0-4c7e-86a4-eb52e7d3cc90"
      },
      "execution_count": 3,
      "outputs": [
        {
          "output_type": "stream",
          "name": "stdout",
          "text": [
            "I'm OK\n"
          ]
        }
      ]
    },
    {
      "cell_type": "code",
      "source": [
        "print('I\\'m OK')"
      ],
      "metadata": {
        "colab": {
          "base_uri": "https://localhost:8080/"
        },
        "id": "K1oituY2okON",
        "outputId": "a60c30bf-5c79-47d8-a45e-ae23b43ce571"
      },
      "execution_count": 4,
      "outputs": [
        {
          "output_type": "stream",
          "name": "stdout",
          "text": [
            "I'm OK\n"
          ]
        }
      ]
    },
    {
      "cell_type": "code",
      "source": [
        "print(''' Use\n",
        "three\n",
        "quotes\n",
        "in\n",
        "order\n",
        "to\n",
        "print\n",
        "on\n",
        "multiple\n",
        "lines''')"
      ],
      "metadata": {
        "colab": {
          "base_uri": "https://localhost:8080/"
        },
        "id": "Hbd1fFciorlJ",
        "outputId": "3df94524-3740-4ec5-e0c2-05703b4c94e5"
      },
      "execution_count": 6,
      "outputs": [
        {
          "output_type": "stream",
          "name": "stdout",
          "text": [
            " Use \n",
            "three \n",
            "quotes\n",
            "in\n",
            "order\n",
            "to \n",
            "print\n",
            "on\n",
            "multiple\n",
            "lines\n"
          ]
        }
      ]
    },
    {
      "cell_type": "code",
      "source": [
        "print('you can also use \\n to print on another line')"
      ],
      "metadata": {
        "colab": {
          "base_uri": "https://localhost:8080/"
        },
        "id": "5-M553xUqA92",
        "outputId": "e0c35089-c07a-404c-e387-6e4f0962816a"
      },
      "execution_count": 8,
      "outputs": [
        {
          "output_type": "stream",
          "name": "stdout",
          "text": [
            "you can also use \n",
            " to print on another line\n"
          ]
        }
      ]
    }
  ]
}