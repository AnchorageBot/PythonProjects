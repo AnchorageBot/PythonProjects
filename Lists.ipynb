{
  "cells": [
    {
      "cell_type": "markdown",
      "metadata": {
        "id": "NAVYPtwGfJRA"
      },
      "source": [
        "# Lists\n",
        "\n",
        "Lists in Python represent ordered sequences of values. Here is an example of how to create them:"
      ]
    },
    {
      "cell_type": "code",
      "execution_count": null,
      "metadata": {
        "collapsed": true,
        "id": "_k3Om7gKfJRB"
      },
      "outputs": [],
      "source": [
        "primes = [2, 3, 5, 7]"
      ]
    },
    {
      "cell_type": "markdown",
      "metadata": {
        "id": "N90mrxU3fJRC"
      },
      "source": [
        "We can put other types of things in lists:"
      ]
    },
    {
      "cell_type": "code",
      "execution_count": null,
      "metadata": {
        "collapsed": true,
        "id": "UOdTzGrIfJRC"
      },
      "outputs": [],
      "source": [
        "planets = ['Mercury', 'Venus', 'Earth', 'Mars', 'Jupiter', 'Saturn', 'Uranus', 'Neptune']"
      ]
    },
    {
      "cell_type": "markdown",
      "metadata": {
        "id": "6D0ykXvLfJRC"
      },
      "source": [
        "We can even make a list of lists:"
      ]
    },
    {
      "cell_type": "code",
      "execution_count": null,
      "metadata": {
        "collapsed": true,
        "id": "GoPhBaH1fJRC"
      },
      "outputs": [],
      "source": [
        "hands = [\n",
        "    ['J', 'Q', 'K'],\n",
        "    ['2', '2', '2'],\n",
        "    ['6', 'A', 'K'], # (Comma after the last element is optional)\n",
        "]\n",
        "# (I could also have written this on one line, but it can get hard to read)\n",
        "hands = [['J', 'Q', 'K'], ['2', '2', '2'], ['6', 'A', 'K']]"
      ]
    },
    {
      "cell_type": "markdown",
      "metadata": {
        "id": "D_UXqOj0fJRD"
      },
      "source": [
        "A list can contain a mix of different types of variables:"
      ]
    },
    {
      "cell_type": "code",
      "execution_count": null,
      "metadata": {
        "collapsed": true,
        "id": "huqaM1zWfJRD"
      },
      "outputs": [],
      "source": [
        "my_favourite_things = [32, 'raindrops on roses', help]\n",
        "# (Yes, Python's help function is *definitely* one of my favourite things)"
      ]
    },
    {
      "cell_type": "markdown",
      "metadata": {
        "id": "1Bk82HbNfJRD"
      },
      "source": [
        "## Indexing\n",
        "\n",
        "You can access individual list elements with square brackets.\n",
        "\n",
        "Which planet is closest to the sun? Python uses *zero-based* indexing, so the first element has index 0."
      ]
    },
    {
      "cell_type": "code",
      "execution_count": null,
      "metadata": {
        "id": "KV5yYcAYfJRD"
      },
      "outputs": [],
      "source": [
        "planets[0]"
      ]
    },
    {
      "cell_type": "markdown",
      "metadata": {
        "id": "dHUdlV7BfJRD"
      },
      "source": [
        "What's the next closest planet?"
      ]
    },
    {
      "cell_type": "code",
      "execution_count": null,
      "metadata": {
        "id": "Oc4Zc0i7fJRD"
      },
      "outputs": [],
      "source": [
        "planets[1]"
      ]
    },
    {
      "cell_type": "markdown",
      "metadata": {
        "id": "xFldpuGtfJRD"
      },
      "source": [
        "Which planet is *furthest* from the sun?\n",
        "\n",
        "Elements at the end of the list can be accessed with negative numbers, starting from -1:"
      ]
    },
    {
      "cell_type": "code",
      "execution_count": null,
      "metadata": {
        "id": "EcboxfyDfJRD"
      },
      "outputs": [],
      "source": [
        "planets[-1]"
      ]
    },
    {
      "cell_type": "code",
      "execution_count": null,
      "metadata": {
        "id": "Ba-jusmSfJRD"
      },
      "outputs": [],
      "source": [
        "planets[-2]"
      ]
    },
    {
      "cell_type": "markdown",
      "metadata": {
        "id": "2BXqdy_3fJRE"
      },
      "source": [
        "## Slicing\n",
        "\n",
        "What are the first three planets? We can answer this question using *slicing*:"
      ]
    },
    {
      "cell_type": "code",
      "execution_count": null,
      "metadata": {
        "id": "mTTLUv5JfJRE"
      },
      "outputs": [],
      "source": [
        "planets[0:3]"
      ]
    },
    {
      "cell_type": "markdown",
      "metadata": {
        "id": "Utd9X8e7fJRE"
      },
      "source": [
        "`planets[0:3]` is our way of asking for the elements of `planets` starting from index 0 and continuing up to *but not including* index 3.\n",
        "\n",
        "The starting and ending indices are both optional. If I leave out the start index, it's assumed to be 0. So I could rewrite the expression above as:"
      ]
    },
    {
      "cell_type": "code",
      "execution_count": null,
      "metadata": {
        "id": "S-4ffX6AfJRE"
      },
      "outputs": [],
      "source": [
        "planets[:3]"
      ]
    },
    {
      "cell_type": "markdown",
      "metadata": {
        "id": "ouobpNtyfJRE"
      },
      "source": [
        "If I leave out the end index, it's assumed to be the length of the list."
      ]
    },
    {
      "cell_type": "code",
      "execution_count": null,
      "metadata": {
        "id": "4RwEctztfJRE"
      },
      "outputs": [],
      "source": [
        "planets[3:]"
      ]
    },
    {
      "cell_type": "markdown",
      "metadata": {
        "id": "4g8Imso9fJRE"
      },
      "source": [
        "i.e. the expression above means \"give me all the planets from index 3 onward\".\n",
        "\n",
        "We can also use negative indices when slicing:"
      ]
    },
    {
      "cell_type": "code",
      "execution_count": null,
      "metadata": {
        "id": "k516Z7YOfJRE"
      },
      "outputs": [],
      "source": [
        "# All the planets except the first and last\n",
        "planets[1:-1]"
      ]
    },
    {
      "cell_type": "code",
      "execution_count": null,
      "metadata": {
        "id": "0PRsz3rDfJRE"
      },
      "outputs": [],
      "source": [
        "# The last 3 planets\n",
        "planets[-3:]"
      ]
    },
    {
      "cell_type": "markdown",
      "metadata": {
        "id": "cMTlRX1PfJRE"
      },
      "source": [
        "## Changing lists\n",
        "\n",
        "Lists are \"mutable\", meaning they can be modified \"in place\".\n",
        "\n",
        "One way to modify a list is to assign to an index or slice expression.\n",
        "\n",
        "For example, let's say we want to rename Mars:"
      ]
    },
    {
      "cell_type": "code",
      "execution_count": null,
      "metadata": {
        "id": "PaTO_tZYfJRE"
      },
      "outputs": [],
      "source": [
        "planets[3] = 'Malacandra'\n",
        "planets"
      ]
    },
    {
      "cell_type": "markdown",
      "metadata": {
        "id": "VzXuGyt-fJRE"
      },
      "source": [
        "Hm, that's quite a mouthful. Let's compensate by shortening the names of the first 3 planets."
      ]
    },
    {
      "cell_type": "code",
      "execution_count": null,
      "metadata": {
        "id": "MwPPyj3ifJRF"
      },
      "outputs": [],
      "source": [
        "planets[:3] = ['Mur', 'Vee', 'Ur']\n",
        "print(planets)\n",
        "# That was silly. Let's give them back their old names\n",
        "planets[:4] = ['Mercury', 'Venus', 'Earth', 'Mars',]"
      ]
    },
    {
      "cell_type": "markdown",
      "metadata": {
        "id": "LyipZJyWfJRF"
      },
      "source": [
        "## List functions\n",
        "\n",
        "Python has several useful functions for working with lists.\n",
        "\n",
        "`len` gives the length of a list:"
      ]
    },
    {
      "cell_type": "code",
      "execution_count": null,
      "metadata": {
        "id": "YGnUUT7XfJRF"
      },
      "outputs": [],
      "source": [
        "# How many planets are there?\n",
        "len(planets)"
      ]
    },
    {
      "cell_type": "markdown",
      "metadata": {
        "id": "VDt79tNmfJRF"
      },
      "source": [
        "`sorted` returns a sorted version of a list:"
      ]
    },
    {
      "cell_type": "code",
      "execution_count": null,
      "metadata": {
        "id": "EXFLpzkmfJRF"
      },
      "outputs": [],
      "source": [
        "# The planets sorted in alphabetical order\n",
        "sorted(planets)"
      ]
    },
    {
      "cell_type": "markdown",
      "metadata": {
        "id": "-5SHjppkfJRF"
      },
      "source": [
        "`sum` does what you might expect:"
      ]
    },
    {
      "cell_type": "code",
      "execution_count": null,
      "metadata": {
        "id": "bgfs3U4PfJRF"
      },
      "outputs": [],
      "source": [
        "primes = [2, 3, 5, 7]\n",
        "sum(primes)"
      ]
    },
    {
      "cell_type": "markdown",
      "metadata": {
        "id": "_vIaoTpHfJRF"
      },
      "source": [
        "We've previously used the `min` and `max` to get the minimum or maximum of several arguments. But we can also pass in a single list argument."
      ]
    },
    {
      "cell_type": "code",
      "execution_count": null,
      "metadata": {
        "id": "pgbMBX1ufJRF"
      },
      "outputs": [],
      "source": [
        "max(primes)"
      ]
    },
    {
      "cell_type": "markdown",
      "metadata": {
        "id": "0I3s7ga4fJRG"
      },
      "source": [
        "## Interlude: objects\n",
        "\n",
        "I've used the term 'object' a lot so far - you may have even read that *everything* in Python is an object. What does that mean?\n",
        "\n",
        "In short, objects carry some things around with them. You access that stuff using Python's dot syntax.\n",
        "\n",
        "For example, numbers in Python carry around an associated variable called `imag` representing their imaginary part. (You'll probably never need to use this unless you're doing some very weird math.)"
      ]
    },
    {
      "cell_type": "code",
      "execution_count": null,
      "metadata": {
        "id": "VNldoDr8fJRG"
      },
      "outputs": [],
      "source": [
        "x = 12\n",
        "# x is a real number, so its imaginary part is 0.\n",
        "print(x.imag)\n",
        "# Here's how to make a complex number, in case you've ever been curious:\n",
        "c = 12 + 3j\n",
        "print(c.imag)"
      ]
    },
    {
      "cell_type": "markdown",
      "metadata": {
        "id": "yhXroUY0fJRG"
      },
      "source": [
        "The things an object carries around can also include functions. A function attached to an object is called a **method**. (Non-function things attached to an object, such as `imag`, are called *attributes*).\n",
        "\n",
        "For example, numbers have a method called `bit_length`. Again, we access it using dot syntax:"
      ]
    },
    {
      "cell_type": "code",
      "execution_count": null,
      "metadata": {
        "id": "XqALPPp_fJRG"
      },
      "outputs": [],
      "source": [
        "x.bit_length"
      ]
    },
    {
      "cell_type": "markdown",
      "metadata": {
        "id": "e1r3QVJwfJRG"
      },
      "source": [
        "To actually call it, we add parentheses:"
      ]
    },
    {
      "cell_type": "code",
      "execution_count": null,
      "metadata": {
        "id": "yNGWdPrsfJRG"
      },
      "outputs": [],
      "source": [
        "x.bit_length()"
      ]
    },
    {
      "cell_type": "markdown",
      "metadata": {
        "id": "urrl_a6CfJRH"
      },
      "source": [
        "> **Aside:** You've actually been calling methods already if you've been doing the exercises. In the exercise notebooks `q1`, `q2`, `q3`, etc. are all objects which have methods called `check`, `hint`, and `solution`.\n",
        "\n",
        "In the same way that we can pass functions to the `help` function (e.g. `help(max)`), we can also pass in methods:"
      ]
    },
    {
      "cell_type": "code",
      "execution_count": null,
      "metadata": {
        "id": "BTXfMB6NfJRH"
      },
      "outputs": [],
      "source": [
        "help(x.bit_length)"
      ]
    },
    {
      "cell_type": "markdown",
      "metadata": {
        "id": "Y6m3Ms1ofJRH"
      },
      "source": [
        "<!-- TODO:\n",
        "dir?\n",
        "A useful builtin method for interacting with objects is `dir`. `dir` asks: what are the names of all the things (methods, and attributes) that this object is carrying around?\n",
        "help(x)?\n",
        "-->\n",
        "\n",
        "The examples above were utterly obscure. None of the types of objects we've looked at so far (numbers, functions, booleans) have attributes or methods you're likely ever to use.\n",
        "\n",
        "But it turns out that lists have several methods which you'll use all the time."
      ]
    },
    {
      "cell_type": "markdown",
      "metadata": {
        "id": "pgPkQGIOfJRH"
      },
      "source": [
        "## List methods"
      ]
    },
    {
      "cell_type": "markdown",
      "metadata": {
        "id": "3SqYQHnofJRH"
      },
      "source": [
        "`list.append` modifies a list by adding an item to the end:"
      ]
    },
    {
      "cell_type": "code",
      "execution_count": null,
      "metadata": {
        "collapsed": true,
        "id": "OJH1NuNrfJRH"
      },
      "outputs": [],
      "source": [
        "# Pluto is a planet darn it!\n",
        "planets.append('Pluto')"
      ]
    },
    {
      "cell_type": "markdown",
      "metadata": {
        "id": "POvObcytfJRH"
      },
      "source": [
        "Why does the cell above have no output? Let's check the documentation by calling `help(planets.append)`.\n",
        "\n",
        "> **Aside:** `append` is a method carried around by *all* objects of type list, not just `planets`, so we also could have called `help(list.append)`. However, if we try to call `help(append)`, Python will complain that no variable exists called \"append\". The \"append\" name only exists within lists - it doesn't exist as a standalone name like builtin functions such as `max` or `len`."
      ]
    },
    {
      "cell_type": "code",
      "execution_count": null,
      "metadata": {
        "id": "U9V4k7KmfJRH"
      },
      "outputs": [],
      "source": [
        "help(planets.append)"
      ]
    },
    {
      "cell_type": "markdown",
      "metadata": {
        "id": "3ydYfkb2fJRH"
      },
      "source": [
        "The `-> None` part is telling us that `list.append` doesn't return anything. But if we check the value of `planets`, we can see that the method call modified the value of `planets`:"
      ]
    },
    {
      "cell_type": "code",
      "execution_count": null,
      "metadata": {
        "id": "NQCcPGArfJRH"
      },
      "outputs": [],
      "source": [
        "planets"
      ]
    },
    {
      "cell_type": "markdown",
      "metadata": {
        "id": "occQ-wOtfJRH"
      },
      "source": [
        "`list.pop` removes and returns the last element of a list:"
      ]
    },
    {
      "cell_type": "code",
      "execution_count": null,
      "metadata": {
        "id": "qDJB4NdgfJRH"
      },
      "outputs": [],
      "source": [
        "planets.pop()"
      ]
    },
    {
      "cell_type": "code",
      "execution_count": null,
      "metadata": {
        "id": "kmnxRESAfJRH"
      },
      "outputs": [],
      "source": [
        "planets"
      ]
    },
    {
      "cell_type": "markdown",
      "metadata": {
        "id": "gerkTuiwfJRH"
      },
      "source": [
        "### Searching lists\n",
        "\n",
        "Where does Earth fall in the order of planets? We can get its index using the `list.index` method."
      ]
    },
    {
      "cell_type": "code",
      "execution_count": null,
      "metadata": {
        "id": "AGhw2BKQfJRH"
      },
      "outputs": [],
      "source": [
        "planets.index('Earth')"
      ]
    },
    {
      "cell_type": "markdown",
      "metadata": {
        "id": "lPF7XlpMfJRH"
      },
      "source": [
        "It comes third (i.e. at index 2 - 0 indexing!).\n",
        "\n",
        "At what index does Pluto occur?"
      ]
    },
    {
      "cell_type": "code",
      "execution_count": null,
      "metadata": {
        "tags": [
          "raises-exception"
        ],
        "id": "JcURZszzfJRH"
      },
      "outputs": [],
      "source": [
        "planets.index('Pluto')"
      ]
    },
    {
      "cell_type": "markdown",
      "metadata": {
        "id": "k__KtCd5fJRH"
      },
      "source": [
        "Oh, that's right...\n",
        "\n",
        "To avoid unpleasant surprises like this, we can use the `in` operator to determine whether a list contains a particular value:"
      ]
    },
    {
      "cell_type": "code",
      "execution_count": null,
      "metadata": {
        "collapsed": true,
        "id": "SiWDrHmDfJRH"
      },
      "outputs": [],
      "source": [
        "# Is Earth a planet?\n",
        "\"Earth\" in planets"
      ]
    },
    {
      "cell_type": "code",
      "execution_count": null,
      "metadata": {
        "collapsed": true,
        "id": "Ow1DJlNqfJRH"
      },
      "outputs": [],
      "source": [
        "# Is Calbefraques a planet?\n",
        "\"Calbefraques\" in planets"
      ]
    },
    {
      "cell_type": "markdown",
      "metadata": {
        "id": "keB4HzQifJRI"
      },
      "source": [
        "There are a few more interesting list methods we haven't covered. If you want to learn about all the methods and attributes attached to a particular object, we can call `help()` on the object itself. For example, `help(planets)` will tell us about *all* the list methods:"
      ]
    },
    {
      "cell_type": "code",
      "execution_count": null,
      "metadata": {
        "_kg_hide-output": true,
        "id": "NCNAEu1ZfJRI"
      },
      "outputs": [],
      "source": [
        "help(planets)"
      ]
    },
    {
      "cell_type": "markdown",
      "metadata": {
        "id": "7QR52bBafJRI"
      },
      "source": [
        "Click the \"output\" button to see the full help page. Lists have lots of methods with weird-looking names like `__eq__` and `__iadd__`. Don't worry too much about these for now. (You'll probably never call such methods directly. But they get called behind the scenes when we use syntax like indexing or comparison operators.) The most interesting methods are toward the bottom of the list (`append`, `clear`, `copy`, etc.)."
      ]
    },
    {
      "cell_type": "markdown",
      "metadata": {
        "id": "5bxdYu1jfJRI"
      },
      "source": [
        "## Tuples\n",
        "\n",
        "Tuples are almost exactly the same as lists. They differ in just two ways.\n",
        "\n",
        "**1:** The syntax for creating them uses parentheses instead of square brackets"
      ]
    },
    {
      "cell_type": "code",
      "execution_count": null,
      "metadata": {
        "id": "T96ekAAJfJRI"
      },
      "outputs": [],
      "source": [
        "t = (1, 2, 3)"
      ]
    },
    {
      "cell_type": "code",
      "execution_count": null,
      "metadata": {
        "id": "DoeE0DIIfJRI"
      },
      "outputs": [],
      "source": [
        "t = 1, 2, 3 # equivalent to above\n",
        "t"
      ]
    },
    {
      "cell_type": "markdown",
      "metadata": {
        "id": "QWSYqMJjfJRI"
      },
      "source": [
        "**2:** They cannot be modified (they are *immutable*)."
      ]
    },
    {
      "cell_type": "code",
      "execution_count": null,
      "metadata": {
        "tags": [
          "raises-exception"
        ],
        "id": "how0O0urfJRI"
      },
      "outputs": [],
      "source": [
        "t[0] = 100"
      ]
    },
    {
      "cell_type": "markdown",
      "metadata": {
        "id": "1Dn_QJjwfJRI"
      },
      "source": [
        "Tuples are often used for functions that have multiple return values.\n",
        "\n",
        "For example, the ``as_integer_ratio()`` method of float objects returns a numerator and a denominator in the form of a tuple:"
      ]
    },
    {
      "cell_type": "code",
      "execution_count": null,
      "metadata": {
        "id": "CkhJ9fFIfJRI"
      },
      "outputs": [],
      "source": [
        "x = 0.125\n",
        "x.as_integer_ratio()"
      ]
    },
    {
      "cell_type": "markdown",
      "metadata": {
        "id": "I1QtNruefJRI"
      },
      "source": [
        "These multiple return values can be individually assigned as follows:"
      ]
    },
    {
      "cell_type": "code",
      "execution_count": null,
      "metadata": {
        "id": "FWIrq6KbfJRI"
      },
      "outputs": [],
      "source": [
        "numerator, denominator = x.as_integer_ratio()\n",
        "print(numerator / denominator)"
      ]
    },
    {
      "cell_type": "markdown",
      "metadata": {
        "id": "55W9xoz_fJRI"
      },
      "source": [
        "Finally we have some insight into the classic Stupid Python Trick™ for swapping two variables!"
      ]
    },
    {
      "cell_type": "code",
      "execution_count": null,
      "metadata": {
        "id": "6shN8--ufJRI"
      },
      "outputs": [],
      "source": [
        "a = 1\n",
        "b = 0\n",
        "a, b = b, a\n",
        "print(a, b)"
      ]
    },
    {
      "cell_type": "markdown",
      "metadata": {
        "id": "iApC39-afJRI"
      },
      "source": [
        "# Your Turn\n",
        "\n",
        "You learn best by writing code, not just reading it. So try **[the coding challenge](https://www.kaggle.com/kernels/fork/1275173)** now."
      ]
    },
    {
      "cell_type": "markdown",
      "metadata": {
        "id": "JGn3sZkifJRI"
      },
      "source": [
        "---\n",
        "\n",
        "\n",
        "\n",
        "\n",
        "*Have questions or comments? Visit the [course discussion forum](https://www.kaggle.com/learn/python/discussion) to chat with other learners.*"
      ]
    }
  ],
  "metadata": {
    "anaconda-cloud": {},
    "kernelspec": {
      "display_name": "Python 3",
      "language": "python",
      "name": "python3"
    },
    "language_info": {
      "codemirror_mode": {
        "name": "ipython",
        "version": 3
      },
      "file_extension": ".py",
      "mimetype": "text/x-python",
      "name": "python",
      "nbconvert_exporter": "python",
      "pygments_lexer": "ipython3",
      "version": "3.6.5"
    },
    "learntools_metadata": {
      "lesson_index": 3,
      "type": "tutorial"
    },
    "colab": {
      "name": "Lists",
      "provenance": []
    }
  },
  "nbformat": 4,
  "nbformat_minor": 0
}