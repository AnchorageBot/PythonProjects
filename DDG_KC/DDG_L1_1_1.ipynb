{
  "nbformat": 4,
  "nbformat_minor": 0,
  "metadata": {
    "colab": {
      "provenance": [],
      "authorship_tag": "ABX9TyMTxs694YsgOuJHvPwNmXgB"
    },
    "kernelspec": {
      "name": "python3",
      "display_name": "Python 3"
    },
    "language_info": {
      "name": "python"
    }
  },
  "cells": [
    {
      "cell_type": "markdown",
      "source": [
        "Discrete Differential Geometry\n",
        "* Dr Keenan Crane\n",
        "* [Lecture 1](https://youtu.be/8JCR6z3GLVI?si=qS5qFOIQqwgj9Xks)\n",
        "* Anthropic's AI Claude"
      ],
      "metadata": {
        "id": "VFAGdaCQs2sc"
      }
    },
    {
      "cell_type": "markdown",
      "source": [
        "Differential Geometry is a language for discussing local properties of shape and connections to global properties of shape\n",
        "* Velocity along a curve\n",
        "* Angle of surface bend at a point\n",
        "* Local-global relationships\n",
        "* Curvature of a boundary\n",
        "* Allows the application of the tools of calculus to curved domanins\n",
        "* Modern language of geometry, physics, and statistics"
      ],
      "metadata": {
        "id": "iXvRDPDoVvHF"
      }
    },
    {
      "cell_type": "markdown",
      "source": [
        "Discrete Differential Geometry is also a language for discussing local properties of shape and connections to global properties of shape\n",
        "* Infinity is not allowed, instead fixed quantities such as finite lenghts and angles are used\n",
        "* Faithfully captures fundamental ideas\n",
        "* Optimal language for computer use"
      ],
      "metadata": {
        "id": "KeNRE0ZLWuue"
      }
    },
    {
      "cell_type": "markdown",
      "source": [
        "# Curves in the Plane — Example\n",
        "\n",
        "We can express a circle as a parameterized curve by the function $\\gamma$ which maps the interval $[0, 2\\pi)$ to some point on the real plane $\\mathbb{R}^2$:\n",
        "\n",
        "$$\\gamma : [0, 2\\pi) \\rightarrow \\mathbb{R}^2$$\n",
        "$$ s \\mapsto (\\cos(s), \\sin(s))$$\n",
        "\n",
        "Where:\n",
        "- $\\gamma$ (gamma) is the function representing the curve\n",
        "- $[0, 2\\pi)$ is the half-open interval from 0 to $2\\pi$\n",
        "- $\\mathbb{R}^2$ represents the two-dimensional real plane\n",
        "\n",
        "This notation means that for each value $s$ in the interval $[0, 2\\pi)$, the function $\\gamma$ assigns a point in the plane $\\mathbb{R}^2$. We can write this as:\n",
        "\n",
        "$$\\gamma(s) = (x(s), y(s))$$\n",
        "\n",
        "Where $x(s) = \\cos(s)$ and $y(s) = \\sin(s)$ are real-valued functions defining the x and y coordinates of the curve at parameter value $s$.\n",
        "\n",
        "The image illustrates this concept with:\n",
        "\n",
        "1. A graph showing the interval $[0, 2\\pi)$ on a horizontal axis.\n",
        "2. An arrow labeled $\\gamma$ pointing from this interval to a unit circle in the $\\mathbb{R}^2$ plane.\n",
        "3. The unit circle is centered at the origin (0,0) with a radius of 1.\n",
        "4. The x and y axes are shown as dashed lines.\n",
        "5. Points (1,0) and (0,1) are marked on the circle.\n",
        "6. The notation $\\gamma(0) = \\gamma(2\\pi)$ is shown, indicating that the curve is closed (the start and end points coincide).\n",
        "7. The curve is labeled as $\\gamma([0,2\\pi))$, representing the image of the entire interval under $\\gamma$.\n",
        "\n",
        "This parameterization maps the interval $[0, 2\\pi)$ to a complete rotation around the unit circle, with each value of $s$ corresponding to an angle in radians from the positive x-axis.\n",
        "\n",
        "## Glossary of Mathematical Symbols\n",
        "\n",
        "- $\\gamma$: A function (in this case, representing a curve)\n",
        "- $[a,b)$: Half-open interval, including $a$ but not $b$\n",
        "- $\\rightarrow$: Maps to (in function notation)\n",
        "- $\\mathbb{R}$: The set of real numbers\n",
        "- $\\mathbb{R}^2$: The two-dimensional real plane\n",
        "- $\\mapsto$: Maps to (in explicit function definition)\n",
        "- $\\cos$: Cosine function\n",
        "- $\\sin$: Sine function\n",
        "- $\\pi$: Pi (approximately 3.14159...)"
      ],
      "metadata": {
        "id": "12pgX5iWgXe7"
      }
    },
    {
      "cell_type": "markdown",
      "source": [
        "## The Half-Open Interval [0,2π)\n",
        "\n",
        "The notation [0,2π) represents a half-open interval from 0 to 2π. This means:\n",
        "\n",
        "1. Minimum value:\n",
        "   - The interval includes 0.\n",
        "   - 0 is the minimum value in this interval.\n",
        "\n",
        "2. Maximum value:\n",
        "   - The interval approaches, but does not include, 2π.\n",
        "   - There is no maximum value in this interval.\n",
        "\n",
        "3. Inclusion of endpoints:\n",
        "   - The square bracket [ indicates that 0 is included in the interval.\n",
        "   - The round bracket ) indicates that 2π is excluded from the interval.\n",
        "\n",
        "4. Values in the interval:\n",
        "   - All real numbers greater than or equal to 0 and strictly less than 2π are in this interval.\n",
        "   - This includes numbers like 0, π/2, π, 3π/2, and all numbers arbitrarily close to, but less than, 2π.\n",
        "\n",
        "5. Mathematical representation:\n",
        "   - In set-builder notation: {x ∈ ℝ | 0 ≤ x < 2π}\n",
        "   - This reads as \"the set of all real numbers x such that x is greater than or equal to 0 and less than 2π\"\n",
        "\n",
        "6. Significance in this context:\n",
        "   - For a circle, this interval represents one complete rotation (360 degrees in radians).\n",
        "   - The exclusion of 2π ensures that the parameterization doesn't \"overlap\" itself, as γ(0) and γ(2π) represent the same point on the circle."
      ],
      "metadata": {
        "id": "l_185MPjhDPa"
      }
    }
  ]
}
