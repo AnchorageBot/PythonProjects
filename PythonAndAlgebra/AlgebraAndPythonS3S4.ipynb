{
  "nbformat": 4,
  "nbformat_minor": 0,
  "metadata": {
    "colab": {
      "provenance": [],
      "toc_visible": true,
      "authorship_tag": "ABX9TyOzyEbuhRdaqjLcdAemhKBO"
    },
    "kernelspec": {
      "name": "python3",
      "display_name": "Python 3"
    },
    "language_info": {
      "name": "python"
    }
  },
  "cells": [
    {
      "cell_type": "markdown",
      "source": [
        "#Algebra and Python Class \n",
        "Teacher: Ed Pratowski<br>\n",
        "Sponsor: FreeCodeCamp<br>\n",
        "\n",
        "Class Video\n",
        "https://www.youtube.com/watch?v=i7vOAcUo5iA\n",
        "\n",
        "Class Scripts\n",
        "https://github.com/edatfreecodecamp/python-math/tree/main/Algebra-with-Python\n",
        "\n",
        "Python IDE: Google Colab\n",
        "https://colab.research.google.com"
      ],
      "metadata": {
        "id": "PpA0eCXYcOl-"
      }
    },
    {
      "cell_type": "markdown",
      "source": [
        "# Percents, Decimals, Fractions (S.3)"
      ],
      "metadata": {
        "id": "KalfG8UBovaj"
      }
    },
    {
      "cell_type": "markdown",
      "source": [
        "Ask the user for a number with a decimal (float) and convert it to a fraction and a percent:<br>\n",
        "\n"
      ],
      "metadata": {
        "id": "Z8Tct0CpczWl"
      }
    },
    {
      "cell_type": "code",
      "execution_count": null,
      "metadata": {
        "id": "UvTsGdtWcNXC",
        "colab": {
          "base_uri": "https://localhost:8080/"
        },
        "outputId": "0eee5f77-2291-4ce6-ee5c-53117e5aac5b"
      },
      "outputs": [
        {
          "output_type": "stream",
          "name": "stdout",
          "text": [
            "Enter a decimal number to convert: 0.12\n",
            "The decimal is  0.12\n",
            "The fraction is  120 / 1000\n",
            "The percent is  12.0  %\n"
          ]
        }
      ],
      "source": [
        "# This script will ask a user for a number with a decimal (ie a float) and\n",
        "# convert it to a fraction and a percent\n",
        "\n",
        "# Get string input from a user, which will include a number with a decimal point\n",
        "digits = input(\"Please enter a decimal number to convert: \")\n",
        "\n",
        "# Convert the user input to a float number\n",
        "n = float(digits)\n",
        "\n",
        "# Get number of decimal places as an integer\n",
        "exponent = int(len(digits))-1\n",
        "\n",
        "# Use the exponent to get the numerator\n",
        "numerator = int(n * 10**exponent)\n",
        "\n",
        "# Use the expoent to get the denominator\n",
        "denominator = 10**exponent\n",
        "\n",
        "# percent is the first two decimal places\n",
        "percent = n * 100\n",
        "\n",
        "# Output\n",
        "print(\"The decimal is \", n)\n",
        "print(\"The fraction is \", numerator, \"/\", denominator)\n",
        "print(\"The percent is \", percent, \" %\")\n"
      ]
    },
    {
      "cell_type": "markdown",
      "source": [
        "Fractions, decimals, and percentages quiz<br>\n",
        "<br>\n",
        "Script asks user for input"
      ],
      "metadata": {
        "id": "EfOl56Sygz5I"
      }
    },
    {
      "cell_type": "code",
      "source": [
        "# This script quizzes the user on fractions, decimals, and percentages\n",
        "\n",
        "import random\n",
        "import math\n",
        "\n",
        "def string_frac(in_string):\n",
        "    \"\"\"Converts string input (including fractions) from a user to a float number\"\"\"\n",
        "    if \"/\" in in_string:\n",
        "        nd = in_string.split(\"/\")\n",
        "        # n -> numerator\n",
        "        n = float(nd[0])\n",
        "        # d -> denominator\n",
        "        d = float(nd[1])\n",
        "        ans = n/d\n",
        "        return ans\n",
        "    else:\n",
        "        ans = float(in_string)\n",
        "        return ans\n",
        "\n",
        "def dec_to_frac_test():\n",
        "    \"\"\"Ask the user to convert a decimal to a fraction\"\"\"\n",
        "    #import random\n",
        "    #import math\n",
        "    # Uses string_frac() function\n",
        "    print(\"Let's convert the following decimal to a fraction\")\n",
        "    print(\"Please use the / to write your fraction\")\n",
        "    places = random.randint(1,4)\n",
        "    decimal = round(random.random(), places)\n",
        "    print(decimal)\n",
        "    d = 10**places\n",
        "    n = decimal*d\n",
        "    ans_in = input(\"Fraction: \")\n",
        "    if string_frac(ans_in)==decimal:\n",
        "        print(\"Correct! \\n\")\n",
        "    else:\n",
        "        print(\"Please try again\")\n",
        "        print(\"The answer is \", n, \"/\", d)\n",
        "\n",
        "def frac_to_perc_test():\n",
        "    \"\"\"Ask the user to convert a fraction to a percentage\"\"\"\n",
        "    #import random\n",
        "    print(\"Please convert the following fraction to a percent\")\n",
        "    n = round(random.randint(1,99))\n",
        "    d = round(random.randint(2,200))\n",
        "    print(n, \"/\", d)\n",
        "    percent = round(n/d*100,2)\n",
        "    print(\"Please round your answer to two decimal places\")\n",
        "    ans = float(input(\"Percent: \"))\n",
        "    if ans==percent:\n",
        "        print(\"Correct!\")\n",
        "    else:\n",
        "        print(\"Please try again\")\n",
        "        print(\"The answer is \", percent)\n",
        "\n",
        "def quiz_loop(): \n",
        "    \"\"\"Ask the user how many times they would like to be quizzed\"\"\"\n",
        "    # Get a string input from a user\n",
        "    digits = input(\"Please enter the number of quizzes you would like to take \")\n",
        "    # Convert the user input to an integer number\n",
        "    n = int(digits)\n",
        "    for a in range(n):\n",
        "        dec_to_frac_test()\n",
        "        frac_to_perc_test()\n",
        "        print(\" \")\n",
        "    #if n > 0:\n",
        "        #for a in range(n):\n",
        "            #dec_to_frac_test()\n",
        "            #frac_to_perc_test()\n",
        "            #print(\" \")\n",
        "        #else:\n",
        "            #print(\"Please enter a whole number greater than zero\")\n",
        "            \n",
        "def main():\n",
        "    quiz_loop()\n",
        "\n",
        "if __name__ == '__main__':\n",
        "    \"\"\"ensures that the called functions are executed only when the script is run\"\"\"\n",
        "    main()"
      ],
      "metadata": {
        "colab": {
          "base_uri": "https://localhost:8080/"
        },
        "id": "r39-3Ab2h6ue",
        "outputId": "661196bd-ab62-4576-bbe2-d3fee5fba283"
      },
      "execution_count": 12,
      "outputs": [
        {
          "output_type": "stream",
          "name": "stdout",
          "text": [
            "Please enter the number of quizzes you would like to take 1\n",
            "Let's convert the following decimal to a fraction\n",
            "Please use the / to write your fraction\n",
            "0.0381\n",
            "Fraction: 381/10000\n",
            "Correct! \n",
            "\n",
            "Please convert the following fraction to a percent\n",
            "85 / 137\n",
            "Please round your answer to two decimal places\n",
            "Percent: 62.04\n",
            "Correct!\n",
            " \n"
          ]
        }
      ]
    },
    {
      "cell_type": "markdown",
      "source": [
        "The Script in this section uses the SymPy library<br>\n",
        "<br>\n",
        "https://www.sympy.org/en/index.html\n",
        "<br>\n",
        "<br>\n",
        "SymPy is a Python library for symbolic mathematics. It aims to become a full-featured computer algebra system (CAS) while keeping the code as simple as possible in order to be comprehensible and easily extensible. SymPy is written entirely in Python."
      ],
      "metadata": {
        "id": "CpwLv1uDxIgX"
      }
    },
    {
      "cell_type": "markdown",
      "source": [
        "Factor and solve for a variable"
      ],
      "metadata": {
        "id": "37bMXwbykhjM"
      }
    },
    {
      "cell_type": "code",
      "source": [
        "from sympy import *\n",
        "import math\n",
        "\n",
        "# Identify all variables\n",
        "var('a b c d x') \n",
        "\n",
        "# Left and right sides of the equal sign\n",
        "left = 0\n",
        "right = a*x**2 + b*x + c\n",
        "\n",
        "# Variable to solve for\n",
        "variable = x\n",
        "\n",
        "# Sympy equation left = right\n",
        "eq1 = Eq(left,right) \n",
        "\n",
        "# Sympy solve for that variable\n",
        "sol = solve(eq1,variable) \n",
        "\n",
        "# Show factored results\n",
        "for s in sol:\n",
        "    print(variable, \" = \", s)\n"
      ],
      "metadata": {
        "colab": {
          "base_uri": "https://localhost:8080/"
        },
        "id": "aFs8buvQkboU",
        "outputId": "cc4a57d2-a9eb-4c37-a024-54350905c1c1"
      },
      "execution_count": 13,
      "outputs": [
        {
          "output_type": "stream",
          "name": "stdout",
          "text": [
            "x  =  (-b - sqrt(-4*a*c + b**2))/(2*a)\n",
            "x  =  (-b + sqrt(-4*a*c + b**2))/(2*a)\n"
          ]
        }
      ]
    },
    {
      "cell_type": "markdown",
      "source": [
        "# Math functions, using two variables (x,y) (S.4)"
      ],
      "metadata": {
        "id": "zNidl6Zsppfy"
      }
    },
    {
      "cell_type": "markdown",
      "source": [
        "Function and a table of (x,y) values<br>\n",
        "<br>\n",
        "User must edit script"
      ],
      "metadata": {
        "id": "866E6Vecq2JZ"
      }
    },
    {
      "cell_type": "code",
      "source": [
        "x = 5\n",
        "y = 4*x + 3 # The function \n",
        "\n",
        "print(x,\",\",y)\n",
        "\n",
        "print(\"x \\t y\") \n",
        "\n",
        "for x in range(11):\n",
        "    y = 4*x + 3  # The function\n",
        "    print(x, \"\\t\", y)"
      ],
      "metadata": {
        "colab": {
          "base_uri": "https://localhost:8080/"
        },
        "id": "6pAnmxvlp9aY",
        "outputId": "7f76948c-d801-42f3-f42a-13a10bcdafe8"
      },
      "execution_count": 14,
      "outputs": [
        {
          "output_type": "stream",
          "name": "stdout",
          "text": [
            "5 , 23\n",
            "x \t y\n",
            "0 \t 3\n",
            "1 \t 7\n",
            "2 \t 11\n",
            "3 \t 15\n",
            "4 \t 19\n",
            "5 \t 23\n",
            "6 \t 27\n",
            "7 \t 31\n",
            "8 \t 35\n",
            "9 \t 39\n",
            "10 \t 43\n"
          ]
        }
      ]
    },
    {
      "cell_type": "markdown",
      "source": [
        "Defining a Python function<br>\n",
        "<br>\n",
        "User must edit script"
      ],
      "metadata": {
        "id": "V7aJyV2otI85"
      }
    },
    {
      "cell_type": "code",
      "source": [
        "def f(x):\n",
        "   y = 4*x + 3\n",
        "   return y\n",
        "\n",
        "print(5, \",\", f(5)) \n",
        "\n",
        "# Next, a loop\n",
        "for x in range(11):\n",
        "    print(x, \"\\t\", f(x)) "
      ],
      "metadata": {
        "colab": {
          "base_uri": "https://localhost:8080/"
        },
        "id": "Go1xP3CYtVSs",
        "outputId": "1d46d338-cd7d-4ce2-9f1a-5b1b809d21fe"
      },
      "execution_count": 15,
      "outputs": [
        {
          "output_type": "stream",
          "name": "stdout",
          "text": [
            "5 , 23\n",
            "0 \t 3\n",
            "1 \t 7\n",
            "2 \t 11\n",
            "3 \t 15\n",
            "4 \t 19\n",
            "5 \t 23\n",
            "6 \t 27\n",
            "7 \t 31\n",
            "8 \t 35\n",
            "9 \t 39\n",
            "10 \t 43\n"
          ]
        }
      ]
    }
  ]
}
