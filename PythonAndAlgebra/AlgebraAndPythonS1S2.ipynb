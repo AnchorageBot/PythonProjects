{
  "nbformat": 4,
  "nbformat_minor": 0,
  "metadata": {
    "colab": {
      "provenance": [],
      "toc_visible": true,
      "authorship_tag": "ABX9TyM1KTLH/yCAHspN6snjL/Lg"
    },
    "kernelspec": {
      "name": "python3",
      "display_name": "Python 3"
    },
    "language_info": {
      "name": "python"
    }
  },
  "cells": [
    {
      "cell_type": "markdown",
      "source": [
        "#Algebra and Python Class \n",
        "Teacher: Ed Pratowski<br>\n",
        "Sponsor: FreeCodeCamp<br>\n",
        "\n",
        "Class Video\n",
        "https://www.youtube.com/watch?v=i7vOAcUo5iA\n",
        "\n",
        "Class Scripts\n",
        "https://github.com/edatfreecodecamp/python-math/tree/main/Algebra-with-Python\n",
        "\n",
        "Python IDE: Google Colab\n",
        "https://colab.research.google.com"
      ],
      "metadata": {
        "id": "PpA0eCXYcOl-"
      }
    },
    {
      "cell_type": "markdown",
      "source": [
        "# Solving Proportions (S.1)"
      ],
      "metadata": {
        "id": "KalfG8UBovaj"
      }
    },
    {
      "cell_type": "markdown",
      "source": [
        "Set up a proportion and solve for a single unknown:<br>\n",
        "\n",
        "n = numerator<br>\n",
        "d = denomenator<br>\n",
        "\n",
        "$\\frac{n1}{d1}=\\frac{n2}{d2}$<br>\n",
        "<br>\n",
        "User must edit script\n"
      ],
      "metadata": {
        "id": "Z8Tct0CpczWl"
      }
    },
    {
      "cell_type": "code",
      "execution_count": null,
      "metadata": {
        "id": "UvTsGdtWcNXC",
        "colab": {
          "base_uri": "https://localhost:8080/"
        },
        "outputId": "172b1ed6-b4e6-4210-c423-11064f6b52af"
      },
      "outputs": [
        {
          "output_type": "stream",
          "name": "stdout",
          "text": [
            "n2 =  1.5\n"
          ]
        }
      ],
      "source": [
        "# This script allows a user to solve an unknown numerator or denominator\n",
        "\n",
        "# Enter integers for both n1 and d1\n",
        "n1 = 1\n",
        "d1 = 2\n",
        "\n",
        "# Enter an integer for either n2 or d2 and then enter zero for the remaining variable\n",
        "n2 = 0\n",
        "d2 = 3\n",
        "\n",
        "if n2 == 0:\n",
        "    answer = d2 * n1/d1\n",
        "    print(\"n2 = \", answer)\n",
        "\n",
        "if d2 == 0:\n",
        "    answer = n2 * d1/n1\n",
        "    print(\"d2 = \", answer)"
      ]
    },
    {
      "cell_type": "markdown",
      "source": [
        "Proportion Solver - Unknown Numerator<br>\n",
        "<br>\n",
        "Script asks user for input"
      ],
      "metadata": {
        "id": "EfOl56Sygz5I"
      }
    },
    {
      "cell_type": "code",
      "source": [
        "# This script quizzes the user on solving proportions with an unknown numerator\n",
        "\n",
        "# converts string input (including fractions) to float\n",
        "def string_frac(in_string):\n",
        "    if \"/\" in in_string:\n",
        "        nd = in_string.split(\"/\")\n",
        "        # n -> numerator\n",
        "        n = float(nd[0])\n",
        "        # d -> denominator\n",
        "        d = float(nd[1])\n",
        "        ans = n/d\n",
        "        return ans\n",
        "    else:\n",
        "        ans = float(in_string)\n",
        "        return ans\n",
        "\n",
        "# Proportions - unknown numerator\n",
        "def proportions_n():\n",
        "    import random\n",
        "    # Uses string_frac() function\n",
        "    # Randomizes the numerator\n",
        "    n1 = random.randint(1,21)\n",
        "    # Randomizes the denominator\n",
        "    d1 = random.randint(1,21)\n",
        "    n2 = \"x\"\n",
        "    # Randomizes the denominator\n",
        "    d2 = random.randint(1,21)\n",
        "    # print the fraction\n",
        "    print(n1, \"\\t\\t\", n2)\n",
        "    print(\"--- \\t = \\t ---\")\n",
        "    print(d1, \"\\t\\t\", d2)\n",
        "    print(\" \")\n",
        "    print(\"Enter your answer using the format n/d\")\n",
        "    ans_in = input(\"x = \")\n",
        "    answer = d2*n1/d1\n",
        "    if string_frac(ans_in)==answer:\n",
        "        print(\"Correct! \\n\")\n",
        "    else:\n",
        "        print(\"Try again\")\n",
        "        print(\"The correct answer is \", answer, \"\\n\")\n",
        "\n",
        "# quiz loop \n",
        "for a in range(2):\n",
        "    proportions_n()\n",
        "    print(\" \")"
      ],
      "metadata": {
        "colab": {
          "base_uri": "https://localhost:8080/"
        },
        "id": "r39-3Ab2h6ue",
        "outputId": "92c4570a-68ef-401c-b018-1b147512cda0"
      },
      "execution_count": null,
      "outputs": [
        {
          "output_type": "stream",
          "name": "stdout",
          "text": [
            "14 \t\t x\n",
            "--- \t = \t ---\n",
            "13 \t\t 9\n",
            " \n",
            "Enter your answer using the format n/d\n",
            "x = 126/13\n",
            "Correct! \n",
            "\n",
            " \n",
            "20 \t\t x\n",
            "--- \t = \t ---\n",
            "19 \t\t 1\n",
            " \n",
            "Enter your answer using the format n/d\n",
            "x = 20/19\n",
            "Correct! \n",
            "\n",
            " \n"
          ]
        }
      ]
    },
    {
      "cell_type": "markdown",
      "source": [
        "Proportion Solver - Unknown Denominator<br>\n",
        "<br>\n",
        "Script asks user for input"
      ],
      "metadata": {
        "id": "-C587fBkmZbl"
      }
    },
    {
      "cell_type": "code",
      "source": [
        "# This script quizzes the user on solving proportions with an unknown denominator\n",
        "\n",
        "# converts string input (including fractions) to float\n",
        "def string_frac(in_string):\n",
        "    if \"/\" in in_string:\n",
        "        nd = in_string.split(\"/\")\n",
        "        # n -> numerator\n",
        "        n = float(nd[0])\n",
        "        # d -> denominator\n",
        "        d = float(nd[1])\n",
        "        ans = n/d\n",
        "        return ans\n",
        "    else:\n",
        "        ans = float(in_string)\n",
        "        return ans\n",
        "\n",
        "# Proportions - unknown denominator\n",
        "def proportions_d():\n",
        "    import random\n",
        "    # Uses string_frac() function\n",
        "    # Randomizes the numerator\n",
        "    n1 = random.randint(1,21)\n",
        "    # Randomizes the denominator\n",
        "    d1 = random.randint(1,21)\n",
        "    # Randomizes the numerator\n",
        "    n2 = random.randint(1,21)\n",
        "    d2 = \"x\"\n",
        "    # print the fraction\n",
        "    print(n1, \"\\t\\t\", n2)\n",
        "    print(\"--- \\t = \\t ---\")\n",
        "    print(d1, \"\\t\\t\", d2)\n",
        "    print(\" \")\n",
        "    print(\"Enter your answer using the format n/d\")\n",
        "    ans_in = input(\"x = \")\n",
        "    answer = d1*n2/n1\n",
        "    if string_frac(ans_in)==answer:\n",
        "        print(\"Correct! \\n\")\n",
        "    else:\n",
        "        print(\"Try again\")\n",
        "        print(\"The correct answer is \", answer, \"\\n\")\n",
        "\n",
        "# quiz loop\n",
        "for a in range(2):\n",
        "    proportions_d()\n",
        "    print(\" \")"
      ],
      "metadata": {
        "colab": {
          "base_uri": "https://localhost:8080/"
        },
        "id": "OODhcjEcmgX2",
        "outputId": "57703664-2d57-4003-9075-94e1db12eaaa"
      },
      "execution_count": null,
      "outputs": [
        {
          "output_type": "stream",
          "name": "stdout",
          "text": [
            "13 \t\t 11\n",
            "--- \t = \t ---\n",
            "9 \t\t x\n",
            " \n",
            "Enter your answer using the format n/d\n",
            "x = 99/13\n",
            "Correct! \n",
            "\n",
            " \n",
            "20 \t\t 12\n",
            "--- \t = \t ---\n",
            "2 \t\t x\n",
            " \n",
            "Enter your answer using the format n/d\n",
            "x = 24/20\n",
            "Correct! \n",
            "\n",
            " \n"
          ]
        }
      ]
    },
    {
      "cell_type": "markdown",
      "source": [
        "# Solving One Variable Equations (S.2)"
      ],
      "metadata": {
        "id": "zNidl6Zsppfy"
      }
    },
    {
      "cell_type": "markdown",
      "source": [
        "All of the Scripts in this section use the SymPy library<br>\n",
        "<br>\n",
        "https://www.sympy.org/en/index.html\n",
        "<br>\n",
        "<br>\n",
        "SymPy is a Python library for symbolic mathematics. It aims to become a full-featured computer algebra system (CAS) while keeping the code as simple as possible in order to be comprehensible and easily extensible. SymPy is written entirely in Python."
      ],
      "metadata": {
        "id": "CpwLv1uDxIgX"
      }
    },
    {
      "cell_type": "markdown",
      "source": [
        "The one variable equation is set to zero<br>\n",
        "(ie eq = 0 = equation input by user)<br>\n",
        "<br>\n",
        "User must edit script"
      ],
      "metadata": {
        "id": "866E6Vecq2JZ"
      }
    },
    {
      "cell_type": "code",
      "source": [
        "# This script allows a user to enter a one variable equation, which it then solves\n",
        "\n",
        "import sympy \n",
        "from sympy import symbols \n",
        "from sympy.solvers import solve \n",
        "\n",
        "x = symbols('x') \n",
        "\n",
        "# Put the equation here\n",
        "eq = 2*x - 4\n",
        "\n",
        "print(\"x = \", solve(eq,x))"
      ],
      "metadata": {
        "colab": {
          "base_uri": "https://localhost:8080/"
        },
        "id": "6pAnmxvlp9aY",
        "outputId": "d1c6d6b8-f5d4-4a11-9e6b-4635d26a9b0c"
      },
      "execution_count": null,
      "outputs": [
        {
          "output_type": "stream",
          "name": "stdout",
          "text": [
            "x =  [2]\n"
          ]
        }
      ]
    },
    {
      "cell_type": "markdown",
      "source": [
        "The one variable equation is set to zero<br>\n",
        "(ie eq = 0 = equation input by user)<br>\n",
        "<br>\n",
        "Script asks for user input"
      ],
      "metadata": {
        "id": "V7aJyV2otI85"
      }
    },
    {
      "cell_type": "code",
      "source": [
        "# This script asks a user to input a one variable equation and then solves it\n",
        "\n",
        "import sympy\n",
        "from sympy import symbols\n",
        "from sympy.solvers import solve\n",
        "\n",
        "x = symbols('x')\n",
        "print(\"Please use the * symbol to signify multiplication\")\n",
        "eq = input('Enter equation: 0 = ')\n",
        "\n",
        "print(\"x = \", solve(eq,x))"
      ],
      "metadata": {
        "colab": {
          "base_uri": "https://localhost:8080/"
        },
        "id": "Go1xP3CYtVSs",
        "outputId": "d41b7024-5ed0-46aa-ab41-707a9ff565e9"
      },
      "execution_count": null,
      "outputs": [
        {
          "output_type": "stream",
          "name": "stdout",
          "text": [
            "Please use the * symbol to signify multiplication\n",
            "Enter equation: 0 = 3*x**2+3\n",
            "x =  [-I, I]\n"
          ]
        }
      ]
    }
  ]
}
