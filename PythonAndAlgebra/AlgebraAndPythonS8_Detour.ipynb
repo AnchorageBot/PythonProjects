{
  "nbformat": 4,
  "nbformat_minor": 0,
  "metadata": {
    "colab": {
      "provenance": [],
      "toc_visible": true,
      "authorship_tag": "ABX9TyP/csEaRI6oxVTaYnJsXXO6"
    },
    "kernelspec": {
      "name": "python3",
      "display_name": "Python 3"
    },
    "language_info": {
      "name": "python"
    }
  },
  "cells": [
    {
      "cell_type": "markdown",
      "source": [
        "#Algebra and Python Class \n",
        "Teacher: Ed Pratowski<br>\n",
        "Sponsor: FreeCodeCamp<br>\n",
        "\n",
        "Class Video\n",
        "https://www.youtube.com/watch?v=i7vOAcUo5iA\n",
        "\n",
        "Class Scripts\n",
        "https://github.com/edatfreecodecamp/python-math/tree/main/Algebra-with-Python\n",
        "\n",
        "Python IDE: Google Colab\n",
        "https://colab.research.google.com\n",
        "\n",
        "#Detour\n",
        "\n",
        "DateTime Adjustments in Python\n",
        "https://www.geeksforgeeks.org/how-to-add-time-onto-a-datetime-object-in-python/\n",
        "\n",
        "Love & Math by Dr. Edward Frenkel\n",
        "https://www.edwardfrenkel.com/lovemath/\n",
        "\n",
        "A New Perspective of Entropy by Dr. Tai-Danae Bradley\n",
        "https://math3ma.institute/wp-content/uploads/2022/02/bradley_spring22.pdf \n",
        "\n",
        "Wikipedia entry on Groups (Mathematics)\n",
        "https://en.wikipedia.org/wiki/Group_(mathematics)\n",
        "\n",
        "Wikipedia entry on Galois (Mathematics)\n",
        "https://en.wikipedia.org/wiki/Évariste_Galois"
      ],
      "metadata": {
        "id": "PpA0eCXYcOl-"
      }
    },
    {
      "cell_type": "markdown",
      "source": [
        "#  (Modulo S.8_Detour)"
      ],
      "metadata": {
        "id": "KalfG8UBovaj"
      }
    },
    {
      "cell_type": "markdown",
      "source": [
        "The modulo concept has connections with common algebraic structures such as groups, rings, and fields. \n",
        "\n",
        "\n",
        "*   Algebraic structures help one with examining, classifying, and using different numbers\n",
        "*   Formally, an algebraic structure consists of a nonempty set ***A***, a collection of binary operations (can use addition, subtraction, multiplication, matrix multiplication, and more) which can be applied to ***A***, and a finite set of axioms (can use logical, non-logical, and more) that must be satisfied. \n",
        "\n",
        "  \n"
      ],
      "metadata": {
        "id": "qpE7yBtxmA-u"
      }
    },
    {
      "cell_type": "markdown",
      "source": [
        "A group:\n",
        "\n",
        "*   Is an algebraic structure\n",
        "*   Is a non-empty set and an operation\n",
        "    *   The operation combines any two elements of the set to produce a third element of the set\n",
        "    *   The operation is associative (rearranging parentheses will not change the result)\n",
        "*   Has an identity element (an element that does not change other elements)\n",
        "*   Every element has an inverse\n",
        "\n"
      ],
      "metadata": {
        "id": "cr-DfNB7vMDS"
      }
    },
    {
      "cell_type": "markdown",
      "source": [
        "Clock arithmetic provides examples of groups\n",
        "\n",
        "*   The identity element for military and civilian clock groups is zero \n",
        "*   A military clock group uses a 24 hour clock\n",
        "    *    Modulus 24\n",
        "    *    (0, 10, 18)\n",
        "*   A civilian clock group uses a 12 hour clock\n",
        "    *    Modulus 12\n",
        "    *    (0, 6, 10)\n"
      ],
      "metadata": {
        "id": "SC5A2BFj_Ea3"
      }
    },
    {
      "cell_type": "code",
      "source": [
        "# Import datetime library\n",
        "import datetime\n",
        "  \n",
        "# Initializing a date and time\n",
        "date_and_time = datetime.datetime(2023, 6, 4, 10, 0, 0)\n",
        "  \n",
        "print(\"Start time:\")\n",
        "print(date_and_time, \"AM\\n\")\n",
        "  \n",
        "# Calling the timedelta() function \n",
        "military_time_change = datetime.timedelta(minutes=60*8)\n",
        "military_time = date_and_time + military_time_change\n",
        "\n",
        "civilian_time_change = datetime.timedelta(minutes =60*(8-12))\n",
        "civilian_time = date_and_time + civilian_time_change\n",
        "  \n",
        "# Printing the new datetime object\n",
        "print(\"finish time, military format:\")\n",
        "print(military_time, \"PM\", \"\\n\")\n",
        "print(\"finish time, civilian format\")\n",
        "print(civilian_time, \"PM\")"
      ],
      "metadata": {
        "colab": {
          "base_uri": "https://localhost:8080/"
        },
        "id": "2wr3wKtDmGZt",
        "outputId": "bba61c58-306d-42c8-b303-6a72dfe5391c"
      },
      "execution_count": 29,
      "outputs": [
        {
          "output_type": "stream",
          "name": "stdout",
          "text": [
            "Start time:\n",
            "2023-06-04 10:00:00 AM\n",
            "\n",
            "finish time, military format:\n",
            "2023-06-04 18:00:00 PM \n",
            "\n",
            "finish time, civilian format\n",
            "2023-06-04 06:00:00 PM\n"
          ]
        }
      ]
    },
    {
      "cell_type": "markdown",
      "source": [
        "An abelian group, also called a commutative group, is a group in which the result of applying the group operation to two group elements does not depend on the order in which they are written"
      ],
      "metadata": {
        "id": "kgkEWYerMTDe"
      }
    },
    {
      "cell_type": "markdown",
      "source": [
        "Évariste Galois laid the foundation for group theory (and galois theory)"
      ],
      "metadata": {
        "id": "Ne39_BMoNV8v"
      }
    }
  ]
}
