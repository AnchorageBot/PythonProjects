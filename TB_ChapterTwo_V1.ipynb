{
  "nbformat": 4,
  "nbformat_minor": 0,
  "metadata": {
    "colab": {
      "provenance": [],
      "authorship_tag": "ABX9TyPDlGUI4Wz14ID1Hr1pilbY"
    },
    "kernelspec": {
      "name": "python3",
      "display_name": "Python 3"
    },
    "language_info": {
      "name": "python"
    }
  },
  "cells": [
    {
      "cell_type": "markdown",
      "source": [
        "# Bayesian Statistics\n",
        "\n",
        "This notebook explores how definitions used in Bayesian Statistics"
      ],
      "metadata": {
        "id": "lQFazRMhIldW"
      }
    },
    {
      "cell_type": "markdown",
      "source": [
        "Our references are:\n",
        "* [Pandas](https://pandas.pydata.org/), version 2.20, date: 20 Jan, 2024\n",
        "* [Python](https://www.python.org/), version 3.12.1\n",
        "* [Think Bayes: Bayesian Statistics in Python, 2nd Edition - Allen B. Downey - Github](http://allendowney.github.io/ThinkBayes2/index.html)"
      ],
      "metadata": {
        "id": "cxh90163I8km"
      }
    },
    {
      "cell_type": "markdown",
      "source": [
        "## Classic Bayes's Theorem:\n",
        "\n",
        "$$P(A|B) = \\frac{P(A) P(B|A)}{P(B)}$$\n",
        "\n",
        "Where the symbology is:\n",
        "\n",
        "- $P(A|B)$ is the probability that event A occurs given that event B occured\n",
        "\n",
        "- $P(A)$ is the probability of that event A occurs\n",
        "\n",
        "- $P(B|A)$ is the probability that event B occurs given that event A occured\n",
        "\n",
        "- $P(B)$ is the probability of that event B occurs\n"
      ],
      "metadata": {
        "id": "QdAONTgZlSBp"
      }
    },
    {
      "cell_type": "markdown",
      "source": [
        "## Diachronic Bayes Theorem - Symbols\n",
        "\n",
        "We can also use \"Diachronic (related to changes in time)\" Bayes Theorem where we\n",
        "update the probability of a hypothesis, $H$, given some body of data, $D$.\n",
        "\n"
      ],
      "metadata": {
        "id": "omfChWcllrQY"
      }
    },
    {
      "cell_type": "markdown",
      "source": [
        "Rewriting Bayes's theorem with $H$ and $D$ yields:\n",
        "\n",
        "$$P(H|D) = \\frac{P(H)~P(D|H)}{P(D)}$$\n",
        "\n",
        "Where the term names and symbology are:\n",
        "\n",
        "-  **Posterior** $P(H|D)$ is the probability of the hypothesis after we see the data\n",
        "\n",
        "-  **Prior** $P(H)$ is the probability of the hypothesis before we see the data\n",
        "\n",
        "-  **Likelihood** $P(D|H)$ is the probability of the data under the hypothesis\n",
        "\n",
        "-  **Total probability of the data** $P(D)$ under any hypothesis.\n",
        "\n"
      ],
      "metadata": {
        "id": "XJSelRLIn2NM"
      }
    },
    {
      "cell_type": "markdown",
      "source": [
        "## Diachronic Bayes Theorem - Term Names\n",
        "\n",
        "Rewriting Bayes's theorem with term names yields:\n",
        "\n",
        "$$(Posterior) = \\frac{(Prior)~(Likelihood)}{(Total Probability)}$$\n",
        "\n",
        "Where the term names are:\n",
        "\n",
        "-  **Posterior** is the probability of the hypothesis after we see the data\n",
        "\n",
        "-  **Prior** is the probability of the hypothesis before we see the data\n",
        "\n",
        "-  **Likelihood** is the probability of the data under the hypothesis\n",
        "\n",
        "-  **Total probability of the data** under any hypothesis"
      ],
      "metadata": {
        "id": "n3Q6IKgOqAvD"
      }
    }
  ]
}