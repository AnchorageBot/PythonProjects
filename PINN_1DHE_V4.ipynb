{
  "nbformat": 4,
  "nbformat_minor": 0,
  "metadata": {
    "colab": {
      "provenance": [],
      "authorship_tag": "ABX9TyNsZN1VymqMlnUUZhJ475jj"
    },
    "kernelspec": {
      "name": "python3",
      "display_name": "Python 3"
    },
    "language_info": {
      "name": "python"
    }
  },
  "cells": [
    {
      "cell_type": "markdown",
      "source": [
        "Physics Informed Neural Networks - June 2024\n",
        "\n",
        "* Dr. Mohammad Samara\n",
        "* Udemy\n",
        "\n",
        "1D Heat Equation - Mathematically modeling a heated aluminum rod\n",
        "\n",
        "* Solving the equation notebook"
      ],
      "metadata": {
        "id": "nNMMnfy-33XX"
      }
    },
    {
      "cell_type": "code",
      "execution_count": null,
      "metadata": {
        "id": "xQ7Jd-e13ytD"
      },
      "outputs": [],
      "source": [
        "# Python libraries\n",
        "import numpy as np\n",
        "import matplotlib.pyplot as plt"
      ]
    },
    {
      "cell_type": "code",
      "source": [
        "# Materials data\n",
        "rod_length = 10\n",
        "rod_mat_k = 0.89\n",
        "# Boundary conditions\n",
        "rod_temp_left = 100\n",
        "rod_temp_right = 200\n",
        "# Simulation period\n",
        "sim_time = 10"
      ],
      "metadata": {
        "id": "NOxOlBIw8MLL"
      },
      "execution_count": null,
      "outputs": []
    },
    {
      "cell_type": "code",
      "source": [
        "# time array (~ vector)\n",
        "dt = 0.0001\n",
        "#t = np.arange(0, sim_time, dt) # Returns evenly spaced values within a given interval\n",
        "t = np.linspace(0, sim_time, int(sim_time/dt)) # Returns evenly spaced values within a given interval\n",
        "print(\"time\", t)\n",
        "\n",
        "# distance in x direction array (~ vector)\n",
        "dx = 0.1\n",
        "#x = np.arange(0, rod_length, dx) # Returns evenly spaced values within a given interval\n",
        "x = np.linspace(0, rod_length, int(rod_length/dx)) # Returns evenly spaced numbers over a specified interval\n",
        "print(\"distance in x direction\", x)"
      ],
      "metadata": {
        "colab": {
          "base_uri": "https://localhost:8080/"
        },
        "collapsed": true,
        "id": "_N20Z7tP8pXb",
        "outputId": "ed3e538a-f7b6-4bdb-ad22-ca5636efe371"
      },
      "execution_count": null,
      "outputs": [
        {
          "output_type": "stream",
          "name": "stdout",
          "text": [
            "time [0.00000e+00 1.00001e-04 2.00002e-04 ... 9.99980e+00 9.99990e+00\n",
            " 1.00000e+01]\n",
            "distance in x direction [ 0.          0.1010101   0.2020202   0.3030303   0.4040404   0.50505051\n",
            "  0.60606061  0.70707071  0.80808081  0.90909091  1.01010101  1.11111111\n",
            "  1.21212121  1.31313131  1.41414141  1.51515152  1.61616162  1.71717172\n",
            "  1.81818182  1.91919192  2.02020202  2.12121212  2.22222222  2.32323232\n",
            "  2.42424242  2.52525253  2.62626263  2.72727273  2.82828283  2.92929293\n",
            "  3.03030303  3.13131313  3.23232323  3.33333333  3.43434343  3.53535354\n",
            "  3.63636364  3.73737374  3.83838384  3.93939394  4.04040404  4.14141414\n",
            "  4.24242424  4.34343434  4.44444444  4.54545455  4.64646465  4.74747475\n",
            "  4.84848485  4.94949495  5.05050505  5.15151515  5.25252525  5.35353535\n",
            "  5.45454545  5.55555556  5.65656566  5.75757576  5.85858586  5.95959596\n",
            "  6.06060606  6.16161616  6.26262626  6.36363636  6.46464646  6.56565657\n",
            "  6.66666667  6.76767677  6.86868687  6.96969697  7.07070707  7.17171717\n",
            "  7.27272727  7.37373737  7.47474747  7.57575758  7.67676768  7.77777778\n",
            "  7.87878788  7.97979798  8.08080808  8.18181818  8.28282828  8.38383838\n",
            "  8.48484848  8.58585859  8.68686869  8.78787879  8.88888889  8.98989899\n",
            "  9.09090909  9.19191919  9.29292929  9.39393939  9.49494949  9.5959596\n",
            "  9.6969697   9.7979798   9.8989899  10.        ]\n"
          ]
        }
      ]
    },
    {
      "cell_type": "markdown",
      "source": [
        "Codeblock documentation\n",
        "* numpy.arange https://numpy.org/doc/stable/reference/generated/numpy.arange.html\n",
        "  * numpy.arange([start, ]stop, [step, ]dtype=None, *, like=None)\n",
        "  * Return evenly spaced values within a given interval\n",
        "* numpy.linspace https://numpy.org/doc/stable/reference/generated/numpy.linspace.html\n",
        "  * numpy.linspace(start, stop, num=50, endpoint=True, retstep=False, dtype=None, axis=0)\n",
        "  * Return evenly spaced numbers over a specified interval\n",
        "  * Returns num evenly spaced samples, calculated over the interval [start, stop]"
      ],
      "metadata": {
        "id": "xRcQDNTVCSz8"
      }
    },
    {
      "cell_type": "code",
      "source": [
        "# Initial conditions of u = heat equation solution = temperature\n",
        "u = np.zeros([len(t), len(x)])  # Returns an array of zeros with the specified shape and type\n",
        "shape = u.shape\n",
        "print(\"u = heat equation solution shape in terms of steps in time and distance in x\", shape)"
      ],
      "metadata": {
        "colab": {
          "base_uri": "https://localhost:8080/"
        },
        "id": "CK_RXDWtJG_U",
        "outputId": "c39a1182-4c43-4130-cbab-cfaf15750921"
      },
      "execution_count": null,
      "outputs": [
        {
          "output_type": "stream",
          "name": "stdout",
          "text": [
            "u = heat equation solution shape in terms of steps in time and distance in x (100000, 100)\n"
          ]
        }
      ]
    },
    {
      "cell_type": "markdown",
      "source": [
        "Codeblock documentation\n",
        "* numpy.zeros https://numpy.org/doc/stable/reference/generated/numpy.zeros.html\n",
        "  * numpy.zeros(shape, dtype=float, order='C', *, like=None)\n",
        "  * Return a new array of given shape and type, filled with zeros\n",
        "* numpy.shape https://numpy.org/doc/stable/reference/generated/numpy.shape.html\n",
        "  * numpy.shape(a)\n",
        "  * Return the shape of an array"
      ],
      "metadata": {
        "id": "sc5iIkY8KbxH"
      }
    },
    {
      "cell_type": "code",
      "source": [
        "# Displays u (heat equation solution = temperature) in terms of columns and rows\n",
        "u[:, 0] = rod_temp_left\n",
        "u[:, -1] = rod_temp_right\n",
        "print(\"u = heat equation solution\", u)"
      ],
      "metadata": {
        "colab": {
          "base_uri": "https://localhost:8080/"
        },
        "collapsed": true,
        "id": "049UyPUlIYhP",
        "outputId": "b4d31cb8-a7f8-47cb-bfc2-7192bd58f6f1"
      },
      "execution_count": null,
      "outputs": [
        {
          "output_type": "stream",
          "name": "stdout",
          "text": [
            "u = heat equation solution [[100.   0.   0. ...   0.   0. 200.]\n",
            " [100.   0.   0. ...   0.   0. 200.]\n",
            " [100.   0.   0. ...   0.   0. 200.]\n",
            " ...\n",
            " [100.   0.   0. ...   0.   0. 200.]\n",
            " [100.   0.   0. ...   0.   0. 200.]\n",
            " [100.   0.   0. ...   0.   0. 200.]]\n"
          ]
        }
      ]
    },
    {
      "cell_type": "code",
      "source": [
        "# Graphs the heat equation solution = temperature of rod along distance of rod\n",
        "plt.plot(x, u[0])\n",
        "plt.xlabel(\"direction in x\")\n",
        "plt.ylabel(\"u = temperature\")\n",
        "plt.title(\"Heat equation solution = temperature of rod\")\n",
        "#plt.show()"
      ],
      "metadata": {
        "colab": {
          "base_uri": "https://localhost:8080/",
          "height": 489
        },
        "id": "r9XC7ebNYDmq",
        "outputId": "cdfbfdec-aff6-4af4-a535-58eedd0269cb"
      },
      "execution_count": null,
      "outputs": [
        {
          "output_type": "execute_result",
          "data": {
            "text/plain": [
              "Text(0.5, 1.0, 'Heat equation solution = temperature of rod')"
            ]
          },
          "metadata": {},
          "execution_count": 50
        },
        {
          "output_type": "display_data",
          "data": {
            "text/plain": [
              "<Figure size 640x480 with 1 Axes>"
            ],
            "image/png": "[encoded data removed]"
          },
          "metadata": {}
        }
      ]
    },
    {
      "cell_type": "markdown",
      "source": [
        "Equation discretation is the conversion of a continuous mathematical equation into a discrete form suitable for numeric analysis.\n",
        "\n",
        "\n",
        "We convert\n",
        "\n",
        "  $\\large\\frac{du}{dt} = k\\frac{du^2}{dx^2}$\n",
        "\n",
        "\n",
        "...via these intermediaries\n",
        "\n",
        "f''(x) ~ $\\large\\frac{f(x + h) - 2f(x) + f(x - h)}{h^2}$\n",
        "\n",
        "f'(x) ~ $\\large\\frac{f(x + h) - f(x)}{h}$\n",
        "\n",
        "... to this form\n",
        "\n",
        "$\\large\\frac{u(t + dt, x) - u(t, x)}{dt} = \\frac{u(t, x + dx) - 2u(t, x) + u(t, x - dx)}{dx^2}$"
      ],
      "metadata": {
        "id": "ON2z7dP749z8"
      }
    },
    {
      "cell_type": "code",
      "source": [
        "# Explict solution = start at an initial condition and then progress one time step at a time\n",
        "for t in range(1, len(dt)-1): # time step using the python convention of -1 in order to include the last element\n",
        "  for x in range(1, len(dt)-1): # distance step using the python convention of -1 in order to include the last element\n",
        "    #u[t+1,x] # simulates what will happen in the future (ie t + 1) at this x location\n",
        "    u[t+1,x] = (k*(dt/dx**2)) * (u[t,x+1] - 2*u[t,x] + u[t,x-1]) + u[t,x]"
      ],
      "metadata": {
        "id": "1ccDmuN93p6M"
      },
      "execution_count": null,
      "outputs": []
    }
  ]
}