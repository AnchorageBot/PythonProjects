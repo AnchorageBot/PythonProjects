{
  "nbformat": 4,
  "nbformat_minor": 0,
  "metadata": {
    "colab": {
      "provenance": [],
      "authorship_tag": "ABX9TyM7SI4QUFZc6q1h01RfaUro"
    },
    "kernelspec": {
      "name": "python3",
      "display_name": "Python 3"
    },
    "language_info": {
      "name": "python"
    }
  },
  "cells": [
    {
      "cell_type": "markdown",
      "source": [
        "# Mathematical Foundations for Data Analysis\n",
        "\n",
        "This notebook will explore probability via a sample space, Section 1.1, Chapter 1\n"
      ],
      "metadata": {
        "id": "t4TD809cYXHd"
      }
    },
    {
      "cell_type": "markdown",
      "source": [
        "Our references (website links) include:\n",
        "* [Google Colab](https://colab.research.google.com)\n",
        "* [HTML Character Reference Names/Standard Entities](https://html.spec.whatwg.org/multipage/named-characters.html#named-character-references)\n",
        "* [Mathematical Foundations for Data Analysis - JM Phillips - Springer](https://link.springer.com/book/10.1007/978-3-030-62341-8)\n",
        "* [Mathematical Foundations for Data Analysis - Jeff M. Phillips - Github](https://mathfordata.github.io)\n",
        "* [Markdown](https://www.markdownguide.org/)\n",
        "* [Python](https://www.python.org/) version 3.12.1"
      ],
      "metadata": {
        "id": "RM_sg6LYni84"
      }
    },
    {
      "cell_type": "markdown",
      "source": [
        "In order to get a fancy symbol in a notebook, type a backslash \\ and then immediately adjacent to it, type the name of the symbol you are looking for. A dropdown menu will appear with suggested symbols"
      ],
      "metadata": {
        "id": "YhBjj73CpXi5"
      }
    },
    {
      "cell_type": "markdown",
      "source": [
        "Discrete Sample Spaces - Definitions & Symbols\n",
        "* Sample spaces are represented by the symbol uppercase Omega Ω\n",
        "* Events are represented by the symbol A\n",
        "* Sample outcomes are represented by the symbol lowercase omega ω\n",
        "* The probability of an event is represented by the symbol Pr(A)\n",
        "\n",
        "\n"
      ],
      "metadata": {
        "id": "8aDI0-rNglqr"
      }
    },
    {
      "cell_type": "markdown",
      "source": [
        "Discrete Sample Space - Probability of Rolling Odd Numbers with a Six Sided Dice\n",
        "* Ω = {1,2,3,4,5,6}\n",
        "* A = {1,3,5}\n",
        "* ω = {3}\n",
        "* Pr(A) = {1,3,5} / {1,2,3,4,5,6} = 1/2"
      ],
      "metadata": {
        "id": "v7BJHDTsmVPd"
      }
    }
  ]
}
