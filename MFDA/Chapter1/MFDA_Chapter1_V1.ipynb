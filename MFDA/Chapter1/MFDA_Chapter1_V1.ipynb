{
  "nbformat": 4,
  "nbformat_minor": 0,
  "metadata": {
    "colab": {
      "provenance": [],
      "authorship_tag": "ABX9TyP9DyEx/G8znfsrQznorpbK"
    },
    "kernelspec": {
      "name": "python3",
      "display_name": "Python 3"
    },
    "language_info": {
      "name": "python"
    }
  },
  "cells": [
    {
      "cell_type": "markdown",
      "source": [
        "# Mathematical Foundations for Data Analysis\n",
        "\n",
        "This notebook will explore probability via discrete sample spaces, Section 1.1, Chapter 1\n"
      ],
      "metadata": {
        "id": "t4TD809cYXHd"
      }
    },
    {
      "cell_type": "markdown",
      "source": [
        "Our references (website links) include:\n",
        "* [Google Colab](https://colab.research.google.com)\n",
        "* [Google Colab AI](https://blog.google/technology/ai/democratizing-access-to-ai-enabled-coding-with-colab/)\n",
        "* [HTML Character Reference Names/Standard Entities](https://html.spec.whatwg.org/multipage/named-characters.html#named-character-references)\n",
        "* [Mathematical Foundations for Data Analysis - JM Phillips - Springer](https://link.springer.com/book/10.1007/978-3-030-62341-8)\n",
        "* [Mathematical Foundations for Data Analysis - Jeff M. Phillips - Github](https://mathfordata.github.io)\n",
        "* [Markdown](https://www.markdownguide.org/)\n",
        "* [Python](https://www.python.org/) version 3.12.1"
      ],
      "metadata": {
        "id": "RM_sg6LYni84"
      }
    },
    {
      "cell_type": "markdown",
      "source": [
        "In order to get a fancy symbol in a notebook, type a backslash \\ and then immediately adjacent to it, type the name of the symbol you are looking for. A dropdown menu will appear with suggested symbols"
      ],
      "metadata": {
        "id": "YhBjj73CpXi5"
      }
    },
    {
      "cell_type": "markdown",
      "source": [
        "Discrete Sample Spaces - Definitions & Symbols\n",
        "* Discrete mathematics is the study of mathematical structures that are countable or otherwise distinct and separable\n",
        "* Sample spaces are represented by the symbol uppercase Omega Ω\n",
        "* Events are represented by the symbol A\n",
        "* Sample outcomes are represented by the symbol lowercase omega ω\n",
        "* The probability of an event is represented by the symbol Pr(A)\n",
        "* The probability of the union ( $∪$ ) of disjoint events is equivalent to the sum ( $\\sum$ ) of their individual probabilities."
      ],
      "metadata": {
        "id": "8aDI0-rNglqr"
      }
    },
    {
      "cell_type": "markdown",
      "source": [
        "Discrete Sample Space - Probability of Rolling Odd Numbers with a Six Sided Dice\n",
        "* Ω = {1,2,3,4,5,6}\n",
        "* A = {1,3,5}\n",
        "* ω = {3}\n",
        "* Pr(A) = {1,3,5} / {1,2,3,4,5,6} = {3} / {6} = 1/2 = 0.5"
      ],
      "metadata": {
        "id": "v7BJHDTsmVPd"
      }
    },
    {
      "cell_type": "markdown",
      "source": [
        "Discrete Sample Space - Probability of flipping a biased coin, where Heads (H = 0.6) & Tails (T = 0.4) and getting tails\n",
        "* Ω = {H,T}\n",
        "* A = {T}\n",
        "* Pr(A) = {0.4} / {0.4 + 0.6} = 0.4"
      ],
      "metadata": {
        "id": "1lRofXsVfVvo"
      }
    },
    {
      "cell_type": "markdown",
      "source": [
        "Probability\n",
        "* Pr(Ω) = 1\n",
        "* 0 ≲ Pr(A) ≲ 1\n",
        "* Pr($∪$$A_{i}$) = $\\sum$Pr($A_{i}$)\n"
      ],
      "metadata": {
        "id": "B4XimTGIiouS"
      }
    }
  ]
}
