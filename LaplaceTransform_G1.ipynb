{
  "nbformat": 4,
  "nbformat_minor": 0,
  "metadata": {
    "colab": {
      "provenance": [],
      "authorship_tag": "ABX9TyNrwZlMNCusgkYcTG9bE21Z"
    },
    "kernelspec": {
      "name": "python3",
      "display_name": "Python 3"
    },
    "language_info": {
      "name": "python"
    }
  },
  "cells": [
    {
      "cell_type": "markdown",
      "source": [
        "Laplace Transforms Notebook\n",
        "* General\n",
        "\n",
        "Tutor:\n",
        "* Anthropic's AI Claude"
      ],
      "metadata": {
        "id": "C-RFF_alHJSE"
      }
    },
    {
      "cell_type": "markdown",
      "source": [
        "The Laplace Transform converts time-domain functions into frequency-domain functions, simplifying differential equations into algebraic equations.\n",
        "\n",
        "Here's the equation:\n",
        "```\n",
        "F(s) = ∫[0 to ∞] f(t)e^(-st)dt\n",
        "```\n",
        "\n",
        "Here's the equation in Latex format:\n",
        "\n",
        "    F(s) = \\int_{0}^{\\infty} f(t)e^{-st}dt\n",
        "\n",
        "Here's the equation in Google Colab format:\n",
        "\n",
        "$$F(s) = \\int_{0}^{\\infty} f(t)e^{-st}dt$$"
      ],
      "metadata": {
        "id": "aJ270ftQHS3w"
      }
    },
    {
      "cell_type": "markdown",
      "source": [
        "Equation formating:\n",
        "\n",
        "* GitHub markdown: Uses single dollar sign for inline and double dollar sign for display math, but not all GitHub views render it\n",
        "* Google Colab: Fully supports LaTeX in markdown cells with $ and $$\n",
        "* Jupyter notebooks: Same as Colab\n",
        "* GitHub README files: Often people include an SVG or PNG of the equation since LaTeX isn't consistently rendered"
      ],
      "metadata": {
        "id": "9UQOqLqxKslJ"
      }
    }
  ]
}