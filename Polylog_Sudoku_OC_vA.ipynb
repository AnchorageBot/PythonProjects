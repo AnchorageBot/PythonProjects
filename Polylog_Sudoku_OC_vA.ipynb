{
  "nbformat": 4,
  "nbformat_minor": 0,
  "metadata": {
    "colab": {
      "provenance": [],
      "authorship_tag": "ABX9TyPb92iGsC0vK40v7sxsdj2Y"
    },
    "kernelspec": {
      "name": "python3",
      "display_name": "Python 3"
    },
    "language_info": {
      "name": "python"
    }
  },
  "cells": [
    {
      "cell_type": "markdown",
      "source": [
        "Cryptography\n",
        "\n",
        "Tagging along with Polylog and ChatGPT"
      ],
      "metadata": {
        "id": "FBHiWSPGjHis"
      }
    },
    {
      "cell_type": "markdown",
      "source": [
        "References:\n",
        "\n",
        "[I can prove I’ve solved this Sudoku without revealing it - Polylog](https://youtu.be/Otvcbw6k4eo?si=0PMUnGsDrkqXEeVc)\n",
        "\n",
        "Tutor:\n",
        "\n",
        "OpenAI's ChatGPT"
      ],
      "metadata": {
        "id": "KFFbYkjejQFl"
      }
    },
    {
      "cell_type": "markdown",
      "source": [
        "Zero-knowledge proofs (ZKPs) are cryptographic methods that allow one party (the *prover*) to convince another party (the *verifier*) that a statement is true, without revealing any additional information beyond the validity of the statement itself. The key idea is that the verifier learns nothing about the statement except its truth, ensuring privacy and security.\n",
        "\n",
        "Here’s a high-level summary:\n",
        "\n",
        "1. **Purpose**: To prove knowledge of a fact without revealing the fact itself. For example, proving that you know a password without actually showing it.\n",
        "  \n",
        "2. **Main Components**:\n",
        "   - **Prover**: The party that has the knowledge and wants to prove it.\n",
        "   - **Verifier**: The party that checks the validity of the proof.\n",
        "   - **Challenge and Response**: The prover and verifier engage in an interaction where the prover provides cryptographic evidence that the claim is true, and the verifier checks this evidence.\n",
        "\n",
        "3. **Properties of ZKPs**:\n",
        "   - **Completeness**: If the statement is true, an honest prover can convince the verifier.\n",
        "   - **Soundness**: If the statement is false, a dishonest prover cannot convince the verifier.\n",
        "   - **Zero-knowledge**: The verifier learns nothing about the statement except that it's true.\n",
        "\n",
        "4. **Applications**:\n",
        "   - **Privacy**: Ensures that sensitive information (like passwords or transaction details) is not exposed.\n",
        "   - **Blockchain**: Used for privacy-preserving features in cryptocurrencies (e.g., zk-SNARKs in Zcash).\n",
        "   - **Authentication**: Enables authentication without revealing personal data.\n",
        "\n",
        "ZKPs are a powerful tool for ensuring privacy and security in various cryptographic systems."
      ],
      "metadata": {
        "id": "pie6ijCr96MA"
      }
    }
  ]
}