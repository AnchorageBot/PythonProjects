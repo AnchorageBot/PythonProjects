{
  "nbformat": 4,
  "nbformat_minor": 0,
  "metadata": {
    "colab": {
      "provenance": [],
      "authorship_tag": "ABX9TyP+PiHG5Gk/U0+RcvtcjDvg"
    },
    "kernelspec": {
      "name": "python3",
      "display_name": "Python 3"
    },
    "language_info": {
      "name": "python"
    }
  },
  "cells": [
    {
      "cell_type": "markdown",
      "source": [
        "Bernoulli Percolation Notebook\n",
        "* Based upon Professor Hugo Duminil-Copin's notes\n",
        "* Introduction to Bernoulli Percolation dated November 2, 2022\n",
        "* [Universite' de Geneve, IHES](https://www.ihes.fr/~duminil/CV.html)"
      ],
      "metadata": {
        "id": "vZKxLBxp0U6G"
      }
    },
    {
      "cell_type": "markdown",
      "source": [
        "Tutors 🚀 :\n",
        "* Professor Hugo Duminil-Copin\n",
        "* Google's AI Gemini 2.0 Experimental Advanced"
      ],
      "metadata": {
        "id": "uHaVx4Q80dx0"
      }
    },
    {
      "cell_type": "markdown",
      "source": [
        "## Glossary Table\n",
        "\n",
        "| Symbol/Term                       | Meaning                                                                                                                                                                | Concept                                           | Notes                                                                                                                                                                                                                            |\n",
        "| :-------------------------------- | :------------------------------------------------------------------------------------------------------------------------------------------------------------------------- | :------------------------------------------------ | :------------------------------------------------------------------------------------------------------------------------------------------------------------------------------------------------------------------------------- |\n",
        "| `G = (V, E)`                      | A graph with vertex set `V` and edge set `E`                                                                                                                              | Graph Theory                                      |                                                                                                                                                                                                                              |\n",
        "| `ω` (omega)                       | A percolation configuration; an element of `{0, 1}ᴱ`, where `ωₑ = 1` means edge `e` is open, and `ωₑ = 0` means edge `e` is closed                                        | Percolation Theory                                |                                                                                                                                                                                                                              |\n",
        "| `ωₑ`                                | State of edge `e` in configuration `ω` (1 for open, 0 for closed)                                                                                                         | Percolation Theory                                |                                                                                                                                                                                                                              |\n",
        "| `ω'` (omega prime)                 | A percolation configuration, often used in the context of coupling or as a dual configuration                                                                            | Percolation Theory                                | Clarified the role of `ω'`                                                                                                                                                                                                     |\n",
        "| `e*`                               | Edge in the dual graph corresponding to edge `e` in the original graph                                                                                                     | Percolation Theory (Duality)                     |                                                                                                                                                                                                                              |\n",
        "| `(ℤ²)⁺`                             | Translation of `ℤ²` by the vector (1/2, 1/2); also denoted as the dual graph                                                                                                | Lattice Geometry, Percolation Theory (Duality)   | Added that it's also the dual graph.                                                                                                                                                                                      |\n",
        "| Bernoulli Percolation             | Percolation model where each edge is independently open with probability `p` and closed with probability `1-p`                                                              | Percolation Theory                                |                                                                                                                                                                                                                              |\n",
        "| `p`                               | Probability that an edge is open in Bernoulli percolation                                                                                                                   | Percolation Theory                                |                                                                                                                                                                                                                              |\n",
        "| `ℙₚ` or `P_p`                      | Probability measure for Bernoulli percolation with parameter `p`                                                                                                             | Probability Theory, Percolation Theory          | Added alternative notation `P_p`                                                                                                                                                                                               |\n",
        "| `θ(p)`                             | Probability that the origin (or a specific vertex) belongs to an infinite cluster in Bernoulli percolation with parameter `p`                                            | Percolation Theory                                |                                                                                                                                                                                                                              |\n",
        "| `p_c` or `p_c(d)`                 | Critical probability; the infimum of `p` such that `θ(p) > 0` (may be denoted with `d` if dimension is important)                                                             | Percolation Theory                                | Added `p_c(d)` to make it clear that it can depend on dimension.                                                                                                                                                              |\n",
        "| `0 ↔ ∞`                            | Existence of an infinite path (or cluster) connecting the origin to infinity                                                                                                 | Percolation Theory                                |                                                                                                                                                                                                                              |\n",
        "| `ℤᵈ`                               | Set of elements in `ℝᵈ` with integer coordinates (also represents the d-dimensional hypercubic lattice/vertex set)                                                          | Discrete Mathematics, Geometry, Percolation Theory | Emphasized that it's the d-dimensional hypercubic lattice.                                                                                                                                                         |\n",
        "| Infinite cluster                  | A connected component of open edges that is infinite                                                                                                                       | Percolation Theory                                |                                                                                                                                                                                                                              |\n",
        "| Self-avoiding path                | A sequence of edges `e₁, ..., eₙ` where `eᵢ ≠ eⱼ` for `i ≠ j`, and adjacent edges share an endpoint                                                                         | Graph Theory, Percolation Theory                  |                                                                                                                                                                                                                              |\n",
        "| `Ωₙ`                               | Set of self-avoiding paths of length `n` starting from the origin                                                                                                           | Graph Theory, Percolation Theory                  |                                                                                                                                                                                                                              |\n",
        "| Dual graph `(ℤ²)∗` or `(ℤ²)⁺`        | Graph with vertices at the centers of the squares of `ℤ²`, and edges connecting adjacent centers, representing the dual to the original lattice's edges                  | Percolation Theory (Duality)                     | Used both `(ℤ²)∗` and `(ℤ²)⁺`                                                                                                                                                                                            |\n",
        "| Increasing event                  | An event `A` is increasing if `ω ∈ A` and `ω ≤ ω'` implies `ω' ∈ A`                                                                                                        | Percolation Theory                                |                                                                                                                                                                                                                              |\n",
        "| Decreasing event                  | An event `A` is decreasing if its complement is increasing                                                                                                                 | Percolation Theory                                |                                                                                                                                                                                                                              |\n",
        "| `x ↔ y`                            | Sites `x` and `y` are connected in `ω` (there exists a path of open edges from `x` to `y`)                                                                                  | Percolation Theory                                |                                                                                                                                                                                                                              |\n",
        "| `A ↔ B`                            | There exists a path connecting set of vertices `A` to set of vertices `B`                                                                                                   | Percolation Theory                                |                                                                                                                                                                                                                              |\n",
        "| `x ↔ ∞`                            | The site `x` is in an infinite connected component (same as `x` belongs to an infinite cluster)                                                                           | Percolation Theory                                | Added \"same as `x` belongs to an infinite cluster\" for clarity.                                                                                                                                                        |\n",
        "| `|F| > k`                         | The number of open edges in the set `F` exceeds `k`                                                                                                                       | Percolation Theory                                |                                                                                                                                                                                                                              |\n",
        "| Lattice animal                    | A finite connected subset of a graph (specifically, a connected subgraph of the lattice)                                                                                  | Graph Theory, Combinatorics                        | Added \"connected subgraph of the lattice\" for specificity.                                                                                                                                                            |\n",
        "| `α(n, x)` or `a(n, x)`             | The number of lattice animals of size `n` containing the vertex `x`                                                                                                           | Graph Theory, Combinatorics                        | Added alternative notation `a(n,x)`                                                                                                                                                                                      |\n",
        "| Minimal blocking surface          | A set of edges `E` such that every path of adjacent edges from the origin to infinity intersects `E`, and no proper subset of `E` has this property                          | Percolation Theory                                |                                                                                                                                                                                                                              |\n",
        "| Elementary loop                  | A loop of length 4 in the lattice                                                                                                                                             | Graph Theory                                      |                                                                                                                                                                                                                              |\n",
        "| Increasing coupling               | A measure `P` on `{0,1}ᴱ × {0,1}ᴱ` with marginals `P_p` and `P_p'` (where `p < p'`) such that `P[(ω, ω'): ω ≤ ω'] = 1`                                                            | Probability Theory, Percolation Theory          | Specified `p < p'`                                                                                                                                                                                                        |\n",
        "| `Λₙ` (Lambda_n)                   | A finite subset of the lattice defined as `[-n, n]ᵈ` for any integer `n ≥ 1`.                                                                                                 | Lattice Geometry                                      | Added to the table as it's frequently used to refer to a box or finite region of the lattice                                                                                                                            |\n",
        "| Boundary of a subgraph (`∂G`)      | For a subgraph `G = (V, E)` of  `ℤᵈ`, its boundary `∂G` is the set of vertices in `G` that are connected to at least one vertex outside of `G`.                              | Graph Theory, Percolation Theory                  | Added as it's important for understanding how finite subgraphs relate to the infinite lattice and defines the edges of finite regions.                                                                                  |\n",
        "| `|Ωₙ|`                             | The number (cardinality) of self-avoiding paths of length `n` starting from the origin                                                                                           | Graph Theory, Combinatorics                        | Added for clarity regarding the use in the document.                                                                                                                                                                          |\n",
        "| `d` (in the context of `p_c(d)`) | The dimension of the hypercubic lattice (e.g., `d=2` for the square lattice)                                                                                                   | Percolation Theory                                | Added to clarify the use of `d` in the context of critical probability.                                                                                                                                                      |"
      ],
      "metadata": {
        "id": "Hg5daeEl9yjI"
      }
    },
    {
      "cell_type": "markdown",
      "source": [
        "**Exercise 1 - From notes**\n",
        "- - - -\n",
        "Show that any measurable event can be approximated by events depending on finitely many edges, in\n",
        "the sense that for any A in the product σ-algebra, there exists a sequence (Bn) such that Bn is measurable in terms\n",
        "of the ωe for e in the box of size n, and Pp[A∆Bn] tends to 0 as n tends to infinity."
      ],
      "metadata": {
        "id": "RxJ_7lPe08hy"
      }
    },
    {
      "cell_type": "markdown",
      "source": [
        "**Exercise 1: Approximation of Measurable Events - reworked**\n",
        "\n",
        "---\n",
        "\n",
        "**Given:**\n",
        "\n",
        "*   **(Ω, ℱ, Pₚ):** A probability space where:\n",
        "    *   Ω = {0, 1}ᴱ is the set of all possible percolation configurations ω, where E is the set of edges in the lattice (e.g. ℤᵈ).\n",
        "    *   ℱ is the product σ-algebra generated by the random variables {ωₑ} for e ∈ E. This represents all measurable events related to the configuration of edges.\n",
        "    *   Pₚ is the Bernoulli percolation probability measure with parameter *p*.\n",
        "*   **A ∈ ℱ:** An arbitrary event in the product σ-algebra ℱ. This means *A* is an event related to the states of edges (open or closed).\n",
        "*   **Λₙ = [-n, n]ᵈ ∩ ℤᵈ:** A box of side length 2n+1 centered at the origin in ℤᵈ.\n",
        "*   **Eₙ = {e ∈ E : e connects vertices in Λₙ}:** The set of edges within the box Λₙ.\n",
        "*   **Bₙ:** An event that is measurable with respect to the edges within the box Λₙ.\n",
        "*   **∆:** The symmetric difference between two sets. A ∆ B = (A \\ B) ∪ (B \\ A). This represents the set of outcomes that are in *A* or *B* but not both.\n",
        "\n",
        "**Find:**\n",
        "\n",
        "*   A sequence of events {Bₙ}ₙ∈ℕ, where each Bₙ depends only on the state of edges within the box Λₙ (i.e., the edges in Eₙ), such that:\n",
        "\n",
        "    lim (n→∞) Pₚ[A ∆ Bₙ] = 0\n",
        "\n",
        "    In other words, we need to find a sequence of events Bₙ that are determined by looking at larger and larger boxes, and the probability that *A* and *Bₙ* differ goes to zero as the box size grows. This means Bₙ approximates A well for large n.\n",
        "\n",
        "**Solution:**\n",
        "\n",
        "1.  **Define the Box Λₙ and Edge Set Eₙ:**\n",
        "    *   As defined above, **Λₙ = [-n, n]ᵈ ∩ ℤᵈ** represents the set of vertices in a d-dimensional box of side length 2n+1 centered at the origin.\n",
        "    *   **Eₙ = {e ∈ E : e connects vertices in Λₙ}** is the set of edges within this box.\n",
        "\n",
        "2.  **Construct Bₙ:**\n",
        "    *   Let **ℱₙ** be the σ-algebra generated by the random variables {ωₑ} for e ∈ Eₙ. This represents the events that can be determined by looking only at the edges within the box Λₙ.\n",
        "    *   Since cylinder sets generate the product σ-algebra, for any A ∈ ℱ and any ε > 0, there exists an n and an event Bₙ ∈ ℱₙ such that Pₚ[A ∆ Bₙ] < ε.\n",
        "    *   Intuitively, Bₙ is constructed such that it \"matches\" A as closely as possible, considering only the edges in Eₙ.\n",
        "\n",
        "3.  **Show Convergence:**\n",
        "    *   We want to show that lim (n→∞) Pₚ[A ∆ Bₙ] = 0.\n",
        "    *   This is a standard result in measure theory related to the approximation of measurable sets in product spaces. It can be shown that for any A ∈ ℱ, and ε>0, there exists a finite union of disjoint cylinder sets, say C, such that Pₚ[A Δ C] < ε/2.\n",
        "    *   Each of these cylinder sets depends on a finite number of edges.  Since Eₙ grows to encompass all edges as n increases, we can find an N such that for all n ≥ N, the finite set of edges upon which C depends is contained in Eₙ.\n",
        "    *   Let Bₙ be the event in ℱₙ that corresponds to C. Then, Pₚ[C Δ Bₙ] = 0 for n ≥ N.\n",
        "    *   By the triangle inequality: Pₚ[A Δ Bₙ] ≤ Pₚ[A Δ C] + Pₚ[C Δ Bₙ] < ε/2 + 0 = ε/2 for n ≥ N.\n",
        "    *   Since ε is arbitrary, this implies that lim (n→∞) Pₚ[A ∆ Bₙ] = 0.\n",
        "\n",
        "**Conclusion:**\n",
        "\n",
        "We have shown that for any measurable event A in the Bernoulli percolation model, there exists a sequence of events {Bₙ} such that Bₙ depends only on the edges within a box of size n, and the probability of the symmetric difference between A and Bₙ goes to zero as n goes to infinity. This demonstrates that measurable events can be approximated by events depending on finitely many edges."
      ],
      "metadata": {
        "id": "L2OKdQG5-XdT"
      }
    }
  ]
}