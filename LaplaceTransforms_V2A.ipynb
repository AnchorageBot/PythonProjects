{
  "nbformat": 4,
  "nbformat_minor": 0,
  "metadata": {
    "colab": {
      "provenance": [],
      "authorship_tag": "ABX9TyPcDAsGKdEQImwQBixWI2ju"
    },
    "kernelspec": {
      "name": "python3",
      "display_name": "Python 3"
    },
    "language_info": {
      "name": "python"
    }
  },
  "cells": [
    {
      "cell_type": "markdown",
      "source": [
        "Laplace Transform Notebook\n",
        "* Electrical Circuit Analysis\n",
        "\n",
        "Tutor:\n",
        "* Anthropic's AI Claude"
      ],
      "metadata": {
        "id": "x5lZK_rDOBN6"
      }
    },
    {
      "cell_type": "markdown",
      "source": [
        "##Circuit Analysis using Laplace Transforms:\n",
        "\n",
        "###High-Level Description:\n",
        "Laplace Transforms convert time-domain circuit elements (L, C, R) into s-domain impedances, transforming differential equations into algebraic equations for easier circuit analysis.\n",
        "\n",
        "##Key Equations:\n",
        "```\n",
        "Circuit Elements in s-domain:\n",
        "Inductor: Z_L = Ls\n",
        "Capacitor: Z_C = 1/(Cs)\n",
        "Resistor: Z_R = R\n",
        "```\n",
        "\n",
        "Ohm's Law in s-domain:\n",
        "```\n",
        "V(s) = I(s)Z(s)\n",
        "```\n",
        "\n",
        "| Symbol/Term | Description |\n",
        "|------------|-------------|\n",
        "| Z(s) | Total impedance in s-domain |\n",
        "| Z_L | Inductive impedance |\n",
        "| Z_C | Capacitive impedance |\n",
        "| Z_R | Resistive impedance |\n",
        "| L | Inductance (henries) |\n",
        "| C | Capacitance (farads) |\n",
        "| R | Resistance (ohms) |\n",
        "| V(s) | Voltage in s-domain |\n",
        "| I(s) | Current in s-domain |\n",
        "| s | Complex frequency variable |\n",
        "\n",
        "\n",
        "Key Concepts:\n",
        "1. Component Transformations:\n",
        "   - Inductors (L) → Ls\n",
        "   - Capacitors (C) → 1/Cs\n",
        "   - Resistors (R) → R (unchanged)\n",
        "\n",
        "2. Analysis Benefits:\n",
        "   - Derivatives become multiplication by s\n",
        "   - Integrals become division by s\n",
        "   - Circuit laws (KVL, KCL) become algebraic\n",
        "   - Time-domain differential equations transform into algebraic equations\n",
        "\n"
      ],
      "metadata": {
        "id": "F37qS3j8ONC2"
      }
    }
  ]
}