{
  "nbformat": 4,
  "nbformat_minor": 0,
  "metadata": {
    "colab": {
      "provenance": [],
      "authorship_tag": "ABX9TyNAP9ZHhw4vdZ0wKlAMJPQ/"
    },
    "kernelspec": {
      "name": "python3",
      "display_name": "Python 3"
    },
    "language_info": {
      "name": "python"
    }
  },
  "cells": [
    {
      "cell_type": "markdown",
      "source": [
        "Kaggle - Validate Your First ML Model\n",
        "\n",
        "*  We are going to [validate the Iowa dataset](https://www.kaggle.com/code/dansbecker/model-validation/data) with this notebook and will break up our process into several notebooks\n",
        "*  We are going to use the [Panda's library](https://pandas.pydata.org/docs/) Date: Dec 08, 2023 Version: 2.1.4\n",
        "*  We are also going to use the [Scikit library](https://scikit-learn.org/stable/) Date: October 2023.  Version: 1.3.2"
      ],
      "metadata": {
        "id": "2MskVYBqnvQS"
      }
    },
    {
      "cell_type": "markdown",
      "source": [
        "We can drag and drop data files (csv files) that we want to work with from our local drive into the google colab file icon (left side of the colab screen)\n",
        "1.   Download the [Kaggle Iowa Housing Training Dataset](https://www.kaggle.com/code/dansbecker/model-validation/data) to your desktop\n",
        "2.   Click on the folder on left side of the approximate middle of the Colab screen\n",
        "3.   Drag and drop the train.csv file into the folder to upload it to Google Colab from your desktop\n",
        "4.   You will need to do this operation everytime you use the notebook"
      ],
      "metadata": {
        "id": "i8bezjG2oTox"
      }
    },
    {
      "cell_type": "markdown",
      "source": [
        "Our first script does the following:\n",
        "\n",
        "*   Imports the panda's and scikit libraries\n",
        "*   Loads the data\n",
        "*   Breaks out the columns in the dataset for our review"
      ],
      "metadata": {
        "id": "qDEwGIuhomM6"
      }
    },
    {
      "cell_type": "code",
      "source": [
        "# Import Pandas Library\n",
        "import pandas as pd\n",
        "from sklearn.tree import DecisionTreeRegressor\n",
        "\n",
        "# Load data\n",
        "home_data = pd.read_csv('train.csv')\n",
        "\n",
        "# Examine the columns in the dataset\n",
        "home_data.columns"
      ],
      "metadata": {
        "colab": {
          "base_uri": "https://localhost:8080/"
        },
        "id": "g4MF-kK4owRJ",
        "outputId": "34acc003-5cf4-4611-c0a3-953349c7d52e"
      },
      "execution_count": 1,
      "outputs": [
        {
          "output_type": "execute_result",
          "data": {
            "text/plain": [
              "Index(['Id', 'MSSubClass', 'MSZoning', 'LotFrontage', 'LotArea', 'Street',\n",
              "       'Alley', 'LotShape', 'LandContour', 'Utilities', 'LotConfig',\n",
              "       'LandSlope', 'Neighborhood', 'Condition1', 'Condition2', 'BldgType',\n",
              "       'HouseStyle', 'OverallQual', 'OverallCond', 'YearBuilt', 'YearRemodAdd',\n",
              "       'RoofStyle', 'RoofMatl', 'Exterior1st', 'Exterior2nd', 'MasVnrType',\n",
              "       'MasVnrArea', 'ExterQual', 'ExterCond', 'Foundation', 'BsmtQual',\n",
              "       'BsmtCond', 'BsmtExposure', 'BsmtFinType1', 'BsmtFinSF1',\n",
              "       'BsmtFinType2', 'BsmtFinSF2', 'BsmtUnfSF', 'TotalBsmtSF', 'Heating',\n",
              "       'HeatingQC', 'CentralAir', 'Electrical', '1stFlrSF', '2ndFlrSF',\n",
              "       'LowQualFinSF', 'GrLivArea', 'BsmtFullBath', 'BsmtHalfBath', 'FullBath',\n",
              "       'HalfBath', 'BedroomAbvGr', 'KitchenAbvGr', 'KitchenQual',\n",
              "       'TotRmsAbvGrd', 'Functional', 'Fireplaces', 'FireplaceQu', 'GarageType',\n",
              "       'GarageYrBlt', 'GarageFinish', 'GarageCars', 'GarageArea', 'GarageQual',\n",
              "       'GarageCond', 'PavedDrive', 'WoodDeckSF', 'OpenPorchSF',\n",
              "       'EnclosedPorch', '3SsnPorch', 'ScreenPorch', 'PoolArea', 'PoolQC',\n",
              "       'Fence', 'MiscFeature', 'MiscVal', 'MoSold', 'YrSold', 'SaleType',\n",
              "       'SaleCondition', 'SalePrice'],\n",
              "      dtype='object')"
            ]
          },
          "metadata": {},
          "execution_count": 1
        }
      ]
    },
    {
      "cell_type": "markdown",
      "source": [
        "Our next script does the following:\n",
        "\n",
        "*   Identifies the target of the analysis and the features that we believe to impact it\n",
        "*   Loads a [decision tree](https://scikit-learn.org/stable/modules/tree.html) algo (model)\n",
        "*   Fits the algo (model) via an [estimator  .fit()](https://scikit-learn.org/stable/developers/develop.html)\n",
        "*   Provides an estimate via [.predict()](https://scikit-learn.org/stable/developers/develop.html)"
      ],
      "metadata": {
        "id": "sRaxI3ZQ6FOO"
      }
    },
    {
      "cell_type": "code",
      "execution_count": 2,
      "metadata": {
        "colab": {
          "base_uri": "https://localhost:8080/"
        },
        "id": "M_UUekxHnun2",
        "outputId": "26fa2519-e8e6-4bcd-cb44-b11427580096"
      },
      "outputs": [
        {
          "output_type": "stream",
          "name": "stdout",
          "text": [
            "First in-sample predictions: [208500. 181500. 223500. 140000. 250000.]\n",
            "Actual target values for those homes: [208500, 181500, 223500, 140000, 250000]\n"
          ]
        }
      ],
      "source": [
        "# Choose target and features\n",
        "y = home_data.SalePrice\n",
        "feature_columns = ['LotArea',\n",
        "                   'YearBuilt',\n",
        "                   '1stFlrSF',\n",
        "                   '2ndFlrSF',\n",
        "                   'FullBath',\n",
        "                   'BedroomAbvGr',\n",
        "                   'TotRmsAbvGrd']\n",
        "X = home_data[feature_columns]\n",
        "\n",
        "# Specify Model\n",
        "iowa_model = DecisionTreeRegressor()\n",
        "\n",
        "# Fit Model\n",
        "iowa_model.fit(X, y)\n",
        "\n",
        "print(\"First in-sample predictions:\", iowa_model.predict(X.head()))\n",
        "print(\"Actual target values for those homes:\", y.head().tolist())"
      ]
    }
  ]
}