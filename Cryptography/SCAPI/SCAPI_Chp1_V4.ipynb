{
  "nbformat": 4,
  "nbformat_minor": 0,
  "metadata": {
    "colab": {
      "provenance": [],
      "authorship_tag": "ABX9TyNGuo/m2tKPZDiuBS4xPm/A"
    },
    "kernelspec": {
      "name": "python3",
      "display_name": "Python 3"
    },
    "language_info": {
      "name": "python"
    }
  },
  "cells": [
    {
      "cell_type": "markdown",
      "source": [
        "# Serious Cryptography\n",
        "\n",
        "This notebook will work through the Chapter 1 concept of the Vigenere cipher via a script comparison (ChaptGPT, Google Colab AI, Mistral Le Chat)"
      ],
      "metadata": {
        "id": "n8idmd-oUAIA"
      }
    },
    {
      "cell_type": "markdown",
      "source": [
        "Our references:\n",
        "* [ChatGPT](https://chat.openai.com/auth/login)\n",
        "* [Google Colab](https://colab.research.google.com/)\n",
        "* [Google Colab AI](https://blog.google/technology/developers/google-colab-ai-coding-features/)\n",
        "* [Mistral AI Le Chat](https://mistral.ai/)\n",
        "* [Cracking Codes with Python: An Introduction to Building and Breaking Ciphers - Al Sweigart - No Starch Press](https://nostarch.com/crackingcodes)\n",
        "* [Serious Cryptography: A Practical Introduction to Modern Encryption -  Aumasson, Jean-Philippe - No Starch Press](https://nostarch.com/seriouscrypto)\n",
        "* [Python version 3.12.2](https://www.python.org/)"
      ],
      "metadata": {
        "id": "98_fI6bjUK1u"
      }
    },
    {
      "cell_type": "code",
      "source": [
        "# Made by ChatGPT\n",
        "# prompt: Please make a python script for the Vigenere cipher\n",
        "\n",
        "# This script provides functions for both encryption and decryption\n",
        "# using the Vigenère cipher. You can choose to either encrypt or decrypt\n",
        "# a text by providing the necessary inputs.\n",
        "\n",
        "def vigenere_encrypt(plain_text, key):\n",
        "    encrypted_text = \"\"\n",
        "    key_length = len(key)\n",
        "    for i in range(len(plain_text)):\n",
        "        shift = ord(key[i % key_length].upper()) - 65\n",
        "        if plain_text[i].isalpha():\n",
        "            if plain_text[i].islower():\n",
        "                encrypted_text += chr(((ord(plain_text[i]) - 97 + shift) % 26) + 97)\n",
        "            else:\n",
        "                encrypted_text += chr(((ord(plain_text[i]) - 65 + shift) % 26) + 65)\n",
        "        else:\n",
        "            encrypted_text += plain_text[i]\n",
        "    return encrypted_text\n",
        "\n",
        "def vigenere_decrypt(encrypted_text, key):\n",
        "    decrypted_text = \"\"\n",
        "    key_length = len(key)\n",
        "    for i in range(len(encrypted_text)):\n",
        "        shift = ord(key[i % key_length].upper()) - 65\n",
        "        if encrypted_text[i].isalpha():\n",
        "            if encrypted_text[i].islower():\n",
        "                decrypted_text += chr(((ord(encrypted_text[i]) - 97 - shift) % 26) + 97)\n",
        "            else:\n",
        "                decrypted_text += chr(((ord(encrypted_text[i]) - 65 - shift) % 26) + 65)\n",
        "        else:\n",
        "            decrypted_text += encrypted_text[i]\n",
        "    return decrypted_text\n",
        "\n",
        "def main():\n",
        "    choice = input(\"Choose 'E' for encryption or 'D' for decryption: \").upper()\n",
        "    if choice == 'E':\n",
        "        plain_text = input(\"Enter the plain text: \")\n",
        "        key = input(\"Enter the key: \")\n",
        "        encrypted_text = vigenere_encrypt(plain_text, key)\n",
        "        print(\"Encrypted text:\", encrypted_text)\n",
        "    elif choice == 'D':\n",
        "        encrypted_text = input(\"Enter the encrypted text: \")\n",
        "        key = input(\"Enter the key: \")\n",
        "        decrypted_text = vigenere_decrypt(encrypted_text, key)\n",
        "        print(\"Decrypted text:\", decrypted_text)\n",
        "    else:\n",
        "        print(\"Invalid choice. Please choose 'E' or 'D'.\")\n",
        "\n",
        "if __name__ == \"__main__\":\n",
        "    main()\n",
        "\n"
      ],
      "metadata": {
        "colab": {
          "base_uri": "https://localhost:8080/"
        },
        "id": "e8Ldhsz1s3Ua",
        "outputId": "31037fa6-f4d6-4213-afad-742a0204b603"
      },
      "execution_count": 7,
      "outputs": [
        {
          "output_type": "stream",
          "name": "stdout",
          "text": [
            "Choose 'E' for encryption or 'D' for decryption: E\n",
            "Enter the plain text: green eggs and ham\n",
            "Enter the key: python\n",
            "Encrypted text: vpxlb tezz ncb ooz\n"
          ]
        }
      ]
    },
    {
      "cell_type": "code",
      "source": [
        "# Made by ChatGPT\n",
        "# prompt: Please make a python script for the Vigenere cipher\n",
        "\n",
        "# This script provides functions for both encryption and decryption\n",
        "# using the Vigenère cipher. You can choose to either encrypt or decrypt\n",
        "# a text by providing the necessary inputs.\n",
        "\n",
        "# This script is fully commented\n",
        "\n",
        "def vigenere_encrypt(plain_text, key):\n",
        "    encrypted_text = \"\"  # Initialize an empty string to store the encrypted text\n",
        "    key_length = len(key)  # Calculate the length of the key\n",
        "    for i in range(len(plain_text)):\n",
        "        # Calculate the shift amount based on the corresponding character in the key\n",
        "        shift = ord(key[i % key_length].upper()) - 65\n",
        "        if plain_text[i].isalpha():  # Check if the character is an alphabet\n",
        "            if plain_text[i].islower():  # Check if the character is lowercase\n",
        "                # Encrypt the lowercase character based on the shift and append to encrypted_text\n",
        "                encrypted_text += chr(((ord(plain_text[i]) - 97 + shift) % 26) + 97)\n",
        "            else:  # If the character is uppercase\n",
        "                # Encrypt the uppercase character based on the shift and append to encrypted_text\n",
        "                encrypted_text += chr(((ord(plain_text[i]) - 65 + shift) % 26) + 65)\n",
        "        else:  # If the character is not an alphabet\n",
        "            # Append the character directly to encrypted_text without encryption\n",
        "            encrypted_text += plain_text[i]\n",
        "    return encrypted_text  # Return the encrypted text\n",
        "\n",
        "\n",
        "def vigenere_decrypt(encrypted_text, key):\n",
        "    decrypted_text = \"\"  # Initialize an empty string to store the decrypted text\n",
        "    key_length = len(key)  # Calculate the length of the key\n",
        "    for i in range(len(encrypted_text)):\n",
        "        # Calculate the shift amount based on the corresponding character in the key\n",
        "        shift = ord(key[i % key_length].upper()) - 65\n",
        "        if encrypted_text[i].isalpha():  # Check if the character is an alphabet\n",
        "            if encrypted_text[i].islower():  # Check if the character is lowercase\n",
        "                # Decrypt the lowercase character based on the shift and append to decrypted_text\n",
        "                decrypted_text += chr(((ord(encrypted_text[i]) - 97 - shift) % 26) + 97)\n",
        "            else:  # If the character is uppercase\n",
        "                # Decrypt the uppercase character based on the shift and append to decrypted_text\n",
        "                decrypted_text += chr(((ord(encrypted_text[i]) - 65 - shift) % 26) + 65)\n",
        "        else:  # If the character is not an alphabet\n",
        "            # Append the character directly to decrypted_text without decryption\n",
        "            decrypted_text += encrypted_text[i]\n",
        "    return decrypted_text  # Return the decrypted text\n",
        "\n",
        "\n",
        "def main():\n",
        "    choice = input(\"Choose 'E' for encryption or 'D' for decryption: \").upper()\n",
        "    if choice == 'E':\n",
        "        plain_text = input(\"Enter the plain text: \")  # Input the plain text\n",
        "        key = input(\"Enter the key: \")  # Input the key\n",
        "        encrypted_text = vigenere_encrypt(plain_text, key)  # Encrypt the plain text\n",
        "        print(\"Encrypted text:\", encrypted_text)  # Print the encrypted text\n",
        "    elif choice == 'D':\n",
        "        encrypted_text = input(\"Enter the encrypted text: \")  # Input the encrypted text\n",
        "        key = input(\"Enter the key: \")  # Input the key\n",
        "        decrypted_text = vigenere_decrypt(encrypted_text, key)  # Decrypt the encrypted text\n",
        "        print(\"Decrypted text:\", decrypted_text)  # Print the decrypted text\n",
        "    else:\n",
        "        print(\"Invalid choice. Please choose 'E' or 'D'.\")  # Print message for invalid choice\n",
        "\n",
        "\n",
        "if __name__ == \"__main__\":\n",
        "    main()  # Call the main function if the script is run directly\n"
      ],
      "metadata": {
        "colab": {
          "base_uri": "https://localhost:8080/"
        },
        "id": "ICM8dOV87moY",
        "outputId": "681196f8-8db3-4651-9d7a-f428109539bd"
      },
      "execution_count": 14,
      "outputs": [
        {
          "output_type": "stream",
          "name": "stdout",
          "text": [
            "Choose 'E' for encryption or 'D' for decryption: E\n",
            "Enter the plain text: GREEN EGGS AND HAM\n",
            "Enter the key: PYTHON\n",
            "Encrypted text: VPXLB TEZZ NCB OOZ\n"
          ]
        }
      ]
    },
    {
      "cell_type": "markdown",
      "source": [
        "ChatGPT Code Breakout\n",
        "\n",
        "Let's break down how the vigenere_encrypt and vigenere_decrypt functions work:\n",
        "\n",
        "vigenere_encrypt:\n",
        "\n",
        "This function takes two parameters: plain_text (the text to be encrypted) and key (the encryption key).\n",
        "* It initializes an empty string encrypted_text to store the encrypted text.\n",
        "* It calculates the length of the key (key_length).\n",
        "* It iterates through each character in the plain_text:\n",
        "* For each character, it calculates the shift amount based on the corresponding character in the key using modular arithmetic to ensure the key repeats if it's shorter than the plaintext.\n",
        "* If the character is an alphabet (checked using isalpha()), it encrypts it based on its position in the alphabet (using ASCII values), applying the shift determined by the key.\n",
        "* If the character is not an alphabet, it leaves it unchanged and appends it directly to the encrypted_text.\n",
        "* Finally, it returns the encrypted_text.\n",
        "\n",
        "vigenere_decrypt:\n",
        "\n",
        "This function takes two parameters: encrypted_text (the text to be decrypted) and key (the decryption key).\n",
        "* It initializes an empty string decrypted_text to store the decrypted text.\n",
        "* It calculates the length of the key (key_length).\n",
        "* It iterates through each character in the encrypted_text:\n",
        "* For each character, it calculates the shift amount based on the corresponding character in the key using modular arithmetic.\n",
        "* If the character is an alphabet, it decrypts it based on its position in the alphabet, reversing the encryption process by applying the shift determined by the key.\n",
        "* If the character is not an alphabet, it leaves it unchanged and appends it directly to the decrypted_text.\n",
        "* Finally, it returns the decrypted_text."
      ],
      "metadata": {
        "id": "ETRk27PC5g5E"
      }
    },
    {
      "cell_type": "code",
      "source": [
        "# Made by Google Colab AI\n",
        "# prompt: Please make a python script for encrypting a message using the Vigenere cipher\n",
        "\n",
        "def encrypt_vigenere(plaintext, key):\n",
        "  \"\"\"\n",
        "  Encrypts a message using the Vigenere cipher.\n",
        "\n",
        "  Args:\n",
        "    plaintext: The message to encrypt.\n",
        "    key: The encryption key.\n",
        "\n",
        "  Returns:\n",
        "    The encrypted message.\n",
        "  \"\"\"\n",
        "\n",
        "  # Convert the plaintext and key to uppercase and remove any non-alphabetic characters.\n",
        "  plaintext = plaintext.upper().replace(\" \", \"\")\n",
        "  key = key.upper().replace(\" \", \"\")\n",
        "\n",
        "  # Create a list of the alphabet.\n",
        "  alphabet = list(\"ABCDEFGHIJKLMNOPQRSTUVWXYZ\")\n",
        "\n",
        "  # Create a dictionary mapping each letter of the alphabet to its index.\n",
        "  alphabet_dict = {letter: index for index, letter in enumerate(alphabet)}\n",
        "\n",
        "  # Initialize the encrypted message.\n",
        "  encrypted_message = \"\"\n",
        "\n",
        "  # Loop through each character in the plaintext.\n",
        "  for i, char in enumerate(plaintext):\n",
        "    # Get the index of the current character in the alphabet.\n",
        "    char_index = alphabet_dict[char]\n",
        "\n",
        "    # Get the index of the current key character in the alphabet.\n",
        "    key_index = alphabet_dict[key[i % len(key)]]\n",
        "\n",
        "    # Calculate the encrypted character index.\n",
        "    encrypted_char_index = (char_index + key_index) % len(alphabet)\n",
        "\n",
        "    # Get the encrypted character from the alphabet.\n",
        "    encrypted_char = alphabet[encrypted_char_index]\n",
        "\n",
        "    # Add the encrypted character to the encrypted message.\n",
        "    encrypted_message += encrypted_char\n",
        "\n",
        "  # Return the encrypted message.\n",
        "  return encrypted_message\n",
        "\n",
        "\n",
        "# Example usage\n",
        "plaintext = \"green eggs and ham\"\n",
        "key = \"python\"\n",
        "encrypted_message = encrypt_vigenere(plaintext, key)\n",
        "print(encrypted_message)"
      ],
      "metadata": {
        "colab": {
          "base_uri": "https://localhost:8080/"
        },
        "id": "nb-aTRkK2xBj",
        "outputId": "d84965c1-fdaf-4606-d2cd-f641833d1292"
      },
      "execution_count": 13,
      "outputs": [
        {
          "output_type": "stream",
          "name": "stdout",
          "text": [
            "VPXLBRVELHBQWYF\n"
          ]
        }
      ]
    },
    {
      "cell_type": "markdown",
      "source": [
        "Google Colab AI Code Breakout\n",
        "\n",
        "This script defines a function encrypt_vigenere that takes a plaintext message and a key as input and returns the encrypted message using the Vigenere cipher. The function performs the following steps:\n",
        "* Converts the plaintext and key to uppercase and removes any non-alphabetic characters.\n",
        "* Creates a list of the alphabet and a dictionary mapping each letter to its index.\n",
        "* Loops through each character in the plaintext and performs the following:\n",
        " * Gets the index of the current character in the alphabet.\n",
        " * Gets the index of the current key"
      ],
      "metadata": {
        "id": "VNGvdhYt3anA"
      }
    },
    {
      "cell_type": "code",
      "source": [
        "# Made by Mistral AI Le Chat\n",
        "# prompt: please make a python script for the Caesar cipher\n",
        "\n",
        "def vigenere_cipher(text, key, mode):\n",
        "    result = \"\"\n",
        "    key_length = len(key)\n",
        "\n",
        "    # Loop through each character in the text\n",
        "    for i in range(len(text)):\n",
        "        char = text[i]\n",
        "\n",
        "        # If the character is a letter, encrypt/decrypt it\n",
        "        if char.isalpha():\n",
        "            shift = ord(key[i % key_length]) - ord('A')\n",
        "\n",
        "            if mode == \"encrypt\":\n",
        "                result += chr((ord(char.upper()) + shift - ord('A')) % 26 + ord('A'))\n",
        "            elif mode == \"decrypt\":\n",
        "                result += chr((ord(char.upper()) - shift - ord('A')) % 26 + ord('A'))\n",
        "            else:\n",
        "                raise ValueError(\"Invalid mode. Must be 'encrypt' or 'decrypt'.\")\n",
        "        else:\n",
        "            # If the character is not a letter, leave it as is\n",
        "            result += char\n",
        "\n",
        "    return result\n",
        "\n",
        "# Example usage:\n",
        "text = \"green eggs and ham\"\n",
        "key = \"python\"\n",
        "\n",
        "encrypted_text = vigenere_cipher(text, key, \"encrypt\")\n",
        "print(\"Encrypted text:\", encrypted_text)\n",
        "\n",
        "decrypted_text = vigenere_cipher(encrypted_text, key, \"decrypt\")\n",
        "print(\"Decrypted text:\", decrypted_text)\n"
      ],
      "metadata": {
        "colab": {
          "base_uri": "https://localhost:8080/"
        },
        "id": "VGfwT7oX1tgc",
        "outputId": "092c3c3d-ee53-4489-ecea-09fe833de760"
      },
      "execution_count": 11,
      "outputs": [
        {
          "output_type": "stream",
          "name": "stdout",
          "text": [
            "Encrypted text: BVDRH ZKFF TIH UUF\n",
            "Decrypted text: GREEN EGGS AND HAM\n"
          ]
        }
      ]
    },
    {
      "cell_type": "markdown",
      "source": [
        "Mistral AI Le Chat code breakout"
      ],
      "metadata": {
        "id": "L6iP4IHm_787"
      }
    },
    {
      "cell_type": "markdown",
      "source": [
        "The vigenere_cipher function takes three arguments: text, key, and mode. text is the message to be encrypted or decrypted, key is the keyword used for the Vigenere cipher, and mode specifies whether to encrypt or decrypt the message.\n",
        "\n",
        "The function initializes an empty string result to store the encrypted or decrypted message. It then loops through each character in the text string using a for loop with the range function.\n",
        "\n",
        "For each character in the text string, the function checks whether it is an alphabetic character using the isalpha method. If the character is not alphabetic, it is appended to the result string as is and the loop moves on to the next character.\n",
        "\n",
        "If the character is alphabetic, the function calculates the shift value based on the current character of the key string. The shift value is calculated as the ASCII value of the key character minus the ASCII value of 'A'. This shift value determines how many positions to shift the current character in the text string.\n",
        "\n",
        "If the mode is set to \"encrypt\", the function shifts the current character in the text string forwards by the shift value. This is done by adding the shift value to the ASCII value of the character, subtracting the ASCII value of 'A', taking the result modulo 26 (to ensure that the result is within the range of ASCII values for letters), and adding the ASCII value of 'A' back to the result. The resulting character is then appended to the result string.\n",
        "\n",
        "If the mode is set to \"decrypt\", the function shifts the current character in the text string backwards by the shift value. This is done by subtracting the shift value from the ASCII value of the character, subtracting the ASCII value of 'A', taking the result modulo 26 (to ensure that the result is within the range of ASCII values for letters), and adding the ASCII value of 'A' back to the result. The resulting character is then appended to the result string.\n",
        "\n",
        "Once all characters in the text string have been processed, the function returns the result string containing the encrypted or decrypted message.\n",
        "\n",
        "In summary, the vigenere_cipher function works by looping through each character in the text string, calculating a shift value based on the corresponding character in the key string, and shifting the character forwards or backwards by the shift value depending on the mode specified. The resulting encrypted or decrypted message is then returned as a string."
      ],
      "metadata": {
        "id": "UnE5Rz7z885c"
      }
    },
    {
      "cell_type": "markdown",
      "source": [
        "Comparison of the three scripts\n",
        "* All scripts use encryption key: 'python'\n",
        "* All scripts encrypt the message: 'green eggs and ham'\n",
        "* First script (ChatGPT) encryption results: vpxlb tezz ncb ooz\n",
        "* Second script (Google Colab AI) encryption results: VPXLBRVELHBQWYF\n",
        "* Third script (Mistral AI Le Chat) encryption results: BVDRH ZKFF TIH UUF"
      ],
      "metadata": {
        "id": "KRQk6hMneKVn"
      }
    }
  ]
}
