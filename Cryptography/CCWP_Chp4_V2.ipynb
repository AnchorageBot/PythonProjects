{
  "nbformat": 4,
  "nbformat_minor": 0,
  "metadata": {
    "colab": {
      "provenance": [],
      "authorship_tag": "ABX9TyNaU2Zc8CqjtmjuRnAMjX0b"
    },
    "kernelspec": {
      "name": "python3",
      "display_name": "Python 3"
    },
    "language_info": {
      "name": "python"
    }
  },
  "cells": [
    {
      "cell_type": "markdown",
      "source": [
        "# Cracking Codes with Python\n",
        "\n",
        "This notebook will walk through the reverse cipher - this time with more comments"
      ],
      "metadata": {
        "id": "93nrSWqhY3Mo"
      }
    },
    {
      "cell_type": "markdown",
      "source": [
        "Our references are:\n",
        "* [Cracking Codes with Python\n",
        "An Introduction to Building and Breaking Ciphers\n",
        "by Al Sweigart](https://nostarch.com/crackingcodes)\n",
        "* [Al Sweigart - Github](https://github.com/asweigart/)\n",
        "* [Al Sweigart - Website](https://inventwithpython.com/)\n",
        "* [Al Sweigart - YouTube](www.youtube.com/@AutomateTheBoringStuff)\n",
        "* [Python version 3.12.2](https://www.python.org/)"
      ],
      "metadata": {
        "id": "8sBJ_GykZFTg"
      }
    },
    {
      "cell_type": "code",
      "execution_count": 4,
      "metadata": {
        "colab": {
          "base_uri": "https://localhost:8080/"
        },
        "id": "E6xSeoY0Yy6Y",
        "outputId": "00c61ebd-782f-40f9-d293-34f8e462234c"
      },
      "outputs": [
        {
          "output_type": "stream",
          "name": "stdout",
          "text": [
            "i is:  10 ,message[i] is s , translated is:  s\n",
            "i is:  9 ,message[i] is n , translated is:  sn\n",
            "i is:  8 ,message[i] is a , translated is:  sna\n",
            "i is:  7 ,message[i] is d , translated is:  snad\n",
            "i is:  6 ,message[i] is r , translated is:  snadr\n",
            "i is:  5 ,message[i] is o , translated is:  snadro\n",
            "i is:  4 ,message[i] is J , translated is:  snadroJ\n",
            "i is:  3 ,message[i] is   , translated is:  snadroJ \n",
            "i is:  2 ,message[i] is r , translated is:  snadroJ r\n",
            "i is:  1 ,message[i] is i , translated is:  snadroJ ri\n",
            "i is:  0 ,message[i] is A , translated is:  snadroJ riA\n",
            "snadroJ riA\n"
          ]
        }
      ],
      "source": [
        "# Reverse Cipher\n",
        "# Made by Al Sweigart\n",
        "# https://www.nostarch.com/crackingcodes/ (BSD Licensed)\n",
        "\n",
        "message = 'Air Jordans'\n",
        "translated = ''\n",
        "\n",
        "# assignment statement storing a value in a variable named i:\n",
        "i = len(message) - 1\n",
        "\n",
        "# while i is greater than or equal to zero keeps executing the code in the block\n",
        "while i >= 0:\n",
        "  # stores a value and concatenates it with the character at the index i in message - grows a fully encrypted string\n",
        "  translated = translated + message[i]\n",
        "  # shows the magic\n",
        "  print('i is: ', i, ',message[i] is', message[i], ', translated is: ', translated)\n",
        "  # takes the current integer value in i and subtracts 1 from it - decrements the variable\n",
        "  i = i - 1\n",
        "  # shows the magic\n",
        "  #print('i is: ', i, ',message[i] is', message[i], ', translated is: ', translated)\n",
        "\n",
        "# once the while block evaluates to false the script advances to this line\n",
        "print(translated)"
      ]
    }
  ]
}
