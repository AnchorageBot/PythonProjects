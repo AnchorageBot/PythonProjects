{
  "nbformat": 4,
  "nbformat_minor": 0,
  "metadata": {
    "colab": {
      "provenance": [],
      "authorship_tag": "ABX9TyPc4ICL72izk0AoYmVTFOV3"
    },
    "kernelspec": {
      "name": "python3",
      "display_name": "Python 3"
    },
    "language_info": {
      "name": "python"
    }
  },
  "cells": [
    {
      "cell_type": "markdown",
      "source": [
        "# Serious Cryptography\n",
        "\n",
        "This notebook will work through the Chapter 1 concept of the Vigenere cipher via Anthropic AI Claude's comparison and contrast of two scripts; one made by Anthropic AI Claude and one made by Google Colab AI"
      ],
      "metadata": {
        "id": "MPnl0xeZIvlk"
      }
    },
    {
      "cell_type": "markdown",
      "source": [
        "Our references:\n",
        "* [Cracking Codes with Python: An Introduction to Building and Breaking Ciphers - Al Sweigart - No Starch Press](https://nostarch.com/crackingcodes)\n",
        "* [Serious Cryptography: A Practical Introduction to Modern Encryption -  Aumasson, Jean-Philippe - No Starch Press](https://nostarch.com/seriouscrypto)"
      ],
      "metadata": {
        "id": "xZ-kyuTGJBgb"
      }
    },
    {
      "cell_type": "markdown",
      "source": [
        "Our coding tools:\n",
        "* [Google Colab IDE](https://colab.research.google.com/)\n",
        "* [Python version 3.12.2](https://www.python.org/)"
      ],
      "metadata": {
        "id": "sENhhAn1JGCx"
      }
    },
    {
      "cell_type": "markdown",
      "source": [
        "Our AI helpers:\n",
        "* [Anthropic AI Claude](https://www.anthropic.com/claude)\n",
        "* [Google Colab AI](https://blog.google/technology/developers/google-colab-ai-coding-features/)"
      ],
      "metadata": {
        "id": "lFmYmCa5JMy1"
      }
    },
    {
      "cell_type": "markdown",
      "source": [
        "Yes, I can certainly compare and contrast two different Python scripts that implement the Vigenère cipher for encryption and decryption. You can paste both scripts at the same time, and I'll analyze them for you."
      ],
      "metadata": {
        "id": "ycIJ28CdHm7k"
      }
    },
    {
      "cell_type": "markdown",
      "source": [
        "After taking a closer look, I've identified the reason why the two scripts produce different encrypted messages for the same plaintext and key.\n",
        "\n",
        "**Script 1 (Made by Claude):**\n",
        "\n",
        "In this script, the encryption operation is performed as follows:\n",
        "\n",
        "```python\n",
        "new_index = (char_index + key_char_index) % len(alphabet)\n",
        "```\n",
        "\n",
        "This line adds the character index and the key character index, and then takes the modulus with the length of the alphabet (26) to wrap around to the beginning of the alphabet if the sum exceeds 26.\n",
        "\n",
        "**Script 2 (Made by Google Colab AI):**\n",
        "\n",
        "In this script, the encryption operation is performed as follows:\n",
        "\n",
        "```python\n",
        "encrypted_char_index = (ord(char) - ord('A') + ord(key_char) - ord('A')) % 26\n",
        "encrypted_char = chr(encrypted_char_index + ord('A'))\n",
        "```\n",
        "\n",
        "This code first calculates the offsets of the character and key character from 'A' (ord('A') = 65). It then adds these offsets and takes the modulus with 26 to wrap around to the beginning of the alphabet if the sum exceeds 26. Finally, it adds the offset back to 'A' to get the encrypted character.\n",
        "\n",
        "The difference lies in the way the character and key character indices are calculated and combined.\n",
        "\n",
        "**Script 1** treats the alphabet as a list of characters and directly uses the indices of the characters and key characters within that list.\n",
        "\n",
        "**Script 2** calculates the offsets of the characters and key characters from 'A' and performs the encryption operation using these offsets.\n",
        "\n",
        "While both approaches are valid implementations of the Vigenère cipher, they can produce different results due to the way the character and key character indices are handled and combined.\n",
        "\n",
        "To resolve this discrepancy, you could modify either script to follow the same approach for calculating and combining the character and key character indices. For example, you could update Script 1 to use the offset-based approach like Script 2, or update Script 2 to use the list-based approach like Script 1.\n",
        "\n",
        "Once the scripts are using the same approach for index calculation and combination, they should produce the same encrypted message for the same plaintext and key."
      ],
      "metadata": {
        "id": "JUaylJKrHPBH"
      }
    },
    {
      "cell_type": "code",
      "source": [
        "# Made by Anthropic's Claude\n",
        "\"\"\" prompt: Please make a python script for the Vigenere cipher that assumes that the plaintext message and encryption key\n",
        "    consist only of alphabetic characters (case-insensitive), that any non-alphabetic characters are left unchanged, please\n",
        "    comment the code, and also provide a summary of how the script works.\"\"\"\n",
        "\n",
        "# Define the function to encrypt/decrypt the message using the Vigenère cipher\n",
        "def vigenere_cipher(mode, message, key):\n",
        "    # Create a list of all uppercase letters for the alphabet\n",
        "    alphabet = [chr(i) for i in range(ord('A'), ord('Z') + 1)]\n",
        "\n",
        "    # Create an empty list to store the encrypted/decrypted message\n",
        "    result = []\n",
        "\n",
        "    # Iterate over each character in the message\n",
        "    for i in range(len(message)):\n",
        "        # Get the current character from the message\n",
        "        char = message[i].upper()\n",
        "\n",
        "        # Check if the character is alphabetic\n",
        "        if char.isalpha():\n",
        "            # Get the corresponding index of the character in the alphabet\n",
        "            char_index = alphabet.index(char)\n",
        "\n",
        "            # Get the corresponding index of the key character based on the current position\n",
        "            key_index = (i % len(key))\n",
        "            key_char = key[key_index].upper()\n",
        "            key_char_index = alphabet.index(key_char)\n",
        "\n",
        "            # Perform the encryption/decryption operation\n",
        "            if mode == 'encrypt':\n",
        "                new_index = (char_index + key_char_index) % len(alphabet)\n",
        "            else:\n",
        "                new_index = (char_index - key_char_index) % len(alphabet)\n",
        "\n",
        "            # Append the new character to the result list\n",
        "            result.append(alphabet[new_index])\n",
        "        else:\n",
        "            # If the character is not alphabetic, leave it unchanged\n",
        "            result.append(char)\n",
        "\n",
        "    # Join the characters in the result list into a single string\n",
        "    return ''.join(result)\n",
        "\n",
        "# Prompt the user for the mode, message, and key\n",
        "mode = input(\"Enter 'encrypt' or 'decrypt': \").lower()\n",
        "message = input(\"Enter the message: \")\n",
        "key = input(\"Enter the key: \")\n",
        "\n",
        "# Call the vigenere_cipher function with the user input\n",
        "ciphertext = vigenere_cipher(mode, message, key)\n",
        "\n",
        "# Print the result\n",
        "print(f\"The {'encrypted' if mode == 'encrypt' else 'decrypted'} message is: {ciphertext}\")"
      ],
      "metadata": {
        "colab": {
          "base_uri": "https://localhost:8080/"
        },
        "id": "jlZF3-IsKW1V",
        "outputId": "307a1af6-1993-4b7b-d4b0-abd73bfef14e"
      },
      "execution_count": null,
      "outputs": [
        {
          "output_type": "stream",
          "name": "stdout",
          "text": [
            "Enter 'encrypt' or 'decrypt': encrypt\n",
            "Enter the message: green eggs and ham\n",
            "Enter the key: python\n",
            "The encrypted message is: VPXLB TEZZ NCB OOZ\n"
          ]
        }
      ]
    },
    {
      "cell_type": "code",
      "source": [
        "# Made by Google Colab AI\n",
        "\"\"\" prompt: Please make a python script for the Vigenere cipher that assumes that the plaintext message and encryption key\n",
        "    consist only of alphabetic characters (case-insensitive), that any non-alphabetic characters are left unchanged, please\n",
        "    comment the code, and also provide a summary of how the script works.\"\"\"\n",
        "\n",
        "def vigenere_cipher(plaintext, key):\n",
        "    \"\"\"\n",
        "    Encrypts a plaintext message using the Vigenere cipher.\n",
        "\n",
        "    Args:\n",
        "        plaintext: The plaintext message to encrypt.\n",
        "        key: The encryption key.\n",
        "\n",
        "    Returns:\n",
        "        The encrypted message.\n",
        "    \"\"\"\n",
        "\n",
        "    # Convert plaintext and key to uppercase\n",
        "    plaintext = plaintext.upper()\n",
        "    key = key.upper()\n",
        "\n",
        "    # Initialize variables\n",
        "    encrypted_text = \"\"\n",
        "    key_index = 0\n",
        "\n",
        "    # Loop through each character in the plaintext\n",
        "    for char in plaintext:\n",
        "        # If the character is not alphabetic, leave it unchanged\n",
        "        if not char.isalpha():\n",
        "            encrypted_text += char\n",
        "            continue\n",
        "\n",
        "        # Get the corresponding character from the key\n",
        "        key_char = key[key_index]\n",
        "\n",
        "        # Calculate the encrypted character\n",
        "        encrypted_char_index = (ord(char) - ord('A') + ord(key_char) - ord('A')) % 26\n",
        "        encrypted_char = chr(encrypted_char_index + ord('A'))\n",
        "\n",
        "        # Add the encrypted character to the encrypted text\n",
        "        encrypted_text += encrypted_char\n",
        "\n",
        "        # Increment the key index\n",
        "        key_index = (key_index + 1) % len(key)\n",
        "\n",
        "    return encrypted_text\n",
        "\n",
        "# Example usage\n",
        "plaintext = \"green eggs and ham\"\n",
        "key = \"python\"\n",
        "encrypted_text = vigenere_cipher(plaintext, key)\n",
        "print(encrypted_text)"
      ],
      "metadata": {
        "colab": {
          "base_uri": "https://localhost:8080/"
        },
        "id": "Oy2EwMOLKi6N",
        "outputId": "adc4fbdd-a1f3-4869-dbc7-b021bd8e82d4"
      },
      "execution_count": null,
      "outputs": [
        {
          "output_type": "stream",
          "name": "stdout",
          "text": [
            "VPXLB RVEL HBQ WYF\n"
          ]
        }
      ]
    }
  ]
}
