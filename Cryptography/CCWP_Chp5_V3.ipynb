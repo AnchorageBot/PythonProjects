{
  "nbformat": 4,
  "nbformat_minor": 0,
  "metadata": {
    "colab": {
      "provenance": [],
      "authorship_tag": "ABX9TyM+BnCicaF4gECwf/6zNP8p"
    },
    "kernelspec": {
      "name": "python3",
      "display_name": "Python 3"
    },
    "language_info": {
      "name": "python"
    }
  },
  "cells": [
    {
      "cell_type": "markdown",
      "source": [
        "# Cracking Codes with Python\n",
        "\n",
        "This notebook will walk through the Caesar cipher - and with yet more code/script comments"
      ],
      "metadata": {
        "id": "93nrSWqhY3Mo"
      }
    },
    {
      "cell_type": "markdown",
      "source": [
        "Our references are:\n",
        "* [Cracking Codes with Python\n",
        "An Introduction to Building and Breaking Ciphers\n",
        "by Al Sweigart](https://nostarch.com/crackingcodes)\n",
        "* [Al Sweigart - Github](https://github.com/asweigart/)\n",
        "* [Al Sweigart - Website](https://inventwithpython.com/)\n",
        "* [Al Sweigart - YouTube](www.youtube.com/@AutomateTheBoringStuff)\n",
        "* [Python version 3.12.2](https://www.python.org/)\n",
        "* [pyperclip version 1.8.2](https://pypi.org/project/pyperclip/)"
      ],
      "metadata": {
        "id": "8sBJ_GykZFTg"
      }
    },
    {
      "cell_type": "code",
      "execution_count": null,
      "metadata": {
        "colab": {
          "base_uri": "https://localhost:8080/"
        },
        "id": "E6xSeoY0Yy6Y",
        "outputId": "1fc5ba58-9b14-45a5-8d8e-9eafb63baa90"
      },
      "outputs": [
        {
          "output_type": "stream",
          "name": "stdout",
          "text": [
            "Nv5JW25qn16\n"
          ]
        }
      ],
      "source": [
        "# Caesar Cipher\n",
        "# Made by Al Sweigart\n",
        "# https://www.nostarch.com/crackingcodes/ (BSD Licensed)\n",
        "\n",
        "# the string to be encrypted\n",
        "message = 'Air Jordans'\n",
        "\n",
        "# the encryption/decryption key\n",
        "key = 13\n",
        "\n",
        "# set this line to the string 'encrypt' or 'decrypt'\n",
        "mode = 'encrypt'\n",
        "\n",
        "# every possible symbol that can be encrypted\n",
        "SYMBOLS = 'ABCDEFGHIJKLMNOPQRSTUVWXYZabcdefghijklmnopqrstuvwxyz1234567890 !?.'\n",
        "\n",
        "# stores the encrypted/decrypted form of the message\n",
        "translated = ''\n",
        "\n",
        "# if the condition is TRUE the for block runs, if FALSE it does not\n",
        "for symbol in message:\n",
        "\n",
        "  # in evaluates TRUE when the first string is inside the second string\n",
        "  if symbol in SYMBOLS:\n",
        "    symbolIndex = SYMBOLS.find(symbol)\n",
        "\n",
        "    if mode == 'encrypt':\n",
        "      translatedIndex = symbolIndex + key\n",
        "    # the elif block runs when the if condition is FALSE\n",
        "    elif mode == 'decrypt':\n",
        "      translatedIndex = symbolIndex - key\n",
        "\n",
        "    if translatedIndex >= len(SYMBOLS):\n",
        "      translatedIndex = translatedIndex - len(SYMBOLS)\n",
        "    elif translatedIndex < 0:\n",
        "      translatedIndex = translatedIndex + len(SYMBOLS)\n",
        "\n",
        "    translated = translated + SYMBOLS[translatedIndex]\n",
        "\n",
        "  # the else block runs when the for condition is FALSE\n",
        "  else:\n",
        "    translated = translated + symbol\n",
        "\n",
        "# once the for block does it's thing the script advances to this line\n",
        "print(translated)\n"
      ]
    },
    {
      "cell_type": "markdown",
      "source": [
        "Code/script comment breakout\n",
        "* line 5; the string to be encrypted\n",
        "* line 8; the encryption/decryption key\n",
        "* line 11; set this line to the string 'encrypt' or 'decrypt'\n",
        "* line 14; every possible symbol that can be encrypted\n",
        "* line 17; stores the encrypted/decrypted form of the message\n",
        "* line 20; if the condition is TRUE the for block runs, if FALSE it does not\n",
        "* line 23; in evaluates TRUE when the first string is inside the second string\n",
        "* line 29; the elif block runs when the if condition is FALSE\n",
        "* line 40; the else block runs when the for condition is FALSE\n",
        "* line 44; once the for block does it's thing the script advances to this line"
      ],
      "metadata": {
        "id": "qH0tJDJhRS-j"
      }
    }
  ]
}
