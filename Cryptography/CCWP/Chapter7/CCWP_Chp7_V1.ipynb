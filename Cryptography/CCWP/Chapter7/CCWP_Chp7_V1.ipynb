{
  "nbformat": 4,
  "nbformat_minor": 0,
  "metadata": {
    "colab": {
      "provenance": [],
      "authorship_tag": "ABX9TyMj8qXuBARq//+eSLo+gjUb"
    },
    "kernelspec": {
      "name": "python3",
      "display_name": "Python 3"
    },
    "language_info": {
      "name": "python"
    }
  },
  "cells": [
    {
      "cell_type": "markdown",
      "source": [
        "# Cracking Codes with Python\n",
        "\n",
        "This notebook will walk through encrypting a message with the Columnar Transposition Cipher - three scripts with comments"
      ],
      "metadata": {
        "id": "93nrSWqhY3Mo"
      }
    },
    {
      "cell_type": "markdown",
      "source": [
        "Shannon’s maxim: “The enemy knows the system.”"
      ],
      "metadata": {
        "id": "6a1hSGYoeu78"
      }
    },
    {
      "cell_type": "markdown",
      "source": [
        "Our references are:\n",
        "* [Cracking Codes with Python\n",
        "An Introduction to Building and Breaking Ciphers\n",
        "by Al Sweigart](https://nostarch.com/crackingcodes)\n",
        "* [Al Sweigart - Github](https://github.com/asweigart/)\n",
        "* [Al Sweigart - Website](https://inventwithpython.com/)\n",
        "* [Al Sweigart - YouTube](www.youtube.com/@AutomateTheBoringStuff)\n"
      ],
      "metadata": {
        "id": "8sBJ_GykZFTg"
      }
    },
    {
      "cell_type": "markdown",
      "source": [
        "Our coding tools are:\n",
        "* [Google Colab](https://colab.research.google.com/)\n",
        "* [Python version 3.12.2](https://www.python.org/)\n",
        "* [pyperclip version 1.8.2](https://pypi.org/project/pyperclip/)"
      ],
      "metadata": {
        "id": "YGk7m5U91knG"
      }
    },
    {
      "cell_type": "markdown",
      "source": [
        "Our AI helpers:\n",
        "* [Anthropic AI Claude](https://www.anthropic.com/claude)\n",
        "* [Google Colab AI](https://blog.google/technology/developers/google-colab-ai-coding-features/)"
      ],
      "metadata": {
        "id": "a0Wzahkk2F0C"
      }
    },
    {
      "cell_type": "markdown",
      "source": [
        "Al Sweigart's strategy\n",
        "* Count the number of characters in the message and the key\n",
        "* Draw a row of a number of boxes equal to the key; 7 boxes for a key of 7\n",
        "* Start filling in the boxes from left to right, entering one character per box\n",
        "* When you have run out of boxes but still have more characters, add another row of boxes\n",
        "* When you reach the last character, shade in the unused boxes in the last row\n",
        "* Starting from the top left and going down each column, write out the characters.\n",
        "* When you get to the bottom of a column, move to the next column to the right.\n",
        "* Skip any shaded boxes\n",
        "* This process yields the ciphertext"
      ],
      "metadata": {
        "id": "oOC6LpXP_RF_"
      }
    },
    {
      "cell_type": "code",
      "execution_count": null,
      "metadata": {
        "colab": {
          "base_uri": "https://localhost:8080/"
        },
        "id": "E6xSeoY0Yy6Y",
        "outputId": "ddb2a998-ce4a-4871-a56d-e7da4f00777d"
      },
      "outputs": [
        {
          "output_type": "stream",
          "name": "stdout",
          "text": [
            "gg rghesae mna ned|\n"
          ]
        }
      ],
      "source": [
        "# Transposition Cipher\n",
        "# Made by Al Sweigart\n",
        "# https://www.nostarch.com/crackingcodes/ (BSD Licensed)\n",
        "\n",
        "#import pyperclip\n",
        "\n",
        "def main():\n",
        "    myMessage = 'green eggs and ham'\n",
        "    myKey = 7\n",
        "\n",
        "    ciphertext = encryptMessage(myKey, myMessage)\n",
        "\n",
        "    # Print the encrypted string in ciphertext to the screen, with\n",
        "    # a | (called \"pipe\" character) after it in case there are spaces at\n",
        "    # the end of the encrypted message.\n",
        "    print(ciphertext + '|')\n",
        "\n",
        "    # Copy the encrypted string in ciphertext to the clipboard,\n",
        "    # so that you can use it later\n",
        "    #pyperclip.copy(ciphertext)\n",
        "\n",
        "\n",
        "def encryptMessage(key, message):\n",
        "    # Each string in ciphertext represents a column in the grid.\n",
        "    ciphertext = [''] * key\n",
        "\n",
        "    # Loop through each column in ciphertext.\n",
        "    for col in range(key):\n",
        "        pointer = col\n",
        "\n",
        "        # Keep looping until pointer goes past the length of the message.\n",
        "        while pointer < len(message):\n",
        "             # Place the character at pointer in message at the end of the\n",
        "             # current column in the ciphertext list.\n",
        "            ciphertext[col] += message[pointer]\n",
        "\n",
        "            # move pointer over\n",
        "            pointer += key\n",
        "\n",
        "    # Convert the ciphertext list into a single string value and return it.\n",
        "    return ''.join(ciphertext)\n",
        "\n",
        "\n",
        "# If transpositionEncrypt.py is run (instead of imported as a module) call\n",
        "# the main() function.\n",
        "if __name__ == '__main__':\n",
        "    main()"
      ]
    },
    {
      "source": [
        "# Transposition Cipher\n",
        "# Made by Google Colab AI\n",
        "\n",
        "def encrypt(text, key):\n",
        "  \"\"\"\n",
        "  Encrypts a given text using a transposition cipher with the provided key.\n",
        "\n",
        "  Args:\n",
        "    text: The plaintext to encrypt.\n",
        "    key: The key to use for encryption.\n",
        "\n",
        "  Returns:\n",
        "    The encrypted ciphertext.\n",
        "  \"\"\"\n",
        "\n",
        "  # Create a grid with dimensions determined by the key.\n",
        "  rows = len(text) // key\n",
        "  cols = key\n",
        "  grid = [['' for _ in range(cols)] for _ in range(rows)]\n",
        "\n",
        "  # Fill the grid with the plaintext characters.\n",
        "  index = 0\n",
        "  for row in range(rows):\n",
        "    for col in range(cols):\n",
        "      if index < len(text):\n",
        "        grid[row][col] = text[index]\n",
        "        index += 1\n",
        "\n",
        "  # Transpose the grid based on the key.\n",
        "  transposed_grid = [['' for _ in range(rows)] for _ in range(cols)]\n",
        "  for col in range(cols):\n",
        "    for row in range(rows):\n",
        "      transposed_grid[col][row] = grid[row][col]\n",
        "\n",
        "  # Concatenate the characters in the transposed grid to form the ciphertext.\n",
        "  ciphertext = ''.join([''.join(row) for row in transposed_grid])\n",
        "\n",
        "  return ciphertext\n",
        "\n",
        "\n",
        "def decrypt(ciphertext, key):\n",
        "  \"\"\"\n",
        "  Decrypts a given ciphertext using a transposition cipher with the provided key.\n",
        "\n",
        "  Args:\n",
        "    ciphertext: The ciphertext to decrypt.\n",
        "    key: The key to use for decryption.\n",
        "\n",
        "  Returns:\n",
        "    The decrypted plaintext.\n",
        "  \"\"\"\n",
        "\n",
        "  # Calculate the number of rows and columns in the grid.\n",
        "  rows = len(ciphertext) // key\n",
        "  cols = key\n",
        "\n",
        "  # Create a grid and fill it with the ciphertext characters.\n",
        "  grid = [['' for _ in range(cols)] for _ in range(rows)]\n",
        "  index = 0\n",
        "  for row in range(0, len(ciphertext), cols):\n",
        "    for col in range(cols):\n",
        "      if index < len(ciphertext):\n",
        "        grid[row // cols][col] = ciphertext[index]\n",
        "        index += 1\n",
        "\n",
        "  # Transpose the grid based on the key.\n",
        "  transposed_grid = [['' for _ in range(rows)] for _ in range(cols)]\n",
        "  for col in range(cols):\n",
        "    for row in range(rows):\n",
        "      transposed_grid[col][row] = grid[row][col]\n",
        "\n",
        "  # Concatenate the characters in the transposed grid to form the plaintext.\n",
        "  plaintext = ''.join([''.join(row) for row in transposed_grid])\n",
        "\n",
        "  return plaintext"
      ],
      "cell_type": "code",
      "metadata": {
        "id": "0ur9vgUF7jFz"
      },
      "execution_count": null,
      "outputs": []
    },
    {
      "source": [
        "def main():\n",
        "  \"\"\"\n",
        "  This function prompts the user to select encryption or decryption,\n",
        "  provide text or cipher text, and provide a key. It then performs the\n",
        "  appropriate operation and prints the result.\n",
        "  \"\"\"\n",
        "\n",
        "  while True:\n",
        "    # Get user input for encryption or decryption.\n",
        "    mode = input(\"Select encryption (e) or decryption (d): \").lower()\n",
        "    if mode not in (\"e\", \"d\"):\n",
        "      print(\"Invalid selection. Please enter 'e' or 'd'.\")\n",
        "      continue\n",
        "\n",
        "    # Get user input for text or cipher text.\n",
        "    if mode == \"e\":\n",
        "      text = input(\"Enter the plaintext to encrypt: \")\n",
        "    else:\n",
        "      ciphertext = input(\"Enter the ciphertext to decrypt: \")\n",
        "\n",
        "    # Get user input for key.\n",
        "    key = int(input(\"Enter the key: \"))\n",
        "\n",
        "    # Perform encryption or decryption and print the result.\n",
        "    if mode == \"e\":\n",
        "      encrypted_text = encrypt(text, key)\n",
        "      print(\"Encrypted text:\", encrypted_text)\n",
        "    else:\n",
        "      decrypted_text = decrypt(ciphertext, key)\n",
        "      print(\"Decrypted text:\", decrypted_text)\n",
        "\n",
        "    # Ask user if they want to continue.\n",
        "    continue_operation = input(\"Do you want to continue? (y/n): \").lower()\n",
        "    if continue_operation != \"y\":\n",
        "      break\n",
        "\n",
        "\n",
        "if __name__ == \"__main__\":\n",
        "  main()"
      ],
      "cell_type": "code",
      "metadata": {
        "colab": {
          "base_uri": "https://localhost:8080/"
        },
        "id": "8Q3erB_D9FMM",
        "outputId": "548b8d09-0d1e-4089-918c-5b299fb722d9"
      },
      "execution_count": null,
      "outputs": [
        {
          "name": "stdout",
          "output_type": "stream",
          "text": [
            "Select encryption (e) or decryption (d): e\n",
            "Enter the plaintext to encrypt: green eggs and ham\n",
            "Enter the key: 7\n",
            "Encrypted text: ggrgese na ned\n",
            "Do you want to continue? (y/n): n\n"
          ]
        }
      ]
    },
    {
      "cell_type": "code",
      "source": [
        "# Transposition Cipher\n",
        "# Made by Anthropic AI Claude\n",
        "\n",
        "def encrypt(plaintext, key):\n",
        "    # Remove spaces and convert plaintext to uppercase\n",
        "    plaintext = plaintext.replace(\" \", \"\").upper()\n",
        "\n",
        "    # Calculate the number of rows based on the key length\n",
        "    num_rows = (len(plaintext) + key - 1) // key\n",
        "\n",
        "    # Create a matrix to store the plaintext characters\n",
        "    matrix = [[\"\" for _ in range(key)] for _ in range(num_rows)]\n",
        "\n",
        "    # Fill the matrix with plaintext characters\n",
        "    for i in range(len(plaintext)):\n",
        "        row = i // key\n",
        "        col = i % key\n",
        "        matrix[row][col] = plaintext[i]\n",
        "\n",
        "    # Read the matrix column-wise to generate the ciphertext\n",
        "    ciphertext = \"\".join(char for col in range(key) for row in range(num_rows) if matrix[row][col])\n",
        "    return ciphertext\n",
        "\n",
        "def decrypt(ciphertext, key):\n",
        "    # Remove spaces and convert ciphertext to uppercase\n",
        "    ciphertext = ciphertext.replace(\" \", \"\").upper()\n",
        "\n",
        "    # Calculate the number of rows based on the key length\n",
        "    num_rows = (len(ciphertext) + key - 1) // key\n",
        "\n",
        "    # Create a matrix to store the ciphertext characters\n",
        "    matrix = [[\"\" for _ in range(key)] for _ in range(num_rows)]\n",
        "\n",
        "    # Fill the matrix with ciphertext characters column-wise\n",
        "    index = 0\n",
        "    for col in range(key):\n",
        "        for row in range(num_rows):\n",
        "            if index < len(ciphertext):\n",
        "                matrix[row][col] = ciphertext[index]\n",
        "                index += 1\n",
        "\n",
        "    # Read the matrix row-wise to generate the plaintext\n",
        "    plaintext = \"\".join(char for row in range(num_rows) for col in range(key) if matrix[row][col])\n",
        "    return plaintext\n",
        "\n",
        "# Main program\n",
        "while True:\n",
        "    # Ask the user for the desired operation\n",
        "    operation = input(\"Enter 'E' to encrypt, 'D' to decrypt, or 'Q' to quit: \").upper()\n",
        "\n",
        "    if operation == 'E':\n",
        "        # Encryption\n",
        "        plaintext = input(\"Enter the plaintext: \")\n",
        "        key = int(input(\"Enter the key (a positive integer): \"))\n",
        "        ciphertext = encrypt(plaintext, key)\n",
        "        print(\"Ciphertext:\", ciphertext)\n",
        "    elif operation == 'D':\n",
        "        # Decryption\n",
        "        ciphertext = input(\"Enter the ciphertext: \")\n",
        "        key = int(input(\"Enter the key (a positive integer): \"))\n",
        "        plaintext = decrypt(ciphertext, key)\n",
        "        print(\"Plaintext:\", plaintext)\n",
        "    elif operation == 'Q':\n",
        "        # Quit the program\n",
        "        print(\"Goodbye!\")\n",
        "        break\n",
        "    else:\n",
        "        print(\"Invalid operation. Please try again.\")"
      ],
      "metadata": {
        "colab": {
          "base_uri": "https://localhost:8080/",
          "height": 401
        },
        "id": "tlKvFPT5EKOg",
        "outputId": "f9cbefcd-5296-49e3-ef69-4da8c8ff0e50"
      },
      "execution_count": null,
      "outputs": [
        {
          "name": "stdout",
          "output_type": "stream",
          "text": [
            "Enter 'E' to encrypt, 'D' to decrypt, or 'Q' to quit: E\n",
            "Enter the plaintext: green eggs and ham\n",
            "Enter the key (a positive integer): 7\n"
          ]
        },
        {
          "output_type": "error",
          "ename": "NameError",
          "evalue": "name 'char' is not defined",
          "traceback": [
            "\u001b[0;31m---------------------------------------------------------------------------\u001b[0m",
            "\u001b[0;31mNameError\u001b[0m                                 Traceback (most recent call last)",
            "\u001b[0;32m<ipython-input-17-42e459c1e37b>\u001b[0m in \u001b[0;36m<cell line: 44>\u001b[0;34m()\u001b[0m\n\u001b[1;32m     50\u001b[0m         \u001b[0mplaintext\u001b[0m \u001b[0;34m=\u001b[0m \u001b[0minput\u001b[0m\u001b[0;34m(\u001b[0m\u001b[0;34m\"Enter the plaintext: \"\u001b[0m\u001b[0;34m)\u001b[0m\u001b[0;34m\u001b[0m\u001b[0;34m\u001b[0m\u001b[0m\n\u001b[1;32m     51\u001b[0m         \u001b[0mkey\u001b[0m \u001b[0;34m=\u001b[0m \u001b[0mint\u001b[0m\u001b[0;34m(\u001b[0m\u001b[0minput\u001b[0m\u001b[0;34m(\u001b[0m\u001b[0;34m\"Enter the key (a positive integer): \"\u001b[0m\u001b[0;34m)\u001b[0m\u001b[0;34m)\u001b[0m\u001b[0;34m\u001b[0m\u001b[0;34m\u001b[0m\u001b[0m\n\u001b[0;32m---> 52\u001b[0;31m         \u001b[0mciphertext\u001b[0m \u001b[0;34m=\u001b[0m \u001b[0mencrypt\u001b[0m\u001b[0;34m(\u001b[0m\u001b[0mplaintext\u001b[0m\u001b[0;34m,\u001b[0m \u001b[0mkey\u001b[0m\u001b[0;34m)\u001b[0m\u001b[0;34m\u001b[0m\u001b[0;34m\u001b[0m\u001b[0m\n\u001b[0m\u001b[1;32m     53\u001b[0m         \u001b[0mprint\u001b[0m\u001b[0;34m(\u001b[0m\u001b[0;34m\"Ciphertext:\"\u001b[0m\u001b[0;34m,\u001b[0m \u001b[0mciphertext\u001b[0m\u001b[0;34m)\u001b[0m\u001b[0;34m\u001b[0m\u001b[0;34m\u001b[0m\u001b[0m\n\u001b[1;32m     54\u001b[0m     \u001b[0;32melif\u001b[0m \u001b[0moperation\u001b[0m \u001b[0;34m==\u001b[0m \u001b[0;34m'D'\u001b[0m\u001b[0;34m:\u001b[0m\u001b[0;34m\u001b[0m\u001b[0;34m\u001b[0m\u001b[0m\n",
            "\u001b[0;32m<ipython-input-17-42e459c1e37b>\u001b[0m in \u001b[0;36mencrypt\u001b[0;34m(plaintext, key)\u001b[0m\n\u001b[1;32m     16\u001b[0m \u001b[0;34m\u001b[0m\u001b[0m\n\u001b[1;32m     17\u001b[0m     \u001b[0;31m# Read the matrix column-wise to generate the ciphertext\u001b[0m\u001b[0;34m\u001b[0m\u001b[0;34m\u001b[0m\u001b[0m\n\u001b[0;32m---> 18\u001b[0;31m     \u001b[0mciphertext\u001b[0m \u001b[0;34m=\u001b[0m \u001b[0;34m\"\"\u001b[0m\u001b[0;34m.\u001b[0m\u001b[0mjoin\u001b[0m\u001b[0;34m(\u001b[0m\u001b[0mchar\u001b[0m \u001b[0;32mfor\u001b[0m \u001b[0mcol\u001b[0m \u001b[0;32min\u001b[0m \u001b[0mrange\u001b[0m\u001b[0;34m(\u001b[0m\u001b[0mkey\u001b[0m\u001b[0;34m)\u001b[0m \u001b[0;32mfor\u001b[0m \u001b[0mrow\u001b[0m \u001b[0;32min\u001b[0m \u001b[0mrange\u001b[0m\u001b[0;34m(\u001b[0m\u001b[0mnum_rows\u001b[0m\u001b[0;34m)\u001b[0m \u001b[0;32mif\u001b[0m \u001b[0mmatrix\u001b[0m\u001b[0;34m[\u001b[0m\u001b[0mrow\u001b[0m\u001b[0;34m]\u001b[0m\u001b[0;34m[\u001b[0m\u001b[0mcol\u001b[0m\u001b[0;34m]\u001b[0m\u001b[0;34m)\u001b[0m\u001b[0;34m\u001b[0m\u001b[0;34m\u001b[0m\u001b[0m\n\u001b[0m\u001b[1;32m     19\u001b[0m     \u001b[0;32mreturn\u001b[0m \u001b[0mciphertext\u001b[0m\u001b[0;34m\u001b[0m\u001b[0;34m\u001b[0m\u001b[0m\n\u001b[1;32m     20\u001b[0m \u001b[0;34m\u001b[0m\u001b[0m\n",
            "\u001b[0;32m<ipython-input-17-42e459c1e37b>\u001b[0m in \u001b[0;36m<genexpr>\u001b[0;34m(.0)\u001b[0m\n\u001b[1;32m     16\u001b[0m \u001b[0;34m\u001b[0m\u001b[0m\n\u001b[1;32m     17\u001b[0m     \u001b[0;31m# Read the matrix column-wise to generate the ciphertext\u001b[0m\u001b[0;34m\u001b[0m\u001b[0;34m\u001b[0m\u001b[0m\n\u001b[0;32m---> 18\u001b[0;31m     \u001b[0mciphertext\u001b[0m \u001b[0;34m=\u001b[0m \u001b[0;34m\"\"\u001b[0m\u001b[0;34m.\u001b[0m\u001b[0mjoin\u001b[0m\u001b[0;34m(\u001b[0m\u001b[0mchar\u001b[0m \u001b[0;32mfor\u001b[0m \u001b[0mcol\u001b[0m \u001b[0;32min\u001b[0m \u001b[0mrange\u001b[0m\u001b[0;34m(\u001b[0m\u001b[0mkey\u001b[0m\u001b[0;34m)\u001b[0m \u001b[0;32mfor\u001b[0m \u001b[0mrow\u001b[0m \u001b[0;32min\u001b[0m \u001b[0mrange\u001b[0m\u001b[0;34m(\u001b[0m\u001b[0mnum_rows\u001b[0m\u001b[0;34m)\u001b[0m \u001b[0;32mif\u001b[0m \u001b[0mmatrix\u001b[0m\u001b[0;34m[\u001b[0m\u001b[0mrow\u001b[0m\u001b[0;34m]\u001b[0m\u001b[0;34m[\u001b[0m\u001b[0mcol\u001b[0m\u001b[0;34m]\u001b[0m\u001b[0;34m)\u001b[0m\u001b[0;34m\u001b[0m\u001b[0;34m\u001b[0m\u001b[0m\n\u001b[0m\u001b[1;32m     19\u001b[0m     \u001b[0;32mreturn\u001b[0m \u001b[0mciphertext\u001b[0m\u001b[0;34m\u001b[0m\u001b[0;34m\u001b[0m\u001b[0m\n\u001b[1;32m     20\u001b[0m \u001b[0;34m\u001b[0m\u001b[0m\n",
            "\u001b[0;31mNameError\u001b[0m: name 'char' is not defined"
          ]
        }
      ]
    },
    {
      "cell_type": "code",
      "source": [
        "# Transposition Cipher\n",
        "# Made/refactored by Anthropic AI Claude\n",
        "\n",
        "def encrypt(plaintext, key):\n",
        "    # Remove spaces and convert plaintext to uppercase\n",
        "    plaintext = plaintext.replace(\" \", \"\").upper()\n",
        "\n",
        "    # Calculate the number of rows based on the key length\n",
        "    num_rows = (len(plaintext) + key - 1) // key\n",
        "\n",
        "    # Create a matrix to store the plaintext characters\n",
        "    matrix = [[\"\" for _ in range(key)] for _ in range(num_rows)]\n",
        "\n",
        "    # Fill the matrix with plaintext characters\n",
        "    for i in range(len(plaintext)):\n",
        "        row = i // key\n",
        "        col = i % key\n",
        "        matrix[row][col] = plaintext[i]\n",
        "\n",
        "    # Read the matrix column-wise to generate the ciphertext\n",
        "    ciphertext = \"\".join(matrix[row][col] for col in range(key) for row in range(num_rows) if matrix[row][col])\n",
        "    return ciphertext\n",
        "\n",
        "def decrypt(ciphertext, key):\n",
        "    # Remove spaces and convert ciphertext to uppercase\n",
        "    ciphertext = ciphertext.replace(\" \", \"\").upper()\n",
        "\n",
        "    # Calculate the number of rows based on the key length\n",
        "    num_rows = (len(ciphertext) + key - 1) // key\n",
        "\n",
        "    # Create a matrix to store the ciphertext characters\n",
        "    matrix = [[\"\" for _ in range(key)] for _ in range(num_rows)]\n",
        "\n",
        "    # Fill the matrix with ciphertext characters column-wise\n",
        "    index = 0\n",
        "    for col in range(key):\n",
        "        for row in range(num_rows):\n",
        "            if index < len(ciphertext):\n",
        "                matrix[row][col] = ciphertext[index]\n",
        "                index += 1\n",
        "\n",
        "    # Read the matrix row-wise to generate the plaintext\n",
        "    plaintext = \"\".join(matrix[row][col] for row in range(num_rows) for col in range(key) if matrix[row][col])\n",
        "    return plaintext\n",
        "\n",
        "# Main program\n",
        "while True:\n",
        "    # Ask the user for the desired operation\n",
        "    operation = input(\"Enter 'E' to encrypt, 'D' to decrypt, or 'Q' to quit: \").upper()\n",
        "\n",
        "    if operation == 'E':\n",
        "        # Encryption\n",
        "        plaintext = input(\"Enter the plaintext: \")\n",
        "        key = int(input(\"Enter the key (a positive integer): \"))\n",
        "        ciphertext = encrypt(plaintext, key)\n",
        "        print(\"Ciphertext:\", ciphertext)\n",
        "    elif operation == 'D':\n",
        "        # Decryption\n",
        "        ciphertext = input(\"Enter the ciphertext: \")\n",
        "        key = int(input(\"Enter the key (a positive integer): \"))\n",
        "        plaintext = decrypt(ciphertext, key)\n",
        "        print(\"Plaintext:\", plaintext)\n",
        "    elif operation == 'Q':\n",
        "        # Quit the program\n",
        "        print(\"Goodbye!\")\n",
        "        break\n",
        "    else:\n",
        "        print(\"Invalid operation. Please try again.\")"
      ],
      "metadata": {
        "colab": {
          "base_uri": "https://localhost:8080/"
        },
        "id": "l_9AuYDMFeKB",
        "outputId": "87a6b1f0-6225-4d7b-b58a-c6ead699251b"
      },
      "execution_count": null,
      "outputs": [
        {
          "output_type": "stream",
          "name": "stdout",
          "text": [
            "Enter 'E' to encrypt, 'D' to decrypt, or 'Q' to quit: E\n",
            "Enter the plaintext: green eggs and ham\n",
            "Enter the key (a positive integer): 7\n",
            "Ciphertext: GGMRSEAENNDEHGA\n",
            "Enter 'E' to encrypt, 'D' to decrypt, or 'Q' to quit: Q\n",
            "Goodbye!\n"
          ]
        }
      ]
    },
    {
      "cell_type": "markdown",
      "source": [
        "Excellent!\n",
        "\n",
        "It looks like the script is now working as expected. The plaintext \"green eggs and ham\" is successfully encrypted using the key 7, resulting in the ciphertext \"GGMRSEAENNDEHGA\".\n",
        "\n",
        "To further explain the encryption process:\n",
        "\n",
        "1. The plaintext is first converted to uppercase and spaces are removed, resulting in \"GREENEGGSANDHAM\".\n",
        "\n",
        "2. With a key of 7, the plaintext is arranged in a matrix like this:\n",
        "\n",
        "   G R E E N E G\n",
        "   G S A N D H A\n",
        "   M\n",
        "\n",
        "3. The matrix is then read column-wise to generate the ciphertext:\n",
        "   \n",
        "   * Column 1: GGM\n",
        "   * Column 2: RSE\n",
        "   * Column 3: AEN\n",
        "   * Column 4: END\n",
        "   * Column 5: EH\n",
        "   * Column 6: GA\n",
        "   * Column 7: (empty)\n",
        "\n",
        "   The resulting ciphertext is \"GGMRSEAENNDEHGA\".\n",
        "\n",
        "When you chose to quit the program by entering 'Q', it printed the goodbye message and exited gracefully.\n"
      ],
      "metadata": {
        "id": "eOwafdoBGBQn"
      }
    }
  ]
}
