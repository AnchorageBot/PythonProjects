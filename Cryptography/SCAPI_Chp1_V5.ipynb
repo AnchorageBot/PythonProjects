{
  "nbformat": 4,
  "nbformat_minor": 0,
  "metadata": {
    "colab": {
      "provenance": [],
      "authorship_tag": "ABX9TyMmHvXnDTODW4vclSEJ3ifP"
    },
    "kernelspec": {
      "name": "python3",
      "display_name": "Python 3"
    },
    "language_info": {
      "name": "python"
    }
  },
  "cells": [
    {
      "cell_type": "markdown",
      "source": [
        "# Serious Cryptography\n",
        "\n",
        "This notebook will work through the Chapter 1 concept of the Vigenere cipher via a script comparison (Anthropic AI Claude, ChatGPT AI, Google Colab AI, Google AI Gemini, and Mistral AI Le Chat)"
      ],
      "metadata": {
        "id": "n8idmd-oUAIA"
      }
    },
    {
      "cell_type": "markdown",
      "source": [
        "Our references:\n",
        "* [Cracking Codes with Python: An Introduction to Building and Breaking Ciphers - Al Sweigart - No Starch Press](https://nostarch.com/crackingcodes)\n",
        "* [Serious Cryptography: A Practical Introduction to Modern Encryption -  Aumasson, Jean-Philippe - No Starch Press](https://nostarch.com/seriouscrypto)\n"
      ],
      "metadata": {
        "id": "98_fI6bjUK1u"
      }
    },
    {
      "cell_type": "markdown",
      "source": [
        "Our coding tools:\n",
        "* [Google Colab IDE](https://colab.research.google.com/)\n",
        "* [Python version 3.12.2](https://www.python.org/)"
      ],
      "metadata": {
        "id": "Y0mxbaz1fdVz"
      }
    },
    {
      "cell_type": "markdown",
      "source": [
        "Our AI helpers:\n",
        "* [Anthropic AI Claude](https://www.anthropic.com/claude)\n",
        "* [ChatGPT AI](https://chat.openai.com/auth/login)\n",
        "* [Google Colab AI](https://blog.google/technology/developers/google-colab-ai-coding-features/)\n",
        "* [Google AI Gemini](https://gemini.google.com/app)\n",
        "* [Mistral AI Le Chat](https://mistral.ai/)"
      ],
      "metadata": {
        "id": "6GWLoWPgcxLX"
      }
    },
    {
      "cell_type": "markdown",
      "source": [
        "Prompt used with each AI:\n",
        "* Please make a python script for the Vigenere cipher that assumes that the plaintext message and encryption key consist only of alphabetic characters (case-insensitive), that any non-alphabetic characters are left unchanged, please comment the code, and also provide a summary of how the script works."
      ],
      "metadata": {
        "id": "807AAlrAgjF2"
      }
    },
    {
      "cell_type": "markdown",
      "source": [
        "\n",
        "Comparison of the five scripts\n",
        "* All scripts use encryption key: 'python'\n",
        "* All scripts encrypt the message: 'green eggs and ham'\n",
        "* First script (Anthropic AI Claude) encryption results: VPXLB TEZZ NCB OOZ\n",
        "* Second script (ChatGPT AI) encryption results: vpxlb tezz ncb ooz\n",
        "* Third script (Google Colab AI) encryption results: VPXLB RVEL HBQ WYF\n",
        "* Fourth script (Google AI Gemini) encryption results: VPXLBRVELHBQWYF\n",
        "* Fifth script (Mistral AI Le Chat) encryption results: VPXLB TEZZ NCB OOZ"
      ],
      "metadata": {
        "id": "KRQk6hMneKVn"
      }
    },
    {
      "cell_type": "code",
      "source": [
        "# Made by Anthropic's Claude\n",
        "\"\"\" prompt: Please make a python script for the Vigenere cipher that assumes that the plaintext message and encryption key\n",
        "    consist only of alphabetic characters (case-insensitive), that any non-alphabetic characters are left unchanged, please\n",
        "    comment the code, and also provide a summary of how the script works.\"\"\"\n",
        "\n",
        "# Define the function to encrypt/decrypt the message using the Vigenère cipher\n",
        "def vigenere_cipher(mode, message, key):\n",
        "    # Create a list of all uppercase letters for the alphabet\n",
        "    alphabet = [chr(i) for i in range(ord('A'), ord('Z') + 1)]\n",
        "\n",
        "    # Create an empty list to store the encrypted/decrypted message\n",
        "    result = []\n",
        "\n",
        "    # Iterate over each character in the message\n",
        "    for i in range(len(message)):\n",
        "        # Get the current character from the message\n",
        "        char = message[i].upper()\n",
        "\n",
        "        # Check if the character is alphabetic\n",
        "        if char.isalpha():\n",
        "            # Get the corresponding index of the character in the alphabet\n",
        "            char_index = alphabet.index(char)\n",
        "\n",
        "            # Get the corresponding index of the key character based on the current position\n",
        "            key_index = (i % len(key))\n",
        "            key_char = key[key_index].upper()\n",
        "            key_char_index = alphabet.index(key_char)\n",
        "\n",
        "            # Perform the encryption/decryption operation\n",
        "            if mode == 'encrypt':\n",
        "                new_index = (char_index + key_char_index) % len(alphabet)\n",
        "            else:\n",
        "                new_index = (char_index - key_char_index) % len(alphabet)\n",
        "\n",
        "            # Append the new character to the result list\n",
        "            result.append(alphabet[new_index])\n",
        "        else:\n",
        "            # If the character is not alphabetic, leave it unchanged\n",
        "            result.append(char)\n",
        "\n",
        "    # Join the characters in the result list into a single string\n",
        "    return ''.join(result)\n",
        "\n",
        "# Prompt the user for the mode, message, and key\n",
        "mode = input(\"Enter 'encrypt' or 'decrypt': \").lower()\n",
        "message = input(\"Enter the message: \")\n",
        "key = input(\"Enter the key: \")\n",
        "\n",
        "# Call the vigenere_cipher function with the user input\n",
        "ciphertext = vigenere_cipher(mode, message, key)\n",
        "\n",
        "# Print the result\n",
        "print(f\"The {'encrypted' if mode == 'encrypt' else 'decrypted'} message is: {ciphertext}\")"
      ],
      "metadata": {
        "colab": {
          "base_uri": "https://localhost:8080/"
        },
        "id": "CAOjZ49Oq3OZ",
        "outputId": "ec31bdca-c876-49d7-e623-ceb4a160281f"
      },
      "execution_count": null,
      "outputs": [
        {
          "output_type": "stream",
          "name": "stdout",
          "text": [
            "Enter 'encrypt' or 'decrypt': encrypt\n",
            "Enter the message: green eggs and ham\n",
            "Enter the key: python\n",
            "The encrypted message is: VPXLB TEZZ NCB OOZ\n"
          ]
        }
      ]
    },
    {
      "cell_type": "markdown",
      "source": [
        "Anthropic's summary:\n",
        "* The vigenere_cipher function takes three arguments: mode (either 'encrypt' or 'decrypt'), message (the plaintext or ciphertext), and key (the encryption/decryption key).\n",
        "* The function creates a list alphabet containing all uppercase letters in the English alphabet.\n",
        "* An empty list result is created to store the encrypted/decrypted message.\n",
        "* The function iterates over each character in the message.\n",
        "* For each alphabetic character, it calculates the corresponding index in the alphabet list for both the character and the key character at the current position.\n",
        "* If the mode is 'encrypt', the new index is calculated by adding the character index and key character index, and taking the modulus with the length of the alphabet.\n",
        "* If the mode is 'decrypt', the new index is calculated by subtracting the key character index from the character index, and taking the modulus with the length of the alphabet.\n",
        "* The character at the new index in the alphabet list is appended to the result list.\n",
        "* For non-alphabetic characters, they are left unchanged and added to the result list.\n",
        "* After iterating through all characters, the characters in the result list are joined into a single string and returned.\n",
        "* The user is prompted to enter the mode ('encrypt' or 'decrypt'), the message, and the key.\n",
        "* The vigenere_cipher function is called with the user input, and the result is printed.\n",
        "\n",
        "This script ensures that only alphabetic characters are encrypted/decrypted, and any non-alphabetic characters are left unchanged. The Vigenère cipher uses a repeating keyword to encrypt/decrypt the message, with each character being shifted based on the corresponding character in the key."
      ],
      "metadata": {
        "id": "x32lBhL6sVXU"
      }
    },
    {
      "cell_type": "code",
      "source": [
        "# Made by ChatGPT\n",
        "\"\"\" prompt: Please make a python script for the Vigenere cipher that assumes that the plaintext message and encryption key\n",
        "    consist only of alphabetic characters (case-insensitive), that any non-alphabetic characters are left unchanged, please\n",
        "    comment the code, and also provide a summary of how the script works.\"\"\"\n",
        "\n",
        "# Here's a Python script for the Vigenere cipher:\n",
        "\n",
        "def vigenere_encrypt(plaintext, key):\n",
        "    \"\"\"\n",
        "    Encrypts plaintext using the Vigenere cipher with the given key.\n",
        "\n",
        "    Args:\n",
        "    plaintext (str): The plaintext message.\n",
        "    key (str): The encryption key.\n",
        "\n",
        "    Returns:\n",
        "    str: The encrypted message.\n",
        "    \"\"\"\n",
        "    encrypted_text = ''\n",
        "    key = key.upper()  # Convert key to uppercase for consistency\n",
        "\n",
        "    # Iterate through each character in the plaintext\n",
        "    for i in range(len(plaintext)):\n",
        "        char = plaintext[i]\n",
        "\n",
        "        # Encrypt alphabetic characters only\n",
        "        if char.isalpha():\n",
        "            # Determine shift value for current character\n",
        "            shift = ord(key[i % len(key)]) - ord('A')\n",
        "            if char.islower():\n",
        "                encrypted_char = chr((ord(char) - ord('a') + shift) % 26 + ord('a'))\n",
        "            else:\n",
        "                encrypted_char = chr((ord(char) - ord('A') + shift) % 26 + ord('A'))\n",
        "            encrypted_text += encrypted_char\n",
        "        else:\n",
        "            # Non-alphabetic characters remain unchanged\n",
        "            encrypted_text += char\n",
        "\n",
        "    return encrypted_text\n",
        "\n",
        "def vigenere_decrypt(ciphertext, key):\n",
        "    \"\"\"\n",
        "    Decrypts ciphertext using the Vigenere cipher with the given key.\n",
        "\n",
        "    Args:\n",
        "    ciphertext (str): The encrypted message.\n",
        "    key (str): The decryption key.\n",
        "\n",
        "    Returns:\n",
        "    str: The decrypted message.\n",
        "    \"\"\"\n",
        "    decrypted_text = ''\n",
        "    key = key.upper()  # Convert key to uppercase for consistency\n",
        "\n",
        "    # Iterate through each character in the ciphertext\n",
        "    for i in range(len(ciphertext)):\n",
        "        char = ciphertext[i]\n",
        "\n",
        "        # Decrypt alphabetic characters only\n",
        "        if char.isalpha():\n",
        "            # Determine shift value for current character\n",
        "            shift = ord(key[i % len(key)]) - ord('A')\n",
        "            if char.islower():\n",
        "                decrypted_char = chr((ord(char) - ord('a') - shift) % 26 + ord('a'))\n",
        "            else:\n",
        "                decrypted_char = chr((ord(char) - ord('A') - shift) % 26 + ord('A'))\n",
        "            decrypted_text += decrypted_char\n",
        "        else:\n",
        "            # Non-alphabetic characters remain unchanged\n",
        "            decrypted_text += char\n",
        "\n",
        "    return decrypted_text\n",
        "\n",
        "# Example usage:\n",
        "plaintext = \"green eggs and ham\"\n",
        "key = \"python\"\n",
        "encrypted_message = vigenere_encrypt(plaintext, key)\n",
        "print(\"Encrypted message:\", encrypted_message)\n",
        "\n",
        "decrypted_message = vigenere_decrypt(encrypted_message, key)\n",
        "print(\"Decrypted message:\", decrypted_message)\n"
      ],
      "metadata": {
        "colab": {
          "base_uri": "https://localhost:8080/"
        },
        "id": "coQ6P2JbnQI5",
        "outputId": "fe9d7d3e-4543-42e7-a159-84776ab33605"
      },
      "execution_count": null,
      "outputs": [
        {
          "output_type": "stream",
          "name": "stdout",
          "text": [
            "Encrypted message: vpxlb tezz ncb ooz\n",
            "Decrypted message: green eggs and ham\n"
          ]
        }
      ]
    },
    {
      "cell_type": "markdown",
      "source": [
        "ChatGPT's summary:\n",
        "\n",
        "* The script defines two functions: vigenere_encrypt() and vigenere_decrypt() for encryption and decryption using the Vigenere cipher respectively.\n",
        "* Both functions take two arguments: plaintext (or ciphertext) and key.\n",
        "\n",
        "The vigenere_encrypt() function iterates through each character in the plaintext message.\n",
        "* For each alphabetic character, it determines the shift value based on the corresponding character in the key.\n",
        "* It then applies the shift to the character and adds the result to the encrypted text.\n",
        "* Non-alphabetic characters remain unchanged.\n",
        "\n",
        "The vigenere_decrypt() function works similarly to vigenere_encrypt(), but it applies the reverse shift to decrypt the message.\n",
        "\n",
        "Both encryption and decryption functions handle cases where the key is shorter than the plaintext/ciphertext by repeating the key characters cyclically.\n",
        "\n",
        "An example usage is provided at the end to demonstrate how to encrypt and decrypt a message using the Vigenere cipher."
      ],
      "metadata": {
        "id": "mIgkv_2HoOMt"
      }
    },
    {
      "source": [
        "# Made by Google Colab AI\n",
        "\"\"\" prompt: Please make a python script for the Vigenere cipher that assumes that the plaintext message and encryption key\n",
        "    consist only of alphabetic characters (case-insensitive), that any non-alphabetic characters are left unchanged, please\n",
        "    comment the code, and also provide a summary of how the script works.\"\"\"\n",
        "\n",
        "def vigenere_cipher(plaintext, key):\n",
        "    \"\"\"\n",
        "    Encrypts a plaintext message using the Vigenere cipher.\n",
        "\n",
        "    Args:\n",
        "        plaintext: The plaintext message to encrypt.\n",
        "        key: The encryption key.\n",
        "\n",
        "    Returns:\n",
        "        The encrypted message.\n",
        "    \"\"\"\n",
        "\n",
        "    # Convert plaintext and key to uppercase\n",
        "    plaintext = plaintext.upper()\n",
        "    key = key.upper()\n",
        "\n",
        "    # Initialize variables\n",
        "    encrypted_text = \"\"\n",
        "    key_index = 0\n",
        "\n",
        "    # Loop through each character in the plaintext\n",
        "    for char in plaintext:\n",
        "        # If the character is not alphabetic, leave it unchanged\n",
        "        if not char.isalpha():\n",
        "            encrypted_text += char\n",
        "            continue\n",
        "\n",
        "        # Get the corresponding character from the key\n",
        "        key_char = key[key_index]\n",
        "\n",
        "        # Calculate the encrypted character\n",
        "        encrypted_char_index = (ord(char) - ord('A') + ord(key_char) - ord('A')) % 26\n",
        "        encrypted_char = chr(encrypted_char_index + ord('A'))\n",
        "\n",
        "        # Add the encrypted character to the encrypted text\n",
        "        encrypted_text += encrypted_char\n",
        "\n",
        "        # Increment the key index\n",
        "        key_index = (key_index + 1) % len(key)\n",
        "\n",
        "    return encrypted_text\n",
        "\n",
        "\n",
        "# Example usage\n",
        "plaintext = \"green eggs and ham\"\n",
        "key = \"python\"\n",
        "encrypted_text = vigenere_cipher(plaintext, key)\n",
        "print(encrypted_text)"
      ],
      "cell_type": "code",
      "metadata": {
        "colab": {
          "base_uri": "https://localhost:8080/"
        },
        "id": "Jl-gFOBNpByt",
        "outputId": "7084048f-3b58-4918-af9c-ed5c0718b3eb"
      },
      "execution_count": null,
      "outputs": [
        {
          "output_type": "stream",
          "name": "stdout",
          "text": [
            "VPXLB RVEL HBQ WYF\n"
          ]
        }
      ]
    },
    {
      "cell_type": "markdown",
      "source": [
        "Google Colab AI's summary:\n",
        "* The vigenere_cipher() function takes two arguments: the plaintext message and the encryption key.\n",
        "* Both the plaintext message and the encryption key are converted to uppercase.\n",
        "* The function loops through each character in the plaintext message.\n",
        "* If the character is not alphabetic, it is left unchanged and added to the encrypted text.\n",
        "* If the character is alphabetic, the corresponding character from the key is used to calculate the encrypted character.\n",
        "* The encrypted character is then added to the encrypted text.\n",
        "* The key index is incremented after each character is processed.\n",
        "* The encrypted text is returned."
      ],
      "metadata": {
        "id": "kPiY0OjgpUPb"
      }
    },
    {
      "cell_type": "code",
      "source": [
        "# Made by Google Gemini\n",
        "\"\"\" prompt: Please make a python script for the Vigenere cipher that assumes that the plaintext message and encryption key\n",
        "    consist only of alphabetic characters (case-insensitive), that any non-alphabetic characters are left unchanged, please\n",
        "    comment the code, and also provide a summary of how the script works.\"\"\"\n",
        "\n",
        "def vigenere_cipher(text, key, mode=\"encrypt\"):\n",
        "  \"\"\"\n",
        "  This function performs the Vigenere cipher encryption or decryption.\n",
        "\n",
        "  Args:\n",
        "      text: The message to encrypt or decrypt (string).\n",
        "      key: The keyword used for encryption/decryption (string).\n",
        "      mode: Either \"encrypt\" or \"decrypt\" (string, default=\"encrypt\").\n",
        "\n",
        "  Returns:\n",
        "      The encrypted or decrypted text (string).\n",
        "  \"\"\"\n",
        "\n",
        "  # Create an uppercase alphabet string\n",
        "  alphabet = \"ABCDEFGHIJKLMNOPQRSTUVWXYZ\"\n",
        "\n",
        "  # Make everything uppercase and remove non-alphabetic characters\n",
        "  processed_text = \"\".join([char.upper() for char in text if char.isalpha()])\n",
        "  processed_key = \"\".join([char.upper() for char in key if char.isalpha()])\n",
        "\n",
        "  # Make the key the same length as the text by repeating it\n",
        "  key_length = len(processed_text)\n",
        "  repeated_key = processed_key * (key_length // len(processed_key)) + processed_key[:key_length % len(processed_key)]\n",
        "\n",
        "  # Encrypt or decrypt based on the mode\n",
        "  cipher_text = \"\"\n",
        "  for i, char in enumerate(processed_text):\n",
        "    key_index = alphabet.index(repeated_key[i])\n",
        "    char_index = alphabet.index(char)\n",
        "    shift = key_index if mode == \"encrypt\" else -key_index\n",
        "\n",
        "    new_index = (char_index + shift) % len(alphabet)\n",
        "    cipher_text += alphabet[new_index]\n",
        "\n",
        "  return cipher_text\n",
        "\n",
        "# Example usage\n",
        "message = \"green eggs and ham\"\n",
        "keyword = \"python\"\n",
        "\n",
        "encrypted_text = vigenere_cipher(message, keyword)\n",
        "decrypted_text = vigenere_cipher(encrypted_text, keyword, mode=\"decrypt\")\n",
        "\n",
        "print(f\"Original message: {message}\")\n",
        "print(f\"Encrypted message: {encrypted_text}\")\n",
        "print(f\"Decrypted message: {decrypted_text}\")\n"
      ],
      "metadata": {
        "colab": {
          "base_uri": "https://localhost:8080/"
        },
        "id": "jKkniK0Hu8qq",
        "outputId": "7d1874d0-8997-4114-e826-f339e3fc8745"
      },
      "execution_count": null,
      "outputs": [
        {
          "output_type": "stream",
          "name": "stdout",
          "text": [
            "Original message: green eggs and ham\n",
            "Encrypted message: VPXLBRVELHBQWYF\n",
            "Decrypted message: GREENEGGSANDHAM\n"
          ]
        }
      ]
    },
    {
      "cell_type": "markdown",
      "source": [
        "Google Gemini summary:\n",
        "\n",
        "The script defines a vigenere_cipher function that takes the message, key, and optional mode (\"encrypt\" or \"decrypt\") as arguments.\n",
        "* It creates an uppercase alphabet string for reference.\n",
        "* The message and key are converted to uppercase and have non-alphabetic characters removed.\n",
        "* The key is repeated to match the length of the message.\n",
        "* The function iterates through each character in the processed text:\n",
        "* It finds the index of the corresponding character in the alphabet and the repeated key.\n",
        "* Depending on the mode (\"encrypt\" or \"decrypt\"), it shifts the character index by the key index.\n",
        "* The shifted index is wrapped around the alphabet length to avoid going out of bounds.\n",
        "* The new character at the shifted index is added to the cipher text.\n",
        "* Finally, the encrypted or decrypted text is returned.\n",
        "The example usage demonstrates how to encrypt and decrypt messages with the provided functions."
      ],
      "metadata": {
        "id": "y6MAQ3mXvNHA"
      }
    },
    {
      "cell_type": "code",
      "source": [
        "# Made by Mistral Le Chat\n",
        "\"\"\" prompt: Please make a python script for the Vigenere cipher that assumes that the plaintext message and encryption key\n",
        "    consist only of alphabetic characters (case-insensitive), that any non-alphabetic characters are left unchanged, please\n",
        "    comment the code, and also provide a summary of how the script works.\"\"\"\n",
        "\n",
        "\"\"\"Sure, here's a simple Python script that implements the Vigenere cipher. The Vigenere cipher is a method of encrypting alphabetic\n",
        "   text by using a series of interwoven Caesar ciphers, based on the letters of a keyword.\n",
        "   It's a simple form of polyalphabetic substitution.\"\"\"\n",
        "\n",
        "def vigenere_cipher(plaintext, key):\n",
        "    # Convert the plaintext and key to uppercase for case-insensitive processing\n",
        "    plaintext = plaintext.upper()\n",
        "    key = key.upper()\n",
        "\n",
        "    # Create a list to store the encrypted characters\n",
        "    encrypted_chars = []\n",
        "\n",
        "    # Iterate over each character in the plaintext\n",
        "    for i in range(len(plaintext)):\n",
        "        # If the character is alphabetic, encrypt it\n",
        "        if plaintext[i].isalpha():\n",
        "            # Calculate the shift based on the position in the key and the character's position in the alphabet\n",
        "            shift = (ord(key[i % len(key)]) - ord('A')) % 26\n",
        "            # Encrypt the character and append it to the list\n",
        "            encrypted_chars.append(chr(((ord(plaintext[i]) - ord('A') + shift) % 26) + ord('A')))\n",
        "        # If the character is not alphabetic, leave it unchanged\n",
        "        else:\n",
        "            encrypted_chars.append(plaintext[i])\n",
        "\n",
        "    # Convert the list of encrypted characters back into a string and return it\n",
        "    return ''.join(encrypted_chars)\n",
        "\n",
        "# Test the function\n",
        "plaintext = \"green eggs and ham\"\n",
        "key = \"python\"\n",
        "print(\"Plaintext: \", plaintext)\n",
        "print(\"Key: \", key)\n",
        "print(\"Encrypted text: \", vigenere_cipher(plaintext, key))\n"
      ],
      "metadata": {
        "colab": {
          "base_uri": "https://localhost:8080/"
        },
        "id": "JkQEJxFOp7ho",
        "outputId": "6b078d76-79d3-4a5a-d9ee-494e33f8aad7"
      },
      "execution_count": null,
      "outputs": [
        {
          "output_type": "stream",
          "name": "stdout",
          "text": [
            "Plaintext:  green eggs and ham\n",
            "Key:  python\n",
            "Encrypted text:  VPXLB TEZZ NCB OOZ\n"
          ]
        }
      ]
    },
    {
      "cell_type": "markdown",
      "source": [
        "Mistral Le Chat's Summary\n",
        "\n",
        "This script works by iterating over each character in the plaintext. If the character is alphabetic, it calculates a shift value based on the position of the current key character in the alphabet. It then applies this shift to the plaintext character to encrypt it, using the Caesar cipher principle. If the character is not alphabetic, it leaves it unchanged. The encrypted characters are stored in a list, which is then converted back into a string and returned."
      ],
      "metadata": {
        "id": "U6RqPS4Hqmlk"
      }
    }
  ]
}
